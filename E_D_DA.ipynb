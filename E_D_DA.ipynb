{
 "cells": [
  {
   "cell_type": "markdown",
   "metadata": {},
   "source": [
    "# IMPORTS E CONFIGURAÇÕES"
   ]
  },
  {
   "cell_type": "code",
   "execution_count": 1,
   "metadata": {},
   "outputs": [],
   "source": [
    "# Import de bibliotecas\n",
    "from zipfile import ZipFile  # Leitura de arquivos .zipgit \n",
    "import requests  # Requisição web\n",
    "from io import BytesIO  # Leitura de arquivo em bytes\n",
    "import numpy as np\n",
    "import pandas as pd  # Manipulação de dados\n",
    "\n",
    "\n",
    "\n",
    "# Configurações das bibliotecas\n",
    "pd.options.display.max_columns = None\n",
    "pd.options.display.max_colwidth = None"
   ]
  },
  {
   "cell_type": "markdown",
   "metadata": {},
   "source": [
    "# EXTRAÇÃO DOS DADOS"
   ]
  },
  {
   "cell_type": "code",
   "execution_count": 2,
   "metadata": {},
   "outputs": [],
   "source": [
    "# Extrair o arquivo excel da pasta ZIP diretamente do site de download\n",
    "url = 'https://www.b3.com.br/data/files/57/E6/AA/A1/68C7781064456178AC094EA8/ClassifSetorial.zip'\n",
    "response = requests.get(url=url)\n",
    "with ZipFile(BytesIO(response.content)) as fold:\n",
    "    file = fold.namelist()[0]\n",
    "    with fold.open(file) as file:\n",
    "        df = pd.read_excel(io=file, skiprows=6)"
   ]
  },
  {
   "cell_type": "markdown",
   "metadata": {},
   "source": [
    "# TRANSFORMAÇÃO DOS DADOS"
   ]
  },
  {
   "cell_type": "code",
   "execution_count": 3,
   "metadata": {},
   "outputs": [],
   "source": [
    "# Renomeando as colunas necessárias\n",
    "df = df.rename(columns={'SEGMENTO': 'NOME', 'LISTAGEM': 'CÓDIGO', 'Unnamed: 4': 'LISTAGEM'})[1:-18]\n",
    "# Preenchendo valores nulos da coluna SEGMENTO com os valores da coluna NOME onde a coluna CÓDIGO FOR vazia\n",
    "df.loc[(df['CÓDIGO'].isnull()), 'SEGMENTO'] = df.loc[(df['CÓDIGO'].isnull()), 'NOME']\n",
    "# Removendo linhas com todos as variáveis nulas\n",
    "df = df.dropna(how='all')\n",
    "# Preenchendo valores nulos da coluna LISTAGEM com 'Sem classificação'\n",
    "df.LISTAGEM = df.LISTAGEM.fillna(value='Sem classificação')\n",
    "# Preenchendo valores nulos com base nas células anteriores\n",
    "df['SETOR ECONÔMICO'].ffill(inplace=True)\n",
    "df['SUBSETOR'].ffill(inplace=True)\n",
    "df['SEGMENTO'].ffill(inplace=True)\n",
    "# Removendo valores inconsistentes\n",
    "df = df.loc[(df.CÓDIGO!='CÓDIGO') & (df.CÓDIGO!='LISTAGEM') & (~df.CÓDIGO.isnull())]\n",
    "# Formatando todos os dados\n",
    "df = df.apply(lambda x: x.str.strip() if x.dtype == 'object' else x)\n",
    "# Alterando tipo das variáveis se necessário\n",
    "df = df.apply(lambda x: x.astype('category') if (x.dtype == 'O') and (x.name not in ['CÓDIGO', 'NOME']) else x)\n",
    "# Reordenando colunas\n",
    "df = df[['CÓDIGO', 'NOME', 'SETOR ECONÔMICO', 'SUBSETOR', 'SEGMENTO', 'LISTAGEM']]\n",
    "# Reiniciando indexs\n",
    "df = df.reset_index(drop=True)\n",
    "# Criando arquivo parquet para acessos posteriores\n",
    "df.to_parquet(path='./tickers_por_setor.parquet')"
   ]
  },
  {
   "cell_type": "code",
   "execution_count": 4,
   "metadata": {},
   "outputs": [
    {
     "data": {
      "text/html": [
       "<div>\n",
       "<style scoped>\n",
       "    .dataframe tbody tr th:only-of-type {\n",
       "        vertical-align: middle;\n",
       "    }\n",
       "\n",
       "    .dataframe tbody tr th {\n",
       "        vertical-align: top;\n",
       "    }\n",
       "\n",
       "    .dataframe thead th {\n",
       "        text-align: right;\n",
       "    }\n",
       "</style>\n",
       "<table border=\"1\" class=\"dataframe\">\n",
       "  <thead>\n",
       "    <tr style=\"text-align: right;\">\n",
       "      <th></th>\n",
       "      <th>CÓDIGO</th>\n",
       "      <th>NOME</th>\n",
       "      <th>SETOR ECONÔMICO</th>\n",
       "      <th>SUBSETOR</th>\n",
       "      <th>SEGMENTO</th>\n",
       "      <th>LISTAGEM</th>\n",
       "    </tr>\n",
       "  </thead>\n",
       "  <tbody>\n",
       "    <tr>\n",
       "      <th>0</th>\n",
       "      <td>RRRP</td>\n",
       "      <td>3R PETROLEUM</td>\n",
       "      <td>Petróleo, Gás e Biocombustíveis</td>\n",
       "      <td>Petróleo, Gás e Biocombustíveis</td>\n",
       "      <td>Exploração, Refino e Distribuição</td>\n",
       "      <td>NM</td>\n",
       "    </tr>\n",
       "    <tr>\n",
       "      <th>1</th>\n",
       "      <td>CSAN</td>\n",
       "      <td>COSAN</td>\n",
       "      <td>Petróleo, Gás e Biocombustíveis</td>\n",
       "      <td>Petróleo, Gás e Biocombustíveis</td>\n",
       "      <td>Exploração, Refino e Distribuição</td>\n",
       "      <td>NM</td>\n",
       "    </tr>\n",
       "    <tr>\n",
       "      <th>2</th>\n",
       "      <td>ENAT</td>\n",
       "      <td>ENAUTA PART</td>\n",
       "      <td>Petróleo, Gás e Biocombustíveis</td>\n",
       "      <td>Petróleo, Gás e Biocombustíveis</td>\n",
       "      <td>Exploração, Refino e Distribuição</td>\n",
       "      <td>NM</td>\n",
       "    </tr>\n",
       "    <tr>\n",
       "      <th>3</th>\n",
       "      <td>RPMG</td>\n",
       "      <td>PET MANGUINH</td>\n",
       "      <td>Petróleo, Gás e Biocombustíveis</td>\n",
       "      <td>Petróleo, Gás e Biocombustíveis</td>\n",
       "      <td>Exploração, Refino e Distribuição</td>\n",
       "      <td>Sem classificação</td>\n",
       "    </tr>\n",
       "    <tr>\n",
       "      <th>4</th>\n",
       "      <td>PETR</td>\n",
       "      <td>PETROBRAS</td>\n",
       "      <td>Petróleo, Gás e Biocombustíveis</td>\n",
       "      <td>Petróleo, Gás e Biocombustíveis</td>\n",
       "      <td>Exploração, Refino e Distribuição</td>\n",
       "      <td>N2</td>\n",
       "    </tr>\n",
       "    <tr>\n",
       "      <th>...</th>\n",
       "      <td>...</td>\n",
       "      <td>...</td>\n",
       "      <td>...</td>\n",
       "      <td>...</td>\n",
       "      <td>...</td>\n",
       "      <td>...</td>\n",
       "    </tr>\n",
       "    <tr>\n",
       "      <th>427</th>\n",
       "      <td>PPAR</td>\n",
       "      <td>POLPAR</td>\n",
       "      <td>Outros</td>\n",
       "      <td>Outros</td>\n",
       "      <td>Outros</td>\n",
       "      <td>Sem classificação</td>\n",
       "    </tr>\n",
       "    <tr>\n",
       "      <th>428</th>\n",
       "      <td>PRPT</td>\n",
       "      <td>PROMPT PART</td>\n",
       "      <td>Outros</td>\n",
       "      <td>Outros</td>\n",
       "      <td>Outros</td>\n",
       "      <td>Sem classificação</td>\n",
       "    </tr>\n",
       "    <tr>\n",
       "      <th>429</th>\n",
       "      <td>OPSE</td>\n",
       "      <td>SUDESTE S/A</td>\n",
       "      <td>Outros</td>\n",
       "      <td>Outros</td>\n",
       "      <td>Outros</td>\n",
       "      <td>Sem classificação</td>\n",
       "    </tr>\n",
       "    <tr>\n",
       "      <th>430</th>\n",
       "      <td>OPTS</td>\n",
       "      <td>SUL 116 PART</td>\n",
       "      <td>Outros</td>\n",
       "      <td>Outros</td>\n",
       "      <td>Outros</td>\n",
       "      <td>Sem classificação</td>\n",
       "    </tr>\n",
       "    <tr>\n",
       "      <th>431</th>\n",
       "      <td>YBRA</td>\n",
       "      <td>YBYRA S/A</td>\n",
       "      <td>Outros</td>\n",
       "      <td>Outros</td>\n",
       "      <td>Outros</td>\n",
       "      <td>Sem classificação</td>\n",
       "    </tr>\n",
       "  </tbody>\n",
       "</table>\n",
       "<p>432 rows × 6 columns</p>\n",
       "</div>"
      ],
      "text/plain": [
       "    CÓDIGO          NOME                  SETOR ECONÔMICO  \\\n",
       "0     RRRP  3R PETROLEUM  Petróleo, Gás e Biocombustíveis   \n",
       "1     CSAN         COSAN  Petróleo, Gás e Biocombustíveis   \n",
       "2     ENAT   ENAUTA PART  Petróleo, Gás e Biocombustíveis   \n",
       "3     RPMG  PET MANGUINH  Petróleo, Gás e Biocombustíveis   \n",
       "4     PETR     PETROBRAS  Petróleo, Gás e Biocombustíveis   \n",
       "..     ...           ...                              ...   \n",
       "427   PPAR        POLPAR                           Outros   \n",
       "428   PRPT   PROMPT PART                           Outros   \n",
       "429   OPSE   SUDESTE S/A                           Outros   \n",
       "430   OPTS  SUL 116 PART                           Outros   \n",
       "431   YBRA     YBYRA S/A                           Outros   \n",
       "\n",
       "                            SUBSETOR                           SEGMENTO  \\\n",
       "0    Petróleo, Gás e Biocombustíveis  Exploração, Refino e Distribuição   \n",
       "1    Petróleo, Gás e Biocombustíveis  Exploração, Refino e Distribuição   \n",
       "2    Petróleo, Gás e Biocombustíveis  Exploração, Refino e Distribuição   \n",
       "3    Petróleo, Gás e Biocombustíveis  Exploração, Refino e Distribuição   \n",
       "4    Petróleo, Gás e Biocombustíveis  Exploração, Refino e Distribuição   \n",
       "..                               ...                                ...   \n",
       "427                           Outros                             Outros   \n",
       "428                           Outros                             Outros   \n",
       "429                           Outros                             Outros   \n",
       "430                           Outros                             Outros   \n",
       "431                           Outros                             Outros   \n",
       "\n",
       "              LISTAGEM  \n",
       "0                   NM  \n",
       "1                   NM  \n",
       "2                   NM  \n",
       "3    Sem classificação  \n",
       "4                   N2  \n",
       "..                 ...  \n",
       "427  Sem classificação  \n",
       "428  Sem classificação  \n",
       "429  Sem classificação  \n",
       "430  Sem classificação  \n",
       "431  Sem classificação  \n",
       "\n",
       "[432 rows x 6 columns]"
      ]
     },
     "metadata": {},
     "output_type": "display_data"
    }
   ],
   "source": [
    "display(df)"
   ]
  },
  {
   "cell_type": "markdown",
   "metadata": {},
   "source": [
    "# ANÁLISE EXPLORATÓRIA"
   ]
  },
  {
   "cell_type": "code",
   "execution_count": 5,
   "metadata": {},
   "outputs": [
    {
     "name": "stdout",
     "output_type": "stream",
     "text": [
      "<class 'pandas.core.frame.DataFrame'>\n",
      "RangeIndex: 432 entries, 0 to 431\n",
      "Data columns (total 6 columns):\n",
      " #   Column           Non-Null Count  Dtype   \n",
      "---  ------           --------------  -----   \n",
      " 0   CÓDIGO           432 non-null    object  \n",
      " 1   NOME             432 non-null    object  \n",
      " 2   SETOR ECONÔMICO  432 non-null    category\n",
      " 3   SUBSETOR         432 non-null    category\n",
      " 4   SEGMENTO         432 non-null    category\n",
      " 5   LISTAGEM         432 non-null    category\n",
      "dtypes: category(4), object(2)\n",
      "memory usage: 13.4+ KB\n"
     ]
    }
   ],
   "source": [
    "df.info()"
   ]
  },
  {
   "cell_type": "code",
   "execution_count": 6,
   "metadata": {},
   "outputs": [
    {
     "data": {
      "text/plain": [
       "Index               132\n",
       "CÓDIGO             3456\n",
       "NOME               3456\n",
       "SETOR ECONÔMICO     820\n",
       "SUBSETOR           1856\n",
       "SEGMENTO           3200\n",
       "LISTAGEM            804\n",
       "dtype: int64"
      ]
     },
     "execution_count": 6,
     "metadata": {},
     "output_type": "execute_result"
    }
   ],
   "source": [
    "df.memory_usage()"
   ]
  },
  {
   "cell_type": "markdown",
   "metadata": {},
   "source": [
    "# ANÁLISE DESCRITIVA"
   ]
  },
  {
   "cell_type": "code",
   "execution_count": null,
   "metadata": {},
   "outputs": [],
   "source": []
  }
 ],
 "metadata": {
  "kernelspec": {
   "display_name": "base",
   "language": "python",
   "name": "python3"
  },
  "language_info": {
   "codemirror_mode": {
    "name": "ipython",
    "version": 3
   },
   "file_extension": ".py",
   "mimetype": "text/x-python",
   "name": "python",
   "nbconvert_exporter": "python",
   "pygments_lexer": "ipython3",
   "version": "3.11.5"
  }
 },
 "nbformat": 4,
 "nbformat_minor": 2
}
