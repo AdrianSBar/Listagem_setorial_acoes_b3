{
 "cells": [
  {
   "cell_type": "markdown",
   "metadata": {},
   "source": [
    "# QUESTIONÁRIO\n",
    "- Quais as variáveis mais relevantes para o estudo?\n",
    "- Qual a frequência absoluta/relativa/acumulada das empresas por setor, subsetor e segmento?\n",
    "- Como estão distribuídas as empresas?\n",
    "- Qual a frequência absoluta/relativa de papéis por tipo de listagem?\n",
    "\n",
    "Para uma visualização mais ampla, apresenta-se um gráfico setorial, nele foram condensadas apenas as informações dos setores e segmentos para uma maior granularidade da frequência absoluta relativa a cada variável."
   ]
  },
  {
   "cell_type": "markdown",
   "metadata": {},
   "source": [
    "# IMPORTS E CONFIGURAÇÕES"
   ]
  },
  {
   "cell_type": "code",
   "execution_count": 5,
   "metadata": {},
   "outputs": [
    {
     "name": "stdout",
     "output_type": "stream",
     "text": [
      "28/02/2024\n"
     ]
    }
   ],
   "source": [
    "# Import de bibliotecas\n",
    "from zipfile import ZipFile  # Leitura de arquivos .zipgit \n",
    "import requests  # Requisição web\n",
    "from io import BytesIO  # Leitura de arquivo em bytes\n",
    "import numpy as np  # Manipulação de dados matriciais\n",
    "import pandas as pd  # Manipulação de dados\n",
    "from datetime import date\n",
    "import plotly.express as px  # Visualização gráfica\n",
    "import plotly.graph_objects as go  # Visualização gráfica mais avançada\n",
    "\n",
    "\n",
    "\n",
    "# Configurações das bibliotecas\n",
    "pd.options.display.max_columns = None\n",
    "pd.options.display.max_rows = None\n",
    "pd.options.display.max_colwidth = None\n",
    "pd.options.plotting.backend = 'plotly'\n",
    "\n",
    "# Informações\n",
    "print(date.today().strftime(format=f'%d/%m/%Y'))"
   ]
  },
  {
   "cell_type": "markdown",
   "metadata": {},
   "source": [
    "# EXTRAÇÃO DOS DADOS"
   ]
  },
  {
   "cell_type": "code",
   "execution_count": 2,
   "metadata": {},
   "outputs": [],
   "source": [
    "# Extrair o arquivo excel da pasta ZIP diretamente do site de download\n",
    "url = 'https://www.b3.com.br/data/files/57/E6/AA/A1/68C7781064456178AC094EA8/ClassifSetorial.zip'\n",
    "response = requests.get(url=url)\n",
    "with ZipFile(BytesIO(response.content)) as fold:\n",
    "    file = fold.namelist()[0]\n",
    "    with fold.open(file) as file:\n",
    "        df = pd.read_excel(io=file, skiprows=6)"
   ]
  },
  {
   "cell_type": "markdown",
   "metadata": {},
   "source": [
    "# TRANSFORMAÇÃO DOS DADOS"
   ]
  },
  {
   "cell_type": "code",
   "execution_count": 3,
   "metadata": {},
   "outputs": [],
   "source": [
    "# Renomeando as colunas necessárias\n",
    "df = df.rename(columns={'SETOR ECONÔMICO': 'SETOR', 'SEGMENTO': 'NOME', 'LISTAGEM': 'CÓDIGO', 'Unnamed: 4': 'LISTAGEM'})[1:-18]\n",
    "# Preenchendo valores nulos da coluna SEGMENTO com os valores da coluna NOME onde a coluna CÓDIGO FOR vazia\n",
    "df.loc[(df['CÓDIGO'].isnull()), 'SEGMENTO'] = df.loc[(df['CÓDIGO'].isnull()), 'NOME']\n",
    "# Removendo linhas com todos as variáveis nulas\n",
    "df = df.dropna(how='all')\n",
    "# Preenchendo valores nulos da coluna LISTAGEM com 'Sem classificação'\n",
    "df.LISTAGEM = df.LISTAGEM.fillna(value='AUSENTE')\n",
    "# Preenchendo valores nulos com base nas células anteriores\n",
    "df['SETOR'].ffill(inplace=True)\n",
    "df['SUBSETOR'].ffill(inplace=True)\n",
    "df['SEGMENTO'].ffill(inplace=True)\n",
    "# Removendo valores inconsistentes\n",
    "df = df.loc[(df.CÓDIGO!='CÓDIGO') & (df.CÓDIGO!='LISTAGEM') & (~df.CÓDIGO.isnull())]\n",
    "# Formatando todos os dados\n",
    "df = df.apply(lambda x: x.str.strip() if x.dtype == 'object' else x)\n",
    "# Alterando tipo das variáveis se necessário\n",
    "df = df.apply(lambda x: x.astype('category') if (x.dtype == 'O') and (x.name not in ['CÓDIGO', 'NOME']) else x)\n",
    "# Reordenando colunas\n",
    "df = df[['CÓDIGO', 'NOME', 'SETOR', 'SUBSETOR', 'SEGMENTO', 'LISTAGEM']]\n",
    "# Reiniciando indexs\n",
    "df = df.reset_index(drop=True)\n",
    "# Criando arquivo parquet para acessos posteriores\n",
    "df.to_parquet(path='./tickers_por_setor.parquet')"
   ]
  },
  {
   "cell_type": "markdown",
   "metadata": {},
   "source": [
    "# ANÁLISE EXPLORATÓRIA/DESCRITIVA"
   ]
  },
  {
   "cell_type": "markdown",
   "metadata": {},
   "source": [
    "- Quais as variáveis mais relevantes para o estudo?"
   ]
  },
  {
   "cell_type": "code",
   "execution_count": 4,
   "metadata": {},
   "outputs": [
    {
     "name": "stdout",
     "output_type": "stream",
     "text": [
      "<class 'pandas.core.frame.DataFrame'>\n",
      "RangeIndex: 432 entries, 0 to 431\n",
      "Data columns (total 6 columns):\n",
      " #   Column    Non-Null Count  Dtype   \n",
      "---  ------    --------------  -----   \n",
      " 0   CÓDIGO    432 non-null    object  \n",
      " 1   NOME      432 non-null    object  \n",
      " 2   SETOR     432 non-null    category\n",
      " 3   SUBSETOR  432 non-null    category\n",
      " 4   SEGMENTO  432 non-null    category\n",
      " 5   LISTAGEM  432 non-null    category\n",
      "dtypes: category(4), object(2)\n",
      "memory usage: 13.4+ KB\n"
     ]
    }
   ],
   "source": [
    "df.info()"
   ]
  },
  {
   "cell_type": "code",
   "execution_count": 5,
   "metadata": {},
   "outputs": [
    {
     "data": {
      "text/plain": [
       "Index        132\n",
       "CÓDIGO      3456\n",
       "NOME        3456\n",
       "SETOR        820\n",
       "SUBSETOR    1856\n",
       "SEGMENTO    3200\n",
       "LISTAGEM     804\n",
       "dtype: int64"
      ]
     },
     "execution_count": 5,
     "metadata": {},
     "output_type": "execute_result"
    }
   ],
   "source": [
    "df.memory_usage()"
   ]
  },
  {
   "cell_type": "markdown",
   "metadata": {},
   "source": [
    "- R: \n",
    "Em função a uma análise descritiva dos dados, todas as variáveis são categóricas nominais significativas, porém, as que podem ser sumarizadas, são \"SETOR\", \"SUBSETOR\", \"SEGMENTO\" e \"LISTAGEM\", já as demais, tratam-se de nomenclaturas individuais."
   ]
  },
  {
   "cell_type": "markdown",
   "metadata": {},
   "source": [
    "- Qual a frequência absoluta/relativa/acumulada dos setores?"
   ]
  },
  {
   "cell_type": "code",
   "execution_count": 6,
   "metadata": {},
   "outputs": [
    {
     "name": "stderr",
     "output_type": "stream",
     "text": [
      "c:\\Users\\adria\\anaconda3\\Lib\\site-packages\\plotly\\express\\_core.py:1958: FutureWarning: The default of observed=False is deprecated and will be changed to True in a future version of pandas. Pass observed=False to retain current behavior or observed=True to adopt the future default and silence this warning.\n",
      "  grouped = df.groupby(required_grouper, sort=False)  # skip one_group groupers\n"
     ]
    },
    {
     "data": {
      "application/vnd.plotly.v1+json": {
       "config": {
        "plotlyServerURL": "https://plot.ly"
       },
       "data": [
        {
         "alignmentgroup": "True",
         "legendgroup": "Consumo Cíclico",
         "marker": {
          "color": "#636efa",
          "pattern": {
           "shape": ""
          }
         },
         "name": "Consumo Cíclico",
         "offsetgroup": "Consumo Cíclico",
         "orientation": "h",
         "showlegend": true,
         "textposition": "auto",
         "texttemplate": "%{x}",
         "type": "bar",
         "x": [
          91
         ],
         "xaxis": "x",
         "y": [
          "Consumo Cíclico"
         ],
         "yaxis": "y"
        },
        {
         "alignmentgroup": "True",
         "legendgroup": "Bens Industriais",
         "marker": {
          "color": "#EF553B",
          "pattern": {
           "shape": ""
          }
         },
         "name": "Bens Industriais",
         "offsetgroup": "Bens Industriais",
         "orientation": "h",
         "showlegend": true,
         "textposition": "auto",
         "texttemplate": "%{x}",
         "type": "bar",
         "x": [
          70
         ],
         "xaxis": "x",
         "y": [
          "Bens Industriais"
         ],
         "yaxis": "y"
        },
        {
         "alignmentgroup": "True",
         "legendgroup": "Financeiro",
         "marker": {
          "color": "#00cc96",
          "pattern": {
           "shape": ""
          }
         },
         "name": "Financeiro",
         "offsetgroup": "Financeiro",
         "orientation": "h",
         "showlegend": true,
         "textposition": "auto",
         "texttemplate": "%{x}",
         "type": "bar",
         "x": [
          69
         ],
         "xaxis": "x",
         "y": [
          "Financeiro"
         ],
         "yaxis": "y"
        },
        {
         "alignmentgroup": "True",
         "legendgroup": "Utilidade Pública",
         "marker": {
          "color": "#ab63fa",
          "pattern": {
           "shape": ""
          }
         },
         "name": "Utilidade Pública",
         "offsetgroup": "Utilidade Pública",
         "orientation": "h",
         "showlegend": true,
         "textposition": "auto",
         "texttemplate": "%{x}",
         "type": "bar",
         "x": [
          65
         ],
         "xaxis": "x",
         "y": [
          "Utilidade Pública"
         ],
         "yaxis": "y"
        },
        {
         "alignmentgroup": "True",
         "legendgroup": "Consumo não Cíclico",
         "marker": {
          "color": "#FFA15A",
          "pattern": {
           "shape": ""
          }
         },
         "name": "Consumo não Cíclico",
         "offsetgroup": "Consumo não Cíclico",
         "orientation": "h",
         "showlegend": true,
         "textposition": "auto",
         "texttemplate": "%{x}",
         "type": "bar",
         "x": [
          32
         ],
         "xaxis": "x",
         "y": [
          "Consumo não Cíclico"
         ],
         "yaxis": "y"
        },
        {
         "alignmentgroup": "True",
         "legendgroup": "Materiais Básicos",
         "marker": {
          "color": "#19d3f3",
          "pattern": {
           "shape": ""
          }
         },
         "name": "Materiais Básicos",
         "offsetgroup": "Materiais Básicos",
         "orientation": "h",
         "showlegend": true,
         "textposition": "auto",
         "texttemplate": "%{x}",
         "type": "bar",
         "x": [
          31
         ],
         "xaxis": "x",
         "y": [
          "Materiais Básicos"
         ],
         "yaxis": "y"
        },
        {
         "alignmentgroup": "True",
         "legendgroup": "Saúde",
         "marker": {
          "color": "#FF6692",
          "pattern": {
           "shape": ""
          }
         },
         "name": "Saúde",
         "offsetgroup": "Saúde",
         "orientation": "h",
         "showlegend": true,
         "textposition": "auto",
         "texttemplate": "%{x}",
         "type": "bar",
         "x": [
          23
         ],
         "xaxis": "x",
         "y": [
          "Saúde"
         ],
         "yaxis": "y"
        },
        {
         "alignmentgroup": "True",
         "legendgroup": "Tecnologia da Informação",
         "marker": {
          "color": "#B6E880",
          "pattern": {
           "shape": ""
          }
         },
         "name": "Tecnologia da Informação",
         "offsetgroup": "Tecnologia da Informação",
         "orientation": "h",
         "showlegend": true,
         "textposition": "auto",
         "texttemplate": "%{x}",
         "type": "bar",
         "x": [
          16
         ],
         "xaxis": "x",
         "y": [
          "Tecnologia da Informação"
         ],
         "yaxis": "y"
        },
        {
         "alignmentgroup": "True",
         "legendgroup": "Outros",
         "marker": {
          "color": "#FF97FF",
          "pattern": {
           "shape": ""
          }
         },
         "name": "Outros",
         "offsetgroup": "Outros",
         "orientation": "h",
         "showlegend": true,
         "textposition": "auto",
         "texttemplate": "%{x}",
         "type": "bar",
         "x": [
          13
         ],
         "xaxis": "x",
         "y": [
          "Outros"
         ],
         "yaxis": "y"
        },
        {
         "alignmentgroup": "True",
         "legendgroup": "Petróleo, Gás e Biocombustíveis",
         "marker": {
          "color": "#FECB52",
          "pattern": {
           "shape": ""
          }
         },
         "name": "Petróleo, Gás e Biocombustíveis",
         "offsetgroup": "Petróleo, Gás e Biocombustíveis",
         "orientation": "h",
         "showlegend": true,
         "textposition": "auto",
         "texttemplate": "%{x}",
         "type": "bar",
         "x": [
          13
         ],
         "xaxis": "x",
         "y": [
          "Petróleo, Gás e Biocombustíveis"
         ],
         "yaxis": "y"
        },
        {
         "alignmentgroup": "True",
         "legendgroup": "Comunicações",
         "marker": {
          "color": "#636efa",
          "pattern": {
           "shape": ""
          }
         },
         "name": "Comunicações",
         "offsetgroup": "Comunicações",
         "orientation": "h",
         "showlegend": true,
         "textposition": "auto",
         "texttemplate": "%{x}",
         "type": "bar",
         "x": [
          9
         ],
         "xaxis": "x",
         "y": [
          "Comunicações"
         ],
         "yaxis": "y"
        }
       ],
       "layout": {
        "barmode": "relative",
        "hovermode": "y",
        "legend": {
         "title": {
          "text": "SETOR"
         },
         "tracegroupgap": 0
        },
        "showlegend": false,
        "template": {
         "data": {
          "bar": [
           {
            "error_x": {
             "color": "#f2f5fa"
            },
            "error_y": {
             "color": "#f2f5fa"
            },
            "marker": {
             "line": {
              "color": "rgb(17,17,17)",
              "width": 0.5
             },
             "pattern": {
              "fillmode": "overlay",
              "size": 10,
              "solidity": 0.2
             }
            },
            "type": "bar"
           }
          ],
          "barpolar": [
           {
            "marker": {
             "line": {
              "color": "rgb(17,17,17)",
              "width": 0.5
             },
             "pattern": {
              "fillmode": "overlay",
              "size": 10,
              "solidity": 0.2
             }
            },
            "type": "barpolar"
           }
          ],
          "carpet": [
           {
            "aaxis": {
             "endlinecolor": "#A2B1C6",
             "gridcolor": "#506784",
             "linecolor": "#506784",
             "minorgridcolor": "#506784",
             "startlinecolor": "#A2B1C6"
            },
            "baxis": {
             "endlinecolor": "#A2B1C6",
             "gridcolor": "#506784",
             "linecolor": "#506784",
             "minorgridcolor": "#506784",
             "startlinecolor": "#A2B1C6"
            },
            "type": "carpet"
           }
          ],
          "choropleth": [
           {
            "colorbar": {
             "outlinewidth": 0,
             "ticks": ""
            },
            "type": "choropleth"
           }
          ],
          "contour": [
           {
            "colorbar": {
             "outlinewidth": 0,
             "ticks": ""
            },
            "colorscale": [
             [
              0,
              "#0d0887"
             ],
             [
              0.1111111111111111,
              "#46039f"
             ],
             [
              0.2222222222222222,
              "#7201a8"
             ],
             [
              0.3333333333333333,
              "#9c179e"
             ],
             [
              0.4444444444444444,
              "#bd3786"
             ],
             [
              0.5555555555555556,
              "#d8576b"
             ],
             [
              0.6666666666666666,
              "#ed7953"
             ],
             [
              0.7777777777777778,
              "#fb9f3a"
             ],
             [
              0.8888888888888888,
              "#fdca26"
             ],
             [
              1,
              "#f0f921"
             ]
            ],
            "type": "contour"
           }
          ],
          "contourcarpet": [
           {
            "colorbar": {
             "outlinewidth": 0,
             "ticks": ""
            },
            "type": "contourcarpet"
           }
          ],
          "heatmap": [
           {
            "colorbar": {
             "outlinewidth": 0,
             "ticks": ""
            },
            "colorscale": [
             [
              0,
              "#0d0887"
             ],
             [
              0.1111111111111111,
              "#46039f"
             ],
             [
              0.2222222222222222,
              "#7201a8"
             ],
             [
              0.3333333333333333,
              "#9c179e"
             ],
             [
              0.4444444444444444,
              "#bd3786"
             ],
             [
              0.5555555555555556,
              "#d8576b"
             ],
             [
              0.6666666666666666,
              "#ed7953"
             ],
             [
              0.7777777777777778,
              "#fb9f3a"
             ],
             [
              0.8888888888888888,
              "#fdca26"
             ],
             [
              1,
              "#f0f921"
             ]
            ],
            "type": "heatmap"
           }
          ],
          "heatmapgl": [
           {
            "colorbar": {
             "outlinewidth": 0,
             "ticks": ""
            },
            "colorscale": [
             [
              0,
              "#0d0887"
             ],
             [
              0.1111111111111111,
              "#46039f"
             ],
             [
              0.2222222222222222,
              "#7201a8"
             ],
             [
              0.3333333333333333,
              "#9c179e"
             ],
             [
              0.4444444444444444,
              "#bd3786"
             ],
             [
              0.5555555555555556,
              "#d8576b"
             ],
             [
              0.6666666666666666,
              "#ed7953"
             ],
             [
              0.7777777777777778,
              "#fb9f3a"
             ],
             [
              0.8888888888888888,
              "#fdca26"
             ],
             [
              1,
              "#f0f921"
             ]
            ],
            "type": "heatmapgl"
           }
          ],
          "histogram": [
           {
            "marker": {
             "pattern": {
              "fillmode": "overlay",
              "size": 10,
              "solidity": 0.2
             }
            },
            "type": "histogram"
           }
          ],
          "histogram2d": [
           {
            "colorbar": {
             "outlinewidth": 0,
             "ticks": ""
            },
            "colorscale": [
             [
              0,
              "#0d0887"
             ],
             [
              0.1111111111111111,
              "#46039f"
             ],
             [
              0.2222222222222222,
              "#7201a8"
             ],
             [
              0.3333333333333333,
              "#9c179e"
             ],
             [
              0.4444444444444444,
              "#bd3786"
             ],
             [
              0.5555555555555556,
              "#d8576b"
             ],
             [
              0.6666666666666666,
              "#ed7953"
             ],
             [
              0.7777777777777778,
              "#fb9f3a"
             ],
             [
              0.8888888888888888,
              "#fdca26"
             ],
             [
              1,
              "#f0f921"
             ]
            ],
            "type": "histogram2d"
           }
          ],
          "histogram2dcontour": [
           {
            "colorbar": {
             "outlinewidth": 0,
             "ticks": ""
            },
            "colorscale": [
             [
              0,
              "#0d0887"
             ],
             [
              0.1111111111111111,
              "#46039f"
             ],
             [
              0.2222222222222222,
              "#7201a8"
             ],
             [
              0.3333333333333333,
              "#9c179e"
             ],
             [
              0.4444444444444444,
              "#bd3786"
             ],
             [
              0.5555555555555556,
              "#d8576b"
             ],
             [
              0.6666666666666666,
              "#ed7953"
             ],
             [
              0.7777777777777778,
              "#fb9f3a"
             ],
             [
              0.8888888888888888,
              "#fdca26"
             ],
             [
              1,
              "#f0f921"
             ]
            ],
            "type": "histogram2dcontour"
           }
          ],
          "mesh3d": [
           {
            "colorbar": {
             "outlinewidth": 0,
             "ticks": ""
            },
            "type": "mesh3d"
           }
          ],
          "parcoords": [
           {
            "line": {
             "colorbar": {
              "outlinewidth": 0,
              "ticks": ""
             }
            },
            "type": "parcoords"
           }
          ],
          "pie": [
           {
            "automargin": true,
            "type": "pie"
           }
          ],
          "scatter": [
           {
            "marker": {
             "line": {
              "color": "#283442"
             }
            },
            "type": "scatter"
           }
          ],
          "scatter3d": [
           {
            "line": {
             "colorbar": {
              "outlinewidth": 0,
              "ticks": ""
             }
            },
            "marker": {
             "colorbar": {
              "outlinewidth": 0,
              "ticks": ""
             }
            },
            "type": "scatter3d"
           }
          ],
          "scattercarpet": [
           {
            "marker": {
             "colorbar": {
              "outlinewidth": 0,
              "ticks": ""
             }
            },
            "type": "scattercarpet"
           }
          ],
          "scattergeo": [
           {
            "marker": {
             "colorbar": {
              "outlinewidth": 0,
              "ticks": ""
             }
            },
            "type": "scattergeo"
           }
          ],
          "scattergl": [
           {
            "marker": {
             "line": {
              "color": "#283442"
             }
            },
            "type": "scattergl"
           }
          ],
          "scattermapbox": [
           {
            "marker": {
             "colorbar": {
              "outlinewidth": 0,
              "ticks": ""
             }
            },
            "type": "scattermapbox"
           }
          ],
          "scatterpolar": [
           {
            "marker": {
             "colorbar": {
              "outlinewidth": 0,
              "ticks": ""
             }
            },
            "type": "scatterpolar"
           }
          ],
          "scatterpolargl": [
           {
            "marker": {
             "colorbar": {
              "outlinewidth": 0,
              "ticks": ""
             }
            },
            "type": "scatterpolargl"
           }
          ],
          "scatterternary": [
           {
            "marker": {
             "colorbar": {
              "outlinewidth": 0,
              "ticks": ""
             }
            },
            "type": "scatterternary"
           }
          ],
          "surface": [
           {
            "colorbar": {
             "outlinewidth": 0,
             "ticks": ""
            },
            "colorscale": [
             [
              0,
              "#0d0887"
             ],
             [
              0.1111111111111111,
              "#46039f"
             ],
             [
              0.2222222222222222,
              "#7201a8"
             ],
             [
              0.3333333333333333,
              "#9c179e"
             ],
             [
              0.4444444444444444,
              "#bd3786"
             ],
             [
              0.5555555555555556,
              "#d8576b"
             ],
             [
              0.6666666666666666,
              "#ed7953"
             ],
             [
              0.7777777777777778,
              "#fb9f3a"
             ],
             [
              0.8888888888888888,
              "#fdca26"
             ],
             [
              1,
              "#f0f921"
             ]
            ],
            "type": "surface"
           }
          ],
          "table": [
           {
            "cells": {
             "fill": {
              "color": "#506784"
             },
             "line": {
              "color": "rgb(17,17,17)"
             }
            },
            "header": {
             "fill": {
              "color": "#2a3f5f"
             },
             "line": {
              "color": "rgb(17,17,17)"
             }
            },
            "type": "table"
           }
          ]
         },
         "layout": {
          "annotationdefaults": {
           "arrowcolor": "#f2f5fa",
           "arrowhead": 0,
           "arrowwidth": 1
          },
          "autotypenumbers": "strict",
          "coloraxis": {
           "colorbar": {
            "outlinewidth": 0,
            "ticks": ""
           }
          },
          "colorscale": {
           "diverging": [
            [
             0,
             "#8e0152"
            ],
            [
             0.1,
             "#c51b7d"
            ],
            [
             0.2,
             "#de77ae"
            ],
            [
             0.3,
             "#f1b6da"
            ],
            [
             0.4,
             "#fde0ef"
            ],
            [
             0.5,
             "#f7f7f7"
            ],
            [
             0.6,
             "#e6f5d0"
            ],
            [
             0.7,
             "#b8e186"
            ],
            [
             0.8,
             "#7fbc41"
            ],
            [
             0.9,
             "#4d9221"
            ],
            [
             1,
             "#276419"
            ]
           ],
           "sequential": [
            [
             0,
             "#0d0887"
            ],
            [
             0.1111111111111111,
             "#46039f"
            ],
            [
             0.2222222222222222,
             "#7201a8"
            ],
            [
             0.3333333333333333,
             "#9c179e"
            ],
            [
             0.4444444444444444,
             "#bd3786"
            ],
            [
             0.5555555555555556,
             "#d8576b"
            ],
            [
             0.6666666666666666,
             "#ed7953"
            ],
            [
             0.7777777777777778,
             "#fb9f3a"
            ],
            [
             0.8888888888888888,
             "#fdca26"
            ],
            [
             1,
             "#f0f921"
            ]
           ],
           "sequentialminus": [
            [
             0,
             "#0d0887"
            ],
            [
             0.1111111111111111,
             "#46039f"
            ],
            [
             0.2222222222222222,
             "#7201a8"
            ],
            [
             0.3333333333333333,
             "#9c179e"
            ],
            [
             0.4444444444444444,
             "#bd3786"
            ],
            [
             0.5555555555555556,
             "#d8576b"
            ],
            [
             0.6666666666666666,
             "#ed7953"
            ],
            [
             0.7777777777777778,
             "#fb9f3a"
            ],
            [
             0.8888888888888888,
             "#fdca26"
            ],
            [
             1,
             "#f0f921"
            ]
           ]
          },
          "colorway": [
           "#636efa",
           "#EF553B",
           "#00cc96",
           "#ab63fa",
           "#FFA15A",
           "#19d3f3",
           "#FF6692",
           "#B6E880",
           "#FF97FF",
           "#FECB52"
          ],
          "font": {
           "color": "#f2f5fa"
          },
          "geo": {
           "bgcolor": "rgb(17,17,17)",
           "lakecolor": "rgb(17,17,17)",
           "landcolor": "rgb(17,17,17)",
           "showlakes": true,
           "showland": true,
           "subunitcolor": "#506784"
          },
          "hoverlabel": {
           "align": "left"
          },
          "hovermode": "closest",
          "mapbox": {
           "style": "dark"
          },
          "paper_bgcolor": "rgb(17,17,17)",
          "plot_bgcolor": "rgb(17,17,17)",
          "polar": {
           "angularaxis": {
            "gridcolor": "#506784",
            "linecolor": "#506784",
            "ticks": ""
           },
           "bgcolor": "rgb(17,17,17)",
           "radialaxis": {
            "gridcolor": "#506784",
            "linecolor": "#506784",
            "ticks": ""
           }
          },
          "scene": {
           "xaxis": {
            "backgroundcolor": "rgb(17,17,17)",
            "gridcolor": "#506784",
            "gridwidth": 2,
            "linecolor": "#506784",
            "showbackground": true,
            "ticks": "",
            "zerolinecolor": "#C8D4E3"
           },
           "yaxis": {
            "backgroundcolor": "rgb(17,17,17)",
            "gridcolor": "#506784",
            "gridwidth": 2,
            "linecolor": "#506784",
            "showbackground": true,
            "ticks": "",
            "zerolinecolor": "#C8D4E3"
           },
           "zaxis": {
            "backgroundcolor": "rgb(17,17,17)",
            "gridcolor": "#506784",
            "gridwidth": 2,
            "linecolor": "#506784",
            "showbackground": true,
            "ticks": "",
            "zerolinecolor": "#C8D4E3"
           }
          },
          "shapedefaults": {
           "line": {
            "color": "#f2f5fa"
           }
          },
          "sliderdefaults": {
           "bgcolor": "#C8D4E3",
           "bordercolor": "rgb(17,17,17)",
           "borderwidth": 1,
           "tickwidth": 0
          },
          "ternary": {
           "aaxis": {
            "gridcolor": "#506784",
            "linecolor": "#506784",
            "ticks": ""
           },
           "baxis": {
            "gridcolor": "#506784",
            "linecolor": "#506784",
            "ticks": ""
           },
           "bgcolor": "rgb(17,17,17)",
           "caxis": {
            "gridcolor": "#506784",
            "linecolor": "#506784",
            "ticks": ""
           }
          },
          "title": {
           "x": 0.05
          },
          "updatemenudefaults": {
           "bgcolor": "#506784",
           "borderwidth": 0
          },
          "xaxis": {
           "automargin": true,
           "gridcolor": "#283442",
           "linecolor": "#506784",
           "ticks": "",
           "title": {
            "standoff": 15
           },
           "zerolinecolor": "#283442",
           "zerolinewidth": 2
          },
          "yaxis": {
           "automargin": true,
           "gridcolor": "#283442",
           "linecolor": "#506784",
           "ticks": "",
           "title": {
            "standoff": 15
           },
           "zerolinecolor": "#283442",
           "zerolinewidth": 2
          }
         }
        },
        "title": {
         "text": "Ranking dos setores com maior quantidade de empresas"
        },
        "xaxis": {
         "anchor": "y",
         "domain": [
          0,
          1
         ],
         "title": {
          "text": "Quantidade"
         }
        },
        "yaxis": {
         "anchor": "x",
         "categoryarray": [
          "Comunicações",
          "Petróleo, Gás e Biocombustíveis",
          "Outros",
          "Tecnologia da Informação",
          "Saúde",
          "Materiais Básicos",
          "Consumo não Cíclico",
          "Utilidade Pública",
          "Financeiro",
          "Bens Industriais",
          "Consumo Cíclico"
         ],
         "categoryorder": "array",
         "domain": [
          0,
          1
         ],
         "title": {
          "text": "SETOR"
         }
        }
       }
      }
     },
     "metadata": {},
     "output_type": "display_data"
    }
   ],
   "source": [
    "fa = df.value_counts(subset=['SETOR'], sort=True, ascending=False).rename(\"count\").reset_index()\n",
    "\n",
    "fig = px.bar(template=\"plotly_dark\",\n",
    "             title= 'Ranking dos setores com maior quantidade de empresas', \n",
    "             data_frame=fa, \n",
    "             x='count', \n",
    "             y='SETOR', \n",
    "             orientation='h',\n",
    "             color='SETOR',\n",
    "             text_auto=True)\n",
    "fig.update_traces(hovertemplate=None)\n",
    "fig.update_layout(hovermode='y')\n",
    "fig.update(layout_showlegend=False)\n",
    "fig.update_xaxes(title_text='Quantidade')\n",
    "fig.show()"
   ]
  },
  {
   "cell_type": "markdown",
   "metadata": {},
   "source": [
    "Fa:\n",
    "Acima consta um gráfico de barras horizontal com a frequência absoluta dos 11 setores da b3, com um total de 432 empresas, com o intuito de demonstrar o ranking dos setores por quantidade de empresas."
   ]
  },
  {
   "cell_type": "code",
   "execution_count": 7,
   "metadata": {},
   "outputs": [
    {
     "name": "stderr",
     "output_type": "stream",
     "text": [
      "c:\\Users\\adria\\anaconda3\\Lib\\site-packages\\plotly\\express\\_core.py:1619: FutureWarning:\n",
      "\n",
      "The default of observed=False is deprecated and will be changed to True in a future version of pandas. Pass observed=False to retain current behavior or observed=True to adopt the future default and silence this warning.\n",
      "\n"
     ]
    },
    {
     "data": {
      "application/vnd.plotly.v1+json": {
       "config": {
        "plotlyServerURL": "https://plot.ly"
       },
       "data": [
        {
         "branchvalues": "total",
         "domain": {
          "x": [
           0,
           1
          ],
          "y": [
           0,
           1
          ]
         },
         "hoverinfo": "label+value+percent entry",
         "ids": [
          "Total/Bens Industriais",
          "Total/Comunicações",
          "Total/Consumo Cíclico",
          "Total/Consumo não Cíclico",
          "Total/Financeiro",
          "Total/Materiais Básicos",
          "Total/Outros",
          "Total/Petróleo, Gás e Biocombustíveis",
          "Total/Saúde",
          "Total/Tecnologia da Informação",
          "Total/Utilidade Pública",
          "Total"
         ],
         "labels": [
          "Bens Industriais",
          "Comunicações",
          "Consumo Cíclico",
          "Consumo não Cíclico",
          "Financeiro",
          "Materiais Básicos",
          "Outros",
          "Petróleo, Gás e Biocombustíveis",
          "Saúde",
          "Tecnologia da Informação",
          "Utilidade Pública",
          "Total"
         ],
         "name": "",
         "parents": [
          "Total",
          "Total",
          "Total",
          "Total",
          "Total",
          "Total",
          "Total",
          "Total",
          "Total",
          "Total",
          "Total",
          ""
         ],
         "textinfo": "label+value+percent entry",
         "type": "treemap",
         "values": [
          70,
          9,
          91,
          32,
          69,
          31,
          13,
          13,
          23,
          16,
          65,
          432
         ]
        }
       ],
       "layout": {
        "legend": {
         "tracegroupgap": 0
        },
        "margin": {
         "t": 60
        },
        "template": {
         "data": {
          "bar": [
           {
            "error_x": {
             "color": "#f2f5fa"
            },
            "error_y": {
             "color": "#f2f5fa"
            },
            "marker": {
             "line": {
              "color": "rgb(17,17,17)",
              "width": 0.5
             },
             "pattern": {
              "fillmode": "overlay",
              "size": 10,
              "solidity": 0.2
             }
            },
            "type": "bar"
           }
          ],
          "barpolar": [
           {
            "marker": {
             "line": {
              "color": "rgb(17,17,17)",
              "width": 0.5
             },
             "pattern": {
              "fillmode": "overlay",
              "size": 10,
              "solidity": 0.2
             }
            },
            "type": "barpolar"
           }
          ],
          "carpet": [
           {
            "aaxis": {
             "endlinecolor": "#A2B1C6",
             "gridcolor": "#506784",
             "linecolor": "#506784",
             "minorgridcolor": "#506784",
             "startlinecolor": "#A2B1C6"
            },
            "baxis": {
             "endlinecolor": "#A2B1C6",
             "gridcolor": "#506784",
             "linecolor": "#506784",
             "minorgridcolor": "#506784",
             "startlinecolor": "#A2B1C6"
            },
            "type": "carpet"
           }
          ],
          "choropleth": [
           {
            "colorbar": {
             "outlinewidth": 0,
             "ticks": ""
            },
            "type": "choropleth"
           }
          ],
          "contour": [
           {
            "colorbar": {
             "outlinewidth": 0,
             "ticks": ""
            },
            "colorscale": [
             [
              0,
              "#0d0887"
             ],
             [
              0.1111111111111111,
              "#46039f"
             ],
             [
              0.2222222222222222,
              "#7201a8"
             ],
             [
              0.3333333333333333,
              "#9c179e"
             ],
             [
              0.4444444444444444,
              "#bd3786"
             ],
             [
              0.5555555555555556,
              "#d8576b"
             ],
             [
              0.6666666666666666,
              "#ed7953"
             ],
             [
              0.7777777777777778,
              "#fb9f3a"
             ],
             [
              0.8888888888888888,
              "#fdca26"
             ],
             [
              1,
              "#f0f921"
             ]
            ],
            "type": "contour"
           }
          ],
          "contourcarpet": [
           {
            "colorbar": {
             "outlinewidth": 0,
             "ticks": ""
            },
            "type": "contourcarpet"
           }
          ],
          "heatmap": [
           {
            "colorbar": {
             "outlinewidth": 0,
             "ticks": ""
            },
            "colorscale": [
             [
              0,
              "#0d0887"
             ],
             [
              0.1111111111111111,
              "#46039f"
             ],
             [
              0.2222222222222222,
              "#7201a8"
             ],
             [
              0.3333333333333333,
              "#9c179e"
             ],
             [
              0.4444444444444444,
              "#bd3786"
             ],
             [
              0.5555555555555556,
              "#d8576b"
             ],
             [
              0.6666666666666666,
              "#ed7953"
             ],
             [
              0.7777777777777778,
              "#fb9f3a"
             ],
             [
              0.8888888888888888,
              "#fdca26"
             ],
             [
              1,
              "#f0f921"
             ]
            ],
            "type": "heatmap"
           }
          ],
          "heatmapgl": [
           {
            "colorbar": {
             "outlinewidth": 0,
             "ticks": ""
            },
            "colorscale": [
             [
              0,
              "#0d0887"
             ],
             [
              0.1111111111111111,
              "#46039f"
             ],
             [
              0.2222222222222222,
              "#7201a8"
             ],
             [
              0.3333333333333333,
              "#9c179e"
             ],
             [
              0.4444444444444444,
              "#bd3786"
             ],
             [
              0.5555555555555556,
              "#d8576b"
             ],
             [
              0.6666666666666666,
              "#ed7953"
             ],
             [
              0.7777777777777778,
              "#fb9f3a"
             ],
             [
              0.8888888888888888,
              "#fdca26"
             ],
             [
              1,
              "#f0f921"
             ]
            ],
            "type": "heatmapgl"
           }
          ],
          "histogram": [
           {
            "marker": {
             "pattern": {
              "fillmode": "overlay",
              "size": 10,
              "solidity": 0.2
             }
            },
            "type": "histogram"
           }
          ],
          "histogram2d": [
           {
            "colorbar": {
             "outlinewidth": 0,
             "ticks": ""
            },
            "colorscale": [
             [
              0,
              "#0d0887"
             ],
             [
              0.1111111111111111,
              "#46039f"
             ],
             [
              0.2222222222222222,
              "#7201a8"
             ],
             [
              0.3333333333333333,
              "#9c179e"
             ],
             [
              0.4444444444444444,
              "#bd3786"
             ],
             [
              0.5555555555555556,
              "#d8576b"
             ],
             [
              0.6666666666666666,
              "#ed7953"
             ],
             [
              0.7777777777777778,
              "#fb9f3a"
             ],
             [
              0.8888888888888888,
              "#fdca26"
             ],
             [
              1,
              "#f0f921"
             ]
            ],
            "type": "histogram2d"
           }
          ],
          "histogram2dcontour": [
           {
            "colorbar": {
             "outlinewidth": 0,
             "ticks": ""
            },
            "colorscale": [
             [
              0,
              "#0d0887"
             ],
             [
              0.1111111111111111,
              "#46039f"
             ],
             [
              0.2222222222222222,
              "#7201a8"
             ],
             [
              0.3333333333333333,
              "#9c179e"
             ],
             [
              0.4444444444444444,
              "#bd3786"
             ],
             [
              0.5555555555555556,
              "#d8576b"
             ],
             [
              0.6666666666666666,
              "#ed7953"
             ],
             [
              0.7777777777777778,
              "#fb9f3a"
             ],
             [
              0.8888888888888888,
              "#fdca26"
             ],
             [
              1,
              "#f0f921"
             ]
            ],
            "type": "histogram2dcontour"
           }
          ],
          "mesh3d": [
           {
            "colorbar": {
             "outlinewidth": 0,
             "ticks": ""
            },
            "type": "mesh3d"
           }
          ],
          "parcoords": [
           {
            "line": {
             "colorbar": {
              "outlinewidth": 0,
              "ticks": ""
             }
            },
            "type": "parcoords"
           }
          ],
          "pie": [
           {
            "automargin": true,
            "type": "pie"
           }
          ],
          "scatter": [
           {
            "marker": {
             "line": {
              "color": "#283442"
             }
            },
            "type": "scatter"
           }
          ],
          "scatter3d": [
           {
            "line": {
             "colorbar": {
              "outlinewidth": 0,
              "ticks": ""
             }
            },
            "marker": {
             "colorbar": {
              "outlinewidth": 0,
              "ticks": ""
             }
            },
            "type": "scatter3d"
           }
          ],
          "scattercarpet": [
           {
            "marker": {
             "colorbar": {
              "outlinewidth": 0,
              "ticks": ""
             }
            },
            "type": "scattercarpet"
           }
          ],
          "scattergeo": [
           {
            "marker": {
             "colorbar": {
              "outlinewidth": 0,
              "ticks": ""
             }
            },
            "type": "scattergeo"
           }
          ],
          "scattergl": [
           {
            "marker": {
             "line": {
              "color": "#283442"
             }
            },
            "type": "scattergl"
           }
          ],
          "scattermapbox": [
           {
            "marker": {
             "colorbar": {
              "outlinewidth": 0,
              "ticks": ""
             }
            },
            "type": "scattermapbox"
           }
          ],
          "scatterpolar": [
           {
            "marker": {
             "colorbar": {
              "outlinewidth": 0,
              "ticks": ""
             }
            },
            "type": "scatterpolar"
           }
          ],
          "scatterpolargl": [
           {
            "marker": {
             "colorbar": {
              "outlinewidth": 0,
              "ticks": ""
             }
            },
            "type": "scatterpolargl"
           }
          ],
          "scatterternary": [
           {
            "marker": {
             "colorbar": {
              "outlinewidth": 0,
              "ticks": ""
             }
            },
            "type": "scatterternary"
           }
          ],
          "surface": [
           {
            "colorbar": {
             "outlinewidth": 0,
             "ticks": ""
            },
            "colorscale": [
             [
              0,
              "#0d0887"
             ],
             [
              0.1111111111111111,
              "#46039f"
             ],
             [
              0.2222222222222222,
              "#7201a8"
             ],
             [
              0.3333333333333333,
              "#9c179e"
             ],
             [
              0.4444444444444444,
              "#bd3786"
             ],
             [
              0.5555555555555556,
              "#d8576b"
             ],
             [
              0.6666666666666666,
              "#ed7953"
             ],
             [
              0.7777777777777778,
              "#fb9f3a"
             ],
             [
              0.8888888888888888,
              "#fdca26"
             ],
             [
              1,
              "#f0f921"
             ]
            ],
            "type": "surface"
           }
          ],
          "table": [
           {
            "cells": {
             "fill": {
              "color": "#506784"
             },
             "line": {
              "color": "rgb(17,17,17)"
             }
            },
            "header": {
             "fill": {
              "color": "#2a3f5f"
             },
             "line": {
              "color": "rgb(17,17,17)"
             }
            },
            "type": "table"
           }
          ]
         },
         "layout": {
          "annotationdefaults": {
           "arrowcolor": "#f2f5fa",
           "arrowhead": 0,
           "arrowwidth": 1
          },
          "autotypenumbers": "strict",
          "coloraxis": {
           "colorbar": {
            "outlinewidth": 0,
            "ticks": ""
           }
          },
          "colorscale": {
           "diverging": [
            [
             0,
             "#8e0152"
            ],
            [
             0.1,
             "#c51b7d"
            ],
            [
             0.2,
             "#de77ae"
            ],
            [
             0.3,
             "#f1b6da"
            ],
            [
             0.4,
             "#fde0ef"
            ],
            [
             0.5,
             "#f7f7f7"
            ],
            [
             0.6,
             "#e6f5d0"
            ],
            [
             0.7,
             "#b8e186"
            ],
            [
             0.8,
             "#7fbc41"
            ],
            [
             0.9,
             "#4d9221"
            ],
            [
             1,
             "#276419"
            ]
           ],
           "sequential": [
            [
             0,
             "#0d0887"
            ],
            [
             0.1111111111111111,
             "#46039f"
            ],
            [
             0.2222222222222222,
             "#7201a8"
            ],
            [
             0.3333333333333333,
             "#9c179e"
            ],
            [
             0.4444444444444444,
             "#bd3786"
            ],
            [
             0.5555555555555556,
             "#d8576b"
            ],
            [
             0.6666666666666666,
             "#ed7953"
            ],
            [
             0.7777777777777778,
             "#fb9f3a"
            ],
            [
             0.8888888888888888,
             "#fdca26"
            ],
            [
             1,
             "#f0f921"
            ]
           ],
           "sequentialminus": [
            [
             0,
             "#0d0887"
            ],
            [
             0.1111111111111111,
             "#46039f"
            ],
            [
             0.2222222222222222,
             "#7201a8"
            ],
            [
             0.3333333333333333,
             "#9c179e"
            ],
            [
             0.4444444444444444,
             "#bd3786"
            ],
            [
             0.5555555555555556,
             "#d8576b"
            ],
            [
             0.6666666666666666,
             "#ed7953"
            ],
            [
             0.7777777777777778,
             "#fb9f3a"
            ],
            [
             0.8888888888888888,
             "#fdca26"
            ],
            [
             1,
             "#f0f921"
            ]
           ]
          },
          "colorway": [
           "#636efa",
           "#EF553B",
           "#00cc96",
           "#ab63fa",
           "#FFA15A",
           "#19d3f3",
           "#FF6692",
           "#B6E880",
           "#FF97FF",
           "#FECB52"
          ],
          "font": {
           "color": "#f2f5fa"
          },
          "geo": {
           "bgcolor": "rgb(17,17,17)",
           "lakecolor": "rgb(17,17,17)",
           "landcolor": "rgb(17,17,17)",
           "showlakes": true,
           "showland": true,
           "subunitcolor": "#506784"
          },
          "hoverlabel": {
           "align": "left"
          },
          "hovermode": "closest",
          "mapbox": {
           "style": "dark"
          },
          "paper_bgcolor": "rgb(17,17,17)",
          "plot_bgcolor": "rgb(17,17,17)",
          "polar": {
           "angularaxis": {
            "gridcolor": "#506784",
            "linecolor": "#506784",
            "ticks": ""
           },
           "bgcolor": "rgb(17,17,17)",
           "radialaxis": {
            "gridcolor": "#506784",
            "linecolor": "#506784",
            "ticks": ""
           }
          },
          "scene": {
           "xaxis": {
            "backgroundcolor": "rgb(17,17,17)",
            "gridcolor": "#506784",
            "gridwidth": 2,
            "linecolor": "#506784",
            "showbackground": true,
            "ticks": "",
            "zerolinecolor": "#C8D4E3"
           },
           "yaxis": {
            "backgroundcolor": "rgb(17,17,17)",
            "gridcolor": "#506784",
            "gridwidth": 2,
            "linecolor": "#506784",
            "showbackground": true,
            "ticks": "",
            "zerolinecolor": "#C8D4E3"
           },
           "zaxis": {
            "backgroundcolor": "rgb(17,17,17)",
            "gridcolor": "#506784",
            "gridwidth": 2,
            "linecolor": "#506784",
            "showbackground": true,
            "ticks": "",
            "zerolinecolor": "#C8D4E3"
           }
          },
          "shapedefaults": {
           "line": {
            "color": "#f2f5fa"
           }
          },
          "sliderdefaults": {
           "bgcolor": "#C8D4E3",
           "bordercolor": "rgb(17,17,17)",
           "borderwidth": 1,
           "tickwidth": 0
          },
          "ternary": {
           "aaxis": {
            "gridcolor": "#506784",
            "linecolor": "#506784",
            "ticks": ""
           },
           "baxis": {
            "gridcolor": "#506784",
            "linecolor": "#506784",
            "ticks": ""
           },
           "bgcolor": "rgb(17,17,17)",
           "caxis": {
            "gridcolor": "#506784",
            "linecolor": "#506784",
            "ticks": ""
           }
          },
          "title": {
           "x": 0.05
          },
          "updatemenudefaults": {
           "bgcolor": "#506784",
           "borderwidth": 0
          },
          "xaxis": {
           "automargin": true,
           "gridcolor": "#283442",
           "linecolor": "#506784",
           "ticks": "",
           "title": {
            "standoff": 15
           },
           "zerolinecolor": "#283442",
           "zerolinewidth": 2
          },
          "yaxis": {
           "automargin": true,
           "gridcolor": "#283442",
           "linecolor": "#506784",
           "ticks": "",
           "title": {
            "standoff": 15
           },
           "zerolinecolor": "#283442",
           "zerolinewidth": 2
          }
         }
        }
       }
      }
     },
     "metadata": {},
     "output_type": "display_data"
    }
   ],
   "source": [
    "fa = df.value_counts(subset=['SETOR'], sort=True, ascending=False).rename(\"QTD\").reset_index()\n",
    "\n",
    "fig = px.treemap(data_frame=fa,\n",
    "                 path=[px.Constant('Total'), 'SETOR'],\n",
    "                 values='QTD',\n",
    "                 template='plotly_dark')\n",
    "\n",
    "fig.update_traces(hovertemplate=None, hoverinfo='label+value+percent entry', textinfo='label+value+percent entry')\n",
    "fig.show()"
   ]
  },
  {
   "cell_type": "markdown",
   "metadata": {},
   "source": [
    "Fr:\n",
    "Acima foi disponibilizado um gráfico setorial, dos 11 setores com um total de 432 empresas, com o intuito de demonstrar a participação relativa de cada setor pelo total de empresas."
   ]
  },
  {
   "cell_type": "code",
   "execution_count": 123,
   "metadata": {},
   "outputs": [
    {
     "data": {
      "application/vnd.plotly.v1+json": {
       "config": {
        "plotlyServerURL": "https://plot.ly"
       },
       "data": [
        {
         "alignmentgroup": "True",
         "hovertemplate": "%{y:.2f}%",
         "legendgroup": "",
         "marker": {
          "color": [
           2.08,
           5.09,
           8.1,
           11.81,
           17.13,
           24.31,
           31.71,
           46.76,
           62.73,
           78.94,
           100
          ],
          "coloraxis": "coloraxis",
          "pattern": {
           "shape": ""
          }
         },
         "name": "",
         "offsetgroup": "",
         "orientation": "v",
         "showlegend": false,
         "text": [
          2.08,
          5.09,
          8.1,
          11.81,
          17.13,
          24.31,
          31.71,
          46.76,
          62.73,
          78.94,
          100
         ],
         "textposition": "auto",
         "texttemplate": "%{text:.1f}%",
         "type": "bar",
         "x": [
          "Comunicações",
          "Outros",
          "Petróleo, Gás e Biocombustíveis",
          "Tecnologia da Informação",
          "Saúde",
          "Materiais Básicos",
          "Consumo não Cíclico",
          "Utilidade Pública",
          "Financeiro",
          "Bens Industriais",
          "Consumo Cíclico"
         ],
         "xaxis": "x",
         "y": [
          2.08,
          5.09,
          8.1,
          11.81,
          17.13,
          24.31,
          31.71,
          46.76,
          62.73,
          78.94,
          100
         ],
         "yaxis": "y"
        }
       ],
       "layout": {
        "barmode": "relative",
        "coloraxis": {
         "colorbar": {
          "title": {
           "text": "color"
          }
         },
         "colorscale": [
          [
           0,
           "#0d0887"
          ],
          [
           0.1111111111111111,
           "#46039f"
          ],
          [
           0.2222222222222222,
           "#7201a8"
          ],
          [
           0.3333333333333333,
           "#9c179e"
          ],
          [
           0.4444444444444444,
           "#bd3786"
          ],
          [
           0.5555555555555556,
           "#d8576b"
          ],
          [
           0.6666666666666666,
           "#ed7953"
          ],
          [
           0.7777777777777778,
           "#fb9f3a"
          ],
          [
           0.8888888888888888,
           "#fdca26"
          ],
          [
           1,
           "#f0f921"
          ]
         ]
        },
        "hovermode": "x unified",
        "legend": {
         "tracegroupgap": 0
        },
        "template": {
         "data": {
          "bar": [
           {
            "error_x": {
             "color": "#f2f5fa"
            },
            "error_y": {
             "color": "#f2f5fa"
            },
            "marker": {
             "line": {
              "color": "rgb(17,17,17)",
              "width": 0.5
             },
             "pattern": {
              "fillmode": "overlay",
              "size": 10,
              "solidity": 0.2
             }
            },
            "type": "bar"
           }
          ],
          "barpolar": [
           {
            "marker": {
             "line": {
              "color": "rgb(17,17,17)",
              "width": 0.5
             },
             "pattern": {
              "fillmode": "overlay",
              "size": 10,
              "solidity": 0.2
             }
            },
            "type": "barpolar"
           }
          ],
          "carpet": [
           {
            "aaxis": {
             "endlinecolor": "#A2B1C6",
             "gridcolor": "#506784",
             "linecolor": "#506784",
             "minorgridcolor": "#506784",
             "startlinecolor": "#A2B1C6"
            },
            "baxis": {
             "endlinecolor": "#A2B1C6",
             "gridcolor": "#506784",
             "linecolor": "#506784",
             "minorgridcolor": "#506784",
             "startlinecolor": "#A2B1C6"
            },
            "type": "carpet"
           }
          ],
          "choropleth": [
           {
            "colorbar": {
             "outlinewidth": 0,
             "ticks": ""
            },
            "type": "choropleth"
           }
          ],
          "contour": [
           {
            "colorbar": {
             "outlinewidth": 0,
             "ticks": ""
            },
            "colorscale": [
             [
              0,
              "#0d0887"
             ],
             [
              0.1111111111111111,
              "#46039f"
             ],
             [
              0.2222222222222222,
              "#7201a8"
             ],
             [
              0.3333333333333333,
              "#9c179e"
             ],
             [
              0.4444444444444444,
              "#bd3786"
             ],
             [
              0.5555555555555556,
              "#d8576b"
             ],
             [
              0.6666666666666666,
              "#ed7953"
             ],
             [
              0.7777777777777778,
              "#fb9f3a"
             ],
             [
              0.8888888888888888,
              "#fdca26"
             ],
             [
              1,
              "#f0f921"
             ]
            ],
            "type": "contour"
           }
          ],
          "contourcarpet": [
           {
            "colorbar": {
             "outlinewidth": 0,
             "ticks": ""
            },
            "type": "contourcarpet"
           }
          ],
          "heatmap": [
           {
            "colorbar": {
             "outlinewidth": 0,
             "ticks": ""
            },
            "colorscale": [
             [
              0,
              "#0d0887"
             ],
             [
              0.1111111111111111,
              "#46039f"
             ],
             [
              0.2222222222222222,
              "#7201a8"
             ],
             [
              0.3333333333333333,
              "#9c179e"
             ],
             [
              0.4444444444444444,
              "#bd3786"
             ],
             [
              0.5555555555555556,
              "#d8576b"
             ],
             [
              0.6666666666666666,
              "#ed7953"
             ],
             [
              0.7777777777777778,
              "#fb9f3a"
             ],
             [
              0.8888888888888888,
              "#fdca26"
             ],
             [
              1,
              "#f0f921"
             ]
            ],
            "type": "heatmap"
           }
          ],
          "heatmapgl": [
           {
            "colorbar": {
             "outlinewidth": 0,
             "ticks": ""
            },
            "colorscale": [
             [
              0,
              "#0d0887"
             ],
             [
              0.1111111111111111,
              "#46039f"
             ],
             [
              0.2222222222222222,
              "#7201a8"
             ],
             [
              0.3333333333333333,
              "#9c179e"
             ],
             [
              0.4444444444444444,
              "#bd3786"
             ],
             [
              0.5555555555555556,
              "#d8576b"
             ],
             [
              0.6666666666666666,
              "#ed7953"
             ],
             [
              0.7777777777777778,
              "#fb9f3a"
             ],
             [
              0.8888888888888888,
              "#fdca26"
             ],
             [
              1,
              "#f0f921"
             ]
            ],
            "type": "heatmapgl"
           }
          ],
          "histogram": [
           {
            "marker": {
             "pattern": {
              "fillmode": "overlay",
              "size": 10,
              "solidity": 0.2
             }
            },
            "type": "histogram"
           }
          ],
          "histogram2d": [
           {
            "colorbar": {
             "outlinewidth": 0,
             "ticks": ""
            },
            "colorscale": [
             [
              0,
              "#0d0887"
             ],
             [
              0.1111111111111111,
              "#46039f"
             ],
             [
              0.2222222222222222,
              "#7201a8"
             ],
             [
              0.3333333333333333,
              "#9c179e"
             ],
             [
              0.4444444444444444,
              "#bd3786"
             ],
             [
              0.5555555555555556,
              "#d8576b"
             ],
             [
              0.6666666666666666,
              "#ed7953"
             ],
             [
              0.7777777777777778,
              "#fb9f3a"
             ],
             [
              0.8888888888888888,
              "#fdca26"
             ],
             [
              1,
              "#f0f921"
             ]
            ],
            "type": "histogram2d"
           }
          ],
          "histogram2dcontour": [
           {
            "colorbar": {
             "outlinewidth": 0,
             "ticks": ""
            },
            "colorscale": [
             [
              0,
              "#0d0887"
             ],
             [
              0.1111111111111111,
              "#46039f"
             ],
             [
              0.2222222222222222,
              "#7201a8"
             ],
             [
              0.3333333333333333,
              "#9c179e"
             ],
             [
              0.4444444444444444,
              "#bd3786"
             ],
             [
              0.5555555555555556,
              "#d8576b"
             ],
             [
              0.6666666666666666,
              "#ed7953"
             ],
             [
              0.7777777777777778,
              "#fb9f3a"
             ],
             [
              0.8888888888888888,
              "#fdca26"
             ],
             [
              1,
              "#f0f921"
             ]
            ],
            "type": "histogram2dcontour"
           }
          ],
          "mesh3d": [
           {
            "colorbar": {
             "outlinewidth": 0,
             "ticks": ""
            },
            "type": "mesh3d"
           }
          ],
          "parcoords": [
           {
            "line": {
             "colorbar": {
              "outlinewidth": 0,
              "ticks": ""
             }
            },
            "type": "parcoords"
           }
          ],
          "pie": [
           {
            "automargin": true,
            "type": "pie"
           }
          ],
          "scatter": [
           {
            "marker": {
             "line": {
              "color": "#283442"
             }
            },
            "type": "scatter"
           }
          ],
          "scatter3d": [
           {
            "line": {
             "colorbar": {
              "outlinewidth": 0,
              "ticks": ""
             }
            },
            "marker": {
             "colorbar": {
              "outlinewidth": 0,
              "ticks": ""
             }
            },
            "type": "scatter3d"
           }
          ],
          "scattercarpet": [
           {
            "marker": {
             "colorbar": {
              "outlinewidth": 0,
              "ticks": ""
             }
            },
            "type": "scattercarpet"
           }
          ],
          "scattergeo": [
           {
            "marker": {
             "colorbar": {
              "outlinewidth": 0,
              "ticks": ""
             }
            },
            "type": "scattergeo"
           }
          ],
          "scattergl": [
           {
            "marker": {
             "line": {
              "color": "#283442"
             }
            },
            "type": "scattergl"
           }
          ],
          "scattermapbox": [
           {
            "marker": {
             "colorbar": {
              "outlinewidth": 0,
              "ticks": ""
             }
            },
            "type": "scattermapbox"
           }
          ],
          "scatterpolar": [
           {
            "marker": {
             "colorbar": {
              "outlinewidth": 0,
              "ticks": ""
             }
            },
            "type": "scatterpolar"
           }
          ],
          "scatterpolargl": [
           {
            "marker": {
             "colorbar": {
              "outlinewidth": 0,
              "ticks": ""
             }
            },
            "type": "scatterpolargl"
           }
          ],
          "scatterternary": [
           {
            "marker": {
             "colorbar": {
              "outlinewidth": 0,
              "ticks": ""
             }
            },
            "type": "scatterternary"
           }
          ],
          "surface": [
           {
            "colorbar": {
             "outlinewidth": 0,
             "ticks": ""
            },
            "colorscale": [
             [
              0,
              "#0d0887"
             ],
             [
              0.1111111111111111,
              "#46039f"
             ],
             [
              0.2222222222222222,
              "#7201a8"
             ],
             [
              0.3333333333333333,
              "#9c179e"
             ],
             [
              0.4444444444444444,
              "#bd3786"
             ],
             [
              0.5555555555555556,
              "#d8576b"
             ],
             [
              0.6666666666666666,
              "#ed7953"
             ],
             [
              0.7777777777777778,
              "#fb9f3a"
             ],
             [
              0.8888888888888888,
              "#fdca26"
             ],
             [
              1,
              "#f0f921"
             ]
            ],
            "type": "surface"
           }
          ],
          "table": [
           {
            "cells": {
             "fill": {
              "color": "#506784"
             },
             "line": {
              "color": "rgb(17,17,17)"
             }
            },
            "header": {
             "fill": {
              "color": "#2a3f5f"
             },
             "line": {
              "color": "rgb(17,17,17)"
             }
            },
            "type": "table"
           }
          ]
         },
         "layout": {
          "annotationdefaults": {
           "arrowcolor": "#f2f5fa",
           "arrowhead": 0,
           "arrowwidth": 1
          },
          "autotypenumbers": "strict",
          "coloraxis": {
           "colorbar": {
            "outlinewidth": 0,
            "ticks": ""
           }
          },
          "colorscale": {
           "diverging": [
            [
             0,
             "#8e0152"
            ],
            [
             0.1,
             "#c51b7d"
            ],
            [
             0.2,
             "#de77ae"
            ],
            [
             0.3,
             "#f1b6da"
            ],
            [
             0.4,
             "#fde0ef"
            ],
            [
             0.5,
             "#f7f7f7"
            ],
            [
             0.6,
             "#e6f5d0"
            ],
            [
             0.7,
             "#b8e186"
            ],
            [
             0.8,
             "#7fbc41"
            ],
            [
             0.9,
             "#4d9221"
            ],
            [
             1,
             "#276419"
            ]
           ],
           "sequential": [
            [
             0,
             "#0d0887"
            ],
            [
             0.1111111111111111,
             "#46039f"
            ],
            [
             0.2222222222222222,
             "#7201a8"
            ],
            [
             0.3333333333333333,
             "#9c179e"
            ],
            [
             0.4444444444444444,
             "#bd3786"
            ],
            [
             0.5555555555555556,
             "#d8576b"
            ],
            [
             0.6666666666666666,
             "#ed7953"
            ],
            [
             0.7777777777777778,
             "#fb9f3a"
            ],
            [
             0.8888888888888888,
             "#fdca26"
            ],
            [
             1,
             "#f0f921"
            ]
           ],
           "sequentialminus": [
            [
             0,
             "#0d0887"
            ],
            [
             0.1111111111111111,
             "#46039f"
            ],
            [
             0.2222222222222222,
             "#7201a8"
            ],
            [
             0.3333333333333333,
             "#9c179e"
            ],
            [
             0.4444444444444444,
             "#bd3786"
            ],
            [
             0.5555555555555556,
             "#d8576b"
            ],
            [
             0.6666666666666666,
             "#ed7953"
            ],
            [
             0.7777777777777778,
             "#fb9f3a"
            ],
            [
             0.8888888888888888,
             "#fdca26"
            ],
            [
             1,
             "#f0f921"
            ]
           ]
          },
          "colorway": [
           "#636efa",
           "#EF553B",
           "#00cc96",
           "#ab63fa",
           "#FFA15A",
           "#19d3f3",
           "#FF6692",
           "#B6E880",
           "#FF97FF",
           "#FECB52"
          ],
          "font": {
           "color": "#f2f5fa"
          },
          "geo": {
           "bgcolor": "rgb(17,17,17)",
           "lakecolor": "rgb(17,17,17)",
           "landcolor": "rgb(17,17,17)",
           "showlakes": true,
           "showland": true,
           "subunitcolor": "#506784"
          },
          "hoverlabel": {
           "align": "left"
          },
          "hovermode": "closest",
          "mapbox": {
           "style": "dark"
          },
          "paper_bgcolor": "rgb(17,17,17)",
          "plot_bgcolor": "rgb(17,17,17)",
          "polar": {
           "angularaxis": {
            "gridcolor": "#506784",
            "linecolor": "#506784",
            "ticks": ""
           },
           "bgcolor": "rgb(17,17,17)",
           "radialaxis": {
            "gridcolor": "#506784",
            "linecolor": "#506784",
            "ticks": ""
           }
          },
          "scene": {
           "xaxis": {
            "backgroundcolor": "rgb(17,17,17)",
            "gridcolor": "#506784",
            "gridwidth": 2,
            "linecolor": "#506784",
            "showbackground": true,
            "ticks": "",
            "zerolinecolor": "#C8D4E3"
           },
           "yaxis": {
            "backgroundcolor": "rgb(17,17,17)",
            "gridcolor": "#506784",
            "gridwidth": 2,
            "linecolor": "#506784",
            "showbackground": true,
            "ticks": "",
            "zerolinecolor": "#C8D4E3"
           },
           "zaxis": {
            "backgroundcolor": "rgb(17,17,17)",
            "gridcolor": "#506784",
            "gridwidth": 2,
            "linecolor": "#506784",
            "showbackground": true,
            "ticks": "",
            "zerolinecolor": "#C8D4E3"
           }
          },
          "shapedefaults": {
           "line": {
            "color": "#f2f5fa"
           }
          },
          "sliderdefaults": {
           "bgcolor": "#C8D4E3",
           "bordercolor": "rgb(17,17,17)",
           "borderwidth": 1,
           "tickwidth": 0
          },
          "ternary": {
           "aaxis": {
            "gridcolor": "#506784",
            "linecolor": "#506784",
            "ticks": ""
           },
           "baxis": {
            "gridcolor": "#506784",
            "linecolor": "#506784",
            "ticks": ""
           },
           "bgcolor": "rgb(17,17,17)",
           "caxis": {
            "gridcolor": "#506784",
            "linecolor": "#506784",
            "ticks": ""
           }
          },
          "title": {
           "x": 0.05
          },
          "updatemenudefaults": {
           "bgcolor": "#506784",
           "borderwidth": 0
          },
          "xaxis": {
           "automargin": true,
           "gridcolor": "#283442",
           "linecolor": "#506784",
           "ticks": "",
           "title": {
            "standoff": 15
           },
           "zerolinecolor": "#283442",
           "zerolinewidth": 2
          },
          "yaxis": {
           "automargin": true,
           "gridcolor": "#283442",
           "linecolor": "#506784",
           "ticks": "",
           "title": {
            "standoff": 15
           },
           "zerolinecolor": "#283442",
           "zerolinewidth": 2
          }
         }
        },
        "title": {
         "text": "Frequência relativa acumulada por setor"
        },
        "xaxis": {
         "anchor": "y",
         "domain": [
          0,
          1
         ],
         "title": {
          "text": "SETOR"
         }
        },
        "yaxis": {
         "anchor": "x",
         "domain": [
          0,
          1
         ],
         "title": {
          "text": "Frequência acumulada"
         }
        }
       }
      }
     },
     "metadata": {},
     "output_type": "display_data"
    }
   ],
   "source": [
    "fac = (df.value_counts(subset='SETOR', normalize=True, sort=True, ascending=True).rename(\"cumulative\").cumsum()*100).round(2)\n",
    "\n",
    "fig = px.bar(data_frame=fac, \n",
    "             title='Frequência relativa acumulada por setor',\n",
    "             x=fac.index, \n",
    "             y=fac.values, \n",
    "             color=fac.values, \n",
    "             text=fac.values, \n",
    "             template='plotly_dark')\n",
    "fig.update_traces(hovertemplate='%{y:.2f}%', texttemplate='%{text:.1f}%')\n",
    "fig.update_layout(hovermode='x unified')\n",
    "fig.update_yaxes(title_text='Frequência acumulada')\n",
    "\n",
    "fig.show()"
   ]
  },
  {
   "cell_type": "markdown",
   "metadata": {},
   "source": [
    "Fac:\n",
    "Já o gráfico acima demonstra a frequência acumulada dos setores por ordem crescente."
   ]
  },
  {
   "cell_type": "markdown",
   "metadata": {},
   "source": [
    "Considerações:\n",
    "Podemos ver através dos gráficos anteriores que há um acumulo aparente entre os 4 maiores setores (consumo cíclico, bens industriais, financeiro e utilidades públicas), comportando 295 de 432 empresas. Em termos relativos, os 4 maiores setores representam cerca de 68% do total das empresas listadas na b3."
   ]
  },
  {
   "cell_type": "markdown",
   "metadata": {},
   "source": [
    "- Como estão distribuídas as empresas?"
   ]
  },
  {
   "cell_type": "code",
   "execution_count": 28,
   "metadata": {},
   "outputs": [
    {
     "data": {
      "application/vnd.plotly.v1+json": {
       "config": {
        "plotlyServerURL": "https://plot.ly"
       },
       "data": [
        {
         "alignmentgroup": "True",
         "boxpoints": "all",
         "hovertemplate": "QTD=%{x}<extra></extra>",
         "legendgroup": "",
         "marker": {
          "color": "#636efa"
         },
         "name": "",
         "notched": false,
         "offsetgroup": "",
         "orientation": "h",
         "showlegend": false,
         "type": "box",
         "x": [
          91,
          70,
          69,
          65,
          32,
          31,
          23,
          16,
          13,
          13,
          9
         ],
         "x0": " ",
         "xaxis": "x",
         "y0": " ",
         "yaxis": "y"
        }
       ],
       "layout": {
        "boxmode": "group",
        "legend": {
         "tracegroupgap": 0
        },
        "template": {
         "data": {
          "bar": [
           {
            "error_x": {
             "color": "#f2f5fa"
            },
            "error_y": {
             "color": "#f2f5fa"
            },
            "marker": {
             "line": {
              "color": "rgb(17,17,17)",
              "width": 0.5
             },
             "pattern": {
              "fillmode": "overlay",
              "size": 10,
              "solidity": 0.2
             }
            },
            "type": "bar"
           }
          ],
          "barpolar": [
           {
            "marker": {
             "line": {
              "color": "rgb(17,17,17)",
              "width": 0.5
             },
             "pattern": {
              "fillmode": "overlay",
              "size": 10,
              "solidity": 0.2
             }
            },
            "type": "barpolar"
           }
          ],
          "carpet": [
           {
            "aaxis": {
             "endlinecolor": "#A2B1C6",
             "gridcolor": "#506784",
             "linecolor": "#506784",
             "minorgridcolor": "#506784",
             "startlinecolor": "#A2B1C6"
            },
            "baxis": {
             "endlinecolor": "#A2B1C6",
             "gridcolor": "#506784",
             "linecolor": "#506784",
             "minorgridcolor": "#506784",
             "startlinecolor": "#A2B1C6"
            },
            "type": "carpet"
           }
          ],
          "choropleth": [
           {
            "colorbar": {
             "outlinewidth": 0,
             "ticks": ""
            },
            "type": "choropleth"
           }
          ],
          "contour": [
           {
            "colorbar": {
             "outlinewidth": 0,
             "ticks": ""
            },
            "colorscale": [
             [
              0,
              "#0d0887"
             ],
             [
              0.1111111111111111,
              "#46039f"
             ],
             [
              0.2222222222222222,
              "#7201a8"
             ],
             [
              0.3333333333333333,
              "#9c179e"
             ],
             [
              0.4444444444444444,
              "#bd3786"
             ],
             [
              0.5555555555555556,
              "#d8576b"
             ],
             [
              0.6666666666666666,
              "#ed7953"
             ],
             [
              0.7777777777777778,
              "#fb9f3a"
             ],
             [
              0.8888888888888888,
              "#fdca26"
             ],
             [
              1,
              "#f0f921"
             ]
            ],
            "type": "contour"
           }
          ],
          "contourcarpet": [
           {
            "colorbar": {
             "outlinewidth": 0,
             "ticks": ""
            },
            "type": "contourcarpet"
           }
          ],
          "heatmap": [
           {
            "colorbar": {
             "outlinewidth": 0,
             "ticks": ""
            },
            "colorscale": [
             [
              0,
              "#0d0887"
             ],
             [
              0.1111111111111111,
              "#46039f"
             ],
             [
              0.2222222222222222,
              "#7201a8"
             ],
             [
              0.3333333333333333,
              "#9c179e"
             ],
             [
              0.4444444444444444,
              "#bd3786"
             ],
             [
              0.5555555555555556,
              "#d8576b"
             ],
             [
              0.6666666666666666,
              "#ed7953"
             ],
             [
              0.7777777777777778,
              "#fb9f3a"
             ],
             [
              0.8888888888888888,
              "#fdca26"
             ],
             [
              1,
              "#f0f921"
             ]
            ],
            "type": "heatmap"
           }
          ],
          "heatmapgl": [
           {
            "colorbar": {
             "outlinewidth": 0,
             "ticks": ""
            },
            "colorscale": [
             [
              0,
              "#0d0887"
             ],
             [
              0.1111111111111111,
              "#46039f"
             ],
             [
              0.2222222222222222,
              "#7201a8"
             ],
             [
              0.3333333333333333,
              "#9c179e"
             ],
             [
              0.4444444444444444,
              "#bd3786"
             ],
             [
              0.5555555555555556,
              "#d8576b"
             ],
             [
              0.6666666666666666,
              "#ed7953"
             ],
             [
              0.7777777777777778,
              "#fb9f3a"
             ],
             [
              0.8888888888888888,
              "#fdca26"
             ],
             [
              1,
              "#f0f921"
             ]
            ],
            "type": "heatmapgl"
           }
          ],
          "histogram": [
           {
            "marker": {
             "pattern": {
              "fillmode": "overlay",
              "size": 10,
              "solidity": 0.2
             }
            },
            "type": "histogram"
           }
          ],
          "histogram2d": [
           {
            "colorbar": {
             "outlinewidth": 0,
             "ticks": ""
            },
            "colorscale": [
             [
              0,
              "#0d0887"
             ],
             [
              0.1111111111111111,
              "#46039f"
             ],
             [
              0.2222222222222222,
              "#7201a8"
             ],
             [
              0.3333333333333333,
              "#9c179e"
             ],
             [
              0.4444444444444444,
              "#bd3786"
             ],
             [
              0.5555555555555556,
              "#d8576b"
             ],
             [
              0.6666666666666666,
              "#ed7953"
             ],
             [
              0.7777777777777778,
              "#fb9f3a"
             ],
             [
              0.8888888888888888,
              "#fdca26"
             ],
             [
              1,
              "#f0f921"
             ]
            ],
            "type": "histogram2d"
           }
          ],
          "histogram2dcontour": [
           {
            "colorbar": {
             "outlinewidth": 0,
             "ticks": ""
            },
            "colorscale": [
             [
              0,
              "#0d0887"
             ],
             [
              0.1111111111111111,
              "#46039f"
             ],
             [
              0.2222222222222222,
              "#7201a8"
             ],
             [
              0.3333333333333333,
              "#9c179e"
             ],
             [
              0.4444444444444444,
              "#bd3786"
             ],
             [
              0.5555555555555556,
              "#d8576b"
             ],
             [
              0.6666666666666666,
              "#ed7953"
             ],
             [
              0.7777777777777778,
              "#fb9f3a"
             ],
             [
              0.8888888888888888,
              "#fdca26"
             ],
             [
              1,
              "#f0f921"
             ]
            ],
            "type": "histogram2dcontour"
           }
          ],
          "mesh3d": [
           {
            "colorbar": {
             "outlinewidth": 0,
             "ticks": ""
            },
            "type": "mesh3d"
           }
          ],
          "parcoords": [
           {
            "line": {
             "colorbar": {
              "outlinewidth": 0,
              "ticks": ""
             }
            },
            "type": "parcoords"
           }
          ],
          "pie": [
           {
            "automargin": true,
            "type": "pie"
           }
          ],
          "scatter": [
           {
            "marker": {
             "line": {
              "color": "#283442"
             }
            },
            "type": "scatter"
           }
          ],
          "scatter3d": [
           {
            "line": {
             "colorbar": {
              "outlinewidth": 0,
              "ticks": ""
             }
            },
            "marker": {
             "colorbar": {
              "outlinewidth": 0,
              "ticks": ""
             }
            },
            "type": "scatter3d"
           }
          ],
          "scattercarpet": [
           {
            "marker": {
             "colorbar": {
              "outlinewidth": 0,
              "ticks": ""
             }
            },
            "type": "scattercarpet"
           }
          ],
          "scattergeo": [
           {
            "marker": {
             "colorbar": {
              "outlinewidth": 0,
              "ticks": ""
             }
            },
            "type": "scattergeo"
           }
          ],
          "scattergl": [
           {
            "marker": {
             "line": {
              "color": "#283442"
             }
            },
            "type": "scattergl"
           }
          ],
          "scattermapbox": [
           {
            "marker": {
             "colorbar": {
              "outlinewidth": 0,
              "ticks": ""
             }
            },
            "type": "scattermapbox"
           }
          ],
          "scatterpolar": [
           {
            "marker": {
             "colorbar": {
              "outlinewidth": 0,
              "ticks": ""
             }
            },
            "type": "scatterpolar"
           }
          ],
          "scatterpolargl": [
           {
            "marker": {
             "colorbar": {
              "outlinewidth": 0,
              "ticks": ""
             }
            },
            "type": "scatterpolargl"
           }
          ],
          "scatterternary": [
           {
            "marker": {
             "colorbar": {
              "outlinewidth": 0,
              "ticks": ""
             }
            },
            "type": "scatterternary"
           }
          ],
          "surface": [
           {
            "colorbar": {
             "outlinewidth": 0,
             "ticks": ""
            },
            "colorscale": [
             [
              0,
              "#0d0887"
             ],
             [
              0.1111111111111111,
              "#46039f"
             ],
             [
              0.2222222222222222,
              "#7201a8"
             ],
             [
              0.3333333333333333,
              "#9c179e"
             ],
             [
              0.4444444444444444,
              "#bd3786"
             ],
             [
              0.5555555555555556,
              "#d8576b"
             ],
             [
              0.6666666666666666,
              "#ed7953"
             ],
             [
              0.7777777777777778,
              "#fb9f3a"
             ],
             [
              0.8888888888888888,
              "#fdca26"
             ],
             [
              1,
              "#f0f921"
             ]
            ],
            "type": "surface"
           }
          ],
          "table": [
           {
            "cells": {
             "fill": {
              "color": "#506784"
             },
             "line": {
              "color": "rgb(17,17,17)"
             }
            },
            "header": {
             "fill": {
              "color": "#2a3f5f"
             },
             "line": {
              "color": "rgb(17,17,17)"
             }
            },
            "type": "table"
           }
          ]
         },
         "layout": {
          "annotationdefaults": {
           "arrowcolor": "#f2f5fa",
           "arrowhead": 0,
           "arrowwidth": 1
          },
          "autotypenumbers": "strict",
          "coloraxis": {
           "colorbar": {
            "outlinewidth": 0,
            "ticks": ""
           }
          },
          "colorscale": {
           "diverging": [
            [
             0,
             "#8e0152"
            ],
            [
             0.1,
             "#c51b7d"
            ],
            [
             0.2,
             "#de77ae"
            ],
            [
             0.3,
             "#f1b6da"
            ],
            [
             0.4,
             "#fde0ef"
            ],
            [
             0.5,
             "#f7f7f7"
            ],
            [
             0.6,
             "#e6f5d0"
            ],
            [
             0.7,
             "#b8e186"
            ],
            [
             0.8,
             "#7fbc41"
            ],
            [
             0.9,
             "#4d9221"
            ],
            [
             1,
             "#276419"
            ]
           ],
           "sequential": [
            [
             0,
             "#0d0887"
            ],
            [
             0.1111111111111111,
             "#46039f"
            ],
            [
             0.2222222222222222,
             "#7201a8"
            ],
            [
             0.3333333333333333,
             "#9c179e"
            ],
            [
             0.4444444444444444,
             "#bd3786"
            ],
            [
             0.5555555555555556,
             "#d8576b"
            ],
            [
             0.6666666666666666,
             "#ed7953"
            ],
            [
             0.7777777777777778,
             "#fb9f3a"
            ],
            [
             0.8888888888888888,
             "#fdca26"
            ],
            [
             1,
             "#f0f921"
            ]
           ],
           "sequentialminus": [
            [
             0,
             "#0d0887"
            ],
            [
             0.1111111111111111,
             "#46039f"
            ],
            [
             0.2222222222222222,
             "#7201a8"
            ],
            [
             0.3333333333333333,
             "#9c179e"
            ],
            [
             0.4444444444444444,
             "#bd3786"
            ],
            [
             0.5555555555555556,
             "#d8576b"
            ],
            [
             0.6666666666666666,
             "#ed7953"
            ],
            [
             0.7777777777777778,
             "#fb9f3a"
            ],
            [
             0.8888888888888888,
             "#fdca26"
            ],
            [
             1,
             "#f0f921"
            ]
           ]
          },
          "colorway": [
           "#636efa",
           "#EF553B",
           "#00cc96",
           "#ab63fa",
           "#FFA15A",
           "#19d3f3",
           "#FF6692",
           "#B6E880",
           "#FF97FF",
           "#FECB52"
          ],
          "font": {
           "color": "#f2f5fa"
          },
          "geo": {
           "bgcolor": "rgb(17,17,17)",
           "lakecolor": "rgb(17,17,17)",
           "landcolor": "rgb(17,17,17)",
           "showlakes": true,
           "showland": true,
           "subunitcolor": "#506784"
          },
          "hoverlabel": {
           "align": "left"
          },
          "hovermode": "closest",
          "mapbox": {
           "style": "dark"
          },
          "paper_bgcolor": "rgb(17,17,17)",
          "plot_bgcolor": "rgb(17,17,17)",
          "polar": {
           "angularaxis": {
            "gridcolor": "#506784",
            "linecolor": "#506784",
            "ticks": ""
           },
           "bgcolor": "rgb(17,17,17)",
           "radialaxis": {
            "gridcolor": "#506784",
            "linecolor": "#506784",
            "ticks": ""
           }
          },
          "scene": {
           "xaxis": {
            "backgroundcolor": "rgb(17,17,17)",
            "gridcolor": "#506784",
            "gridwidth": 2,
            "linecolor": "#506784",
            "showbackground": true,
            "ticks": "",
            "zerolinecolor": "#C8D4E3"
           },
           "yaxis": {
            "backgroundcolor": "rgb(17,17,17)",
            "gridcolor": "#506784",
            "gridwidth": 2,
            "linecolor": "#506784",
            "showbackground": true,
            "ticks": "",
            "zerolinecolor": "#C8D4E3"
           },
           "zaxis": {
            "backgroundcolor": "rgb(17,17,17)",
            "gridcolor": "#506784",
            "gridwidth": 2,
            "linecolor": "#506784",
            "showbackground": true,
            "ticks": "",
            "zerolinecolor": "#C8D4E3"
           }
          },
          "shapedefaults": {
           "line": {
            "color": "#f2f5fa"
           }
          },
          "sliderdefaults": {
           "bgcolor": "#C8D4E3",
           "bordercolor": "rgb(17,17,17)",
           "borderwidth": 1,
           "tickwidth": 0
          },
          "ternary": {
           "aaxis": {
            "gridcolor": "#506784",
            "linecolor": "#506784",
            "ticks": ""
           },
           "baxis": {
            "gridcolor": "#506784",
            "linecolor": "#506784",
            "ticks": ""
           },
           "bgcolor": "rgb(17,17,17)",
           "caxis": {
            "gridcolor": "#506784",
            "linecolor": "#506784",
            "ticks": ""
           }
          },
          "title": {
           "x": 0.05
          },
          "updatemenudefaults": {
           "bgcolor": "#506784",
           "borderwidth": 0
          },
          "xaxis": {
           "automargin": true,
           "gridcolor": "#283442",
           "linecolor": "#506784",
           "ticks": "",
           "title": {
            "standoff": 15
           },
           "zerolinecolor": "#283442",
           "zerolinewidth": 2
          },
          "yaxis": {
           "automargin": true,
           "gridcolor": "#283442",
           "linecolor": "#506784",
           "ticks": "",
           "title": {
            "standoff": 15
           },
           "zerolinecolor": "#283442",
           "zerolinewidth": 2
          }
         }
        },
        "title": {
         "text": "Distribuição de frequência"
        },
        "xaxis": {
         "anchor": "y",
         "domain": [
          0,
          1
         ],
         "title": {
          "text": "QTD"
         }
        },
        "yaxis": {
         "anchor": "x",
         "domain": [
          0,
          1
         ]
        }
       }
      }
     },
     "metadata": {},
     "output_type": "display_data"
    }
   ],
   "source": [
    "fa = df.value_counts(subset=['SETOR'], sort=True, ascending=False).rename(\"QTD\").reset_index()\n",
    "\n",
    "fig = px.box(data_frame=fa, template='plotly_dark', x='QTD', points='all', title='Distribuição de frequência')\n",
    "fig.show()"
   ]
  },
  {
   "cell_type": "markdown",
   "metadata": {},
   "source": [
    "Distribuição:\n",
    "Podemos ver, através do gráfico de caixa acima, a distribuição quantitativa setorial da b3, que nos demonstra, também, que 4 dos 11 setores possuem uma maior concentração numérica de empresas se comparados aos demais."
   ]
  },
  {
   "cell_type": "markdown",
   "metadata": {},
   "source": [
    "- Quais as medidas centrais dos dados de quantidade de setores?"
   ]
  },
  {
   "cell_type": "code",
   "execution_count": 20,
   "metadata": {},
   "outputs": [
    {
     "name": "stdout",
     "output_type": "stream",
     "text": [
      "Média da quantidade de empresas por setor: 39\n",
      "Mediana da quantidade de empresas por setor: 31.0\n",
      "Moda: Consumo Cíclico\n"
     ]
    }
   ],
   "source": [
    "fa = df.value_counts(subset=['SETOR'], sort=True, ascending=False).rename(\"QTD\").reset_index()\n",
    "print('Média da quantidade de empresas por setor:', round(fa.QTD.mean()))\n",
    "print('Mediana da quantidade de empresas por setor:', fa.QTD.median())\n",
    "print('Moda:', fa.SETOR[0])"
   ]
  },
  {
   "cell_type": "markdown",
   "metadata": {},
   "source": [
    "- Qual a frequência absoluta/relativa/acumulada dos setores por segmentos?"
   ]
  },
  {
   "cell_type": "code",
   "execution_count": 25,
   "metadata": {},
   "outputs": [
    {
     "name": "stderr",
     "output_type": "stream",
     "text": [
      "c:\\Users\\adria\\anaconda3\\Lib\\site-packages\\plotly\\express\\_core.py:1619: FutureWarning:\n",
      "\n",
      "The default of observed=False is deprecated and will be changed to True in a future version of pandas. Pass observed=False to retain current behavior or observed=True to adopt the future default and silence this warning.\n",
      "\n",
      "c:\\Users\\adria\\anaconda3\\Lib\\site-packages\\plotly\\express\\_core.py:1619: FutureWarning:\n",
      "\n",
      "The default of observed=False is deprecated and will be changed to True in a future version of pandas. Pass observed=False to retain current behavior or observed=True to adopt the future default and silence this warning.\n",
      "\n"
     ]
    },
    {
     "data": {
      "application/vnd.plotly.v1+json": {
       "config": {
        "plotlyServerURL": "https://plot.ly"
       },
       "data": [
        {
         "branchvalues": "total",
         "domain": {
          "x": [
           0,
           1
          ],
          "y": [
           0,
           1
          ]
         },
         "hoverinfo": "label+value+percent entry",
         "ids": [
          "Total/Bens Industriais/Acessórios",
          "Total/Comunicações/Acessórios",
          "Total/Consumo Cíclico/Acessórios",
          "Total/Consumo não Cíclico/Acessórios",
          "Total/Financeiro/Acessórios",
          "Total/Materiais Básicos/Acessórios",
          "Total/Outros/Acessórios",
          "Total/Petróleo, Gás e Biocombustíveis/Acessórios",
          "Total/Saúde/Acessórios",
          "Total/Tecnologia da Informação/Acessórios",
          "Total/Utilidade Pública/Acessórios",
          "Total/Bens Industriais/Agricultura",
          "Total/Comunicações/Agricultura",
          "Total/Consumo Cíclico/Agricultura",
          "Total/Consumo não Cíclico/Agricultura",
          "Total/Financeiro/Agricultura",
          "Total/Materiais Básicos/Agricultura",
          "Total/Outros/Agricultura",
          "Total/Petróleo, Gás e Biocombustíveis/Agricultura",
          "Total/Saúde/Agricultura",
          "Total/Tecnologia da Informação/Agricultura",
          "Total/Utilidade Pública/Agricultura",
          "Total/Bens Industriais/Alimentos",
          "Total/Comunicações/Alimentos",
          "Total/Consumo Cíclico/Alimentos",
          "Total/Consumo não Cíclico/Alimentos",
          "Total/Financeiro/Alimentos",
          "Total/Materiais Básicos/Alimentos",
          "Total/Outros/Alimentos",
          "Total/Petróleo, Gás e Biocombustíveis/Alimentos",
          "Total/Saúde/Alimentos",
          "Total/Tecnologia da Informação/Alimentos",
          "Total/Utilidade Pública/Alimentos",
          "Total/Bens Industriais/Alimentos Diversos",
          "Total/Comunicações/Alimentos Diversos",
          "Total/Consumo Cíclico/Alimentos Diversos",
          "Total/Consumo não Cíclico/Alimentos Diversos",
          "Total/Financeiro/Alimentos Diversos",
          "Total/Materiais Básicos/Alimentos Diversos",
          "Total/Outros/Alimentos Diversos",
          "Total/Petróleo, Gás e Biocombustíveis/Alimentos Diversos",
          "Total/Saúde/Alimentos Diversos",
          "Total/Tecnologia da Informação/Alimentos Diversos",
          "Total/Utilidade Pública/Alimentos Diversos",
          "Total/Bens Industriais/Aluguel de carros",
          "Total/Comunicações/Aluguel de carros",
          "Total/Consumo Cíclico/Aluguel de carros",
          "Total/Consumo não Cíclico/Aluguel de carros",
          "Total/Financeiro/Aluguel de carros",
          "Total/Materiais Básicos/Aluguel de carros",
          "Total/Outros/Aluguel de carros",
          "Total/Petróleo, Gás e Biocombustíveis/Aluguel de carros",
          "Total/Saúde/Aluguel de carros",
          "Total/Tecnologia da Informação/Aluguel de carros",
          "Total/Utilidade Pública/Aluguel de carros",
          "Total/Bens Industriais/Armas e Munições",
          "Total/Comunicações/Armas e Munições",
          "Total/Consumo Cíclico/Armas e Munições",
          "Total/Consumo não Cíclico/Armas e Munições",
          "Total/Financeiro/Armas e Munições",
          "Total/Materiais Básicos/Armas e Munições",
          "Total/Outros/Armas e Munições",
          "Total/Petróleo, Gás e Biocombustíveis/Armas e Munições",
          "Total/Saúde/Armas e Munições",
          "Total/Tecnologia da Informação/Armas e Munições",
          "Total/Utilidade Pública/Armas e Munições",
          "Total/Bens Industriais/Artefatos de Cobre",
          "Total/Comunicações/Artefatos de Cobre",
          "Total/Consumo Cíclico/Artefatos de Cobre",
          "Total/Consumo não Cíclico/Artefatos de Cobre",
          "Total/Financeiro/Artefatos de Cobre",
          "Total/Materiais Básicos/Artefatos de Cobre",
          "Total/Outros/Artefatos de Cobre",
          "Total/Petróleo, Gás e Biocombustíveis/Artefatos de Cobre",
          "Total/Saúde/Artefatos de Cobre",
          "Total/Tecnologia da Informação/Artefatos de Cobre",
          "Total/Utilidade Pública/Artefatos de Cobre",
          "Total/Bens Industriais/Artefatos de Ferro e Aço",
          "Total/Comunicações/Artefatos de Ferro e Aço",
          "Total/Consumo Cíclico/Artefatos de Ferro e Aço",
          "Total/Consumo não Cíclico/Artefatos de Ferro e Aço",
          "Total/Financeiro/Artefatos de Ferro e Aço",
          "Total/Materiais Básicos/Artefatos de Ferro e Aço",
          "Total/Outros/Artefatos de Ferro e Aço",
          "Total/Petróleo, Gás e Biocombustíveis/Artefatos de Ferro e Aço",
          "Total/Saúde/Artefatos de Ferro e Aço",
          "Total/Tecnologia da Informação/Artefatos de Ferro e Aço",
          "Total/Utilidade Pública/Artefatos de Ferro e Aço",
          "Total/Bens Industriais/Atividades Esportivas",
          "Total/Comunicações/Atividades Esportivas",
          "Total/Consumo Cíclico/Atividades Esportivas",
          "Total/Consumo não Cíclico/Atividades Esportivas",
          "Total/Financeiro/Atividades Esportivas",
          "Total/Materiais Básicos/Atividades Esportivas",
          "Total/Outros/Atividades Esportivas",
          "Total/Petróleo, Gás e Biocombustíveis/Atividades Esportivas",
          "Total/Saúde/Atividades Esportivas",
          "Total/Tecnologia da Informação/Atividades Esportivas",
          "Total/Utilidade Pública/Atividades Esportivas",
          "Total/Bens Industriais/Automóveis e Motocicletas",
          "Total/Comunicações/Automóveis e Motocicletas",
          "Total/Consumo Cíclico/Automóveis e Motocicletas",
          "Total/Consumo não Cíclico/Automóveis e Motocicletas",
          "Total/Financeiro/Automóveis e Motocicletas",
          "Total/Materiais Básicos/Automóveis e Motocicletas",
          "Total/Outros/Automóveis e Motocicletas",
          "Total/Petróleo, Gás e Biocombustíveis/Automóveis e Motocicletas",
          "Total/Saúde/Automóveis e Motocicletas",
          "Total/Tecnologia da Informação/Automóveis e Motocicletas",
          "Total/Utilidade Pública/Automóveis e Motocicletas",
          "Total/Bens Industriais/Açucar e Alcool",
          "Total/Comunicações/Açucar e Alcool",
          "Total/Consumo Cíclico/Açucar e Alcool",
          "Total/Consumo não Cíclico/Açucar e Alcool",
          "Total/Financeiro/Açucar e Alcool",
          "Total/Materiais Básicos/Açucar e Alcool",
          "Total/Outros/Açucar e Alcool",
          "Total/Petróleo, Gás e Biocombustíveis/Açucar e Alcool",
          "Total/Saúde/Açucar e Alcool",
          "Total/Tecnologia da Informação/Açucar e Alcool",
          "Total/Utilidade Pública/Açucar e Alcool",
          "Total/Bens Industriais/Bancos",
          "Total/Comunicações/Bancos",
          "Total/Consumo Cíclico/Bancos",
          "Total/Consumo não Cíclico/Bancos",
          "Total/Financeiro/Bancos",
          "Total/Materiais Básicos/Bancos",
          "Total/Outros/Bancos",
          "Total/Petróleo, Gás e Biocombustíveis/Bancos",
          "Total/Saúde/Bancos",
          "Total/Tecnologia da Informação/Bancos",
          "Total/Utilidade Pública/Bancos",
          "Total/Bens Industriais/Bicicletas",
          "Total/Comunicações/Bicicletas",
          "Total/Consumo Cíclico/Bicicletas",
          "Total/Consumo não Cíclico/Bicicletas",
          "Total/Financeiro/Bicicletas",
          "Total/Materiais Básicos/Bicicletas",
          "Total/Outros/Bicicletas",
          "Total/Petróleo, Gás e Biocombustíveis/Bicicletas",
          "Total/Saúde/Bicicletas",
          "Total/Tecnologia da Informação/Bicicletas",
          "Total/Utilidade Pública/Bicicletas",
          "Total/Bens Industriais/Brinquedos e Jogos",
          "Total/Comunicações/Brinquedos e Jogos",
          "Total/Consumo Cíclico/Brinquedos e Jogos",
          "Total/Consumo não Cíclico/Brinquedos e Jogos",
          "Total/Financeiro/Brinquedos e Jogos",
          "Total/Materiais Básicos/Brinquedos e Jogos",
          "Total/Outros/Brinquedos e Jogos",
          "Total/Petróleo, Gás e Biocombustíveis/Brinquedos e Jogos",
          "Total/Saúde/Brinquedos e Jogos",
          "Total/Tecnologia da Informação/Brinquedos e Jogos",
          "Total/Utilidade Pública/Brinquedos e Jogos",
          "Total/Bens Industriais/Calçados",
          "Total/Comunicações/Calçados",
          "Total/Consumo Cíclico/Calçados",
          "Total/Consumo não Cíclico/Calçados",
          "Total/Financeiro/Calçados",
          "Total/Materiais Básicos/Calçados",
          "Total/Outros/Calçados",
          "Total/Petróleo, Gás e Biocombustíveis/Calçados",
          "Total/Saúde/Calçados",
          "Total/Tecnologia da Informação/Calçados",
          "Total/Utilidade Pública/Calçados",
          "Total/Bens Industriais/Carnes e Derivados",
          "Total/Comunicações/Carnes e Derivados",
          "Total/Consumo Cíclico/Carnes e Derivados",
          "Total/Consumo não Cíclico/Carnes e Derivados",
          "Total/Financeiro/Carnes e Derivados",
          "Total/Materiais Básicos/Carnes e Derivados",
          "Total/Outros/Carnes e Derivados",
          "Total/Petróleo, Gás e Biocombustíveis/Carnes e Derivados",
          "Total/Saúde/Carnes e Derivados",
          "Total/Tecnologia da Informação/Carnes e Derivados",
          "Total/Utilidade Pública/Carnes e Derivados",
          "Total/Bens Industriais/Cervejas e Refrigerantes",
          "Total/Comunicações/Cervejas e Refrigerantes",
          "Total/Consumo Cíclico/Cervejas e Refrigerantes",
          "Total/Consumo não Cíclico/Cervejas e Refrigerantes",
          "Total/Financeiro/Cervejas e Refrigerantes",
          "Total/Materiais Básicos/Cervejas e Refrigerantes",
          "Total/Outros/Cervejas e Refrigerantes",
          "Total/Petróleo, Gás e Biocombustíveis/Cervejas e Refrigerantes",
          "Total/Saúde/Cervejas e Refrigerantes",
          "Total/Tecnologia da Informação/Cervejas e Refrigerantes",
          "Total/Utilidade Pública/Cervejas e Refrigerantes",
          "Total/Bens Industriais/Computadores e Equipamentos",
          "Total/Comunicações/Computadores e Equipamentos",
          "Total/Consumo Cíclico/Computadores e Equipamentos",
          "Total/Consumo não Cíclico/Computadores e Equipamentos",
          "Total/Financeiro/Computadores e Equipamentos",
          "Total/Materiais Básicos/Computadores e Equipamentos",
          "Total/Outros/Computadores e Equipamentos",
          "Total/Petróleo, Gás e Biocombustíveis/Computadores e Equipamentos",
          "Total/Saúde/Computadores e Equipamentos",
          "Total/Tecnologia da Informação/Computadores e Equipamentos",
          "Total/Utilidade Pública/Computadores e Equipamentos",
          "Total/Bens Industriais/Construção Pesada",
          "Total/Comunicações/Construção Pesada",
          "Total/Consumo Cíclico/Construção Pesada",
          "Total/Consumo não Cíclico/Construção Pesada",
          "Total/Financeiro/Construção Pesada",
          "Total/Materiais Básicos/Construção Pesada",
          "Total/Outros/Construção Pesada",
          "Total/Petróleo, Gás e Biocombustíveis/Construção Pesada",
          "Total/Saúde/Construção Pesada",
          "Total/Tecnologia da Informação/Construção Pesada",
          "Total/Utilidade Pública/Construção Pesada",
          "Total/Bens Industriais/Corretoras de Seguros e Resseguros",
          "Total/Comunicações/Corretoras de Seguros e Resseguros",
          "Total/Consumo Cíclico/Corretoras de Seguros e Resseguros",
          "Total/Consumo não Cíclico/Corretoras de Seguros e Resseguros",
          "Total/Financeiro/Corretoras de Seguros e Resseguros",
          "Total/Materiais Básicos/Corretoras de Seguros e Resseguros",
          "Total/Outros/Corretoras de Seguros e Resseguros",
          "Total/Petróleo, Gás e Biocombustíveis/Corretoras de Seguros e Resseguros",
          "Total/Saúde/Corretoras de Seguros e Resseguros",
          "Total/Tecnologia da Informação/Corretoras de Seguros e Resseguros",
          "Total/Utilidade Pública/Corretoras de Seguros e Resseguros",
          "Total/Bens Industriais/Eletrodomésticos",
          "Total/Comunicações/Eletrodomésticos",
          "Total/Consumo Cíclico/Eletrodomésticos",
          "Total/Consumo não Cíclico/Eletrodomésticos",
          "Total/Financeiro/Eletrodomésticos",
          "Total/Materiais Básicos/Eletrodomésticos",
          "Total/Outros/Eletrodomésticos",
          "Total/Petróleo, Gás e Biocombustíveis/Eletrodomésticos",
          "Total/Saúde/Eletrodomésticos",
          "Total/Tecnologia da Informação/Eletrodomésticos",
          "Total/Utilidade Pública/Eletrodomésticos",
          "Total/Bens Industriais/Embalagens",
          "Total/Comunicações/Embalagens",
          "Total/Consumo Cíclico/Embalagens",
          "Total/Consumo não Cíclico/Embalagens",
          "Total/Financeiro/Embalagens",
          "Total/Materiais Básicos/Embalagens",
          "Total/Outros/Embalagens",
          "Total/Petróleo, Gás e Biocombustíveis/Embalagens",
          "Total/Saúde/Embalagens",
          "Total/Tecnologia da Informação/Embalagens",
          "Total/Utilidade Pública/Embalagens",
          "Total/Bens Industriais/Energia Elétrica",
          "Total/Comunicações/Energia Elétrica",
          "Total/Consumo Cíclico/Energia Elétrica",
          "Total/Consumo não Cíclico/Energia Elétrica",
          "Total/Financeiro/Energia Elétrica",
          "Total/Materiais Básicos/Energia Elétrica",
          "Total/Outros/Energia Elétrica",
          "Total/Petróleo, Gás e Biocombustíveis/Energia Elétrica",
          "Total/Saúde/Energia Elétrica",
          "Total/Tecnologia da Informação/Energia Elétrica",
          "Total/Utilidade Pública/Energia Elétrica",
          "Total/Bens Industriais/Engenharia Consultiva",
          "Total/Comunicações/Engenharia Consultiva",
          "Total/Consumo Cíclico/Engenharia Consultiva",
          "Total/Consumo não Cíclico/Engenharia Consultiva",
          "Total/Financeiro/Engenharia Consultiva",
          "Total/Materiais Básicos/Engenharia Consultiva",
          "Total/Outros/Engenharia Consultiva",
          "Total/Petróleo, Gás e Biocombustíveis/Engenharia Consultiva",
          "Total/Saúde/Engenharia Consultiva",
          "Total/Tecnologia da Informação/Engenharia Consultiva",
          "Total/Utilidade Pública/Engenharia Consultiva",
          "Total/Bens Industriais/Equipamentos",
          "Total/Comunicações/Equipamentos",
          "Total/Consumo Cíclico/Equipamentos",
          "Total/Consumo não Cíclico/Equipamentos",
          "Total/Financeiro/Equipamentos",
          "Total/Materiais Básicos/Equipamentos",
          "Total/Outros/Equipamentos",
          "Total/Petróleo, Gás e Biocombustíveis/Equipamentos",
          "Total/Saúde/Equipamentos",
          "Total/Tecnologia da Informação/Equipamentos",
          "Total/Utilidade Pública/Equipamentos",
          "Total/Bens Industriais/Equipamentos e Serviços",
          "Total/Comunicações/Equipamentos e Serviços",
          "Total/Consumo Cíclico/Equipamentos e Serviços",
          "Total/Consumo não Cíclico/Equipamentos e Serviços",
          "Total/Financeiro/Equipamentos e Serviços",
          "Total/Materiais Básicos/Equipamentos e Serviços",
          "Total/Outros/Equipamentos e Serviços",
          "Total/Petróleo, Gás e Biocombustíveis/Equipamentos e Serviços",
          "Total/Saúde/Equipamentos e Serviços",
          "Total/Tecnologia da Informação/Equipamentos e Serviços",
          "Total/Utilidade Pública/Equipamentos e Serviços",
          "Total/Bens Industriais/Exploração de Imóveis",
          "Total/Comunicações/Exploração de Imóveis",
          "Total/Consumo Cíclico/Exploração de Imóveis",
          "Total/Consumo não Cíclico/Exploração de Imóveis",
          "Total/Financeiro/Exploração de Imóveis",
          "Total/Materiais Básicos/Exploração de Imóveis",
          "Total/Outros/Exploração de Imóveis",
          "Total/Petróleo, Gás e Biocombustíveis/Exploração de Imóveis",
          "Total/Saúde/Exploração de Imóveis",
          "Total/Tecnologia da Informação/Exploração de Imóveis",
          "Total/Utilidade Pública/Exploração de Imóveis",
          "Total/Bens Industriais/Exploração de Rodovias",
          "Total/Comunicações/Exploração de Rodovias",
          "Total/Consumo Cíclico/Exploração de Rodovias",
          "Total/Consumo não Cíclico/Exploração de Rodovias",
          "Total/Financeiro/Exploração de Rodovias",
          "Total/Materiais Básicos/Exploração de Rodovias",
          "Total/Outros/Exploração de Rodovias",
          "Total/Petróleo, Gás e Biocombustíveis/Exploração de Rodovias",
          "Total/Saúde/Exploração de Rodovias",
          "Total/Tecnologia da Informação/Exploração de Rodovias",
          "Total/Utilidade Pública/Exploração de Rodovias",
          "Total/Bens Industriais/Exploração, Refino e Distribuição",
          "Total/Comunicações/Exploração, Refino e Distribuição",
          "Total/Consumo Cíclico/Exploração, Refino e Distribuição",
          "Total/Consumo não Cíclico/Exploração, Refino e Distribuição",
          "Total/Financeiro/Exploração, Refino e Distribuição",
          "Total/Materiais Básicos/Exploração, Refino e Distribuição",
          "Total/Outros/Exploração, Refino e Distribuição",
          "Total/Petróleo, Gás e Biocombustíveis/Exploração, Refino e Distribuição",
          "Total/Saúde/Exploração, Refino e Distribuição",
          "Total/Tecnologia da Informação/Exploração, Refino e Distribuição",
          "Total/Utilidade Pública/Exploração, Refino e Distribuição",
          "Total/Bens Industriais/Fertilizantes e Defensivos",
          "Total/Comunicações/Fertilizantes e Defensivos",
          "Total/Consumo Cíclico/Fertilizantes e Defensivos",
          "Total/Consumo não Cíclico/Fertilizantes e Defensivos",
          "Total/Financeiro/Fertilizantes e Defensivos",
          "Total/Materiais Básicos/Fertilizantes e Defensivos",
          "Total/Outros/Fertilizantes e Defensivos",
          "Total/Petróleo, Gás e Biocombustíveis/Fertilizantes e Defensivos",
          "Total/Saúde/Fertilizantes e Defensivos",
          "Total/Tecnologia da Informação/Fertilizantes e Defensivos",
          "Total/Utilidade Pública/Fertilizantes e Defensivos",
          "Total/Bens Industriais/Fios e Tecidos",
          "Total/Comunicações/Fios e Tecidos",
          "Total/Consumo Cíclico/Fios e Tecidos",
          "Total/Consumo não Cíclico/Fios e Tecidos",
          "Total/Financeiro/Fios e Tecidos",
          "Total/Materiais Básicos/Fios e Tecidos",
          "Total/Outros/Fios e Tecidos",
          "Total/Petróleo, Gás e Biocombustíveis/Fios e Tecidos",
          "Total/Saúde/Fios e Tecidos",
          "Total/Tecnologia da Informação/Fios e Tecidos",
          "Total/Utilidade Pública/Fios e Tecidos",
          "Total/Bens Industriais/Gestão de Recursos e Investimentos",
          "Total/Comunicações/Gestão de Recursos e Investimentos",
          "Total/Consumo Cíclico/Gestão de Recursos e Investimentos",
          "Total/Consumo não Cíclico/Gestão de Recursos e Investimentos",
          "Total/Financeiro/Gestão de Recursos e Investimentos",
          "Total/Materiais Básicos/Gestão de Recursos e Investimentos",
          "Total/Outros/Gestão de Recursos e Investimentos",
          "Total/Petróleo, Gás e Biocombustíveis/Gestão de Recursos e Investimentos",
          "Total/Saúde/Gestão de Recursos e Investimentos",
          "Total/Tecnologia da Informação/Gestão de Recursos e Investimentos",
          "Total/Utilidade Pública/Gestão de Recursos e Investimentos",
          "Total/Bens Industriais/Gás",
          "Total/Comunicações/Gás",
          "Total/Consumo Cíclico/Gás",
          "Total/Consumo não Cíclico/Gás",
          "Total/Financeiro/Gás",
          "Total/Materiais Básicos/Gás",
          "Total/Outros/Gás",
          "Total/Petróleo, Gás e Biocombustíveis/Gás",
          "Total/Saúde/Gás",
          "Total/Tecnologia da Informação/Gás",
          "Total/Utilidade Pública/Gás",
          "Total/Bens Industriais/Holdings Diversificadas",
          "Total/Comunicações/Holdings Diversificadas",
          "Total/Consumo Cíclico/Holdings Diversificadas",
          "Total/Consumo não Cíclico/Holdings Diversificadas",
          "Total/Financeiro/Holdings Diversificadas",
          "Total/Materiais Básicos/Holdings Diversificadas",
          "Total/Outros/Holdings Diversificadas",
          "Total/Petróleo, Gás e Biocombustíveis/Holdings Diversificadas",
          "Total/Saúde/Holdings Diversificadas",
          "Total/Tecnologia da Informação/Holdings Diversificadas",
          "Total/Utilidade Pública/Holdings Diversificadas",
          "Total/Bens Industriais/Hotelaria",
          "Total/Comunicações/Hotelaria",
          "Total/Consumo Cíclico/Hotelaria",
          "Total/Consumo não Cíclico/Hotelaria",
          "Total/Financeiro/Hotelaria",
          "Total/Materiais Básicos/Hotelaria",
          "Total/Outros/Hotelaria",
          "Total/Petróleo, Gás e Biocombustíveis/Hotelaria",
          "Total/Saúde/Hotelaria",
          "Total/Tecnologia da Informação/Hotelaria",
          "Total/Utilidade Pública/Hotelaria",
          "Total/Bens Industriais/Incorporações",
          "Total/Comunicações/Incorporações",
          "Total/Consumo Cíclico/Incorporações",
          "Total/Consumo não Cíclico/Incorporações",
          "Total/Financeiro/Incorporações",
          "Total/Materiais Básicos/Incorporações",
          "Total/Outros/Incorporações",
          "Total/Petróleo, Gás e Biocombustíveis/Incorporações",
          "Total/Saúde/Incorporações",
          "Total/Tecnologia da Informação/Incorporações",
          "Total/Utilidade Pública/Incorporações",
          "Total/Bens Industriais/Intermediação Imobiliária",
          "Total/Comunicações/Intermediação Imobiliária",
          "Total/Consumo Cíclico/Intermediação Imobiliária",
          "Total/Consumo não Cíclico/Intermediação Imobiliária",
          "Total/Financeiro/Intermediação Imobiliária",
          "Total/Materiais Básicos/Intermediação Imobiliária",
          "Total/Outros/Intermediação Imobiliária",
          "Total/Petróleo, Gás e Biocombustíveis/Intermediação Imobiliária",
          "Total/Saúde/Intermediação Imobiliária",
          "Total/Tecnologia da Informação/Intermediação Imobiliária",
          "Total/Utilidade Pública/Intermediação Imobiliária",
          "Total/Bens Industriais/Linhas Aéreas de Passageiros",
          "Total/Comunicações/Linhas Aéreas de Passageiros",
          "Total/Consumo Cíclico/Linhas Aéreas de Passageiros",
          "Total/Consumo não Cíclico/Linhas Aéreas de Passageiros",
          "Total/Financeiro/Linhas Aéreas de Passageiros",
          "Total/Materiais Básicos/Linhas Aéreas de Passageiros",
          "Total/Outros/Linhas Aéreas de Passageiros",
          "Total/Petróleo, Gás e Biocombustíveis/Linhas Aéreas de Passageiros",
          "Total/Saúde/Linhas Aéreas de Passageiros",
          "Total/Tecnologia da Informação/Linhas Aéreas de Passageiros",
          "Total/Utilidade Pública/Linhas Aéreas de Passageiros",
          "Total/Bens Industriais/Madeira",
          "Total/Comunicações/Madeira",
          "Total/Consumo Cíclico/Madeira",
          "Total/Consumo não Cíclico/Madeira",
          "Total/Financeiro/Madeira",
          "Total/Materiais Básicos/Madeira",
          "Total/Outros/Madeira",
          "Total/Petróleo, Gás e Biocombustíveis/Madeira",
          "Total/Saúde/Madeira",
          "Total/Tecnologia da Informação/Madeira",
          "Total/Utilidade Pública/Madeira",
          "Total/Bens Industriais/Materiais Diversos",
          "Total/Comunicações/Materiais Diversos",
          "Total/Consumo Cíclico/Materiais Diversos",
          "Total/Consumo não Cíclico/Materiais Diversos",
          "Total/Financeiro/Materiais Diversos",
          "Total/Materiais Básicos/Materiais Diversos",
          "Total/Outros/Materiais Diversos",
          "Total/Petróleo, Gás e Biocombustíveis/Materiais Diversos",
          "Total/Saúde/Materiais Diversos",
          "Total/Tecnologia da Informação/Materiais Diversos",
          "Total/Utilidade Pública/Materiais Diversos",
          "Total/Bens Industriais/Material Aeronáutico e de Defesa",
          "Total/Comunicações/Material Aeronáutico e de Defesa",
          "Total/Consumo Cíclico/Material Aeronáutico e de Defesa",
          "Total/Consumo não Cíclico/Material Aeronáutico e de Defesa",
          "Total/Financeiro/Material Aeronáutico e de Defesa",
          "Total/Materiais Básicos/Material Aeronáutico e de Defesa",
          "Total/Outros/Material Aeronáutico e de Defesa",
          "Total/Petróleo, Gás e Biocombustíveis/Material Aeronáutico e de Defesa",
          "Total/Saúde/Material Aeronáutico e de Defesa",
          "Total/Tecnologia da Informação/Material Aeronáutico e de Defesa",
          "Total/Utilidade Pública/Material Aeronáutico e de Defesa",
          "Total/Bens Industriais/Material Rodoviário",
          "Total/Comunicações/Material Rodoviário",
          "Total/Consumo Cíclico/Material Rodoviário",
          "Total/Consumo não Cíclico/Material Rodoviário",
          "Total/Financeiro/Material Rodoviário",
          "Total/Materiais Básicos/Material Rodoviário",
          "Total/Outros/Material Rodoviário",
          "Total/Petróleo, Gás e Biocombustíveis/Material Rodoviário",
          "Total/Saúde/Material Rodoviário",
          "Total/Tecnologia da Informação/Material Rodoviário",
          "Total/Utilidade Pública/Material Rodoviário",
          "Total/Bens Industriais/Material de Transporte",
          "Total/Comunicações/Material de Transporte",
          "Total/Consumo Cíclico/Material de Transporte",
          "Total/Consumo não Cíclico/Material de Transporte",
          "Total/Financeiro/Material de Transporte",
          "Total/Materiais Básicos/Material de Transporte",
          "Total/Outros/Material de Transporte",
          "Total/Petróleo, Gás e Biocombustíveis/Material de Transporte",
          "Total/Saúde/Material de Transporte",
          "Total/Tecnologia da Informação/Material de Transporte",
          "Total/Utilidade Pública/Material de Transporte",
          "Total/Bens Industriais/Medicamentos e Outros Produtos",
          "Total/Comunicações/Medicamentos e Outros Produtos",
          "Total/Consumo Cíclico/Medicamentos e Outros Produtos",
          "Total/Consumo não Cíclico/Medicamentos e Outros Produtos",
          "Total/Financeiro/Medicamentos e Outros Produtos",
          "Total/Materiais Básicos/Medicamentos e Outros Produtos",
          "Total/Outros/Medicamentos e Outros Produtos",
          "Total/Petróleo, Gás e Biocombustíveis/Medicamentos e Outros Produtos",
          "Total/Saúde/Medicamentos e Outros Produtos",
          "Total/Tecnologia da Informação/Medicamentos e Outros Produtos",
          "Total/Utilidade Pública/Medicamentos e Outros Produtos",
          "Total/Bens Industriais/Minerais Metálicos",
          "Total/Comunicações/Minerais Metálicos",
          "Total/Consumo Cíclico/Minerais Metálicos",
          "Total/Consumo não Cíclico/Minerais Metálicos",
          "Total/Financeiro/Minerais Metálicos",
          "Total/Materiais Básicos/Minerais Metálicos",
          "Total/Outros/Minerais Metálicos",
          "Total/Petróleo, Gás e Biocombustíveis/Minerais Metálicos",
          "Total/Saúde/Minerais Metálicos",
          "Total/Tecnologia da Informação/Minerais Metálicos",
          "Total/Utilidade Pública/Minerais Metálicos",
          "Total/Bens Industriais/Motores, Compressores e Outros",
          "Total/Comunicações/Motores, Compressores e Outros",
          "Total/Consumo Cíclico/Motores, Compressores e Outros",
          "Total/Consumo não Cíclico/Motores, Compressores e Outros",
          "Total/Financeiro/Motores, Compressores e Outros",
          "Total/Materiais Básicos/Motores, Compressores e Outros",
          "Total/Outros/Motores, Compressores e Outros",
          "Total/Petróleo, Gás e Biocombustíveis/Motores, Compressores e Outros",
          "Total/Saúde/Motores, Compressores e Outros",
          "Total/Tecnologia da Informação/Motores, Compressores e Outros",
          "Total/Utilidade Pública/Motores, Compressores e Outros",
          "Total/Bens Industriais/Máq. e Equip. Construção e Agrícolas",
          "Total/Comunicações/Máq. e Equip. Construção e Agrícolas",
          "Total/Consumo Cíclico/Máq. e Equip. Construção e Agrícolas",
          "Total/Consumo não Cíclico/Máq. e Equip. Construção e Agrícolas",
          "Total/Financeiro/Máq. e Equip. Construção e Agrícolas",
          "Total/Materiais Básicos/Máq. e Equip. Construção e Agrícolas",
          "Total/Outros/Máq. e Equip. Construção e Agrícolas",
          "Total/Petróleo, Gás e Biocombustíveis/Máq. e Equip. Construção e Agrícolas",
          "Total/Saúde/Máq. e Equip. Construção e Agrícolas",
          "Total/Tecnologia da Informação/Máq. e Equip. Construção e Agrícolas",
          "Total/Utilidade Pública/Máq. e Equip. Construção e Agrícolas",
          "Total/Bens Industriais/Máq. e Equip. Industriais",
          "Total/Comunicações/Máq. e Equip. Industriais",
          "Total/Consumo Cíclico/Máq. e Equip. Industriais",
          "Total/Consumo não Cíclico/Máq. e Equip. Industriais",
          "Total/Financeiro/Máq. e Equip. Industriais",
          "Total/Materiais Básicos/Máq. e Equip. Industriais",
          "Total/Outros/Máq. e Equip. Industriais",
          "Total/Petróleo, Gás e Biocombustíveis/Máq. e Equip. Industriais",
          "Total/Saúde/Máq. e Equip. Industriais",
          "Total/Tecnologia da Informação/Máq. e Equip. Industriais",
          "Total/Utilidade Pública/Máq. e Equip. Industriais",
          "Total/Bens Industriais/Móveis",
          "Total/Comunicações/Móveis",
          "Total/Consumo Cíclico/Móveis",
          "Total/Consumo não Cíclico/Móveis",
          "Total/Financeiro/Móveis",
          "Total/Materiais Básicos/Móveis",
          "Total/Outros/Móveis",
          "Total/Petróleo, Gás e Biocombustíveis/Móveis",
          "Total/Saúde/Móveis",
          "Total/Tecnologia da Informação/Móveis",
          "Total/Utilidade Pública/Móveis",
          "Total/Bens Industriais/Outros",
          "Total/Comunicações/Outros",
          "Total/Consumo Cíclico/Outros",
          "Total/Consumo não Cíclico/Outros",
          "Total/Financeiro/Outros",
          "Total/Materiais Básicos/Outros",
          "Total/Outros/Outros",
          "Total/Petróleo, Gás e Biocombustíveis/Outros",
          "Total/Saúde/Outros",
          "Total/Tecnologia da Informação/Outros",
          "Total/Utilidade Pública/Outros",
          "Total/Bens Industriais/Outros Títulos",
          "Total/Comunicações/Outros Títulos",
          "Total/Consumo Cíclico/Outros Títulos",
          "Total/Consumo não Cíclico/Outros Títulos",
          "Total/Financeiro/Outros Títulos",
          "Total/Materiais Básicos/Outros Títulos",
          "Total/Outros/Outros Títulos",
          "Total/Petróleo, Gás e Biocombustíveis/Outros Títulos",
          "Total/Saúde/Outros Títulos",
          "Total/Tecnologia da Informação/Outros Títulos",
          "Total/Utilidade Pública/Outros Títulos",
          "Total/Bens Industriais/Papel e Celulose",
          "Total/Comunicações/Papel e Celulose",
          "Total/Consumo Cíclico/Papel e Celulose",
          "Total/Consumo não Cíclico/Papel e Celulose",
          "Total/Financeiro/Papel e Celulose",
          "Total/Materiais Básicos/Papel e Celulose",
          "Total/Outros/Papel e Celulose",
          "Total/Petróleo, Gás e Biocombustíveis/Papel e Celulose",
          "Total/Saúde/Papel e Celulose",
          "Total/Tecnologia da Informação/Papel e Celulose",
          "Total/Utilidade Pública/Papel e Celulose",
          "Total/Bens Industriais/Petroquímicos",
          "Total/Comunicações/Petroquímicos",
          "Total/Consumo Cíclico/Petroquímicos",
          "Total/Consumo não Cíclico/Petroquímicos",
          "Total/Financeiro/Petroquímicos",
          "Total/Materiais Básicos/Petroquímicos",
          "Total/Outros/Petroquímicos",
          "Total/Petróleo, Gás e Biocombustíveis/Petroquímicos",
          "Total/Saúde/Petroquímicos",
          "Total/Tecnologia da Informação/Petroquímicos",
          "Total/Utilidade Pública/Petroquímicos",
          "Total/Bens Industriais/Produtos Diversos",
          "Total/Comunicações/Produtos Diversos",
          "Total/Consumo Cíclico/Produtos Diversos",
          "Total/Consumo não Cíclico/Produtos Diversos",
          "Total/Financeiro/Produtos Diversos",
          "Total/Materiais Básicos/Produtos Diversos",
          "Total/Outros/Produtos Diversos",
          "Total/Petróleo, Gás e Biocombustíveis/Produtos Diversos",
          "Total/Saúde/Produtos Diversos",
          "Total/Tecnologia da Informação/Produtos Diversos",
          "Total/Utilidade Pública/Produtos Diversos",
          "Total/Bens Industriais/Produtos de Cuidado Pessoal",
          "Total/Comunicações/Produtos de Cuidado Pessoal",
          "Total/Consumo Cíclico/Produtos de Cuidado Pessoal",
          "Total/Consumo não Cíclico/Produtos de Cuidado Pessoal",
          "Total/Financeiro/Produtos de Cuidado Pessoal",
          "Total/Materiais Básicos/Produtos de Cuidado Pessoal",
          "Total/Outros/Produtos de Cuidado Pessoal",
          "Total/Petróleo, Gás e Biocombustíveis/Produtos de Cuidado Pessoal",
          "Total/Saúde/Produtos de Cuidado Pessoal",
          "Total/Tecnologia da Informação/Produtos de Cuidado Pessoal",
          "Total/Utilidade Pública/Produtos de Cuidado Pessoal",
          "Total/Bens Industriais/Produtos de Limpeza",
          "Total/Comunicações/Produtos de Limpeza",
          "Total/Consumo Cíclico/Produtos de Limpeza",
          "Total/Consumo não Cíclico/Produtos de Limpeza",
          "Total/Financeiro/Produtos de Limpeza",
          "Total/Materiais Básicos/Produtos de Limpeza",
          "Total/Outros/Produtos de Limpeza",
          "Total/Petróleo, Gás e Biocombustíveis/Produtos de Limpeza",
          "Total/Saúde/Produtos de Limpeza",
          "Total/Tecnologia da Informação/Produtos de Limpeza",
          "Total/Utilidade Pública/Produtos de Limpeza",
          "Total/Bens Industriais/Produtos para Construção",
          "Total/Comunicações/Produtos para Construção",
          "Total/Consumo Cíclico/Produtos para Construção",
          "Total/Consumo não Cíclico/Produtos para Construção",
          "Total/Financeiro/Produtos para Construção",
          "Total/Materiais Básicos/Produtos para Construção",
          "Total/Outros/Produtos para Construção",
          "Total/Petróleo, Gás e Biocombustíveis/Produtos para Construção",
          "Total/Saúde/Produtos para Construção",
          "Total/Tecnologia da Informação/Produtos para Construção",
          "Total/Utilidade Pública/Produtos para Construção",
          "Total/Bens Industriais/Produção de Eventos e Shows",
          "Total/Comunicações/Produção de Eventos e Shows",
          "Total/Consumo Cíclico/Produção de Eventos e Shows",
          "Total/Consumo não Cíclico/Produção de Eventos e Shows",
          "Total/Financeiro/Produção de Eventos e Shows",
          "Total/Materiais Básicos/Produção de Eventos e Shows",
          "Total/Outros/Produção de Eventos e Shows",
          "Total/Petróleo, Gás e Biocombustíveis/Produção de Eventos e Shows",
          "Total/Saúde/Produção de Eventos e Shows",
          "Total/Tecnologia da Informação/Produção de Eventos e Shows",
          "Total/Utilidade Pública/Produção de Eventos e Shows",
          "Total/Bens Industriais/Programas de Fidelização",
          "Total/Comunicações/Programas de Fidelização",
          "Total/Consumo Cíclico/Programas de Fidelização",
          "Total/Consumo não Cíclico/Programas de Fidelização",
          "Total/Financeiro/Programas de Fidelização",
          "Total/Materiais Básicos/Programas de Fidelização",
          "Total/Outros/Programas de Fidelização",
          "Total/Petróleo, Gás e Biocombustíveis/Programas de Fidelização",
          "Total/Saúde/Programas de Fidelização",
          "Total/Tecnologia da Informação/Programas de Fidelização",
          "Total/Utilidade Pública/Programas de Fidelização",
          "Total/Bens Industriais/Programas e Serviços",
          "Total/Comunicações/Programas e Serviços",
          "Total/Consumo Cíclico/Programas e Serviços",
          "Total/Consumo não Cíclico/Programas e Serviços",
          "Total/Financeiro/Programas e Serviços",
          "Total/Materiais Básicos/Programas e Serviços",
          "Total/Outros/Programas e Serviços",
          "Total/Petróleo, Gás e Biocombustíveis/Programas e Serviços",
          "Total/Saúde/Programas e Serviços",
          "Total/Tecnologia da Informação/Programas e Serviços",
          "Total/Utilidade Pública/Programas e Serviços",
          "Total/Bens Industriais/Publicidade e Propaganda",
          "Total/Comunicações/Publicidade e Propaganda",
          "Total/Consumo Cíclico/Publicidade e Propaganda",
          "Total/Consumo não Cíclico/Publicidade e Propaganda",
          "Total/Financeiro/Publicidade e Propaganda",
          "Total/Materiais Básicos/Publicidade e Propaganda",
          "Total/Outros/Publicidade e Propaganda",
          "Total/Petróleo, Gás e Biocombustíveis/Publicidade e Propaganda",
          "Total/Saúde/Publicidade e Propaganda",
          "Total/Tecnologia da Informação/Publicidade e Propaganda",
          "Total/Utilidade Pública/Publicidade e Propaganda",
          "Total/Bens Industriais/Químicos Diversos",
          "Total/Comunicações/Químicos Diversos",
          "Total/Consumo Cíclico/Químicos Diversos",
          "Total/Consumo não Cíclico/Químicos Diversos",
          "Total/Financeiro/Químicos Diversos",
          "Total/Materiais Básicos/Químicos Diversos",
          "Total/Outros/Químicos Diversos",
          "Total/Petróleo, Gás e Biocombustíveis/Químicos Diversos",
          "Total/Saúde/Químicos Diversos",
          "Total/Tecnologia da Informação/Químicos Diversos",
          "Total/Utilidade Pública/Químicos Diversos",
          "Total/Bens Industriais/Resseguradoras",
          "Total/Comunicações/Resseguradoras",
          "Total/Consumo Cíclico/Resseguradoras",
          "Total/Consumo não Cíclico/Resseguradoras",
          "Total/Financeiro/Resseguradoras",
          "Total/Materiais Básicos/Resseguradoras",
          "Total/Outros/Resseguradoras",
          "Total/Petróleo, Gás e Biocombustíveis/Resseguradoras",
          "Total/Saúde/Resseguradoras",
          "Total/Tecnologia da Informação/Resseguradoras",
          "Total/Utilidade Pública/Resseguradoras",
          "Total/Bens Industriais/Restaurante e Similares",
          "Total/Comunicações/Restaurante e Similares",
          "Total/Consumo Cíclico/Restaurante e Similares",
          "Total/Consumo não Cíclico/Restaurante e Similares",
          "Total/Financeiro/Restaurante e Similares",
          "Total/Materiais Básicos/Restaurante e Similares",
          "Total/Outros/Restaurante e Similares",
          "Total/Petróleo, Gás e Biocombustíveis/Restaurante e Similares",
          "Total/Saúde/Restaurante e Similares",
          "Total/Tecnologia da Informação/Restaurante e Similares",
          "Total/Utilidade Pública/Restaurante e Similares",
          "Total/Bens Industriais/Securitizadoras de Recebíveis",
          "Total/Comunicações/Securitizadoras de Recebíveis",
          "Total/Consumo Cíclico/Securitizadoras de Recebíveis",
          "Total/Consumo não Cíclico/Securitizadoras de Recebíveis",
          "Total/Financeiro/Securitizadoras de Recebíveis",
          "Total/Materiais Básicos/Securitizadoras de Recebíveis",
          "Total/Outros/Securitizadoras de Recebíveis",
          "Total/Petróleo, Gás e Biocombustíveis/Securitizadoras de Recebíveis",
          "Total/Saúde/Securitizadoras de Recebíveis",
          "Total/Tecnologia da Informação/Securitizadoras de Recebíveis",
          "Total/Utilidade Pública/Securitizadoras de Recebíveis",
          "Total/Bens Industriais/Seguradoras",
          "Total/Comunicações/Seguradoras",
          "Total/Consumo Cíclico/Seguradoras",
          "Total/Consumo não Cíclico/Seguradoras",
          "Total/Financeiro/Seguradoras",
          "Total/Materiais Básicos/Seguradoras",
          "Total/Outros/Seguradoras",
          "Total/Petróleo, Gás e Biocombustíveis/Seguradoras",
          "Total/Saúde/Seguradoras",
          "Total/Tecnologia da Informação/Seguradoras",
          "Total/Utilidade Pública/Seguradoras",
          "Total/Bens Industriais/Serviços Diversos",
          "Total/Comunicações/Serviços Diversos",
          "Total/Consumo Cíclico/Serviços Diversos",
          "Total/Consumo não Cíclico/Serviços Diversos",
          "Total/Financeiro/Serviços Diversos",
          "Total/Materiais Básicos/Serviços Diversos",
          "Total/Outros/Serviços Diversos",
          "Total/Petróleo, Gás e Biocombustíveis/Serviços Diversos",
          "Total/Saúde/Serviços Diversos",
          "Total/Tecnologia da Informação/Serviços Diversos",
          "Total/Utilidade Pública/Serviços Diversos",
          "Total/Bens Industriais/Serviços Educacionais",
          "Total/Comunicações/Serviços Educacionais",
          "Total/Consumo Cíclico/Serviços Educacionais",
          "Total/Consumo não Cíclico/Serviços Educacionais",
          "Total/Financeiro/Serviços Educacionais",
          "Total/Materiais Básicos/Serviços Educacionais",
          "Total/Outros/Serviços Educacionais",
          "Total/Petróleo, Gás e Biocombustíveis/Serviços Educacionais",
          "Total/Saúde/Serviços Educacionais",
          "Total/Tecnologia da Informação/Serviços Educacionais",
          "Total/Utilidade Pública/Serviços Educacionais",
          "Total/Bens Industriais/Serviços Financeiros Diversos",
          "Total/Comunicações/Serviços Financeiros Diversos",
          "Total/Consumo Cíclico/Serviços Financeiros Diversos",
          "Total/Consumo não Cíclico/Serviços Financeiros Diversos",
          "Total/Financeiro/Serviços Financeiros Diversos",
          "Total/Materiais Básicos/Serviços Financeiros Diversos",
          "Total/Outros/Serviços Financeiros Diversos",
          "Total/Petróleo, Gás e Biocombustíveis/Serviços Financeiros Diversos",
          "Total/Saúde/Serviços Financeiros Diversos",
          "Total/Tecnologia da Informação/Serviços Financeiros Diversos",
          "Total/Utilidade Pública/Serviços Financeiros Diversos",
          "Total/Bens Industriais/Serviços Médico - Hospitalares, Análises e Diagnósticos",
          "Total/Comunicações/Serviços Médico - Hospitalares, Análises e Diagnósticos",
          "Total/Consumo Cíclico/Serviços Médico - Hospitalares, Análises e Diagnósticos",
          "Total/Consumo não Cíclico/Serviços Médico - Hospitalares, Análises e Diagnósticos",
          "Total/Financeiro/Serviços Médico - Hospitalares, Análises e Diagnósticos",
          "Total/Materiais Básicos/Serviços Médico - Hospitalares, Análises e Diagnósticos",
          "Total/Outros/Serviços Médico - Hospitalares, Análises e Diagnósticos",
          "Total/Petróleo, Gás e Biocombustíveis/Serviços Médico - Hospitalares, Análises e Diagnósticos",
          "Total/Saúde/Serviços Médico - Hospitalares, Análises e Diagnósticos",
          "Total/Tecnologia da Informação/Serviços Médico - Hospitalares, Análises e Diagnósticos",
          "Total/Utilidade Pública/Serviços Médico - Hospitalares, Análises e Diagnósticos",
          "Total/Bens Industriais/Serviços de Apoio e Armazenagem",
          "Total/Comunicações/Serviços de Apoio e Armazenagem",
          "Total/Consumo Cíclico/Serviços de Apoio e Armazenagem",
          "Total/Consumo não Cíclico/Serviços de Apoio e Armazenagem",
          "Total/Financeiro/Serviços de Apoio e Armazenagem",
          "Total/Materiais Básicos/Serviços de Apoio e Armazenagem",
          "Total/Outros/Serviços de Apoio e Armazenagem",
          "Total/Petróleo, Gás e Biocombustíveis/Serviços de Apoio e Armazenagem",
          "Total/Saúde/Serviços de Apoio e Armazenagem",
          "Total/Tecnologia da Informação/Serviços de Apoio e Armazenagem",
          "Total/Utilidade Pública/Serviços de Apoio e Armazenagem",
          "Total/Bens Industriais/Siderurgia",
          "Total/Comunicações/Siderurgia",
          "Total/Consumo Cíclico/Siderurgia",
          "Total/Consumo não Cíclico/Siderurgia",
          "Total/Financeiro/Siderurgia",
          "Total/Materiais Básicos/Siderurgia",
          "Total/Outros/Siderurgia",
          "Total/Petróleo, Gás e Biocombustíveis/Siderurgia",
          "Total/Saúde/Siderurgia",
          "Total/Tecnologia da Informação/Siderurgia",
          "Total/Utilidade Pública/Siderurgia",
          "Total/Bens Industriais/Soc. Arrendamento Mercantil",
          "Total/Comunicações/Soc. Arrendamento Mercantil",
          "Total/Consumo Cíclico/Soc. Arrendamento Mercantil",
          "Total/Consumo não Cíclico/Soc. Arrendamento Mercantil",
          "Total/Financeiro/Soc. Arrendamento Mercantil",
          "Total/Materiais Básicos/Soc. Arrendamento Mercantil",
          "Total/Outros/Soc. Arrendamento Mercantil",
          "Total/Petróleo, Gás e Biocombustíveis/Soc. Arrendamento Mercantil",
          "Total/Saúde/Soc. Arrendamento Mercantil",
          "Total/Tecnologia da Informação/Soc. Arrendamento Mercantil",
          "Total/Utilidade Pública/Soc. Arrendamento Mercantil",
          "Total/Bens Industriais/Soc. Crédito e Financiamento",
          "Total/Comunicações/Soc. Crédito e Financiamento",
          "Total/Consumo Cíclico/Soc. Crédito e Financiamento",
          "Total/Consumo não Cíclico/Soc. Crédito e Financiamento",
          "Total/Financeiro/Soc. Crédito e Financiamento",
          "Total/Materiais Básicos/Soc. Crédito e Financiamento",
          "Total/Outros/Soc. Crédito e Financiamento",
          "Total/Petróleo, Gás e Biocombustíveis/Soc. Crédito e Financiamento",
          "Total/Saúde/Soc. Crédito e Financiamento",
          "Total/Tecnologia da Informação/Soc. Crédito e Financiamento",
          "Total/Utilidade Pública/Soc. Crédito e Financiamento",
          "Total/Bens Industriais/Tecidos, Vestuário e Calçados",
          "Total/Comunicações/Tecidos, Vestuário e Calçados",
          "Total/Consumo Cíclico/Tecidos, Vestuário e Calçados",
          "Total/Consumo não Cíclico/Tecidos, Vestuário e Calçados",
          "Total/Financeiro/Tecidos, Vestuário e Calçados",
          "Total/Materiais Básicos/Tecidos, Vestuário e Calçados",
          "Total/Outros/Tecidos, Vestuário e Calçados",
          "Total/Petróleo, Gás e Biocombustíveis/Tecidos, Vestuário e Calçados",
          "Total/Saúde/Tecidos, Vestuário e Calçados",
          "Total/Tecnologia da Informação/Tecidos, Vestuário e Calçados",
          "Total/Utilidade Pública/Tecidos, Vestuário e Calçados",
          "Total/Bens Industriais/Telecomunicações",
          "Total/Comunicações/Telecomunicações",
          "Total/Consumo Cíclico/Telecomunicações",
          "Total/Consumo não Cíclico/Telecomunicações",
          "Total/Financeiro/Telecomunicações",
          "Total/Materiais Básicos/Telecomunicações",
          "Total/Outros/Telecomunicações",
          "Total/Petróleo, Gás e Biocombustíveis/Telecomunicações",
          "Total/Saúde/Telecomunicações",
          "Total/Tecnologia da Informação/Telecomunicações",
          "Total/Utilidade Pública/Telecomunicações",
          "Total/Bens Industriais/Transporte Ferroviário",
          "Total/Comunicações/Transporte Ferroviário",
          "Total/Consumo Cíclico/Transporte Ferroviário",
          "Total/Consumo não Cíclico/Transporte Ferroviário",
          "Total/Financeiro/Transporte Ferroviário",
          "Total/Materiais Básicos/Transporte Ferroviário",
          "Total/Outros/Transporte Ferroviário",
          "Total/Petróleo, Gás e Biocombustíveis/Transporte Ferroviário",
          "Total/Saúde/Transporte Ferroviário",
          "Total/Tecnologia da Informação/Transporte Ferroviário",
          "Total/Utilidade Pública/Transporte Ferroviário",
          "Total/Bens Industriais/Transporte Hidroviário",
          "Total/Comunicações/Transporte Hidroviário",
          "Total/Consumo Cíclico/Transporte Hidroviário",
          "Total/Consumo não Cíclico/Transporte Hidroviário",
          "Total/Financeiro/Transporte Hidroviário",
          "Total/Materiais Básicos/Transporte Hidroviário",
          "Total/Outros/Transporte Hidroviário",
          "Total/Petróleo, Gás e Biocombustíveis/Transporte Hidroviário",
          "Total/Saúde/Transporte Hidroviário",
          "Total/Tecnologia da Informação/Transporte Hidroviário",
          "Total/Utilidade Pública/Transporte Hidroviário",
          "Total/Bens Industriais/Transporte Rodoviário",
          "Total/Comunicações/Transporte Rodoviário",
          "Total/Consumo Cíclico/Transporte Rodoviário",
          "Total/Consumo não Cíclico/Transporte Rodoviário",
          "Total/Financeiro/Transporte Rodoviário",
          "Total/Materiais Básicos/Transporte Rodoviário",
          "Total/Outros/Transporte Rodoviário",
          "Total/Petróleo, Gás e Biocombustíveis/Transporte Rodoviário",
          "Total/Saúde/Transporte Rodoviário",
          "Total/Tecnologia da Informação/Transporte Rodoviário",
          "Total/Utilidade Pública/Transporte Rodoviário",
          "Total/Bens Industriais/Utensílios Domésticos",
          "Total/Comunicações/Utensílios Domésticos",
          "Total/Consumo Cíclico/Utensílios Domésticos",
          "Total/Consumo não Cíclico/Utensílios Domésticos",
          "Total/Financeiro/Utensílios Domésticos",
          "Total/Materiais Básicos/Utensílios Domésticos",
          "Total/Outros/Utensílios Domésticos",
          "Total/Petróleo, Gás e Biocombustíveis/Utensílios Domésticos",
          "Total/Saúde/Utensílios Domésticos",
          "Total/Tecnologia da Informação/Utensílios Domésticos",
          "Total/Utilidade Pública/Utensílios Domésticos",
          "Total/Bens Industriais/Vestuário",
          "Total/Comunicações/Vestuário",
          "Total/Consumo Cíclico/Vestuário",
          "Total/Consumo não Cíclico/Vestuário",
          "Total/Financeiro/Vestuário",
          "Total/Materiais Básicos/Vestuário",
          "Total/Outros/Vestuário",
          "Total/Petróleo, Gás e Biocombustíveis/Vestuário",
          "Total/Saúde/Vestuário",
          "Total/Tecnologia da Informação/Vestuário",
          "Total/Utilidade Pública/Vestuário",
          "Total/Bens Industriais/Viagens e Turismo",
          "Total/Comunicações/Viagens e Turismo",
          "Total/Consumo Cíclico/Viagens e Turismo",
          "Total/Consumo não Cíclico/Viagens e Turismo",
          "Total/Financeiro/Viagens e Turismo",
          "Total/Materiais Básicos/Viagens e Turismo",
          "Total/Outros/Viagens e Turismo",
          "Total/Petróleo, Gás e Biocombustíveis/Viagens e Turismo",
          "Total/Saúde/Viagens e Turismo",
          "Total/Tecnologia da Informação/Viagens e Turismo",
          "Total/Utilidade Pública/Viagens e Turismo",
          "Total/Bens Industriais/Água e Saneamento",
          "Total/Comunicações/Água e Saneamento",
          "Total/Consumo Cíclico/Água e Saneamento",
          "Total/Consumo não Cíclico/Água e Saneamento",
          "Total/Financeiro/Água e Saneamento",
          "Total/Materiais Básicos/Água e Saneamento",
          "Total/Outros/Água e Saneamento",
          "Total/Petróleo, Gás e Biocombustíveis/Água e Saneamento",
          "Total/Saúde/Água e Saneamento",
          "Total/Tecnologia da Informação/Água e Saneamento",
          "Total/Utilidade Pública/Água e Saneamento",
          "Total/Bens Industriais",
          "Total/Comunicações",
          "Total/Consumo Cíclico",
          "Total/Consumo não Cíclico",
          "Total/Financeiro",
          "Total/Materiais Básicos",
          "Total/Outros",
          "Total/Petróleo, Gás e Biocombustíveis",
          "Total/Saúde",
          "Total/Tecnologia da Informação",
          "Total/Utilidade Pública",
          "Total"
         ],
         "labels": [
          "Acessórios",
          "Acessórios",
          "Acessórios",
          "Acessórios",
          "Acessórios",
          "Acessórios",
          "Acessórios",
          "Acessórios",
          "Acessórios",
          "Acessórios",
          "Acessórios",
          "Agricultura",
          "Agricultura",
          "Agricultura",
          "Agricultura",
          "Agricultura",
          "Agricultura",
          "Agricultura",
          "Agricultura",
          "Agricultura",
          "Agricultura",
          "Agricultura",
          "Alimentos",
          "Alimentos",
          "Alimentos",
          "Alimentos",
          "Alimentos",
          "Alimentos",
          "Alimentos",
          "Alimentos",
          "Alimentos",
          "Alimentos",
          "Alimentos",
          "Alimentos Diversos",
          "Alimentos Diversos",
          "Alimentos Diversos",
          "Alimentos Diversos",
          "Alimentos Diversos",
          "Alimentos Diversos",
          "Alimentos Diversos",
          "Alimentos Diversos",
          "Alimentos Diversos",
          "Alimentos Diversos",
          "Alimentos Diversos",
          "Aluguel de carros",
          "Aluguel de carros",
          "Aluguel de carros",
          "Aluguel de carros",
          "Aluguel de carros",
          "Aluguel de carros",
          "Aluguel de carros",
          "Aluguel de carros",
          "Aluguel de carros",
          "Aluguel de carros",
          "Aluguel de carros",
          "Armas e Munições",
          "Armas e Munições",
          "Armas e Munições",
          "Armas e Munições",
          "Armas e Munições",
          "Armas e Munições",
          "Armas e Munições",
          "Armas e Munições",
          "Armas e Munições",
          "Armas e Munições",
          "Armas e Munições",
          "Artefatos de Cobre",
          "Artefatos de Cobre",
          "Artefatos de Cobre",
          "Artefatos de Cobre",
          "Artefatos de Cobre",
          "Artefatos de Cobre",
          "Artefatos de Cobre",
          "Artefatos de Cobre",
          "Artefatos de Cobre",
          "Artefatos de Cobre",
          "Artefatos de Cobre",
          "Artefatos de Ferro e Aço",
          "Artefatos de Ferro e Aço",
          "Artefatos de Ferro e Aço",
          "Artefatos de Ferro e Aço",
          "Artefatos de Ferro e Aço",
          "Artefatos de Ferro e Aço",
          "Artefatos de Ferro e Aço",
          "Artefatos de Ferro e Aço",
          "Artefatos de Ferro e Aço",
          "Artefatos de Ferro e Aço",
          "Artefatos de Ferro e Aço",
          "Atividades Esportivas",
          "Atividades Esportivas",
          "Atividades Esportivas",
          "Atividades Esportivas",
          "Atividades Esportivas",
          "Atividades Esportivas",
          "Atividades Esportivas",
          "Atividades Esportivas",
          "Atividades Esportivas",
          "Atividades Esportivas",
          "Atividades Esportivas",
          "Automóveis e Motocicletas",
          "Automóveis e Motocicletas",
          "Automóveis e Motocicletas",
          "Automóveis e Motocicletas",
          "Automóveis e Motocicletas",
          "Automóveis e Motocicletas",
          "Automóveis e Motocicletas",
          "Automóveis e Motocicletas",
          "Automóveis e Motocicletas",
          "Automóveis e Motocicletas",
          "Automóveis e Motocicletas",
          "Açucar e Alcool",
          "Açucar e Alcool",
          "Açucar e Alcool",
          "Açucar e Alcool",
          "Açucar e Alcool",
          "Açucar e Alcool",
          "Açucar e Alcool",
          "Açucar e Alcool",
          "Açucar e Alcool",
          "Açucar e Alcool",
          "Açucar e Alcool",
          "Bancos",
          "Bancos",
          "Bancos",
          "Bancos",
          "Bancos",
          "Bancos",
          "Bancos",
          "Bancos",
          "Bancos",
          "Bancos",
          "Bancos",
          "Bicicletas",
          "Bicicletas",
          "Bicicletas",
          "Bicicletas",
          "Bicicletas",
          "Bicicletas",
          "Bicicletas",
          "Bicicletas",
          "Bicicletas",
          "Bicicletas",
          "Bicicletas",
          "Brinquedos e Jogos",
          "Brinquedos e Jogos",
          "Brinquedos e Jogos",
          "Brinquedos e Jogos",
          "Brinquedos e Jogos",
          "Brinquedos e Jogos",
          "Brinquedos e Jogos",
          "Brinquedos e Jogos",
          "Brinquedos e Jogos",
          "Brinquedos e Jogos",
          "Brinquedos e Jogos",
          "Calçados",
          "Calçados",
          "Calçados",
          "Calçados",
          "Calçados",
          "Calçados",
          "Calçados",
          "Calçados",
          "Calçados",
          "Calçados",
          "Calçados",
          "Carnes e Derivados",
          "Carnes e Derivados",
          "Carnes e Derivados",
          "Carnes e Derivados",
          "Carnes e Derivados",
          "Carnes e Derivados",
          "Carnes e Derivados",
          "Carnes e Derivados",
          "Carnes e Derivados",
          "Carnes e Derivados",
          "Carnes e Derivados",
          "Cervejas e Refrigerantes",
          "Cervejas e Refrigerantes",
          "Cervejas e Refrigerantes",
          "Cervejas e Refrigerantes",
          "Cervejas e Refrigerantes",
          "Cervejas e Refrigerantes",
          "Cervejas e Refrigerantes",
          "Cervejas e Refrigerantes",
          "Cervejas e Refrigerantes",
          "Cervejas e Refrigerantes",
          "Cervejas e Refrigerantes",
          "Computadores e Equipamentos",
          "Computadores e Equipamentos",
          "Computadores e Equipamentos",
          "Computadores e Equipamentos",
          "Computadores e Equipamentos",
          "Computadores e Equipamentos",
          "Computadores e Equipamentos",
          "Computadores e Equipamentos",
          "Computadores e Equipamentos",
          "Computadores e Equipamentos",
          "Computadores e Equipamentos",
          "Construção Pesada",
          "Construção Pesada",
          "Construção Pesada",
          "Construção Pesada",
          "Construção Pesada",
          "Construção Pesada",
          "Construção Pesada",
          "Construção Pesada",
          "Construção Pesada",
          "Construção Pesada",
          "Construção Pesada",
          "Corretoras de Seguros e Resseguros",
          "Corretoras de Seguros e Resseguros",
          "Corretoras de Seguros e Resseguros",
          "Corretoras de Seguros e Resseguros",
          "Corretoras de Seguros e Resseguros",
          "Corretoras de Seguros e Resseguros",
          "Corretoras de Seguros e Resseguros",
          "Corretoras de Seguros e Resseguros",
          "Corretoras de Seguros e Resseguros",
          "Corretoras de Seguros e Resseguros",
          "Corretoras de Seguros e Resseguros",
          "Eletrodomésticos",
          "Eletrodomésticos",
          "Eletrodomésticos",
          "Eletrodomésticos",
          "Eletrodomésticos",
          "Eletrodomésticos",
          "Eletrodomésticos",
          "Eletrodomésticos",
          "Eletrodomésticos",
          "Eletrodomésticos",
          "Eletrodomésticos",
          "Embalagens",
          "Embalagens",
          "Embalagens",
          "Embalagens",
          "Embalagens",
          "Embalagens",
          "Embalagens",
          "Embalagens",
          "Embalagens",
          "Embalagens",
          "Embalagens",
          "Energia Elétrica",
          "Energia Elétrica",
          "Energia Elétrica",
          "Energia Elétrica",
          "Energia Elétrica",
          "Energia Elétrica",
          "Energia Elétrica",
          "Energia Elétrica",
          "Energia Elétrica",
          "Energia Elétrica",
          "Energia Elétrica",
          "Engenharia Consultiva",
          "Engenharia Consultiva",
          "Engenharia Consultiva",
          "Engenharia Consultiva",
          "Engenharia Consultiva",
          "Engenharia Consultiva",
          "Engenharia Consultiva",
          "Engenharia Consultiva",
          "Engenharia Consultiva",
          "Engenharia Consultiva",
          "Engenharia Consultiva",
          "Equipamentos",
          "Equipamentos",
          "Equipamentos",
          "Equipamentos",
          "Equipamentos",
          "Equipamentos",
          "Equipamentos",
          "Equipamentos",
          "Equipamentos",
          "Equipamentos",
          "Equipamentos",
          "Equipamentos e Serviços",
          "Equipamentos e Serviços",
          "Equipamentos e Serviços",
          "Equipamentos e Serviços",
          "Equipamentos e Serviços",
          "Equipamentos e Serviços",
          "Equipamentos e Serviços",
          "Equipamentos e Serviços",
          "Equipamentos e Serviços",
          "Equipamentos e Serviços",
          "Equipamentos e Serviços",
          "Exploração de Imóveis",
          "Exploração de Imóveis",
          "Exploração de Imóveis",
          "Exploração de Imóveis",
          "Exploração de Imóveis",
          "Exploração de Imóveis",
          "Exploração de Imóveis",
          "Exploração de Imóveis",
          "Exploração de Imóveis",
          "Exploração de Imóveis",
          "Exploração de Imóveis",
          "Exploração de Rodovias",
          "Exploração de Rodovias",
          "Exploração de Rodovias",
          "Exploração de Rodovias",
          "Exploração de Rodovias",
          "Exploração de Rodovias",
          "Exploração de Rodovias",
          "Exploração de Rodovias",
          "Exploração de Rodovias",
          "Exploração de Rodovias",
          "Exploração de Rodovias",
          "Exploração, Refino e Distribuição",
          "Exploração, Refino e Distribuição",
          "Exploração, Refino e Distribuição",
          "Exploração, Refino e Distribuição",
          "Exploração, Refino e Distribuição",
          "Exploração, Refino e Distribuição",
          "Exploração, Refino e Distribuição",
          "Exploração, Refino e Distribuição",
          "Exploração, Refino e Distribuição",
          "Exploração, Refino e Distribuição",
          "Exploração, Refino e Distribuição",
          "Fertilizantes e Defensivos",
          "Fertilizantes e Defensivos",
          "Fertilizantes e Defensivos",
          "Fertilizantes e Defensivos",
          "Fertilizantes e Defensivos",
          "Fertilizantes e Defensivos",
          "Fertilizantes e Defensivos",
          "Fertilizantes e Defensivos",
          "Fertilizantes e Defensivos",
          "Fertilizantes e Defensivos",
          "Fertilizantes e Defensivos",
          "Fios e Tecidos",
          "Fios e Tecidos",
          "Fios e Tecidos",
          "Fios e Tecidos",
          "Fios e Tecidos",
          "Fios e Tecidos",
          "Fios e Tecidos",
          "Fios e Tecidos",
          "Fios e Tecidos",
          "Fios e Tecidos",
          "Fios e Tecidos",
          "Gestão de Recursos e Investimentos",
          "Gestão de Recursos e Investimentos",
          "Gestão de Recursos e Investimentos",
          "Gestão de Recursos e Investimentos",
          "Gestão de Recursos e Investimentos",
          "Gestão de Recursos e Investimentos",
          "Gestão de Recursos e Investimentos",
          "Gestão de Recursos e Investimentos",
          "Gestão de Recursos e Investimentos",
          "Gestão de Recursos e Investimentos",
          "Gestão de Recursos e Investimentos",
          "Gás",
          "Gás",
          "Gás",
          "Gás",
          "Gás",
          "Gás",
          "Gás",
          "Gás",
          "Gás",
          "Gás",
          "Gás",
          "Holdings Diversificadas",
          "Holdings Diversificadas",
          "Holdings Diversificadas",
          "Holdings Diversificadas",
          "Holdings Diversificadas",
          "Holdings Diversificadas",
          "Holdings Diversificadas",
          "Holdings Diversificadas",
          "Holdings Diversificadas",
          "Holdings Diversificadas",
          "Holdings Diversificadas",
          "Hotelaria",
          "Hotelaria",
          "Hotelaria",
          "Hotelaria",
          "Hotelaria",
          "Hotelaria",
          "Hotelaria",
          "Hotelaria",
          "Hotelaria",
          "Hotelaria",
          "Hotelaria",
          "Incorporações",
          "Incorporações",
          "Incorporações",
          "Incorporações",
          "Incorporações",
          "Incorporações",
          "Incorporações",
          "Incorporações",
          "Incorporações",
          "Incorporações",
          "Incorporações",
          "Intermediação Imobiliária",
          "Intermediação Imobiliária",
          "Intermediação Imobiliária",
          "Intermediação Imobiliária",
          "Intermediação Imobiliária",
          "Intermediação Imobiliária",
          "Intermediação Imobiliária",
          "Intermediação Imobiliária",
          "Intermediação Imobiliária",
          "Intermediação Imobiliária",
          "Intermediação Imobiliária",
          "Linhas Aéreas de Passageiros",
          "Linhas Aéreas de Passageiros",
          "Linhas Aéreas de Passageiros",
          "Linhas Aéreas de Passageiros",
          "Linhas Aéreas de Passageiros",
          "Linhas Aéreas de Passageiros",
          "Linhas Aéreas de Passageiros",
          "Linhas Aéreas de Passageiros",
          "Linhas Aéreas de Passageiros",
          "Linhas Aéreas de Passageiros",
          "Linhas Aéreas de Passageiros",
          "Madeira",
          "Madeira",
          "Madeira",
          "Madeira",
          "Madeira",
          "Madeira",
          "Madeira",
          "Madeira",
          "Madeira",
          "Madeira",
          "Madeira",
          "Materiais Diversos",
          "Materiais Diversos",
          "Materiais Diversos",
          "Materiais Diversos",
          "Materiais Diversos",
          "Materiais Diversos",
          "Materiais Diversos",
          "Materiais Diversos",
          "Materiais Diversos",
          "Materiais Diversos",
          "Materiais Diversos",
          "Material Aeronáutico e de Defesa",
          "Material Aeronáutico e de Defesa",
          "Material Aeronáutico e de Defesa",
          "Material Aeronáutico e de Defesa",
          "Material Aeronáutico e de Defesa",
          "Material Aeronáutico e de Defesa",
          "Material Aeronáutico e de Defesa",
          "Material Aeronáutico e de Defesa",
          "Material Aeronáutico e de Defesa",
          "Material Aeronáutico e de Defesa",
          "Material Aeronáutico e de Defesa",
          "Material Rodoviário",
          "Material Rodoviário",
          "Material Rodoviário",
          "Material Rodoviário",
          "Material Rodoviário",
          "Material Rodoviário",
          "Material Rodoviário",
          "Material Rodoviário",
          "Material Rodoviário",
          "Material Rodoviário",
          "Material Rodoviário",
          "Material de Transporte",
          "Material de Transporte",
          "Material de Transporte",
          "Material de Transporte",
          "Material de Transporte",
          "Material de Transporte",
          "Material de Transporte",
          "Material de Transporte",
          "Material de Transporte",
          "Material de Transporte",
          "Material de Transporte",
          "Medicamentos e Outros Produtos",
          "Medicamentos e Outros Produtos",
          "Medicamentos e Outros Produtos",
          "Medicamentos e Outros Produtos",
          "Medicamentos e Outros Produtos",
          "Medicamentos e Outros Produtos",
          "Medicamentos e Outros Produtos",
          "Medicamentos e Outros Produtos",
          "Medicamentos e Outros Produtos",
          "Medicamentos e Outros Produtos",
          "Medicamentos e Outros Produtos",
          "Minerais Metálicos",
          "Minerais Metálicos",
          "Minerais Metálicos",
          "Minerais Metálicos",
          "Minerais Metálicos",
          "Minerais Metálicos",
          "Minerais Metálicos",
          "Minerais Metálicos",
          "Minerais Metálicos",
          "Minerais Metálicos",
          "Minerais Metálicos",
          "Motores, Compressores e Outros",
          "Motores, Compressores e Outros",
          "Motores, Compressores e Outros",
          "Motores, Compressores e Outros",
          "Motores, Compressores e Outros",
          "Motores, Compressores e Outros",
          "Motores, Compressores e Outros",
          "Motores, Compressores e Outros",
          "Motores, Compressores e Outros",
          "Motores, Compressores e Outros",
          "Motores, Compressores e Outros",
          "Máq. e Equip. Construção e Agrícolas",
          "Máq. e Equip. Construção e Agrícolas",
          "Máq. e Equip. Construção e Agrícolas",
          "Máq. e Equip. Construção e Agrícolas",
          "Máq. e Equip. Construção e Agrícolas",
          "Máq. e Equip. Construção e Agrícolas",
          "Máq. e Equip. Construção e Agrícolas",
          "Máq. e Equip. Construção e Agrícolas",
          "Máq. e Equip. Construção e Agrícolas",
          "Máq. e Equip. Construção e Agrícolas",
          "Máq. e Equip. Construção e Agrícolas",
          "Máq. e Equip. Industriais",
          "Máq. e Equip. Industriais",
          "Máq. e Equip. Industriais",
          "Máq. e Equip. Industriais",
          "Máq. e Equip. Industriais",
          "Máq. e Equip. Industriais",
          "Máq. e Equip. Industriais",
          "Máq. e Equip. Industriais",
          "Máq. e Equip. Industriais",
          "Máq. e Equip. Industriais",
          "Máq. e Equip. Industriais",
          "Móveis",
          "Móveis",
          "Móveis",
          "Móveis",
          "Móveis",
          "Móveis",
          "Móveis",
          "Móveis",
          "Móveis",
          "Móveis",
          "Móveis",
          "Outros",
          "Outros",
          "Outros",
          "Outros",
          "Outros",
          "Outros",
          "Outros",
          "Outros",
          "Outros",
          "Outros",
          "Outros",
          "Outros Títulos",
          "Outros Títulos",
          "Outros Títulos",
          "Outros Títulos",
          "Outros Títulos",
          "Outros Títulos",
          "Outros Títulos",
          "Outros Títulos",
          "Outros Títulos",
          "Outros Títulos",
          "Outros Títulos",
          "Papel e Celulose",
          "Papel e Celulose",
          "Papel e Celulose",
          "Papel e Celulose",
          "Papel e Celulose",
          "Papel e Celulose",
          "Papel e Celulose",
          "Papel e Celulose",
          "Papel e Celulose",
          "Papel e Celulose",
          "Papel e Celulose",
          "Petroquímicos",
          "Petroquímicos",
          "Petroquímicos",
          "Petroquímicos",
          "Petroquímicos",
          "Petroquímicos",
          "Petroquímicos",
          "Petroquímicos",
          "Petroquímicos",
          "Petroquímicos",
          "Petroquímicos",
          "Produtos Diversos",
          "Produtos Diversos",
          "Produtos Diversos",
          "Produtos Diversos",
          "Produtos Diversos",
          "Produtos Diversos",
          "Produtos Diversos",
          "Produtos Diversos",
          "Produtos Diversos",
          "Produtos Diversos",
          "Produtos Diversos",
          "Produtos de Cuidado Pessoal",
          "Produtos de Cuidado Pessoal",
          "Produtos de Cuidado Pessoal",
          "Produtos de Cuidado Pessoal",
          "Produtos de Cuidado Pessoal",
          "Produtos de Cuidado Pessoal",
          "Produtos de Cuidado Pessoal",
          "Produtos de Cuidado Pessoal",
          "Produtos de Cuidado Pessoal",
          "Produtos de Cuidado Pessoal",
          "Produtos de Cuidado Pessoal",
          "Produtos de Limpeza",
          "Produtos de Limpeza",
          "Produtos de Limpeza",
          "Produtos de Limpeza",
          "Produtos de Limpeza",
          "Produtos de Limpeza",
          "Produtos de Limpeza",
          "Produtos de Limpeza",
          "Produtos de Limpeza",
          "Produtos de Limpeza",
          "Produtos de Limpeza",
          "Produtos para Construção",
          "Produtos para Construção",
          "Produtos para Construção",
          "Produtos para Construção",
          "Produtos para Construção",
          "Produtos para Construção",
          "Produtos para Construção",
          "Produtos para Construção",
          "Produtos para Construção",
          "Produtos para Construção",
          "Produtos para Construção",
          "Produção de Eventos e Shows",
          "Produção de Eventos e Shows",
          "Produção de Eventos e Shows",
          "Produção de Eventos e Shows",
          "Produção de Eventos e Shows",
          "Produção de Eventos e Shows",
          "Produção de Eventos e Shows",
          "Produção de Eventos e Shows",
          "Produção de Eventos e Shows",
          "Produção de Eventos e Shows",
          "Produção de Eventos e Shows",
          "Programas de Fidelização",
          "Programas de Fidelização",
          "Programas de Fidelização",
          "Programas de Fidelização",
          "Programas de Fidelização",
          "Programas de Fidelização",
          "Programas de Fidelização",
          "Programas de Fidelização",
          "Programas de Fidelização",
          "Programas de Fidelização",
          "Programas de Fidelização",
          "Programas e Serviços",
          "Programas e Serviços",
          "Programas e Serviços",
          "Programas e Serviços",
          "Programas e Serviços",
          "Programas e Serviços",
          "Programas e Serviços",
          "Programas e Serviços",
          "Programas e Serviços",
          "Programas e Serviços",
          "Programas e Serviços",
          "Publicidade e Propaganda",
          "Publicidade e Propaganda",
          "Publicidade e Propaganda",
          "Publicidade e Propaganda",
          "Publicidade e Propaganda",
          "Publicidade e Propaganda",
          "Publicidade e Propaganda",
          "Publicidade e Propaganda",
          "Publicidade e Propaganda",
          "Publicidade e Propaganda",
          "Publicidade e Propaganda",
          "Químicos Diversos",
          "Químicos Diversos",
          "Químicos Diversos",
          "Químicos Diversos",
          "Químicos Diversos",
          "Químicos Diversos",
          "Químicos Diversos",
          "Químicos Diversos",
          "Químicos Diversos",
          "Químicos Diversos",
          "Químicos Diversos",
          "Resseguradoras",
          "Resseguradoras",
          "Resseguradoras",
          "Resseguradoras",
          "Resseguradoras",
          "Resseguradoras",
          "Resseguradoras",
          "Resseguradoras",
          "Resseguradoras",
          "Resseguradoras",
          "Resseguradoras",
          "Restaurante e Similares",
          "Restaurante e Similares",
          "Restaurante e Similares",
          "Restaurante e Similares",
          "Restaurante e Similares",
          "Restaurante e Similares",
          "Restaurante e Similares",
          "Restaurante e Similares",
          "Restaurante e Similares",
          "Restaurante e Similares",
          "Restaurante e Similares",
          "Securitizadoras de Recebíveis",
          "Securitizadoras de Recebíveis",
          "Securitizadoras de Recebíveis",
          "Securitizadoras de Recebíveis",
          "Securitizadoras de Recebíveis",
          "Securitizadoras de Recebíveis",
          "Securitizadoras de Recebíveis",
          "Securitizadoras de Recebíveis",
          "Securitizadoras de Recebíveis",
          "Securitizadoras de Recebíveis",
          "Securitizadoras de Recebíveis",
          "Seguradoras",
          "Seguradoras",
          "Seguradoras",
          "Seguradoras",
          "Seguradoras",
          "Seguradoras",
          "Seguradoras",
          "Seguradoras",
          "Seguradoras",
          "Seguradoras",
          "Seguradoras",
          "Serviços Diversos",
          "Serviços Diversos",
          "Serviços Diversos",
          "Serviços Diversos",
          "Serviços Diversos",
          "Serviços Diversos",
          "Serviços Diversos",
          "Serviços Diversos",
          "Serviços Diversos",
          "Serviços Diversos",
          "Serviços Diversos",
          "Serviços Educacionais",
          "Serviços Educacionais",
          "Serviços Educacionais",
          "Serviços Educacionais",
          "Serviços Educacionais",
          "Serviços Educacionais",
          "Serviços Educacionais",
          "Serviços Educacionais",
          "Serviços Educacionais",
          "Serviços Educacionais",
          "Serviços Educacionais",
          "Serviços Financeiros Diversos",
          "Serviços Financeiros Diversos",
          "Serviços Financeiros Diversos",
          "Serviços Financeiros Diversos",
          "Serviços Financeiros Diversos",
          "Serviços Financeiros Diversos",
          "Serviços Financeiros Diversos",
          "Serviços Financeiros Diversos",
          "Serviços Financeiros Diversos",
          "Serviços Financeiros Diversos",
          "Serviços Financeiros Diversos",
          "Serviços Médico - Hospitalares, Análises e Diagnósticos",
          "Serviços Médico - Hospitalares, Análises e Diagnósticos",
          "Serviços Médico - Hospitalares, Análises e Diagnósticos",
          "Serviços Médico - Hospitalares, Análises e Diagnósticos",
          "Serviços Médico - Hospitalares, Análises e Diagnósticos",
          "Serviços Médico - Hospitalares, Análises e Diagnósticos",
          "Serviços Médico - Hospitalares, Análises e Diagnósticos",
          "Serviços Médico - Hospitalares, Análises e Diagnósticos",
          "Serviços Médico - Hospitalares, Análises e Diagnósticos",
          "Serviços Médico - Hospitalares, Análises e Diagnósticos",
          "Serviços Médico - Hospitalares, Análises e Diagnósticos",
          "Serviços de Apoio e Armazenagem",
          "Serviços de Apoio e Armazenagem",
          "Serviços de Apoio e Armazenagem",
          "Serviços de Apoio e Armazenagem",
          "Serviços de Apoio e Armazenagem",
          "Serviços de Apoio e Armazenagem",
          "Serviços de Apoio e Armazenagem",
          "Serviços de Apoio e Armazenagem",
          "Serviços de Apoio e Armazenagem",
          "Serviços de Apoio e Armazenagem",
          "Serviços de Apoio e Armazenagem",
          "Siderurgia",
          "Siderurgia",
          "Siderurgia",
          "Siderurgia",
          "Siderurgia",
          "Siderurgia",
          "Siderurgia",
          "Siderurgia",
          "Siderurgia",
          "Siderurgia",
          "Siderurgia",
          "Soc. Arrendamento Mercantil",
          "Soc. Arrendamento Mercantil",
          "Soc. Arrendamento Mercantil",
          "Soc. Arrendamento Mercantil",
          "Soc. Arrendamento Mercantil",
          "Soc. Arrendamento Mercantil",
          "Soc. Arrendamento Mercantil",
          "Soc. Arrendamento Mercantil",
          "Soc. Arrendamento Mercantil",
          "Soc. Arrendamento Mercantil",
          "Soc. Arrendamento Mercantil",
          "Soc. Crédito e Financiamento",
          "Soc. Crédito e Financiamento",
          "Soc. Crédito e Financiamento",
          "Soc. Crédito e Financiamento",
          "Soc. Crédito e Financiamento",
          "Soc. Crédito e Financiamento",
          "Soc. Crédito e Financiamento",
          "Soc. Crédito e Financiamento",
          "Soc. Crédito e Financiamento",
          "Soc. Crédito e Financiamento",
          "Soc. Crédito e Financiamento",
          "Tecidos, Vestuário e Calçados",
          "Tecidos, Vestuário e Calçados",
          "Tecidos, Vestuário e Calçados",
          "Tecidos, Vestuário e Calçados",
          "Tecidos, Vestuário e Calçados",
          "Tecidos, Vestuário e Calçados",
          "Tecidos, Vestuário e Calçados",
          "Tecidos, Vestuário e Calçados",
          "Tecidos, Vestuário e Calçados",
          "Tecidos, Vestuário e Calçados",
          "Tecidos, Vestuário e Calçados",
          "Telecomunicações",
          "Telecomunicações",
          "Telecomunicações",
          "Telecomunicações",
          "Telecomunicações",
          "Telecomunicações",
          "Telecomunicações",
          "Telecomunicações",
          "Telecomunicações",
          "Telecomunicações",
          "Telecomunicações",
          "Transporte Ferroviário",
          "Transporte Ferroviário",
          "Transporte Ferroviário",
          "Transporte Ferroviário",
          "Transporte Ferroviário",
          "Transporte Ferroviário",
          "Transporte Ferroviário",
          "Transporte Ferroviário",
          "Transporte Ferroviário",
          "Transporte Ferroviário",
          "Transporte Ferroviário",
          "Transporte Hidroviário",
          "Transporte Hidroviário",
          "Transporte Hidroviário",
          "Transporte Hidroviário",
          "Transporte Hidroviário",
          "Transporte Hidroviário",
          "Transporte Hidroviário",
          "Transporte Hidroviário",
          "Transporte Hidroviário",
          "Transporte Hidroviário",
          "Transporte Hidroviário",
          "Transporte Rodoviário",
          "Transporte Rodoviário",
          "Transporte Rodoviário",
          "Transporte Rodoviário",
          "Transporte Rodoviário",
          "Transporte Rodoviário",
          "Transporte Rodoviário",
          "Transporte Rodoviário",
          "Transporte Rodoviário",
          "Transporte Rodoviário",
          "Transporte Rodoviário",
          "Utensílios Domésticos",
          "Utensílios Domésticos",
          "Utensílios Domésticos",
          "Utensílios Domésticos",
          "Utensílios Domésticos",
          "Utensílios Domésticos",
          "Utensílios Domésticos",
          "Utensílios Domésticos",
          "Utensílios Domésticos",
          "Utensílios Domésticos",
          "Utensílios Domésticos",
          "Vestuário",
          "Vestuário",
          "Vestuário",
          "Vestuário",
          "Vestuário",
          "Vestuário",
          "Vestuário",
          "Vestuário",
          "Vestuário",
          "Vestuário",
          "Vestuário",
          "Viagens e Turismo",
          "Viagens e Turismo",
          "Viagens e Turismo",
          "Viagens e Turismo",
          "Viagens e Turismo",
          "Viagens e Turismo",
          "Viagens e Turismo",
          "Viagens e Turismo",
          "Viagens e Turismo",
          "Viagens e Turismo",
          "Viagens e Turismo",
          "Água e Saneamento",
          "Água e Saneamento",
          "Água e Saneamento",
          "Água e Saneamento",
          "Água e Saneamento",
          "Água e Saneamento",
          "Água e Saneamento",
          "Água e Saneamento",
          "Água e Saneamento",
          "Água e Saneamento",
          "Água e Saneamento",
          "Bens Industriais",
          "Comunicações",
          "Consumo Cíclico",
          "Consumo não Cíclico",
          "Financeiro",
          "Materiais Básicos",
          "Outros",
          "Petróleo, Gás e Biocombustíveis",
          "Saúde",
          "Tecnologia da Informação",
          "Utilidade Pública",
          "Total"
         ],
         "name": "",
         "parents": [
          "Total/Bens Industriais",
          "Total/Comunicações",
          "Total/Consumo Cíclico",
          "Total/Consumo não Cíclico",
          "Total/Financeiro",
          "Total/Materiais Básicos",
          "Total/Outros",
          "Total/Petróleo, Gás e Biocombustíveis",
          "Total/Saúde",
          "Total/Tecnologia da Informação",
          "Total/Utilidade Pública",
          "Total/Bens Industriais",
          "Total/Comunicações",
          "Total/Consumo Cíclico",
          "Total/Consumo não Cíclico",
          "Total/Financeiro",
          "Total/Materiais Básicos",
          "Total/Outros",
          "Total/Petróleo, Gás e Biocombustíveis",
          "Total/Saúde",
          "Total/Tecnologia da Informação",
          "Total/Utilidade Pública",
          "Total/Bens Industriais",
          "Total/Comunicações",
          "Total/Consumo Cíclico",
          "Total/Consumo não Cíclico",
          "Total/Financeiro",
          "Total/Materiais Básicos",
          "Total/Outros",
          "Total/Petróleo, Gás e Biocombustíveis",
          "Total/Saúde",
          "Total/Tecnologia da Informação",
          "Total/Utilidade Pública",
          "Total/Bens Industriais",
          "Total/Comunicações",
          "Total/Consumo Cíclico",
          "Total/Consumo não Cíclico",
          "Total/Financeiro",
          "Total/Materiais Básicos",
          "Total/Outros",
          "Total/Petróleo, Gás e Biocombustíveis",
          "Total/Saúde",
          "Total/Tecnologia da Informação",
          "Total/Utilidade Pública",
          "Total/Bens Industriais",
          "Total/Comunicações",
          "Total/Consumo Cíclico",
          "Total/Consumo não Cíclico",
          "Total/Financeiro",
          "Total/Materiais Básicos",
          "Total/Outros",
          "Total/Petróleo, Gás e Biocombustíveis",
          "Total/Saúde",
          "Total/Tecnologia da Informação",
          "Total/Utilidade Pública",
          "Total/Bens Industriais",
          "Total/Comunicações",
          "Total/Consumo Cíclico",
          "Total/Consumo não Cíclico",
          "Total/Financeiro",
          "Total/Materiais Básicos",
          "Total/Outros",
          "Total/Petróleo, Gás e Biocombustíveis",
          "Total/Saúde",
          "Total/Tecnologia da Informação",
          "Total/Utilidade Pública",
          "Total/Bens Industriais",
          "Total/Comunicações",
          "Total/Consumo Cíclico",
          "Total/Consumo não Cíclico",
          "Total/Financeiro",
          "Total/Materiais Básicos",
          "Total/Outros",
          "Total/Petróleo, Gás e Biocombustíveis",
          "Total/Saúde",
          "Total/Tecnologia da Informação",
          "Total/Utilidade Pública",
          "Total/Bens Industriais",
          "Total/Comunicações",
          "Total/Consumo Cíclico",
          "Total/Consumo não Cíclico",
          "Total/Financeiro",
          "Total/Materiais Básicos",
          "Total/Outros",
          "Total/Petróleo, Gás e Biocombustíveis",
          "Total/Saúde",
          "Total/Tecnologia da Informação",
          "Total/Utilidade Pública",
          "Total/Bens Industriais",
          "Total/Comunicações",
          "Total/Consumo Cíclico",
          "Total/Consumo não Cíclico",
          "Total/Financeiro",
          "Total/Materiais Básicos",
          "Total/Outros",
          "Total/Petróleo, Gás e Biocombustíveis",
          "Total/Saúde",
          "Total/Tecnologia da Informação",
          "Total/Utilidade Pública",
          "Total/Bens Industriais",
          "Total/Comunicações",
          "Total/Consumo Cíclico",
          "Total/Consumo não Cíclico",
          "Total/Financeiro",
          "Total/Materiais Básicos",
          "Total/Outros",
          "Total/Petróleo, Gás e Biocombustíveis",
          "Total/Saúde",
          "Total/Tecnologia da Informação",
          "Total/Utilidade Pública",
          "Total/Bens Industriais",
          "Total/Comunicações",
          "Total/Consumo Cíclico",
          "Total/Consumo não Cíclico",
          "Total/Financeiro",
          "Total/Materiais Básicos",
          "Total/Outros",
          "Total/Petróleo, Gás e Biocombustíveis",
          "Total/Saúde",
          "Total/Tecnologia da Informação",
          "Total/Utilidade Pública",
          "Total/Bens Industriais",
          "Total/Comunicações",
          "Total/Consumo Cíclico",
          "Total/Consumo não Cíclico",
          "Total/Financeiro",
          "Total/Materiais Básicos",
          "Total/Outros",
          "Total/Petróleo, Gás e Biocombustíveis",
          "Total/Saúde",
          "Total/Tecnologia da Informação",
          "Total/Utilidade Pública",
          "Total/Bens Industriais",
          "Total/Comunicações",
          "Total/Consumo Cíclico",
          "Total/Consumo não Cíclico",
          "Total/Financeiro",
          "Total/Materiais Básicos",
          "Total/Outros",
          "Total/Petróleo, Gás e Biocombustíveis",
          "Total/Saúde",
          "Total/Tecnologia da Informação",
          "Total/Utilidade Pública",
          "Total/Bens Industriais",
          "Total/Comunicações",
          "Total/Consumo Cíclico",
          "Total/Consumo não Cíclico",
          "Total/Financeiro",
          "Total/Materiais Básicos",
          "Total/Outros",
          "Total/Petróleo, Gás e Biocombustíveis",
          "Total/Saúde",
          "Total/Tecnologia da Informação",
          "Total/Utilidade Pública",
          "Total/Bens Industriais",
          "Total/Comunicações",
          "Total/Consumo Cíclico",
          "Total/Consumo não Cíclico",
          "Total/Financeiro",
          "Total/Materiais Básicos",
          "Total/Outros",
          "Total/Petróleo, Gás e Biocombustíveis",
          "Total/Saúde",
          "Total/Tecnologia da Informação",
          "Total/Utilidade Pública",
          "Total/Bens Industriais",
          "Total/Comunicações",
          "Total/Consumo Cíclico",
          "Total/Consumo não Cíclico",
          "Total/Financeiro",
          "Total/Materiais Básicos",
          "Total/Outros",
          "Total/Petróleo, Gás e Biocombustíveis",
          "Total/Saúde",
          "Total/Tecnologia da Informação",
          "Total/Utilidade Pública",
          "Total/Bens Industriais",
          "Total/Comunicações",
          "Total/Consumo Cíclico",
          "Total/Consumo não Cíclico",
          "Total/Financeiro",
          "Total/Materiais Básicos",
          "Total/Outros",
          "Total/Petróleo, Gás e Biocombustíveis",
          "Total/Saúde",
          "Total/Tecnologia da Informação",
          "Total/Utilidade Pública",
          "Total/Bens Industriais",
          "Total/Comunicações",
          "Total/Consumo Cíclico",
          "Total/Consumo não Cíclico",
          "Total/Financeiro",
          "Total/Materiais Básicos",
          "Total/Outros",
          "Total/Petróleo, Gás e Biocombustíveis",
          "Total/Saúde",
          "Total/Tecnologia da Informação",
          "Total/Utilidade Pública",
          "Total/Bens Industriais",
          "Total/Comunicações",
          "Total/Consumo Cíclico",
          "Total/Consumo não Cíclico",
          "Total/Financeiro",
          "Total/Materiais Básicos",
          "Total/Outros",
          "Total/Petróleo, Gás e Biocombustíveis",
          "Total/Saúde",
          "Total/Tecnologia da Informação",
          "Total/Utilidade Pública",
          "Total/Bens Industriais",
          "Total/Comunicações",
          "Total/Consumo Cíclico",
          "Total/Consumo não Cíclico",
          "Total/Financeiro",
          "Total/Materiais Básicos",
          "Total/Outros",
          "Total/Petróleo, Gás e Biocombustíveis",
          "Total/Saúde",
          "Total/Tecnologia da Informação",
          "Total/Utilidade Pública",
          "Total/Bens Industriais",
          "Total/Comunicações",
          "Total/Consumo Cíclico",
          "Total/Consumo não Cíclico",
          "Total/Financeiro",
          "Total/Materiais Básicos",
          "Total/Outros",
          "Total/Petróleo, Gás e Biocombustíveis",
          "Total/Saúde",
          "Total/Tecnologia da Informação",
          "Total/Utilidade Pública",
          "Total/Bens Industriais",
          "Total/Comunicações",
          "Total/Consumo Cíclico",
          "Total/Consumo não Cíclico",
          "Total/Financeiro",
          "Total/Materiais Básicos",
          "Total/Outros",
          "Total/Petróleo, Gás e Biocombustíveis",
          "Total/Saúde",
          "Total/Tecnologia da Informação",
          "Total/Utilidade Pública",
          "Total/Bens Industriais",
          "Total/Comunicações",
          "Total/Consumo Cíclico",
          "Total/Consumo não Cíclico",
          "Total/Financeiro",
          "Total/Materiais Básicos",
          "Total/Outros",
          "Total/Petróleo, Gás e Biocombustíveis",
          "Total/Saúde",
          "Total/Tecnologia da Informação",
          "Total/Utilidade Pública",
          "Total/Bens Industriais",
          "Total/Comunicações",
          "Total/Consumo Cíclico",
          "Total/Consumo não Cíclico",
          "Total/Financeiro",
          "Total/Materiais Básicos",
          "Total/Outros",
          "Total/Petróleo, Gás e Biocombustíveis",
          "Total/Saúde",
          "Total/Tecnologia da Informação",
          "Total/Utilidade Pública",
          "Total/Bens Industriais",
          "Total/Comunicações",
          "Total/Consumo Cíclico",
          "Total/Consumo não Cíclico",
          "Total/Financeiro",
          "Total/Materiais Básicos",
          "Total/Outros",
          "Total/Petróleo, Gás e Biocombustíveis",
          "Total/Saúde",
          "Total/Tecnologia da Informação",
          "Total/Utilidade Pública",
          "Total/Bens Industriais",
          "Total/Comunicações",
          "Total/Consumo Cíclico",
          "Total/Consumo não Cíclico",
          "Total/Financeiro",
          "Total/Materiais Básicos",
          "Total/Outros",
          "Total/Petróleo, Gás e Biocombustíveis",
          "Total/Saúde",
          "Total/Tecnologia da Informação",
          "Total/Utilidade Pública",
          "Total/Bens Industriais",
          "Total/Comunicações",
          "Total/Consumo Cíclico",
          "Total/Consumo não Cíclico",
          "Total/Financeiro",
          "Total/Materiais Básicos",
          "Total/Outros",
          "Total/Petróleo, Gás e Biocombustíveis",
          "Total/Saúde",
          "Total/Tecnologia da Informação",
          "Total/Utilidade Pública",
          "Total/Bens Industriais",
          "Total/Comunicações",
          "Total/Consumo Cíclico",
          "Total/Consumo não Cíclico",
          "Total/Financeiro",
          "Total/Materiais Básicos",
          "Total/Outros",
          "Total/Petróleo, Gás e Biocombustíveis",
          "Total/Saúde",
          "Total/Tecnologia da Informação",
          "Total/Utilidade Pública",
          "Total/Bens Industriais",
          "Total/Comunicações",
          "Total/Consumo Cíclico",
          "Total/Consumo não Cíclico",
          "Total/Financeiro",
          "Total/Materiais Básicos",
          "Total/Outros",
          "Total/Petróleo, Gás e Biocombustíveis",
          "Total/Saúde",
          "Total/Tecnologia da Informação",
          "Total/Utilidade Pública",
          "Total/Bens Industriais",
          "Total/Comunicações",
          "Total/Consumo Cíclico",
          "Total/Consumo não Cíclico",
          "Total/Financeiro",
          "Total/Materiais Básicos",
          "Total/Outros",
          "Total/Petróleo, Gás e Biocombustíveis",
          "Total/Saúde",
          "Total/Tecnologia da Informação",
          "Total/Utilidade Pública",
          "Total/Bens Industriais",
          "Total/Comunicações",
          "Total/Consumo Cíclico",
          "Total/Consumo não Cíclico",
          "Total/Financeiro",
          "Total/Materiais Básicos",
          "Total/Outros",
          "Total/Petróleo, Gás e Biocombustíveis",
          "Total/Saúde",
          "Total/Tecnologia da Informação",
          "Total/Utilidade Pública",
          "Total/Bens Industriais",
          "Total/Comunicações",
          "Total/Consumo Cíclico",
          "Total/Consumo não Cíclico",
          "Total/Financeiro",
          "Total/Materiais Básicos",
          "Total/Outros",
          "Total/Petróleo, Gás e Biocombustíveis",
          "Total/Saúde",
          "Total/Tecnologia da Informação",
          "Total/Utilidade Pública",
          "Total/Bens Industriais",
          "Total/Comunicações",
          "Total/Consumo Cíclico",
          "Total/Consumo não Cíclico",
          "Total/Financeiro",
          "Total/Materiais Básicos",
          "Total/Outros",
          "Total/Petróleo, Gás e Biocombustíveis",
          "Total/Saúde",
          "Total/Tecnologia da Informação",
          "Total/Utilidade Pública",
          "Total/Bens Industriais",
          "Total/Comunicações",
          "Total/Consumo Cíclico",
          "Total/Consumo não Cíclico",
          "Total/Financeiro",
          "Total/Materiais Básicos",
          "Total/Outros",
          "Total/Petróleo, Gás e Biocombustíveis",
          "Total/Saúde",
          "Total/Tecnologia da Informação",
          "Total/Utilidade Pública",
          "Total/Bens Industriais",
          "Total/Comunicações",
          "Total/Consumo Cíclico",
          "Total/Consumo não Cíclico",
          "Total/Financeiro",
          "Total/Materiais Básicos",
          "Total/Outros",
          "Total/Petróleo, Gás e Biocombustíveis",
          "Total/Saúde",
          "Total/Tecnologia da Informação",
          "Total/Utilidade Pública",
          "Total/Bens Industriais",
          "Total/Comunicações",
          "Total/Consumo Cíclico",
          "Total/Consumo não Cíclico",
          "Total/Financeiro",
          "Total/Materiais Básicos",
          "Total/Outros",
          "Total/Petróleo, Gás e Biocombustíveis",
          "Total/Saúde",
          "Total/Tecnologia da Informação",
          "Total/Utilidade Pública",
          "Total/Bens Industriais",
          "Total/Comunicações",
          "Total/Consumo Cíclico",
          "Total/Consumo não Cíclico",
          "Total/Financeiro",
          "Total/Materiais Básicos",
          "Total/Outros",
          "Total/Petróleo, Gás e Biocombustíveis",
          "Total/Saúde",
          "Total/Tecnologia da Informação",
          "Total/Utilidade Pública",
          "Total/Bens Industriais",
          "Total/Comunicações",
          "Total/Consumo Cíclico",
          "Total/Consumo não Cíclico",
          "Total/Financeiro",
          "Total/Materiais Básicos",
          "Total/Outros",
          "Total/Petróleo, Gás e Biocombustíveis",
          "Total/Saúde",
          "Total/Tecnologia da Informação",
          "Total/Utilidade Pública",
          "Total/Bens Industriais",
          "Total/Comunicações",
          "Total/Consumo Cíclico",
          "Total/Consumo não Cíclico",
          "Total/Financeiro",
          "Total/Materiais Básicos",
          "Total/Outros",
          "Total/Petróleo, Gás e Biocombustíveis",
          "Total/Saúde",
          "Total/Tecnologia da Informação",
          "Total/Utilidade Pública",
          "Total/Bens Industriais",
          "Total/Comunicações",
          "Total/Consumo Cíclico",
          "Total/Consumo não Cíclico",
          "Total/Financeiro",
          "Total/Materiais Básicos",
          "Total/Outros",
          "Total/Petróleo, Gás e Biocombustíveis",
          "Total/Saúde",
          "Total/Tecnologia da Informação",
          "Total/Utilidade Pública",
          "Total/Bens Industriais",
          "Total/Comunicações",
          "Total/Consumo Cíclico",
          "Total/Consumo não Cíclico",
          "Total/Financeiro",
          "Total/Materiais Básicos",
          "Total/Outros",
          "Total/Petróleo, Gás e Biocombustíveis",
          "Total/Saúde",
          "Total/Tecnologia da Informação",
          "Total/Utilidade Pública",
          "Total/Bens Industriais",
          "Total/Comunicações",
          "Total/Consumo Cíclico",
          "Total/Consumo não Cíclico",
          "Total/Financeiro",
          "Total/Materiais Básicos",
          "Total/Outros",
          "Total/Petróleo, Gás e Biocombustíveis",
          "Total/Saúde",
          "Total/Tecnologia da Informação",
          "Total/Utilidade Pública",
          "Total/Bens Industriais",
          "Total/Comunicações",
          "Total/Consumo Cíclico",
          "Total/Consumo não Cíclico",
          "Total/Financeiro",
          "Total/Materiais Básicos",
          "Total/Outros",
          "Total/Petróleo, Gás e Biocombustíveis",
          "Total/Saúde",
          "Total/Tecnologia da Informação",
          "Total/Utilidade Pública",
          "Total/Bens Industriais",
          "Total/Comunicações",
          "Total/Consumo Cíclico",
          "Total/Consumo não Cíclico",
          "Total/Financeiro",
          "Total/Materiais Básicos",
          "Total/Outros",
          "Total/Petróleo, Gás e Biocombustíveis",
          "Total/Saúde",
          "Total/Tecnologia da Informação",
          "Total/Utilidade Pública",
          "Total/Bens Industriais",
          "Total/Comunicações",
          "Total/Consumo Cíclico",
          "Total/Consumo não Cíclico",
          "Total/Financeiro",
          "Total/Materiais Básicos",
          "Total/Outros",
          "Total/Petróleo, Gás e Biocombustíveis",
          "Total/Saúde",
          "Total/Tecnologia da Informação",
          "Total/Utilidade Pública",
          "Total/Bens Industriais",
          "Total/Comunicações",
          "Total/Consumo Cíclico",
          "Total/Consumo não Cíclico",
          "Total/Financeiro",
          "Total/Materiais Básicos",
          "Total/Outros",
          "Total/Petróleo, Gás e Biocombustíveis",
          "Total/Saúde",
          "Total/Tecnologia da Informação",
          "Total/Utilidade Pública",
          "Total/Bens Industriais",
          "Total/Comunicações",
          "Total/Consumo Cíclico",
          "Total/Consumo não Cíclico",
          "Total/Financeiro",
          "Total/Materiais Básicos",
          "Total/Outros",
          "Total/Petróleo, Gás e Biocombustíveis",
          "Total/Saúde",
          "Total/Tecnologia da Informação",
          "Total/Utilidade Pública",
          "Total/Bens Industriais",
          "Total/Comunicações",
          "Total/Consumo Cíclico",
          "Total/Consumo não Cíclico",
          "Total/Financeiro",
          "Total/Materiais Básicos",
          "Total/Outros",
          "Total/Petróleo, Gás e Biocombustíveis",
          "Total/Saúde",
          "Total/Tecnologia da Informação",
          "Total/Utilidade Pública",
          "Total/Bens Industriais",
          "Total/Comunicações",
          "Total/Consumo Cíclico",
          "Total/Consumo não Cíclico",
          "Total/Financeiro",
          "Total/Materiais Básicos",
          "Total/Outros",
          "Total/Petróleo, Gás e Biocombustíveis",
          "Total/Saúde",
          "Total/Tecnologia da Informação",
          "Total/Utilidade Pública",
          "Total/Bens Industriais",
          "Total/Comunicações",
          "Total/Consumo Cíclico",
          "Total/Consumo não Cíclico",
          "Total/Financeiro",
          "Total/Materiais Básicos",
          "Total/Outros",
          "Total/Petróleo, Gás e Biocombustíveis",
          "Total/Saúde",
          "Total/Tecnologia da Informação",
          "Total/Utilidade Pública",
          "Total/Bens Industriais",
          "Total/Comunicações",
          "Total/Consumo Cíclico",
          "Total/Consumo não Cíclico",
          "Total/Financeiro",
          "Total/Materiais Básicos",
          "Total/Outros",
          "Total/Petróleo, Gás e Biocombustíveis",
          "Total/Saúde",
          "Total/Tecnologia da Informação",
          "Total/Utilidade Pública",
          "Total/Bens Industriais",
          "Total/Comunicações",
          "Total/Consumo Cíclico",
          "Total/Consumo não Cíclico",
          "Total/Financeiro",
          "Total/Materiais Básicos",
          "Total/Outros",
          "Total/Petróleo, Gás e Biocombustíveis",
          "Total/Saúde",
          "Total/Tecnologia da Informação",
          "Total/Utilidade Pública",
          "Total/Bens Industriais",
          "Total/Comunicações",
          "Total/Consumo Cíclico",
          "Total/Consumo não Cíclico",
          "Total/Financeiro",
          "Total/Materiais Básicos",
          "Total/Outros",
          "Total/Petróleo, Gás e Biocombustíveis",
          "Total/Saúde",
          "Total/Tecnologia da Informação",
          "Total/Utilidade Pública",
          "Total/Bens Industriais",
          "Total/Comunicações",
          "Total/Consumo Cíclico",
          "Total/Consumo não Cíclico",
          "Total/Financeiro",
          "Total/Materiais Básicos",
          "Total/Outros",
          "Total/Petróleo, Gás e Biocombustíveis",
          "Total/Saúde",
          "Total/Tecnologia da Informação",
          "Total/Utilidade Pública",
          "Total/Bens Industriais",
          "Total/Comunicações",
          "Total/Consumo Cíclico",
          "Total/Consumo não Cíclico",
          "Total/Financeiro",
          "Total/Materiais Básicos",
          "Total/Outros",
          "Total/Petróleo, Gás e Biocombustíveis",
          "Total/Saúde",
          "Total/Tecnologia da Informação",
          "Total/Utilidade Pública",
          "Total/Bens Industriais",
          "Total/Comunicações",
          "Total/Consumo Cíclico",
          "Total/Consumo não Cíclico",
          "Total/Financeiro",
          "Total/Materiais Básicos",
          "Total/Outros",
          "Total/Petróleo, Gás e Biocombustíveis",
          "Total/Saúde",
          "Total/Tecnologia da Informação",
          "Total/Utilidade Pública",
          "Total/Bens Industriais",
          "Total/Comunicações",
          "Total/Consumo Cíclico",
          "Total/Consumo não Cíclico",
          "Total/Financeiro",
          "Total/Materiais Básicos",
          "Total/Outros",
          "Total/Petróleo, Gás e Biocombustíveis",
          "Total/Saúde",
          "Total/Tecnologia da Informação",
          "Total/Utilidade Pública",
          "Total/Bens Industriais",
          "Total/Comunicações",
          "Total/Consumo Cíclico",
          "Total/Consumo não Cíclico",
          "Total/Financeiro",
          "Total/Materiais Básicos",
          "Total/Outros",
          "Total/Petróleo, Gás e Biocombustíveis",
          "Total/Saúde",
          "Total/Tecnologia da Informação",
          "Total/Utilidade Pública",
          "Total/Bens Industriais",
          "Total/Comunicações",
          "Total/Consumo Cíclico",
          "Total/Consumo não Cíclico",
          "Total/Financeiro",
          "Total/Materiais Básicos",
          "Total/Outros",
          "Total/Petróleo, Gás e Biocombustíveis",
          "Total/Saúde",
          "Total/Tecnologia da Informação",
          "Total/Utilidade Pública",
          "Total/Bens Industriais",
          "Total/Comunicações",
          "Total/Consumo Cíclico",
          "Total/Consumo não Cíclico",
          "Total/Financeiro",
          "Total/Materiais Básicos",
          "Total/Outros",
          "Total/Petróleo, Gás e Biocombustíveis",
          "Total/Saúde",
          "Total/Tecnologia da Informação",
          "Total/Utilidade Pública",
          "Total/Bens Industriais",
          "Total/Comunicações",
          "Total/Consumo Cíclico",
          "Total/Consumo não Cíclico",
          "Total/Financeiro",
          "Total/Materiais Básicos",
          "Total/Outros",
          "Total/Petróleo, Gás e Biocombustíveis",
          "Total/Saúde",
          "Total/Tecnologia da Informação",
          "Total/Utilidade Pública",
          "Total/Bens Industriais",
          "Total/Comunicações",
          "Total/Consumo Cíclico",
          "Total/Consumo não Cíclico",
          "Total/Financeiro",
          "Total/Materiais Básicos",
          "Total/Outros",
          "Total/Petróleo, Gás e Biocombustíveis",
          "Total/Saúde",
          "Total/Tecnologia da Informação",
          "Total/Utilidade Pública",
          "Total/Bens Industriais",
          "Total/Comunicações",
          "Total/Consumo Cíclico",
          "Total/Consumo não Cíclico",
          "Total/Financeiro",
          "Total/Materiais Básicos",
          "Total/Outros",
          "Total/Petróleo, Gás e Biocombustíveis",
          "Total/Saúde",
          "Total/Tecnologia da Informação",
          "Total/Utilidade Pública",
          "Total/Bens Industriais",
          "Total/Comunicações",
          "Total/Consumo Cíclico",
          "Total/Consumo não Cíclico",
          "Total/Financeiro",
          "Total/Materiais Básicos",
          "Total/Outros",
          "Total/Petróleo, Gás e Biocombustíveis",
          "Total/Saúde",
          "Total/Tecnologia da Informação",
          "Total/Utilidade Pública",
          "Total/Bens Industriais",
          "Total/Comunicações",
          "Total/Consumo Cíclico",
          "Total/Consumo não Cíclico",
          "Total/Financeiro",
          "Total/Materiais Básicos",
          "Total/Outros",
          "Total/Petróleo, Gás e Biocombustíveis",
          "Total/Saúde",
          "Total/Tecnologia da Informação",
          "Total/Utilidade Pública",
          "Total/Bens Industriais",
          "Total/Comunicações",
          "Total/Consumo Cíclico",
          "Total/Consumo não Cíclico",
          "Total/Financeiro",
          "Total/Materiais Básicos",
          "Total/Outros",
          "Total/Petróleo, Gás e Biocombustíveis",
          "Total/Saúde",
          "Total/Tecnologia da Informação",
          "Total/Utilidade Pública",
          "Total/Bens Industriais",
          "Total/Comunicações",
          "Total/Consumo Cíclico",
          "Total/Consumo não Cíclico",
          "Total/Financeiro",
          "Total/Materiais Básicos",
          "Total/Outros",
          "Total/Petróleo, Gás e Biocombustíveis",
          "Total/Saúde",
          "Total/Tecnologia da Informação",
          "Total/Utilidade Pública",
          "Total/Bens Industriais",
          "Total/Comunicações",
          "Total/Consumo Cíclico",
          "Total/Consumo não Cíclico",
          "Total/Financeiro",
          "Total/Materiais Básicos",
          "Total/Outros",
          "Total/Petróleo, Gás e Biocombustíveis",
          "Total/Saúde",
          "Total/Tecnologia da Informação",
          "Total/Utilidade Pública",
          "Total/Bens Industriais",
          "Total/Comunicações",
          "Total/Consumo Cíclico",
          "Total/Consumo não Cíclico",
          "Total/Financeiro",
          "Total/Materiais Básicos",
          "Total/Outros",
          "Total/Petróleo, Gás e Biocombustíveis",
          "Total/Saúde",
          "Total/Tecnologia da Informação",
          "Total/Utilidade Pública",
          "Total/Bens Industriais",
          "Total/Comunicações",
          "Total/Consumo Cíclico",
          "Total/Consumo não Cíclico",
          "Total/Financeiro",
          "Total/Materiais Básicos",
          "Total/Outros",
          "Total/Petróleo, Gás e Biocombustíveis",
          "Total/Saúde",
          "Total/Tecnologia da Informação",
          "Total/Utilidade Pública",
          "Total/Bens Industriais",
          "Total/Comunicações",
          "Total/Consumo Cíclico",
          "Total/Consumo não Cíclico",
          "Total/Financeiro",
          "Total/Materiais Básicos",
          "Total/Outros",
          "Total/Petróleo, Gás e Biocombustíveis",
          "Total/Saúde",
          "Total/Tecnologia da Informação",
          "Total/Utilidade Pública",
          "Total/Bens Industriais",
          "Total/Comunicações",
          "Total/Consumo Cíclico",
          "Total/Consumo não Cíclico",
          "Total/Financeiro",
          "Total/Materiais Básicos",
          "Total/Outros",
          "Total/Petróleo, Gás e Biocombustíveis",
          "Total/Saúde",
          "Total/Tecnologia da Informação",
          "Total/Utilidade Pública",
          "Total/Bens Industriais",
          "Total/Comunicações",
          "Total/Consumo Cíclico",
          "Total/Consumo não Cíclico",
          "Total/Financeiro",
          "Total/Materiais Básicos",
          "Total/Outros",
          "Total/Petróleo, Gás e Biocombustíveis",
          "Total/Saúde",
          "Total/Tecnologia da Informação",
          "Total/Utilidade Pública",
          "Total/Bens Industriais",
          "Total/Comunicações",
          "Total/Consumo Cíclico",
          "Total/Consumo não Cíclico",
          "Total/Financeiro",
          "Total/Materiais Básicos",
          "Total/Outros",
          "Total/Petróleo, Gás e Biocombustíveis",
          "Total/Saúde",
          "Total/Tecnologia da Informação",
          "Total/Utilidade Pública",
          "Total/Bens Industriais",
          "Total/Comunicações",
          "Total/Consumo Cíclico",
          "Total/Consumo não Cíclico",
          "Total/Financeiro",
          "Total/Materiais Básicos",
          "Total/Outros",
          "Total/Petróleo, Gás e Biocombustíveis",
          "Total/Saúde",
          "Total/Tecnologia da Informação",
          "Total/Utilidade Pública",
          "Total/Bens Industriais",
          "Total/Comunicações",
          "Total/Consumo Cíclico",
          "Total/Consumo não Cíclico",
          "Total/Financeiro",
          "Total/Materiais Básicos",
          "Total/Outros",
          "Total/Petróleo, Gás e Biocombustíveis",
          "Total/Saúde",
          "Total/Tecnologia da Informação",
          "Total/Utilidade Pública",
          "Total/Bens Industriais",
          "Total/Comunicações",
          "Total/Consumo Cíclico",
          "Total/Consumo não Cíclico",
          "Total/Financeiro",
          "Total/Materiais Básicos",
          "Total/Outros",
          "Total/Petróleo, Gás e Biocombustíveis",
          "Total/Saúde",
          "Total/Tecnologia da Informação",
          "Total/Utilidade Pública",
          "Total/Bens Industriais",
          "Total/Comunicações",
          "Total/Consumo Cíclico",
          "Total/Consumo não Cíclico",
          "Total/Financeiro",
          "Total/Materiais Básicos",
          "Total/Outros",
          "Total/Petróleo, Gás e Biocombustíveis",
          "Total/Saúde",
          "Total/Tecnologia da Informação",
          "Total/Utilidade Pública",
          "Total/Bens Industriais",
          "Total/Comunicações",
          "Total/Consumo Cíclico",
          "Total/Consumo não Cíclico",
          "Total/Financeiro",
          "Total/Materiais Básicos",
          "Total/Outros",
          "Total/Petróleo, Gás e Biocombustíveis",
          "Total/Saúde",
          "Total/Tecnologia da Informação",
          "Total/Utilidade Pública",
          "Total/Bens Industriais",
          "Total/Comunicações",
          "Total/Consumo Cíclico",
          "Total/Consumo não Cíclico",
          "Total/Financeiro",
          "Total/Materiais Básicos",
          "Total/Outros",
          "Total/Petróleo, Gás e Biocombustíveis",
          "Total/Saúde",
          "Total/Tecnologia da Informação",
          "Total/Utilidade Pública",
          "Total/Bens Industriais",
          "Total/Comunicações",
          "Total/Consumo Cíclico",
          "Total/Consumo não Cíclico",
          "Total/Financeiro",
          "Total/Materiais Básicos",
          "Total/Outros",
          "Total/Petróleo, Gás e Biocombustíveis",
          "Total/Saúde",
          "Total/Tecnologia da Informação",
          "Total/Utilidade Pública",
          "Total/Bens Industriais",
          "Total/Comunicações",
          "Total/Consumo Cíclico",
          "Total/Consumo não Cíclico",
          "Total/Financeiro",
          "Total/Materiais Básicos",
          "Total/Outros",
          "Total/Petróleo, Gás e Biocombustíveis",
          "Total/Saúde",
          "Total/Tecnologia da Informação",
          "Total/Utilidade Pública",
          "Total/Bens Industriais",
          "Total/Comunicações",
          "Total/Consumo Cíclico",
          "Total/Consumo não Cíclico",
          "Total/Financeiro",
          "Total/Materiais Básicos",
          "Total/Outros",
          "Total/Petróleo, Gás e Biocombustíveis",
          "Total/Saúde",
          "Total/Tecnologia da Informação",
          "Total/Utilidade Pública",
          "Total",
          "Total",
          "Total",
          "Total",
          "Total",
          "Total",
          "Total",
          "Total",
          "Total",
          "Total",
          "Total",
          ""
         ],
         "textinfo": "label+value+percent entry",
         "type": "treemap",
         "values": [
          0,
          0,
          3,
          0,
          0,
          0,
          0,
          0,
          0,
          0,
          0,
          0,
          0,
          0,
          11,
          0,
          0,
          0,
          0,
          0,
          0,
          0,
          0,
          0,
          0,
          5,
          0,
          0,
          0,
          0,
          0,
          0,
          0,
          0,
          0,
          0,
          4,
          0,
          0,
          0,
          0,
          0,
          0,
          0,
          0,
          0,
          4,
          0,
          0,
          0,
          0,
          0,
          0,
          0,
          0,
          1,
          0,
          0,
          0,
          0,
          0,
          0,
          0,
          0,
          0,
          0,
          0,
          0,
          0,
          0,
          0,
          1,
          0,
          0,
          0,
          0,
          0,
          0,
          0,
          0,
          0,
          0,
          3,
          0,
          0,
          0,
          0,
          0,
          0,
          0,
          1,
          0,
          0,
          0,
          0,
          0,
          0,
          0,
          0,
          0,
          0,
          3,
          0,
          0,
          0,
          0,
          0,
          0,
          0,
          0,
          0,
          0,
          0,
          3,
          0,
          0,
          0,
          0,
          0,
          0,
          0,
          0,
          0,
          0,
          0,
          22,
          0,
          0,
          0,
          0,
          0,
          0,
          0,
          0,
          1,
          0,
          0,
          0,
          0,
          0,
          0,
          0,
          0,
          0,
          0,
          1,
          0,
          0,
          0,
          0,
          0,
          0,
          0,
          0,
          0,
          0,
          4,
          0,
          0,
          0,
          0,
          0,
          0,
          0,
          0,
          0,
          0,
          0,
          6,
          0,
          0,
          0,
          0,
          0,
          0,
          0,
          0,
          0,
          0,
          1,
          0,
          0,
          0,
          0,
          0,
          0,
          0,
          0,
          0,
          0,
          0,
          0,
          0,
          0,
          0,
          0,
          3,
          0,
          1,
          0,
          0,
          0,
          0,
          0,
          0,
          0,
          0,
          0,
          0,
          0,
          0,
          0,
          0,
          2,
          0,
          0,
          0,
          0,
          0,
          0,
          0,
          0,
          4,
          0,
          0,
          0,
          0,
          0,
          0,
          0,
          0,
          0,
          0,
          0,
          0,
          0,
          1,
          0,
          0,
          0,
          0,
          0,
          0,
          0,
          0,
          0,
          0,
          0,
          0,
          0,
          0,
          0,
          54,
          1,
          0,
          0,
          0,
          0,
          0,
          0,
          0,
          0,
          0,
          0,
          0,
          0,
          0,
          0,
          0,
          0,
          0,
          0,
          2,
          0,
          0,
          0,
          0,
          0,
          0,
          0,
          0,
          0,
          3,
          0,
          0,
          0,
          0,
          0,
          0,
          0,
          12,
          0,
          0,
          0,
          0,
          0,
          0,
          11,
          0,
          0,
          0,
          0,
          0,
          0,
          0,
          0,
          0,
          0,
          0,
          0,
          0,
          0,
          0,
          0,
          0,
          10,
          0,
          0,
          0,
          0,
          0,
          0,
          0,
          0,
          3,
          0,
          0,
          0,
          0,
          0,
          0,
          0,
          10,
          0,
          0,
          0,
          0,
          0,
          0,
          0,
          0,
          0,
          0,
          0,
          0,
          5,
          0,
          0,
          0,
          0,
          0,
          0,
          0,
          0,
          0,
          0,
          0,
          0,
          0,
          0,
          0,
          0,
          3,
          0,
          0,
          0,
          0,
          3,
          0,
          0,
          0,
          0,
          0,
          0,
          0,
          0,
          1,
          0,
          0,
          0,
          0,
          0,
          0,
          0,
          0,
          0,
          0,
          28,
          0,
          0,
          0,
          0,
          0,
          0,
          0,
          0,
          0,
          0,
          0,
          0,
          2,
          0,
          0,
          0,
          0,
          0,
          0,
          2,
          0,
          0,
          0,
          0,
          0,
          0,
          0,
          0,
          0,
          0,
          0,
          0,
          0,
          0,
          0,
          2,
          0,
          0,
          0,
          0,
          0,
          0,
          0,
          0,
          0,
          0,
          1,
          0,
          0,
          0,
          0,
          0,
          1,
          0,
          0,
          0,
          0,
          0,
          0,
          0,
          0,
          0,
          0,
          7,
          0,
          0,
          0,
          0,
          0,
          0,
          0,
          0,
          0,
          0,
          4,
          0,
          0,
          0,
          0,
          0,
          0,
          0,
          0,
          0,
          0,
          0,
          0,
          0,
          0,
          0,
          0,
          0,
          0,
          11,
          0,
          0,
          0,
          0,
          0,
          0,
          0,
          7,
          0,
          0,
          0,
          0,
          0,
          2,
          0,
          0,
          0,
          0,
          0,
          0,
          0,
          0,
          0,
          0,
          1,
          0,
          0,
          0,
          0,
          0,
          0,
          0,
          0,
          0,
          0,
          11,
          0,
          0,
          0,
          0,
          0,
          0,
          0,
          0,
          0,
          0,
          0,
          0,
          3,
          0,
          0,
          0,
          0,
          0,
          0,
          0,
          0,
          0,
          0,
          0,
          0,
          0,
          0,
          13,
          0,
          0,
          0,
          0,
          0,
          0,
          0,
          0,
          3,
          0,
          0,
          0,
          0,
          0,
          0,
          0,
          0,
          0,
          0,
          0,
          4,
          0,
          0,
          0,
          0,
          0,
          0,
          0,
          0,
          0,
          0,
          2,
          0,
          0,
          0,
          0,
          0,
          0,
          0,
          6,
          0,
          0,
          0,
          0,
          0,
          0,
          0,
          0,
          0,
          0,
          0,
          1,
          0,
          0,
          0,
          0,
          0,
          0,
          0,
          0,
          0,
          0,
          1,
          0,
          0,
          0,
          0,
          0,
          0,
          0,
          3,
          0,
          0,
          0,
          0,
          0,
          0,
          0,
          0,
          0,
          0,
          0,
          0,
          2,
          0,
          0,
          0,
          0,
          0,
          0,
          0,
          0,
          0,
          0,
          1,
          0,
          0,
          0,
          0,
          0,
          0,
          0,
          0,
          0,
          0,
          0,
          0,
          0,
          0,
          0,
          0,
          0,
          13,
          0,
          0,
          1,
          0,
          0,
          0,
          0,
          0,
          0,
          0,
          0,
          0,
          0,
          0,
          0,
          0,
          0,
          2,
          0,
          0,
          0,
          0,
          0,
          0,
          0,
          0,
          0,
          1,
          0,
          0,
          0,
          0,
          0,
          0,
          0,
          0,
          2,
          0,
          0,
          0,
          0,
          0,
          0,
          0,
          0,
          0,
          0,
          0,
          0,
          3,
          0,
          0,
          0,
          0,
          0,
          0,
          0,
          0,
          0,
          0,
          4,
          0,
          0,
          0,
          0,
          0,
          0,
          8,
          0,
          0,
          0,
          0,
          0,
          0,
          0,
          0,
          0,
          0,
          0,
          0,
          6,
          0,
          0,
          0,
          0,
          0,
          0,
          0,
          0,
          0,
          0,
          0,
          0,
          7,
          0,
          0,
          0,
          0,
          0,
          0,
          0,
          0,
          0,
          0,
          0,
          0,
          0,
          0,
          10,
          0,
          0,
          7,
          0,
          0,
          0,
          0,
          0,
          0,
          0,
          0,
          0,
          0,
          0,
          0,
          0,
          0,
          0,
          5,
          0,
          0,
          0,
          0,
          0,
          0,
          0,
          0,
          0,
          2,
          0,
          0,
          0,
          0,
          0,
          0,
          0,
          0,
          0,
          0,
          3,
          0,
          0,
          0,
          0,
          0,
          0,
          0,
          0,
          8,
          0,
          0,
          0,
          0,
          0,
          0,
          0,
          0,
          0,
          8,
          0,
          0,
          0,
          0,
          0,
          0,
          0,
          0,
          0,
          5,
          0,
          0,
          0,
          0,
          0,
          0,
          0,
          0,
          0,
          0,
          3,
          0,
          0,
          0,
          0,
          0,
          0,
          0,
          0,
          0,
          0,
          2,
          0,
          0,
          0,
          0,
          0,
          0,
          0,
          0,
          0,
          0,
          0,
          0,
          1,
          0,
          0,
          0,
          0,
          0,
          0,
          0,
          0,
          0,
          0,
          1,
          0,
          0,
          0,
          0,
          0,
          0,
          0,
          0,
          0,
          0,
          1,
          0,
          0,
          0,
          0,
          0,
          0,
          0,
          0,
          0,
          0,
          0,
          0,
          0,
          0,
          0,
          0,
          0,
          0,
          8,
          70,
          9,
          91,
          32,
          69,
          31,
          13,
          13,
          23,
          16,
          65,
          432
         ]
        }
       ],
       "layout": {
        "legend": {
         "tracegroupgap": 0
        },
        "margin": {
         "t": 60
        },
        "template": {
         "data": {
          "bar": [
           {
            "error_x": {
             "color": "#f2f5fa"
            },
            "error_y": {
             "color": "#f2f5fa"
            },
            "marker": {
             "line": {
              "color": "rgb(17,17,17)",
              "width": 0.5
             },
             "pattern": {
              "fillmode": "overlay",
              "size": 10,
              "solidity": 0.2
             }
            },
            "type": "bar"
           }
          ],
          "barpolar": [
           {
            "marker": {
             "line": {
              "color": "rgb(17,17,17)",
              "width": 0.5
             },
             "pattern": {
              "fillmode": "overlay",
              "size": 10,
              "solidity": 0.2
             }
            },
            "type": "barpolar"
           }
          ],
          "carpet": [
           {
            "aaxis": {
             "endlinecolor": "#A2B1C6",
             "gridcolor": "#506784",
             "linecolor": "#506784",
             "minorgridcolor": "#506784",
             "startlinecolor": "#A2B1C6"
            },
            "baxis": {
             "endlinecolor": "#A2B1C6",
             "gridcolor": "#506784",
             "linecolor": "#506784",
             "minorgridcolor": "#506784",
             "startlinecolor": "#A2B1C6"
            },
            "type": "carpet"
           }
          ],
          "choropleth": [
           {
            "colorbar": {
             "outlinewidth": 0,
             "ticks": ""
            },
            "type": "choropleth"
           }
          ],
          "contour": [
           {
            "colorbar": {
             "outlinewidth": 0,
             "ticks": ""
            },
            "colorscale": [
             [
              0,
              "#0d0887"
             ],
             [
              0.1111111111111111,
              "#46039f"
             ],
             [
              0.2222222222222222,
              "#7201a8"
             ],
             [
              0.3333333333333333,
              "#9c179e"
             ],
             [
              0.4444444444444444,
              "#bd3786"
             ],
             [
              0.5555555555555556,
              "#d8576b"
             ],
             [
              0.6666666666666666,
              "#ed7953"
             ],
             [
              0.7777777777777778,
              "#fb9f3a"
             ],
             [
              0.8888888888888888,
              "#fdca26"
             ],
             [
              1,
              "#f0f921"
             ]
            ],
            "type": "contour"
           }
          ],
          "contourcarpet": [
           {
            "colorbar": {
             "outlinewidth": 0,
             "ticks": ""
            },
            "type": "contourcarpet"
           }
          ],
          "heatmap": [
           {
            "colorbar": {
             "outlinewidth": 0,
             "ticks": ""
            },
            "colorscale": [
             [
              0,
              "#0d0887"
             ],
             [
              0.1111111111111111,
              "#46039f"
             ],
             [
              0.2222222222222222,
              "#7201a8"
             ],
             [
              0.3333333333333333,
              "#9c179e"
             ],
             [
              0.4444444444444444,
              "#bd3786"
             ],
             [
              0.5555555555555556,
              "#d8576b"
             ],
             [
              0.6666666666666666,
              "#ed7953"
             ],
             [
              0.7777777777777778,
              "#fb9f3a"
             ],
             [
              0.8888888888888888,
              "#fdca26"
             ],
             [
              1,
              "#f0f921"
             ]
            ],
            "type": "heatmap"
           }
          ],
          "heatmapgl": [
           {
            "colorbar": {
             "outlinewidth": 0,
             "ticks": ""
            },
            "colorscale": [
             [
              0,
              "#0d0887"
             ],
             [
              0.1111111111111111,
              "#46039f"
             ],
             [
              0.2222222222222222,
              "#7201a8"
             ],
             [
              0.3333333333333333,
              "#9c179e"
             ],
             [
              0.4444444444444444,
              "#bd3786"
             ],
             [
              0.5555555555555556,
              "#d8576b"
             ],
             [
              0.6666666666666666,
              "#ed7953"
             ],
             [
              0.7777777777777778,
              "#fb9f3a"
             ],
             [
              0.8888888888888888,
              "#fdca26"
             ],
             [
              1,
              "#f0f921"
             ]
            ],
            "type": "heatmapgl"
           }
          ],
          "histogram": [
           {
            "marker": {
             "pattern": {
              "fillmode": "overlay",
              "size": 10,
              "solidity": 0.2
             }
            },
            "type": "histogram"
           }
          ],
          "histogram2d": [
           {
            "colorbar": {
             "outlinewidth": 0,
             "ticks": ""
            },
            "colorscale": [
             [
              0,
              "#0d0887"
             ],
             [
              0.1111111111111111,
              "#46039f"
             ],
             [
              0.2222222222222222,
              "#7201a8"
             ],
             [
              0.3333333333333333,
              "#9c179e"
             ],
             [
              0.4444444444444444,
              "#bd3786"
             ],
             [
              0.5555555555555556,
              "#d8576b"
             ],
             [
              0.6666666666666666,
              "#ed7953"
             ],
             [
              0.7777777777777778,
              "#fb9f3a"
             ],
             [
              0.8888888888888888,
              "#fdca26"
             ],
             [
              1,
              "#f0f921"
             ]
            ],
            "type": "histogram2d"
           }
          ],
          "histogram2dcontour": [
           {
            "colorbar": {
             "outlinewidth": 0,
             "ticks": ""
            },
            "colorscale": [
             [
              0,
              "#0d0887"
             ],
             [
              0.1111111111111111,
              "#46039f"
             ],
             [
              0.2222222222222222,
              "#7201a8"
             ],
             [
              0.3333333333333333,
              "#9c179e"
             ],
             [
              0.4444444444444444,
              "#bd3786"
             ],
             [
              0.5555555555555556,
              "#d8576b"
             ],
             [
              0.6666666666666666,
              "#ed7953"
             ],
             [
              0.7777777777777778,
              "#fb9f3a"
             ],
             [
              0.8888888888888888,
              "#fdca26"
             ],
             [
              1,
              "#f0f921"
             ]
            ],
            "type": "histogram2dcontour"
           }
          ],
          "mesh3d": [
           {
            "colorbar": {
             "outlinewidth": 0,
             "ticks": ""
            },
            "type": "mesh3d"
           }
          ],
          "parcoords": [
           {
            "line": {
             "colorbar": {
              "outlinewidth": 0,
              "ticks": ""
             }
            },
            "type": "parcoords"
           }
          ],
          "pie": [
           {
            "automargin": true,
            "type": "pie"
           }
          ],
          "scatter": [
           {
            "marker": {
             "line": {
              "color": "#283442"
             }
            },
            "type": "scatter"
           }
          ],
          "scatter3d": [
           {
            "line": {
             "colorbar": {
              "outlinewidth": 0,
              "ticks": ""
             }
            },
            "marker": {
             "colorbar": {
              "outlinewidth": 0,
              "ticks": ""
             }
            },
            "type": "scatter3d"
           }
          ],
          "scattercarpet": [
           {
            "marker": {
             "colorbar": {
              "outlinewidth": 0,
              "ticks": ""
             }
            },
            "type": "scattercarpet"
           }
          ],
          "scattergeo": [
           {
            "marker": {
             "colorbar": {
              "outlinewidth": 0,
              "ticks": ""
             }
            },
            "type": "scattergeo"
           }
          ],
          "scattergl": [
           {
            "marker": {
             "line": {
              "color": "#283442"
             }
            },
            "type": "scattergl"
           }
          ],
          "scattermapbox": [
           {
            "marker": {
             "colorbar": {
              "outlinewidth": 0,
              "ticks": ""
             }
            },
            "type": "scattermapbox"
           }
          ],
          "scatterpolar": [
           {
            "marker": {
             "colorbar": {
              "outlinewidth": 0,
              "ticks": ""
             }
            },
            "type": "scatterpolar"
           }
          ],
          "scatterpolargl": [
           {
            "marker": {
             "colorbar": {
              "outlinewidth": 0,
              "ticks": ""
             }
            },
            "type": "scatterpolargl"
           }
          ],
          "scatterternary": [
           {
            "marker": {
             "colorbar": {
              "outlinewidth": 0,
              "ticks": ""
             }
            },
            "type": "scatterternary"
           }
          ],
          "surface": [
           {
            "colorbar": {
             "outlinewidth": 0,
             "ticks": ""
            },
            "colorscale": [
             [
              0,
              "#0d0887"
             ],
             [
              0.1111111111111111,
              "#46039f"
             ],
             [
              0.2222222222222222,
              "#7201a8"
             ],
             [
              0.3333333333333333,
              "#9c179e"
             ],
             [
              0.4444444444444444,
              "#bd3786"
             ],
             [
              0.5555555555555556,
              "#d8576b"
             ],
             [
              0.6666666666666666,
              "#ed7953"
             ],
             [
              0.7777777777777778,
              "#fb9f3a"
             ],
             [
              0.8888888888888888,
              "#fdca26"
             ],
             [
              1,
              "#f0f921"
             ]
            ],
            "type": "surface"
           }
          ],
          "table": [
           {
            "cells": {
             "fill": {
              "color": "#506784"
             },
             "line": {
              "color": "rgb(17,17,17)"
             }
            },
            "header": {
             "fill": {
              "color": "#2a3f5f"
             },
             "line": {
              "color": "rgb(17,17,17)"
             }
            },
            "type": "table"
           }
          ]
         },
         "layout": {
          "annotationdefaults": {
           "arrowcolor": "#f2f5fa",
           "arrowhead": 0,
           "arrowwidth": 1
          },
          "autotypenumbers": "strict",
          "coloraxis": {
           "colorbar": {
            "outlinewidth": 0,
            "ticks": ""
           }
          },
          "colorscale": {
           "diverging": [
            [
             0,
             "#8e0152"
            ],
            [
             0.1,
             "#c51b7d"
            ],
            [
             0.2,
             "#de77ae"
            ],
            [
             0.3,
             "#f1b6da"
            ],
            [
             0.4,
             "#fde0ef"
            ],
            [
             0.5,
             "#f7f7f7"
            ],
            [
             0.6,
             "#e6f5d0"
            ],
            [
             0.7,
             "#b8e186"
            ],
            [
             0.8,
             "#7fbc41"
            ],
            [
             0.9,
             "#4d9221"
            ],
            [
             1,
             "#276419"
            ]
           ],
           "sequential": [
            [
             0,
             "#0d0887"
            ],
            [
             0.1111111111111111,
             "#46039f"
            ],
            [
             0.2222222222222222,
             "#7201a8"
            ],
            [
             0.3333333333333333,
             "#9c179e"
            ],
            [
             0.4444444444444444,
             "#bd3786"
            ],
            [
             0.5555555555555556,
             "#d8576b"
            ],
            [
             0.6666666666666666,
             "#ed7953"
            ],
            [
             0.7777777777777778,
             "#fb9f3a"
            ],
            [
             0.8888888888888888,
             "#fdca26"
            ],
            [
             1,
             "#f0f921"
            ]
           ],
           "sequentialminus": [
            [
             0,
             "#0d0887"
            ],
            [
             0.1111111111111111,
             "#46039f"
            ],
            [
             0.2222222222222222,
             "#7201a8"
            ],
            [
             0.3333333333333333,
             "#9c179e"
            ],
            [
             0.4444444444444444,
             "#bd3786"
            ],
            [
             0.5555555555555556,
             "#d8576b"
            ],
            [
             0.6666666666666666,
             "#ed7953"
            ],
            [
             0.7777777777777778,
             "#fb9f3a"
            ],
            [
             0.8888888888888888,
             "#fdca26"
            ],
            [
             1,
             "#f0f921"
            ]
           ]
          },
          "colorway": [
           "#636efa",
           "#EF553B",
           "#00cc96",
           "#ab63fa",
           "#FFA15A",
           "#19d3f3",
           "#FF6692",
           "#B6E880",
           "#FF97FF",
           "#FECB52"
          ],
          "font": {
           "color": "#f2f5fa"
          },
          "geo": {
           "bgcolor": "rgb(17,17,17)",
           "lakecolor": "rgb(17,17,17)",
           "landcolor": "rgb(17,17,17)",
           "showlakes": true,
           "showland": true,
           "subunitcolor": "#506784"
          },
          "hoverlabel": {
           "align": "left"
          },
          "hovermode": "closest",
          "mapbox": {
           "style": "dark"
          },
          "paper_bgcolor": "rgb(17,17,17)",
          "plot_bgcolor": "rgb(17,17,17)",
          "polar": {
           "angularaxis": {
            "gridcolor": "#506784",
            "linecolor": "#506784",
            "ticks": ""
           },
           "bgcolor": "rgb(17,17,17)",
           "radialaxis": {
            "gridcolor": "#506784",
            "linecolor": "#506784",
            "ticks": ""
           }
          },
          "scene": {
           "xaxis": {
            "backgroundcolor": "rgb(17,17,17)",
            "gridcolor": "#506784",
            "gridwidth": 2,
            "linecolor": "#506784",
            "showbackground": true,
            "ticks": "",
            "zerolinecolor": "#C8D4E3"
           },
           "yaxis": {
            "backgroundcolor": "rgb(17,17,17)",
            "gridcolor": "#506784",
            "gridwidth": 2,
            "linecolor": "#506784",
            "showbackground": true,
            "ticks": "",
            "zerolinecolor": "#C8D4E3"
           },
           "zaxis": {
            "backgroundcolor": "rgb(17,17,17)",
            "gridcolor": "#506784",
            "gridwidth": 2,
            "linecolor": "#506784",
            "showbackground": true,
            "ticks": "",
            "zerolinecolor": "#C8D4E3"
           }
          },
          "shapedefaults": {
           "line": {
            "color": "#f2f5fa"
           }
          },
          "sliderdefaults": {
           "bgcolor": "#C8D4E3",
           "bordercolor": "rgb(17,17,17)",
           "borderwidth": 1,
           "tickwidth": 0
          },
          "ternary": {
           "aaxis": {
            "gridcolor": "#506784",
            "linecolor": "#506784",
            "ticks": ""
           },
           "baxis": {
            "gridcolor": "#506784",
            "linecolor": "#506784",
            "ticks": ""
           },
           "bgcolor": "rgb(17,17,17)",
           "caxis": {
            "gridcolor": "#506784",
            "linecolor": "#506784",
            "ticks": ""
           }
          },
          "title": {
           "x": 0.05
          },
          "updatemenudefaults": {
           "bgcolor": "#506784",
           "borderwidth": 0
          },
          "xaxis": {
           "automargin": true,
           "gridcolor": "#283442",
           "linecolor": "#506784",
           "ticks": "",
           "title": {
            "standoff": 15
           },
           "zerolinecolor": "#283442",
           "zerolinewidth": 2
          },
          "yaxis": {
           "automargin": true,
           "gridcolor": "#283442",
           "linecolor": "#506784",
           "ticks": "",
           "title": {
            "standoff": 15
           },
           "zerolinecolor": "#283442",
           "zerolinewidth": 2
          }
         }
        }
       }
      }
     },
     "metadata": {},
     "output_type": "display_data"
    }
   ],
   "source": [
    "fa = df.value_counts(subset=['SETOR', 'SEGMENTO'], sort=False).rename(\"count\").reset_index()\n",
    "\n",
    "fig = px.treemap(data_frame=fa, \n",
    "                 path=[px.Constant('Total'), 'SETOR', 'SEGMENTO'], \n",
    "                 values='count', \n",
    "                 template='plotly_dark')\n",
    "fig.update_traces(hovertemplate=None, hoverinfo='label+value+percent entry', textinfo='label+value+percent entry')\n",
    "fig.show()"
   ]
  },
  {
   "cell_type": "markdown",
   "metadata": {},
   "source": [
    "R:\n",
    "Através do gráfico setorial impresso acima, podemos visualizar com maiores detalhes a relação entre os setores e seus segmentos. Observa-se principalmente os top 4 maiores setores (Consumo cíclico, bens industriais, financeiro e utilidades públicas):\n",
    "- Consumo cíclico:\n",
    "- Bens industriais:\n",
    "- Financeiro:\n",
    "- Utilidades públicas:\n",
    "- Consumo não cíclico:\n",
    "- Materiais básicos:\n",
    "- Saúde:\n",
    "- Tecnologia da informação:\n",
    "- Petróleo, gás e biocombustível:\n",
    "- Comunicação:\n",
    "- Outros:"
   ]
  },
  {
   "cell_type": "markdown",
   "metadata": {},
   "source": [
    "- Qual a frequência absoluta/relativa/acumulada de papéis por tipo de listagem?"
   ]
  },
  {
   "cell_type": "code",
   "execution_count": 34,
   "metadata": {},
   "outputs": [
    {
     "name": "stderr",
     "output_type": "stream",
     "text": [
      "c:\\Users\\adria\\anaconda3\\Lib\\site-packages\\plotly\\express\\_core.py:1958: FutureWarning:\n",
      "\n",
      "The default of observed=False is deprecated and will be changed to True in a future version of pandas. Pass observed=False to retain current behavior or observed=True to adopt the future default and silence this warning.\n",
      "\n"
     ]
    },
    {
     "data": {
      "application/vnd.plotly.v1+json": {
       "config": {
        "plotlyServerURL": "https://plot.ly"
       },
       "data": [
        {
         "alignmentgroup": "True",
         "legendgroup": "NM",
         "marker": {
          "color": "#636efa",
          "pattern": {
           "shape": ""
          }
         },
         "name": "NM",
         "offsetgroup": "NM",
         "orientation": "v",
         "showlegend": true,
         "textposition": "auto",
         "texttemplate": "%{y}",
         "type": "bar",
         "x": [
          "NM"
         ],
         "xaxis": "x",
         "y": [
          194
         ],
         "yaxis": "y"
        },
        {
         "alignmentgroup": "True",
         "legendgroup": "AUSENTE",
         "marker": {
          "color": "#EF553B",
          "pattern": {
           "shape": ""
          }
         },
         "name": "AUSENTE",
         "offsetgroup": "AUSENTE",
         "orientation": "v",
         "showlegend": true,
         "textposition": "auto",
         "texttemplate": "%{y}",
         "type": "bar",
         "x": [
          "AUSENTE"
         ],
         "xaxis": "x",
         "y": [
          160
         ],
         "yaxis": "y"
        },
        {
         "alignmentgroup": "True",
         "legendgroup": "N1",
         "marker": {
          "color": "#00cc96",
          "pattern": {
           "shape": ""
          }
         },
         "name": "N1",
         "offsetgroup": "N1",
         "orientation": "v",
         "showlegend": true,
         "textposition": "auto",
         "texttemplate": "%{y}",
         "type": "bar",
         "x": [
          "N1"
         ],
         "xaxis": "x",
         "y": [
          24
         ],
         "yaxis": "y"
        },
        {
         "alignmentgroup": "True",
         "legendgroup": "N2",
         "marker": {
          "color": "#ab63fa",
          "pattern": {
           "shape": ""
          }
         },
         "name": "N2",
         "offsetgroup": "N2",
         "orientation": "v",
         "showlegend": true,
         "textposition": "auto",
         "texttemplate": "%{y}",
         "type": "bar",
         "x": [
          "N2"
         ],
         "xaxis": "x",
         "y": [
          21
         ],
         "yaxis": "y"
        },
        {
         "alignmentgroup": "True",
         "legendgroup": "MA",
         "marker": {
          "color": "#FFA15A",
          "pattern": {
           "shape": ""
          }
         },
         "name": "MA",
         "offsetgroup": "MA",
         "orientation": "v",
         "showlegend": true,
         "textposition": "auto",
         "texttemplate": "%{y}",
         "type": "bar",
         "x": [
          "MA"
         ],
         "xaxis": "x",
         "y": [
          13
         ],
         "yaxis": "y"
        },
        {
         "alignmentgroup": "True",
         "legendgroup": "MB",
         "marker": {
          "color": "#19d3f3",
          "pattern": {
           "shape": ""
          }
         },
         "name": "MB",
         "offsetgroup": "MB",
         "orientation": "v",
         "showlegend": true,
         "textposition": "auto",
         "texttemplate": "%{y}",
         "type": "bar",
         "x": [
          "MB"
         ],
         "xaxis": "x",
         "y": [
          10
         ],
         "yaxis": "y"
        },
        {
         "alignmentgroup": "True",
         "legendgroup": "DR1",
         "marker": {
          "color": "#FF6692",
          "pattern": {
           "shape": ""
          }
         },
         "name": "DR1",
         "offsetgroup": "DR1",
         "orientation": "v",
         "showlegend": true,
         "textposition": "auto",
         "texttemplate": "%{y}",
         "type": "bar",
         "x": [
          "DR1"
         ],
         "xaxis": "x",
         "y": [
          4
         ],
         "yaxis": "y"
        },
        {
         "alignmentgroup": "True",
         "legendgroup": "DR3",
         "marker": {
          "color": "#B6E880",
          "pattern": {
           "shape": ""
          }
         },
         "name": "DR3",
         "offsetgroup": "DR3",
         "orientation": "v",
         "showlegend": true,
         "textposition": "auto",
         "texttemplate": "%{y}",
         "type": "bar",
         "x": [
          "DR3"
         ],
         "xaxis": "x",
         "y": [
          4
         ],
         "yaxis": "y"
        },
        {
         "alignmentgroup": "True",
         "legendgroup": "M2",
         "marker": {
          "color": "#FF97FF",
          "pattern": {
           "shape": ""
          }
         },
         "name": "M2",
         "offsetgroup": "M2",
         "orientation": "v",
         "showlegend": true,
         "textposition": "auto",
         "texttemplate": "%{y}",
         "type": "bar",
         "x": [
          "M2"
         ],
         "xaxis": "x",
         "y": [
          2
         ],
         "yaxis": "y"
        }
       ],
       "layout": {
        "barmode": "relative",
        "hovermode": "x",
        "legend": {
         "title": {
          "text": "LISTAGEM"
         },
         "tracegroupgap": 0
        },
        "margin": {
         "t": 60
        },
        "template": {
         "data": {
          "bar": [
           {
            "error_x": {
             "color": "#f2f5fa"
            },
            "error_y": {
             "color": "#f2f5fa"
            },
            "marker": {
             "line": {
              "color": "rgb(17,17,17)",
              "width": 0.5
             },
             "pattern": {
              "fillmode": "overlay",
              "size": 10,
              "solidity": 0.2
             }
            },
            "type": "bar"
           }
          ],
          "barpolar": [
           {
            "marker": {
             "line": {
              "color": "rgb(17,17,17)",
              "width": 0.5
             },
             "pattern": {
              "fillmode": "overlay",
              "size": 10,
              "solidity": 0.2
             }
            },
            "type": "barpolar"
           }
          ],
          "carpet": [
           {
            "aaxis": {
             "endlinecolor": "#A2B1C6",
             "gridcolor": "#506784",
             "linecolor": "#506784",
             "minorgridcolor": "#506784",
             "startlinecolor": "#A2B1C6"
            },
            "baxis": {
             "endlinecolor": "#A2B1C6",
             "gridcolor": "#506784",
             "linecolor": "#506784",
             "minorgridcolor": "#506784",
             "startlinecolor": "#A2B1C6"
            },
            "type": "carpet"
           }
          ],
          "choropleth": [
           {
            "colorbar": {
             "outlinewidth": 0,
             "ticks": ""
            },
            "type": "choropleth"
           }
          ],
          "contour": [
           {
            "colorbar": {
             "outlinewidth": 0,
             "ticks": ""
            },
            "colorscale": [
             [
              0,
              "#0d0887"
             ],
             [
              0.1111111111111111,
              "#46039f"
             ],
             [
              0.2222222222222222,
              "#7201a8"
             ],
             [
              0.3333333333333333,
              "#9c179e"
             ],
             [
              0.4444444444444444,
              "#bd3786"
             ],
             [
              0.5555555555555556,
              "#d8576b"
             ],
             [
              0.6666666666666666,
              "#ed7953"
             ],
             [
              0.7777777777777778,
              "#fb9f3a"
             ],
             [
              0.8888888888888888,
              "#fdca26"
             ],
             [
              1,
              "#f0f921"
             ]
            ],
            "type": "contour"
           }
          ],
          "contourcarpet": [
           {
            "colorbar": {
             "outlinewidth": 0,
             "ticks": ""
            },
            "type": "contourcarpet"
           }
          ],
          "heatmap": [
           {
            "colorbar": {
             "outlinewidth": 0,
             "ticks": ""
            },
            "colorscale": [
             [
              0,
              "#0d0887"
             ],
             [
              0.1111111111111111,
              "#46039f"
             ],
             [
              0.2222222222222222,
              "#7201a8"
             ],
             [
              0.3333333333333333,
              "#9c179e"
             ],
             [
              0.4444444444444444,
              "#bd3786"
             ],
             [
              0.5555555555555556,
              "#d8576b"
             ],
             [
              0.6666666666666666,
              "#ed7953"
             ],
             [
              0.7777777777777778,
              "#fb9f3a"
             ],
             [
              0.8888888888888888,
              "#fdca26"
             ],
             [
              1,
              "#f0f921"
             ]
            ],
            "type": "heatmap"
           }
          ],
          "heatmapgl": [
           {
            "colorbar": {
             "outlinewidth": 0,
             "ticks": ""
            },
            "colorscale": [
             [
              0,
              "#0d0887"
             ],
             [
              0.1111111111111111,
              "#46039f"
             ],
             [
              0.2222222222222222,
              "#7201a8"
             ],
             [
              0.3333333333333333,
              "#9c179e"
             ],
             [
              0.4444444444444444,
              "#bd3786"
             ],
             [
              0.5555555555555556,
              "#d8576b"
             ],
             [
              0.6666666666666666,
              "#ed7953"
             ],
             [
              0.7777777777777778,
              "#fb9f3a"
             ],
             [
              0.8888888888888888,
              "#fdca26"
             ],
             [
              1,
              "#f0f921"
             ]
            ],
            "type": "heatmapgl"
           }
          ],
          "histogram": [
           {
            "marker": {
             "pattern": {
              "fillmode": "overlay",
              "size": 10,
              "solidity": 0.2
             }
            },
            "type": "histogram"
           }
          ],
          "histogram2d": [
           {
            "colorbar": {
             "outlinewidth": 0,
             "ticks": ""
            },
            "colorscale": [
             [
              0,
              "#0d0887"
             ],
             [
              0.1111111111111111,
              "#46039f"
             ],
             [
              0.2222222222222222,
              "#7201a8"
             ],
             [
              0.3333333333333333,
              "#9c179e"
             ],
             [
              0.4444444444444444,
              "#bd3786"
             ],
             [
              0.5555555555555556,
              "#d8576b"
             ],
             [
              0.6666666666666666,
              "#ed7953"
             ],
             [
              0.7777777777777778,
              "#fb9f3a"
             ],
             [
              0.8888888888888888,
              "#fdca26"
             ],
             [
              1,
              "#f0f921"
             ]
            ],
            "type": "histogram2d"
           }
          ],
          "histogram2dcontour": [
           {
            "colorbar": {
             "outlinewidth": 0,
             "ticks": ""
            },
            "colorscale": [
             [
              0,
              "#0d0887"
             ],
             [
              0.1111111111111111,
              "#46039f"
             ],
             [
              0.2222222222222222,
              "#7201a8"
             ],
             [
              0.3333333333333333,
              "#9c179e"
             ],
             [
              0.4444444444444444,
              "#bd3786"
             ],
             [
              0.5555555555555556,
              "#d8576b"
             ],
             [
              0.6666666666666666,
              "#ed7953"
             ],
             [
              0.7777777777777778,
              "#fb9f3a"
             ],
             [
              0.8888888888888888,
              "#fdca26"
             ],
             [
              1,
              "#f0f921"
             ]
            ],
            "type": "histogram2dcontour"
           }
          ],
          "mesh3d": [
           {
            "colorbar": {
             "outlinewidth": 0,
             "ticks": ""
            },
            "type": "mesh3d"
           }
          ],
          "parcoords": [
           {
            "line": {
             "colorbar": {
              "outlinewidth": 0,
              "ticks": ""
             }
            },
            "type": "parcoords"
           }
          ],
          "pie": [
           {
            "automargin": true,
            "type": "pie"
           }
          ],
          "scatter": [
           {
            "marker": {
             "line": {
              "color": "#283442"
             }
            },
            "type": "scatter"
           }
          ],
          "scatter3d": [
           {
            "line": {
             "colorbar": {
              "outlinewidth": 0,
              "ticks": ""
             }
            },
            "marker": {
             "colorbar": {
              "outlinewidth": 0,
              "ticks": ""
             }
            },
            "type": "scatter3d"
           }
          ],
          "scattercarpet": [
           {
            "marker": {
             "colorbar": {
              "outlinewidth": 0,
              "ticks": ""
             }
            },
            "type": "scattercarpet"
           }
          ],
          "scattergeo": [
           {
            "marker": {
             "colorbar": {
              "outlinewidth": 0,
              "ticks": ""
             }
            },
            "type": "scattergeo"
           }
          ],
          "scattergl": [
           {
            "marker": {
             "line": {
              "color": "#283442"
             }
            },
            "type": "scattergl"
           }
          ],
          "scattermapbox": [
           {
            "marker": {
             "colorbar": {
              "outlinewidth": 0,
              "ticks": ""
             }
            },
            "type": "scattermapbox"
           }
          ],
          "scatterpolar": [
           {
            "marker": {
             "colorbar": {
              "outlinewidth": 0,
              "ticks": ""
             }
            },
            "type": "scatterpolar"
           }
          ],
          "scatterpolargl": [
           {
            "marker": {
             "colorbar": {
              "outlinewidth": 0,
              "ticks": ""
             }
            },
            "type": "scatterpolargl"
           }
          ],
          "scatterternary": [
           {
            "marker": {
             "colorbar": {
              "outlinewidth": 0,
              "ticks": ""
             }
            },
            "type": "scatterternary"
           }
          ],
          "surface": [
           {
            "colorbar": {
             "outlinewidth": 0,
             "ticks": ""
            },
            "colorscale": [
             [
              0,
              "#0d0887"
             ],
             [
              0.1111111111111111,
              "#46039f"
             ],
             [
              0.2222222222222222,
              "#7201a8"
             ],
             [
              0.3333333333333333,
              "#9c179e"
             ],
             [
              0.4444444444444444,
              "#bd3786"
             ],
             [
              0.5555555555555556,
              "#d8576b"
             ],
             [
              0.6666666666666666,
              "#ed7953"
             ],
             [
              0.7777777777777778,
              "#fb9f3a"
             ],
             [
              0.8888888888888888,
              "#fdca26"
             ],
             [
              1,
              "#f0f921"
             ]
            ],
            "type": "surface"
           }
          ],
          "table": [
           {
            "cells": {
             "fill": {
              "color": "#506784"
             },
             "line": {
              "color": "rgb(17,17,17)"
             }
            },
            "header": {
             "fill": {
              "color": "#2a3f5f"
             },
             "line": {
              "color": "rgb(17,17,17)"
             }
            },
            "type": "table"
           }
          ]
         },
         "layout": {
          "annotationdefaults": {
           "arrowcolor": "#f2f5fa",
           "arrowhead": 0,
           "arrowwidth": 1
          },
          "autotypenumbers": "strict",
          "coloraxis": {
           "colorbar": {
            "outlinewidth": 0,
            "ticks": ""
           }
          },
          "colorscale": {
           "diverging": [
            [
             0,
             "#8e0152"
            ],
            [
             0.1,
             "#c51b7d"
            ],
            [
             0.2,
             "#de77ae"
            ],
            [
             0.3,
             "#f1b6da"
            ],
            [
             0.4,
             "#fde0ef"
            ],
            [
             0.5,
             "#f7f7f7"
            ],
            [
             0.6,
             "#e6f5d0"
            ],
            [
             0.7,
             "#b8e186"
            ],
            [
             0.8,
             "#7fbc41"
            ],
            [
             0.9,
             "#4d9221"
            ],
            [
             1,
             "#276419"
            ]
           ],
           "sequential": [
            [
             0,
             "#0d0887"
            ],
            [
             0.1111111111111111,
             "#46039f"
            ],
            [
             0.2222222222222222,
             "#7201a8"
            ],
            [
             0.3333333333333333,
             "#9c179e"
            ],
            [
             0.4444444444444444,
             "#bd3786"
            ],
            [
             0.5555555555555556,
             "#d8576b"
            ],
            [
             0.6666666666666666,
             "#ed7953"
            ],
            [
             0.7777777777777778,
             "#fb9f3a"
            ],
            [
             0.8888888888888888,
             "#fdca26"
            ],
            [
             1,
             "#f0f921"
            ]
           ],
           "sequentialminus": [
            [
             0,
             "#0d0887"
            ],
            [
             0.1111111111111111,
             "#46039f"
            ],
            [
             0.2222222222222222,
             "#7201a8"
            ],
            [
             0.3333333333333333,
             "#9c179e"
            ],
            [
             0.4444444444444444,
             "#bd3786"
            ],
            [
             0.5555555555555556,
             "#d8576b"
            ],
            [
             0.6666666666666666,
             "#ed7953"
            ],
            [
             0.7777777777777778,
             "#fb9f3a"
            ],
            [
             0.8888888888888888,
             "#fdca26"
            ],
            [
             1,
             "#f0f921"
            ]
           ]
          },
          "colorway": [
           "#636efa",
           "#EF553B",
           "#00cc96",
           "#ab63fa",
           "#FFA15A",
           "#19d3f3",
           "#FF6692",
           "#B6E880",
           "#FF97FF",
           "#FECB52"
          ],
          "font": {
           "color": "#f2f5fa"
          },
          "geo": {
           "bgcolor": "rgb(17,17,17)",
           "lakecolor": "rgb(17,17,17)",
           "landcolor": "rgb(17,17,17)",
           "showlakes": true,
           "showland": true,
           "subunitcolor": "#506784"
          },
          "hoverlabel": {
           "align": "left"
          },
          "hovermode": "closest",
          "mapbox": {
           "style": "dark"
          },
          "paper_bgcolor": "rgb(17,17,17)",
          "plot_bgcolor": "rgb(17,17,17)",
          "polar": {
           "angularaxis": {
            "gridcolor": "#506784",
            "linecolor": "#506784",
            "ticks": ""
           },
           "bgcolor": "rgb(17,17,17)",
           "radialaxis": {
            "gridcolor": "#506784",
            "linecolor": "#506784",
            "ticks": ""
           }
          },
          "scene": {
           "xaxis": {
            "backgroundcolor": "rgb(17,17,17)",
            "gridcolor": "#506784",
            "gridwidth": 2,
            "linecolor": "#506784",
            "showbackground": true,
            "ticks": "",
            "zerolinecolor": "#C8D4E3"
           },
           "yaxis": {
            "backgroundcolor": "rgb(17,17,17)",
            "gridcolor": "#506784",
            "gridwidth": 2,
            "linecolor": "#506784",
            "showbackground": true,
            "ticks": "",
            "zerolinecolor": "#C8D4E3"
           },
           "zaxis": {
            "backgroundcolor": "rgb(17,17,17)",
            "gridcolor": "#506784",
            "gridwidth": 2,
            "linecolor": "#506784",
            "showbackground": true,
            "ticks": "",
            "zerolinecolor": "#C8D4E3"
           }
          },
          "shapedefaults": {
           "line": {
            "color": "#f2f5fa"
           }
          },
          "sliderdefaults": {
           "bgcolor": "#C8D4E3",
           "bordercolor": "rgb(17,17,17)",
           "borderwidth": 1,
           "tickwidth": 0
          },
          "ternary": {
           "aaxis": {
            "gridcolor": "#506784",
            "linecolor": "#506784",
            "ticks": ""
           },
           "baxis": {
            "gridcolor": "#506784",
            "linecolor": "#506784",
            "ticks": ""
           },
           "bgcolor": "rgb(17,17,17)",
           "caxis": {
            "gridcolor": "#506784",
            "linecolor": "#506784",
            "ticks": ""
           }
          },
          "title": {
           "x": 0.05
          },
          "updatemenudefaults": {
           "bgcolor": "#506784",
           "borderwidth": 0
          },
          "xaxis": {
           "automargin": true,
           "gridcolor": "#283442",
           "linecolor": "#506784",
           "ticks": "",
           "title": {
            "standoff": 15
           },
           "zerolinecolor": "#283442",
           "zerolinewidth": 2
          },
          "yaxis": {
           "automargin": true,
           "gridcolor": "#283442",
           "linecolor": "#506784",
           "ticks": "",
           "title": {
            "standoff": 15
           },
           "zerolinecolor": "#283442",
           "zerolinewidth": 2
          }
         }
        },
        "xaxis": {
         "anchor": "y",
         "categoryarray": [
          "NM",
          "AUSENTE",
          "N1",
          "N2",
          "MA",
          "MB",
          "DR1",
          "DR3",
          "M2"
         ],
         "categoryorder": "array",
         "domain": [
          0,
          1
         ],
         "title": {
          "text": "LISTAGEM"
         }
        },
        "yaxis": {
         "anchor": "x",
         "domain": [
          0,
          1
         ],
         "title": {
          "text": "QTD"
         }
        }
       }
      }
     },
     "metadata": {},
     "output_type": "display_data"
    }
   ],
   "source": [
    "fa = df.value_counts(subset=['LISTAGEM'], sort=True, ascending=False).rename(\"QTD\").reset_index()\n",
    "\n",
    "fig = px.bar(data_frame=fa, \n",
    "             template='plotly_dark',\n",
    "             x='LISTAGEM',\n",
    "             y='QTD',\n",
    "             color='LISTAGEM',\n",
    "             text_auto=True)\n",
    "\n",
    "fig.update_traces(hovertemplate=None)\n",
    "fig.update_layout(hovermode='x')\n",
    "fig.show()"
   ]
  },
  {
   "cell_type": "code",
   "execution_count": 122,
   "metadata": {},
   "outputs": [
    {
     "data": {
      "application/vnd.plotly.v1+json": {
       "config": {
        "plotlyServerURL": "https://plot.ly"
       },
       "data": [
        {
         "alignmentgroup": "True",
         "legendgroup": "",
         "marker": {
          "color": [
           0.46,
           1.39,
           2.31,
           4.63,
           7.64,
           12.5,
           18.06,
           55.09,
           100
          ],
          "coloraxis": "coloraxis",
          "pattern": {
           "shape": ""
          }
         },
         "name": "",
         "offsetgroup": "",
         "orientation": "v",
         "showlegend": false,
         "text": [
          0.46,
          1.39,
          2.31,
          4.63,
          7.64,
          12.5,
          18.06,
          55.09,
          100
         ],
         "textposition": "auto",
         "texttemplate": "%{text:.1f}%",
         "type": "bar",
         "x": [
          "M2",
          "DR1",
          "DR3",
          "MB",
          "MA",
          "N2",
          "N1",
          "AUSENTE",
          "NM"
         ],
         "xaxis": "x",
         "y": [
          0.46,
          1.39,
          2.31,
          4.63,
          7.64,
          12.5,
          18.06,
          55.09,
          100
         ],
         "yaxis": "y"
        }
       ],
       "layout": {
        "barmode": "relative",
        "coloraxis": {
         "colorbar": {
          "title": {
           "text": "color"
          }
         },
         "colorscale": [
          [
           0,
           "#0d0887"
          ],
          [
           0.1111111111111111,
           "#46039f"
          ],
          [
           0.2222222222222222,
           "#7201a8"
          ],
          [
           0.3333333333333333,
           "#9c179e"
          ],
          [
           0.4444444444444444,
           "#bd3786"
          ],
          [
           0.5555555555555556,
           "#d8576b"
          ],
          [
           0.6666666666666666,
           "#ed7953"
          ],
          [
           0.7777777777777778,
           "#fb9f3a"
          ],
          [
           0.8888888888888888,
           "#fdca26"
          ],
          [
           1,
           "#f0f921"
          ]
         ]
        },
        "legend": {
         "tracegroupgap": 0
        },
        "margin": {
         "t": 60
        },
        "template": {
         "data": {
          "bar": [
           {
            "error_x": {
             "color": "#f2f5fa"
            },
            "error_y": {
             "color": "#f2f5fa"
            },
            "marker": {
             "line": {
              "color": "rgb(17,17,17)",
              "width": 0.5
             },
             "pattern": {
              "fillmode": "overlay",
              "size": 10,
              "solidity": 0.2
             }
            },
            "type": "bar"
           }
          ],
          "barpolar": [
           {
            "marker": {
             "line": {
              "color": "rgb(17,17,17)",
              "width": 0.5
             },
             "pattern": {
              "fillmode": "overlay",
              "size": 10,
              "solidity": 0.2
             }
            },
            "type": "barpolar"
           }
          ],
          "carpet": [
           {
            "aaxis": {
             "endlinecolor": "#A2B1C6",
             "gridcolor": "#506784",
             "linecolor": "#506784",
             "minorgridcolor": "#506784",
             "startlinecolor": "#A2B1C6"
            },
            "baxis": {
             "endlinecolor": "#A2B1C6",
             "gridcolor": "#506784",
             "linecolor": "#506784",
             "minorgridcolor": "#506784",
             "startlinecolor": "#A2B1C6"
            },
            "type": "carpet"
           }
          ],
          "choropleth": [
           {
            "colorbar": {
             "outlinewidth": 0,
             "ticks": ""
            },
            "type": "choropleth"
           }
          ],
          "contour": [
           {
            "colorbar": {
             "outlinewidth": 0,
             "ticks": ""
            },
            "colorscale": [
             [
              0,
              "#0d0887"
             ],
             [
              0.1111111111111111,
              "#46039f"
             ],
             [
              0.2222222222222222,
              "#7201a8"
             ],
             [
              0.3333333333333333,
              "#9c179e"
             ],
             [
              0.4444444444444444,
              "#bd3786"
             ],
             [
              0.5555555555555556,
              "#d8576b"
             ],
             [
              0.6666666666666666,
              "#ed7953"
             ],
             [
              0.7777777777777778,
              "#fb9f3a"
             ],
             [
              0.8888888888888888,
              "#fdca26"
             ],
             [
              1,
              "#f0f921"
             ]
            ],
            "type": "contour"
           }
          ],
          "contourcarpet": [
           {
            "colorbar": {
             "outlinewidth": 0,
             "ticks": ""
            },
            "type": "contourcarpet"
           }
          ],
          "heatmap": [
           {
            "colorbar": {
             "outlinewidth": 0,
             "ticks": ""
            },
            "colorscale": [
             [
              0,
              "#0d0887"
             ],
             [
              0.1111111111111111,
              "#46039f"
             ],
             [
              0.2222222222222222,
              "#7201a8"
             ],
             [
              0.3333333333333333,
              "#9c179e"
             ],
             [
              0.4444444444444444,
              "#bd3786"
             ],
             [
              0.5555555555555556,
              "#d8576b"
             ],
             [
              0.6666666666666666,
              "#ed7953"
             ],
             [
              0.7777777777777778,
              "#fb9f3a"
             ],
             [
              0.8888888888888888,
              "#fdca26"
             ],
             [
              1,
              "#f0f921"
             ]
            ],
            "type": "heatmap"
           }
          ],
          "heatmapgl": [
           {
            "colorbar": {
             "outlinewidth": 0,
             "ticks": ""
            },
            "colorscale": [
             [
              0,
              "#0d0887"
             ],
             [
              0.1111111111111111,
              "#46039f"
             ],
             [
              0.2222222222222222,
              "#7201a8"
             ],
             [
              0.3333333333333333,
              "#9c179e"
             ],
             [
              0.4444444444444444,
              "#bd3786"
             ],
             [
              0.5555555555555556,
              "#d8576b"
             ],
             [
              0.6666666666666666,
              "#ed7953"
             ],
             [
              0.7777777777777778,
              "#fb9f3a"
             ],
             [
              0.8888888888888888,
              "#fdca26"
             ],
             [
              1,
              "#f0f921"
             ]
            ],
            "type": "heatmapgl"
           }
          ],
          "histogram": [
           {
            "marker": {
             "pattern": {
              "fillmode": "overlay",
              "size": 10,
              "solidity": 0.2
             }
            },
            "type": "histogram"
           }
          ],
          "histogram2d": [
           {
            "colorbar": {
             "outlinewidth": 0,
             "ticks": ""
            },
            "colorscale": [
             [
              0,
              "#0d0887"
             ],
             [
              0.1111111111111111,
              "#46039f"
             ],
             [
              0.2222222222222222,
              "#7201a8"
             ],
             [
              0.3333333333333333,
              "#9c179e"
             ],
             [
              0.4444444444444444,
              "#bd3786"
             ],
             [
              0.5555555555555556,
              "#d8576b"
             ],
             [
              0.6666666666666666,
              "#ed7953"
             ],
             [
              0.7777777777777778,
              "#fb9f3a"
             ],
             [
              0.8888888888888888,
              "#fdca26"
             ],
             [
              1,
              "#f0f921"
             ]
            ],
            "type": "histogram2d"
           }
          ],
          "histogram2dcontour": [
           {
            "colorbar": {
             "outlinewidth": 0,
             "ticks": ""
            },
            "colorscale": [
             [
              0,
              "#0d0887"
             ],
             [
              0.1111111111111111,
              "#46039f"
             ],
             [
              0.2222222222222222,
              "#7201a8"
             ],
             [
              0.3333333333333333,
              "#9c179e"
             ],
             [
              0.4444444444444444,
              "#bd3786"
             ],
             [
              0.5555555555555556,
              "#d8576b"
             ],
             [
              0.6666666666666666,
              "#ed7953"
             ],
             [
              0.7777777777777778,
              "#fb9f3a"
             ],
             [
              0.8888888888888888,
              "#fdca26"
             ],
             [
              1,
              "#f0f921"
             ]
            ],
            "type": "histogram2dcontour"
           }
          ],
          "mesh3d": [
           {
            "colorbar": {
             "outlinewidth": 0,
             "ticks": ""
            },
            "type": "mesh3d"
           }
          ],
          "parcoords": [
           {
            "line": {
             "colorbar": {
              "outlinewidth": 0,
              "ticks": ""
             }
            },
            "type": "parcoords"
           }
          ],
          "pie": [
           {
            "automargin": true,
            "type": "pie"
           }
          ],
          "scatter": [
           {
            "marker": {
             "line": {
              "color": "#283442"
             }
            },
            "type": "scatter"
           }
          ],
          "scatter3d": [
           {
            "line": {
             "colorbar": {
              "outlinewidth": 0,
              "ticks": ""
             }
            },
            "marker": {
             "colorbar": {
              "outlinewidth": 0,
              "ticks": ""
             }
            },
            "type": "scatter3d"
           }
          ],
          "scattercarpet": [
           {
            "marker": {
             "colorbar": {
              "outlinewidth": 0,
              "ticks": ""
             }
            },
            "type": "scattercarpet"
           }
          ],
          "scattergeo": [
           {
            "marker": {
             "colorbar": {
              "outlinewidth": 0,
              "ticks": ""
             }
            },
            "type": "scattergeo"
           }
          ],
          "scattergl": [
           {
            "marker": {
             "line": {
              "color": "#283442"
             }
            },
            "type": "scattergl"
           }
          ],
          "scattermapbox": [
           {
            "marker": {
             "colorbar": {
              "outlinewidth": 0,
              "ticks": ""
             }
            },
            "type": "scattermapbox"
           }
          ],
          "scatterpolar": [
           {
            "marker": {
             "colorbar": {
              "outlinewidth": 0,
              "ticks": ""
             }
            },
            "type": "scatterpolar"
           }
          ],
          "scatterpolargl": [
           {
            "marker": {
             "colorbar": {
              "outlinewidth": 0,
              "ticks": ""
             }
            },
            "type": "scatterpolargl"
           }
          ],
          "scatterternary": [
           {
            "marker": {
             "colorbar": {
              "outlinewidth": 0,
              "ticks": ""
             }
            },
            "type": "scatterternary"
           }
          ],
          "surface": [
           {
            "colorbar": {
             "outlinewidth": 0,
             "ticks": ""
            },
            "colorscale": [
             [
              0,
              "#0d0887"
             ],
             [
              0.1111111111111111,
              "#46039f"
             ],
             [
              0.2222222222222222,
              "#7201a8"
             ],
             [
              0.3333333333333333,
              "#9c179e"
             ],
             [
              0.4444444444444444,
              "#bd3786"
             ],
             [
              0.5555555555555556,
              "#d8576b"
             ],
             [
              0.6666666666666666,
              "#ed7953"
             ],
             [
              0.7777777777777778,
              "#fb9f3a"
             ],
             [
              0.8888888888888888,
              "#fdca26"
             ],
             [
              1,
              "#f0f921"
             ]
            ],
            "type": "surface"
           }
          ],
          "table": [
           {
            "cells": {
             "fill": {
              "color": "#506784"
             },
             "line": {
              "color": "rgb(17,17,17)"
             }
            },
            "header": {
             "fill": {
              "color": "#2a3f5f"
             },
             "line": {
              "color": "rgb(17,17,17)"
             }
            },
            "type": "table"
           }
          ]
         },
         "layout": {
          "annotationdefaults": {
           "arrowcolor": "#f2f5fa",
           "arrowhead": 0,
           "arrowwidth": 1
          },
          "autotypenumbers": "strict",
          "coloraxis": {
           "colorbar": {
            "outlinewidth": 0,
            "ticks": ""
           }
          },
          "colorscale": {
           "diverging": [
            [
             0,
             "#8e0152"
            ],
            [
             0.1,
             "#c51b7d"
            ],
            [
             0.2,
             "#de77ae"
            ],
            [
             0.3,
             "#f1b6da"
            ],
            [
             0.4,
             "#fde0ef"
            ],
            [
             0.5,
             "#f7f7f7"
            ],
            [
             0.6,
             "#e6f5d0"
            ],
            [
             0.7,
             "#b8e186"
            ],
            [
             0.8,
             "#7fbc41"
            ],
            [
             0.9,
             "#4d9221"
            ],
            [
             1,
             "#276419"
            ]
           ],
           "sequential": [
            [
             0,
             "#0d0887"
            ],
            [
             0.1111111111111111,
             "#46039f"
            ],
            [
             0.2222222222222222,
             "#7201a8"
            ],
            [
             0.3333333333333333,
             "#9c179e"
            ],
            [
             0.4444444444444444,
             "#bd3786"
            ],
            [
             0.5555555555555556,
             "#d8576b"
            ],
            [
             0.6666666666666666,
             "#ed7953"
            ],
            [
             0.7777777777777778,
             "#fb9f3a"
            ],
            [
             0.8888888888888888,
             "#fdca26"
            ],
            [
             1,
             "#f0f921"
            ]
           ],
           "sequentialminus": [
            [
             0,
             "#0d0887"
            ],
            [
             0.1111111111111111,
             "#46039f"
            ],
            [
             0.2222222222222222,
             "#7201a8"
            ],
            [
             0.3333333333333333,
             "#9c179e"
            ],
            [
             0.4444444444444444,
             "#bd3786"
            ],
            [
             0.5555555555555556,
             "#d8576b"
            ],
            [
             0.6666666666666666,
             "#ed7953"
            ],
            [
             0.7777777777777778,
             "#fb9f3a"
            ],
            [
             0.8888888888888888,
             "#fdca26"
            ],
            [
             1,
             "#f0f921"
            ]
           ]
          },
          "colorway": [
           "#636efa",
           "#EF553B",
           "#00cc96",
           "#ab63fa",
           "#FFA15A",
           "#19d3f3",
           "#FF6692",
           "#B6E880",
           "#FF97FF",
           "#FECB52"
          ],
          "font": {
           "color": "#f2f5fa"
          },
          "geo": {
           "bgcolor": "rgb(17,17,17)",
           "lakecolor": "rgb(17,17,17)",
           "landcolor": "rgb(17,17,17)",
           "showlakes": true,
           "showland": true,
           "subunitcolor": "#506784"
          },
          "hoverlabel": {
           "align": "left"
          },
          "hovermode": "closest",
          "mapbox": {
           "style": "dark"
          },
          "paper_bgcolor": "rgb(17,17,17)",
          "plot_bgcolor": "rgb(17,17,17)",
          "polar": {
           "angularaxis": {
            "gridcolor": "#506784",
            "linecolor": "#506784",
            "ticks": ""
           },
           "bgcolor": "rgb(17,17,17)",
           "radialaxis": {
            "gridcolor": "#506784",
            "linecolor": "#506784",
            "ticks": ""
           }
          },
          "scene": {
           "xaxis": {
            "backgroundcolor": "rgb(17,17,17)",
            "gridcolor": "#506784",
            "gridwidth": 2,
            "linecolor": "#506784",
            "showbackground": true,
            "ticks": "",
            "zerolinecolor": "#C8D4E3"
           },
           "yaxis": {
            "backgroundcolor": "rgb(17,17,17)",
            "gridcolor": "#506784",
            "gridwidth": 2,
            "linecolor": "#506784",
            "showbackground": true,
            "ticks": "",
            "zerolinecolor": "#C8D4E3"
           },
           "zaxis": {
            "backgroundcolor": "rgb(17,17,17)",
            "gridcolor": "#506784",
            "gridwidth": 2,
            "linecolor": "#506784",
            "showbackground": true,
            "ticks": "",
            "zerolinecolor": "#C8D4E3"
           }
          },
          "shapedefaults": {
           "line": {
            "color": "#f2f5fa"
           }
          },
          "sliderdefaults": {
           "bgcolor": "#C8D4E3",
           "bordercolor": "rgb(17,17,17)",
           "borderwidth": 1,
           "tickwidth": 0
          },
          "ternary": {
           "aaxis": {
            "gridcolor": "#506784",
            "linecolor": "#506784",
            "ticks": ""
           },
           "baxis": {
            "gridcolor": "#506784",
            "linecolor": "#506784",
            "ticks": ""
           },
           "bgcolor": "rgb(17,17,17)",
           "caxis": {
            "gridcolor": "#506784",
            "linecolor": "#506784",
            "ticks": ""
           }
          },
          "title": {
           "x": 0.05
          },
          "updatemenudefaults": {
           "bgcolor": "#506784",
           "borderwidth": 0
          },
          "xaxis": {
           "automargin": true,
           "gridcolor": "#283442",
           "linecolor": "#506784",
           "ticks": "",
           "title": {
            "standoff": 15
           },
           "zerolinecolor": "#283442",
           "zerolinewidth": 2
          },
          "yaxis": {
           "automargin": true,
           "gridcolor": "#283442",
           "linecolor": "#506784",
           "ticks": "",
           "title": {
            "standoff": 15
           },
           "zerolinecolor": "#283442",
           "zerolinewidth": 2
          }
         }
        },
        "xaxis": {
         "anchor": "y",
         "domain": [
          0,
          1
         ],
         "title": {
          "text": "LISTAGEM"
         }
        },
        "yaxis": {
         "anchor": "x",
         "domain": [
          0,
          1
         ],
         "title": {
          "text": "y"
         }
        }
       }
      }
     },
     "metadata": {},
     "output_type": "display_data"
    }
   ],
   "source": [
    "fac = (df.value_counts(subset='LISTAGEM', normalize=True, sort=True, ascending=True).rename(\"cumulative\").cumsum()*100).round(2)\n",
    "\n",
    "fig = px.bar(data_frame=fac, x=fac.index, y=fac.values, color=fac.values, text=fac.values, template='plotly_dark')\n",
    "fig.update_traces(hovertemplate=None, texttemplate='%{text:.1f}%')\n",
    "fig.show()"
   ]
  }
 ],
 "metadata": {
  "kernelspec": {
   "display_name": "base",
   "language": "python",
   "name": "python3"
  },
  "language_info": {
   "codemirror_mode": {
    "name": "ipython",
    "version": 3
   },
   "file_extension": ".py",
   "mimetype": "text/x-python",
   "name": "python",
   "nbconvert_exporter": "python",
   "pygments_lexer": "ipython3",
   "version": "3.11.5"
  }
 },
 "nbformat": 4,
 "nbformat_minor": 2
}
