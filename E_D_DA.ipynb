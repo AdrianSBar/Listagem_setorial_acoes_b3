{
 "cells": [
  {
   "cell_type": "markdown",
   "metadata": {},
   "source": [
    "# PLANEJAMENTO\n",
    "- OBJETIVO:\n",
    "    - Efetuar uma breve análise exploratória/descritiva dos dados com a finalidade de responder as questões abaixo\n",
    "- QUESTIONÁRIO:\n",
    "    - Qual as descrições de cada variável?\n",
    "    - Qual a frequência absoluta/relativa/acumulada de cada variável?\n",
    "    - Quais as medidas centrais de cada variável?\n",
    "    - Quais as medidas de dispersão de cada variável?\n",
    "    - Como estão distribuídas cada variável?\n"
   ]
  },
  {
   "cell_type": "markdown",
   "metadata": {},
   "source": [
    "# IMPORTS E CONFIGURAÇÕES"
   ]
  },
  {
   "cell_type": "code",
   "execution_count": 1,
   "metadata": {},
   "outputs": [
    {
     "name": "stdout",
     "output_type": "stream",
     "text": [
      "Data do projeto: 05/03/2024\n"
     ]
    }
   ],
   "source": [
    "# Import de bibliotecas\n",
    "from zipfile import ZipFile  # Leitura de arquivos .zip\n",
    "import requests  # Requisição web\n",
    "from io import BytesIO  # Leitura de arquivo em bytes\n",
    "import numpy as np  # Manipulação de matrizes\n",
    "import pandas as pd  # Manipulação de dados\n",
    "from datetime import date  # Manipulação de datas\n",
    "import plotly.express as px  # Visualização gráfica\n",
    "from plotly.subplots import make_subplots  # Visualização gráfica conjunta\n",
    "import plotly.graph_objects as go  # Visualização gráfica avançada\n",
    "\n",
    "\n",
    "\n",
    "# Configurações das bibliotecas\n",
    "pd.options.display.max_columns = None  # Remoção de limitação de número máximo de colunas\n",
    "pd.options.display.max_rows = None  # Remoção de limitação de número máximo de linhas\n",
    "pd.options.display.max_colwidth = None  # Remoção de limitação do tamanho máximo das colunas\n",
    "pd.options.plotting.backend = 'plotly'  # Definição da biblioteca de plotagem gráfica padrão do pandas\n",
    "\n",
    "# Informações\n",
    "print('Data do projeto:', date.today().strftime(format=f'%d/%m/%Y'))  # Data do projeto"
   ]
  },
  {
   "cell_type": "markdown",
   "metadata": {},
   "source": [
    "# EXTRAÇÃO DOS DADOS"
   ]
  },
  {
   "cell_type": "code",
   "execution_count": 2,
   "metadata": {},
   "outputs": [],
   "source": [
    "# Acessando a pasta ZIP, diretamente do site da b3, contendo o arquivo excel com os dados\n",
    "url = 'https://www.b3.com.br/data/files/57/E6/AA/A1/68C7781064456178AC094EA8/ClassifSetorial.zip'\n",
    "response = requests.get(url=url)\n",
    "\n",
    "# Leitura do arquivo excel dentro da pasta ZIP\n",
    "with ZipFile(BytesIO(response.content)) as fold:\n",
    "    file = fold.namelist()[0]\n",
    "    with fold.open(file) as file:\n",
    "        df = pd.read_excel(io=file, skiprows=6)"
   ]
  },
  {
   "cell_type": "markdown",
   "metadata": {},
   "source": [
    "# TRANSFORMAÇÃO DOS DADOS"
   ]
  },
  {
   "cell_type": "code",
   "execution_count": 3,
   "metadata": {},
   "outputs": [],
   "source": [
    "# Renomeando as colunas necessárias\n",
    "df = df.rename(columns={'SETOR ECONÔMICO': 'SETOR', 'SEGMENTO': 'NOME', 'LISTAGEM': 'CÓDIGO', 'Unnamed: 4': 'LISTAGEM'})[1:-18]\n",
    "\n",
    "# Preenchendo valores nulos da coluna SEGMENTO com os valores da coluna NOME onde a coluna CÓDIGO FOR vazia\n",
    "df.loc[(df['CÓDIGO'].isnull()), 'SEGMENTO'] = df.loc[(df['CÓDIGO'].isnull()), 'NOME']\n",
    "\n",
    "# Removendo linhas com todos as variáveis nulas\n",
    "df = df.dropna(how='all')\n",
    "\n",
    "# Preenchendo valores nulos da coluna LISTAGEM com 'Sem classificação'\n",
    "df.LISTAGEM = df.LISTAGEM.fillna(value='AUSENTE')\n",
    "\n",
    "# Preenchendo valores nulos com base nas células anteriores\n",
    "df['SETOR'].ffill(inplace=True)\n",
    "df['SUBSETOR'].ffill(inplace=True)\n",
    "df['SEGMENTO'].ffill(inplace=True)\n",
    "\n",
    "# Removendo valores inconsistentes\n",
    "df = df.loc[(df.CÓDIGO!='CÓDIGO') & (df.CÓDIGO!='LISTAGEM') & (~df.CÓDIGO.isnull())]\n",
    "\n",
    "# Formatando todos os dados\n",
    "df = df.apply(lambda x: x.str.strip() if x.dtype == 'object' else x)\n",
    "\n",
    "# Alterando tipo das variáveis se necessário\n",
    "df = df.apply(lambda x: x.astype('category') if (x.dtype == 'O') and (x.name not in ['CÓDIGO', 'NOME']) else x)\n",
    "\n",
    "# Reordenando colunas\n",
    "df = df[['CÓDIGO', 'NOME', 'SETOR', 'SUBSETOR', 'SEGMENTO', 'LISTAGEM']]\n",
    "\n",
    "# Reiniciando index\n",
    "df = df.reset_index(drop=True)\n",
    "\n",
    "# Criando arquivo parquet para acessos posteriores\n",
    "df.to_parquet(path='./tickers_por_setor.parquet')"
   ]
  },
  {
   "cell_type": "markdown",
   "metadata": {},
   "source": [
    "# ANÁLISE EXPLORATÓRIA/DESCRITIVA"
   ]
  },
  {
   "cell_type": "markdown",
   "metadata": {},
   "source": [
    "## DESCRIÇÃO GERAL"
   ]
  },
  {
   "cell_type": "code",
   "execution_count": 4,
   "metadata": {},
   "outputs": [
    {
     "name": "stdout",
     "output_type": "stream",
     "text": [
      "<class 'pandas.core.frame.DataFrame'>\n",
      "RangeIndex: 432 entries, 0 to 431\n",
      "Data columns (total 6 columns):\n",
      " #   Column    Non-Null Count  Dtype   \n",
      "---  ------    --------------  -----   \n",
      " 0   CÓDIGO    432 non-null    object  \n",
      " 1   NOME      432 non-null    object  \n",
      " 2   SETOR     432 non-null    category\n",
      " 3   SUBSETOR  432 non-null    category\n",
      " 4   SEGMENTO  432 non-null    category\n",
      " 5   LISTAGEM  432 non-null    category\n",
      "dtypes: category(4), object(2)\n",
      "memory usage: 13.4+ KB\n"
     ]
    }
   ],
   "source": [
    "# Obtendo informações gerais dos dados\n",
    "df.info()"
   ]
  },
  {
   "cell_type": "code",
   "execution_count": 5,
   "metadata": {},
   "outputs": [
    {
     "data": {
      "text/plain": [
       "Index        132\n",
       "CÓDIGO      3456\n",
       "NOME        3456\n",
       "SETOR        820\n",
       "SUBSETOR    1856\n",
       "SEGMENTO    3200\n",
       "LISTAGEM     804\n",
       "dtype: int64"
      ]
     },
     "execution_count": 5,
     "metadata": {},
     "output_type": "execute_result"
    }
   ],
   "source": [
    "# Obtendo informações de performance dos dados\n",
    "df.memory_usage()\n",
    "\n"
   ]
  },
  {
   "cell_type": "code",
   "execution_count": 6,
   "metadata": {},
   "outputs": [
    {
     "data": {
      "text/html": [
       "<div>\n",
       "<style scoped>\n",
       "    .dataframe tbody tr th:only-of-type {\n",
       "        vertical-align: middle;\n",
       "    }\n",
       "\n",
       "    .dataframe tbody tr th {\n",
       "        vertical-align: top;\n",
       "    }\n",
       "\n",
       "    .dataframe thead th {\n",
       "        text-align: right;\n",
       "    }\n",
       "</style>\n",
       "<table border=\"1\" class=\"dataframe\">\n",
       "  <thead>\n",
       "    <tr style=\"text-align: right;\">\n",
       "      <th></th>\n",
       "      <th>CÓDIGO</th>\n",
       "      <th>NOME</th>\n",
       "      <th>SETOR</th>\n",
       "      <th>SUBSETOR</th>\n",
       "      <th>SEGMENTO</th>\n",
       "      <th>LISTAGEM</th>\n",
       "    </tr>\n",
       "  </thead>\n",
       "  <tbody>\n",
       "    <tr>\n",
       "      <th>0</th>\n",
       "      <td>RRRP</td>\n",
       "      <td>3R PETROLEUM</td>\n",
       "      <td>Petróleo, Gás e Biocombustíveis</td>\n",
       "      <td>Petróleo, Gás e Biocombustíveis</td>\n",
       "      <td>Exploração, Refino e Distribuição</td>\n",
       "      <td>NM</td>\n",
       "    </tr>\n",
       "    <tr>\n",
       "      <th>1</th>\n",
       "      <td>CSAN</td>\n",
       "      <td>COSAN</td>\n",
       "      <td>Petróleo, Gás e Biocombustíveis</td>\n",
       "      <td>Petróleo, Gás e Biocombustíveis</td>\n",
       "      <td>Exploração, Refino e Distribuição</td>\n",
       "      <td>NM</td>\n",
       "    </tr>\n",
       "    <tr>\n",
       "      <th>2</th>\n",
       "      <td>ENAT</td>\n",
       "      <td>ENAUTA PART</td>\n",
       "      <td>Petróleo, Gás e Biocombustíveis</td>\n",
       "      <td>Petróleo, Gás e Biocombustíveis</td>\n",
       "      <td>Exploração, Refino e Distribuição</td>\n",
       "      <td>NM</td>\n",
       "    </tr>\n",
       "    <tr>\n",
       "      <th>3</th>\n",
       "      <td>RPMG</td>\n",
       "      <td>PET MANGUINH</td>\n",
       "      <td>Petróleo, Gás e Biocombustíveis</td>\n",
       "      <td>Petróleo, Gás e Biocombustíveis</td>\n",
       "      <td>Exploração, Refino e Distribuição</td>\n",
       "      <td>AUSENTE</td>\n",
       "    </tr>\n",
       "    <tr>\n",
       "      <th>4</th>\n",
       "      <td>PETR</td>\n",
       "      <td>PETROBRAS</td>\n",
       "      <td>Petróleo, Gás e Biocombustíveis</td>\n",
       "      <td>Petróleo, Gás e Biocombustíveis</td>\n",
       "      <td>Exploração, Refino e Distribuição</td>\n",
       "      <td>N2</td>\n",
       "    </tr>\n",
       "  </tbody>\n",
       "</table>\n",
       "</div>"
      ],
      "text/plain": [
       "  CÓDIGO          NOME                            SETOR  \\\n",
       "0   RRRP  3R PETROLEUM  Petróleo, Gás e Biocombustíveis   \n",
       "1   CSAN         COSAN  Petróleo, Gás e Biocombustíveis   \n",
       "2   ENAT   ENAUTA PART  Petróleo, Gás e Biocombustíveis   \n",
       "3   RPMG  PET MANGUINH  Petróleo, Gás e Biocombustíveis   \n",
       "4   PETR     PETROBRAS  Petróleo, Gás e Biocombustíveis   \n",
       "\n",
       "                          SUBSETOR                           SEGMENTO LISTAGEM  \n",
       "0  Petróleo, Gás e Biocombustíveis  Exploração, Refino e Distribuição       NM  \n",
       "1  Petróleo, Gás e Biocombustíveis  Exploração, Refino e Distribuição       NM  \n",
       "2  Petróleo, Gás e Biocombustíveis  Exploração, Refino e Distribuição       NM  \n",
       "3  Petróleo, Gás e Biocombustíveis  Exploração, Refino e Distribuição  AUSENTE  \n",
       "4  Petróleo, Gás e Biocombustíveis  Exploração, Refino e Distribuição       N2  "
      ]
     },
     "execution_count": 6,
     "metadata": {},
     "output_type": "execute_result"
    }
   ],
   "source": [
    "# Pré visualização dos dados\n",
    "df.head()"
   ]
  },
  {
   "cell_type": "code",
   "execution_count": 4,
   "metadata": {},
   "outputs": [
    {
     "data": {
      "text/html": [
       "<div>\n",
       "<style scoped>\n",
       "    .dataframe tbody tr th:only-of-type {\n",
       "        vertical-align: middle;\n",
       "    }\n",
       "\n",
       "    .dataframe tbody tr th {\n",
       "        vertical-align: top;\n",
       "    }\n",
       "\n",
       "    .dataframe thead th {\n",
       "        text-align: right;\n",
       "    }\n",
       "</style>\n",
       "<table border=\"1\" class=\"dataframe\">\n",
       "  <thead>\n",
       "    <tr style=\"text-align: right;\">\n",
       "      <th></th>\n",
       "      <th>CÓDIGO</th>\n",
       "      <th>NOME</th>\n",
       "      <th>SETOR</th>\n",
       "      <th>SUBSETOR</th>\n",
       "      <th>SEGMENTO</th>\n",
       "      <th>LISTAGEM</th>\n",
       "    </tr>\n",
       "  </thead>\n",
       "  <tbody>\n",
       "    <tr>\n",
       "      <th>count</th>\n",
       "      <td>432</td>\n",
       "      <td>432</td>\n",
       "      <td>432</td>\n",
       "      <td>432</td>\n",
       "      <td>432</td>\n",
       "      <td>432</td>\n",
       "    </tr>\n",
       "    <tr>\n",
       "      <th>unique</th>\n",
       "      <td>432</td>\n",
       "      <td>432</td>\n",
       "      <td>11</td>\n",
       "      <td>44</td>\n",
       "      <td>83</td>\n",
       "      <td>9</td>\n",
       "    </tr>\n",
       "    <tr>\n",
       "      <th>top</th>\n",
       "      <td>RRRP</td>\n",
       "      <td>3R PETROLEUM</td>\n",
       "      <td>Consumo Cíclico</td>\n",
       "      <td>Energia Elétrica</td>\n",
       "      <td>Energia Elétrica</td>\n",
       "      <td>NM</td>\n",
       "    </tr>\n",
       "    <tr>\n",
       "      <th>freq</th>\n",
       "      <td>1</td>\n",
       "      <td>1</td>\n",
       "      <td>91</td>\n",
       "      <td>54</td>\n",
       "      <td>54</td>\n",
       "      <td>194</td>\n",
       "    </tr>\n",
       "  </tbody>\n",
       "</table>\n",
       "</div>"
      ],
      "text/plain": [
       "       CÓDIGO          NOME            SETOR          SUBSETOR  \\\n",
       "count     432           432              432               432   \n",
       "unique    432           432               11                44   \n",
       "top      RRRP  3R PETROLEUM  Consumo Cíclico  Energia Elétrica   \n",
       "freq        1             1               91                54   \n",
       "\n",
       "                SEGMENTO LISTAGEM  \n",
       "count                432      432  \n",
       "unique                83        9  \n",
       "top     Energia Elétrica       NM  \n",
       "freq                  54      194  "
      ]
     },
     "execution_count": 4,
     "metadata": {},
     "output_type": "execute_result"
    }
   ],
   "source": [
    "df.describe()"
   ]
  },
  {
   "cell_type": "markdown",
   "metadata": {},
   "source": [
    "### Considerações \n",
    "\n",
    "Em termos gerais pode-se dizer que a tabela de dados é composta por 432 registros e 6 variáveis, cujo as variáveis \"CÓDIGO\" e \"NOME\" são apenas identificadores e as demais variáveis (\"SETOR\", \"SUBSETOR\", \"SEGMENTO\" e \"LISTAGEM\") tratam-se de categorias nominais e podem ser analisadas. As variáveis \"SETOR\", \"SUBSETOR\" e \"SEGMENTO\", nesta sequência, são níveis e subníveis exclusivos de uma mesma classificação direcionada as atividades econômicas. Já a variável \"LISTAGEM\" é independente destas ultimas e referencia a classificação do papel.\n",
    "\n",
    "Para evitar redundância neste projeto, será desconsiderada a variável \"SUBSETOR\", uma vez que trabalharemos com a variável \"SETOR\" que possui menor grau de granularidade e \"SEGMENTO\" que possui maior grau de granularidade."
   ]
  },
  {
   "cell_type": "markdown",
   "metadata": {},
   "source": [
    "## DESCRIÇÃO DA VARIÁVEL \"SETOR\""
   ]
  },
  {
   "cell_type": "code",
   "execution_count": 14,
   "metadata": {},
   "outputs": [
    {
     "data": {
      "text/html": [
       "<div>\n",
       "<style scoped>\n",
       "    .dataframe tbody tr th:only-of-type {\n",
       "        vertical-align: middle;\n",
       "    }\n",
       "\n",
       "    .dataframe tbody tr th {\n",
       "        vertical-align: top;\n",
       "    }\n",
       "\n",
       "    .dataframe thead th {\n",
       "        text-align: right;\n",
       "    }\n",
       "</style>\n",
       "<table border=\"1\" class=\"dataframe\">\n",
       "  <thead>\n",
       "    <tr style=\"text-align: right;\">\n",
       "      <th></th>\n",
       "      <th>SETOR</th>\n",
       "      <th>QTD</th>\n",
       "    </tr>\n",
       "  </thead>\n",
       "  <tbody>\n",
       "    <tr>\n",
       "      <th>0</th>\n",
       "      <td>Consumo Cíclico</td>\n",
       "      <td>91</td>\n",
       "    </tr>\n",
       "    <tr>\n",
       "      <th>1</th>\n",
       "      <td>Bens Industriais</td>\n",
       "      <td>70</td>\n",
       "    </tr>\n",
       "    <tr>\n",
       "      <th>2</th>\n",
       "      <td>Financeiro</td>\n",
       "      <td>69</td>\n",
       "    </tr>\n",
       "    <tr>\n",
       "      <th>3</th>\n",
       "      <td>Utilidade Pública</td>\n",
       "      <td>65</td>\n",
       "    </tr>\n",
       "    <tr>\n",
       "      <th>4</th>\n",
       "      <td>Consumo não Cíclico</td>\n",
       "      <td>32</td>\n",
       "    </tr>\n",
       "  </tbody>\n",
       "</table>\n",
       "</div>"
      ],
      "text/plain": [
       "                 SETOR  QTD\n",
       "0      Consumo Cíclico   91\n",
       "1     Bens Industriais   70\n",
       "2           Financeiro   69\n",
       "3    Utilidade Pública   65\n",
       "4  Consumo não Cíclico   32"
      ]
     },
     "execution_count": 14,
     "metadata": {},
     "output_type": "execute_result"
    }
   ],
   "source": [
    "# Criação de tabela de frequência absoluta da variável 'setor'\n",
    "f = df.value_counts(subset=['SETOR'], sort=True, ascending=False).rename(\"QTD\").reset_index()\n",
    "f.head()"
   ]
  },
  {
   "cell_type": "markdown",
   "metadata": {},
   "source": [
    "### Frequência"
   ]
  },
  {
   "cell_type": "code",
   "execution_count": 15,
   "metadata": {},
   "outputs": [
    {
     "name": "stderr",
     "output_type": "stream",
     "text": [
      "c:\\Users\\adria\\anaconda3\\Lib\\site-packages\\plotly\\express\\_core.py:1958: FutureWarning:\n",
      "\n",
      "The default of observed=False is deprecated and will be changed to True in a future version of pandas. Pass observed=False to retain current behavior or observed=True to adopt the future default and silence this warning.\n",
      "\n"
     ]
    },
    {
     "data": {
      "application/vnd.plotly.v1+json": {
       "config": {
        "plotlyServerURL": "https://plot.ly"
       },
       "data": [
        {
         "alignmentgroup": "True",
         "legendgroup": "Consumo Cíclico",
         "marker": {
          "color": "#636efa",
          "pattern": {
           "shape": ""
          }
         },
         "name": "Consumo Cíclico",
         "offsetgroup": "Consumo Cíclico",
         "orientation": "h",
         "showlegend": true,
         "textposition": "auto",
         "texttemplate": "%{x}",
         "type": "bar",
         "x": [
          91
         ],
         "xaxis": "x",
         "y": [
          "Consumo Cíclico"
         ],
         "yaxis": "y"
        },
        {
         "alignmentgroup": "True",
         "legendgroup": "Bens Industriais",
         "marker": {
          "color": "#EF553B",
          "pattern": {
           "shape": ""
          }
         },
         "name": "Bens Industriais",
         "offsetgroup": "Bens Industriais",
         "orientation": "h",
         "showlegend": true,
         "textposition": "auto",
         "texttemplate": "%{x}",
         "type": "bar",
         "x": [
          70
         ],
         "xaxis": "x",
         "y": [
          "Bens Industriais"
         ],
         "yaxis": "y"
        },
        {
         "alignmentgroup": "True",
         "legendgroup": "Financeiro",
         "marker": {
          "color": "#00cc96",
          "pattern": {
           "shape": ""
          }
         },
         "name": "Financeiro",
         "offsetgroup": "Financeiro",
         "orientation": "h",
         "showlegend": true,
         "textposition": "auto",
         "texttemplate": "%{x}",
         "type": "bar",
         "x": [
          69
         ],
         "xaxis": "x",
         "y": [
          "Financeiro"
         ],
         "yaxis": "y"
        },
        {
         "alignmentgroup": "True",
         "legendgroup": "Utilidade Pública",
         "marker": {
          "color": "#ab63fa",
          "pattern": {
           "shape": ""
          }
         },
         "name": "Utilidade Pública",
         "offsetgroup": "Utilidade Pública",
         "orientation": "h",
         "showlegend": true,
         "textposition": "auto",
         "texttemplate": "%{x}",
         "type": "bar",
         "x": [
          65
         ],
         "xaxis": "x",
         "y": [
          "Utilidade Pública"
         ],
         "yaxis": "y"
        },
        {
         "alignmentgroup": "True",
         "legendgroup": "Consumo não Cíclico",
         "marker": {
          "color": "#FFA15A",
          "pattern": {
           "shape": ""
          }
         },
         "name": "Consumo não Cíclico",
         "offsetgroup": "Consumo não Cíclico",
         "orientation": "h",
         "showlegend": true,
         "textposition": "auto",
         "texttemplate": "%{x}",
         "type": "bar",
         "x": [
          32
         ],
         "xaxis": "x",
         "y": [
          "Consumo não Cíclico"
         ],
         "yaxis": "y"
        },
        {
         "alignmentgroup": "True",
         "legendgroup": "Materiais Básicos",
         "marker": {
          "color": "#19d3f3",
          "pattern": {
           "shape": ""
          }
         },
         "name": "Materiais Básicos",
         "offsetgroup": "Materiais Básicos",
         "orientation": "h",
         "showlegend": true,
         "textposition": "auto",
         "texttemplate": "%{x}",
         "type": "bar",
         "x": [
          31
         ],
         "xaxis": "x",
         "y": [
          "Materiais Básicos"
         ],
         "yaxis": "y"
        },
        {
         "alignmentgroup": "True",
         "legendgroup": "Saúde",
         "marker": {
          "color": "#FF6692",
          "pattern": {
           "shape": ""
          }
         },
         "name": "Saúde",
         "offsetgroup": "Saúde",
         "orientation": "h",
         "showlegend": true,
         "textposition": "auto",
         "texttemplate": "%{x}",
         "type": "bar",
         "x": [
          23
         ],
         "xaxis": "x",
         "y": [
          "Saúde"
         ],
         "yaxis": "y"
        },
        {
         "alignmentgroup": "True",
         "legendgroup": "Tecnologia da Informação",
         "marker": {
          "color": "#B6E880",
          "pattern": {
           "shape": ""
          }
         },
         "name": "Tecnologia da Informação",
         "offsetgroup": "Tecnologia da Informação",
         "orientation": "h",
         "showlegend": true,
         "textposition": "auto",
         "texttemplate": "%{x}",
         "type": "bar",
         "x": [
          16
         ],
         "xaxis": "x",
         "y": [
          "Tecnologia da Informação"
         ],
         "yaxis": "y"
        },
        {
         "alignmentgroup": "True",
         "legendgroup": "Outros",
         "marker": {
          "color": "#FF97FF",
          "pattern": {
           "shape": ""
          }
         },
         "name": "Outros",
         "offsetgroup": "Outros",
         "orientation": "h",
         "showlegend": true,
         "textposition": "auto",
         "texttemplate": "%{x}",
         "type": "bar",
         "x": [
          13
         ],
         "xaxis": "x",
         "y": [
          "Outros"
         ],
         "yaxis": "y"
        },
        {
         "alignmentgroup": "True",
         "legendgroup": "Petróleo, Gás e Biocombustíveis",
         "marker": {
          "color": "#FECB52",
          "pattern": {
           "shape": ""
          }
         },
         "name": "Petróleo, Gás e Biocombustíveis",
         "offsetgroup": "Petróleo, Gás e Biocombustíveis",
         "orientation": "h",
         "showlegend": true,
         "textposition": "auto",
         "texttemplate": "%{x}",
         "type": "bar",
         "x": [
          13
         ],
         "xaxis": "x",
         "y": [
          "Petróleo, Gás e Biocombustíveis"
         ],
         "yaxis": "y"
        },
        {
         "alignmentgroup": "True",
         "legendgroup": "Comunicações",
         "marker": {
          "color": "#636efa",
          "pattern": {
           "shape": ""
          }
         },
         "name": "Comunicações",
         "offsetgroup": "Comunicações",
         "orientation": "h",
         "showlegend": true,
         "textposition": "auto",
         "texttemplate": "%{x}",
         "type": "bar",
         "x": [
          9
         ],
         "xaxis": "x",
         "y": [
          "Comunicações"
         ],
         "yaxis": "y"
        }
       ],
       "layout": {
        "barmode": "relative",
        "hovermode": "y",
        "legend": {
         "title": {
          "text": "SETOR"
         },
         "tracegroupgap": 0
        },
        "showlegend": false,
        "template": {
         "data": {
          "bar": [
           {
            "error_x": {
             "color": "#f2f5fa"
            },
            "error_y": {
             "color": "#f2f5fa"
            },
            "marker": {
             "line": {
              "color": "rgb(17,17,17)",
              "width": 0.5
             },
             "pattern": {
              "fillmode": "overlay",
              "size": 10,
              "solidity": 0.2
             }
            },
            "type": "bar"
           }
          ],
          "barpolar": [
           {
            "marker": {
             "line": {
              "color": "rgb(17,17,17)",
              "width": 0.5
             },
             "pattern": {
              "fillmode": "overlay",
              "size": 10,
              "solidity": 0.2
             }
            },
            "type": "barpolar"
           }
          ],
          "carpet": [
           {
            "aaxis": {
             "endlinecolor": "#A2B1C6",
             "gridcolor": "#506784",
             "linecolor": "#506784",
             "minorgridcolor": "#506784",
             "startlinecolor": "#A2B1C6"
            },
            "baxis": {
             "endlinecolor": "#A2B1C6",
             "gridcolor": "#506784",
             "linecolor": "#506784",
             "minorgridcolor": "#506784",
             "startlinecolor": "#A2B1C6"
            },
            "type": "carpet"
           }
          ],
          "choropleth": [
           {
            "colorbar": {
             "outlinewidth": 0,
             "ticks": ""
            },
            "type": "choropleth"
           }
          ],
          "contour": [
           {
            "colorbar": {
             "outlinewidth": 0,
             "ticks": ""
            },
            "colorscale": [
             [
              0,
              "#0d0887"
             ],
             [
              0.1111111111111111,
              "#46039f"
             ],
             [
              0.2222222222222222,
              "#7201a8"
             ],
             [
              0.3333333333333333,
              "#9c179e"
             ],
             [
              0.4444444444444444,
              "#bd3786"
             ],
             [
              0.5555555555555556,
              "#d8576b"
             ],
             [
              0.6666666666666666,
              "#ed7953"
             ],
             [
              0.7777777777777778,
              "#fb9f3a"
             ],
             [
              0.8888888888888888,
              "#fdca26"
             ],
             [
              1,
              "#f0f921"
             ]
            ],
            "type": "contour"
           }
          ],
          "contourcarpet": [
           {
            "colorbar": {
             "outlinewidth": 0,
             "ticks": ""
            },
            "type": "contourcarpet"
           }
          ],
          "heatmap": [
           {
            "colorbar": {
             "outlinewidth": 0,
             "ticks": ""
            },
            "colorscale": [
             [
              0,
              "#0d0887"
             ],
             [
              0.1111111111111111,
              "#46039f"
             ],
             [
              0.2222222222222222,
              "#7201a8"
             ],
             [
              0.3333333333333333,
              "#9c179e"
             ],
             [
              0.4444444444444444,
              "#bd3786"
             ],
             [
              0.5555555555555556,
              "#d8576b"
             ],
             [
              0.6666666666666666,
              "#ed7953"
             ],
             [
              0.7777777777777778,
              "#fb9f3a"
             ],
             [
              0.8888888888888888,
              "#fdca26"
             ],
             [
              1,
              "#f0f921"
             ]
            ],
            "type": "heatmap"
           }
          ],
          "heatmapgl": [
           {
            "colorbar": {
             "outlinewidth": 0,
             "ticks": ""
            },
            "colorscale": [
             [
              0,
              "#0d0887"
             ],
             [
              0.1111111111111111,
              "#46039f"
             ],
             [
              0.2222222222222222,
              "#7201a8"
             ],
             [
              0.3333333333333333,
              "#9c179e"
             ],
             [
              0.4444444444444444,
              "#bd3786"
             ],
             [
              0.5555555555555556,
              "#d8576b"
             ],
             [
              0.6666666666666666,
              "#ed7953"
             ],
             [
              0.7777777777777778,
              "#fb9f3a"
             ],
             [
              0.8888888888888888,
              "#fdca26"
             ],
             [
              1,
              "#f0f921"
             ]
            ],
            "type": "heatmapgl"
           }
          ],
          "histogram": [
           {
            "marker": {
             "pattern": {
              "fillmode": "overlay",
              "size": 10,
              "solidity": 0.2
             }
            },
            "type": "histogram"
           }
          ],
          "histogram2d": [
           {
            "colorbar": {
             "outlinewidth": 0,
             "ticks": ""
            },
            "colorscale": [
             [
              0,
              "#0d0887"
             ],
             [
              0.1111111111111111,
              "#46039f"
             ],
             [
              0.2222222222222222,
              "#7201a8"
             ],
             [
              0.3333333333333333,
              "#9c179e"
             ],
             [
              0.4444444444444444,
              "#bd3786"
             ],
             [
              0.5555555555555556,
              "#d8576b"
             ],
             [
              0.6666666666666666,
              "#ed7953"
             ],
             [
              0.7777777777777778,
              "#fb9f3a"
             ],
             [
              0.8888888888888888,
              "#fdca26"
             ],
             [
              1,
              "#f0f921"
             ]
            ],
            "type": "histogram2d"
           }
          ],
          "histogram2dcontour": [
           {
            "colorbar": {
             "outlinewidth": 0,
             "ticks": ""
            },
            "colorscale": [
             [
              0,
              "#0d0887"
             ],
             [
              0.1111111111111111,
              "#46039f"
             ],
             [
              0.2222222222222222,
              "#7201a8"
             ],
             [
              0.3333333333333333,
              "#9c179e"
             ],
             [
              0.4444444444444444,
              "#bd3786"
             ],
             [
              0.5555555555555556,
              "#d8576b"
             ],
             [
              0.6666666666666666,
              "#ed7953"
             ],
             [
              0.7777777777777778,
              "#fb9f3a"
             ],
             [
              0.8888888888888888,
              "#fdca26"
             ],
             [
              1,
              "#f0f921"
             ]
            ],
            "type": "histogram2dcontour"
           }
          ],
          "mesh3d": [
           {
            "colorbar": {
             "outlinewidth": 0,
             "ticks": ""
            },
            "type": "mesh3d"
           }
          ],
          "parcoords": [
           {
            "line": {
             "colorbar": {
              "outlinewidth": 0,
              "ticks": ""
             }
            },
            "type": "parcoords"
           }
          ],
          "pie": [
           {
            "automargin": true,
            "type": "pie"
           }
          ],
          "scatter": [
           {
            "marker": {
             "line": {
              "color": "#283442"
             }
            },
            "type": "scatter"
           }
          ],
          "scatter3d": [
           {
            "line": {
             "colorbar": {
              "outlinewidth": 0,
              "ticks": ""
             }
            },
            "marker": {
             "colorbar": {
              "outlinewidth": 0,
              "ticks": ""
             }
            },
            "type": "scatter3d"
           }
          ],
          "scattercarpet": [
           {
            "marker": {
             "colorbar": {
              "outlinewidth": 0,
              "ticks": ""
             }
            },
            "type": "scattercarpet"
           }
          ],
          "scattergeo": [
           {
            "marker": {
             "colorbar": {
              "outlinewidth": 0,
              "ticks": ""
             }
            },
            "type": "scattergeo"
           }
          ],
          "scattergl": [
           {
            "marker": {
             "line": {
              "color": "#283442"
             }
            },
            "type": "scattergl"
           }
          ],
          "scattermapbox": [
           {
            "marker": {
             "colorbar": {
              "outlinewidth": 0,
              "ticks": ""
             }
            },
            "type": "scattermapbox"
           }
          ],
          "scatterpolar": [
           {
            "marker": {
             "colorbar": {
              "outlinewidth": 0,
              "ticks": ""
             }
            },
            "type": "scatterpolar"
           }
          ],
          "scatterpolargl": [
           {
            "marker": {
             "colorbar": {
              "outlinewidth": 0,
              "ticks": ""
             }
            },
            "type": "scatterpolargl"
           }
          ],
          "scatterternary": [
           {
            "marker": {
             "colorbar": {
              "outlinewidth": 0,
              "ticks": ""
             }
            },
            "type": "scatterternary"
           }
          ],
          "surface": [
           {
            "colorbar": {
             "outlinewidth": 0,
             "ticks": ""
            },
            "colorscale": [
             [
              0,
              "#0d0887"
             ],
             [
              0.1111111111111111,
              "#46039f"
             ],
             [
              0.2222222222222222,
              "#7201a8"
             ],
             [
              0.3333333333333333,
              "#9c179e"
             ],
             [
              0.4444444444444444,
              "#bd3786"
             ],
             [
              0.5555555555555556,
              "#d8576b"
             ],
             [
              0.6666666666666666,
              "#ed7953"
             ],
             [
              0.7777777777777778,
              "#fb9f3a"
             ],
             [
              0.8888888888888888,
              "#fdca26"
             ],
             [
              1,
              "#f0f921"
             ]
            ],
            "type": "surface"
           }
          ],
          "table": [
           {
            "cells": {
             "fill": {
              "color": "#506784"
             },
             "line": {
              "color": "rgb(17,17,17)"
             }
            },
            "header": {
             "fill": {
              "color": "#2a3f5f"
             },
             "line": {
              "color": "rgb(17,17,17)"
             }
            },
            "type": "table"
           }
          ]
         },
         "layout": {
          "annotationdefaults": {
           "arrowcolor": "#f2f5fa",
           "arrowhead": 0,
           "arrowwidth": 1
          },
          "autotypenumbers": "strict",
          "coloraxis": {
           "colorbar": {
            "outlinewidth": 0,
            "ticks": ""
           }
          },
          "colorscale": {
           "diverging": [
            [
             0,
             "#8e0152"
            ],
            [
             0.1,
             "#c51b7d"
            ],
            [
             0.2,
             "#de77ae"
            ],
            [
             0.3,
             "#f1b6da"
            ],
            [
             0.4,
             "#fde0ef"
            ],
            [
             0.5,
             "#f7f7f7"
            ],
            [
             0.6,
             "#e6f5d0"
            ],
            [
             0.7,
             "#b8e186"
            ],
            [
             0.8,
             "#7fbc41"
            ],
            [
             0.9,
             "#4d9221"
            ],
            [
             1,
             "#276419"
            ]
           ],
           "sequential": [
            [
             0,
             "#0d0887"
            ],
            [
             0.1111111111111111,
             "#46039f"
            ],
            [
             0.2222222222222222,
             "#7201a8"
            ],
            [
             0.3333333333333333,
             "#9c179e"
            ],
            [
             0.4444444444444444,
             "#bd3786"
            ],
            [
             0.5555555555555556,
             "#d8576b"
            ],
            [
             0.6666666666666666,
             "#ed7953"
            ],
            [
             0.7777777777777778,
             "#fb9f3a"
            ],
            [
             0.8888888888888888,
             "#fdca26"
            ],
            [
             1,
             "#f0f921"
            ]
           ],
           "sequentialminus": [
            [
             0,
             "#0d0887"
            ],
            [
             0.1111111111111111,
             "#46039f"
            ],
            [
             0.2222222222222222,
             "#7201a8"
            ],
            [
             0.3333333333333333,
             "#9c179e"
            ],
            [
             0.4444444444444444,
             "#bd3786"
            ],
            [
             0.5555555555555556,
             "#d8576b"
            ],
            [
             0.6666666666666666,
             "#ed7953"
            ],
            [
             0.7777777777777778,
             "#fb9f3a"
            ],
            [
             0.8888888888888888,
             "#fdca26"
            ],
            [
             1,
             "#f0f921"
            ]
           ]
          },
          "colorway": [
           "#636efa",
           "#EF553B",
           "#00cc96",
           "#ab63fa",
           "#FFA15A",
           "#19d3f3",
           "#FF6692",
           "#B6E880",
           "#FF97FF",
           "#FECB52"
          ],
          "font": {
           "color": "#f2f5fa"
          },
          "geo": {
           "bgcolor": "rgb(17,17,17)",
           "lakecolor": "rgb(17,17,17)",
           "landcolor": "rgb(17,17,17)",
           "showlakes": true,
           "showland": true,
           "subunitcolor": "#506784"
          },
          "hoverlabel": {
           "align": "left"
          },
          "hovermode": "closest",
          "mapbox": {
           "style": "dark"
          },
          "paper_bgcolor": "rgb(17,17,17)",
          "plot_bgcolor": "rgb(17,17,17)",
          "polar": {
           "angularaxis": {
            "gridcolor": "#506784",
            "linecolor": "#506784",
            "ticks": ""
           },
           "bgcolor": "rgb(17,17,17)",
           "radialaxis": {
            "gridcolor": "#506784",
            "linecolor": "#506784",
            "ticks": ""
           }
          },
          "scene": {
           "xaxis": {
            "backgroundcolor": "rgb(17,17,17)",
            "gridcolor": "#506784",
            "gridwidth": 2,
            "linecolor": "#506784",
            "showbackground": true,
            "ticks": "",
            "zerolinecolor": "#C8D4E3"
           },
           "yaxis": {
            "backgroundcolor": "rgb(17,17,17)",
            "gridcolor": "#506784",
            "gridwidth": 2,
            "linecolor": "#506784",
            "showbackground": true,
            "ticks": "",
            "zerolinecolor": "#C8D4E3"
           },
           "zaxis": {
            "backgroundcolor": "rgb(17,17,17)",
            "gridcolor": "#506784",
            "gridwidth": 2,
            "linecolor": "#506784",
            "showbackground": true,
            "ticks": "",
            "zerolinecolor": "#C8D4E3"
           }
          },
          "shapedefaults": {
           "line": {
            "color": "#f2f5fa"
           }
          },
          "sliderdefaults": {
           "bgcolor": "#C8D4E3",
           "bordercolor": "rgb(17,17,17)",
           "borderwidth": 1,
           "tickwidth": 0
          },
          "ternary": {
           "aaxis": {
            "gridcolor": "#506784",
            "linecolor": "#506784",
            "ticks": ""
           },
           "baxis": {
            "gridcolor": "#506784",
            "linecolor": "#506784",
            "ticks": ""
           },
           "bgcolor": "rgb(17,17,17)",
           "caxis": {
            "gridcolor": "#506784",
            "linecolor": "#506784",
            "ticks": ""
           }
          },
          "title": {
           "x": 0.05
          },
          "updatemenudefaults": {
           "bgcolor": "#506784",
           "borderwidth": 0
          },
          "xaxis": {
           "automargin": true,
           "gridcolor": "#283442",
           "linecolor": "#506784",
           "ticks": "",
           "title": {
            "standoff": 15
           },
           "zerolinecolor": "#283442",
           "zerolinewidth": 2
          },
          "yaxis": {
           "automargin": true,
           "gridcolor": "#283442",
           "linecolor": "#506784",
           "ticks": "",
           "title": {
            "standoff": 15
           },
           "zerolinecolor": "#283442",
           "zerolinewidth": 2
          }
         }
        },
        "title": {
         "text": "Quantidade de empresas por setor"
        },
        "xaxis": {
         "anchor": "y",
         "domain": [
          0,
          1
         ],
         "title": {
          "text": "Quantidade"
         }
        },
        "yaxis": {
         "anchor": "x",
         "categoryarray": [
          "Comunicações",
          "Petróleo, Gás e Biocombustíveis",
          "Outros",
          "Tecnologia da Informação",
          "Saúde",
          "Materiais Básicos",
          "Consumo não Cíclico",
          "Utilidade Pública",
          "Financeiro",
          "Bens Industriais",
          "Consumo Cíclico"
         ],
         "categoryorder": "array",
         "domain": [
          0,
          1
         ],
         "title": {
          "text": "SETOR"
         }
        }
       }
      }
     },
     "metadata": {},
     "output_type": "display_data"
    }
   ],
   "source": [
    "# Plot gráfico da frequência absoluta da variável\n",
    "fig = px.bar(template=\"plotly_dark\",\n",
    "             title= 'Quantidade de empresas por setor', \n",
    "             data_frame=f, \n",
    "             x='QTD', \n",
    "             y='SETOR', \n",
    "             orientation='h',\n",
    "             color='SETOR',\n",
    "             text_auto=True)\n",
    "fig.update_traces(hovertemplate=None)\n",
    "fig.update_layout(hovermode='y')\n",
    "fig.update(layout_showlegend=False)\n",
    "fig.update_xaxes(title_text='Quantidade')\n",
    "fig.show()"
   ]
  },
  {
   "cell_type": "code",
   "execution_count": 16,
   "metadata": {},
   "outputs": [
    {
     "name": "stderr",
     "output_type": "stream",
     "text": [
      "c:\\Users\\adria\\anaconda3\\Lib\\site-packages\\plotly\\express\\_core.py:1619: FutureWarning:\n",
      "\n",
      "The default of observed=False is deprecated and will be changed to True in a future version of pandas. Pass observed=False to retain current behavior or observed=True to adopt the future default and silence this warning.\n",
      "\n"
     ]
    },
    {
     "data": {
      "application/vnd.plotly.v1+json": {
       "config": {
        "plotlyServerURL": "https://plot.ly"
       },
       "data": [
        {
         "branchvalues": "total",
         "domain": {
          "x": [
           0,
           1
          ],
          "y": [
           0,
           1
          ]
         },
         "hoverinfo": "label+value+percent entry",
         "ids": [
          "Total/Bens Industriais",
          "Total/Comunicações",
          "Total/Consumo Cíclico",
          "Total/Consumo não Cíclico",
          "Total/Financeiro",
          "Total/Materiais Básicos",
          "Total/Outros",
          "Total/Petróleo, Gás e Biocombustíveis",
          "Total/Saúde",
          "Total/Tecnologia da Informação",
          "Total/Utilidade Pública",
          "Total"
         ],
         "labels": [
          "Bens Industriais",
          "Comunicações",
          "Consumo Cíclico",
          "Consumo não Cíclico",
          "Financeiro",
          "Materiais Básicos",
          "Outros",
          "Petróleo, Gás e Biocombustíveis",
          "Saúde",
          "Tecnologia da Informação",
          "Utilidade Pública",
          "Total"
         ],
         "name": "",
         "parents": [
          "Total",
          "Total",
          "Total",
          "Total",
          "Total",
          "Total",
          "Total",
          "Total",
          "Total",
          "Total",
          "Total",
          ""
         ],
         "textinfo": "label+value+percent entry",
         "type": "treemap",
         "values": [
          70,
          9,
          91,
          32,
          69,
          31,
          13,
          13,
          23,
          16,
          65,
          432
         ]
        }
       ],
       "layout": {
        "legend": {
         "tracegroupgap": 0
        },
        "template": {
         "data": {
          "bar": [
           {
            "error_x": {
             "color": "#f2f5fa"
            },
            "error_y": {
             "color": "#f2f5fa"
            },
            "marker": {
             "line": {
              "color": "rgb(17,17,17)",
              "width": 0.5
             },
             "pattern": {
              "fillmode": "overlay",
              "size": 10,
              "solidity": 0.2
             }
            },
            "type": "bar"
           }
          ],
          "barpolar": [
           {
            "marker": {
             "line": {
              "color": "rgb(17,17,17)",
              "width": 0.5
             },
             "pattern": {
              "fillmode": "overlay",
              "size": 10,
              "solidity": 0.2
             }
            },
            "type": "barpolar"
           }
          ],
          "carpet": [
           {
            "aaxis": {
             "endlinecolor": "#A2B1C6",
             "gridcolor": "#506784",
             "linecolor": "#506784",
             "minorgridcolor": "#506784",
             "startlinecolor": "#A2B1C6"
            },
            "baxis": {
             "endlinecolor": "#A2B1C6",
             "gridcolor": "#506784",
             "linecolor": "#506784",
             "minorgridcolor": "#506784",
             "startlinecolor": "#A2B1C6"
            },
            "type": "carpet"
           }
          ],
          "choropleth": [
           {
            "colorbar": {
             "outlinewidth": 0,
             "ticks": ""
            },
            "type": "choropleth"
           }
          ],
          "contour": [
           {
            "colorbar": {
             "outlinewidth": 0,
             "ticks": ""
            },
            "colorscale": [
             [
              0,
              "#0d0887"
             ],
             [
              0.1111111111111111,
              "#46039f"
             ],
             [
              0.2222222222222222,
              "#7201a8"
             ],
             [
              0.3333333333333333,
              "#9c179e"
             ],
             [
              0.4444444444444444,
              "#bd3786"
             ],
             [
              0.5555555555555556,
              "#d8576b"
             ],
             [
              0.6666666666666666,
              "#ed7953"
             ],
             [
              0.7777777777777778,
              "#fb9f3a"
             ],
             [
              0.8888888888888888,
              "#fdca26"
             ],
             [
              1,
              "#f0f921"
             ]
            ],
            "type": "contour"
           }
          ],
          "contourcarpet": [
           {
            "colorbar": {
             "outlinewidth": 0,
             "ticks": ""
            },
            "type": "contourcarpet"
           }
          ],
          "heatmap": [
           {
            "colorbar": {
             "outlinewidth": 0,
             "ticks": ""
            },
            "colorscale": [
             [
              0,
              "#0d0887"
             ],
             [
              0.1111111111111111,
              "#46039f"
             ],
             [
              0.2222222222222222,
              "#7201a8"
             ],
             [
              0.3333333333333333,
              "#9c179e"
             ],
             [
              0.4444444444444444,
              "#bd3786"
             ],
             [
              0.5555555555555556,
              "#d8576b"
             ],
             [
              0.6666666666666666,
              "#ed7953"
             ],
             [
              0.7777777777777778,
              "#fb9f3a"
             ],
             [
              0.8888888888888888,
              "#fdca26"
             ],
             [
              1,
              "#f0f921"
             ]
            ],
            "type": "heatmap"
           }
          ],
          "heatmapgl": [
           {
            "colorbar": {
             "outlinewidth": 0,
             "ticks": ""
            },
            "colorscale": [
             [
              0,
              "#0d0887"
             ],
             [
              0.1111111111111111,
              "#46039f"
             ],
             [
              0.2222222222222222,
              "#7201a8"
             ],
             [
              0.3333333333333333,
              "#9c179e"
             ],
             [
              0.4444444444444444,
              "#bd3786"
             ],
             [
              0.5555555555555556,
              "#d8576b"
             ],
             [
              0.6666666666666666,
              "#ed7953"
             ],
             [
              0.7777777777777778,
              "#fb9f3a"
             ],
             [
              0.8888888888888888,
              "#fdca26"
             ],
             [
              1,
              "#f0f921"
             ]
            ],
            "type": "heatmapgl"
           }
          ],
          "histogram": [
           {
            "marker": {
             "pattern": {
              "fillmode": "overlay",
              "size": 10,
              "solidity": 0.2
             }
            },
            "type": "histogram"
           }
          ],
          "histogram2d": [
           {
            "colorbar": {
             "outlinewidth": 0,
             "ticks": ""
            },
            "colorscale": [
             [
              0,
              "#0d0887"
             ],
             [
              0.1111111111111111,
              "#46039f"
             ],
             [
              0.2222222222222222,
              "#7201a8"
             ],
             [
              0.3333333333333333,
              "#9c179e"
             ],
             [
              0.4444444444444444,
              "#bd3786"
             ],
             [
              0.5555555555555556,
              "#d8576b"
             ],
             [
              0.6666666666666666,
              "#ed7953"
             ],
             [
              0.7777777777777778,
              "#fb9f3a"
             ],
             [
              0.8888888888888888,
              "#fdca26"
             ],
             [
              1,
              "#f0f921"
             ]
            ],
            "type": "histogram2d"
           }
          ],
          "histogram2dcontour": [
           {
            "colorbar": {
             "outlinewidth": 0,
             "ticks": ""
            },
            "colorscale": [
             [
              0,
              "#0d0887"
             ],
             [
              0.1111111111111111,
              "#46039f"
             ],
             [
              0.2222222222222222,
              "#7201a8"
             ],
             [
              0.3333333333333333,
              "#9c179e"
             ],
             [
              0.4444444444444444,
              "#bd3786"
             ],
             [
              0.5555555555555556,
              "#d8576b"
             ],
             [
              0.6666666666666666,
              "#ed7953"
             ],
             [
              0.7777777777777778,
              "#fb9f3a"
             ],
             [
              0.8888888888888888,
              "#fdca26"
             ],
             [
              1,
              "#f0f921"
             ]
            ],
            "type": "histogram2dcontour"
           }
          ],
          "mesh3d": [
           {
            "colorbar": {
             "outlinewidth": 0,
             "ticks": ""
            },
            "type": "mesh3d"
           }
          ],
          "parcoords": [
           {
            "line": {
             "colorbar": {
              "outlinewidth": 0,
              "ticks": ""
             }
            },
            "type": "parcoords"
           }
          ],
          "pie": [
           {
            "automargin": true,
            "type": "pie"
           }
          ],
          "scatter": [
           {
            "marker": {
             "line": {
              "color": "#283442"
             }
            },
            "type": "scatter"
           }
          ],
          "scatter3d": [
           {
            "line": {
             "colorbar": {
              "outlinewidth": 0,
              "ticks": ""
             }
            },
            "marker": {
             "colorbar": {
              "outlinewidth": 0,
              "ticks": ""
             }
            },
            "type": "scatter3d"
           }
          ],
          "scattercarpet": [
           {
            "marker": {
             "colorbar": {
              "outlinewidth": 0,
              "ticks": ""
             }
            },
            "type": "scattercarpet"
           }
          ],
          "scattergeo": [
           {
            "marker": {
             "colorbar": {
              "outlinewidth": 0,
              "ticks": ""
             }
            },
            "type": "scattergeo"
           }
          ],
          "scattergl": [
           {
            "marker": {
             "line": {
              "color": "#283442"
             }
            },
            "type": "scattergl"
           }
          ],
          "scattermapbox": [
           {
            "marker": {
             "colorbar": {
              "outlinewidth": 0,
              "ticks": ""
             }
            },
            "type": "scattermapbox"
           }
          ],
          "scatterpolar": [
           {
            "marker": {
             "colorbar": {
              "outlinewidth": 0,
              "ticks": ""
             }
            },
            "type": "scatterpolar"
           }
          ],
          "scatterpolargl": [
           {
            "marker": {
             "colorbar": {
              "outlinewidth": 0,
              "ticks": ""
             }
            },
            "type": "scatterpolargl"
           }
          ],
          "scatterternary": [
           {
            "marker": {
             "colorbar": {
              "outlinewidth": 0,
              "ticks": ""
             }
            },
            "type": "scatterternary"
           }
          ],
          "surface": [
           {
            "colorbar": {
             "outlinewidth": 0,
             "ticks": ""
            },
            "colorscale": [
             [
              0,
              "#0d0887"
             ],
             [
              0.1111111111111111,
              "#46039f"
             ],
             [
              0.2222222222222222,
              "#7201a8"
             ],
             [
              0.3333333333333333,
              "#9c179e"
             ],
             [
              0.4444444444444444,
              "#bd3786"
             ],
             [
              0.5555555555555556,
              "#d8576b"
             ],
             [
              0.6666666666666666,
              "#ed7953"
             ],
             [
              0.7777777777777778,
              "#fb9f3a"
             ],
             [
              0.8888888888888888,
              "#fdca26"
             ],
             [
              1,
              "#f0f921"
             ]
            ],
            "type": "surface"
           }
          ],
          "table": [
           {
            "cells": {
             "fill": {
              "color": "#506784"
             },
             "line": {
              "color": "rgb(17,17,17)"
             }
            },
            "header": {
             "fill": {
              "color": "#2a3f5f"
             },
             "line": {
              "color": "rgb(17,17,17)"
             }
            },
            "type": "table"
           }
          ]
         },
         "layout": {
          "annotationdefaults": {
           "arrowcolor": "#f2f5fa",
           "arrowhead": 0,
           "arrowwidth": 1
          },
          "autotypenumbers": "strict",
          "coloraxis": {
           "colorbar": {
            "outlinewidth": 0,
            "ticks": ""
           }
          },
          "colorscale": {
           "diverging": [
            [
             0,
             "#8e0152"
            ],
            [
             0.1,
             "#c51b7d"
            ],
            [
             0.2,
             "#de77ae"
            ],
            [
             0.3,
             "#f1b6da"
            ],
            [
             0.4,
             "#fde0ef"
            ],
            [
             0.5,
             "#f7f7f7"
            ],
            [
             0.6,
             "#e6f5d0"
            ],
            [
             0.7,
             "#b8e186"
            ],
            [
             0.8,
             "#7fbc41"
            ],
            [
             0.9,
             "#4d9221"
            ],
            [
             1,
             "#276419"
            ]
           ],
           "sequential": [
            [
             0,
             "#0d0887"
            ],
            [
             0.1111111111111111,
             "#46039f"
            ],
            [
             0.2222222222222222,
             "#7201a8"
            ],
            [
             0.3333333333333333,
             "#9c179e"
            ],
            [
             0.4444444444444444,
             "#bd3786"
            ],
            [
             0.5555555555555556,
             "#d8576b"
            ],
            [
             0.6666666666666666,
             "#ed7953"
            ],
            [
             0.7777777777777778,
             "#fb9f3a"
            ],
            [
             0.8888888888888888,
             "#fdca26"
            ],
            [
             1,
             "#f0f921"
            ]
           ],
           "sequentialminus": [
            [
             0,
             "#0d0887"
            ],
            [
             0.1111111111111111,
             "#46039f"
            ],
            [
             0.2222222222222222,
             "#7201a8"
            ],
            [
             0.3333333333333333,
             "#9c179e"
            ],
            [
             0.4444444444444444,
             "#bd3786"
            ],
            [
             0.5555555555555556,
             "#d8576b"
            ],
            [
             0.6666666666666666,
             "#ed7953"
            ],
            [
             0.7777777777777778,
             "#fb9f3a"
            ],
            [
             0.8888888888888888,
             "#fdca26"
            ],
            [
             1,
             "#f0f921"
            ]
           ]
          },
          "colorway": [
           "#636efa",
           "#EF553B",
           "#00cc96",
           "#ab63fa",
           "#FFA15A",
           "#19d3f3",
           "#FF6692",
           "#B6E880",
           "#FF97FF",
           "#FECB52"
          ],
          "font": {
           "color": "#f2f5fa"
          },
          "geo": {
           "bgcolor": "rgb(17,17,17)",
           "lakecolor": "rgb(17,17,17)",
           "landcolor": "rgb(17,17,17)",
           "showlakes": true,
           "showland": true,
           "subunitcolor": "#506784"
          },
          "hoverlabel": {
           "align": "left"
          },
          "hovermode": "closest",
          "mapbox": {
           "style": "dark"
          },
          "paper_bgcolor": "rgb(17,17,17)",
          "plot_bgcolor": "rgb(17,17,17)",
          "polar": {
           "angularaxis": {
            "gridcolor": "#506784",
            "linecolor": "#506784",
            "ticks": ""
           },
           "bgcolor": "rgb(17,17,17)",
           "radialaxis": {
            "gridcolor": "#506784",
            "linecolor": "#506784",
            "ticks": ""
           }
          },
          "scene": {
           "xaxis": {
            "backgroundcolor": "rgb(17,17,17)",
            "gridcolor": "#506784",
            "gridwidth": 2,
            "linecolor": "#506784",
            "showbackground": true,
            "ticks": "",
            "zerolinecolor": "#C8D4E3"
           },
           "yaxis": {
            "backgroundcolor": "rgb(17,17,17)",
            "gridcolor": "#506784",
            "gridwidth": 2,
            "linecolor": "#506784",
            "showbackground": true,
            "ticks": "",
            "zerolinecolor": "#C8D4E3"
           },
           "zaxis": {
            "backgroundcolor": "rgb(17,17,17)",
            "gridcolor": "#506784",
            "gridwidth": 2,
            "linecolor": "#506784",
            "showbackground": true,
            "ticks": "",
            "zerolinecolor": "#C8D4E3"
           }
          },
          "shapedefaults": {
           "line": {
            "color": "#f2f5fa"
           }
          },
          "sliderdefaults": {
           "bgcolor": "#C8D4E3",
           "bordercolor": "rgb(17,17,17)",
           "borderwidth": 1,
           "tickwidth": 0
          },
          "ternary": {
           "aaxis": {
            "gridcolor": "#506784",
            "linecolor": "#506784",
            "ticks": ""
           },
           "baxis": {
            "gridcolor": "#506784",
            "linecolor": "#506784",
            "ticks": ""
           },
           "bgcolor": "rgb(17,17,17)",
           "caxis": {
            "gridcolor": "#506784",
            "linecolor": "#506784",
            "ticks": ""
           }
          },
          "title": {
           "x": 0.05
          },
          "updatemenudefaults": {
           "bgcolor": "#506784",
           "borderwidth": 0
          },
          "xaxis": {
           "automargin": true,
           "gridcolor": "#283442",
           "linecolor": "#506784",
           "ticks": "",
           "title": {
            "standoff": 15
           },
           "zerolinecolor": "#283442",
           "zerolinewidth": 2
          },
          "yaxis": {
           "automargin": true,
           "gridcolor": "#283442",
           "linecolor": "#506784",
           "ticks": "",
           "title": {
            "standoff": 15
           },
           "zerolinecolor": "#283442",
           "zerolinewidth": 2
          }
         }
        },
        "title": {
         "text": "Percentual de empresas por setor"
        }
       }
      }
     },
     "metadata": {},
     "output_type": "display_data"
    }
   ],
   "source": [
    "# Plot gráfico da frequência relativa da variável\n",
    "fig = px.treemap(data_frame=f,\n",
    "                 path=[px.Constant('Total'), 'SETOR'],\n",
    "                 values='QTD',\n",
    "                 template='plotly_dark',\n",
    "                 title='Quantidade relativa de empresas por setor')\n",
    "\n",
    "fig.update_traces(hovertemplate=None, hoverinfo='label+value+percent entry', textinfo='label+value+percent entry')\n",
    "fig.show()"
   ]
  },
  {
   "cell_type": "code",
   "execution_count": 17,
   "metadata": {},
   "outputs": [],
   "source": [
    "# Criação de tabela de frequência acumulada da variável 'setor'\n",
    "fac = (df.value_counts(subset='SETOR', normalize=True, sort=True, ascending=True).rename(\"cumulative\").cumsum()*100).round(2)"
   ]
  },
  {
   "cell_type": "code",
   "execution_count": 18,
   "metadata": {},
   "outputs": [
    {
     "data": {
      "application/vnd.plotly.v1+json": {
       "config": {
        "plotlyServerURL": "https://plot.ly"
       },
       "data": [
        {
         "alignmentgroup": "True",
         "hovertemplate": "%{y:.2f}%",
         "legendgroup": "",
         "marker": {
          "color": [
           2.08,
           5.09,
           8.1,
           11.81,
           17.13,
           24.31,
           31.71,
           46.76,
           62.73,
           78.94,
           100
          ],
          "coloraxis": "coloraxis",
          "pattern": {
           "shape": ""
          }
         },
         "name": "",
         "offsetgroup": "",
         "orientation": "v",
         "showlegend": false,
         "text": [
          2.08,
          5.09,
          8.1,
          11.81,
          17.13,
          24.31,
          31.71,
          46.76,
          62.73,
          78.94,
          100
         ],
         "textposition": "auto",
         "texttemplate": "%{text:.1f}%",
         "type": "bar",
         "x": [
          "Comunicações",
          "Outros",
          "Petróleo, Gás e Biocombustíveis",
          "Tecnologia da Informação",
          "Saúde",
          "Materiais Básicos",
          "Consumo não Cíclico",
          "Utilidade Pública",
          "Financeiro",
          "Bens Industriais",
          "Consumo Cíclico"
         ],
         "xaxis": "x",
         "y": [
          2.08,
          5.09,
          8.1,
          11.81,
          17.13,
          24.31,
          31.71,
          46.76,
          62.73,
          78.94,
          100
         ],
         "yaxis": "y"
        }
       ],
       "layout": {
        "barmode": "relative",
        "coloraxis": {
         "colorbar": {
          "title": {
           "text": "color"
          }
         },
         "colorscale": [
          [
           0,
           "#0d0887"
          ],
          [
           0.1111111111111111,
           "#46039f"
          ],
          [
           0.2222222222222222,
           "#7201a8"
          ],
          [
           0.3333333333333333,
           "#9c179e"
          ],
          [
           0.4444444444444444,
           "#bd3786"
          ],
          [
           0.5555555555555556,
           "#d8576b"
          ],
          [
           0.6666666666666666,
           "#ed7953"
          ],
          [
           0.7777777777777778,
           "#fb9f3a"
          ],
          [
           0.8888888888888888,
           "#fdca26"
          ],
          [
           1,
           "#f0f921"
          ]
         ]
        },
        "hovermode": "x unified",
        "legend": {
         "tracegroupgap": 0
        },
        "template": {
         "data": {
          "bar": [
           {
            "error_x": {
             "color": "#f2f5fa"
            },
            "error_y": {
             "color": "#f2f5fa"
            },
            "marker": {
             "line": {
              "color": "rgb(17,17,17)",
              "width": 0.5
             },
             "pattern": {
              "fillmode": "overlay",
              "size": 10,
              "solidity": 0.2
             }
            },
            "type": "bar"
           }
          ],
          "barpolar": [
           {
            "marker": {
             "line": {
              "color": "rgb(17,17,17)",
              "width": 0.5
             },
             "pattern": {
              "fillmode": "overlay",
              "size": 10,
              "solidity": 0.2
             }
            },
            "type": "barpolar"
           }
          ],
          "carpet": [
           {
            "aaxis": {
             "endlinecolor": "#A2B1C6",
             "gridcolor": "#506784",
             "linecolor": "#506784",
             "minorgridcolor": "#506784",
             "startlinecolor": "#A2B1C6"
            },
            "baxis": {
             "endlinecolor": "#A2B1C6",
             "gridcolor": "#506784",
             "linecolor": "#506784",
             "minorgridcolor": "#506784",
             "startlinecolor": "#A2B1C6"
            },
            "type": "carpet"
           }
          ],
          "choropleth": [
           {
            "colorbar": {
             "outlinewidth": 0,
             "ticks": ""
            },
            "type": "choropleth"
           }
          ],
          "contour": [
           {
            "colorbar": {
             "outlinewidth": 0,
             "ticks": ""
            },
            "colorscale": [
             [
              0,
              "#0d0887"
             ],
             [
              0.1111111111111111,
              "#46039f"
             ],
             [
              0.2222222222222222,
              "#7201a8"
             ],
             [
              0.3333333333333333,
              "#9c179e"
             ],
             [
              0.4444444444444444,
              "#bd3786"
             ],
             [
              0.5555555555555556,
              "#d8576b"
             ],
             [
              0.6666666666666666,
              "#ed7953"
             ],
             [
              0.7777777777777778,
              "#fb9f3a"
             ],
             [
              0.8888888888888888,
              "#fdca26"
             ],
             [
              1,
              "#f0f921"
             ]
            ],
            "type": "contour"
           }
          ],
          "contourcarpet": [
           {
            "colorbar": {
             "outlinewidth": 0,
             "ticks": ""
            },
            "type": "contourcarpet"
           }
          ],
          "heatmap": [
           {
            "colorbar": {
             "outlinewidth": 0,
             "ticks": ""
            },
            "colorscale": [
             [
              0,
              "#0d0887"
             ],
             [
              0.1111111111111111,
              "#46039f"
             ],
             [
              0.2222222222222222,
              "#7201a8"
             ],
             [
              0.3333333333333333,
              "#9c179e"
             ],
             [
              0.4444444444444444,
              "#bd3786"
             ],
             [
              0.5555555555555556,
              "#d8576b"
             ],
             [
              0.6666666666666666,
              "#ed7953"
             ],
             [
              0.7777777777777778,
              "#fb9f3a"
             ],
             [
              0.8888888888888888,
              "#fdca26"
             ],
             [
              1,
              "#f0f921"
             ]
            ],
            "type": "heatmap"
           }
          ],
          "heatmapgl": [
           {
            "colorbar": {
             "outlinewidth": 0,
             "ticks": ""
            },
            "colorscale": [
             [
              0,
              "#0d0887"
             ],
             [
              0.1111111111111111,
              "#46039f"
             ],
             [
              0.2222222222222222,
              "#7201a8"
             ],
             [
              0.3333333333333333,
              "#9c179e"
             ],
             [
              0.4444444444444444,
              "#bd3786"
             ],
             [
              0.5555555555555556,
              "#d8576b"
             ],
             [
              0.6666666666666666,
              "#ed7953"
             ],
             [
              0.7777777777777778,
              "#fb9f3a"
             ],
             [
              0.8888888888888888,
              "#fdca26"
             ],
             [
              1,
              "#f0f921"
             ]
            ],
            "type": "heatmapgl"
           }
          ],
          "histogram": [
           {
            "marker": {
             "pattern": {
              "fillmode": "overlay",
              "size": 10,
              "solidity": 0.2
             }
            },
            "type": "histogram"
           }
          ],
          "histogram2d": [
           {
            "colorbar": {
             "outlinewidth": 0,
             "ticks": ""
            },
            "colorscale": [
             [
              0,
              "#0d0887"
             ],
             [
              0.1111111111111111,
              "#46039f"
             ],
             [
              0.2222222222222222,
              "#7201a8"
             ],
             [
              0.3333333333333333,
              "#9c179e"
             ],
             [
              0.4444444444444444,
              "#bd3786"
             ],
             [
              0.5555555555555556,
              "#d8576b"
             ],
             [
              0.6666666666666666,
              "#ed7953"
             ],
             [
              0.7777777777777778,
              "#fb9f3a"
             ],
             [
              0.8888888888888888,
              "#fdca26"
             ],
             [
              1,
              "#f0f921"
             ]
            ],
            "type": "histogram2d"
           }
          ],
          "histogram2dcontour": [
           {
            "colorbar": {
             "outlinewidth": 0,
             "ticks": ""
            },
            "colorscale": [
             [
              0,
              "#0d0887"
             ],
             [
              0.1111111111111111,
              "#46039f"
             ],
             [
              0.2222222222222222,
              "#7201a8"
             ],
             [
              0.3333333333333333,
              "#9c179e"
             ],
             [
              0.4444444444444444,
              "#bd3786"
             ],
             [
              0.5555555555555556,
              "#d8576b"
             ],
             [
              0.6666666666666666,
              "#ed7953"
             ],
             [
              0.7777777777777778,
              "#fb9f3a"
             ],
             [
              0.8888888888888888,
              "#fdca26"
             ],
             [
              1,
              "#f0f921"
             ]
            ],
            "type": "histogram2dcontour"
           }
          ],
          "mesh3d": [
           {
            "colorbar": {
             "outlinewidth": 0,
             "ticks": ""
            },
            "type": "mesh3d"
           }
          ],
          "parcoords": [
           {
            "line": {
             "colorbar": {
              "outlinewidth": 0,
              "ticks": ""
             }
            },
            "type": "parcoords"
           }
          ],
          "pie": [
           {
            "automargin": true,
            "type": "pie"
           }
          ],
          "scatter": [
           {
            "marker": {
             "line": {
              "color": "#283442"
             }
            },
            "type": "scatter"
           }
          ],
          "scatter3d": [
           {
            "line": {
             "colorbar": {
              "outlinewidth": 0,
              "ticks": ""
             }
            },
            "marker": {
             "colorbar": {
              "outlinewidth": 0,
              "ticks": ""
             }
            },
            "type": "scatter3d"
           }
          ],
          "scattercarpet": [
           {
            "marker": {
             "colorbar": {
              "outlinewidth": 0,
              "ticks": ""
             }
            },
            "type": "scattercarpet"
           }
          ],
          "scattergeo": [
           {
            "marker": {
             "colorbar": {
              "outlinewidth": 0,
              "ticks": ""
             }
            },
            "type": "scattergeo"
           }
          ],
          "scattergl": [
           {
            "marker": {
             "line": {
              "color": "#283442"
             }
            },
            "type": "scattergl"
           }
          ],
          "scattermapbox": [
           {
            "marker": {
             "colorbar": {
              "outlinewidth": 0,
              "ticks": ""
             }
            },
            "type": "scattermapbox"
           }
          ],
          "scatterpolar": [
           {
            "marker": {
             "colorbar": {
              "outlinewidth": 0,
              "ticks": ""
             }
            },
            "type": "scatterpolar"
           }
          ],
          "scatterpolargl": [
           {
            "marker": {
             "colorbar": {
              "outlinewidth": 0,
              "ticks": ""
             }
            },
            "type": "scatterpolargl"
           }
          ],
          "scatterternary": [
           {
            "marker": {
             "colorbar": {
              "outlinewidth": 0,
              "ticks": ""
             }
            },
            "type": "scatterternary"
           }
          ],
          "surface": [
           {
            "colorbar": {
             "outlinewidth": 0,
             "ticks": ""
            },
            "colorscale": [
             [
              0,
              "#0d0887"
             ],
             [
              0.1111111111111111,
              "#46039f"
             ],
             [
              0.2222222222222222,
              "#7201a8"
             ],
             [
              0.3333333333333333,
              "#9c179e"
             ],
             [
              0.4444444444444444,
              "#bd3786"
             ],
             [
              0.5555555555555556,
              "#d8576b"
             ],
             [
              0.6666666666666666,
              "#ed7953"
             ],
             [
              0.7777777777777778,
              "#fb9f3a"
             ],
             [
              0.8888888888888888,
              "#fdca26"
             ],
             [
              1,
              "#f0f921"
             ]
            ],
            "type": "surface"
           }
          ],
          "table": [
           {
            "cells": {
             "fill": {
              "color": "#506784"
             },
             "line": {
              "color": "rgb(17,17,17)"
             }
            },
            "header": {
             "fill": {
              "color": "#2a3f5f"
             },
             "line": {
              "color": "rgb(17,17,17)"
             }
            },
            "type": "table"
           }
          ]
         },
         "layout": {
          "annotationdefaults": {
           "arrowcolor": "#f2f5fa",
           "arrowhead": 0,
           "arrowwidth": 1
          },
          "autotypenumbers": "strict",
          "coloraxis": {
           "colorbar": {
            "outlinewidth": 0,
            "ticks": ""
           }
          },
          "colorscale": {
           "diverging": [
            [
             0,
             "#8e0152"
            ],
            [
             0.1,
             "#c51b7d"
            ],
            [
             0.2,
             "#de77ae"
            ],
            [
             0.3,
             "#f1b6da"
            ],
            [
             0.4,
             "#fde0ef"
            ],
            [
             0.5,
             "#f7f7f7"
            ],
            [
             0.6,
             "#e6f5d0"
            ],
            [
             0.7,
             "#b8e186"
            ],
            [
             0.8,
             "#7fbc41"
            ],
            [
             0.9,
             "#4d9221"
            ],
            [
             1,
             "#276419"
            ]
           ],
           "sequential": [
            [
             0,
             "#0d0887"
            ],
            [
             0.1111111111111111,
             "#46039f"
            ],
            [
             0.2222222222222222,
             "#7201a8"
            ],
            [
             0.3333333333333333,
             "#9c179e"
            ],
            [
             0.4444444444444444,
             "#bd3786"
            ],
            [
             0.5555555555555556,
             "#d8576b"
            ],
            [
             0.6666666666666666,
             "#ed7953"
            ],
            [
             0.7777777777777778,
             "#fb9f3a"
            ],
            [
             0.8888888888888888,
             "#fdca26"
            ],
            [
             1,
             "#f0f921"
            ]
           ],
           "sequentialminus": [
            [
             0,
             "#0d0887"
            ],
            [
             0.1111111111111111,
             "#46039f"
            ],
            [
             0.2222222222222222,
             "#7201a8"
            ],
            [
             0.3333333333333333,
             "#9c179e"
            ],
            [
             0.4444444444444444,
             "#bd3786"
            ],
            [
             0.5555555555555556,
             "#d8576b"
            ],
            [
             0.6666666666666666,
             "#ed7953"
            ],
            [
             0.7777777777777778,
             "#fb9f3a"
            ],
            [
             0.8888888888888888,
             "#fdca26"
            ],
            [
             1,
             "#f0f921"
            ]
           ]
          },
          "colorway": [
           "#636efa",
           "#EF553B",
           "#00cc96",
           "#ab63fa",
           "#FFA15A",
           "#19d3f3",
           "#FF6692",
           "#B6E880",
           "#FF97FF",
           "#FECB52"
          ],
          "font": {
           "color": "#f2f5fa"
          },
          "geo": {
           "bgcolor": "rgb(17,17,17)",
           "lakecolor": "rgb(17,17,17)",
           "landcolor": "rgb(17,17,17)",
           "showlakes": true,
           "showland": true,
           "subunitcolor": "#506784"
          },
          "hoverlabel": {
           "align": "left"
          },
          "hovermode": "closest",
          "mapbox": {
           "style": "dark"
          },
          "paper_bgcolor": "rgb(17,17,17)",
          "plot_bgcolor": "rgb(17,17,17)",
          "polar": {
           "angularaxis": {
            "gridcolor": "#506784",
            "linecolor": "#506784",
            "ticks": ""
           },
           "bgcolor": "rgb(17,17,17)",
           "radialaxis": {
            "gridcolor": "#506784",
            "linecolor": "#506784",
            "ticks": ""
           }
          },
          "scene": {
           "xaxis": {
            "backgroundcolor": "rgb(17,17,17)",
            "gridcolor": "#506784",
            "gridwidth": 2,
            "linecolor": "#506784",
            "showbackground": true,
            "ticks": "",
            "zerolinecolor": "#C8D4E3"
           },
           "yaxis": {
            "backgroundcolor": "rgb(17,17,17)",
            "gridcolor": "#506784",
            "gridwidth": 2,
            "linecolor": "#506784",
            "showbackground": true,
            "ticks": "",
            "zerolinecolor": "#C8D4E3"
           },
           "zaxis": {
            "backgroundcolor": "rgb(17,17,17)",
            "gridcolor": "#506784",
            "gridwidth": 2,
            "linecolor": "#506784",
            "showbackground": true,
            "ticks": "",
            "zerolinecolor": "#C8D4E3"
           }
          },
          "shapedefaults": {
           "line": {
            "color": "#f2f5fa"
           }
          },
          "sliderdefaults": {
           "bgcolor": "#C8D4E3",
           "bordercolor": "rgb(17,17,17)",
           "borderwidth": 1,
           "tickwidth": 0
          },
          "ternary": {
           "aaxis": {
            "gridcolor": "#506784",
            "linecolor": "#506784",
            "ticks": ""
           },
           "baxis": {
            "gridcolor": "#506784",
            "linecolor": "#506784",
            "ticks": ""
           },
           "bgcolor": "rgb(17,17,17)",
           "caxis": {
            "gridcolor": "#506784",
            "linecolor": "#506784",
            "ticks": ""
           }
          },
          "title": {
           "x": 0.05
          },
          "updatemenudefaults": {
           "bgcolor": "#506784",
           "borderwidth": 0
          },
          "xaxis": {
           "automargin": true,
           "gridcolor": "#283442",
           "linecolor": "#506784",
           "ticks": "",
           "title": {
            "standoff": 15
           },
           "zerolinecolor": "#283442",
           "zerolinewidth": 2
          },
          "yaxis": {
           "automargin": true,
           "gridcolor": "#283442",
           "linecolor": "#506784",
           "ticks": "",
           "title": {
            "standoff": 15
           },
           "zerolinecolor": "#283442",
           "zerolinewidth": 2
          }
         }
        },
        "title": {
         "text": "Frequência relativa acumulada de empresas por setor em ordem crescente"
        },
        "xaxis": {
         "anchor": "y",
         "domain": [
          0,
          1
         ],
         "title": {
          "text": "SETOR"
         }
        },
        "yaxis": {
         "anchor": "x",
         "domain": [
          0,
          1
         ],
         "title": {
          "text": "Frequência acumulada"
         }
        }
       }
      }
     },
     "metadata": {},
     "output_type": "display_data"
    }
   ],
   "source": [
    "# Plot gráfico da frequência acumulada da variável\n",
    "fig = px.bar(data_frame=fac, \n",
    "             title='Frequência relativa acumulada de empresas por setor em ordem crescente',\n",
    "             x=fac.index, \n",
    "             y=fac.values, \n",
    "             color=fac.values, \n",
    "             text=fac.values, \n",
    "             template='plotly_dark')\n",
    "fig.update_traces(hovertemplate='%{y:.2f}%', texttemplate='%{text:.1f}%')\n",
    "fig.update_layout(hovermode='x unified')\n",
    "fig.update_yaxes(title_text='Frequência acumulada')\n",
    "\n",
    "fig.show()"
   ]
  },
  {
   "cell_type": "markdown",
   "metadata": {},
   "source": [
    "### Distribuição"
   ]
  },
  {
   "cell_type": "code",
   "execution_count": 19,
   "metadata": {},
   "outputs": [
    {
     "data": {
      "application/vnd.plotly.v1+json": {
       "config": {
        "plotlyServerURL": "https://plot.ly"
       },
       "data": [
        {
         "alignmentgroup": "True",
         "boxpoints": "all",
         "hovertemplate": "QTD=%{x}<extra></extra>",
         "legendgroup": "",
         "marker": {
          "color": "#636efa"
         },
         "name": "",
         "notched": false,
         "offsetgroup": "",
         "orientation": "h",
         "showlegend": false,
         "type": "box",
         "x": [
          91,
          70,
          69,
          65,
          32,
          31,
          23,
          16,
          13,
          13,
          9
         ],
         "x0": " ",
         "xaxis": "x",
         "y0": " ",
         "yaxis": "y"
        }
       ],
       "layout": {
        "boxmode": "group",
        "legend": {
         "tracegroupgap": 0
        },
        "template": {
         "data": {
          "bar": [
           {
            "error_x": {
             "color": "#f2f5fa"
            },
            "error_y": {
             "color": "#f2f5fa"
            },
            "marker": {
             "line": {
              "color": "rgb(17,17,17)",
              "width": 0.5
             },
             "pattern": {
              "fillmode": "overlay",
              "size": 10,
              "solidity": 0.2
             }
            },
            "type": "bar"
           }
          ],
          "barpolar": [
           {
            "marker": {
             "line": {
              "color": "rgb(17,17,17)",
              "width": 0.5
             },
             "pattern": {
              "fillmode": "overlay",
              "size": 10,
              "solidity": 0.2
             }
            },
            "type": "barpolar"
           }
          ],
          "carpet": [
           {
            "aaxis": {
             "endlinecolor": "#A2B1C6",
             "gridcolor": "#506784",
             "linecolor": "#506784",
             "minorgridcolor": "#506784",
             "startlinecolor": "#A2B1C6"
            },
            "baxis": {
             "endlinecolor": "#A2B1C6",
             "gridcolor": "#506784",
             "linecolor": "#506784",
             "minorgridcolor": "#506784",
             "startlinecolor": "#A2B1C6"
            },
            "type": "carpet"
           }
          ],
          "choropleth": [
           {
            "colorbar": {
             "outlinewidth": 0,
             "ticks": ""
            },
            "type": "choropleth"
           }
          ],
          "contour": [
           {
            "colorbar": {
             "outlinewidth": 0,
             "ticks": ""
            },
            "colorscale": [
             [
              0,
              "#0d0887"
             ],
             [
              0.1111111111111111,
              "#46039f"
             ],
             [
              0.2222222222222222,
              "#7201a8"
             ],
             [
              0.3333333333333333,
              "#9c179e"
             ],
             [
              0.4444444444444444,
              "#bd3786"
             ],
             [
              0.5555555555555556,
              "#d8576b"
             ],
             [
              0.6666666666666666,
              "#ed7953"
             ],
             [
              0.7777777777777778,
              "#fb9f3a"
             ],
             [
              0.8888888888888888,
              "#fdca26"
             ],
             [
              1,
              "#f0f921"
             ]
            ],
            "type": "contour"
           }
          ],
          "contourcarpet": [
           {
            "colorbar": {
             "outlinewidth": 0,
             "ticks": ""
            },
            "type": "contourcarpet"
           }
          ],
          "heatmap": [
           {
            "colorbar": {
             "outlinewidth": 0,
             "ticks": ""
            },
            "colorscale": [
             [
              0,
              "#0d0887"
             ],
             [
              0.1111111111111111,
              "#46039f"
             ],
             [
              0.2222222222222222,
              "#7201a8"
             ],
             [
              0.3333333333333333,
              "#9c179e"
             ],
             [
              0.4444444444444444,
              "#bd3786"
             ],
             [
              0.5555555555555556,
              "#d8576b"
             ],
             [
              0.6666666666666666,
              "#ed7953"
             ],
             [
              0.7777777777777778,
              "#fb9f3a"
             ],
             [
              0.8888888888888888,
              "#fdca26"
             ],
             [
              1,
              "#f0f921"
             ]
            ],
            "type": "heatmap"
           }
          ],
          "heatmapgl": [
           {
            "colorbar": {
             "outlinewidth": 0,
             "ticks": ""
            },
            "colorscale": [
             [
              0,
              "#0d0887"
             ],
             [
              0.1111111111111111,
              "#46039f"
             ],
             [
              0.2222222222222222,
              "#7201a8"
             ],
             [
              0.3333333333333333,
              "#9c179e"
             ],
             [
              0.4444444444444444,
              "#bd3786"
             ],
             [
              0.5555555555555556,
              "#d8576b"
             ],
             [
              0.6666666666666666,
              "#ed7953"
             ],
             [
              0.7777777777777778,
              "#fb9f3a"
             ],
             [
              0.8888888888888888,
              "#fdca26"
             ],
             [
              1,
              "#f0f921"
             ]
            ],
            "type": "heatmapgl"
           }
          ],
          "histogram": [
           {
            "marker": {
             "pattern": {
              "fillmode": "overlay",
              "size": 10,
              "solidity": 0.2
             }
            },
            "type": "histogram"
           }
          ],
          "histogram2d": [
           {
            "colorbar": {
             "outlinewidth": 0,
             "ticks": ""
            },
            "colorscale": [
             [
              0,
              "#0d0887"
             ],
             [
              0.1111111111111111,
              "#46039f"
             ],
             [
              0.2222222222222222,
              "#7201a8"
             ],
             [
              0.3333333333333333,
              "#9c179e"
             ],
             [
              0.4444444444444444,
              "#bd3786"
             ],
             [
              0.5555555555555556,
              "#d8576b"
             ],
             [
              0.6666666666666666,
              "#ed7953"
             ],
             [
              0.7777777777777778,
              "#fb9f3a"
             ],
             [
              0.8888888888888888,
              "#fdca26"
             ],
             [
              1,
              "#f0f921"
             ]
            ],
            "type": "histogram2d"
           }
          ],
          "histogram2dcontour": [
           {
            "colorbar": {
             "outlinewidth": 0,
             "ticks": ""
            },
            "colorscale": [
             [
              0,
              "#0d0887"
             ],
             [
              0.1111111111111111,
              "#46039f"
             ],
             [
              0.2222222222222222,
              "#7201a8"
             ],
             [
              0.3333333333333333,
              "#9c179e"
             ],
             [
              0.4444444444444444,
              "#bd3786"
             ],
             [
              0.5555555555555556,
              "#d8576b"
             ],
             [
              0.6666666666666666,
              "#ed7953"
             ],
             [
              0.7777777777777778,
              "#fb9f3a"
             ],
             [
              0.8888888888888888,
              "#fdca26"
             ],
             [
              1,
              "#f0f921"
             ]
            ],
            "type": "histogram2dcontour"
           }
          ],
          "mesh3d": [
           {
            "colorbar": {
             "outlinewidth": 0,
             "ticks": ""
            },
            "type": "mesh3d"
           }
          ],
          "parcoords": [
           {
            "line": {
             "colorbar": {
              "outlinewidth": 0,
              "ticks": ""
             }
            },
            "type": "parcoords"
           }
          ],
          "pie": [
           {
            "automargin": true,
            "type": "pie"
           }
          ],
          "scatter": [
           {
            "marker": {
             "line": {
              "color": "#283442"
             }
            },
            "type": "scatter"
           }
          ],
          "scatter3d": [
           {
            "line": {
             "colorbar": {
              "outlinewidth": 0,
              "ticks": ""
             }
            },
            "marker": {
             "colorbar": {
              "outlinewidth": 0,
              "ticks": ""
             }
            },
            "type": "scatter3d"
           }
          ],
          "scattercarpet": [
           {
            "marker": {
             "colorbar": {
              "outlinewidth": 0,
              "ticks": ""
             }
            },
            "type": "scattercarpet"
           }
          ],
          "scattergeo": [
           {
            "marker": {
             "colorbar": {
              "outlinewidth": 0,
              "ticks": ""
             }
            },
            "type": "scattergeo"
           }
          ],
          "scattergl": [
           {
            "marker": {
             "line": {
              "color": "#283442"
             }
            },
            "type": "scattergl"
           }
          ],
          "scattermapbox": [
           {
            "marker": {
             "colorbar": {
              "outlinewidth": 0,
              "ticks": ""
             }
            },
            "type": "scattermapbox"
           }
          ],
          "scatterpolar": [
           {
            "marker": {
             "colorbar": {
              "outlinewidth": 0,
              "ticks": ""
             }
            },
            "type": "scatterpolar"
           }
          ],
          "scatterpolargl": [
           {
            "marker": {
             "colorbar": {
              "outlinewidth": 0,
              "ticks": ""
             }
            },
            "type": "scatterpolargl"
           }
          ],
          "scatterternary": [
           {
            "marker": {
             "colorbar": {
              "outlinewidth": 0,
              "ticks": ""
             }
            },
            "type": "scatterternary"
           }
          ],
          "surface": [
           {
            "colorbar": {
             "outlinewidth": 0,
             "ticks": ""
            },
            "colorscale": [
             [
              0,
              "#0d0887"
             ],
             [
              0.1111111111111111,
              "#46039f"
             ],
             [
              0.2222222222222222,
              "#7201a8"
             ],
             [
              0.3333333333333333,
              "#9c179e"
             ],
             [
              0.4444444444444444,
              "#bd3786"
             ],
             [
              0.5555555555555556,
              "#d8576b"
             ],
             [
              0.6666666666666666,
              "#ed7953"
             ],
             [
              0.7777777777777778,
              "#fb9f3a"
             ],
             [
              0.8888888888888888,
              "#fdca26"
             ],
             [
              1,
              "#f0f921"
             ]
            ],
            "type": "surface"
           }
          ],
          "table": [
           {
            "cells": {
             "fill": {
              "color": "#506784"
             },
             "line": {
              "color": "rgb(17,17,17)"
             }
            },
            "header": {
             "fill": {
              "color": "#2a3f5f"
             },
             "line": {
              "color": "rgb(17,17,17)"
             }
            },
            "type": "table"
           }
          ]
         },
         "layout": {
          "annotationdefaults": {
           "arrowcolor": "#f2f5fa",
           "arrowhead": 0,
           "arrowwidth": 1
          },
          "autotypenumbers": "strict",
          "coloraxis": {
           "colorbar": {
            "outlinewidth": 0,
            "ticks": ""
           }
          },
          "colorscale": {
           "diverging": [
            [
             0,
             "#8e0152"
            ],
            [
             0.1,
             "#c51b7d"
            ],
            [
             0.2,
             "#de77ae"
            ],
            [
             0.3,
             "#f1b6da"
            ],
            [
             0.4,
             "#fde0ef"
            ],
            [
             0.5,
             "#f7f7f7"
            ],
            [
             0.6,
             "#e6f5d0"
            ],
            [
             0.7,
             "#b8e186"
            ],
            [
             0.8,
             "#7fbc41"
            ],
            [
             0.9,
             "#4d9221"
            ],
            [
             1,
             "#276419"
            ]
           ],
           "sequential": [
            [
             0,
             "#0d0887"
            ],
            [
             0.1111111111111111,
             "#46039f"
            ],
            [
             0.2222222222222222,
             "#7201a8"
            ],
            [
             0.3333333333333333,
             "#9c179e"
            ],
            [
             0.4444444444444444,
             "#bd3786"
            ],
            [
             0.5555555555555556,
             "#d8576b"
            ],
            [
             0.6666666666666666,
             "#ed7953"
            ],
            [
             0.7777777777777778,
             "#fb9f3a"
            ],
            [
             0.8888888888888888,
             "#fdca26"
            ],
            [
             1,
             "#f0f921"
            ]
           ],
           "sequentialminus": [
            [
             0,
             "#0d0887"
            ],
            [
             0.1111111111111111,
             "#46039f"
            ],
            [
             0.2222222222222222,
             "#7201a8"
            ],
            [
             0.3333333333333333,
             "#9c179e"
            ],
            [
             0.4444444444444444,
             "#bd3786"
            ],
            [
             0.5555555555555556,
             "#d8576b"
            ],
            [
             0.6666666666666666,
             "#ed7953"
            ],
            [
             0.7777777777777778,
             "#fb9f3a"
            ],
            [
             0.8888888888888888,
             "#fdca26"
            ],
            [
             1,
             "#f0f921"
            ]
           ]
          },
          "colorway": [
           "#636efa",
           "#EF553B",
           "#00cc96",
           "#ab63fa",
           "#FFA15A",
           "#19d3f3",
           "#FF6692",
           "#B6E880",
           "#FF97FF",
           "#FECB52"
          ],
          "font": {
           "color": "#f2f5fa"
          },
          "geo": {
           "bgcolor": "rgb(17,17,17)",
           "lakecolor": "rgb(17,17,17)",
           "landcolor": "rgb(17,17,17)",
           "showlakes": true,
           "showland": true,
           "subunitcolor": "#506784"
          },
          "hoverlabel": {
           "align": "left"
          },
          "hovermode": "closest",
          "mapbox": {
           "style": "dark"
          },
          "paper_bgcolor": "rgb(17,17,17)",
          "plot_bgcolor": "rgb(17,17,17)",
          "polar": {
           "angularaxis": {
            "gridcolor": "#506784",
            "linecolor": "#506784",
            "ticks": ""
           },
           "bgcolor": "rgb(17,17,17)",
           "radialaxis": {
            "gridcolor": "#506784",
            "linecolor": "#506784",
            "ticks": ""
           }
          },
          "scene": {
           "xaxis": {
            "backgroundcolor": "rgb(17,17,17)",
            "gridcolor": "#506784",
            "gridwidth": 2,
            "linecolor": "#506784",
            "showbackground": true,
            "ticks": "",
            "zerolinecolor": "#C8D4E3"
           },
           "yaxis": {
            "backgroundcolor": "rgb(17,17,17)",
            "gridcolor": "#506784",
            "gridwidth": 2,
            "linecolor": "#506784",
            "showbackground": true,
            "ticks": "",
            "zerolinecolor": "#C8D4E3"
           },
           "zaxis": {
            "backgroundcolor": "rgb(17,17,17)",
            "gridcolor": "#506784",
            "gridwidth": 2,
            "linecolor": "#506784",
            "showbackground": true,
            "ticks": "",
            "zerolinecolor": "#C8D4E3"
           }
          },
          "shapedefaults": {
           "line": {
            "color": "#f2f5fa"
           }
          },
          "sliderdefaults": {
           "bgcolor": "#C8D4E3",
           "bordercolor": "rgb(17,17,17)",
           "borderwidth": 1,
           "tickwidth": 0
          },
          "ternary": {
           "aaxis": {
            "gridcolor": "#506784",
            "linecolor": "#506784",
            "ticks": ""
           },
           "baxis": {
            "gridcolor": "#506784",
            "linecolor": "#506784",
            "ticks": ""
           },
           "bgcolor": "rgb(17,17,17)",
           "caxis": {
            "gridcolor": "#506784",
            "linecolor": "#506784",
            "ticks": ""
           }
          },
          "title": {
           "x": 0.05
          },
          "updatemenudefaults": {
           "bgcolor": "#506784",
           "borderwidth": 0
          },
          "xaxis": {
           "automargin": true,
           "gridcolor": "#283442",
           "linecolor": "#506784",
           "ticks": "",
           "title": {
            "standoff": 15
           },
           "zerolinecolor": "#283442",
           "zerolinewidth": 2
          },
          "yaxis": {
           "automargin": true,
           "gridcolor": "#283442",
           "linecolor": "#506784",
           "ticks": "",
           "title": {
            "standoff": 15
           },
           "zerolinecolor": "#283442",
           "zerolinewidth": 2
          }
         }
        },
        "title": {
         "text": "Distribuição de frequência de setor pela quantidade de empresas"
        },
        "xaxis": {
         "anchor": "y",
         "domain": [
          0,
          1
         ],
         "title": {
          "text": "QTD"
         }
        },
        "yaxis": {
         "anchor": "x",
         "domain": [
          0,
          1
         ]
        }
       }
      }
     },
     "metadata": {},
     "output_type": "display_data"
    }
   ],
   "source": [
    "# Plot gráfico da dispersão dos dados\n",
    "fig = px.box(data_frame=f, \n",
    "             template='plotly_dark', \n",
    "             x='QTD', \n",
    "             points='all', \n",
    "             title='Distribuição de frequência de setor pela quantidade de empresas')\n",
    "fig.show()"
   ]
  },
  {
   "cell_type": "markdown",
   "metadata": {},
   "source": [
    "### Medidas"
   ]
  },
  {
   "cell_type": "code",
   "execution_count": 21,
   "metadata": {},
   "outputs": [
    {
     "name": "stdout",
     "output_type": "stream",
     "text": [
      "Mínimo: 9\n",
      "Q1: 14.5\n",
      "Q2: 31.0\n",
      "Q3: 67.0\n",
      "Máximo: 91\n",
      "Média da quantidade de empresas por setor: 39\n",
      "Mediana da quantidade de empresas por setor: 31.0\n",
      "Moda: 91 - Consumo Cíclico\n",
      "Amplitude: 82\n",
      "Desvio padrão: 28.97\n",
      "Coeficiente de variação: 74.0 %\n"
     ]
    }
   ],
   "source": [
    "# Medidas de distribuição\n",
    "print('Mínimo:', f.QTD.min())\n",
    "print('Q1:', f.QTD.quantile(.25))\n",
    "print('Q2:', f.QTD.quantile(.50))\n",
    "print('Q3:', f.QTD.quantile(.75))\n",
    "print('Máximo:', f.QTD.max())\n",
    "\n",
    "# Medidas centrais\n",
    "print('Média da quantidade de empresas por setor:', round(f.QTD.mean()))\n",
    "print('Mediana da quantidade de empresas por setor:', f.QTD.median())\n",
    "print('Moda:', f.QTD[0], '-', f.SETOR[0])\n",
    "\n",
    "# Medidas de dispersão\n",
    "print('Amplitude:', f.QTD.max()-f.QTD.min())\n",
    "print('Desvio padrão:', round(f.QTD.std(), 2))\n",
    "print('Coeficiente de variação:', round(f.QTD.std()/f.QTD.mean(), 2)*100, '%')"
   ]
  },
  {
   "cell_type": "markdown",
   "metadata": {},
   "source": [
    "### Considerações\n",
    "\n",
    "Podemos ver através dos gráficos anteriores, que referenciam a variável \"setor\", um total de 11 categorias que comportam 432 registros. O setor com o maior número de empresas é o \"consumo cíclico\", com 91 registro, equivalente à 21% do total, e o menor é \"comunicações\" com apenas 9 registros, equivalente à 2% do total. \n",
    "\n",
    "Dessa forma temos como medidas o valor máximo de 91, o valor mínimo de 9, a média para cada setor com 39, a mediana de 31 e um desvio padrão de 29 registros, resultando num coeficiente de variação de 74% dentro de um conjunto de dados com uma amplitude de 82 registros.\n",
    "\n",
    "De forma aparente, percebe-se um acumulo da maioria das empresas entre os 4 maiores setores (consumo cíclico, bens industriais, financeiro e utilidades públicas, consecutivamente), que comportam 295 registros de 432, ou em termos relativos, cerca de 68% do total, já os demais setores, os 7 dos 11, comportam 137 registros, em termos relativos, cerca de 32%. \n",
    "\n"
   ]
  },
  {
   "cell_type": "markdown",
   "metadata": {},
   "source": [
    "## DESCRIÇÃO DA VARIÁVEL \"SEGMENTO\""
   ]
  },
  {
   "cell_type": "code",
   "execution_count": 20,
   "metadata": {},
   "outputs": [
    {
     "data": {
      "text/html": [
       "<div>\n",
       "<style scoped>\n",
       "    .dataframe tbody tr th:only-of-type {\n",
       "        vertical-align: middle;\n",
       "    }\n",
       "\n",
       "    .dataframe tbody tr th {\n",
       "        vertical-align: top;\n",
       "    }\n",
       "\n",
       "    .dataframe thead th {\n",
       "        text-align: right;\n",
       "    }\n",
       "</style>\n",
       "<table border=\"1\" class=\"dataframe\">\n",
       "  <thead>\n",
       "    <tr style=\"text-align: right;\">\n",
       "      <th></th>\n",
       "      <th>SEGMENTO</th>\n",
       "      <th>QTD</th>\n",
       "    </tr>\n",
       "  </thead>\n",
       "  <tbody>\n",
       "    <tr>\n",
       "      <th>0</th>\n",
       "      <td>Energia Elétrica</td>\n",
       "      <td>54</td>\n",
       "    </tr>\n",
       "    <tr>\n",
       "      <th>1</th>\n",
       "      <td>Incorporações</td>\n",
       "      <td>28</td>\n",
       "    </tr>\n",
       "    <tr>\n",
       "      <th>2</th>\n",
       "      <td>Bancos</td>\n",
       "      <td>22</td>\n",
       "    </tr>\n",
       "    <tr>\n",
       "      <th>3</th>\n",
       "      <td>Outros</td>\n",
       "      <td>13</td>\n",
       "    </tr>\n",
       "    <tr>\n",
       "      <th>4</th>\n",
       "      <td>Programas e Serviços</td>\n",
       "      <td>13</td>\n",
       "    </tr>\n",
       "  </tbody>\n",
       "</table>\n",
       "</div>"
      ],
      "text/plain": [
       "               SEGMENTO  QTD\n",
       "0      Energia Elétrica   54\n",
       "1         Incorporações   28\n",
       "2                Bancos   22\n",
       "3                Outros   13\n",
       "4  Programas e Serviços   13"
      ]
     },
     "execution_count": 20,
     "metadata": {},
     "output_type": "execute_result"
    }
   ],
   "source": [
    "# Criação de tabela de frequência absoluta da variável 'segmento'\n",
    "f = df.value_counts(subset=['SEGMENTO'], sort=True, ascending=False ).rename(\"QTD\").reset_index()\n",
    "f.head()"
   ]
  },
  {
   "cell_type": "markdown",
   "metadata": {},
   "source": [
    "### Frequência"
   ]
  },
  {
   "cell_type": "code",
   "execution_count": 21,
   "metadata": {},
   "outputs": [
    {
     "name": "stderr",
     "output_type": "stream",
     "text": [
      "c:\\Users\\adria\\anaconda3\\Lib\\site-packages\\plotly\\express\\_core.py:1958: FutureWarning:\n",
      "\n",
      "The default of observed=False is deprecated and will be changed to True in a future version of pandas. Pass observed=False to retain current behavior or observed=True to adopt the future default and silence this warning.\n",
      "\n"
     ]
    },
    {
     "data": {
      "application/vnd.plotly.v1+json": {
       "config": {
        "plotlyServerURL": "https://plot.ly"
       },
       "data": [
        {
         "alignmentgroup": "True",
         "legendgroup": "Energia Elétrica",
         "marker": {
          "color": "#636efa",
          "pattern": {
           "shape": ""
          }
         },
         "name": "Energia Elétrica",
         "offsetgroup": "Energia Elétrica",
         "orientation": "h",
         "showlegend": true,
         "textposition": "auto",
         "texttemplate": "%{x}",
         "type": "bar",
         "x": [
          54
         ],
         "xaxis": "x",
         "y": [
          "Energia Elétrica"
         ],
         "yaxis": "y"
        },
        {
         "alignmentgroup": "True",
         "legendgroup": "Incorporações",
         "marker": {
          "color": "#EF553B",
          "pattern": {
           "shape": ""
          }
         },
         "name": "Incorporações",
         "offsetgroup": "Incorporações",
         "orientation": "h",
         "showlegend": true,
         "textposition": "auto",
         "texttemplate": "%{x}",
         "type": "bar",
         "x": [
          28
         ],
         "xaxis": "x",
         "y": [
          "Incorporações"
         ],
         "yaxis": "y"
        },
        {
         "alignmentgroup": "True",
         "legendgroup": "Bancos",
         "marker": {
          "color": "#00cc96",
          "pattern": {
           "shape": ""
          }
         },
         "name": "Bancos",
         "offsetgroup": "Bancos",
         "orientation": "h",
         "showlegend": true,
         "textposition": "auto",
         "texttemplate": "%{x}",
         "type": "bar",
         "x": [
          22
         ],
         "xaxis": "x",
         "y": [
          "Bancos"
         ],
         "yaxis": "y"
        },
        {
         "alignmentgroup": "True",
         "legendgroup": "Outros",
         "marker": {
          "color": "#ab63fa",
          "pattern": {
           "shape": ""
          }
         },
         "name": "Outros",
         "offsetgroup": "Outros",
         "orientation": "h",
         "showlegend": true,
         "textposition": "auto",
         "texttemplate": "%{x}",
         "type": "bar",
         "x": [
          13
         ],
         "xaxis": "x",
         "y": [
          "Outros"
         ],
         "yaxis": "y"
        },
        {
         "alignmentgroup": "True",
         "legendgroup": "Programas e Serviços",
         "marker": {
          "color": "#FFA15A",
          "pattern": {
           "shape": ""
          }
         },
         "name": "Programas e Serviços",
         "offsetgroup": "Programas e Serviços",
         "orientation": "h",
         "showlegend": true,
         "textposition": "auto",
         "texttemplate": "%{x}",
         "type": "bar",
         "x": [
          13
         ],
         "xaxis": "x",
         "y": [
          "Programas e Serviços"
         ],
         "yaxis": "y"
        },
        {
         "alignmentgroup": "True",
         "legendgroup": "Exploração de Imóveis",
         "marker": {
          "color": "#19d3f3",
          "pattern": {
           "shape": ""
          }
         },
         "name": "Exploração de Imóveis",
         "offsetgroup": "Exploração de Imóveis",
         "orientation": "h",
         "showlegend": true,
         "textposition": "auto",
         "texttemplate": "%{x}",
         "type": "bar",
         "x": [
          12
         ],
         "xaxis": "x",
         "y": [
          "Exploração de Imóveis"
         ],
         "yaxis": "y"
        },
        {
         "alignmentgroup": "True",
         "legendgroup": "Exploração de Rodovias",
         "marker": {
          "color": "#FF6692",
          "pattern": {
           "shape": ""
          }
         },
         "name": "Exploração de Rodovias",
         "offsetgroup": "Exploração de Rodovias",
         "orientation": "h",
         "showlegend": true,
         "textposition": "auto",
         "texttemplate": "%{x}",
         "type": "bar",
         "x": [
          11
         ],
         "xaxis": "x",
         "y": [
          "Exploração de Rodovias"
         ],
         "yaxis": "y"
        },
        {
         "alignmentgroup": "True",
         "legendgroup": "Agricultura",
         "marker": {
          "color": "#B6E880",
          "pattern": {
           "shape": ""
          }
         },
         "name": "Agricultura",
         "offsetgroup": "Agricultura",
         "orientation": "h",
         "showlegend": true,
         "textposition": "auto",
         "texttemplate": "%{x}",
         "type": "bar",
         "x": [
          11
         ],
         "xaxis": "x",
         "y": [
          "Agricultura"
         ],
         "yaxis": "y"
        },
        {
         "alignmentgroup": "True",
         "legendgroup": "Medicamentos e Outros Produtos",
         "marker": {
          "color": "#FF97FF",
          "pattern": {
           "shape": ""
          }
         },
         "name": "Medicamentos e Outros Produtos",
         "offsetgroup": "Medicamentos e Outros Produtos",
         "orientation": "h",
         "showlegend": true,
         "textposition": "auto",
         "texttemplate": "%{x}",
         "type": "bar",
         "x": [
          11
         ],
         "xaxis": "x",
         "y": [
          "Medicamentos e Outros Produtos"
         ],
         "yaxis": "y"
        },
        {
         "alignmentgroup": "True",
         "legendgroup": "Máq. e Equip. Industriais",
         "marker": {
          "color": "#FECB52",
          "pattern": {
           "shape": ""
          }
         },
         "name": "Máq. e Equip. Industriais",
         "offsetgroup": "Máq. e Equip. Industriais",
         "orientation": "h",
         "showlegend": true,
         "textposition": "auto",
         "texttemplate": "%{x}",
         "type": "bar",
         "x": [
          11
         ],
         "xaxis": "x",
         "y": [
          "Máq. e Equip. Industriais"
         ],
         "yaxis": "y"
        },
        {
         "alignmentgroup": "True",
         "legendgroup": "Serviços Médico - Hospitalares, Análises e Diagnósticos",
         "marker": {
          "color": "#636efa",
          "pattern": {
           "shape": ""
          }
         },
         "name": "Serviços Médico - Hospitalares, Análises e Diagnósticos",
         "offsetgroup": "Serviços Médico - Hospitalares, Análises e Diagnósticos",
         "orientation": "h",
         "showlegend": true,
         "textposition": "auto",
         "texttemplate": "%{x}",
         "type": "bar",
         "x": [
          10
         ],
         "xaxis": "x",
         "y": [
          "Serviços Médico - Hospitalares, Análises e Diagnósticos"
         ],
         "yaxis": "y"
        },
        {
         "alignmentgroup": "True",
         "legendgroup": "Fios e Tecidos",
         "marker": {
          "color": "#EF553B",
          "pattern": {
           "shape": ""
          }
         },
         "name": "Fios e Tecidos",
         "offsetgroup": "Fios e Tecidos",
         "orientation": "h",
         "showlegend": true,
         "textposition": "auto",
         "texttemplate": "%{x}",
         "type": "bar",
         "x": [
          10
         ],
         "xaxis": "x",
         "y": [
          "Fios e Tecidos"
         ],
         "yaxis": "y"
        },
        {
         "alignmentgroup": "True",
         "legendgroup": "Exploração, Refino e Distribuição",
         "marker": {
          "color": "#00cc96",
          "pattern": {
           "shape": ""
          }
         },
         "name": "Exploração, Refino e Distribuição",
         "offsetgroup": "Exploração, Refino e Distribuição",
         "orientation": "h",
         "showlegend": true,
         "textposition": "auto",
         "texttemplate": "%{x}",
         "type": "bar",
         "x": [
          10
         ],
         "xaxis": "x",
         "y": [
          "Exploração, Refino e Distribuição"
         ],
         "yaxis": "y"
        },
        {
         "alignmentgroup": "True",
         "legendgroup": "Serviços Diversos",
         "marker": {
          "color": "#ab63fa",
          "pattern": {
           "shape": ""
          }
         },
         "name": "Serviços Diversos",
         "offsetgroup": "Serviços Diversos",
         "orientation": "h",
         "showlegend": true,
         "textposition": "auto",
         "texttemplate": "%{x}",
         "type": "bar",
         "x": [
          8
         ],
         "xaxis": "x",
         "y": [
          "Serviços Diversos"
         ],
         "yaxis": "y"
        },
        {
         "alignmentgroup": "True",
         "legendgroup": "Tecidos, Vestuário e Calçados",
         "marker": {
          "color": "#FFA15A",
          "pattern": {
           "shape": ""
          }
         },
         "name": "Tecidos, Vestuário e Calçados",
         "offsetgroup": "Tecidos, Vestuário e Calçados",
         "orientation": "h",
         "showlegend": true,
         "textposition": "auto",
         "texttemplate": "%{x}",
         "type": "bar",
         "x": [
          8
         ],
         "xaxis": "x",
         "y": [
          "Tecidos, Vestuário e Calçados"
         ],
         "yaxis": "y"
        },
        {
         "alignmentgroup": "True",
         "legendgroup": "Telecomunicações",
         "marker": {
          "color": "#19d3f3",
          "pattern": {
           "shape": ""
          }
         },
         "name": "Telecomunicações",
         "offsetgroup": "Telecomunicações",
         "orientation": "h",
         "showlegend": true,
         "textposition": "auto",
         "texttemplate": "%{x}",
         "type": "bar",
         "x": [
          8
         ],
         "xaxis": "x",
         "y": [
          "Telecomunicações"
         ],
         "yaxis": "y"
        },
        {
         "alignmentgroup": "True",
         "legendgroup": "Água e Saneamento",
         "marker": {
          "color": "#FF6692",
          "pattern": {
           "shape": ""
          }
         },
         "name": "Água e Saneamento",
         "offsetgroup": "Água e Saneamento",
         "orientation": "h",
         "showlegend": true,
         "textposition": "auto",
         "texttemplate": "%{x}",
         "type": "bar",
         "x": [
          8
         ],
         "xaxis": "x",
         "y": [
          "Água e Saneamento"
         ],
         "yaxis": "y"
        },
        {
         "alignmentgroup": "True",
         "legendgroup": "Serviços Financeiros Diversos",
         "marker": {
          "color": "#B6E880",
          "pattern": {
           "shape": ""
          }
         },
         "name": "Serviços Financeiros Diversos",
         "offsetgroup": "Serviços Financeiros Diversos",
         "orientation": "h",
         "showlegend": true,
         "textposition": "auto",
         "texttemplate": "%{x}",
         "type": "bar",
         "x": [
          7
         ],
         "xaxis": "x",
         "y": [
          "Serviços Financeiros Diversos"
         ],
         "yaxis": "y"
        },
        {
         "alignmentgroup": "True",
         "legendgroup": "Minerais Metálicos",
         "marker": {
          "color": "#FF97FF",
          "pattern": {
           "shape": ""
          }
         },
         "name": "Minerais Metálicos",
         "offsetgroup": "Minerais Metálicos",
         "orientation": "h",
         "showlegend": true,
         "textposition": "auto",
         "texttemplate": "%{x}",
         "type": "bar",
         "x": [
          7
         ],
         "xaxis": "x",
         "y": [
          "Minerais Metálicos"
         ],
         "yaxis": "y"
        },
        {
         "alignmentgroup": "True",
         "legendgroup": "Serviços de Apoio e Armazenagem",
         "marker": {
          "color": "#FECB52",
          "pattern": {
           "shape": ""
          }
         },
         "name": "Serviços de Apoio e Armazenagem",
         "offsetgroup": "Serviços de Apoio e Armazenagem",
         "orientation": "h",
         "showlegend": true,
         "textposition": "auto",
         "texttemplate": "%{x}",
         "type": "bar",
         "x": [
          7
         ],
         "xaxis": "x",
         "y": [
          "Serviços de Apoio e Armazenagem"
         ],
         "yaxis": "y"
        },
        {
         "alignmentgroup": "True",
         "legendgroup": "Material Rodoviário",
         "marker": {
          "color": "#636efa",
          "pattern": {
           "shape": ""
          }
         },
         "name": "Material Rodoviário",
         "offsetgroup": "Material Rodoviário",
         "orientation": "h",
         "showlegend": true,
         "textposition": "auto",
         "texttemplate": "%{x}",
         "type": "bar",
         "x": [
          7
         ],
         "xaxis": "x",
         "y": [
          "Material Rodoviário"
         ],
         "yaxis": "y"
        },
        {
         "alignmentgroup": "True",
         "legendgroup": "Serviços Educacionais",
         "marker": {
          "color": "#EF553B",
          "pattern": {
           "shape": ""
          }
         },
         "name": "Serviços Educacionais",
         "offsetgroup": "Serviços Educacionais",
         "orientation": "h",
         "showlegend": true,
         "textposition": "auto",
         "texttemplate": "%{x}",
         "type": "bar",
         "x": [
          6
         ],
         "xaxis": "x",
         "y": [
          "Serviços Educacionais"
         ],
         "yaxis": "y"
        },
        {
         "alignmentgroup": "True",
         "legendgroup": "Produtos Diversos",
         "marker": {
          "color": "#00cc96",
          "pattern": {
           "shape": ""
          }
         },
         "name": "Produtos Diversos",
         "offsetgroup": "Produtos Diversos",
         "orientation": "h",
         "showlegend": true,
         "textposition": "auto",
         "texttemplate": "%{x}",
         "type": "bar",
         "x": [
          6
         ],
         "xaxis": "x",
         "y": [
          "Produtos Diversos"
         ],
         "yaxis": "y"
        },
        {
         "alignmentgroup": "True",
         "legendgroup": "Carnes e Derivados",
         "marker": {
          "color": "#ab63fa",
          "pattern": {
           "shape": ""
          }
         },
         "name": "Carnes e Derivados",
         "offsetgroup": "Carnes e Derivados",
         "orientation": "h",
         "showlegend": true,
         "textposition": "auto",
         "texttemplate": "%{x}",
         "type": "bar",
         "x": [
          6
         ],
         "xaxis": "x",
         "y": [
          "Carnes e Derivados"
         ],
         "yaxis": "y"
        },
        {
         "alignmentgroup": "True",
         "legendgroup": "Gestão de Recursos e Investimentos",
         "marker": {
          "color": "#FFA15A",
          "pattern": {
           "shape": ""
          }
         },
         "name": "Gestão de Recursos e Investimentos",
         "offsetgroup": "Gestão de Recursos e Investimentos",
         "orientation": "h",
         "showlegend": true,
         "textposition": "auto",
         "texttemplate": "%{x}",
         "type": "bar",
         "x": [
          5
         ],
         "xaxis": "x",
         "y": [
          "Gestão de Recursos e Investimentos"
         ],
         "yaxis": "y"
        },
        {
         "alignmentgroup": "True",
         "legendgroup": "Siderurgia",
         "marker": {
          "color": "#19d3f3",
          "pattern": {
           "shape": ""
          }
         },
         "name": "Siderurgia",
         "offsetgroup": "Siderurgia",
         "orientation": "h",
         "showlegend": true,
         "textposition": "auto",
         "texttemplate": "%{x}",
         "type": "bar",
         "x": [
          5
         ],
         "xaxis": "x",
         "y": [
          "Siderurgia"
         ],
         "yaxis": "y"
        },
        {
         "alignmentgroup": "True",
         "legendgroup": "Transporte Ferroviário",
         "marker": {
          "color": "#FF6692",
          "pattern": {
           "shape": ""
          }
         },
         "name": "Transporte Ferroviário",
         "offsetgroup": "Transporte Ferroviário",
         "orientation": "h",
         "showlegend": true,
         "textposition": "auto",
         "texttemplate": "%{x}",
         "type": "bar",
         "x": [
          5
         ],
         "xaxis": "x",
         "y": [
          "Transporte Ferroviário"
         ],
         "yaxis": "y"
        },
        {
         "alignmentgroup": "True",
         "legendgroup": "Alimentos",
         "marker": {
          "color": "#B6E880",
          "pattern": {
           "shape": ""
          }
         },
         "name": "Alimentos",
         "offsetgroup": "Alimentos",
         "orientation": "h",
         "showlegend": true,
         "textposition": "auto",
         "texttemplate": "%{x}",
         "type": "bar",
         "x": [
          5
         ],
         "xaxis": "x",
         "y": [
          "Alimentos"
         ],
         "yaxis": "y"
        },
        {
         "alignmentgroup": "True",
         "legendgroup": "Material de Transporte",
         "marker": {
          "color": "#FF97FF",
          "pattern": {
           "shape": ""
          }
         },
         "name": "Material de Transporte",
         "offsetgroup": "Material de Transporte",
         "orientation": "h",
         "showlegend": true,
         "textposition": "auto",
         "texttemplate": "%{x}",
         "type": "bar",
         "x": [
          4
         ],
         "xaxis": "x",
         "y": [
          "Material de Transporte"
         ],
         "yaxis": "y"
        },
        {
         "alignmentgroup": "True",
         "legendgroup": "Seguradoras",
         "marker": {
          "color": "#FECB52",
          "pattern": {
           "shape": ""
          }
         },
         "name": "Seguradoras",
         "offsetgroup": "Seguradoras",
         "orientation": "h",
         "showlegend": true,
         "textposition": "auto",
         "texttemplate": "%{x}",
         "type": "bar",
         "x": [
          4
         ],
         "xaxis": "x",
         "y": [
          "Seguradoras"
         ],
         "yaxis": "y"
        },
        {
         "alignmentgroup": "True",
         "legendgroup": "Aluguel de carros",
         "marker": {
          "color": "#636efa",
          "pattern": {
           "shape": ""
          }
         },
         "name": "Aluguel de carros",
         "offsetgroup": "Aluguel de carros",
         "orientation": "h",
         "showlegend": true,
         "textposition": "auto",
         "texttemplate": "%{x}",
         "type": "bar",
         "x": [
          4
         ],
         "xaxis": "x",
         "y": [
          "Aluguel de carros"
         ],
         "yaxis": "y"
        },
        {
         "alignmentgroup": "True",
         "legendgroup": "Calçados",
         "marker": {
          "color": "#EF553B",
          "pattern": {
           "shape": ""
          }
         },
         "name": "Calçados",
         "offsetgroup": "Calçados",
         "orientation": "h",
         "showlegend": true,
         "textposition": "auto",
         "texttemplate": "%{x}",
         "type": "bar",
         "x": [
          4
         ],
         "xaxis": "x",
         "y": [
          "Calçados"
         ],
         "yaxis": "y"
        },
        {
         "alignmentgroup": "True",
         "legendgroup": "Papel e Celulose",
         "marker": {
          "color": "#00cc96",
          "pattern": {
           "shape": ""
          }
         },
         "name": "Papel e Celulose",
         "offsetgroup": "Papel e Celulose",
         "orientation": "h",
         "showlegend": true,
         "textposition": "auto",
         "texttemplate": "%{x}",
         "type": "bar",
         "x": [
          4
         ],
         "xaxis": "x",
         "y": [
          "Papel e Celulose"
         ],
         "yaxis": "y"
        },
        {
         "alignmentgroup": "True",
         "legendgroup": "Eletrodomésticos",
         "marker": {
          "color": "#ab63fa",
          "pattern": {
           "shape": ""
          }
         },
         "name": "Eletrodomésticos",
         "offsetgroup": "Eletrodomésticos",
         "orientation": "h",
         "showlegend": true,
         "textposition": "auto",
         "texttemplate": "%{x}",
         "type": "bar",
         "x": [
          4
         ],
         "xaxis": "x",
         "y": [
          "Eletrodomésticos"
         ],
         "yaxis": "y"
        },
        {
         "alignmentgroup": "True",
         "legendgroup": "Alimentos Diversos",
         "marker": {
          "color": "#FFA15A",
          "pattern": {
           "shape": ""
          }
         },
         "name": "Alimentos Diversos",
         "offsetgroup": "Alimentos Diversos",
         "orientation": "h",
         "showlegend": true,
         "textposition": "auto",
         "texttemplate": "%{x}",
         "type": "bar",
         "x": [
          4
         ],
         "xaxis": "x",
         "y": [
          "Alimentos Diversos"
         ],
         "yaxis": "y"
        },
        {
         "alignmentgroup": "True",
         "legendgroup": "Móveis",
         "marker": {
          "color": "#19d3f3",
          "pattern": {
           "shape": ""
          }
         },
         "name": "Móveis",
         "offsetgroup": "Móveis",
         "orientation": "h",
         "showlegend": true,
         "textposition": "auto",
         "texttemplate": "%{x}",
         "type": "bar",
         "x": [
          3
         ],
         "xaxis": "x",
         "y": [
          "Móveis"
         ],
         "yaxis": "y"
        },
        {
         "alignmentgroup": "True",
         "legendgroup": "Açucar e Alcool",
         "marker": {
          "color": "#FF6692",
          "pattern": {
           "shape": ""
          }
         },
         "name": "Açucar e Alcool",
         "offsetgroup": "Açucar e Alcool",
         "orientation": "h",
         "showlegend": true,
         "textposition": "auto",
         "texttemplate": "%{x}",
         "type": "bar",
         "x": [
          3
         ],
         "xaxis": "x",
         "y": [
          "Açucar e Alcool"
         ],
         "yaxis": "y"
        },
        {
         "alignmentgroup": "True",
         "legendgroup": "Securitizadoras de Recebíveis",
         "marker": {
          "color": "#B6E880",
          "pattern": {
           "shape": ""
          }
         },
         "name": "Securitizadoras de Recebíveis",
         "offsetgroup": "Securitizadoras de Recebíveis",
         "orientation": "h",
         "showlegend": true,
         "textposition": "auto",
         "texttemplate": "%{x}",
         "type": "bar",
         "x": [
          3
         ],
         "xaxis": "x",
         "y": [
          "Securitizadoras de Recebíveis"
         ],
         "yaxis": "y"
        },
        {
         "alignmentgroup": "True",
         "legendgroup": "Automóveis e Motocicletas",
         "marker": {
          "color": "#FF97FF",
          "pattern": {
           "shape": ""
          }
         },
         "name": "Automóveis e Motocicletas",
         "offsetgroup": "Automóveis e Motocicletas",
         "orientation": "h",
         "showlegend": true,
         "textposition": "auto",
         "texttemplate": "%{x}",
         "type": "bar",
         "x": [
          3
         ],
         "xaxis": "x",
         "y": [
          "Automóveis e Motocicletas"
         ],
         "yaxis": "y"
        },
        {
         "alignmentgroup": "True",
         "legendgroup": "Outros Títulos",
         "marker": {
          "color": "#FECB52",
          "pattern": {
           "shape": ""
          }
         },
         "name": "Outros Títulos",
         "offsetgroup": "Outros Títulos",
         "orientation": "h",
         "showlegend": true,
         "textposition": "auto",
         "texttemplate": "%{x}",
         "type": "bar",
         "x": [
          3
         ],
         "xaxis": "x",
         "y": [
          "Outros Títulos"
         ],
         "yaxis": "y"
        },
        {
         "alignmentgroup": "True",
         "legendgroup": "Acessórios",
         "marker": {
          "color": "#636efa",
          "pattern": {
           "shape": ""
          }
         },
         "name": "Acessórios",
         "offsetgroup": "Acessórios",
         "orientation": "h",
         "showlegend": true,
         "textposition": "auto",
         "texttemplate": "%{x}",
         "type": "bar",
         "x": [
          3
         ],
         "xaxis": "x",
         "y": [
          "Acessórios"
         ],
         "yaxis": "y"
        },
        {
         "alignmentgroup": "True",
         "legendgroup": "Artefatos de Ferro e Aço",
         "marker": {
          "color": "#EF553B",
          "pattern": {
           "shape": ""
          }
         },
         "name": "Artefatos de Ferro e Aço",
         "offsetgroup": "Artefatos de Ferro e Aço",
         "orientation": "h",
         "showlegend": true,
         "textposition": "auto",
         "texttemplate": "%{x}",
         "type": "bar",
         "x": [
          3
         ],
         "xaxis": "x",
         "y": [
          "Artefatos de Ferro e Aço"
         ],
         "yaxis": "y"
        },
        {
         "alignmentgroup": "True",
         "legendgroup": "Produtos para Construção",
         "marker": {
          "color": "#00cc96",
          "pattern": {
           "shape": ""
          }
         },
         "name": "Produtos para Construção",
         "offsetgroup": "Produtos para Construção",
         "orientation": "h",
         "showlegend": true,
         "textposition": "auto",
         "texttemplate": "%{x}",
         "type": "bar",
         "x": [
          3
         ],
         "xaxis": "x",
         "y": [
          "Produtos para Construção"
         ],
         "yaxis": "y"
        },
        {
         "alignmentgroup": "True",
         "legendgroup": "Soc. Crédito e Financiamento",
         "marker": {
          "color": "#ab63fa",
          "pattern": {
           "shape": ""
          }
         },
         "name": "Soc. Crédito e Financiamento",
         "offsetgroup": "Soc. Crédito e Financiamento",
         "orientation": "h",
         "showlegend": true,
         "textposition": "auto",
         "texttemplate": "%{x}",
         "type": "bar",
         "x": [
          3
         ],
         "xaxis": "x",
         "y": [
          "Soc. Crédito e Financiamento"
         ],
         "yaxis": "y"
        },
        {
         "alignmentgroup": "True",
         "legendgroup": "Holdings Diversificadas",
         "marker": {
          "color": "#FFA15A",
          "pattern": {
           "shape": ""
          }
         },
         "name": "Holdings Diversificadas",
         "offsetgroup": "Holdings Diversificadas",
         "orientation": "h",
         "showlegend": true,
         "textposition": "auto",
         "texttemplate": "%{x}",
         "type": "bar",
         "x": [
          3
         ],
         "xaxis": "x",
         "y": [
          "Holdings Diversificadas"
         ],
         "yaxis": "y"
        },
        {
         "alignmentgroup": "True",
         "legendgroup": "Gás",
         "marker": {
          "color": "#19d3f3",
          "pattern": {
           "shape": ""
          }
         },
         "name": "Gás",
         "offsetgroup": "Gás",
         "orientation": "h",
         "showlegend": true,
         "textposition": "auto",
         "texttemplate": "%{x}",
         "type": "bar",
         "x": [
          3
         ],
         "xaxis": "x",
         "y": [
          "Gás"
         ],
         "yaxis": "y"
        },
        {
         "alignmentgroup": "True",
         "legendgroup": "Fertilizantes e Defensivos",
         "marker": {
          "color": "#FF6692",
          "pattern": {
           "shape": ""
          }
         },
         "name": "Fertilizantes e Defensivos",
         "offsetgroup": "Fertilizantes e Defensivos",
         "orientation": "h",
         "showlegend": true,
         "textposition": "auto",
         "texttemplate": "%{x}",
         "type": "bar",
         "x": [
          3
         ],
         "xaxis": "x",
         "y": [
          "Fertilizantes e Defensivos"
         ],
         "yaxis": "y"
        },
        {
         "alignmentgroup": "True",
         "legendgroup": "Computadores e Equipamentos",
         "marker": {
          "color": "#B6E880",
          "pattern": {
           "shape": ""
          }
         },
         "name": "Computadores e Equipamentos",
         "offsetgroup": "Computadores e Equipamentos",
         "orientation": "h",
         "showlegend": true,
         "textposition": "auto",
         "texttemplate": "%{x}",
         "type": "bar",
         "x": [
          3
         ],
         "xaxis": "x",
         "y": [
          "Computadores e Equipamentos"
         ],
         "yaxis": "y"
        },
        {
         "alignmentgroup": "True",
         "legendgroup": "Equipamentos e Serviços",
         "marker": {
          "color": "#FF97FF",
          "pattern": {
           "shape": ""
          }
         },
         "name": "Equipamentos e Serviços",
         "offsetgroup": "Equipamentos e Serviços",
         "orientation": "h",
         "showlegend": true,
         "textposition": "auto",
         "texttemplate": "%{x}",
         "type": "bar",
         "x": [
          3
         ],
         "xaxis": "x",
         "y": [
          "Equipamentos e Serviços"
         ],
         "yaxis": "y"
        },
        {
         "alignmentgroup": "True",
         "legendgroup": "Transporte Hidroviário",
         "marker": {
          "color": "#FECB52",
          "pattern": {
           "shape": ""
          }
         },
         "name": "Transporte Hidroviário",
         "offsetgroup": "Transporte Hidroviário",
         "orientation": "h",
         "showlegend": true,
         "textposition": "auto",
         "texttemplate": "%{x}",
         "type": "bar",
         "x": [
          3
         ],
         "xaxis": "x",
         "y": [
          "Transporte Hidroviário"
         ],
         "yaxis": "y"
        },
        {
         "alignmentgroup": "True",
         "legendgroup": "Soc. Arrendamento Mercantil",
         "marker": {
          "color": "#636efa",
          "pattern": {
           "shape": ""
          }
         },
         "name": "Soc. Arrendamento Mercantil",
         "offsetgroup": "Soc. Arrendamento Mercantil",
         "orientation": "h",
         "showlegend": true,
         "textposition": "auto",
         "texttemplate": "%{x}",
         "type": "bar",
         "x": [
          2
         ],
         "xaxis": "x",
         "y": [
          "Soc. Arrendamento Mercantil"
         ],
         "yaxis": "y"
        },
        {
         "alignmentgroup": "True",
         "legendgroup": "Restaurante e Similares",
         "marker": {
          "color": "#EF553B",
          "pattern": {
           "shape": ""
          }
         },
         "name": "Restaurante e Similares",
         "offsetgroup": "Restaurante e Similares",
         "orientation": "h",
         "showlegend": true,
         "textposition": "auto",
         "texttemplate": "%{x}",
         "type": "bar",
         "x": [
          2
         ],
         "xaxis": "x",
         "y": [
          "Restaurante e Similares"
         ],
         "yaxis": "y"
        },
        {
         "alignmentgroup": "True",
         "legendgroup": "Químicos Diversos",
         "marker": {
          "color": "#00cc96",
          "pattern": {
           "shape": ""
          }
         },
         "name": "Químicos Diversos",
         "offsetgroup": "Químicos Diversos",
         "orientation": "h",
         "showlegend": true,
         "textposition": "auto",
         "texttemplate": "%{x}",
         "type": "bar",
         "x": [
          2
         ],
         "xaxis": "x",
         "y": [
          "Químicos Diversos"
         ],
         "yaxis": "y"
        },
        {
         "alignmentgroup": "True",
         "legendgroup": "Transporte Rodoviário",
         "marker": {
          "color": "#ab63fa",
          "pattern": {
           "shape": ""
          }
         },
         "name": "Transporte Rodoviário",
         "offsetgroup": "Transporte Rodoviário",
         "orientation": "h",
         "showlegend": true,
         "textposition": "auto",
         "texttemplate": "%{x}",
         "type": "bar",
         "x": [
          2
         ],
         "xaxis": "x",
         "y": [
          "Transporte Rodoviário"
         ],
         "yaxis": "y"
        },
        {
         "alignmentgroup": "True",
         "legendgroup": "Produção de Eventos e Shows",
         "marker": {
          "color": "#FFA15A",
          "pattern": {
           "shape": ""
          }
         },
         "name": "Produção de Eventos e Shows",
         "offsetgroup": "Produção de Eventos e Shows",
         "orientation": "h",
         "showlegend": true,
         "textposition": "auto",
         "texttemplate": "%{x}",
         "type": "bar",
         "x": [
          2
         ],
         "xaxis": "x",
         "y": [
          "Produção de Eventos e Shows"
         ],
         "yaxis": "y"
        },
        {
         "alignmentgroup": "True",
         "legendgroup": "Petroquímicos",
         "marker": {
          "color": "#19d3f3",
          "pattern": {
           "shape": ""
          }
         },
         "name": "Petroquímicos",
         "offsetgroup": "Petroquímicos",
         "orientation": "h",
         "showlegend": true,
         "textposition": "auto",
         "texttemplate": "%{x}",
         "type": "bar",
         "x": [
          2
         ],
         "xaxis": "x",
         "y": [
          "Petroquímicos"
         ],
         "yaxis": "y"
        },
        {
         "alignmentgroup": "True",
         "legendgroup": "Madeira",
         "marker": {
          "color": "#FF6692",
          "pattern": {
           "shape": ""
          }
         },
         "name": "Madeira",
         "offsetgroup": "Madeira",
         "orientation": "h",
         "showlegend": true,
         "textposition": "auto",
         "texttemplate": "%{x}",
         "type": "bar",
         "x": [
          2
         ],
         "xaxis": "x",
         "y": [
          "Madeira"
         ],
         "yaxis": "y"
        },
        {
         "alignmentgroup": "True",
         "legendgroup": "Equipamentos",
         "marker": {
          "color": "#B6E880",
          "pattern": {
           "shape": ""
          }
         },
         "name": "Equipamentos",
         "offsetgroup": "Equipamentos",
         "orientation": "h",
         "showlegend": true,
         "textposition": "auto",
         "texttemplate": "%{x}",
         "type": "bar",
         "x": [
          2
         ],
         "xaxis": "x",
         "y": [
          "Equipamentos"
         ],
         "yaxis": "y"
        },
        {
         "alignmentgroup": "True",
         "legendgroup": "Motores, Compressores e Outros",
         "marker": {
          "color": "#FF97FF",
          "pattern": {
           "shape": ""
          }
         },
         "name": "Motores, Compressores e Outros",
         "offsetgroup": "Motores, Compressores e Outros",
         "orientation": "h",
         "showlegend": true,
         "textposition": "auto",
         "texttemplate": "%{x}",
         "type": "bar",
         "x": [
          2
         ],
         "xaxis": "x",
         "y": [
          "Motores, Compressores e Outros"
         ],
         "yaxis": "y"
        },
        {
         "alignmentgroup": "True",
         "legendgroup": "Corretoras de Seguros e Resseguros",
         "marker": {
          "color": "#FECB52",
          "pattern": {
           "shape": ""
          }
         },
         "name": "Corretoras de Seguros e Resseguros",
         "offsetgroup": "Corretoras de Seguros e Resseguros",
         "orientation": "h",
         "showlegend": true,
         "textposition": "auto",
         "texttemplate": "%{x}",
         "type": "bar",
         "x": [
          2
         ],
         "xaxis": "x",
         "y": [
          "Corretoras de Seguros e Resseguros"
         ],
         "yaxis": "y"
        },
        {
         "alignmentgroup": "True",
         "legendgroup": "Intermediação Imobiliária",
         "marker": {
          "color": "#636efa",
          "pattern": {
           "shape": ""
          }
         },
         "name": "Intermediação Imobiliária",
         "offsetgroup": "Intermediação Imobiliária",
         "orientation": "h",
         "showlegend": true,
         "textposition": "auto",
         "texttemplate": "%{x}",
         "type": "bar",
         "x": [
          2
         ],
         "xaxis": "x",
         "y": [
          "Intermediação Imobiliária"
         ],
         "yaxis": "y"
        },
        {
         "alignmentgroup": "True",
         "legendgroup": "Linhas Aéreas de Passageiros",
         "marker": {
          "color": "#EF553B",
          "pattern": {
           "shape": ""
          }
         },
         "name": "Linhas Aéreas de Passageiros",
         "offsetgroup": "Linhas Aéreas de Passageiros",
         "orientation": "h",
         "showlegend": true,
         "textposition": "auto",
         "texttemplate": "%{x}",
         "type": "bar",
         "x": [
          2
         ],
         "xaxis": "x",
         "y": [
          "Linhas Aéreas de Passageiros"
         ],
         "yaxis": "y"
        },
        {
         "alignmentgroup": "True",
         "legendgroup": "Produtos de Limpeza",
         "marker": {
          "color": "#00cc96",
          "pattern": {
           "shape": ""
          }
         },
         "name": "Produtos de Limpeza",
         "offsetgroup": "Produtos de Limpeza",
         "orientation": "h",
         "showlegend": true,
         "textposition": "auto",
         "texttemplate": "%{x}",
         "type": "bar",
         "x": [
          1
         ],
         "xaxis": "x",
         "y": [
          "Produtos de Limpeza"
         ],
         "yaxis": "y"
        },
        {
         "alignmentgroup": "True",
         "legendgroup": "Viagens e Turismo",
         "marker": {
          "color": "#ab63fa",
          "pattern": {
           "shape": ""
          }
         },
         "name": "Viagens e Turismo",
         "offsetgroup": "Viagens e Turismo",
         "orientation": "h",
         "showlegend": true,
         "textposition": "auto",
         "texttemplate": "%{x}",
         "type": "bar",
         "x": [
          1
         ],
         "xaxis": "x",
         "y": [
          "Viagens e Turismo"
         ],
         "yaxis": "y"
        },
        {
         "alignmentgroup": "True",
         "legendgroup": "Vestuário",
         "marker": {
          "color": "#FFA15A",
          "pattern": {
           "shape": ""
          }
         },
         "name": "Vestuário",
         "offsetgroup": "Vestuário",
         "orientation": "h",
         "showlegend": true,
         "textposition": "auto",
         "texttemplate": "%{x}",
         "type": "bar",
         "x": [
          1
         ],
         "xaxis": "x",
         "y": [
          "Vestuário"
         ],
         "yaxis": "y"
        },
        {
         "alignmentgroup": "True",
         "legendgroup": "Utensílios Domésticos",
         "marker": {
          "color": "#19d3f3",
          "pattern": {
           "shape": ""
          }
         },
         "name": "Utensílios Domésticos",
         "offsetgroup": "Utensílios Domésticos",
         "orientation": "h",
         "showlegend": true,
         "textposition": "auto",
         "texttemplate": "%{x}",
         "type": "bar",
         "x": [
          1
         ],
         "xaxis": "x",
         "y": [
          "Utensílios Domésticos"
         ],
         "yaxis": "y"
        },
        {
         "alignmentgroup": "True",
         "legendgroup": "Engenharia Consultiva",
         "marker": {
          "color": "#FF6692",
          "pattern": {
           "shape": ""
          }
         },
         "name": "Engenharia Consultiva",
         "offsetgroup": "Engenharia Consultiva",
         "orientation": "h",
         "showlegend": true,
         "textposition": "auto",
         "texttemplate": "%{x}",
         "type": "bar",
         "x": [
          1
         ],
         "xaxis": "x",
         "y": [
          "Engenharia Consultiva"
         ],
         "yaxis": "y"
        },
        {
         "alignmentgroup": "True",
         "legendgroup": "Construção Pesada",
         "marker": {
          "color": "#B6E880",
          "pattern": {
           "shape": ""
          }
         },
         "name": "Construção Pesada",
         "offsetgroup": "Construção Pesada",
         "orientation": "h",
         "showlegend": true,
         "textposition": "auto",
         "texttemplate": "%{x}",
         "type": "bar",
         "x": [
          1
         ],
         "xaxis": "x",
         "y": [
          "Construção Pesada"
         ],
         "yaxis": "y"
        },
        {
         "alignmentgroup": "True",
         "legendgroup": "Cervejas e Refrigerantes",
         "marker": {
          "color": "#FF97FF",
          "pattern": {
           "shape": ""
          }
         },
         "name": "Cervejas e Refrigerantes",
         "offsetgroup": "Cervejas e Refrigerantes",
         "orientation": "h",
         "showlegend": true,
         "textposition": "auto",
         "texttemplate": "%{x}",
         "type": "bar",
         "x": [
          1
         ],
         "xaxis": "x",
         "y": [
          "Cervejas e Refrigerantes"
         ],
         "yaxis": "y"
        },
        {
         "alignmentgroup": "True",
         "legendgroup": "Hotelaria",
         "marker": {
          "color": "#FECB52",
          "pattern": {
           "shape": ""
          }
         },
         "name": "Hotelaria",
         "offsetgroup": "Hotelaria",
         "orientation": "h",
         "showlegend": true,
         "textposition": "auto",
         "texttemplate": "%{x}",
         "type": "bar",
         "x": [
          1
         ],
         "xaxis": "x",
         "y": [
          "Hotelaria"
         ],
         "yaxis": "y"
        },
        {
         "alignmentgroup": "True",
         "legendgroup": "Armas e Munições",
         "marker": {
          "color": "#636efa",
          "pattern": {
           "shape": ""
          }
         },
         "name": "Armas e Munições",
         "offsetgroup": "Armas e Munições",
         "orientation": "h",
         "showlegend": true,
         "textposition": "auto",
         "texttemplate": "%{x}",
         "type": "bar",
         "x": [
          1
         ],
         "xaxis": "x",
         "y": [
          "Armas e Munições"
         ],
         "yaxis": "y"
        },
        {
         "alignmentgroup": "True",
         "legendgroup": "Produtos de Cuidado Pessoal",
         "marker": {
          "color": "#EF553B",
          "pattern": {
           "shape": ""
          }
         },
         "name": "Produtos de Cuidado Pessoal",
         "offsetgroup": "Produtos de Cuidado Pessoal",
         "orientation": "h",
         "showlegend": true,
         "textposition": "auto",
         "texttemplate": "%{x}",
         "type": "bar",
         "x": [
          1
         ],
         "xaxis": "x",
         "y": [
          "Produtos de Cuidado Pessoal"
         ],
         "yaxis": "y"
        },
        {
         "alignmentgroup": "True",
         "legendgroup": "Artefatos de Cobre",
         "marker": {
          "color": "#00cc96",
          "pattern": {
           "shape": ""
          }
         },
         "name": "Artefatos de Cobre",
         "offsetgroup": "Artefatos de Cobre",
         "orientation": "h",
         "showlegend": true,
         "textposition": "auto",
         "texttemplate": "%{x}",
         "type": "bar",
         "x": [
          1
         ],
         "xaxis": "x",
         "y": [
          "Artefatos de Cobre"
         ],
         "yaxis": "y"
        },
        {
         "alignmentgroup": "True",
         "legendgroup": "Materiais Diversos",
         "marker": {
          "color": "#ab63fa",
          "pattern": {
           "shape": ""
          }
         },
         "name": "Materiais Diversos",
         "offsetgroup": "Materiais Diversos",
         "orientation": "h",
         "showlegend": true,
         "textposition": "auto",
         "texttemplate": "%{x}",
         "type": "bar",
         "x": [
          1
         ],
         "xaxis": "x",
         "y": [
          "Materiais Diversos"
         ],
         "yaxis": "y"
        },
        {
         "alignmentgroup": "True",
         "legendgroup": "Material Aeronáutico e de Defesa",
         "marker": {
          "color": "#FFA15A",
          "pattern": {
           "shape": ""
          }
         },
         "name": "Material Aeronáutico e de Defesa",
         "offsetgroup": "Material Aeronáutico e de Defesa",
         "orientation": "h",
         "showlegend": true,
         "textposition": "auto",
         "texttemplate": "%{x}",
         "type": "bar",
         "x": [
          1
         ],
         "xaxis": "x",
         "y": [
          "Material Aeronáutico e de Defesa"
         ],
         "yaxis": "y"
        },
        {
         "alignmentgroup": "True",
         "legendgroup": "Brinquedos e Jogos",
         "marker": {
          "color": "#19d3f3",
          "pattern": {
           "shape": ""
          }
         },
         "name": "Brinquedos e Jogos",
         "offsetgroup": "Brinquedos e Jogos",
         "orientation": "h",
         "showlegend": true,
         "textposition": "auto",
         "texttemplate": "%{x}",
         "type": "bar",
         "x": [
          1
         ],
         "xaxis": "x",
         "y": [
          "Brinquedos e Jogos"
         ],
         "yaxis": "y"
        },
        {
         "alignmentgroup": "True",
         "legendgroup": "Bicicletas",
         "marker": {
          "color": "#FF6692",
          "pattern": {
           "shape": ""
          }
         },
         "name": "Bicicletas",
         "offsetgroup": "Bicicletas",
         "orientation": "h",
         "showlegend": true,
         "textposition": "auto",
         "texttemplate": "%{x}",
         "type": "bar",
         "x": [
          1
         ],
         "xaxis": "x",
         "y": [
          "Bicicletas"
         ],
         "yaxis": "y"
        },
        {
         "alignmentgroup": "True",
         "legendgroup": "Resseguradoras",
         "marker": {
          "color": "#B6E880",
          "pattern": {
           "shape": ""
          }
         },
         "name": "Resseguradoras",
         "offsetgroup": "Resseguradoras",
         "orientation": "h",
         "showlegend": true,
         "textposition": "auto",
         "texttemplate": "%{x}",
         "type": "bar",
         "x": [
          1
         ],
         "xaxis": "x",
         "y": [
          "Resseguradoras"
         ],
         "yaxis": "y"
        },
        {
         "alignmentgroup": "True",
         "legendgroup": "Máq. e Equip. Construção e Agrícolas",
         "marker": {
          "color": "#FF97FF",
          "pattern": {
           "shape": ""
          }
         },
         "name": "Máq. e Equip. Construção e Agrícolas",
         "offsetgroup": "Máq. e Equip. Construção e Agrícolas",
         "orientation": "h",
         "showlegend": true,
         "textposition": "auto",
         "texttemplate": "%{x}",
         "type": "bar",
         "x": [
          1
         ],
         "xaxis": "x",
         "y": [
          "Máq. e Equip. Construção e Agrícolas"
         ],
         "yaxis": "y"
        },
        {
         "alignmentgroup": "True",
         "legendgroup": "Publicidade e Propaganda",
         "marker": {
          "color": "#FECB52",
          "pattern": {
           "shape": ""
          }
         },
         "name": "Publicidade e Propaganda",
         "offsetgroup": "Publicidade e Propaganda",
         "orientation": "h",
         "showlegend": true,
         "textposition": "auto",
         "texttemplate": "%{x}",
         "type": "bar",
         "x": [
          1
         ],
         "xaxis": "x",
         "y": [
          "Publicidade e Propaganda"
         ],
         "yaxis": "y"
        },
        {
         "alignmentgroup": "True",
         "legendgroup": "Atividades Esportivas",
         "marker": {
          "color": "#636efa",
          "pattern": {
           "shape": ""
          }
         },
         "name": "Atividades Esportivas",
         "offsetgroup": "Atividades Esportivas",
         "orientation": "h",
         "showlegend": true,
         "textposition": "auto",
         "texttemplate": "%{x}",
         "type": "bar",
         "x": [
          1
         ],
         "xaxis": "x",
         "y": [
          "Atividades Esportivas"
         ],
         "yaxis": "y"
        },
        {
         "alignmentgroup": "True",
         "legendgroup": "Programas de Fidelização",
         "marker": {
          "color": "#EF553B",
          "pattern": {
           "shape": ""
          }
         },
         "name": "Programas de Fidelização",
         "offsetgroup": "Programas de Fidelização",
         "orientation": "h",
         "showlegend": true,
         "textposition": "auto",
         "texttemplate": "%{x}",
         "type": "bar",
         "x": [
          1
         ],
         "xaxis": "x",
         "y": [
          "Programas de Fidelização"
         ],
         "yaxis": "y"
        },
        {
         "alignmentgroup": "True",
         "legendgroup": "Embalagens",
         "marker": {
          "color": "#00cc96",
          "pattern": {
           "shape": ""
          }
         },
         "name": "Embalagens",
         "offsetgroup": "Embalagens",
         "orientation": "h",
         "showlegend": true,
         "textposition": "auto",
         "texttemplate": "%{x}",
         "type": "bar",
         "x": [
          1
         ],
         "xaxis": "x",
         "y": [
          "Embalagens"
         ],
         "yaxis": "y"
        }
       ],
       "layout": {
        "barmode": "relative",
        "hovermode": "y",
        "legend": {
         "title": {
          "text": "SEGMENTO"
         },
         "tracegroupgap": 0
        },
        "showlegend": false,
        "template": {
         "data": {
          "bar": [
           {
            "error_x": {
             "color": "#f2f5fa"
            },
            "error_y": {
             "color": "#f2f5fa"
            },
            "marker": {
             "line": {
              "color": "rgb(17,17,17)",
              "width": 0.5
             },
             "pattern": {
              "fillmode": "overlay",
              "size": 10,
              "solidity": 0.2
             }
            },
            "type": "bar"
           }
          ],
          "barpolar": [
           {
            "marker": {
             "line": {
              "color": "rgb(17,17,17)",
              "width": 0.5
             },
             "pattern": {
              "fillmode": "overlay",
              "size": 10,
              "solidity": 0.2
             }
            },
            "type": "barpolar"
           }
          ],
          "carpet": [
           {
            "aaxis": {
             "endlinecolor": "#A2B1C6",
             "gridcolor": "#506784",
             "linecolor": "#506784",
             "minorgridcolor": "#506784",
             "startlinecolor": "#A2B1C6"
            },
            "baxis": {
             "endlinecolor": "#A2B1C6",
             "gridcolor": "#506784",
             "linecolor": "#506784",
             "minorgridcolor": "#506784",
             "startlinecolor": "#A2B1C6"
            },
            "type": "carpet"
           }
          ],
          "choropleth": [
           {
            "colorbar": {
             "outlinewidth": 0,
             "ticks": ""
            },
            "type": "choropleth"
           }
          ],
          "contour": [
           {
            "colorbar": {
             "outlinewidth": 0,
             "ticks": ""
            },
            "colorscale": [
             [
              0,
              "#0d0887"
             ],
             [
              0.1111111111111111,
              "#46039f"
             ],
             [
              0.2222222222222222,
              "#7201a8"
             ],
             [
              0.3333333333333333,
              "#9c179e"
             ],
             [
              0.4444444444444444,
              "#bd3786"
             ],
             [
              0.5555555555555556,
              "#d8576b"
             ],
             [
              0.6666666666666666,
              "#ed7953"
             ],
             [
              0.7777777777777778,
              "#fb9f3a"
             ],
             [
              0.8888888888888888,
              "#fdca26"
             ],
             [
              1,
              "#f0f921"
             ]
            ],
            "type": "contour"
           }
          ],
          "contourcarpet": [
           {
            "colorbar": {
             "outlinewidth": 0,
             "ticks": ""
            },
            "type": "contourcarpet"
           }
          ],
          "heatmap": [
           {
            "colorbar": {
             "outlinewidth": 0,
             "ticks": ""
            },
            "colorscale": [
             [
              0,
              "#0d0887"
             ],
             [
              0.1111111111111111,
              "#46039f"
             ],
             [
              0.2222222222222222,
              "#7201a8"
             ],
             [
              0.3333333333333333,
              "#9c179e"
             ],
             [
              0.4444444444444444,
              "#bd3786"
             ],
             [
              0.5555555555555556,
              "#d8576b"
             ],
             [
              0.6666666666666666,
              "#ed7953"
             ],
             [
              0.7777777777777778,
              "#fb9f3a"
             ],
             [
              0.8888888888888888,
              "#fdca26"
             ],
             [
              1,
              "#f0f921"
             ]
            ],
            "type": "heatmap"
           }
          ],
          "heatmapgl": [
           {
            "colorbar": {
             "outlinewidth": 0,
             "ticks": ""
            },
            "colorscale": [
             [
              0,
              "#0d0887"
             ],
             [
              0.1111111111111111,
              "#46039f"
             ],
             [
              0.2222222222222222,
              "#7201a8"
             ],
             [
              0.3333333333333333,
              "#9c179e"
             ],
             [
              0.4444444444444444,
              "#bd3786"
             ],
             [
              0.5555555555555556,
              "#d8576b"
             ],
             [
              0.6666666666666666,
              "#ed7953"
             ],
             [
              0.7777777777777778,
              "#fb9f3a"
             ],
             [
              0.8888888888888888,
              "#fdca26"
             ],
             [
              1,
              "#f0f921"
             ]
            ],
            "type": "heatmapgl"
           }
          ],
          "histogram": [
           {
            "marker": {
             "pattern": {
              "fillmode": "overlay",
              "size": 10,
              "solidity": 0.2
             }
            },
            "type": "histogram"
           }
          ],
          "histogram2d": [
           {
            "colorbar": {
             "outlinewidth": 0,
             "ticks": ""
            },
            "colorscale": [
             [
              0,
              "#0d0887"
             ],
             [
              0.1111111111111111,
              "#46039f"
             ],
             [
              0.2222222222222222,
              "#7201a8"
             ],
             [
              0.3333333333333333,
              "#9c179e"
             ],
             [
              0.4444444444444444,
              "#bd3786"
             ],
             [
              0.5555555555555556,
              "#d8576b"
             ],
             [
              0.6666666666666666,
              "#ed7953"
             ],
             [
              0.7777777777777778,
              "#fb9f3a"
             ],
             [
              0.8888888888888888,
              "#fdca26"
             ],
             [
              1,
              "#f0f921"
             ]
            ],
            "type": "histogram2d"
           }
          ],
          "histogram2dcontour": [
           {
            "colorbar": {
             "outlinewidth": 0,
             "ticks": ""
            },
            "colorscale": [
             [
              0,
              "#0d0887"
             ],
             [
              0.1111111111111111,
              "#46039f"
             ],
             [
              0.2222222222222222,
              "#7201a8"
             ],
             [
              0.3333333333333333,
              "#9c179e"
             ],
             [
              0.4444444444444444,
              "#bd3786"
             ],
             [
              0.5555555555555556,
              "#d8576b"
             ],
             [
              0.6666666666666666,
              "#ed7953"
             ],
             [
              0.7777777777777778,
              "#fb9f3a"
             ],
             [
              0.8888888888888888,
              "#fdca26"
             ],
             [
              1,
              "#f0f921"
             ]
            ],
            "type": "histogram2dcontour"
           }
          ],
          "mesh3d": [
           {
            "colorbar": {
             "outlinewidth": 0,
             "ticks": ""
            },
            "type": "mesh3d"
           }
          ],
          "parcoords": [
           {
            "line": {
             "colorbar": {
              "outlinewidth": 0,
              "ticks": ""
             }
            },
            "type": "parcoords"
           }
          ],
          "pie": [
           {
            "automargin": true,
            "type": "pie"
           }
          ],
          "scatter": [
           {
            "marker": {
             "line": {
              "color": "#283442"
             }
            },
            "type": "scatter"
           }
          ],
          "scatter3d": [
           {
            "line": {
             "colorbar": {
              "outlinewidth": 0,
              "ticks": ""
             }
            },
            "marker": {
             "colorbar": {
              "outlinewidth": 0,
              "ticks": ""
             }
            },
            "type": "scatter3d"
           }
          ],
          "scattercarpet": [
           {
            "marker": {
             "colorbar": {
              "outlinewidth": 0,
              "ticks": ""
             }
            },
            "type": "scattercarpet"
           }
          ],
          "scattergeo": [
           {
            "marker": {
             "colorbar": {
              "outlinewidth": 0,
              "ticks": ""
             }
            },
            "type": "scattergeo"
           }
          ],
          "scattergl": [
           {
            "marker": {
             "line": {
              "color": "#283442"
             }
            },
            "type": "scattergl"
           }
          ],
          "scattermapbox": [
           {
            "marker": {
             "colorbar": {
              "outlinewidth": 0,
              "ticks": ""
             }
            },
            "type": "scattermapbox"
           }
          ],
          "scatterpolar": [
           {
            "marker": {
             "colorbar": {
              "outlinewidth": 0,
              "ticks": ""
             }
            },
            "type": "scatterpolar"
           }
          ],
          "scatterpolargl": [
           {
            "marker": {
             "colorbar": {
              "outlinewidth": 0,
              "ticks": ""
             }
            },
            "type": "scatterpolargl"
           }
          ],
          "scatterternary": [
           {
            "marker": {
             "colorbar": {
              "outlinewidth": 0,
              "ticks": ""
             }
            },
            "type": "scatterternary"
           }
          ],
          "surface": [
           {
            "colorbar": {
             "outlinewidth": 0,
             "ticks": ""
            },
            "colorscale": [
             [
              0,
              "#0d0887"
             ],
             [
              0.1111111111111111,
              "#46039f"
             ],
             [
              0.2222222222222222,
              "#7201a8"
             ],
             [
              0.3333333333333333,
              "#9c179e"
             ],
             [
              0.4444444444444444,
              "#bd3786"
             ],
             [
              0.5555555555555556,
              "#d8576b"
             ],
             [
              0.6666666666666666,
              "#ed7953"
             ],
             [
              0.7777777777777778,
              "#fb9f3a"
             ],
             [
              0.8888888888888888,
              "#fdca26"
             ],
             [
              1,
              "#f0f921"
             ]
            ],
            "type": "surface"
           }
          ],
          "table": [
           {
            "cells": {
             "fill": {
              "color": "#506784"
             },
             "line": {
              "color": "rgb(17,17,17)"
             }
            },
            "header": {
             "fill": {
              "color": "#2a3f5f"
             },
             "line": {
              "color": "rgb(17,17,17)"
             }
            },
            "type": "table"
           }
          ]
         },
         "layout": {
          "annotationdefaults": {
           "arrowcolor": "#f2f5fa",
           "arrowhead": 0,
           "arrowwidth": 1
          },
          "autotypenumbers": "strict",
          "coloraxis": {
           "colorbar": {
            "outlinewidth": 0,
            "ticks": ""
           }
          },
          "colorscale": {
           "diverging": [
            [
             0,
             "#8e0152"
            ],
            [
             0.1,
             "#c51b7d"
            ],
            [
             0.2,
             "#de77ae"
            ],
            [
             0.3,
             "#f1b6da"
            ],
            [
             0.4,
             "#fde0ef"
            ],
            [
             0.5,
             "#f7f7f7"
            ],
            [
             0.6,
             "#e6f5d0"
            ],
            [
             0.7,
             "#b8e186"
            ],
            [
             0.8,
             "#7fbc41"
            ],
            [
             0.9,
             "#4d9221"
            ],
            [
             1,
             "#276419"
            ]
           ],
           "sequential": [
            [
             0,
             "#0d0887"
            ],
            [
             0.1111111111111111,
             "#46039f"
            ],
            [
             0.2222222222222222,
             "#7201a8"
            ],
            [
             0.3333333333333333,
             "#9c179e"
            ],
            [
             0.4444444444444444,
             "#bd3786"
            ],
            [
             0.5555555555555556,
             "#d8576b"
            ],
            [
             0.6666666666666666,
             "#ed7953"
            ],
            [
             0.7777777777777778,
             "#fb9f3a"
            ],
            [
             0.8888888888888888,
             "#fdca26"
            ],
            [
             1,
             "#f0f921"
            ]
           ],
           "sequentialminus": [
            [
             0,
             "#0d0887"
            ],
            [
             0.1111111111111111,
             "#46039f"
            ],
            [
             0.2222222222222222,
             "#7201a8"
            ],
            [
             0.3333333333333333,
             "#9c179e"
            ],
            [
             0.4444444444444444,
             "#bd3786"
            ],
            [
             0.5555555555555556,
             "#d8576b"
            ],
            [
             0.6666666666666666,
             "#ed7953"
            ],
            [
             0.7777777777777778,
             "#fb9f3a"
            ],
            [
             0.8888888888888888,
             "#fdca26"
            ],
            [
             1,
             "#f0f921"
            ]
           ]
          },
          "colorway": [
           "#636efa",
           "#EF553B",
           "#00cc96",
           "#ab63fa",
           "#FFA15A",
           "#19d3f3",
           "#FF6692",
           "#B6E880",
           "#FF97FF",
           "#FECB52"
          ],
          "font": {
           "color": "#f2f5fa"
          },
          "geo": {
           "bgcolor": "rgb(17,17,17)",
           "lakecolor": "rgb(17,17,17)",
           "landcolor": "rgb(17,17,17)",
           "showlakes": true,
           "showland": true,
           "subunitcolor": "#506784"
          },
          "hoverlabel": {
           "align": "left"
          },
          "hovermode": "closest",
          "mapbox": {
           "style": "dark"
          },
          "paper_bgcolor": "rgb(17,17,17)",
          "plot_bgcolor": "rgb(17,17,17)",
          "polar": {
           "angularaxis": {
            "gridcolor": "#506784",
            "linecolor": "#506784",
            "ticks": ""
           },
           "bgcolor": "rgb(17,17,17)",
           "radialaxis": {
            "gridcolor": "#506784",
            "linecolor": "#506784",
            "ticks": ""
           }
          },
          "scene": {
           "xaxis": {
            "backgroundcolor": "rgb(17,17,17)",
            "gridcolor": "#506784",
            "gridwidth": 2,
            "linecolor": "#506784",
            "showbackground": true,
            "ticks": "",
            "zerolinecolor": "#C8D4E3"
           },
           "yaxis": {
            "backgroundcolor": "rgb(17,17,17)",
            "gridcolor": "#506784",
            "gridwidth": 2,
            "linecolor": "#506784",
            "showbackground": true,
            "ticks": "",
            "zerolinecolor": "#C8D4E3"
           },
           "zaxis": {
            "backgroundcolor": "rgb(17,17,17)",
            "gridcolor": "#506784",
            "gridwidth": 2,
            "linecolor": "#506784",
            "showbackground": true,
            "ticks": "",
            "zerolinecolor": "#C8D4E3"
           }
          },
          "shapedefaults": {
           "line": {
            "color": "#f2f5fa"
           }
          },
          "sliderdefaults": {
           "bgcolor": "#C8D4E3",
           "bordercolor": "rgb(17,17,17)",
           "borderwidth": 1,
           "tickwidth": 0
          },
          "ternary": {
           "aaxis": {
            "gridcolor": "#506784",
            "linecolor": "#506784",
            "ticks": ""
           },
           "baxis": {
            "gridcolor": "#506784",
            "linecolor": "#506784",
            "ticks": ""
           },
           "bgcolor": "rgb(17,17,17)",
           "caxis": {
            "gridcolor": "#506784",
            "linecolor": "#506784",
            "ticks": ""
           }
          },
          "title": {
           "x": 0.05
          },
          "updatemenudefaults": {
           "bgcolor": "#506784",
           "borderwidth": 0
          },
          "xaxis": {
           "automargin": true,
           "gridcolor": "#283442",
           "linecolor": "#506784",
           "ticks": "",
           "title": {
            "standoff": 15
           },
           "zerolinecolor": "#283442",
           "zerolinewidth": 2
          },
          "yaxis": {
           "automargin": true,
           "gridcolor": "#283442",
           "linecolor": "#506784",
           "ticks": "",
           "title": {
            "standoff": 15
           },
           "zerolinecolor": "#283442",
           "zerolinewidth": 2
          }
         }
        },
        "title": {
         "text": "Quantidade de empresas por segmento"
        },
        "xaxis": {
         "anchor": "y",
         "domain": [
          0,
          1
         ],
         "title": {
          "text": "Quantidade"
         }
        },
        "yaxis": {
         "anchor": "x",
         "categoryarray": [
          "Embalagens",
          "Programas de Fidelização",
          "Atividades Esportivas",
          "Publicidade e Propaganda",
          "Máq. e Equip. Construção e Agrícolas",
          "Resseguradoras",
          "Bicicletas",
          "Brinquedos e Jogos",
          "Material Aeronáutico e de Defesa",
          "Materiais Diversos",
          "Artefatos de Cobre",
          "Produtos de Cuidado Pessoal",
          "Armas e Munições",
          "Hotelaria",
          "Cervejas e Refrigerantes",
          "Construção Pesada",
          "Engenharia Consultiva",
          "Utensílios Domésticos",
          "Vestuário",
          "Viagens e Turismo",
          "Produtos de Limpeza",
          "Linhas Aéreas de Passageiros",
          "Intermediação Imobiliária",
          "Corretoras de Seguros e Resseguros",
          "Motores, Compressores e Outros",
          "Equipamentos",
          "Madeira",
          "Petroquímicos",
          "Produção de Eventos e Shows",
          "Transporte Rodoviário",
          "Químicos Diversos",
          "Restaurante e Similares",
          "Soc. Arrendamento Mercantil",
          "Transporte Hidroviário",
          "Equipamentos e Serviços",
          "Computadores e Equipamentos",
          "Fertilizantes e Defensivos",
          "Gás",
          "Holdings Diversificadas",
          "Soc. Crédito e Financiamento",
          "Produtos para Construção",
          "Artefatos de Ferro e Aço",
          "Acessórios",
          "Outros Títulos",
          "Automóveis e Motocicletas",
          "Securitizadoras de Recebíveis",
          "Açucar e Alcool",
          "Móveis",
          "Alimentos Diversos",
          "Eletrodomésticos",
          "Papel e Celulose",
          "Calçados",
          "Aluguel de carros",
          "Seguradoras",
          "Material de Transporte",
          "Alimentos",
          "Transporte Ferroviário",
          "Siderurgia",
          "Gestão de Recursos e Investimentos",
          "Carnes e Derivados",
          "Produtos Diversos",
          "Serviços Educacionais",
          "Material Rodoviário",
          "Serviços de Apoio e Armazenagem",
          "Minerais Metálicos",
          "Serviços Financeiros Diversos",
          "Água e Saneamento",
          "Telecomunicações",
          "Tecidos, Vestuário e Calçados",
          "Serviços Diversos",
          "Exploração, Refino e Distribuição",
          "Fios e Tecidos",
          "Serviços Médico - Hospitalares, Análises e Diagnósticos",
          "Máq. e Equip. Industriais",
          "Medicamentos e Outros Produtos",
          "Agricultura",
          "Exploração de Rodovias",
          "Exploração de Imóveis",
          "Programas e Serviços",
          "Outros",
          "Bancos",
          "Incorporações",
          "Energia Elétrica"
         ],
         "categoryorder": "array",
         "domain": [
          0,
          1
         ],
         "title": {
          "text": "SEGMENTO"
         }
        }
       }
      }
     },
     "metadata": {},
     "output_type": "display_data"
    }
   ],
   "source": [
    "# Plot gráfico da frequência absoluta da variável\n",
    "fig = px.bar(template=\"plotly_dark\",\n",
    "             title= 'Quantidade de empresas por segmento', \n",
    "             data_frame=f, \n",
    "             x='QTD', \n",
    "             y='SEGMENTO', \n",
    "             orientation='h',\n",
    "             color='SEGMENTO',\n",
    "             text_auto=True)\n",
    "fig.update_traces(hovertemplate=None)\n",
    "fig.update_layout(hovermode='y')\n",
    "fig.update(layout_showlegend=False)\n",
    "fig.update_xaxes(title_text='Quantidade')\n",
    "fig.show()"
   ]
  },
  {
   "cell_type": "code",
   "execution_count": 22,
   "metadata": {},
   "outputs": [
    {
     "name": "stderr",
     "output_type": "stream",
     "text": [
      "c:\\Users\\adria\\anaconda3\\Lib\\site-packages\\plotly\\express\\_core.py:1619: FutureWarning:\n",
      "\n",
      "The default of observed=False is deprecated and will be changed to True in a future version of pandas. Pass observed=False to retain current behavior or observed=True to adopt the future default and silence this warning.\n",
      "\n"
     ]
    },
    {
     "data": {
      "application/vnd.plotly.v1+json": {
       "config": {
        "plotlyServerURL": "https://plot.ly"
       },
       "data": [
        {
         "branchvalues": "total",
         "domain": {
          "x": [
           0,
           1
          ],
          "y": [
           0,
           1
          ]
         },
         "hoverinfo": "label+value+percent entry",
         "ids": [
          "Total/Acessórios",
          "Total/Agricultura",
          "Total/Alimentos",
          "Total/Alimentos Diversos",
          "Total/Aluguel de carros",
          "Total/Armas e Munições",
          "Total/Artefatos de Cobre",
          "Total/Artefatos de Ferro e Aço",
          "Total/Atividades Esportivas",
          "Total/Automóveis e Motocicletas",
          "Total/Açucar e Alcool",
          "Total/Bancos",
          "Total/Bicicletas",
          "Total/Brinquedos e Jogos",
          "Total/Calçados",
          "Total/Carnes e Derivados",
          "Total/Cervejas e Refrigerantes",
          "Total/Computadores e Equipamentos",
          "Total/Construção Pesada",
          "Total/Corretoras de Seguros e Resseguros",
          "Total/Eletrodomésticos",
          "Total/Embalagens",
          "Total/Energia Elétrica",
          "Total/Engenharia Consultiva",
          "Total/Equipamentos",
          "Total/Equipamentos e Serviços",
          "Total/Exploração de Imóveis",
          "Total/Exploração de Rodovias",
          "Total/Exploração, Refino e Distribuição",
          "Total/Fertilizantes e Defensivos",
          "Total/Fios e Tecidos",
          "Total/Gestão de Recursos e Investimentos",
          "Total/Gás",
          "Total/Holdings Diversificadas",
          "Total/Hotelaria",
          "Total/Incorporações",
          "Total/Intermediação Imobiliária",
          "Total/Linhas Aéreas de Passageiros",
          "Total/Madeira",
          "Total/Materiais Diversos",
          "Total/Material Aeronáutico e de Defesa",
          "Total/Material Rodoviário",
          "Total/Material de Transporte",
          "Total/Medicamentos e Outros Produtos",
          "Total/Minerais Metálicos",
          "Total/Motores, Compressores e Outros",
          "Total/Máq. e Equip. Construção e Agrícolas",
          "Total/Máq. e Equip. Industriais",
          "Total/Móveis",
          "Total/Outros",
          "Total/Outros Títulos",
          "Total/Papel e Celulose",
          "Total/Petroquímicos",
          "Total/Produtos Diversos",
          "Total/Produtos de Cuidado Pessoal",
          "Total/Produtos de Limpeza",
          "Total/Produtos para Construção",
          "Total/Produção de Eventos e Shows",
          "Total/Programas de Fidelização",
          "Total/Programas e Serviços",
          "Total/Publicidade e Propaganda",
          "Total/Químicos Diversos",
          "Total/Resseguradoras",
          "Total/Restaurante e Similares",
          "Total/Securitizadoras de Recebíveis",
          "Total/Seguradoras",
          "Total/Serviços Diversos",
          "Total/Serviços Educacionais",
          "Total/Serviços Financeiros Diversos",
          "Total/Serviços Médico - Hospitalares, Análises e Diagnósticos",
          "Total/Serviços de Apoio e Armazenagem",
          "Total/Siderurgia",
          "Total/Soc. Arrendamento Mercantil",
          "Total/Soc. Crédito e Financiamento",
          "Total/Tecidos, Vestuário e Calçados",
          "Total/Telecomunicações",
          "Total/Transporte Ferroviário",
          "Total/Transporte Hidroviário",
          "Total/Transporte Rodoviário",
          "Total/Utensílios Domésticos",
          "Total/Vestuário",
          "Total/Viagens e Turismo",
          "Total/Água e Saneamento",
          "Total"
         ],
         "labels": [
          "Acessórios",
          "Agricultura",
          "Alimentos",
          "Alimentos Diversos",
          "Aluguel de carros",
          "Armas e Munições",
          "Artefatos de Cobre",
          "Artefatos de Ferro e Aço",
          "Atividades Esportivas",
          "Automóveis e Motocicletas",
          "Açucar e Alcool",
          "Bancos",
          "Bicicletas",
          "Brinquedos e Jogos",
          "Calçados",
          "Carnes e Derivados",
          "Cervejas e Refrigerantes",
          "Computadores e Equipamentos",
          "Construção Pesada",
          "Corretoras de Seguros e Resseguros",
          "Eletrodomésticos",
          "Embalagens",
          "Energia Elétrica",
          "Engenharia Consultiva",
          "Equipamentos",
          "Equipamentos e Serviços",
          "Exploração de Imóveis",
          "Exploração de Rodovias",
          "Exploração, Refino e Distribuição",
          "Fertilizantes e Defensivos",
          "Fios e Tecidos",
          "Gestão de Recursos e Investimentos",
          "Gás",
          "Holdings Diversificadas",
          "Hotelaria",
          "Incorporações",
          "Intermediação Imobiliária",
          "Linhas Aéreas de Passageiros",
          "Madeira",
          "Materiais Diversos",
          "Material Aeronáutico e de Defesa",
          "Material Rodoviário",
          "Material de Transporte",
          "Medicamentos e Outros Produtos",
          "Minerais Metálicos",
          "Motores, Compressores e Outros",
          "Máq. e Equip. Construção e Agrícolas",
          "Máq. e Equip. Industriais",
          "Móveis",
          "Outros",
          "Outros Títulos",
          "Papel e Celulose",
          "Petroquímicos",
          "Produtos Diversos",
          "Produtos de Cuidado Pessoal",
          "Produtos de Limpeza",
          "Produtos para Construção",
          "Produção de Eventos e Shows",
          "Programas de Fidelização",
          "Programas e Serviços",
          "Publicidade e Propaganda",
          "Químicos Diversos",
          "Resseguradoras",
          "Restaurante e Similares",
          "Securitizadoras de Recebíveis",
          "Seguradoras",
          "Serviços Diversos",
          "Serviços Educacionais",
          "Serviços Financeiros Diversos",
          "Serviços Médico - Hospitalares, Análises e Diagnósticos",
          "Serviços de Apoio e Armazenagem",
          "Siderurgia",
          "Soc. Arrendamento Mercantil",
          "Soc. Crédito e Financiamento",
          "Tecidos, Vestuário e Calçados",
          "Telecomunicações",
          "Transporte Ferroviário",
          "Transporte Hidroviário",
          "Transporte Rodoviário",
          "Utensílios Domésticos",
          "Vestuário",
          "Viagens e Turismo",
          "Água e Saneamento",
          "Total"
         ],
         "name": "",
         "parents": [
          "Total",
          "Total",
          "Total",
          "Total",
          "Total",
          "Total",
          "Total",
          "Total",
          "Total",
          "Total",
          "Total",
          "Total",
          "Total",
          "Total",
          "Total",
          "Total",
          "Total",
          "Total",
          "Total",
          "Total",
          "Total",
          "Total",
          "Total",
          "Total",
          "Total",
          "Total",
          "Total",
          "Total",
          "Total",
          "Total",
          "Total",
          "Total",
          "Total",
          "Total",
          "Total",
          "Total",
          "Total",
          "Total",
          "Total",
          "Total",
          "Total",
          "Total",
          "Total",
          "Total",
          "Total",
          "Total",
          "Total",
          "Total",
          "Total",
          "Total",
          "Total",
          "Total",
          "Total",
          "Total",
          "Total",
          "Total",
          "Total",
          "Total",
          "Total",
          "Total",
          "Total",
          "Total",
          "Total",
          "Total",
          "Total",
          "Total",
          "Total",
          "Total",
          "Total",
          "Total",
          "Total",
          "Total",
          "Total",
          "Total",
          "Total",
          "Total",
          "Total",
          "Total",
          "Total",
          "Total",
          "Total",
          "Total",
          "Total",
          ""
         ],
         "textinfo": "label+value+percent entry",
         "type": "treemap",
         "values": [
          3,
          11,
          5,
          4,
          4,
          1,
          1,
          3,
          1,
          3,
          3,
          22,
          1,
          1,
          4,
          6,
          1,
          3,
          1,
          2,
          4,
          1,
          54,
          1,
          2,
          3,
          12,
          11,
          10,
          3,
          10,
          5,
          3,
          3,
          1,
          28,
          2,
          2,
          2,
          1,
          1,
          7,
          4,
          11,
          7,
          2,
          1,
          11,
          3,
          13,
          3,
          4,
          2,
          6,
          1,
          1,
          3,
          2,
          1,
          13,
          1,
          2,
          1,
          2,
          3,
          4,
          8,
          6,
          7,
          10,
          7,
          5,
          2,
          3,
          8,
          8,
          5,
          3,
          2,
          1,
          1,
          1,
          8,
          432
         ]
        }
       ],
       "layout": {
        "legend": {
         "tracegroupgap": 0
        },
        "template": {
         "data": {
          "bar": [
           {
            "error_x": {
             "color": "#f2f5fa"
            },
            "error_y": {
             "color": "#f2f5fa"
            },
            "marker": {
             "line": {
              "color": "rgb(17,17,17)",
              "width": 0.5
             },
             "pattern": {
              "fillmode": "overlay",
              "size": 10,
              "solidity": 0.2
             }
            },
            "type": "bar"
           }
          ],
          "barpolar": [
           {
            "marker": {
             "line": {
              "color": "rgb(17,17,17)",
              "width": 0.5
             },
             "pattern": {
              "fillmode": "overlay",
              "size": 10,
              "solidity": 0.2
             }
            },
            "type": "barpolar"
           }
          ],
          "carpet": [
           {
            "aaxis": {
             "endlinecolor": "#A2B1C6",
             "gridcolor": "#506784",
             "linecolor": "#506784",
             "minorgridcolor": "#506784",
             "startlinecolor": "#A2B1C6"
            },
            "baxis": {
             "endlinecolor": "#A2B1C6",
             "gridcolor": "#506784",
             "linecolor": "#506784",
             "minorgridcolor": "#506784",
             "startlinecolor": "#A2B1C6"
            },
            "type": "carpet"
           }
          ],
          "choropleth": [
           {
            "colorbar": {
             "outlinewidth": 0,
             "ticks": ""
            },
            "type": "choropleth"
           }
          ],
          "contour": [
           {
            "colorbar": {
             "outlinewidth": 0,
             "ticks": ""
            },
            "colorscale": [
             [
              0,
              "#0d0887"
             ],
             [
              0.1111111111111111,
              "#46039f"
             ],
             [
              0.2222222222222222,
              "#7201a8"
             ],
             [
              0.3333333333333333,
              "#9c179e"
             ],
             [
              0.4444444444444444,
              "#bd3786"
             ],
             [
              0.5555555555555556,
              "#d8576b"
             ],
             [
              0.6666666666666666,
              "#ed7953"
             ],
             [
              0.7777777777777778,
              "#fb9f3a"
             ],
             [
              0.8888888888888888,
              "#fdca26"
             ],
             [
              1,
              "#f0f921"
             ]
            ],
            "type": "contour"
           }
          ],
          "contourcarpet": [
           {
            "colorbar": {
             "outlinewidth": 0,
             "ticks": ""
            },
            "type": "contourcarpet"
           }
          ],
          "heatmap": [
           {
            "colorbar": {
             "outlinewidth": 0,
             "ticks": ""
            },
            "colorscale": [
             [
              0,
              "#0d0887"
             ],
             [
              0.1111111111111111,
              "#46039f"
             ],
             [
              0.2222222222222222,
              "#7201a8"
             ],
             [
              0.3333333333333333,
              "#9c179e"
             ],
             [
              0.4444444444444444,
              "#bd3786"
             ],
             [
              0.5555555555555556,
              "#d8576b"
             ],
             [
              0.6666666666666666,
              "#ed7953"
             ],
             [
              0.7777777777777778,
              "#fb9f3a"
             ],
             [
              0.8888888888888888,
              "#fdca26"
             ],
             [
              1,
              "#f0f921"
             ]
            ],
            "type": "heatmap"
           }
          ],
          "heatmapgl": [
           {
            "colorbar": {
             "outlinewidth": 0,
             "ticks": ""
            },
            "colorscale": [
             [
              0,
              "#0d0887"
             ],
             [
              0.1111111111111111,
              "#46039f"
             ],
             [
              0.2222222222222222,
              "#7201a8"
             ],
             [
              0.3333333333333333,
              "#9c179e"
             ],
             [
              0.4444444444444444,
              "#bd3786"
             ],
             [
              0.5555555555555556,
              "#d8576b"
             ],
             [
              0.6666666666666666,
              "#ed7953"
             ],
             [
              0.7777777777777778,
              "#fb9f3a"
             ],
             [
              0.8888888888888888,
              "#fdca26"
             ],
             [
              1,
              "#f0f921"
             ]
            ],
            "type": "heatmapgl"
           }
          ],
          "histogram": [
           {
            "marker": {
             "pattern": {
              "fillmode": "overlay",
              "size": 10,
              "solidity": 0.2
             }
            },
            "type": "histogram"
           }
          ],
          "histogram2d": [
           {
            "colorbar": {
             "outlinewidth": 0,
             "ticks": ""
            },
            "colorscale": [
             [
              0,
              "#0d0887"
             ],
             [
              0.1111111111111111,
              "#46039f"
             ],
             [
              0.2222222222222222,
              "#7201a8"
             ],
             [
              0.3333333333333333,
              "#9c179e"
             ],
             [
              0.4444444444444444,
              "#bd3786"
             ],
             [
              0.5555555555555556,
              "#d8576b"
             ],
             [
              0.6666666666666666,
              "#ed7953"
             ],
             [
              0.7777777777777778,
              "#fb9f3a"
             ],
             [
              0.8888888888888888,
              "#fdca26"
             ],
             [
              1,
              "#f0f921"
             ]
            ],
            "type": "histogram2d"
           }
          ],
          "histogram2dcontour": [
           {
            "colorbar": {
             "outlinewidth": 0,
             "ticks": ""
            },
            "colorscale": [
             [
              0,
              "#0d0887"
             ],
             [
              0.1111111111111111,
              "#46039f"
             ],
             [
              0.2222222222222222,
              "#7201a8"
             ],
             [
              0.3333333333333333,
              "#9c179e"
             ],
             [
              0.4444444444444444,
              "#bd3786"
             ],
             [
              0.5555555555555556,
              "#d8576b"
             ],
             [
              0.6666666666666666,
              "#ed7953"
             ],
             [
              0.7777777777777778,
              "#fb9f3a"
             ],
             [
              0.8888888888888888,
              "#fdca26"
             ],
             [
              1,
              "#f0f921"
             ]
            ],
            "type": "histogram2dcontour"
           }
          ],
          "mesh3d": [
           {
            "colorbar": {
             "outlinewidth": 0,
             "ticks": ""
            },
            "type": "mesh3d"
           }
          ],
          "parcoords": [
           {
            "line": {
             "colorbar": {
              "outlinewidth": 0,
              "ticks": ""
             }
            },
            "type": "parcoords"
           }
          ],
          "pie": [
           {
            "automargin": true,
            "type": "pie"
           }
          ],
          "scatter": [
           {
            "marker": {
             "line": {
              "color": "#283442"
             }
            },
            "type": "scatter"
           }
          ],
          "scatter3d": [
           {
            "line": {
             "colorbar": {
              "outlinewidth": 0,
              "ticks": ""
             }
            },
            "marker": {
             "colorbar": {
              "outlinewidth": 0,
              "ticks": ""
             }
            },
            "type": "scatter3d"
           }
          ],
          "scattercarpet": [
           {
            "marker": {
             "colorbar": {
              "outlinewidth": 0,
              "ticks": ""
             }
            },
            "type": "scattercarpet"
           }
          ],
          "scattergeo": [
           {
            "marker": {
             "colorbar": {
              "outlinewidth": 0,
              "ticks": ""
             }
            },
            "type": "scattergeo"
           }
          ],
          "scattergl": [
           {
            "marker": {
             "line": {
              "color": "#283442"
             }
            },
            "type": "scattergl"
           }
          ],
          "scattermapbox": [
           {
            "marker": {
             "colorbar": {
              "outlinewidth": 0,
              "ticks": ""
             }
            },
            "type": "scattermapbox"
           }
          ],
          "scatterpolar": [
           {
            "marker": {
             "colorbar": {
              "outlinewidth": 0,
              "ticks": ""
             }
            },
            "type": "scatterpolar"
           }
          ],
          "scatterpolargl": [
           {
            "marker": {
             "colorbar": {
              "outlinewidth": 0,
              "ticks": ""
             }
            },
            "type": "scatterpolargl"
           }
          ],
          "scatterternary": [
           {
            "marker": {
             "colorbar": {
              "outlinewidth": 0,
              "ticks": ""
             }
            },
            "type": "scatterternary"
           }
          ],
          "surface": [
           {
            "colorbar": {
             "outlinewidth": 0,
             "ticks": ""
            },
            "colorscale": [
             [
              0,
              "#0d0887"
             ],
             [
              0.1111111111111111,
              "#46039f"
             ],
             [
              0.2222222222222222,
              "#7201a8"
             ],
             [
              0.3333333333333333,
              "#9c179e"
             ],
             [
              0.4444444444444444,
              "#bd3786"
             ],
             [
              0.5555555555555556,
              "#d8576b"
             ],
             [
              0.6666666666666666,
              "#ed7953"
             ],
             [
              0.7777777777777778,
              "#fb9f3a"
             ],
             [
              0.8888888888888888,
              "#fdca26"
             ],
             [
              1,
              "#f0f921"
             ]
            ],
            "type": "surface"
           }
          ],
          "table": [
           {
            "cells": {
             "fill": {
              "color": "#506784"
             },
             "line": {
              "color": "rgb(17,17,17)"
             }
            },
            "header": {
             "fill": {
              "color": "#2a3f5f"
             },
             "line": {
              "color": "rgb(17,17,17)"
             }
            },
            "type": "table"
           }
          ]
         },
         "layout": {
          "annotationdefaults": {
           "arrowcolor": "#f2f5fa",
           "arrowhead": 0,
           "arrowwidth": 1
          },
          "autotypenumbers": "strict",
          "coloraxis": {
           "colorbar": {
            "outlinewidth": 0,
            "ticks": ""
           }
          },
          "colorscale": {
           "diverging": [
            [
             0,
             "#8e0152"
            ],
            [
             0.1,
             "#c51b7d"
            ],
            [
             0.2,
             "#de77ae"
            ],
            [
             0.3,
             "#f1b6da"
            ],
            [
             0.4,
             "#fde0ef"
            ],
            [
             0.5,
             "#f7f7f7"
            ],
            [
             0.6,
             "#e6f5d0"
            ],
            [
             0.7,
             "#b8e186"
            ],
            [
             0.8,
             "#7fbc41"
            ],
            [
             0.9,
             "#4d9221"
            ],
            [
             1,
             "#276419"
            ]
           ],
           "sequential": [
            [
             0,
             "#0d0887"
            ],
            [
             0.1111111111111111,
             "#46039f"
            ],
            [
             0.2222222222222222,
             "#7201a8"
            ],
            [
             0.3333333333333333,
             "#9c179e"
            ],
            [
             0.4444444444444444,
             "#bd3786"
            ],
            [
             0.5555555555555556,
             "#d8576b"
            ],
            [
             0.6666666666666666,
             "#ed7953"
            ],
            [
             0.7777777777777778,
             "#fb9f3a"
            ],
            [
             0.8888888888888888,
             "#fdca26"
            ],
            [
             1,
             "#f0f921"
            ]
           ],
           "sequentialminus": [
            [
             0,
             "#0d0887"
            ],
            [
             0.1111111111111111,
             "#46039f"
            ],
            [
             0.2222222222222222,
             "#7201a8"
            ],
            [
             0.3333333333333333,
             "#9c179e"
            ],
            [
             0.4444444444444444,
             "#bd3786"
            ],
            [
             0.5555555555555556,
             "#d8576b"
            ],
            [
             0.6666666666666666,
             "#ed7953"
            ],
            [
             0.7777777777777778,
             "#fb9f3a"
            ],
            [
             0.8888888888888888,
             "#fdca26"
            ],
            [
             1,
             "#f0f921"
            ]
           ]
          },
          "colorway": [
           "#636efa",
           "#EF553B",
           "#00cc96",
           "#ab63fa",
           "#FFA15A",
           "#19d3f3",
           "#FF6692",
           "#B6E880",
           "#FF97FF",
           "#FECB52"
          ],
          "font": {
           "color": "#f2f5fa"
          },
          "geo": {
           "bgcolor": "rgb(17,17,17)",
           "lakecolor": "rgb(17,17,17)",
           "landcolor": "rgb(17,17,17)",
           "showlakes": true,
           "showland": true,
           "subunitcolor": "#506784"
          },
          "hoverlabel": {
           "align": "left"
          },
          "hovermode": "closest",
          "mapbox": {
           "style": "dark"
          },
          "paper_bgcolor": "rgb(17,17,17)",
          "plot_bgcolor": "rgb(17,17,17)",
          "polar": {
           "angularaxis": {
            "gridcolor": "#506784",
            "linecolor": "#506784",
            "ticks": ""
           },
           "bgcolor": "rgb(17,17,17)",
           "radialaxis": {
            "gridcolor": "#506784",
            "linecolor": "#506784",
            "ticks": ""
           }
          },
          "scene": {
           "xaxis": {
            "backgroundcolor": "rgb(17,17,17)",
            "gridcolor": "#506784",
            "gridwidth": 2,
            "linecolor": "#506784",
            "showbackground": true,
            "ticks": "",
            "zerolinecolor": "#C8D4E3"
           },
           "yaxis": {
            "backgroundcolor": "rgb(17,17,17)",
            "gridcolor": "#506784",
            "gridwidth": 2,
            "linecolor": "#506784",
            "showbackground": true,
            "ticks": "",
            "zerolinecolor": "#C8D4E3"
           },
           "zaxis": {
            "backgroundcolor": "rgb(17,17,17)",
            "gridcolor": "#506784",
            "gridwidth": 2,
            "linecolor": "#506784",
            "showbackground": true,
            "ticks": "",
            "zerolinecolor": "#C8D4E3"
           }
          },
          "shapedefaults": {
           "line": {
            "color": "#f2f5fa"
           }
          },
          "sliderdefaults": {
           "bgcolor": "#C8D4E3",
           "bordercolor": "rgb(17,17,17)",
           "borderwidth": 1,
           "tickwidth": 0
          },
          "ternary": {
           "aaxis": {
            "gridcolor": "#506784",
            "linecolor": "#506784",
            "ticks": ""
           },
           "baxis": {
            "gridcolor": "#506784",
            "linecolor": "#506784",
            "ticks": ""
           },
           "bgcolor": "rgb(17,17,17)",
           "caxis": {
            "gridcolor": "#506784",
            "linecolor": "#506784",
            "ticks": ""
           }
          },
          "title": {
           "x": 0.05
          },
          "updatemenudefaults": {
           "bgcolor": "#506784",
           "borderwidth": 0
          },
          "xaxis": {
           "automargin": true,
           "gridcolor": "#283442",
           "linecolor": "#506784",
           "ticks": "",
           "title": {
            "standoff": 15
           },
           "zerolinecolor": "#283442",
           "zerolinewidth": 2
          },
          "yaxis": {
           "automargin": true,
           "gridcolor": "#283442",
           "linecolor": "#506784",
           "ticks": "",
           "title": {
            "standoff": 15
           },
           "zerolinecolor": "#283442",
           "zerolinewidth": 2
          }
         }
        },
        "title": {
         "text": "Quantidade relativa de empresas por segmento"
        }
       }
      }
     },
     "metadata": {},
     "output_type": "display_data"
    }
   ],
   "source": [
    "# Plot gráfico da frequência relativa da variável\n",
    "fig = px.treemap(data_frame=f,\n",
    "                 path=[px.Constant('Total'), 'SEGMENTO'],\n",
    "                 values='QTD',\n",
    "                 template='plotly_dark',\n",
    "                 title='Quantidade relativa de empresas por segmento')\n",
    "\n",
    "fig.update_traces(hovertemplate=None, hoverinfo='label+value+percent entry', textinfo='label+value+percent entry')\n",
    "fig.show()"
   ]
  },
  {
   "cell_type": "markdown",
   "metadata": {},
   "source": [
    "### Distribuição"
   ]
  },
  {
   "cell_type": "code",
   "execution_count": 23,
   "metadata": {},
   "outputs": [
    {
     "data": {
      "application/vnd.plotly.v1+json": {
       "config": {
        "plotlyServerURL": "https://plot.ly"
       },
       "data": [
        {
         "alignmentgroup": "True",
         "boxpoints": "all",
         "hovertemplate": "QTD=%{x}<extra></extra>",
         "legendgroup": "",
         "marker": {
          "color": "#636efa"
         },
         "name": "",
         "notched": false,
         "offsetgroup": "",
         "orientation": "h",
         "showlegend": false,
         "type": "box",
         "x": [
          54,
          28,
          22,
          13,
          13,
          12,
          11,
          11,
          11,
          11,
          10,
          10,
          10,
          8,
          8,
          8,
          8,
          7,
          7,
          7,
          7,
          6,
          6,
          6,
          5,
          5,
          5,
          5,
          4,
          4,
          4,
          4,
          4,
          4,
          4,
          3,
          3,
          3,
          3,
          3,
          3,
          3,
          3,
          3,
          3,
          3,
          3,
          3,
          3,
          3,
          2,
          2,
          2,
          2,
          2,
          2,
          2,
          2,
          2,
          2,
          2,
          2,
          1,
          1,
          1,
          1,
          1,
          1,
          1,
          1,
          1,
          1,
          1,
          1,
          1,
          1,
          1,
          1,
          1,
          1,
          1,
          1,
          1
         ],
         "x0": " ",
         "xaxis": "x",
         "y0": " ",
         "yaxis": "y"
        }
       ],
       "layout": {
        "boxmode": "group",
        "legend": {
         "tracegroupgap": 0
        },
        "template": {
         "data": {
          "bar": [
           {
            "error_x": {
             "color": "#f2f5fa"
            },
            "error_y": {
             "color": "#f2f5fa"
            },
            "marker": {
             "line": {
              "color": "rgb(17,17,17)",
              "width": 0.5
             },
             "pattern": {
              "fillmode": "overlay",
              "size": 10,
              "solidity": 0.2
             }
            },
            "type": "bar"
           }
          ],
          "barpolar": [
           {
            "marker": {
             "line": {
              "color": "rgb(17,17,17)",
              "width": 0.5
             },
             "pattern": {
              "fillmode": "overlay",
              "size": 10,
              "solidity": 0.2
             }
            },
            "type": "barpolar"
           }
          ],
          "carpet": [
           {
            "aaxis": {
             "endlinecolor": "#A2B1C6",
             "gridcolor": "#506784",
             "linecolor": "#506784",
             "minorgridcolor": "#506784",
             "startlinecolor": "#A2B1C6"
            },
            "baxis": {
             "endlinecolor": "#A2B1C6",
             "gridcolor": "#506784",
             "linecolor": "#506784",
             "minorgridcolor": "#506784",
             "startlinecolor": "#A2B1C6"
            },
            "type": "carpet"
           }
          ],
          "choropleth": [
           {
            "colorbar": {
             "outlinewidth": 0,
             "ticks": ""
            },
            "type": "choropleth"
           }
          ],
          "contour": [
           {
            "colorbar": {
             "outlinewidth": 0,
             "ticks": ""
            },
            "colorscale": [
             [
              0,
              "#0d0887"
             ],
             [
              0.1111111111111111,
              "#46039f"
             ],
             [
              0.2222222222222222,
              "#7201a8"
             ],
             [
              0.3333333333333333,
              "#9c179e"
             ],
             [
              0.4444444444444444,
              "#bd3786"
             ],
             [
              0.5555555555555556,
              "#d8576b"
             ],
             [
              0.6666666666666666,
              "#ed7953"
             ],
             [
              0.7777777777777778,
              "#fb9f3a"
             ],
             [
              0.8888888888888888,
              "#fdca26"
             ],
             [
              1,
              "#f0f921"
             ]
            ],
            "type": "contour"
           }
          ],
          "contourcarpet": [
           {
            "colorbar": {
             "outlinewidth": 0,
             "ticks": ""
            },
            "type": "contourcarpet"
           }
          ],
          "heatmap": [
           {
            "colorbar": {
             "outlinewidth": 0,
             "ticks": ""
            },
            "colorscale": [
             [
              0,
              "#0d0887"
             ],
             [
              0.1111111111111111,
              "#46039f"
             ],
             [
              0.2222222222222222,
              "#7201a8"
             ],
             [
              0.3333333333333333,
              "#9c179e"
             ],
             [
              0.4444444444444444,
              "#bd3786"
             ],
             [
              0.5555555555555556,
              "#d8576b"
             ],
             [
              0.6666666666666666,
              "#ed7953"
             ],
             [
              0.7777777777777778,
              "#fb9f3a"
             ],
             [
              0.8888888888888888,
              "#fdca26"
             ],
             [
              1,
              "#f0f921"
             ]
            ],
            "type": "heatmap"
           }
          ],
          "heatmapgl": [
           {
            "colorbar": {
             "outlinewidth": 0,
             "ticks": ""
            },
            "colorscale": [
             [
              0,
              "#0d0887"
             ],
             [
              0.1111111111111111,
              "#46039f"
             ],
             [
              0.2222222222222222,
              "#7201a8"
             ],
             [
              0.3333333333333333,
              "#9c179e"
             ],
             [
              0.4444444444444444,
              "#bd3786"
             ],
             [
              0.5555555555555556,
              "#d8576b"
             ],
             [
              0.6666666666666666,
              "#ed7953"
             ],
             [
              0.7777777777777778,
              "#fb9f3a"
             ],
             [
              0.8888888888888888,
              "#fdca26"
             ],
             [
              1,
              "#f0f921"
             ]
            ],
            "type": "heatmapgl"
           }
          ],
          "histogram": [
           {
            "marker": {
             "pattern": {
              "fillmode": "overlay",
              "size": 10,
              "solidity": 0.2
             }
            },
            "type": "histogram"
           }
          ],
          "histogram2d": [
           {
            "colorbar": {
             "outlinewidth": 0,
             "ticks": ""
            },
            "colorscale": [
             [
              0,
              "#0d0887"
             ],
             [
              0.1111111111111111,
              "#46039f"
             ],
             [
              0.2222222222222222,
              "#7201a8"
             ],
             [
              0.3333333333333333,
              "#9c179e"
             ],
             [
              0.4444444444444444,
              "#bd3786"
             ],
             [
              0.5555555555555556,
              "#d8576b"
             ],
             [
              0.6666666666666666,
              "#ed7953"
             ],
             [
              0.7777777777777778,
              "#fb9f3a"
             ],
             [
              0.8888888888888888,
              "#fdca26"
             ],
             [
              1,
              "#f0f921"
             ]
            ],
            "type": "histogram2d"
           }
          ],
          "histogram2dcontour": [
           {
            "colorbar": {
             "outlinewidth": 0,
             "ticks": ""
            },
            "colorscale": [
             [
              0,
              "#0d0887"
             ],
             [
              0.1111111111111111,
              "#46039f"
             ],
             [
              0.2222222222222222,
              "#7201a8"
             ],
             [
              0.3333333333333333,
              "#9c179e"
             ],
             [
              0.4444444444444444,
              "#bd3786"
             ],
             [
              0.5555555555555556,
              "#d8576b"
             ],
             [
              0.6666666666666666,
              "#ed7953"
             ],
             [
              0.7777777777777778,
              "#fb9f3a"
             ],
             [
              0.8888888888888888,
              "#fdca26"
             ],
             [
              1,
              "#f0f921"
             ]
            ],
            "type": "histogram2dcontour"
           }
          ],
          "mesh3d": [
           {
            "colorbar": {
             "outlinewidth": 0,
             "ticks": ""
            },
            "type": "mesh3d"
           }
          ],
          "parcoords": [
           {
            "line": {
             "colorbar": {
              "outlinewidth": 0,
              "ticks": ""
             }
            },
            "type": "parcoords"
           }
          ],
          "pie": [
           {
            "automargin": true,
            "type": "pie"
           }
          ],
          "scatter": [
           {
            "marker": {
             "line": {
              "color": "#283442"
             }
            },
            "type": "scatter"
           }
          ],
          "scatter3d": [
           {
            "line": {
             "colorbar": {
              "outlinewidth": 0,
              "ticks": ""
             }
            },
            "marker": {
             "colorbar": {
              "outlinewidth": 0,
              "ticks": ""
             }
            },
            "type": "scatter3d"
           }
          ],
          "scattercarpet": [
           {
            "marker": {
             "colorbar": {
              "outlinewidth": 0,
              "ticks": ""
             }
            },
            "type": "scattercarpet"
           }
          ],
          "scattergeo": [
           {
            "marker": {
             "colorbar": {
              "outlinewidth": 0,
              "ticks": ""
             }
            },
            "type": "scattergeo"
           }
          ],
          "scattergl": [
           {
            "marker": {
             "line": {
              "color": "#283442"
             }
            },
            "type": "scattergl"
           }
          ],
          "scattermapbox": [
           {
            "marker": {
             "colorbar": {
              "outlinewidth": 0,
              "ticks": ""
             }
            },
            "type": "scattermapbox"
           }
          ],
          "scatterpolar": [
           {
            "marker": {
             "colorbar": {
              "outlinewidth": 0,
              "ticks": ""
             }
            },
            "type": "scatterpolar"
           }
          ],
          "scatterpolargl": [
           {
            "marker": {
             "colorbar": {
              "outlinewidth": 0,
              "ticks": ""
             }
            },
            "type": "scatterpolargl"
           }
          ],
          "scatterternary": [
           {
            "marker": {
             "colorbar": {
              "outlinewidth": 0,
              "ticks": ""
             }
            },
            "type": "scatterternary"
           }
          ],
          "surface": [
           {
            "colorbar": {
             "outlinewidth": 0,
             "ticks": ""
            },
            "colorscale": [
             [
              0,
              "#0d0887"
             ],
             [
              0.1111111111111111,
              "#46039f"
             ],
             [
              0.2222222222222222,
              "#7201a8"
             ],
             [
              0.3333333333333333,
              "#9c179e"
             ],
             [
              0.4444444444444444,
              "#bd3786"
             ],
             [
              0.5555555555555556,
              "#d8576b"
             ],
             [
              0.6666666666666666,
              "#ed7953"
             ],
             [
              0.7777777777777778,
              "#fb9f3a"
             ],
             [
              0.8888888888888888,
              "#fdca26"
             ],
             [
              1,
              "#f0f921"
             ]
            ],
            "type": "surface"
           }
          ],
          "table": [
           {
            "cells": {
             "fill": {
              "color": "#506784"
             },
             "line": {
              "color": "rgb(17,17,17)"
             }
            },
            "header": {
             "fill": {
              "color": "#2a3f5f"
             },
             "line": {
              "color": "rgb(17,17,17)"
             }
            },
            "type": "table"
           }
          ]
         },
         "layout": {
          "annotationdefaults": {
           "arrowcolor": "#f2f5fa",
           "arrowhead": 0,
           "arrowwidth": 1
          },
          "autotypenumbers": "strict",
          "coloraxis": {
           "colorbar": {
            "outlinewidth": 0,
            "ticks": ""
           }
          },
          "colorscale": {
           "diverging": [
            [
             0,
             "#8e0152"
            ],
            [
             0.1,
             "#c51b7d"
            ],
            [
             0.2,
             "#de77ae"
            ],
            [
             0.3,
             "#f1b6da"
            ],
            [
             0.4,
             "#fde0ef"
            ],
            [
             0.5,
             "#f7f7f7"
            ],
            [
             0.6,
             "#e6f5d0"
            ],
            [
             0.7,
             "#b8e186"
            ],
            [
             0.8,
             "#7fbc41"
            ],
            [
             0.9,
             "#4d9221"
            ],
            [
             1,
             "#276419"
            ]
           ],
           "sequential": [
            [
             0,
             "#0d0887"
            ],
            [
             0.1111111111111111,
             "#46039f"
            ],
            [
             0.2222222222222222,
             "#7201a8"
            ],
            [
             0.3333333333333333,
             "#9c179e"
            ],
            [
             0.4444444444444444,
             "#bd3786"
            ],
            [
             0.5555555555555556,
             "#d8576b"
            ],
            [
             0.6666666666666666,
             "#ed7953"
            ],
            [
             0.7777777777777778,
             "#fb9f3a"
            ],
            [
             0.8888888888888888,
             "#fdca26"
            ],
            [
             1,
             "#f0f921"
            ]
           ],
           "sequentialminus": [
            [
             0,
             "#0d0887"
            ],
            [
             0.1111111111111111,
             "#46039f"
            ],
            [
             0.2222222222222222,
             "#7201a8"
            ],
            [
             0.3333333333333333,
             "#9c179e"
            ],
            [
             0.4444444444444444,
             "#bd3786"
            ],
            [
             0.5555555555555556,
             "#d8576b"
            ],
            [
             0.6666666666666666,
             "#ed7953"
            ],
            [
             0.7777777777777778,
             "#fb9f3a"
            ],
            [
             0.8888888888888888,
             "#fdca26"
            ],
            [
             1,
             "#f0f921"
            ]
           ]
          },
          "colorway": [
           "#636efa",
           "#EF553B",
           "#00cc96",
           "#ab63fa",
           "#FFA15A",
           "#19d3f3",
           "#FF6692",
           "#B6E880",
           "#FF97FF",
           "#FECB52"
          ],
          "font": {
           "color": "#f2f5fa"
          },
          "geo": {
           "bgcolor": "rgb(17,17,17)",
           "lakecolor": "rgb(17,17,17)",
           "landcolor": "rgb(17,17,17)",
           "showlakes": true,
           "showland": true,
           "subunitcolor": "#506784"
          },
          "hoverlabel": {
           "align": "left"
          },
          "hovermode": "closest",
          "mapbox": {
           "style": "dark"
          },
          "paper_bgcolor": "rgb(17,17,17)",
          "plot_bgcolor": "rgb(17,17,17)",
          "polar": {
           "angularaxis": {
            "gridcolor": "#506784",
            "linecolor": "#506784",
            "ticks": ""
           },
           "bgcolor": "rgb(17,17,17)",
           "radialaxis": {
            "gridcolor": "#506784",
            "linecolor": "#506784",
            "ticks": ""
           }
          },
          "scene": {
           "xaxis": {
            "backgroundcolor": "rgb(17,17,17)",
            "gridcolor": "#506784",
            "gridwidth": 2,
            "linecolor": "#506784",
            "showbackground": true,
            "ticks": "",
            "zerolinecolor": "#C8D4E3"
           },
           "yaxis": {
            "backgroundcolor": "rgb(17,17,17)",
            "gridcolor": "#506784",
            "gridwidth": 2,
            "linecolor": "#506784",
            "showbackground": true,
            "ticks": "",
            "zerolinecolor": "#C8D4E3"
           },
           "zaxis": {
            "backgroundcolor": "rgb(17,17,17)",
            "gridcolor": "#506784",
            "gridwidth": 2,
            "linecolor": "#506784",
            "showbackground": true,
            "ticks": "",
            "zerolinecolor": "#C8D4E3"
           }
          },
          "shapedefaults": {
           "line": {
            "color": "#f2f5fa"
           }
          },
          "sliderdefaults": {
           "bgcolor": "#C8D4E3",
           "bordercolor": "rgb(17,17,17)",
           "borderwidth": 1,
           "tickwidth": 0
          },
          "ternary": {
           "aaxis": {
            "gridcolor": "#506784",
            "linecolor": "#506784",
            "ticks": ""
           },
           "baxis": {
            "gridcolor": "#506784",
            "linecolor": "#506784",
            "ticks": ""
           },
           "bgcolor": "rgb(17,17,17)",
           "caxis": {
            "gridcolor": "#506784",
            "linecolor": "#506784",
            "ticks": ""
           }
          },
          "title": {
           "x": 0.05
          },
          "updatemenudefaults": {
           "bgcolor": "#506784",
           "borderwidth": 0
          },
          "xaxis": {
           "automargin": true,
           "gridcolor": "#283442",
           "linecolor": "#506784",
           "ticks": "",
           "title": {
            "standoff": 15
           },
           "zerolinecolor": "#283442",
           "zerolinewidth": 2
          },
          "yaxis": {
           "automargin": true,
           "gridcolor": "#283442",
           "linecolor": "#506784",
           "ticks": "",
           "title": {
            "standoff": 15
           },
           "zerolinecolor": "#283442",
           "zerolinewidth": 2
          }
         }
        },
        "title": {
         "text": "Distribuição de frequência de segmentos pela quantidade de empresas"
        },
        "xaxis": {
         "anchor": "y",
         "domain": [
          0,
          1
         ],
         "title": {
          "text": "QTD"
         }
        },
        "yaxis": {
         "anchor": "x",
         "domain": [
          0,
          1
         ]
        }
       }
      }
     },
     "metadata": {},
     "output_type": "display_data"
    }
   ],
   "source": [
    "# Plot gráfico da dispersão dos dados\n",
    "fig = px.box(data_frame=f, \n",
    "             template='plotly_dark', \n",
    "             x='QTD', \n",
    "             points='all', \n",
    "             title='Distribuição de frequência de segmentos pela quantidade de empresas')\n",
    "fig.show()"
   ]
  },
  {
   "cell_type": "markdown",
   "metadata": {},
   "source": [
    "### Medidas"
   ]
  },
  {
   "cell_type": "code",
   "execution_count": 35,
   "metadata": {},
   "outputs": [
    {
     "name": "stdout",
     "output_type": "stream",
     "text": [
      "Mínimo: 1\n",
      "Q1: 1.5\n",
      "Q2: 3.0\n",
      "Q3: 6.5\n",
      "Máximo: 54\n",
      "Média da quantidade de empresas por segmento: 5\n",
      "Mediana da quantidade de empresas por segmento: 3.0\n",
      "Moda: 54 - Energia Elétrica\n",
      "Amplitude: 53\n",
      "Desvio padrão: 7.14\n",
      "Coeficiente de variação: 137.0 %\n"
     ]
    }
   ],
   "source": [
    "# Medidas de distribuição\n",
    "print('Mínimo:', f.QTD.min())\n",
    "print('Q1:', f.QTD.quantile(.25))\n",
    "print('Q2:', f.QTD.quantile(.50))\n",
    "print('Q3:', f.QTD.quantile(.75))\n",
    "print('Máximo:', f.QTD.max())\n",
    "\n",
    "# Medidas centrais\n",
    "print('Média da quantidade de empresas por segmento:', round(f.QTD.mean()))\n",
    "print('Mediana da quantidade de empresas por segmento:', f.QTD.median())\n",
    "print('Moda:', f.QTD[0], '-', f.SEGMENTO[0])\n",
    "\n",
    "# Medidas de dispersão\n",
    "print('Amplitude:', f.QTD.max()-f.QTD.min())\n",
    "print('Desvio padrão:', round(f.QTD.std(), 2))\n",
    "print('Coeficiente de variação:', round(f.QTD.std()/f.QTD.mean(), 2)*100, '%')"
   ]
  },
  {
   "cell_type": "markdown",
   "metadata": {},
   "source": [
    "### Considerações\n",
    "\n",
    "Podemos ver, também, através dos gráficos anteriores, que referenciam a variável \"segmento\", um total de 83 categorias que comportam 432 registros. O segmento com o maior número de empresas é o \"Energia elétrica\", com 54 registros, equivalente à 13% do total, e há 21 segmentos como menores comportando apenas 1 registro cada, equivalente à 0,23% do total cada. \n",
    "\n",
    "Dessa forma temos como medidas o valor máximo de 54, o valor mínimo de 1, a média para cada segmento com 5, a mediana de 3 e um desvio padrão de aproximadamente 7 registros, resultando num coeficiente de variação de 134% dentro de um conjunto de dados com uma amplitude de 53 registros.\n",
    "\n",
    "De forma aparente, percebe-se um acumulo da maioria das empresas entre os 3 maiores segmentos (Energia Elétrica, Incorporações, Bancos, consecutivamente), que comportam 104 registros de 432, ou em termos relativos, cerca de 24% do total, contudo, estes encontram-se fora dos padrões e são considerados outliers. \n"
   ]
  },
  {
   "cell_type": "markdown",
   "metadata": {},
   "source": [
    "## DESCRIÇÃO DA VARIÁVEL \"LISTAGEM\""
   ]
  },
  {
   "cell_type": "code",
   "execution_count": 24,
   "metadata": {},
   "outputs": [
    {
     "data": {
      "text/html": [
       "<div>\n",
       "<style scoped>\n",
       "    .dataframe tbody tr th:only-of-type {\n",
       "        vertical-align: middle;\n",
       "    }\n",
       "\n",
       "    .dataframe tbody tr th {\n",
       "        vertical-align: top;\n",
       "    }\n",
       "\n",
       "    .dataframe thead th {\n",
       "        text-align: right;\n",
       "    }\n",
       "</style>\n",
       "<table border=\"1\" class=\"dataframe\">\n",
       "  <thead>\n",
       "    <tr style=\"text-align: right;\">\n",
       "      <th></th>\n",
       "      <th>LISTAGEM</th>\n",
       "      <th>QTD</th>\n",
       "    </tr>\n",
       "  </thead>\n",
       "  <tbody>\n",
       "    <tr>\n",
       "      <th>0</th>\n",
       "      <td>NM</td>\n",
       "      <td>194</td>\n",
       "    </tr>\n",
       "    <tr>\n",
       "      <th>1</th>\n",
       "      <td>AUSENTE</td>\n",
       "      <td>160</td>\n",
       "    </tr>\n",
       "    <tr>\n",
       "      <th>2</th>\n",
       "      <td>N1</td>\n",
       "      <td>24</td>\n",
       "    </tr>\n",
       "    <tr>\n",
       "      <th>3</th>\n",
       "      <td>N2</td>\n",
       "      <td>21</td>\n",
       "    </tr>\n",
       "    <tr>\n",
       "      <th>4</th>\n",
       "      <td>MA</td>\n",
       "      <td>13</td>\n",
       "    </tr>\n",
       "  </tbody>\n",
       "</table>\n",
       "</div>"
      ],
      "text/plain": [
       "  LISTAGEM  QTD\n",
       "0       NM  194\n",
       "1  AUSENTE  160\n",
       "2       N1   24\n",
       "3       N2   21\n",
       "4       MA   13"
      ]
     },
     "execution_count": 24,
     "metadata": {},
     "output_type": "execute_result"
    }
   ],
   "source": [
    "# Criação de tabela de frequência absoluta da variável 'listagem'\n",
    "f = df.value_counts(subset=['LISTAGEM'], sort=True, ascending=False ).rename(\"QTD\").reset_index()\n",
    "f.head()"
   ]
  },
  {
   "cell_type": "markdown",
   "metadata": {},
   "source": [
    "### Frequência"
   ]
  },
  {
   "cell_type": "code",
   "execution_count": 27,
   "metadata": {},
   "outputs": [
    {
     "name": "stderr",
     "output_type": "stream",
     "text": [
      "c:\\Users\\adria\\anaconda3\\Lib\\site-packages\\plotly\\express\\_core.py:1958: FutureWarning:\n",
      "\n",
      "The default of observed=False is deprecated and will be changed to True in a future version of pandas. Pass observed=False to retain current behavior or observed=True to adopt the future default and silence this warning.\n",
      "\n"
     ]
    },
    {
     "data": {
      "application/vnd.plotly.v1+json": {
       "config": {
        "plotlyServerURL": "https://plot.ly"
       },
       "data": [
        {
         "alignmentgroup": "True",
         "legendgroup": "NM",
         "marker": {
          "color": "#636efa",
          "pattern": {
           "shape": ""
          }
         },
         "name": "NM",
         "offsetgroup": "NM",
         "orientation": "h",
         "showlegend": true,
         "textposition": "auto",
         "texttemplate": "%{x}",
         "type": "bar",
         "x": [
          194
         ],
         "xaxis": "x",
         "y": [
          "NM"
         ],
         "yaxis": "y"
        },
        {
         "alignmentgroup": "True",
         "legendgroup": "AUSENTE",
         "marker": {
          "color": "#EF553B",
          "pattern": {
           "shape": ""
          }
         },
         "name": "AUSENTE",
         "offsetgroup": "AUSENTE",
         "orientation": "h",
         "showlegend": true,
         "textposition": "auto",
         "texttemplate": "%{x}",
         "type": "bar",
         "x": [
          160
         ],
         "xaxis": "x",
         "y": [
          "AUSENTE"
         ],
         "yaxis": "y"
        },
        {
         "alignmentgroup": "True",
         "legendgroup": "N1",
         "marker": {
          "color": "#00cc96",
          "pattern": {
           "shape": ""
          }
         },
         "name": "N1",
         "offsetgroup": "N1",
         "orientation": "h",
         "showlegend": true,
         "textposition": "auto",
         "texttemplate": "%{x}",
         "type": "bar",
         "x": [
          24
         ],
         "xaxis": "x",
         "y": [
          "N1"
         ],
         "yaxis": "y"
        },
        {
         "alignmentgroup": "True",
         "legendgroup": "N2",
         "marker": {
          "color": "#ab63fa",
          "pattern": {
           "shape": ""
          }
         },
         "name": "N2",
         "offsetgroup": "N2",
         "orientation": "h",
         "showlegend": true,
         "textposition": "auto",
         "texttemplate": "%{x}",
         "type": "bar",
         "x": [
          21
         ],
         "xaxis": "x",
         "y": [
          "N2"
         ],
         "yaxis": "y"
        },
        {
         "alignmentgroup": "True",
         "legendgroup": "MA",
         "marker": {
          "color": "#FFA15A",
          "pattern": {
           "shape": ""
          }
         },
         "name": "MA",
         "offsetgroup": "MA",
         "orientation": "h",
         "showlegend": true,
         "textposition": "auto",
         "texttemplate": "%{x}",
         "type": "bar",
         "x": [
          13
         ],
         "xaxis": "x",
         "y": [
          "MA"
         ],
         "yaxis": "y"
        },
        {
         "alignmentgroup": "True",
         "legendgroup": "MB",
         "marker": {
          "color": "#19d3f3",
          "pattern": {
           "shape": ""
          }
         },
         "name": "MB",
         "offsetgroup": "MB",
         "orientation": "h",
         "showlegend": true,
         "textposition": "auto",
         "texttemplate": "%{x}",
         "type": "bar",
         "x": [
          10
         ],
         "xaxis": "x",
         "y": [
          "MB"
         ],
         "yaxis": "y"
        },
        {
         "alignmentgroup": "True",
         "legendgroup": "DR1",
         "marker": {
          "color": "#FF6692",
          "pattern": {
           "shape": ""
          }
         },
         "name": "DR1",
         "offsetgroup": "DR1",
         "orientation": "h",
         "showlegend": true,
         "textposition": "auto",
         "texttemplate": "%{x}",
         "type": "bar",
         "x": [
          4
         ],
         "xaxis": "x",
         "y": [
          "DR1"
         ],
         "yaxis": "y"
        },
        {
         "alignmentgroup": "True",
         "legendgroup": "DR3",
         "marker": {
          "color": "#B6E880",
          "pattern": {
           "shape": ""
          }
         },
         "name": "DR3",
         "offsetgroup": "DR3",
         "orientation": "h",
         "showlegend": true,
         "textposition": "auto",
         "texttemplate": "%{x}",
         "type": "bar",
         "x": [
          4
         ],
         "xaxis": "x",
         "y": [
          "DR3"
         ],
         "yaxis": "y"
        },
        {
         "alignmentgroup": "True",
         "legendgroup": "M2",
         "marker": {
          "color": "#FF97FF",
          "pattern": {
           "shape": ""
          }
         },
         "name": "M2",
         "offsetgroup": "M2",
         "orientation": "h",
         "showlegend": true,
         "textposition": "auto",
         "texttemplate": "%{x}",
         "type": "bar",
         "x": [
          2
         ],
         "xaxis": "x",
         "y": [
          "M2"
         ],
         "yaxis": "y"
        }
       ],
       "layout": {
        "barmode": "relative",
        "hovermode": "y",
        "legend": {
         "title": {
          "text": "LISTAGEM"
         },
         "tracegroupgap": 0
        },
        "showlegend": false,
        "template": {
         "data": {
          "bar": [
           {
            "error_x": {
             "color": "#f2f5fa"
            },
            "error_y": {
             "color": "#f2f5fa"
            },
            "marker": {
             "line": {
              "color": "rgb(17,17,17)",
              "width": 0.5
             },
             "pattern": {
              "fillmode": "overlay",
              "size": 10,
              "solidity": 0.2
             }
            },
            "type": "bar"
           }
          ],
          "barpolar": [
           {
            "marker": {
             "line": {
              "color": "rgb(17,17,17)",
              "width": 0.5
             },
             "pattern": {
              "fillmode": "overlay",
              "size": 10,
              "solidity": 0.2
             }
            },
            "type": "barpolar"
           }
          ],
          "carpet": [
           {
            "aaxis": {
             "endlinecolor": "#A2B1C6",
             "gridcolor": "#506784",
             "linecolor": "#506784",
             "minorgridcolor": "#506784",
             "startlinecolor": "#A2B1C6"
            },
            "baxis": {
             "endlinecolor": "#A2B1C6",
             "gridcolor": "#506784",
             "linecolor": "#506784",
             "minorgridcolor": "#506784",
             "startlinecolor": "#A2B1C6"
            },
            "type": "carpet"
           }
          ],
          "choropleth": [
           {
            "colorbar": {
             "outlinewidth": 0,
             "ticks": ""
            },
            "type": "choropleth"
           }
          ],
          "contour": [
           {
            "colorbar": {
             "outlinewidth": 0,
             "ticks": ""
            },
            "colorscale": [
             [
              0,
              "#0d0887"
             ],
             [
              0.1111111111111111,
              "#46039f"
             ],
             [
              0.2222222222222222,
              "#7201a8"
             ],
             [
              0.3333333333333333,
              "#9c179e"
             ],
             [
              0.4444444444444444,
              "#bd3786"
             ],
             [
              0.5555555555555556,
              "#d8576b"
             ],
             [
              0.6666666666666666,
              "#ed7953"
             ],
             [
              0.7777777777777778,
              "#fb9f3a"
             ],
             [
              0.8888888888888888,
              "#fdca26"
             ],
             [
              1,
              "#f0f921"
             ]
            ],
            "type": "contour"
           }
          ],
          "contourcarpet": [
           {
            "colorbar": {
             "outlinewidth": 0,
             "ticks": ""
            },
            "type": "contourcarpet"
           }
          ],
          "heatmap": [
           {
            "colorbar": {
             "outlinewidth": 0,
             "ticks": ""
            },
            "colorscale": [
             [
              0,
              "#0d0887"
             ],
             [
              0.1111111111111111,
              "#46039f"
             ],
             [
              0.2222222222222222,
              "#7201a8"
             ],
             [
              0.3333333333333333,
              "#9c179e"
             ],
             [
              0.4444444444444444,
              "#bd3786"
             ],
             [
              0.5555555555555556,
              "#d8576b"
             ],
             [
              0.6666666666666666,
              "#ed7953"
             ],
             [
              0.7777777777777778,
              "#fb9f3a"
             ],
             [
              0.8888888888888888,
              "#fdca26"
             ],
             [
              1,
              "#f0f921"
             ]
            ],
            "type": "heatmap"
           }
          ],
          "heatmapgl": [
           {
            "colorbar": {
             "outlinewidth": 0,
             "ticks": ""
            },
            "colorscale": [
             [
              0,
              "#0d0887"
             ],
             [
              0.1111111111111111,
              "#46039f"
             ],
             [
              0.2222222222222222,
              "#7201a8"
             ],
             [
              0.3333333333333333,
              "#9c179e"
             ],
             [
              0.4444444444444444,
              "#bd3786"
             ],
             [
              0.5555555555555556,
              "#d8576b"
             ],
             [
              0.6666666666666666,
              "#ed7953"
             ],
             [
              0.7777777777777778,
              "#fb9f3a"
             ],
             [
              0.8888888888888888,
              "#fdca26"
             ],
             [
              1,
              "#f0f921"
             ]
            ],
            "type": "heatmapgl"
           }
          ],
          "histogram": [
           {
            "marker": {
             "pattern": {
              "fillmode": "overlay",
              "size": 10,
              "solidity": 0.2
             }
            },
            "type": "histogram"
           }
          ],
          "histogram2d": [
           {
            "colorbar": {
             "outlinewidth": 0,
             "ticks": ""
            },
            "colorscale": [
             [
              0,
              "#0d0887"
             ],
             [
              0.1111111111111111,
              "#46039f"
             ],
             [
              0.2222222222222222,
              "#7201a8"
             ],
             [
              0.3333333333333333,
              "#9c179e"
             ],
             [
              0.4444444444444444,
              "#bd3786"
             ],
             [
              0.5555555555555556,
              "#d8576b"
             ],
             [
              0.6666666666666666,
              "#ed7953"
             ],
             [
              0.7777777777777778,
              "#fb9f3a"
             ],
             [
              0.8888888888888888,
              "#fdca26"
             ],
             [
              1,
              "#f0f921"
             ]
            ],
            "type": "histogram2d"
           }
          ],
          "histogram2dcontour": [
           {
            "colorbar": {
             "outlinewidth": 0,
             "ticks": ""
            },
            "colorscale": [
             [
              0,
              "#0d0887"
             ],
             [
              0.1111111111111111,
              "#46039f"
             ],
             [
              0.2222222222222222,
              "#7201a8"
             ],
             [
              0.3333333333333333,
              "#9c179e"
             ],
             [
              0.4444444444444444,
              "#bd3786"
             ],
             [
              0.5555555555555556,
              "#d8576b"
             ],
             [
              0.6666666666666666,
              "#ed7953"
             ],
             [
              0.7777777777777778,
              "#fb9f3a"
             ],
             [
              0.8888888888888888,
              "#fdca26"
             ],
             [
              1,
              "#f0f921"
             ]
            ],
            "type": "histogram2dcontour"
           }
          ],
          "mesh3d": [
           {
            "colorbar": {
             "outlinewidth": 0,
             "ticks": ""
            },
            "type": "mesh3d"
           }
          ],
          "parcoords": [
           {
            "line": {
             "colorbar": {
              "outlinewidth": 0,
              "ticks": ""
             }
            },
            "type": "parcoords"
           }
          ],
          "pie": [
           {
            "automargin": true,
            "type": "pie"
           }
          ],
          "scatter": [
           {
            "marker": {
             "line": {
              "color": "#283442"
             }
            },
            "type": "scatter"
           }
          ],
          "scatter3d": [
           {
            "line": {
             "colorbar": {
              "outlinewidth": 0,
              "ticks": ""
             }
            },
            "marker": {
             "colorbar": {
              "outlinewidth": 0,
              "ticks": ""
             }
            },
            "type": "scatter3d"
           }
          ],
          "scattercarpet": [
           {
            "marker": {
             "colorbar": {
              "outlinewidth": 0,
              "ticks": ""
             }
            },
            "type": "scattercarpet"
           }
          ],
          "scattergeo": [
           {
            "marker": {
             "colorbar": {
              "outlinewidth": 0,
              "ticks": ""
             }
            },
            "type": "scattergeo"
           }
          ],
          "scattergl": [
           {
            "marker": {
             "line": {
              "color": "#283442"
             }
            },
            "type": "scattergl"
           }
          ],
          "scattermapbox": [
           {
            "marker": {
             "colorbar": {
              "outlinewidth": 0,
              "ticks": ""
             }
            },
            "type": "scattermapbox"
           }
          ],
          "scatterpolar": [
           {
            "marker": {
             "colorbar": {
              "outlinewidth": 0,
              "ticks": ""
             }
            },
            "type": "scatterpolar"
           }
          ],
          "scatterpolargl": [
           {
            "marker": {
             "colorbar": {
              "outlinewidth": 0,
              "ticks": ""
             }
            },
            "type": "scatterpolargl"
           }
          ],
          "scatterternary": [
           {
            "marker": {
             "colorbar": {
              "outlinewidth": 0,
              "ticks": ""
             }
            },
            "type": "scatterternary"
           }
          ],
          "surface": [
           {
            "colorbar": {
             "outlinewidth": 0,
             "ticks": ""
            },
            "colorscale": [
             [
              0,
              "#0d0887"
             ],
             [
              0.1111111111111111,
              "#46039f"
             ],
             [
              0.2222222222222222,
              "#7201a8"
             ],
             [
              0.3333333333333333,
              "#9c179e"
             ],
             [
              0.4444444444444444,
              "#bd3786"
             ],
             [
              0.5555555555555556,
              "#d8576b"
             ],
             [
              0.6666666666666666,
              "#ed7953"
             ],
             [
              0.7777777777777778,
              "#fb9f3a"
             ],
             [
              0.8888888888888888,
              "#fdca26"
             ],
             [
              1,
              "#f0f921"
             ]
            ],
            "type": "surface"
           }
          ],
          "table": [
           {
            "cells": {
             "fill": {
              "color": "#506784"
             },
             "line": {
              "color": "rgb(17,17,17)"
             }
            },
            "header": {
             "fill": {
              "color": "#2a3f5f"
             },
             "line": {
              "color": "rgb(17,17,17)"
             }
            },
            "type": "table"
           }
          ]
         },
         "layout": {
          "annotationdefaults": {
           "arrowcolor": "#f2f5fa",
           "arrowhead": 0,
           "arrowwidth": 1
          },
          "autotypenumbers": "strict",
          "coloraxis": {
           "colorbar": {
            "outlinewidth": 0,
            "ticks": ""
           }
          },
          "colorscale": {
           "diverging": [
            [
             0,
             "#8e0152"
            ],
            [
             0.1,
             "#c51b7d"
            ],
            [
             0.2,
             "#de77ae"
            ],
            [
             0.3,
             "#f1b6da"
            ],
            [
             0.4,
             "#fde0ef"
            ],
            [
             0.5,
             "#f7f7f7"
            ],
            [
             0.6,
             "#e6f5d0"
            ],
            [
             0.7,
             "#b8e186"
            ],
            [
             0.8,
             "#7fbc41"
            ],
            [
             0.9,
             "#4d9221"
            ],
            [
             1,
             "#276419"
            ]
           ],
           "sequential": [
            [
             0,
             "#0d0887"
            ],
            [
             0.1111111111111111,
             "#46039f"
            ],
            [
             0.2222222222222222,
             "#7201a8"
            ],
            [
             0.3333333333333333,
             "#9c179e"
            ],
            [
             0.4444444444444444,
             "#bd3786"
            ],
            [
             0.5555555555555556,
             "#d8576b"
            ],
            [
             0.6666666666666666,
             "#ed7953"
            ],
            [
             0.7777777777777778,
             "#fb9f3a"
            ],
            [
             0.8888888888888888,
             "#fdca26"
            ],
            [
             1,
             "#f0f921"
            ]
           ],
           "sequentialminus": [
            [
             0,
             "#0d0887"
            ],
            [
             0.1111111111111111,
             "#46039f"
            ],
            [
             0.2222222222222222,
             "#7201a8"
            ],
            [
             0.3333333333333333,
             "#9c179e"
            ],
            [
             0.4444444444444444,
             "#bd3786"
            ],
            [
             0.5555555555555556,
             "#d8576b"
            ],
            [
             0.6666666666666666,
             "#ed7953"
            ],
            [
             0.7777777777777778,
             "#fb9f3a"
            ],
            [
             0.8888888888888888,
             "#fdca26"
            ],
            [
             1,
             "#f0f921"
            ]
           ]
          },
          "colorway": [
           "#636efa",
           "#EF553B",
           "#00cc96",
           "#ab63fa",
           "#FFA15A",
           "#19d3f3",
           "#FF6692",
           "#B6E880",
           "#FF97FF",
           "#FECB52"
          ],
          "font": {
           "color": "#f2f5fa"
          },
          "geo": {
           "bgcolor": "rgb(17,17,17)",
           "lakecolor": "rgb(17,17,17)",
           "landcolor": "rgb(17,17,17)",
           "showlakes": true,
           "showland": true,
           "subunitcolor": "#506784"
          },
          "hoverlabel": {
           "align": "left"
          },
          "hovermode": "closest",
          "mapbox": {
           "style": "dark"
          },
          "paper_bgcolor": "rgb(17,17,17)",
          "plot_bgcolor": "rgb(17,17,17)",
          "polar": {
           "angularaxis": {
            "gridcolor": "#506784",
            "linecolor": "#506784",
            "ticks": ""
           },
           "bgcolor": "rgb(17,17,17)",
           "radialaxis": {
            "gridcolor": "#506784",
            "linecolor": "#506784",
            "ticks": ""
           }
          },
          "scene": {
           "xaxis": {
            "backgroundcolor": "rgb(17,17,17)",
            "gridcolor": "#506784",
            "gridwidth": 2,
            "linecolor": "#506784",
            "showbackground": true,
            "ticks": "",
            "zerolinecolor": "#C8D4E3"
           },
           "yaxis": {
            "backgroundcolor": "rgb(17,17,17)",
            "gridcolor": "#506784",
            "gridwidth": 2,
            "linecolor": "#506784",
            "showbackground": true,
            "ticks": "",
            "zerolinecolor": "#C8D4E3"
           },
           "zaxis": {
            "backgroundcolor": "rgb(17,17,17)",
            "gridcolor": "#506784",
            "gridwidth": 2,
            "linecolor": "#506784",
            "showbackground": true,
            "ticks": "",
            "zerolinecolor": "#C8D4E3"
           }
          },
          "shapedefaults": {
           "line": {
            "color": "#f2f5fa"
           }
          },
          "sliderdefaults": {
           "bgcolor": "#C8D4E3",
           "bordercolor": "rgb(17,17,17)",
           "borderwidth": 1,
           "tickwidth": 0
          },
          "ternary": {
           "aaxis": {
            "gridcolor": "#506784",
            "linecolor": "#506784",
            "ticks": ""
           },
           "baxis": {
            "gridcolor": "#506784",
            "linecolor": "#506784",
            "ticks": ""
           },
           "bgcolor": "rgb(17,17,17)",
           "caxis": {
            "gridcolor": "#506784",
            "linecolor": "#506784",
            "ticks": ""
           }
          },
          "title": {
           "x": 0.05
          },
          "updatemenudefaults": {
           "bgcolor": "#506784",
           "borderwidth": 0
          },
          "xaxis": {
           "automargin": true,
           "gridcolor": "#283442",
           "linecolor": "#506784",
           "ticks": "",
           "title": {
            "standoff": 15
           },
           "zerolinecolor": "#283442",
           "zerolinewidth": 2
          },
          "yaxis": {
           "automargin": true,
           "gridcolor": "#283442",
           "linecolor": "#506784",
           "ticks": "",
           "title": {
            "standoff": 15
           },
           "zerolinecolor": "#283442",
           "zerolinewidth": 2
          }
         }
        },
        "title": {
         "text": "Quantidade de empresas por classificação"
        },
        "xaxis": {
         "anchor": "y",
         "domain": [
          0,
          1
         ],
         "title": {
          "text": "Quantidade"
         }
        },
        "yaxis": {
         "anchor": "x",
         "categoryarray": [
          "M2",
          "DR3",
          "DR1",
          "MB",
          "MA",
          "N2",
          "N1",
          "AUSENTE",
          "NM"
         ],
         "categoryorder": "array",
         "domain": [
          0,
          1
         ],
         "title": {
          "text": "LISTAGEM"
         }
        }
       }
      }
     },
     "metadata": {},
     "output_type": "display_data"
    }
   ],
   "source": [
    "# Plot gráfico da frequência absoluta da variável\n",
    "fig = px.bar(template=\"plotly_dark\",\n",
    "             title= 'Quantidade de empresas por classificação', \n",
    "             data_frame=f, \n",
    "             x='QTD', \n",
    "             y='LISTAGEM', \n",
    "             orientation='h',\n",
    "             color='LISTAGEM',\n",
    "             text_auto=True)\n",
    "fig.update_traces(hovertemplate=None)\n",
    "fig.update_layout(hovermode='y')\n",
    "fig.update(layout_showlegend=False)\n",
    "fig.update_xaxes(title_text='Quantidade')\n",
    "fig.show()"
   ]
  },
  {
   "cell_type": "code",
   "execution_count": 28,
   "metadata": {},
   "outputs": [
    {
     "name": "stderr",
     "output_type": "stream",
     "text": [
      "c:\\Users\\adria\\anaconda3\\Lib\\site-packages\\plotly\\express\\_core.py:1619: FutureWarning:\n",
      "\n",
      "The default of observed=False is deprecated and will be changed to True in a future version of pandas. Pass observed=False to retain current behavior or observed=True to adopt the future default and silence this warning.\n",
      "\n"
     ]
    },
    {
     "data": {
      "application/vnd.plotly.v1+json": {
       "config": {
        "plotlyServerURL": "https://plot.ly"
       },
       "data": [
        {
         "branchvalues": "total",
         "domain": {
          "x": [
           0,
           1
          ],
          "y": [
           0,
           1
          ]
         },
         "hoverinfo": "label+value+percent entry",
         "ids": [
          "Total/AUSENTE",
          "Total/DR1",
          "Total/DR3",
          "Total/M2",
          "Total/MA",
          "Total/MB",
          "Total/N1",
          "Total/N2",
          "Total/NM",
          "Total"
         ],
         "labels": [
          "AUSENTE",
          "DR1",
          "DR3",
          "M2",
          "MA",
          "MB",
          "N1",
          "N2",
          "NM",
          "Total"
         ],
         "name": "",
         "parents": [
          "Total",
          "Total",
          "Total",
          "Total",
          "Total",
          "Total",
          "Total",
          "Total",
          "Total",
          ""
         ],
         "textinfo": "label+value+percent entry",
         "type": "treemap",
         "values": [
          160,
          4,
          4,
          2,
          13,
          10,
          24,
          21,
          194,
          432
         ]
        }
       ],
       "layout": {
        "legend": {
         "tracegroupgap": 0
        },
        "template": {
         "data": {
          "bar": [
           {
            "error_x": {
             "color": "#f2f5fa"
            },
            "error_y": {
             "color": "#f2f5fa"
            },
            "marker": {
             "line": {
              "color": "rgb(17,17,17)",
              "width": 0.5
             },
             "pattern": {
              "fillmode": "overlay",
              "size": 10,
              "solidity": 0.2
             }
            },
            "type": "bar"
           }
          ],
          "barpolar": [
           {
            "marker": {
             "line": {
              "color": "rgb(17,17,17)",
              "width": 0.5
             },
             "pattern": {
              "fillmode": "overlay",
              "size": 10,
              "solidity": 0.2
             }
            },
            "type": "barpolar"
           }
          ],
          "carpet": [
           {
            "aaxis": {
             "endlinecolor": "#A2B1C6",
             "gridcolor": "#506784",
             "linecolor": "#506784",
             "minorgridcolor": "#506784",
             "startlinecolor": "#A2B1C6"
            },
            "baxis": {
             "endlinecolor": "#A2B1C6",
             "gridcolor": "#506784",
             "linecolor": "#506784",
             "minorgridcolor": "#506784",
             "startlinecolor": "#A2B1C6"
            },
            "type": "carpet"
           }
          ],
          "choropleth": [
           {
            "colorbar": {
             "outlinewidth": 0,
             "ticks": ""
            },
            "type": "choropleth"
           }
          ],
          "contour": [
           {
            "colorbar": {
             "outlinewidth": 0,
             "ticks": ""
            },
            "colorscale": [
             [
              0,
              "#0d0887"
             ],
             [
              0.1111111111111111,
              "#46039f"
             ],
             [
              0.2222222222222222,
              "#7201a8"
             ],
             [
              0.3333333333333333,
              "#9c179e"
             ],
             [
              0.4444444444444444,
              "#bd3786"
             ],
             [
              0.5555555555555556,
              "#d8576b"
             ],
             [
              0.6666666666666666,
              "#ed7953"
             ],
             [
              0.7777777777777778,
              "#fb9f3a"
             ],
             [
              0.8888888888888888,
              "#fdca26"
             ],
             [
              1,
              "#f0f921"
             ]
            ],
            "type": "contour"
           }
          ],
          "contourcarpet": [
           {
            "colorbar": {
             "outlinewidth": 0,
             "ticks": ""
            },
            "type": "contourcarpet"
           }
          ],
          "heatmap": [
           {
            "colorbar": {
             "outlinewidth": 0,
             "ticks": ""
            },
            "colorscale": [
             [
              0,
              "#0d0887"
             ],
             [
              0.1111111111111111,
              "#46039f"
             ],
             [
              0.2222222222222222,
              "#7201a8"
             ],
             [
              0.3333333333333333,
              "#9c179e"
             ],
             [
              0.4444444444444444,
              "#bd3786"
             ],
             [
              0.5555555555555556,
              "#d8576b"
             ],
             [
              0.6666666666666666,
              "#ed7953"
             ],
             [
              0.7777777777777778,
              "#fb9f3a"
             ],
             [
              0.8888888888888888,
              "#fdca26"
             ],
             [
              1,
              "#f0f921"
             ]
            ],
            "type": "heatmap"
           }
          ],
          "heatmapgl": [
           {
            "colorbar": {
             "outlinewidth": 0,
             "ticks": ""
            },
            "colorscale": [
             [
              0,
              "#0d0887"
             ],
             [
              0.1111111111111111,
              "#46039f"
             ],
             [
              0.2222222222222222,
              "#7201a8"
             ],
             [
              0.3333333333333333,
              "#9c179e"
             ],
             [
              0.4444444444444444,
              "#bd3786"
             ],
             [
              0.5555555555555556,
              "#d8576b"
             ],
             [
              0.6666666666666666,
              "#ed7953"
             ],
             [
              0.7777777777777778,
              "#fb9f3a"
             ],
             [
              0.8888888888888888,
              "#fdca26"
             ],
             [
              1,
              "#f0f921"
             ]
            ],
            "type": "heatmapgl"
           }
          ],
          "histogram": [
           {
            "marker": {
             "pattern": {
              "fillmode": "overlay",
              "size": 10,
              "solidity": 0.2
             }
            },
            "type": "histogram"
           }
          ],
          "histogram2d": [
           {
            "colorbar": {
             "outlinewidth": 0,
             "ticks": ""
            },
            "colorscale": [
             [
              0,
              "#0d0887"
             ],
             [
              0.1111111111111111,
              "#46039f"
             ],
             [
              0.2222222222222222,
              "#7201a8"
             ],
             [
              0.3333333333333333,
              "#9c179e"
             ],
             [
              0.4444444444444444,
              "#bd3786"
             ],
             [
              0.5555555555555556,
              "#d8576b"
             ],
             [
              0.6666666666666666,
              "#ed7953"
             ],
             [
              0.7777777777777778,
              "#fb9f3a"
             ],
             [
              0.8888888888888888,
              "#fdca26"
             ],
             [
              1,
              "#f0f921"
             ]
            ],
            "type": "histogram2d"
           }
          ],
          "histogram2dcontour": [
           {
            "colorbar": {
             "outlinewidth": 0,
             "ticks": ""
            },
            "colorscale": [
             [
              0,
              "#0d0887"
             ],
             [
              0.1111111111111111,
              "#46039f"
             ],
             [
              0.2222222222222222,
              "#7201a8"
             ],
             [
              0.3333333333333333,
              "#9c179e"
             ],
             [
              0.4444444444444444,
              "#bd3786"
             ],
             [
              0.5555555555555556,
              "#d8576b"
             ],
             [
              0.6666666666666666,
              "#ed7953"
             ],
             [
              0.7777777777777778,
              "#fb9f3a"
             ],
             [
              0.8888888888888888,
              "#fdca26"
             ],
             [
              1,
              "#f0f921"
             ]
            ],
            "type": "histogram2dcontour"
           }
          ],
          "mesh3d": [
           {
            "colorbar": {
             "outlinewidth": 0,
             "ticks": ""
            },
            "type": "mesh3d"
           }
          ],
          "parcoords": [
           {
            "line": {
             "colorbar": {
              "outlinewidth": 0,
              "ticks": ""
             }
            },
            "type": "parcoords"
           }
          ],
          "pie": [
           {
            "automargin": true,
            "type": "pie"
           }
          ],
          "scatter": [
           {
            "marker": {
             "line": {
              "color": "#283442"
             }
            },
            "type": "scatter"
           }
          ],
          "scatter3d": [
           {
            "line": {
             "colorbar": {
              "outlinewidth": 0,
              "ticks": ""
             }
            },
            "marker": {
             "colorbar": {
              "outlinewidth": 0,
              "ticks": ""
             }
            },
            "type": "scatter3d"
           }
          ],
          "scattercarpet": [
           {
            "marker": {
             "colorbar": {
              "outlinewidth": 0,
              "ticks": ""
             }
            },
            "type": "scattercarpet"
           }
          ],
          "scattergeo": [
           {
            "marker": {
             "colorbar": {
              "outlinewidth": 0,
              "ticks": ""
             }
            },
            "type": "scattergeo"
           }
          ],
          "scattergl": [
           {
            "marker": {
             "line": {
              "color": "#283442"
             }
            },
            "type": "scattergl"
           }
          ],
          "scattermapbox": [
           {
            "marker": {
             "colorbar": {
              "outlinewidth": 0,
              "ticks": ""
             }
            },
            "type": "scattermapbox"
           }
          ],
          "scatterpolar": [
           {
            "marker": {
             "colorbar": {
              "outlinewidth": 0,
              "ticks": ""
             }
            },
            "type": "scatterpolar"
           }
          ],
          "scatterpolargl": [
           {
            "marker": {
             "colorbar": {
              "outlinewidth": 0,
              "ticks": ""
             }
            },
            "type": "scatterpolargl"
           }
          ],
          "scatterternary": [
           {
            "marker": {
             "colorbar": {
              "outlinewidth": 0,
              "ticks": ""
             }
            },
            "type": "scatterternary"
           }
          ],
          "surface": [
           {
            "colorbar": {
             "outlinewidth": 0,
             "ticks": ""
            },
            "colorscale": [
             [
              0,
              "#0d0887"
             ],
             [
              0.1111111111111111,
              "#46039f"
             ],
             [
              0.2222222222222222,
              "#7201a8"
             ],
             [
              0.3333333333333333,
              "#9c179e"
             ],
             [
              0.4444444444444444,
              "#bd3786"
             ],
             [
              0.5555555555555556,
              "#d8576b"
             ],
             [
              0.6666666666666666,
              "#ed7953"
             ],
             [
              0.7777777777777778,
              "#fb9f3a"
             ],
             [
              0.8888888888888888,
              "#fdca26"
             ],
             [
              1,
              "#f0f921"
             ]
            ],
            "type": "surface"
           }
          ],
          "table": [
           {
            "cells": {
             "fill": {
              "color": "#506784"
             },
             "line": {
              "color": "rgb(17,17,17)"
             }
            },
            "header": {
             "fill": {
              "color": "#2a3f5f"
             },
             "line": {
              "color": "rgb(17,17,17)"
             }
            },
            "type": "table"
           }
          ]
         },
         "layout": {
          "annotationdefaults": {
           "arrowcolor": "#f2f5fa",
           "arrowhead": 0,
           "arrowwidth": 1
          },
          "autotypenumbers": "strict",
          "coloraxis": {
           "colorbar": {
            "outlinewidth": 0,
            "ticks": ""
           }
          },
          "colorscale": {
           "diverging": [
            [
             0,
             "#8e0152"
            ],
            [
             0.1,
             "#c51b7d"
            ],
            [
             0.2,
             "#de77ae"
            ],
            [
             0.3,
             "#f1b6da"
            ],
            [
             0.4,
             "#fde0ef"
            ],
            [
             0.5,
             "#f7f7f7"
            ],
            [
             0.6,
             "#e6f5d0"
            ],
            [
             0.7,
             "#b8e186"
            ],
            [
             0.8,
             "#7fbc41"
            ],
            [
             0.9,
             "#4d9221"
            ],
            [
             1,
             "#276419"
            ]
           ],
           "sequential": [
            [
             0,
             "#0d0887"
            ],
            [
             0.1111111111111111,
             "#46039f"
            ],
            [
             0.2222222222222222,
             "#7201a8"
            ],
            [
             0.3333333333333333,
             "#9c179e"
            ],
            [
             0.4444444444444444,
             "#bd3786"
            ],
            [
             0.5555555555555556,
             "#d8576b"
            ],
            [
             0.6666666666666666,
             "#ed7953"
            ],
            [
             0.7777777777777778,
             "#fb9f3a"
            ],
            [
             0.8888888888888888,
             "#fdca26"
            ],
            [
             1,
             "#f0f921"
            ]
           ],
           "sequentialminus": [
            [
             0,
             "#0d0887"
            ],
            [
             0.1111111111111111,
             "#46039f"
            ],
            [
             0.2222222222222222,
             "#7201a8"
            ],
            [
             0.3333333333333333,
             "#9c179e"
            ],
            [
             0.4444444444444444,
             "#bd3786"
            ],
            [
             0.5555555555555556,
             "#d8576b"
            ],
            [
             0.6666666666666666,
             "#ed7953"
            ],
            [
             0.7777777777777778,
             "#fb9f3a"
            ],
            [
             0.8888888888888888,
             "#fdca26"
            ],
            [
             1,
             "#f0f921"
            ]
           ]
          },
          "colorway": [
           "#636efa",
           "#EF553B",
           "#00cc96",
           "#ab63fa",
           "#FFA15A",
           "#19d3f3",
           "#FF6692",
           "#B6E880",
           "#FF97FF",
           "#FECB52"
          ],
          "font": {
           "color": "#f2f5fa"
          },
          "geo": {
           "bgcolor": "rgb(17,17,17)",
           "lakecolor": "rgb(17,17,17)",
           "landcolor": "rgb(17,17,17)",
           "showlakes": true,
           "showland": true,
           "subunitcolor": "#506784"
          },
          "hoverlabel": {
           "align": "left"
          },
          "hovermode": "closest",
          "mapbox": {
           "style": "dark"
          },
          "paper_bgcolor": "rgb(17,17,17)",
          "plot_bgcolor": "rgb(17,17,17)",
          "polar": {
           "angularaxis": {
            "gridcolor": "#506784",
            "linecolor": "#506784",
            "ticks": ""
           },
           "bgcolor": "rgb(17,17,17)",
           "radialaxis": {
            "gridcolor": "#506784",
            "linecolor": "#506784",
            "ticks": ""
           }
          },
          "scene": {
           "xaxis": {
            "backgroundcolor": "rgb(17,17,17)",
            "gridcolor": "#506784",
            "gridwidth": 2,
            "linecolor": "#506784",
            "showbackground": true,
            "ticks": "",
            "zerolinecolor": "#C8D4E3"
           },
           "yaxis": {
            "backgroundcolor": "rgb(17,17,17)",
            "gridcolor": "#506784",
            "gridwidth": 2,
            "linecolor": "#506784",
            "showbackground": true,
            "ticks": "",
            "zerolinecolor": "#C8D4E3"
           },
           "zaxis": {
            "backgroundcolor": "rgb(17,17,17)",
            "gridcolor": "#506784",
            "gridwidth": 2,
            "linecolor": "#506784",
            "showbackground": true,
            "ticks": "",
            "zerolinecolor": "#C8D4E3"
           }
          },
          "shapedefaults": {
           "line": {
            "color": "#f2f5fa"
           }
          },
          "sliderdefaults": {
           "bgcolor": "#C8D4E3",
           "bordercolor": "rgb(17,17,17)",
           "borderwidth": 1,
           "tickwidth": 0
          },
          "ternary": {
           "aaxis": {
            "gridcolor": "#506784",
            "linecolor": "#506784",
            "ticks": ""
           },
           "baxis": {
            "gridcolor": "#506784",
            "linecolor": "#506784",
            "ticks": ""
           },
           "bgcolor": "rgb(17,17,17)",
           "caxis": {
            "gridcolor": "#506784",
            "linecolor": "#506784",
            "ticks": ""
           }
          },
          "title": {
           "x": 0.05
          },
          "updatemenudefaults": {
           "bgcolor": "#506784",
           "borderwidth": 0
          },
          "xaxis": {
           "automargin": true,
           "gridcolor": "#283442",
           "linecolor": "#506784",
           "ticks": "",
           "title": {
            "standoff": 15
           },
           "zerolinecolor": "#283442",
           "zerolinewidth": 2
          },
          "yaxis": {
           "automargin": true,
           "gridcolor": "#283442",
           "linecolor": "#506784",
           "ticks": "",
           "title": {
            "standoff": 15
           },
           "zerolinecolor": "#283442",
           "zerolinewidth": 2
          }
         }
        },
        "title": {
         "text": "Quantidade relativa de empresas por classificação"
        }
       }
      }
     },
     "metadata": {},
     "output_type": "display_data"
    }
   ],
   "source": [
    "# Plot gráfico da frequência relativa da variável\n",
    "fig = px.treemap(data_frame=f,\n",
    "                 path=[px.Constant('Total'), 'LISTAGEM'],\n",
    "                 values='QTD',\n",
    "                 template='plotly_dark',\n",
    "                 title='Quantidade relativa de empresas por classificação')\n",
    "\n",
    "fig.update_traces(hovertemplate=None, hoverinfo='label+value+percent entry', textinfo='label+value+percent entry')\n",
    "fig.show()"
   ]
  },
  {
   "cell_type": "markdown",
   "metadata": {},
   "source": [
    "### Distribuição"
   ]
  },
  {
   "cell_type": "code",
   "execution_count": 29,
   "metadata": {},
   "outputs": [
    {
     "data": {
      "application/vnd.plotly.v1+json": {
       "config": {
        "plotlyServerURL": "https://plot.ly"
       },
       "data": [
        {
         "alignmentgroup": "True",
         "boxpoints": "all",
         "hovertemplate": "QTD=%{x}<extra></extra>",
         "legendgroup": "",
         "marker": {
          "color": "#636efa"
         },
         "name": "",
         "notched": false,
         "offsetgroup": "",
         "orientation": "h",
         "showlegend": false,
         "type": "box",
         "x": [
          194,
          160,
          24,
          21,
          13,
          10,
          4,
          4,
          2
         ],
         "x0": " ",
         "xaxis": "x",
         "y0": " ",
         "yaxis": "y"
        }
       ],
       "layout": {
        "boxmode": "group",
        "legend": {
         "tracegroupgap": 0
        },
        "template": {
         "data": {
          "bar": [
           {
            "error_x": {
             "color": "#f2f5fa"
            },
            "error_y": {
             "color": "#f2f5fa"
            },
            "marker": {
             "line": {
              "color": "rgb(17,17,17)",
              "width": 0.5
             },
             "pattern": {
              "fillmode": "overlay",
              "size": 10,
              "solidity": 0.2
             }
            },
            "type": "bar"
           }
          ],
          "barpolar": [
           {
            "marker": {
             "line": {
              "color": "rgb(17,17,17)",
              "width": 0.5
             },
             "pattern": {
              "fillmode": "overlay",
              "size": 10,
              "solidity": 0.2
             }
            },
            "type": "barpolar"
           }
          ],
          "carpet": [
           {
            "aaxis": {
             "endlinecolor": "#A2B1C6",
             "gridcolor": "#506784",
             "linecolor": "#506784",
             "minorgridcolor": "#506784",
             "startlinecolor": "#A2B1C6"
            },
            "baxis": {
             "endlinecolor": "#A2B1C6",
             "gridcolor": "#506784",
             "linecolor": "#506784",
             "minorgridcolor": "#506784",
             "startlinecolor": "#A2B1C6"
            },
            "type": "carpet"
           }
          ],
          "choropleth": [
           {
            "colorbar": {
             "outlinewidth": 0,
             "ticks": ""
            },
            "type": "choropleth"
           }
          ],
          "contour": [
           {
            "colorbar": {
             "outlinewidth": 0,
             "ticks": ""
            },
            "colorscale": [
             [
              0,
              "#0d0887"
             ],
             [
              0.1111111111111111,
              "#46039f"
             ],
             [
              0.2222222222222222,
              "#7201a8"
             ],
             [
              0.3333333333333333,
              "#9c179e"
             ],
             [
              0.4444444444444444,
              "#bd3786"
             ],
             [
              0.5555555555555556,
              "#d8576b"
             ],
             [
              0.6666666666666666,
              "#ed7953"
             ],
             [
              0.7777777777777778,
              "#fb9f3a"
             ],
             [
              0.8888888888888888,
              "#fdca26"
             ],
             [
              1,
              "#f0f921"
             ]
            ],
            "type": "contour"
           }
          ],
          "contourcarpet": [
           {
            "colorbar": {
             "outlinewidth": 0,
             "ticks": ""
            },
            "type": "contourcarpet"
           }
          ],
          "heatmap": [
           {
            "colorbar": {
             "outlinewidth": 0,
             "ticks": ""
            },
            "colorscale": [
             [
              0,
              "#0d0887"
             ],
             [
              0.1111111111111111,
              "#46039f"
             ],
             [
              0.2222222222222222,
              "#7201a8"
             ],
             [
              0.3333333333333333,
              "#9c179e"
             ],
             [
              0.4444444444444444,
              "#bd3786"
             ],
             [
              0.5555555555555556,
              "#d8576b"
             ],
             [
              0.6666666666666666,
              "#ed7953"
             ],
             [
              0.7777777777777778,
              "#fb9f3a"
             ],
             [
              0.8888888888888888,
              "#fdca26"
             ],
             [
              1,
              "#f0f921"
             ]
            ],
            "type": "heatmap"
           }
          ],
          "heatmapgl": [
           {
            "colorbar": {
             "outlinewidth": 0,
             "ticks": ""
            },
            "colorscale": [
             [
              0,
              "#0d0887"
             ],
             [
              0.1111111111111111,
              "#46039f"
             ],
             [
              0.2222222222222222,
              "#7201a8"
             ],
             [
              0.3333333333333333,
              "#9c179e"
             ],
             [
              0.4444444444444444,
              "#bd3786"
             ],
             [
              0.5555555555555556,
              "#d8576b"
             ],
             [
              0.6666666666666666,
              "#ed7953"
             ],
             [
              0.7777777777777778,
              "#fb9f3a"
             ],
             [
              0.8888888888888888,
              "#fdca26"
             ],
             [
              1,
              "#f0f921"
             ]
            ],
            "type": "heatmapgl"
           }
          ],
          "histogram": [
           {
            "marker": {
             "pattern": {
              "fillmode": "overlay",
              "size": 10,
              "solidity": 0.2
             }
            },
            "type": "histogram"
           }
          ],
          "histogram2d": [
           {
            "colorbar": {
             "outlinewidth": 0,
             "ticks": ""
            },
            "colorscale": [
             [
              0,
              "#0d0887"
             ],
             [
              0.1111111111111111,
              "#46039f"
             ],
             [
              0.2222222222222222,
              "#7201a8"
             ],
             [
              0.3333333333333333,
              "#9c179e"
             ],
             [
              0.4444444444444444,
              "#bd3786"
             ],
             [
              0.5555555555555556,
              "#d8576b"
             ],
             [
              0.6666666666666666,
              "#ed7953"
             ],
             [
              0.7777777777777778,
              "#fb9f3a"
             ],
             [
              0.8888888888888888,
              "#fdca26"
             ],
             [
              1,
              "#f0f921"
             ]
            ],
            "type": "histogram2d"
           }
          ],
          "histogram2dcontour": [
           {
            "colorbar": {
             "outlinewidth": 0,
             "ticks": ""
            },
            "colorscale": [
             [
              0,
              "#0d0887"
             ],
             [
              0.1111111111111111,
              "#46039f"
             ],
             [
              0.2222222222222222,
              "#7201a8"
             ],
             [
              0.3333333333333333,
              "#9c179e"
             ],
             [
              0.4444444444444444,
              "#bd3786"
             ],
             [
              0.5555555555555556,
              "#d8576b"
             ],
             [
              0.6666666666666666,
              "#ed7953"
             ],
             [
              0.7777777777777778,
              "#fb9f3a"
             ],
             [
              0.8888888888888888,
              "#fdca26"
             ],
             [
              1,
              "#f0f921"
             ]
            ],
            "type": "histogram2dcontour"
           }
          ],
          "mesh3d": [
           {
            "colorbar": {
             "outlinewidth": 0,
             "ticks": ""
            },
            "type": "mesh3d"
           }
          ],
          "parcoords": [
           {
            "line": {
             "colorbar": {
              "outlinewidth": 0,
              "ticks": ""
             }
            },
            "type": "parcoords"
           }
          ],
          "pie": [
           {
            "automargin": true,
            "type": "pie"
           }
          ],
          "scatter": [
           {
            "marker": {
             "line": {
              "color": "#283442"
             }
            },
            "type": "scatter"
           }
          ],
          "scatter3d": [
           {
            "line": {
             "colorbar": {
              "outlinewidth": 0,
              "ticks": ""
             }
            },
            "marker": {
             "colorbar": {
              "outlinewidth": 0,
              "ticks": ""
             }
            },
            "type": "scatter3d"
           }
          ],
          "scattercarpet": [
           {
            "marker": {
             "colorbar": {
              "outlinewidth": 0,
              "ticks": ""
             }
            },
            "type": "scattercarpet"
           }
          ],
          "scattergeo": [
           {
            "marker": {
             "colorbar": {
              "outlinewidth": 0,
              "ticks": ""
             }
            },
            "type": "scattergeo"
           }
          ],
          "scattergl": [
           {
            "marker": {
             "line": {
              "color": "#283442"
             }
            },
            "type": "scattergl"
           }
          ],
          "scattermapbox": [
           {
            "marker": {
             "colorbar": {
              "outlinewidth": 0,
              "ticks": ""
             }
            },
            "type": "scattermapbox"
           }
          ],
          "scatterpolar": [
           {
            "marker": {
             "colorbar": {
              "outlinewidth": 0,
              "ticks": ""
             }
            },
            "type": "scatterpolar"
           }
          ],
          "scatterpolargl": [
           {
            "marker": {
             "colorbar": {
              "outlinewidth": 0,
              "ticks": ""
             }
            },
            "type": "scatterpolargl"
           }
          ],
          "scatterternary": [
           {
            "marker": {
             "colorbar": {
              "outlinewidth": 0,
              "ticks": ""
             }
            },
            "type": "scatterternary"
           }
          ],
          "surface": [
           {
            "colorbar": {
             "outlinewidth": 0,
             "ticks": ""
            },
            "colorscale": [
             [
              0,
              "#0d0887"
             ],
             [
              0.1111111111111111,
              "#46039f"
             ],
             [
              0.2222222222222222,
              "#7201a8"
             ],
             [
              0.3333333333333333,
              "#9c179e"
             ],
             [
              0.4444444444444444,
              "#bd3786"
             ],
             [
              0.5555555555555556,
              "#d8576b"
             ],
             [
              0.6666666666666666,
              "#ed7953"
             ],
             [
              0.7777777777777778,
              "#fb9f3a"
             ],
             [
              0.8888888888888888,
              "#fdca26"
             ],
             [
              1,
              "#f0f921"
             ]
            ],
            "type": "surface"
           }
          ],
          "table": [
           {
            "cells": {
             "fill": {
              "color": "#506784"
             },
             "line": {
              "color": "rgb(17,17,17)"
             }
            },
            "header": {
             "fill": {
              "color": "#2a3f5f"
             },
             "line": {
              "color": "rgb(17,17,17)"
             }
            },
            "type": "table"
           }
          ]
         },
         "layout": {
          "annotationdefaults": {
           "arrowcolor": "#f2f5fa",
           "arrowhead": 0,
           "arrowwidth": 1
          },
          "autotypenumbers": "strict",
          "coloraxis": {
           "colorbar": {
            "outlinewidth": 0,
            "ticks": ""
           }
          },
          "colorscale": {
           "diverging": [
            [
             0,
             "#8e0152"
            ],
            [
             0.1,
             "#c51b7d"
            ],
            [
             0.2,
             "#de77ae"
            ],
            [
             0.3,
             "#f1b6da"
            ],
            [
             0.4,
             "#fde0ef"
            ],
            [
             0.5,
             "#f7f7f7"
            ],
            [
             0.6,
             "#e6f5d0"
            ],
            [
             0.7,
             "#b8e186"
            ],
            [
             0.8,
             "#7fbc41"
            ],
            [
             0.9,
             "#4d9221"
            ],
            [
             1,
             "#276419"
            ]
           ],
           "sequential": [
            [
             0,
             "#0d0887"
            ],
            [
             0.1111111111111111,
             "#46039f"
            ],
            [
             0.2222222222222222,
             "#7201a8"
            ],
            [
             0.3333333333333333,
             "#9c179e"
            ],
            [
             0.4444444444444444,
             "#bd3786"
            ],
            [
             0.5555555555555556,
             "#d8576b"
            ],
            [
             0.6666666666666666,
             "#ed7953"
            ],
            [
             0.7777777777777778,
             "#fb9f3a"
            ],
            [
             0.8888888888888888,
             "#fdca26"
            ],
            [
             1,
             "#f0f921"
            ]
           ],
           "sequentialminus": [
            [
             0,
             "#0d0887"
            ],
            [
             0.1111111111111111,
             "#46039f"
            ],
            [
             0.2222222222222222,
             "#7201a8"
            ],
            [
             0.3333333333333333,
             "#9c179e"
            ],
            [
             0.4444444444444444,
             "#bd3786"
            ],
            [
             0.5555555555555556,
             "#d8576b"
            ],
            [
             0.6666666666666666,
             "#ed7953"
            ],
            [
             0.7777777777777778,
             "#fb9f3a"
            ],
            [
             0.8888888888888888,
             "#fdca26"
            ],
            [
             1,
             "#f0f921"
            ]
           ]
          },
          "colorway": [
           "#636efa",
           "#EF553B",
           "#00cc96",
           "#ab63fa",
           "#FFA15A",
           "#19d3f3",
           "#FF6692",
           "#B6E880",
           "#FF97FF",
           "#FECB52"
          ],
          "font": {
           "color": "#f2f5fa"
          },
          "geo": {
           "bgcolor": "rgb(17,17,17)",
           "lakecolor": "rgb(17,17,17)",
           "landcolor": "rgb(17,17,17)",
           "showlakes": true,
           "showland": true,
           "subunitcolor": "#506784"
          },
          "hoverlabel": {
           "align": "left"
          },
          "hovermode": "closest",
          "mapbox": {
           "style": "dark"
          },
          "paper_bgcolor": "rgb(17,17,17)",
          "plot_bgcolor": "rgb(17,17,17)",
          "polar": {
           "angularaxis": {
            "gridcolor": "#506784",
            "linecolor": "#506784",
            "ticks": ""
           },
           "bgcolor": "rgb(17,17,17)",
           "radialaxis": {
            "gridcolor": "#506784",
            "linecolor": "#506784",
            "ticks": ""
           }
          },
          "scene": {
           "xaxis": {
            "backgroundcolor": "rgb(17,17,17)",
            "gridcolor": "#506784",
            "gridwidth": 2,
            "linecolor": "#506784",
            "showbackground": true,
            "ticks": "",
            "zerolinecolor": "#C8D4E3"
           },
           "yaxis": {
            "backgroundcolor": "rgb(17,17,17)",
            "gridcolor": "#506784",
            "gridwidth": 2,
            "linecolor": "#506784",
            "showbackground": true,
            "ticks": "",
            "zerolinecolor": "#C8D4E3"
           },
           "zaxis": {
            "backgroundcolor": "rgb(17,17,17)",
            "gridcolor": "#506784",
            "gridwidth": 2,
            "linecolor": "#506784",
            "showbackground": true,
            "ticks": "",
            "zerolinecolor": "#C8D4E3"
           }
          },
          "shapedefaults": {
           "line": {
            "color": "#f2f5fa"
           }
          },
          "sliderdefaults": {
           "bgcolor": "#C8D4E3",
           "bordercolor": "rgb(17,17,17)",
           "borderwidth": 1,
           "tickwidth": 0
          },
          "ternary": {
           "aaxis": {
            "gridcolor": "#506784",
            "linecolor": "#506784",
            "ticks": ""
           },
           "baxis": {
            "gridcolor": "#506784",
            "linecolor": "#506784",
            "ticks": ""
           },
           "bgcolor": "rgb(17,17,17)",
           "caxis": {
            "gridcolor": "#506784",
            "linecolor": "#506784",
            "ticks": ""
           }
          },
          "title": {
           "x": 0.05
          },
          "updatemenudefaults": {
           "bgcolor": "#506784",
           "borderwidth": 0
          },
          "xaxis": {
           "automargin": true,
           "gridcolor": "#283442",
           "linecolor": "#506784",
           "ticks": "",
           "title": {
            "standoff": 15
           },
           "zerolinecolor": "#283442",
           "zerolinewidth": 2
          },
          "yaxis": {
           "automargin": true,
           "gridcolor": "#283442",
           "linecolor": "#506784",
           "ticks": "",
           "title": {
            "standoff": 15
           },
           "zerolinecolor": "#283442",
           "zerolinewidth": 2
          }
         }
        },
        "title": {
         "text": "Distribuição de frequência das classificações por quantidade de empresas"
        },
        "xaxis": {
         "anchor": "y",
         "domain": [
          0,
          1
         ],
         "title": {
          "text": "QTD"
         }
        },
        "yaxis": {
         "anchor": "x",
         "domain": [
          0,
          1
         ]
        }
       }
      }
     },
     "metadata": {},
     "output_type": "display_data"
    }
   ],
   "source": [
    "# Plot gráfico da dispersão dos dados\n",
    "fig = px.box(data_frame=f, \n",
    "             template='plotly_dark', \n",
    "             x='QTD', \n",
    "             points='all', \n",
    "             title='Distribuição de frequência das classificações por quantidade de empresas')\n",
    "fig.show()"
   ]
  },
  {
   "cell_type": "markdown",
   "metadata": {},
   "source": [
    "### Medidas"
   ]
  },
  {
   "cell_type": "code",
   "execution_count": 39,
   "metadata": {},
   "outputs": [
    {
     "name": "stdout",
     "output_type": "stream",
     "text": [
      "Mínimo: 2\n",
      "Q1: 4.0\n",
      "Q2: 13.0\n",
      "Q3: 24.0\n",
      "Máximo: 194\n",
      "Média da quantidade de empresas por listagem: 48\n",
      "Mediana da quantidade de empresas por listagem: 13.0\n",
      "Moda: 194 - NM\n",
      "Amplitude: 192\n",
      "Desvio padrão: 74.01\n",
      "Coeficiente de variação: 154.0 %\n"
     ]
    }
   ],
   "source": [
    "# Medidas de distribuição\n",
    "print('Mínimo:', f.QTD.min())\n",
    "print('Q1:', f.QTD.quantile(.25))\n",
    "print('Q2:', f.QTD.quantile(.50))\n",
    "print('Q3:', f.QTD.quantile(.75))\n",
    "print('Máximo:', f.QTD.max())\n",
    "\n",
    "# Medidas centrais\n",
    "print('Média da quantidade de empresas por listagem:', round(f.QTD.mean()))\n",
    "print('Mediana da quantidade de empresas por listagem:', f.QTD.median())\n",
    "print('Moda:', f.QTD[0], '-', f.LISTAGEM[0])\n",
    "\n",
    "# Medidas de dispersão\n",
    "print('Amplitude:', f.QTD.max()-f.QTD.min())\n",
    "print('Desvio padrão:', round(f.QTD.std(), 2))\n",
    "print('Coeficiente de variação:', round(f.QTD.std()/f.QTD.mean(), 2)*100, '%')"
   ]
  },
  {
   "cell_type": "markdown",
   "metadata": {},
   "source": [
    "### Considerações\n",
    "\n",
    "Podemos ver, também, através dos gráficos anteriores, que referenciam a variável \"listagem\", um total de 9 categorias que comportam 432 registros. A listagem com o maior número de empresas é o \"NM\", com 194 registros, equivalente à 45% do total, e o menor (\"M2\") comportando apenas 2 registro, equivalente à 0,46% do total. \n",
    "\n",
    "Dessa forma temos como medidas o valor máximo de 194, o valor mínimo de 2, a média para cada listagem com 48, a mediana de 13 e um desvio padrão de aproximadamente 74 registros, resultando num coeficiente de variação de 154% dentro de um conjunto de dados com uma amplitude de 192 registros.\n",
    "\n",
    "De forma aparente, percebe-se um acumulo da maioria das empresas entre as 2 maiores listagens (NM e AUSENTES, consecutivamente), que comportam 354 registros de 432, ou em termos relativos, cerca de 82% do total, contudo, estes encontram-se fora dos padrões e são considerados outliers."
   ]
  },
  {
   "cell_type": "markdown",
   "metadata": {},
   "source": [
    "## RELACIONAMENTO ENTRE VARIÁVEIS"
   ]
  },
  {
   "cell_type": "code",
   "execution_count": 30,
   "metadata": {},
   "outputs": [
    {
     "data": {
      "text/html": [
       "<div>\n",
       "<style scoped>\n",
       "    .dataframe tbody tr th:only-of-type {\n",
       "        vertical-align: middle;\n",
       "    }\n",
       "\n",
       "    .dataframe tbody tr th {\n",
       "        vertical-align: top;\n",
       "    }\n",
       "\n",
       "    .dataframe thead th {\n",
       "        text-align: right;\n",
       "    }\n",
       "</style>\n",
       "<table border=\"1\" class=\"dataframe\">\n",
       "  <thead>\n",
       "    <tr style=\"text-align: right;\">\n",
       "      <th></th>\n",
       "      <th>LISTAGEM</th>\n",
       "      <th>SETOR</th>\n",
       "      <th>SEGMENTO</th>\n",
       "      <th>QTD</th>\n",
       "    </tr>\n",
       "  </thead>\n",
       "  <tbody>\n",
       "    <tr>\n",
       "      <th>0</th>\n",
       "      <td>AUSENTE</td>\n",
       "      <td>Utilidade Pública</td>\n",
       "      <td>Energia Elétrica</td>\n",
       "      <td>33</td>\n",
       "    </tr>\n",
       "    <tr>\n",
       "      <th>1</th>\n",
       "      <td>NM</td>\n",
       "      <td>Consumo Cíclico</td>\n",
       "      <td>Incorporações</td>\n",
       "      <td>23</td>\n",
       "    </tr>\n",
       "    <tr>\n",
       "      <th>2</th>\n",
       "      <td>AUSENTE</td>\n",
       "      <td>Outros</td>\n",
       "      <td>Outros</td>\n",
       "      <td>13</td>\n",
       "    </tr>\n",
       "    <tr>\n",
       "      <th>3</th>\n",
       "      <td>NM</td>\n",
       "      <td>Tecnologia da Informação</td>\n",
       "      <td>Programas e Serviços</td>\n",
       "      <td>11</td>\n",
       "    </tr>\n",
       "    <tr>\n",
       "      <th>4</th>\n",
       "      <td>NM</td>\n",
       "      <td>Saúde</td>\n",
       "      <td>Serviços Médico - Hospitalares, Análises e Diagnósticos</td>\n",
       "      <td>10</td>\n",
       "    </tr>\n",
       "  </tbody>\n",
       "</table>\n",
       "</div>"
      ],
      "text/plain": [
       "  LISTAGEM                     SETOR  \\\n",
       "0  AUSENTE         Utilidade Pública   \n",
       "1       NM           Consumo Cíclico   \n",
       "2  AUSENTE                    Outros   \n",
       "3       NM  Tecnologia da Informação   \n",
       "4       NM                     Saúde   \n",
       "\n",
       "                                                  SEGMENTO  QTD  \n",
       "0                                         Energia Elétrica   33  \n",
       "1                                            Incorporações   23  \n",
       "2                                                   Outros   13  \n",
       "3                                     Programas e Serviços   11  \n",
       "4  Serviços Médico - Hospitalares, Análises e Diagnósticos   10  "
      ]
     },
     "execution_count": 30,
     "metadata": {},
     "output_type": "execute_result"
    }
   ],
   "source": [
    "# Criação de tabela de frequência absoluta da variável 'listagem'\n",
    "f = df.value_counts(subset=['LISTAGEM', 'SETOR', 'SEGMENTO'], sort=True, ascending=False ).rename(\"QTD\").reset_index()\n",
    "f.head()"
   ]
  },
  {
   "cell_type": "markdown",
   "metadata": {},
   "source": [
    "### SETOR vs SEGMENTO"
   ]
  },
  {
   "cell_type": "code",
   "execution_count": 31,
   "metadata": {},
   "outputs": [
    {
     "data": {
      "text/html": [
       "<div>\n",
       "<style scoped>\n",
       "    .dataframe tbody tr th:only-of-type {\n",
       "        vertical-align: middle;\n",
       "    }\n",
       "\n",
       "    .dataframe tbody tr th {\n",
       "        vertical-align: top;\n",
       "    }\n",
       "\n",
       "    .dataframe thead th {\n",
       "        text-align: right;\n",
       "    }\n",
       "</style>\n",
       "<table border=\"1\" class=\"dataframe\">\n",
       "  <thead>\n",
       "    <tr style=\"text-align: right;\">\n",
       "      <th></th>\n",
       "      <th>SETOR</th>\n",
       "      <th>QTD</th>\n",
       "    </tr>\n",
       "  </thead>\n",
       "  <tbody>\n",
       "    <tr>\n",
       "      <th>0</th>\n",
       "      <td>Consumo Cíclico</td>\n",
       "      <td>21</td>\n",
       "    </tr>\n",
       "    <tr>\n",
       "      <th>1</th>\n",
       "      <td>Bens Industriais</td>\n",
       "      <td>17</td>\n",
       "    </tr>\n",
       "    <tr>\n",
       "      <th>2</th>\n",
       "      <td>Financeiro</td>\n",
       "      <td>13</td>\n",
       "    </tr>\n",
       "    <tr>\n",
       "      <th>3</th>\n",
       "      <td>Materiais Básicos</td>\n",
       "      <td>11</td>\n",
       "    </tr>\n",
       "    <tr>\n",
       "      <th>4</th>\n",
       "      <td>Consumo não Cíclico</td>\n",
       "      <td>8</td>\n",
       "    </tr>\n",
       "  </tbody>\n",
       "</table>\n",
       "</div>"
      ],
      "text/plain": [
       "                 SETOR  QTD\n",
       "0      Consumo Cíclico   21\n",
       "1     Bens Industriais   17\n",
       "2           Financeiro   13\n",
       "3    Materiais Básicos   11\n",
       "4  Consumo não Cíclico    8"
      ]
     },
     "execution_count": 31,
     "metadata": {},
     "output_type": "execute_result"
    }
   ],
   "source": [
    "# Criação de tabela de frequência absoluta da variável 'setor' por 'segmento'\n",
    "t = df[['SETOR', 'SEGMENTO']].drop_duplicates().reset_index(drop=True).value_counts(subset=['SETOR']).rename('QTD').reset_index()\n",
    "t.head()"
   ]
  },
  {
   "cell_type": "markdown",
   "metadata": {},
   "source": [
    "#### Frequência"
   ]
  },
  {
   "cell_type": "code",
   "execution_count": 33,
   "metadata": {},
   "outputs": [
    {
     "name": "stderr",
     "output_type": "stream",
     "text": [
      "c:\\Users\\adria\\anaconda3\\Lib\\site-packages\\plotly\\express\\_core.py:1619: FutureWarning:\n",
      "\n",
      "The default of observed=False is deprecated and will be changed to True in a future version of pandas. Pass observed=False to retain current behavior or observed=True to adopt the future default and silence this warning.\n",
      "\n",
      "c:\\Users\\adria\\anaconda3\\Lib\\site-packages\\plotly\\express\\_core.py:1619: FutureWarning:\n",
      "\n",
      "The default of observed=False is deprecated and will be changed to True in a future version of pandas. Pass observed=False to retain current behavior or observed=True to adopt the future default and silence this warning.\n",
      "\n"
     ]
    },
    {
     "data": {
      "application/vnd.plotly.v1+json": {
       "config": {
        "plotlyServerURL": "https://plot.ly"
       },
       "data": [
        {
         "branchvalues": "total",
         "customdata": [
          [
           null
          ],
          [
           null
          ],
          [
           null
          ],
          [
           null
          ],
          [
           null
          ],
          [
           null
          ],
          [
           null
          ],
          [
           null
          ],
          [
           null
          ],
          [
           null
          ],
          [
           null
          ],
          [
           null
          ],
          [
           null
          ],
          [
           null
          ],
          [
           null
          ],
          [
           null
          ],
          [
           "Financeiro"
          ],
          [
           null
          ],
          [
           null
          ],
          [
           "Consumo Cíclico"
          ],
          [
           null
          ],
          [
           null
          ],
          [
           null
          ],
          [
           "Bens Industriais"
          ],
          [
           null
          ],
          [
           null
          ],
          [
           null
          ],
          [
           null
          ],
          [
           null
          ],
          [
           null
          ],
          [
           null
          ],
          [
           null
          ],
          [
           null
          ],
          [
           null
          ],
          [
           null
          ],
          [
           null
          ],
          [
           null
          ],
          [
           "Consumo não Cíclico"
          ],
          [
           null
          ],
          [
           null
          ],
          [
           null
          ],
          [
           null
          ],
          [
           null
          ],
          [
           null
          ],
          [
           null
          ],
          [
           null
          ],
          [
           null
          ],
          [
           "Consumo Cíclico"
          ],
          [
           null
          ],
          [
           null
          ],
          [
           null
          ],
          [
           null
          ],
          [
           null
          ],
          [
           null
          ],
          [
           null
          ],
          [
           null
          ],
          [
           null
          ],
          [
           null
          ],
          [
           null
          ],
          [
           null
          ],
          [
           null
          ],
          [
           null
          ],
          [
           "Consumo Cíclico"
          ],
          [
           null
          ],
          [
           null
          ],
          [
           null
          ],
          [
           null
          ],
          [
           null
          ],
          [
           null
          ],
          [
           null
          ],
          [
           null
          ],
          [
           "Consumo não Cíclico"
          ],
          [
           null
          ],
          [
           null
          ],
          [
           null
          ],
          [
           null
          ],
          [
           null
          ],
          [
           null
          ],
          [
           null
          ],
          [
           null
          ],
          [
           null
          ],
          [
           null
          ],
          [
           null
          ],
          [
           null
          ],
          [
           null
          ],
          [
           null
          ],
          [
           null
          ],
          [
           null
          ],
          [
           null
          ],
          [
           null
          ],
          [
           null
          ],
          [
           null
          ],
          [
           null
          ],
          [
           null
          ],
          [
           null
          ],
          [
           null
          ],
          [
           "Consumo Cíclico"
          ],
          [
           null
          ],
          [
           null
          ],
          [
           null
          ],
          [
           null
          ],
          [
           null
          ],
          [
           null
          ],
          [
           null
          ],
          [
           null
          ],
          [
           null
          ],
          [
           null
          ],
          [
           "Materiais Básicos"
          ],
          [
           "Consumo não Cíclico"
          ],
          [
           null
          ],
          [
           null
          ],
          [
           null
          ],
          [
           null
          ],
          [
           null
          ],
          [
           null
          ],
          [
           null
          ],
          [
           null
          ],
          [
           null
          ],
          [
           null
          ],
          [
           null
          ],
          [
           null
          ],
          [
           null
          ],
          [
           null
          ],
          [
           null
          ],
          [
           null
          ],
          [
           null
          ],
          [
           null
          ],
          [
           null
          ],
          [
           null
          ],
          [
           null
          ],
          [
           null
          ],
          [
           null
          ],
          [
           "Consumo Cíclico"
          ],
          [
           null
          ],
          [
           null
          ],
          [
           null
          ],
          [
           null
          ],
          [
           null
          ],
          [
           null
          ],
          [
           null
          ],
          [
           null
          ],
          [
           null
          ],
          [
           null
          ],
          [
           null
          ],
          [
           null
          ],
          [
           "Materiais Básicos"
          ],
          [
           null
          ],
          [
           null
          ],
          [
           "Consumo Cíclico"
          ],
          [
           null
          ],
          [
           null
          ],
          [
           null
          ],
          [
           null
          ],
          [
           null
          ],
          [
           "Consumo não Cíclico"
          ],
          [
           null
          ],
          [
           "Consumo Cíclico"
          ],
          [
           null
          ],
          [
           null
          ],
          [
           null
          ],
          [
           null
          ],
          [
           null
          ],
          [
           null
          ],
          [
           null
          ],
          [
           null
          ],
          [
           null
          ],
          [
           null
          ],
          [
           null
          ],
          [
           "Consumo não Cíclico"
          ],
          [
           null
          ],
          [
           null
          ],
          [
           null
          ],
          [
           null
          ],
          [
           null
          ],
          [
           null
          ],
          [
           null
          ],
          [
           null
          ],
          [
           null
          ],
          [
           null
          ],
          [
           "Consumo não Cíclico"
          ],
          [
           null
          ],
          [
           null
          ],
          [
           null
          ],
          [
           null
          ],
          [
           null
          ],
          [
           null
          ],
          [
           null
          ],
          [
           null
          ],
          [
           null
          ],
          [
           null
          ],
          [
           null
          ],
          [
           null
          ],
          [
           null
          ],
          [
           null
          ],
          [
           null
          ],
          [
           null
          ],
          [
           "Tecnologia da Informação"
          ],
          [
           null
          ],
          [
           "Bens Industriais"
          ],
          [
           null
          ],
          [
           null
          ],
          [
           null
          ],
          [
           null
          ],
          [
           null
          ],
          [
           null
          ],
          [
           null
          ],
          [
           null
          ],
          [
           null
          ],
          [
           null
          ],
          [
           null
          ],
          [
           null
          ],
          [
           null
          ],
          [
           null
          ],
          [
           "Financeiro"
          ],
          [
           null
          ],
          [
           null
          ],
          [
           null
          ],
          [
           null
          ],
          [
           null
          ],
          [
           null
          ],
          [
           null
          ],
          [
           null
          ],
          [
           "Consumo Cíclico"
          ],
          [
           null
          ],
          [
           null
          ],
          [
           null
          ],
          [
           null
          ],
          [
           null
          ],
          [
           null
          ],
          [
           null
          ],
          [
           null
          ],
          [
           null
          ],
          [
           null
          ],
          [
           null
          ],
          [
           null
          ],
          [
           null
          ],
          [
           "Materiais Básicos"
          ],
          [
           null
          ],
          [
           null
          ],
          [
           null
          ],
          [
           null
          ],
          [
           null
          ],
          [
           null
          ],
          [
           null
          ],
          [
           null
          ],
          [
           null
          ],
          [
           null
          ],
          [
           null
          ],
          [
           null
          ],
          [
           null
          ],
          [
           null
          ],
          [
           null
          ],
          [
           "Utilidade Pública"
          ],
          [
           "Bens Industriais"
          ],
          [
           null
          ],
          [
           null
          ],
          [
           null
          ],
          [
           null
          ],
          [
           null
          ],
          [
           null
          ],
          [
           null
          ],
          [
           null
          ],
          [
           null
          ],
          [
           null
          ],
          [
           null
          ],
          [
           null
          ],
          [
           null
          ],
          [
           null
          ],
          [
           null
          ],
          [
           null
          ],
          [
           null
          ],
          [
           null
          ],
          [
           "Saúde"
          ],
          [
           null
          ],
          [
           null
          ],
          [
           null
          ],
          [
           null
          ],
          [
           null
          ],
          [
           null
          ],
          [
           null
          ],
          [
           null
          ],
          [
           null
          ],
          [
           "Petróleo, Gás e Biocombustíveis"
          ],
          [
           null
          ],
          [
           null
          ],
          [
           null
          ],
          [
           null
          ],
          [
           null
          ],
          [
           null
          ],
          [
           null
          ],
          [
           "Financeiro"
          ],
          [
           null
          ],
          [
           null
          ],
          [
           null
          ],
          [
           null
          ],
          [
           null
          ],
          [
           null
          ],
          [
           "Bens Industriais"
          ],
          [
           null
          ],
          [
           null
          ],
          [
           null
          ],
          [
           null
          ],
          [
           null
          ],
          [
           null
          ],
          [
           null
          ],
          [
           null
          ],
          [
           null
          ],
          [
           null
          ],
          [
           null
          ],
          [
           null
          ],
          [
           null
          ],
          [
           null
          ],
          [
           null
          ],
          [
           null
          ],
          [
           null
          ],
          [
           "Petróleo, Gás e Biocombustíveis"
          ],
          [
           null
          ],
          [
           null
          ],
          [
           null
          ],
          [
           null
          ],
          [
           null
          ],
          [
           null
          ],
          [
           null
          ],
          [
           null
          ],
          [
           "Materiais Básicos"
          ],
          [
           null
          ],
          [
           null
          ],
          [
           null
          ],
          [
           null
          ],
          [
           null
          ],
          [
           null
          ],
          [
           null
          ],
          [
           "Consumo Cíclico"
          ],
          [
           null
          ],
          [
           null
          ],
          [
           null
          ],
          [
           null
          ],
          [
           null
          ],
          [
           null
          ],
          [
           null
          ],
          [
           null
          ],
          [
           null
          ],
          [
           null
          ],
          [
           null
          ],
          [
           null
          ],
          [
           "Financeiro"
          ],
          [
           null
          ],
          [
           null
          ],
          [
           null
          ],
          [
           null
          ],
          [
           null
          ],
          [
           null
          ],
          [
           null
          ],
          [
           null
          ],
          [
           null
          ],
          [
           null
          ],
          [
           null
          ],
          [
           null
          ],
          [
           null
          ],
          [
           null
          ],
          [
           null
          ],
          [
           null
          ],
          [
           "Utilidade Pública"
          ],
          [
           null
          ],
          [
           null
          ],
          [
           null
          ],
          [
           null
          ],
          [
           "Financeiro"
          ],
          [
           null
          ],
          [
           null
          ],
          [
           null
          ],
          [
           null
          ],
          [
           null
          ],
          [
           null
          ],
          [
           null
          ],
          [
           null
          ],
          [
           "Consumo Cíclico"
          ],
          [
           null
          ],
          [
           null
          ],
          [
           null
          ],
          [
           null
          ],
          [
           null
          ],
          [
           null
          ],
          [
           null
          ],
          [
           null
          ],
          [
           null
          ],
          [
           null
          ],
          [
           "Consumo Cíclico"
          ],
          [
           null
          ],
          [
           null
          ],
          [
           null
          ],
          [
           null
          ],
          [
           null
          ],
          [
           null
          ],
          [
           null
          ],
          [
           null
          ],
          [
           null
          ],
          [
           null
          ],
          [
           null
          ],
          [
           null
          ],
          [
           "Financeiro"
          ],
          [
           null
          ],
          [
           null
          ],
          [
           null
          ],
          [
           null
          ],
          [
           null
          ],
          [
           null
          ],
          [
           "Bens Industriais"
          ],
          [
           null
          ],
          [
           null
          ],
          [
           null
          ],
          [
           null
          ],
          [
           null
          ],
          [
           null
          ],
          [
           null
          ],
          [
           null
          ],
          [
           null
          ],
          [
           null
          ],
          [
           null
          ],
          [
           null
          ],
          [
           null
          ],
          [
           null
          ],
          [
           null
          ],
          [
           "Materiais Básicos"
          ],
          [
           null
          ],
          [
           null
          ],
          [
           null
          ],
          [
           null
          ],
          [
           null
          ],
          [
           null
          ],
          [
           null
          ],
          [
           null
          ],
          [
           null
          ],
          [
           null
          ],
          [
           "Materiais Básicos"
          ],
          [
           null
          ],
          [
           null
          ],
          [
           null
          ],
          [
           null
          ],
          [
           null
          ],
          [
           "Bens Industriais"
          ],
          [
           null
          ],
          [
           null
          ],
          [
           null
          ],
          [
           null
          ],
          [
           null
          ],
          [
           null
          ],
          [
           null
          ],
          [
           null
          ],
          [
           null
          ],
          [
           null
          ],
          [
           "Bens Industriais"
          ],
          [
           null
          ],
          [
           null
          ],
          [
           null
          ],
          [
           null
          ],
          [
           null
          ],
          [
           null
          ],
          [
           null
          ],
          [
           null
          ],
          [
           null
          ],
          [
           null
          ],
          [
           "Bens Industriais"
          ],
          [
           null
          ],
          [
           null
          ],
          [
           null
          ],
          [
           null
          ],
          [
           null
          ],
          [
           null
          ],
          [
           null
          ],
          [
           null
          ],
          [
           null
          ],
          [
           null
          ],
          [
           null
          ],
          [
           null
          ],
          [
           null
          ],
          [
           null
          ],
          [
           null
          ],
          [
           null
          ],
          [
           null
          ],
          [
           null
          ],
          [
           "Saúde"
          ],
          [
           null
          ],
          [
           null
          ],
          [
           null
          ],
          [
           null
          ],
          [
           null
          ],
          [
           null
          ],
          [
           null
          ],
          [
           "Materiais Básicos"
          ],
          [
           null
          ],
          [
           null
          ],
          [
           null
          ],
          [
           null
          ],
          [
           null
          ],
          [
           "Bens Industriais"
          ],
          [
           null
          ],
          [
           null
          ],
          [
           null
          ],
          [
           null
          ],
          [
           null
          ],
          [
           null
          ],
          [
           null
          ],
          [
           null
          ],
          [
           null
          ],
          [
           null
          ],
          [
           "Bens Industriais"
          ],
          [
           null
          ],
          [
           null
          ],
          [
           null
          ],
          [
           null
          ],
          [
           null
          ],
          [
           null
          ],
          [
           null
          ],
          [
           null
          ],
          [
           null
          ],
          [
           null
          ],
          [
           "Bens Industriais"
          ],
          [
           null
          ],
          [
           null
          ],
          [
           null
          ],
          [
           null
          ],
          [
           null
          ],
          [
           null
          ],
          [
           null
          ],
          [
           null
          ],
          [
           null
          ],
          [
           null
          ],
          [
           null
          ],
          [
           null
          ],
          [
           "Consumo Cíclico"
          ],
          [
           null
          ],
          [
           null
          ],
          [
           null
          ],
          [
           null
          ],
          [
           null
          ],
          [
           null
          ],
          [
           null
          ],
          [
           null
          ],
          [
           null
          ],
          [
           null
          ],
          [
           null
          ],
          [
           null
          ],
          [
           null
          ],
          [
           null
          ],
          [
           "Outros"
          ],
          [
           null
          ],
          [
           null
          ],
          [
           null
          ],
          [
           null
          ],
          [
           null
          ],
          [
           null
          ],
          [
           null
          ],
          [
           null
          ],
          [
           "Financeiro"
          ],
          [
           null
          ],
          [
           null
          ],
          [
           null
          ],
          [
           null
          ],
          [
           null
          ],
          [
           null
          ],
          [
           null
          ],
          [
           null
          ],
          [
           null
          ],
          [
           null
          ],
          [
           null
          ],
          [
           "Materiais Básicos"
          ],
          [
           null
          ],
          [
           null
          ],
          [
           null
          ],
          [
           null
          ],
          [
           null
          ],
          [
           null
          ],
          [
           null
          ],
          [
           null
          ],
          [
           null
          ],
          [
           null
          ],
          [
           "Materiais Básicos"
          ],
          [
           null
          ],
          [
           null
          ],
          [
           null
          ],
          [
           null
          ],
          [
           null
          ],
          [
           null
          ],
          [
           null
          ],
          [
           "Consumo Cíclico"
          ],
          [
           null
          ],
          [
           null
          ],
          [
           null
          ],
          [
           null
          ],
          [
           null
          ],
          [
           null
          ],
          [
           null
          ],
          [
           null
          ],
          [
           null
          ],
          [
           null
          ],
          [
           null
          ],
          [
           "Consumo não Cíclico"
          ],
          [
           null
          ],
          [
           null
          ],
          [
           null
          ],
          [
           null
          ],
          [
           null
          ],
          [
           null
          ],
          [
           null
          ],
          [
           null
          ],
          [
           null
          ],
          [
           null
          ],
          [
           "Consumo não Cíclico"
          ],
          [
           null
          ],
          [
           null
          ],
          [
           null
          ],
          [
           null
          ],
          [
           null
          ],
          [
           null
          ],
          [
           null
          ],
          [
           "Bens Industriais"
          ],
          [
           null
          ],
          [
           null
          ],
          [
           null
          ],
          [
           null
          ],
          [
           null
          ],
          [
           null
          ],
          [
           null
          ],
          [
           null
          ],
          [
           null
          ],
          [
           null
          ],
          [
           null
          ],
          [
           null
          ],
          [
           "Consumo Cíclico"
          ],
          [
           null
          ],
          [
           null
          ],
          [
           null
          ],
          [
           null
          ],
          [
           null
          ],
          [
           null
          ],
          [
           null
          ],
          [
           null
          ],
          [
           null
          ],
          [
           null
          ],
          [
           "Consumo Cíclico"
          ],
          [
           null
          ],
          [
           null
          ],
          [
           null
          ],
          [
           null
          ],
          [
           null
          ],
          [
           null
          ],
          [
           null
          ],
          [
           null
          ],
          [
           null
          ],
          [
           null
          ],
          [
           null
          ],
          [
           null
          ],
          [
           null
          ],
          [
           null
          ],
          [
           null
          ],
          [
           null
          ],
          [
           null
          ],
          [
           "Tecnologia da Informação"
          ],
          [
           null
          ],
          [
           null
          ],
          [
           "Comunicações"
          ],
          [
           null
          ],
          [
           null
          ],
          [
           null
          ],
          [
           null
          ],
          [
           null
          ],
          [
           null
          ],
          [
           null
          ],
          [
           null
          ],
          [
           null
          ],
          [
           null
          ],
          [
           null
          ],
          [
           null
          ],
          [
           null
          ],
          [
           null
          ],
          [
           "Materiais Básicos"
          ],
          [
           null
          ],
          [
           null
          ],
          [
           null
          ],
          [
           null
          ],
          [
           null
          ],
          [
           null
          ],
          [
           null
          ],
          [
           null
          ],
          [
           null
          ],
          [
           "Financeiro"
          ],
          [
           null
          ],
          [
           null
          ],
          [
           null
          ],
          [
           null
          ],
          [
           null
          ],
          [
           null
          ],
          [
           null
          ],
          [
           null
          ],
          [
           "Consumo Cíclico"
          ],
          [
           null
          ],
          [
           null
          ],
          [
           null
          ],
          [
           null
          ],
          [
           null
          ],
          [
           null
          ],
          [
           null
          ],
          [
           null
          ],
          [
           null
          ],
          [
           null
          ],
          [
           null
          ],
          [
           null
          ],
          [
           "Financeiro"
          ],
          [
           null
          ],
          [
           null
          ],
          [
           null
          ],
          [
           null
          ],
          [
           null
          ],
          [
           null
          ],
          [
           null
          ],
          [
           null
          ],
          [
           null
          ],
          [
           null
          ],
          [
           "Financeiro"
          ],
          [
           null
          ],
          [
           null
          ],
          [
           null
          ],
          [
           null
          ],
          [
           null
          ],
          [
           null
          ],
          [
           "Bens Industriais"
          ],
          [
           null
          ],
          [
           null
          ],
          [
           null
          ],
          [
           null
          ],
          [
           null
          ],
          [
           null
          ],
          [
           null
          ],
          [
           null
          ],
          [
           null
          ],
          [
           null
          ],
          [
           null
          ],
          [
           null
          ],
          [
           "Consumo Cíclico"
          ],
          [
           null
          ],
          [
           null
          ],
          [
           null
          ],
          [
           null
          ],
          [
           null
          ],
          [
           null
          ],
          [
           null
          ],
          [
           null
          ],
          [
           null
          ],
          [
           null
          ],
          [
           null
          ],
          [
           null
          ],
          [
           "Financeiro"
          ],
          [
           null
          ],
          [
           null
          ],
          [
           null
          ],
          [
           null
          ],
          [
           null
          ],
          [
           null
          ],
          [
           null
          ],
          [
           null
          ],
          [
           null
          ],
          [
           null
          ],
          [
           null
          ],
          [
           null
          ],
          [
           null
          ],
          [
           null
          ],
          [
           "Saúde"
          ],
          [
           null
          ],
          [
           null
          ],
          [
           "Bens Industriais"
          ],
          [
           null
          ],
          [
           null
          ],
          [
           null
          ],
          [
           null
          ],
          [
           null
          ],
          [
           null
          ],
          [
           null
          ],
          [
           null
          ],
          [
           null
          ],
          [
           null
          ],
          [
           null
          ],
          [
           null
          ],
          [
           null
          ],
          [
           null
          ],
          [
           null
          ],
          [
           "Materiais Básicos"
          ],
          [
           null
          ],
          [
           null
          ],
          [
           null
          ],
          [
           null
          ],
          [
           null
          ],
          [
           null
          ],
          [
           null
          ],
          [
           null
          ],
          [
           null
          ],
          [
           "Financeiro"
          ],
          [
           null
          ],
          [
           null
          ],
          [
           null
          ],
          [
           null
          ],
          [
           null
          ],
          [
           null
          ],
          [
           null
          ],
          [
           null
          ],
          [
           null
          ],
          [
           null
          ],
          [
           "Financeiro"
          ],
          [
           null
          ],
          [
           null
          ],
          [
           null
          ],
          [
           null
          ],
          [
           null
          ],
          [
           null
          ],
          [
           null
          ],
          [
           null
          ],
          [
           "Consumo Cíclico"
          ],
          [
           null
          ],
          [
           null
          ],
          [
           null
          ],
          [
           null
          ],
          [
           null
          ],
          [
           null
          ],
          [
           null
          ],
          [
           null
          ],
          [
           null
          ],
          [
           "Comunicações"
          ],
          [
           null
          ],
          [
           null
          ],
          [
           null
          ],
          [
           null
          ],
          [
           null
          ],
          [
           null
          ],
          [
           null
          ],
          [
           null
          ],
          [
           null
          ],
          [
           "Bens Industriais"
          ],
          [
           null
          ],
          [
           null
          ],
          [
           null
          ],
          [
           null
          ],
          [
           null
          ],
          [
           null
          ],
          [
           null
          ],
          [
           null
          ],
          [
           null
          ],
          [
           null
          ],
          [
           "Bens Industriais"
          ],
          [
           null
          ],
          [
           null
          ],
          [
           null
          ],
          [
           null
          ],
          [
           null
          ],
          [
           null
          ],
          [
           null
          ],
          [
           null
          ],
          [
           null
          ],
          [
           null
          ],
          [
           "Bens Industriais"
          ],
          [
           null
          ],
          [
           null
          ],
          [
           null
          ],
          [
           null
          ],
          [
           null
          ],
          [
           null
          ],
          [
           null
          ],
          [
           null
          ],
          [
           null
          ],
          [
           null
          ],
          [
           null
          ],
          [
           null
          ],
          [
           "Consumo Cíclico"
          ],
          [
           null
          ],
          [
           null
          ],
          [
           null
          ],
          [
           null
          ],
          [
           null
          ],
          [
           null
          ],
          [
           null
          ],
          [
           null
          ],
          [
           null
          ],
          [
           null
          ],
          [
           "Consumo Cíclico"
          ],
          [
           null
          ],
          [
           null
          ],
          [
           null
          ],
          [
           null
          ],
          [
           null
          ],
          [
           null
          ],
          [
           null
          ],
          [
           null
          ],
          [
           null
          ],
          [
           null
          ],
          [
           "Consumo Cíclico"
          ],
          [
           null
          ],
          [
           null
          ],
          [
           null
          ],
          [
           null
          ],
          [
           null
          ],
          [
           null
          ],
          [
           null
          ],
          [
           null
          ],
          [
           null
          ],
          [
           null
          ],
          [
           null
          ],
          [
           null
          ],
          [
           null
          ],
          [
           null
          ],
          [
           null
          ],
          [
           null
          ],
          [
           null
          ],
          [
           null
          ],
          [
           "Utilidade Pública"
          ],
          [
           "Bens Industriais"
          ],
          [
           "Comunicações"
          ],
          [
           "Consumo Cíclico"
          ],
          [
           "Consumo não Cíclico"
          ],
          [
           "Financeiro"
          ],
          [
           "Materiais Básicos"
          ],
          [
           "Outros"
          ],
          [
           "Petróleo, Gás e Biocombustíveis"
          ],
          [
           "Saúde"
          ],
          [
           "Tecnologia da Informação"
          ],
          [
           "Utilidade Pública"
          ],
          [
           "(?)"
          ]
         ],
         "domain": {
          "x": [
           0,
           1
          ],
          "y": [
           0,
           1
          ]
         },
         "hoverinfo": "label+value+percent entry",
         "ids": [
          "Total/Consumo não Cíclico/Bicicletas",
          "Total/Consumo Cíclico/Bancos",
          "Total/Financeiro/Bicicletas",
          "Total/Utilidade Pública/Armas e Munições",
          "Total/Consumo não Cíclico/Bancos",
          "Total/Tecnologia da Informação/Armas e Munições",
          "Total/Saúde/Armas e Munições",
          "Total/Petróleo, Gás e Biocombustíveis/Armas e Munições",
          "Total/Outros/Alimentos",
          "Total/Petróleo, Gás e Biocombustíveis/Alimentos",
          "Total/Tecnologia da Informação/Alimentos",
          "Total/Tecnologia da Informação/Bancos",
          "Total/Bens Industriais/Alimentos Diversos",
          "Total/Materiais Básicos/Armas e Munições",
          "Total/Materiais Básicos/Bancos",
          "Total/Financeiro/Armas e Munições",
          "Total/Financeiro/Bancos",
          "Total/Utilidade Pública/Alimentos Diversos",
          "Total/Saúde/Agricultura",
          "Total/Consumo Cíclico/Automóveis e Motocicletas",
          "Total/Saúde/Aluguel de carros",
          "Total/Utilidade Pública/Brinquedos e Jogos",
          "Total/Saúde/Brinquedos e Jogos",
          "Total/Bens Industriais/Armas e Munições",
          "Total/Comunicações/Brinquedos e Jogos",
          "Total/Comunicações/Artefatos de Ferro e Aço",
          "Total/Utilidade Pública/Atividades Esportivas",
          "Total/Saúde/Acessórios",
          "Total/Outros/Artefatos de Ferro e Aço",
          "Total/Comunicações/Automóveis e Motocicletas",
          "Total/Financeiro/Artefatos de Ferro e Aço",
          "Total/Financeiro/Agricultura",
          "Total/Utilidade Pública/Bicicletas",
          "Total/Utilidade Pública/Agricultura",
          "Total/Saúde/Artefatos de Ferro e Aço",
          "Total/Outros/Alimentos Diversos",
          "Total/Consumo Cíclico/Açucar e Alcool",
          "Total/Consumo não Cíclico/Açucar e Alcool",
          "Total/Tecnologia da Informação/Aluguel de carros",
          "Total/Comunicações/Calçados",
          "Total/Outros/Armas e Munições",
          "Total/Financeiro/Açucar e Alcool",
          "Total/Comunicações/Açucar e Alcool",
          "Total/Consumo não Cíclico/Automóveis e Motocicletas",
          "Total/Saúde/Atividades Esportivas",
          "Total/Bens Industriais/Atividades Esportivas",
          "Total/Outros/Atividades Esportivas",
          "Total/Consumo Cíclico/Atividades Esportivas",
          "Total/Consumo não Cíclico/Armas e Munições",
          "Total/Outros/Açucar e Alcool",
          "Total/Utilidade Pública/Açucar e Alcool",
          "Total/Saúde/Açucar e Alcool",
          "Total/Comunicações/Acessórios",
          "Total/Petróleo, Gás e Biocombustíveis/Brinquedos e Jogos",
          "Total/Outros/Brinquedos e Jogos",
          "Total/Materiais Básicos/Brinquedos e Jogos",
          "Total/Tecnologia da Informação/Acessórios",
          "Total/Utilidade Pública/Acessórios",
          "Total/Tecnologia da Informação/Bicicletas",
          "Total/Outros/Agricultura",
          "Total/Petróleo, Gás e Biocombustíveis/Agricultura",
          "Total/Petróleo, Gás e Biocombustíveis/Açucar e Alcool",
          "Total/Consumo Cíclico/Bicicletas",
          "Total/Materiais Básicos/Atividades Esportivas",
          "Total/Materiais Básicos/Alimentos",
          "Total/Tecnologia da Informação/Açucar e Alcool",
          "Total/Financeiro/Atividades Esportivas",
          "Total/Bens Industriais/Bancos",
          "Total/Comunicações/Bancos",
          "Total/Petróleo, Gás e Biocombustíveis/Alimentos Diversos",
          "Total/Materiais Básicos/Alimentos Diversos",
          "Total/Consumo não Cíclico/Alimentos Diversos",
          "Total/Comunicações/Agricultura",
          "Total/Consumo não Cíclico/Atividades Esportivas",
          "Total/Comunicações/Alimentos",
          "Total/Bens Industriais/Artefatos de Cobre",
          "Total/Consumo Cíclico/Artefatos de Cobre",
          "Total/Consumo não Cíclico/Artefatos de Cobre",
          "Total/Consumo Cíclico/Armas e Munições",
          "Total/Bens Industriais/Brinquedos e Jogos",
          "Total/Utilidade Pública/Automóveis e Motocicletas",
          "Total/Outros/Artefatos de Cobre",
          "Total/Consumo Cíclico/Artefatos de Ferro e Aço",
          "Total/Financeiro/Alimentos",
          "Total/Tecnologia da Informação/Automóveis e Motocicletas",
          "Total/Bens Industriais/Açucar e Alcool",
          "Total/Saúde/Bicicletas",
          "Total/Bens Industriais/Automóveis e Motocicletas",
          "Total/Petróleo, Gás e Biocombustíveis/Bancos",
          "Total/Outros/Automóveis e Motocicletas",
          "Total/Petróleo, Gás e Biocombustíveis/Bicicletas",
          "Total/Petróleo, Gás e Biocombustíveis/Automóveis e Motocicletas",
          "Total/Saúde/Automóveis e Motocicletas",
          "Total/Comunicações/Bicicletas",
          "Total/Bens Industriais/Artefatos de Ferro e Aço",
          "Total/Financeiro/Alimentos Diversos",
          "Total/Consumo Cíclico/Aluguel de carros",
          "Total/Bens Industriais/Aluguel de carros",
          "Total/Saúde/Alimentos Diversos",
          "Total/Comunicações/Atividades Esportivas",
          "Total/Saúde/Alimentos",
          "Total/Petróleo, Gás e Biocombustíveis/Artefatos de Cobre",
          "Total/Consumo Cíclico/Alimentos",
          "Total/Consumo não Cíclico/Aluguel de carros",
          "Total/Tecnologia da Informação/Artefatos de Cobre",
          "Total/Tecnologia da Informação/Agricultura",
          "Total/Materiais Básicos/Agricultura",
          "Total/Materiais Básicos/Artefatos de Ferro e Aço",
          "Total/Consumo não Cíclico/Agricultura",
          "Total/Tecnologia da Informação/Artefatos de Ferro e Aço",
          "Total/Materiais Básicos/Acessórios",
          "Total/Financeiro/Aluguel de carros",
          "Total/Bens Industriais/Alimentos",
          "Total/Outros/Bicicletas",
          "Total/Bens Industriais/Bicicletas",
          "Total/Utilidade Pública/Bancos",
          "Total/Financeiro/Brinquedos e Jogos",
          "Total/Comunicações/Aluguel de carros",
          "Total/Materiais Básicos/Bicicletas",
          "Total/Petróleo, Gás e Biocombustíveis/Atividades Esportivas",
          "Total/Materiais Básicos/Automóveis e Motocicletas",
          "Total/Materiais Básicos/Aluguel de carros",
          "Total/Utilidade Pública/Artefatos de Cobre",
          "Total/Consumo não Cíclico/Artefatos de Ferro e Aço",
          "Total/Petróleo, Gás e Biocombustíveis/Artefatos de Ferro e Aço",
          "Total/Financeiro/Artefatos de Cobre",
          "Total/Comunicações/Artefatos de Cobre",
          "Total/Financeiro/Automóveis e Motocicletas",
          "Total/Bens Industriais/Calçados",
          "Total/Tecnologia da Informação/Atividades Esportivas",
          "Total/Utilidade Pública/Aluguel de carros",
          "Total/Utilidade Pública/Artefatos de Ferro e Aço",
          "Total/Consumo Cíclico/Acessórios",
          "Total/Outros/Bancos",
          "Total/Utilidade Pública/Alimentos",
          "Total/Saúde/Artefatos de Cobre",
          "Total/Bens Industriais/Agricultura",
          "Total/Consumo não Cíclico/Brinquedos e Jogos",
          "Total/Financeiro/Acessórios",
          "Total/Petróleo, Gás e Biocombustíveis/Acessórios",
          "Total/Outros/Aluguel de carros",
          "Total/Materiais Básicos/Açucar e Alcool",
          "Total/Comunicações/Alimentos Diversos",
          "Total/Petróleo, Gás e Biocombustíveis/Aluguel de carros",
          "Total/Consumo não Cíclico/Acessórios",
          "Total/Materiais Básicos/Artefatos de Cobre",
          "Total/Consumo Cíclico/Agricultura",
          "Total/Saúde/Bancos",
          "Total/Consumo Cíclico/Brinquedos e Jogos",
          "Total/Consumo Cíclico/Alimentos Diversos",
          "Total/Comunicações/Armas e Munições",
          "Total/Outros/Acessórios",
          "Total/Tecnologia da Informação/Alimentos Diversos",
          "Total/Tecnologia da Informação/Brinquedos e Jogos",
          "Total/Consumo não Cíclico/Alimentos",
          "Total/Bens Industriais/Acessórios",
          "Total/Consumo Cíclico/Calçados",
          "Total/Consumo não Cíclico/Calçados",
          "Total/Financeiro/Calçados",
          "Total/Materiais Básicos/Calçados",
          "Total/Outros/Calçados",
          "Total/Petróleo, Gás e Biocombustíveis/Calçados",
          "Total/Saúde/Calçados",
          "Total/Tecnologia da Informação/Calçados",
          "Total/Utilidade Pública/Calçados",
          "Total/Bens Industriais/Carnes e Derivados",
          "Total/Comunicações/Carnes e Derivados",
          "Total/Consumo Cíclico/Carnes e Derivados",
          "Total/Consumo não Cíclico/Carnes e Derivados",
          "Total/Financeiro/Carnes e Derivados",
          "Total/Materiais Básicos/Carnes e Derivados",
          "Total/Outros/Carnes e Derivados",
          "Total/Petróleo, Gás e Biocombustíveis/Carnes e Derivados",
          "Total/Saúde/Carnes e Derivados",
          "Total/Tecnologia da Informação/Carnes e Derivados",
          "Total/Utilidade Pública/Carnes e Derivados",
          "Total/Bens Industriais/Cervejas e Refrigerantes",
          "Total/Comunicações/Cervejas e Refrigerantes",
          "Total/Consumo Cíclico/Cervejas e Refrigerantes",
          "Total/Consumo não Cíclico/Cervejas e Refrigerantes",
          "Total/Financeiro/Cervejas e Refrigerantes",
          "Total/Materiais Básicos/Cervejas e Refrigerantes",
          "Total/Outros/Cervejas e Refrigerantes",
          "Total/Petróleo, Gás e Biocombustíveis/Cervejas e Refrigerantes",
          "Total/Saúde/Cervejas e Refrigerantes",
          "Total/Tecnologia da Informação/Cervejas e Refrigerantes",
          "Total/Utilidade Pública/Cervejas e Refrigerantes",
          "Total/Bens Industriais/Computadores e Equipamentos",
          "Total/Comunicações/Computadores e Equipamentos",
          "Total/Consumo Cíclico/Computadores e Equipamentos",
          "Total/Consumo não Cíclico/Computadores e Equipamentos",
          "Total/Financeiro/Computadores e Equipamentos",
          "Total/Materiais Básicos/Computadores e Equipamentos",
          "Total/Outros/Computadores e Equipamentos",
          "Total/Petróleo, Gás e Biocombustíveis/Computadores e Equipamentos",
          "Total/Saúde/Computadores e Equipamentos",
          "Total/Tecnologia da Informação/Computadores e Equipamentos",
          "Total/Utilidade Pública/Computadores e Equipamentos",
          "Total/Bens Industriais/Construção Pesada",
          "Total/Comunicações/Construção Pesada",
          "Total/Consumo Cíclico/Construção Pesada",
          "Total/Consumo não Cíclico/Construção Pesada",
          "Total/Financeiro/Construção Pesada",
          "Total/Materiais Básicos/Construção Pesada",
          "Total/Outros/Construção Pesada",
          "Total/Petróleo, Gás e Biocombustíveis/Construção Pesada",
          "Total/Saúde/Construção Pesada",
          "Total/Tecnologia da Informação/Construção Pesada",
          "Total/Utilidade Pública/Construção Pesada",
          "Total/Bens Industriais/Corretoras de Seguros e Resseguros",
          "Total/Comunicações/Corretoras de Seguros e Resseguros",
          "Total/Consumo Cíclico/Corretoras de Seguros e Resseguros",
          "Total/Consumo não Cíclico/Corretoras de Seguros e Resseguros",
          "Total/Financeiro/Corretoras de Seguros e Resseguros",
          "Total/Materiais Básicos/Corretoras de Seguros e Resseguros",
          "Total/Outros/Corretoras de Seguros e Resseguros",
          "Total/Petróleo, Gás e Biocombustíveis/Corretoras de Seguros e Resseguros",
          "Total/Saúde/Corretoras de Seguros e Resseguros",
          "Total/Tecnologia da Informação/Corretoras de Seguros e Resseguros",
          "Total/Utilidade Pública/Corretoras de Seguros e Resseguros",
          "Total/Bens Industriais/Eletrodomésticos",
          "Total/Comunicações/Eletrodomésticos",
          "Total/Consumo Cíclico/Eletrodomésticos",
          "Total/Consumo não Cíclico/Eletrodomésticos",
          "Total/Financeiro/Eletrodomésticos",
          "Total/Materiais Básicos/Eletrodomésticos",
          "Total/Outros/Eletrodomésticos",
          "Total/Petróleo, Gás e Biocombustíveis/Eletrodomésticos",
          "Total/Saúde/Eletrodomésticos",
          "Total/Tecnologia da Informação/Eletrodomésticos",
          "Total/Utilidade Pública/Eletrodomésticos",
          "Total/Bens Industriais/Embalagens",
          "Total/Comunicações/Embalagens",
          "Total/Consumo Cíclico/Embalagens",
          "Total/Consumo não Cíclico/Embalagens",
          "Total/Financeiro/Embalagens",
          "Total/Materiais Básicos/Embalagens",
          "Total/Outros/Embalagens",
          "Total/Petróleo, Gás e Biocombustíveis/Embalagens",
          "Total/Saúde/Embalagens",
          "Total/Tecnologia da Informação/Embalagens",
          "Total/Utilidade Pública/Embalagens",
          "Total/Bens Industriais/Energia Elétrica",
          "Total/Comunicações/Energia Elétrica",
          "Total/Consumo Cíclico/Energia Elétrica",
          "Total/Consumo não Cíclico/Energia Elétrica",
          "Total/Financeiro/Energia Elétrica",
          "Total/Materiais Básicos/Energia Elétrica",
          "Total/Outros/Energia Elétrica",
          "Total/Petróleo, Gás e Biocombustíveis/Energia Elétrica",
          "Total/Saúde/Energia Elétrica",
          "Total/Tecnologia da Informação/Energia Elétrica",
          "Total/Utilidade Pública/Energia Elétrica",
          "Total/Bens Industriais/Engenharia Consultiva",
          "Total/Comunicações/Engenharia Consultiva",
          "Total/Consumo Cíclico/Engenharia Consultiva",
          "Total/Consumo não Cíclico/Engenharia Consultiva",
          "Total/Financeiro/Engenharia Consultiva",
          "Total/Materiais Básicos/Engenharia Consultiva",
          "Total/Outros/Engenharia Consultiva",
          "Total/Petróleo, Gás e Biocombustíveis/Engenharia Consultiva",
          "Total/Saúde/Engenharia Consultiva",
          "Total/Tecnologia da Informação/Engenharia Consultiva",
          "Total/Utilidade Pública/Engenharia Consultiva",
          "Total/Bens Industriais/Equipamentos",
          "Total/Comunicações/Equipamentos",
          "Total/Consumo Cíclico/Equipamentos",
          "Total/Consumo não Cíclico/Equipamentos",
          "Total/Financeiro/Equipamentos",
          "Total/Materiais Básicos/Equipamentos",
          "Total/Outros/Equipamentos",
          "Total/Petróleo, Gás e Biocombustíveis/Equipamentos",
          "Total/Saúde/Equipamentos",
          "Total/Tecnologia da Informação/Equipamentos",
          "Total/Utilidade Pública/Equipamentos",
          "Total/Bens Industriais/Equipamentos e Serviços",
          "Total/Comunicações/Equipamentos e Serviços",
          "Total/Consumo Cíclico/Equipamentos e Serviços",
          "Total/Consumo não Cíclico/Equipamentos e Serviços",
          "Total/Financeiro/Equipamentos e Serviços",
          "Total/Materiais Básicos/Equipamentos e Serviços",
          "Total/Outros/Equipamentos e Serviços",
          "Total/Petróleo, Gás e Biocombustíveis/Equipamentos e Serviços",
          "Total/Saúde/Equipamentos e Serviços",
          "Total/Tecnologia da Informação/Equipamentos e Serviços",
          "Total/Utilidade Pública/Equipamentos e Serviços",
          "Total/Bens Industriais/Exploração de Imóveis",
          "Total/Comunicações/Exploração de Imóveis",
          "Total/Consumo Cíclico/Exploração de Imóveis",
          "Total/Consumo não Cíclico/Exploração de Imóveis",
          "Total/Financeiro/Exploração de Imóveis",
          "Total/Materiais Básicos/Exploração de Imóveis",
          "Total/Outros/Exploração de Imóveis",
          "Total/Petróleo, Gás e Biocombustíveis/Exploração de Imóveis",
          "Total/Saúde/Exploração de Imóveis",
          "Total/Tecnologia da Informação/Exploração de Imóveis",
          "Total/Utilidade Pública/Exploração de Imóveis",
          "Total/Bens Industriais/Exploração de Rodovias",
          "Total/Comunicações/Exploração de Rodovias",
          "Total/Consumo Cíclico/Exploração de Rodovias",
          "Total/Consumo não Cíclico/Exploração de Rodovias",
          "Total/Financeiro/Exploração de Rodovias",
          "Total/Materiais Básicos/Exploração de Rodovias",
          "Total/Outros/Exploração de Rodovias",
          "Total/Petróleo, Gás e Biocombustíveis/Exploração de Rodovias",
          "Total/Saúde/Exploração de Rodovias",
          "Total/Tecnologia da Informação/Exploração de Rodovias",
          "Total/Utilidade Pública/Exploração de Rodovias",
          "Total/Bens Industriais/Exploração, Refino e Distribuição",
          "Total/Comunicações/Exploração, Refino e Distribuição",
          "Total/Consumo Cíclico/Exploração, Refino e Distribuição",
          "Total/Consumo não Cíclico/Exploração, Refino e Distribuição",
          "Total/Financeiro/Exploração, Refino e Distribuição",
          "Total/Materiais Básicos/Exploração, Refino e Distribuição",
          "Total/Outros/Exploração, Refino e Distribuição",
          "Total/Petróleo, Gás e Biocombustíveis/Exploração, Refino e Distribuição",
          "Total/Saúde/Exploração, Refino e Distribuição",
          "Total/Tecnologia da Informação/Exploração, Refino e Distribuição",
          "Total/Utilidade Pública/Exploração, Refino e Distribuição",
          "Total/Bens Industriais/Fertilizantes e Defensivos",
          "Total/Comunicações/Fertilizantes e Defensivos",
          "Total/Consumo Cíclico/Fertilizantes e Defensivos",
          "Total/Consumo não Cíclico/Fertilizantes e Defensivos",
          "Total/Financeiro/Fertilizantes e Defensivos",
          "Total/Materiais Básicos/Fertilizantes e Defensivos",
          "Total/Outros/Fertilizantes e Defensivos",
          "Total/Petróleo, Gás e Biocombustíveis/Fertilizantes e Defensivos",
          "Total/Saúde/Fertilizantes e Defensivos",
          "Total/Tecnologia da Informação/Fertilizantes e Defensivos",
          "Total/Utilidade Pública/Fertilizantes e Defensivos",
          "Total/Bens Industriais/Fios e Tecidos",
          "Total/Comunicações/Fios e Tecidos",
          "Total/Consumo Cíclico/Fios e Tecidos",
          "Total/Consumo não Cíclico/Fios e Tecidos",
          "Total/Financeiro/Fios e Tecidos",
          "Total/Materiais Básicos/Fios e Tecidos",
          "Total/Outros/Fios e Tecidos",
          "Total/Petróleo, Gás e Biocombustíveis/Fios e Tecidos",
          "Total/Saúde/Fios e Tecidos",
          "Total/Tecnologia da Informação/Fios e Tecidos",
          "Total/Utilidade Pública/Fios e Tecidos",
          "Total/Bens Industriais/Gestão de Recursos e Investimentos",
          "Total/Comunicações/Gestão de Recursos e Investimentos",
          "Total/Consumo Cíclico/Gestão de Recursos e Investimentos",
          "Total/Consumo não Cíclico/Gestão de Recursos e Investimentos",
          "Total/Financeiro/Gestão de Recursos e Investimentos",
          "Total/Materiais Básicos/Gestão de Recursos e Investimentos",
          "Total/Outros/Gestão de Recursos e Investimentos",
          "Total/Petróleo, Gás e Biocombustíveis/Gestão de Recursos e Investimentos",
          "Total/Saúde/Gestão de Recursos e Investimentos",
          "Total/Tecnologia da Informação/Gestão de Recursos e Investimentos",
          "Total/Utilidade Pública/Gestão de Recursos e Investimentos",
          "Total/Bens Industriais/Gás",
          "Total/Comunicações/Gás",
          "Total/Consumo Cíclico/Gás",
          "Total/Consumo não Cíclico/Gás",
          "Total/Financeiro/Gás",
          "Total/Materiais Básicos/Gás",
          "Total/Outros/Gás",
          "Total/Petróleo, Gás e Biocombustíveis/Gás",
          "Total/Saúde/Gás",
          "Total/Tecnologia da Informação/Gás",
          "Total/Utilidade Pública/Gás",
          "Total/Bens Industriais/Holdings Diversificadas",
          "Total/Comunicações/Holdings Diversificadas",
          "Total/Consumo Cíclico/Holdings Diversificadas",
          "Total/Consumo não Cíclico/Holdings Diversificadas",
          "Total/Financeiro/Holdings Diversificadas",
          "Total/Materiais Básicos/Holdings Diversificadas",
          "Total/Outros/Holdings Diversificadas",
          "Total/Petróleo, Gás e Biocombustíveis/Holdings Diversificadas",
          "Total/Saúde/Holdings Diversificadas",
          "Total/Tecnologia da Informação/Holdings Diversificadas",
          "Total/Utilidade Pública/Holdings Diversificadas",
          "Total/Bens Industriais/Hotelaria",
          "Total/Comunicações/Hotelaria",
          "Total/Consumo Cíclico/Hotelaria",
          "Total/Consumo não Cíclico/Hotelaria",
          "Total/Financeiro/Hotelaria",
          "Total/Materiais Básicos/Hotelaria",
          "Total/Outros/Hotelaria",
          "Total/Petróleo, Gás e Biocombustíveis/Hotelaria",
          "Total/Saúde/Hotelaria",
          "Total/Tecnologia da Informação/Hotelaria",
          "Total/Utilidade Pública/Hotelaria",
          "Total/Bens Industriais/Incorporações",
          "Total/Comunicações/Incorporações",
          "Total/Consumo Cíclico/Incorporações",
          "Total/Consumo não Cíclico/Incorporações",
          "Total/Financeiro/Incorporações",
          "Total/Materiais Básicos/Incorporações",
          "Total/Outros/Incorporações",
          "Total/Petróleo, Gás e Biocombustíveis/Incorporações",
          "Total/Saúde/Incorporações",
          "Total/Tecnologia da Informação/Incorporações",
          "Total/Utilidade Pública/Incorporações",
          "Total/Bens Industriais/Intermediação Imobiliária",
          "Total/Comunicações/Intermediação Imobiliária",
          "Total/Consumo Cíclico/Intermediação Imobiliária",
          "Total/Consumo não Cíclico/Intermediação Imobiliária",
          "Total/Financeiro/Intermediação Imobiliária",
          "Total/Materiais Básicos/Intermediação Imobiliária",
          "Total/Outros/Intermediação Imobiliária",
          "Total/Petróleo, Gás e Biocombustíveis/Intermediação Imobiliária",
          "Total/Saúde/Intermediação Imobiliária",
          "Total/Tecnologia da Informação/Intermediação Imobiliária",
          "Total/Utilidade Pública/Intermediação Imobiliária",
          "Total/Bens Industriais/Linhas Aéreas de Passageiros",
          "Total/Comunicações/Linhas Aéreas de Passageiros",
          "Total/Consumo Cíclico/Linhas Aéreas de Passageiros",
          "Total/Consumo não Cíclico/Linhas Aéreas de Passageiros",
          "Total/Financeiro/Linhas Aéreas de Passageiros",
          "Total/Materiais Básicos/Linhas Aéreas de Passageiros",
          "Total/Outros/Linhas Aéreas de Passageiros",
          "Total/Petróleo, Gás e Biocombustíveis/Linhas Aéreas de Passageiros",
          "Total/Saúde/Linhas Aéreas de Passageiros",
          "Total/Tecnologia da Informação/Linhas Aéreas de Passageiros",
          "Total/Utilidade Pública/Linhas Aéreas de Passageiros",
          "Total/Bens Industriais/Madeira",
          "Total/Comunicações/Madeira",
          "Total/Consumo Cíclico/Madeira",
          "Total/Consumo não Cíclico/Madeira",
          "Total/Financeiro/Madeira",
          "Total/Materiais Básicos/Madeira",
          "Total/Outros/Madeira",
          "Total/Petróleo, Gás e Biocombustíveis/Madeira",
          "Total/Saúde/Madeira",
          "Total/Tecnologia da Informação/Madeira",
          "Total/Utilidade Pública/Madeira",
          "Total/Bens Industriais/Materiais Diversos",
          "Total/Comunicações/Materiais Diversos",
          "Total/Consumo Cíclico/Materiais Diversos",
          "Total/Consumo não Cíclico/Materiais Diversos",
          "Total/Financeiro/Materiais Diversos",
          "Total/Materiais Básicos/Materiais Diversos",
          "Total/Outros/Materiais Diversos",
          "Total/Petróleo, Gás e Biocombustíveis/Materiais Diversos",
          "Total/Saúde/Materiais Diversos",
          "Total/Tecnologia da Informação/Materiais Diversos",
          "Total/Utilidade Pública/Materiais Diversos",
          "Total/Bens Industriais/Material Aeronáutico e de Defesa",
          "Total/Comunicações/Material Aeronáutico e de Defesa",
          "Total/Consumo Cíclico/Material Aeronáutico e de Defesa",
          "Total/Consumo não Cíclico/Material Aeronáutico e de Defesa",
          "Total/Financeiro/Material Aeronáutico e de Defesa",
          "Total/Materiais Básicos/Material Aeronáutico e de Defesa",
          "Total/Outros/Material Aeronáutico e de Defesa",
          "Total/Petróleo, Gás e Biocombustíveis/Material Aeronáutico e de Defesa",
          "Total/Saúde/Material Aeronáutico e de Defesa",
          "Total/Tecnologia da Informação/Material Aeronáutico e de Defesa",
          "Total/Utilidade Pública/Material Aeronáutico e de Defesa",
          "Total/Bens Industriais/Material Rodoviário",
          "Total/Comunicações/Material Rodoviário",
          "Total/Consumo Cíclico/Material Rodoviário",
          "Total/Consumo não Cíclico/Material Rodoviário",
          "Total/Financeiro/Material Rodoviário",
          "Total/Materiais Básicos/Material Rodoviário",
          "Total/Outros/Material Rodoviário",
          "Total/Petróleo, Gás e Biocombustíveis/Material Rodoviário",
          "Total/Saúde/Material Rodoviário",
          "Total/Tecnologia da Informação/Material Rodoviário",
          "Total/Utilidade Pública/Material Rodoviário",
          "Total/Bens Industriais/Material de Transporte",
          "Total/Comunicações/Material de Transporte",
          "Total/Consumo Cíclico/Material de Transporte",
          "Total/Consumo não Cíclico/Material de Transporte",
          "Total/Financeiro/Material de Transporte",
          "Total/Materiais Básicos/Material de Transporte",
          "Total/Outros/Material de Transporte",
          "Total/Petróleo, Gás e Biocombustíveis/Material de Transporte",
          "Total/Saúde/Material de Transporte",
          "Total/Tecnologia da Informação/Material de Transporte",
          "Total/Utilidade Pública/Material de Transporte",
          "Total/Bens Industriais/Medicamentos e Outros Produtos",
          "Total/Comunicações/Medicamentos e Outros Produtos",
          "Total/Consumo Cíclico/Medicamentos e Outros Produtos",
          "Total/Consumo não Cíclico/Medicamentos e Outros Produtos",
          "Total/Financeiro/Medicamentos e Outros Produtos",
          "Total/Materiais Básicos/Medicamentos e Outros Produtos",
          "Total/Outros/Medicamentos e Outros Produtos",
          "Total/Petróleo, Gás e Biocombustíveis/Medicamentos e Outros Produtos",
          "Total/Saúde/Medicamentos e Outros Produtos",
          "Total/Tecnologia da Informação/Medicamentos e Outros Produtos",
          "Total/Utilidade Pública/Medicamentos e Outros Produtos",
          "Total/Bens Industriais/Minerais Metálicos",
          "Total/Comunicações/Minerais Metálicos",
          "Total/Consumo Cíclico/Minerais Metálicos",
          "Total/Consumo não Cíclico/Minerais Metálicos",
          "Total/Financeiro/Minerais Metálicos",
          "Total/Materiais Básicos/Minerais Metálicos",
          "Total/Outros/Minerais Metálicos",
          "Total/Petróleo, Gás e Biocombustíveis/Minerais Metálicos",
          "Total/Saúde/Minerais Metálicos",
          "Total/Tecnologia da Informação/Minerais Metálicos",
          "Total/Utilidade Pública/Minerais Metálicos",
          "Total/Bens Industriais/Motores, Compressores e Outros",
          "Total/Comunicações/Motores, Compressores e Outros",
          "Total/Consumo Cíclico/Motores, Compressores e Outros",
          "Total/Consumo não Cíclico/Motores, Compressores e Outros",
          "Total/Financeiro/Motores, Compressores e Outros",
          "Total/Materiais Básicos/Motores, Compressores e Outros",
          "Total/Outros/Motores, Compressores e Outros",
          "Total/Petróleo, Gás e Biocombustíveis/Motores, Compressores e Outros",
          "Total/Saúde/Motores, Compressores e Outros",
          "Total/Tecnologia da Informação/Motores, Compressores e Outros",
          "Total/Utilidade Pública/Motores, Compressores e Outros",
          "Total/Bens Industriais/Máq. e Equip. Construção e Agrícolas",
          "Total/Comunicações/Máq. e Equip. Construção e Agrícolas",
          "Total/Consumo Cíclico/Máq. e Equip. Construção e Agrícolas",
          "Total/Consumo não Cíclico/Máq. e Equip. Construção e Agrícolas",
          "Total/Financeiro/Máq. e Equip. Construção e Agrícolas",
          "Total/Materiais Básicos/Máq. e Equip. Construção e Agrícolas",
          "Total/Outros/Máq. e Equip. Construção e Agrícolas",
          "Total/Petróleo, Gás e Biocombustíveis/Máq. e Equip. Construção e Agrícolas",
          "Total/Saúde/Máq. e Equip. Construção e Agrícolas",
          "Total/Tecnologia da Informação/Máq. e Equip. Construção e Agrícolas",
          "Total/Utilidade Pública/Máq. e Equip. Construção e Agrícolas",
          "Total/Bens Industriais/Máq. e Equip. Industriais",
          "Total/Comunicações/Máq. e Equip. Industriais",
          "Total/Consumo Cíclico/Máq. e Equip. Industriais",
          "Total/Consumo não Cíclico/Máq. e Equip. Industriais",
          "Total/Financeiro/Máq. e Equip. Industriais",
          "Total/Materiais Básicos/Máq. e Equip. Industriais",
          "Total/Outros/Máq. e Equip. Industriais",
          "Total/Petróleo, Gás e Biocombustíveis/Máq. e Equip. Industriais",
          "Total/Saúde/Máq. e Equip. Industriais",
          "Total/Tecnologia da Informação/Máq. e Equip. Industriais",
          "Total/Utilidade Pública/Máq. e Equip. Industriais",
          "Total/Bens Industriais/Móveis",
          "Total/Comunicações/Móveis",
          "Total/Consumo Cíclico/Móveis",
          "Total/Consumo não Cíclico/Móveis",
          "Total/Financeiro/Móveis",
          "Total/Materiais Básicos/Móveis",
          "Total/Outros/Móveis",
          "Total/Petróleo, Gás e Biocombustíveis/Móveis",
          "Total/Saúde/Móveis",
          "Total/Tecnologia da Informação/Móveis",
          "Total/Utilidade Pública/Móveis",
          "Total/Bens Industriais/Outros",
          "Total/Comunicações/Outros",
          "Total/Consumo Cíclico/Outros",
          "Total/Consumo não Cíclico/Outros",
          "Total/Financeiro/Outros",
          "Total/Materiais Básicos/Outros",
          "Total/Outros/Outros",
          "Total/Petróleo, Gás e Biocombustíveis/Outros",
          "Total/Saúde/Outros",
          "Total/Tecnologia da Informação/Outros",
          "Total/Utilidade Pública/Outros",
          "Total/Bens Industriais/Outros Títulos",
          "Total/Comunicações/Outros Títulos",
          "Total/Consumo Cíclico/Outros Títulos",
          "Total/Consumo não Cíclico/Outros Títulos",
          "Total/Financeiro/Outros Títulos",
          "Total/Materiais Básicos/Outros Títulos",
          "Total/Outros/Outros Títulos",
          "Total/Petróleo, Gás e Biocombustíveis/Outros Títulos",
          "Total/Saúde/Outros Títulos",
          "Total/Tecnologia da Informação/Outros Títulos",
          "Total/Utilidade Pública/Outros Títulos",
          "Total/Bens Industriais/Papel e Celulose",
          "Total/Comunicações/Papel e Celulose",
          "Total/Consumo Cíclico/Papel e Celulose",
          "Total/Consumo não Cíclico/Papel e Celulose",
          "Total/Financeiro/Papel e Celulose",
          "Total/Materiais Básicos/Papel e Celulose",
          "Total/Outros/Papel e Celulose",
          "Total/Petróleo, Gás e Biocombustíveis/Papel e Celulose",
          "Total/Saúde/Papel e Celulose",
          "Total/Tecnologia da Informação/Papel e Celulose",
          "Total/Utilidade Pública/Papel e Celulose",
          "Total/Bens Industriais/Petroquímicos",
          "Total/Comunicações/Petroquímicos",
          "Total/Consumo Cíclico/Petroquímicos",
          "Total/Consumo não Cíclico/Petroquímicos",
          "Total/Financeiro/Petroquímicos",
          "Total/Materiais Básicos/Petroquímicos",
          "Total/Outros/Petroquímicos",
          "Total/Petróleo, Gás e Biocombustíveis/Petroquímicos",
          "Total/Saúde/Petroquímicos",
          "Total/Tecnologia da Informação/Petroquímicos",
          "Total/Utilidade Pública/Petroquímicos",
          "Total/Bens Industriais/Produtos Diversos",
          "Total/Comunicações/Produtos Diversos",
          "Total/Consumo Cíclico/Produtos Diversos",
          "Total/Consumo não Cíclico/Produtos Diversos",
          "Total/Financeiro/Produtos Diversos",
          "Total/Materiais Básicos/Produtos Diversos",
          "Total/Outros/Produtos Diversos",
          "Total/Petróleo, Gás e Biocombustíveis/Produtos Diversos",
          "Total/Saúde/Produtos Diversos",
          "Total/Tecnologia da Informação/Produtos Diversos",
          "Total/Utilidade Pública/Produtos Diversos",
          "Total/Bens Industriais/Produtos de Cuidado Pessoal",
          "Total/Comunicações/Produtos de Cuidado Pessoal",
          "Total/Consumo Cíclico/Produtos de Cuidado Pessoal",
          "Total/Consumo não Cíclico/Produtos de Cuidado Pessoal",
          "Total/Financeiro/Produtos de Cuidado Pessoal",
          "Total/Materiais Básicos/Produtos de Cuidado Pessoal",
          "Total/Outros/Produtos de Cuidado Pessoal",
          "Total/Petróleo, Gás e Biocombustíveis/Produtos de Cuidado Pessoal",
          "Total/Saúde/Produtos de Cuidado Pessoal",
          "Total/Tecnologia da Informação/Produtos de Cuidado Pessoal",
          "Total/Utilidade Pública/Produtos de Cuidado Pessoal",
          "Total/Bens Industriais/Produtos de Limpeza",
          "Total/Comunicações/Produtos de Limpeza",
          "Total/Consumo Cíclico/Produtos de Limpeza",
          "Total/Consumo não Cíclico/Produtos de Limpeza",
          "Total/Financeiro/Produtos de Limpeza",
          "Total/Materiais Básicos/Produtos de Limpeza",
          "Total/Outros/Produtos de Limpeza",
          "Total/Petróleo, Gás e Biocombustíveis/Produtos de Limpeza",
          "Total/Saúde/Produtos de Limpeza",
          "Total/Tecnologia da Informação/Produtos de Limpeza",
          "Total/Utilidade Pública/Produtos de Limpeza",
          "Total/Bens Industriais/Produtos para Construção",
          "Total/Comunicações/Produtos para Construção",
          "Total/Consumo Cíclico/Produtos para Construção",
          "Total/Consumo não Cíclico/Produtos para Construção",
          "Total/Financeiro/Produtos para Construção",
          "Total/Materiais Básicos/Produtos para Construção",
          "Total/Outros/Produtos para Construção",
          "Total/Petróleo, Gás e Biocombustíveis/Produtos para Construção",
          "Total/Saúde/Produtos para Construção",
          "Total/Tecnologia da Informação/Produtos para Construção",
          "Total/Utilidade Pública/Produtos para Construção",
          "Total/Bens Industriais/Produção de Eventos e Shows",
          "Total/Comunicações/Produção de Eventos e Shows",
          "Total/Consumo Cíclico/Produção de Eventos e Shows",
          "Total/Consumo não Cíclico/Produção de Eventos e Shows",
          "Total/Financeiro/Produção de Eventos e Shows",
          "Total/Materiais Básicos/Produção de Eventos e Shows",
          "Total/Outros/Produção de Eventos e Shows",
          "Total/Petróleo, Gás e Biocombustíveis/Produção de Eventos e Shows",
          "Total/Saúde/Produção de Eventos e Shows",
          "Total/Tecnologia da Informação/Produção de Eventos e Shows",
          "Total/Utilidade Pública/Produção de Eventos e Shows",
          "Total/Bens Industriais/Programas de Fidelização",
          "Total/Comunicações/Programas de Fidelização",
          "Total/Consumo Cíclico/Programas de Fidelização",
          "Total/Consumo não Cíclico/Programas de Fidelização",
          "Total/Financeiro/Programas de Fidelização",
          "Total/Materiais Básicos/Programas de Fidelização",
          "Total/Outros/Programas de Fidelização",
          "Total/Petróleo, Gás e Biocombustíveis/Programas de Fidelização",
          "Total/Saúde/Programas de Fidelização",
          "Total/Tecnologia da Informação/Programas de Fidelização",
          "Total/Utilidade Pública/Programas de Fidelização",
          "Total/Bens Industriais/Programas e Serviços",
          "Total/Comunicações/Programas e Serviços",
          "Total/Consumo Cíclico/Programas e Serviços",
          "Total/Consumo não Cíclico/Programas e Serviços",
          "Total/Financeiro/Programas e Serviços",
          "Total/Materiais Básicos/Programas e Serviços",
          "Total/Outros/Programas e Serviços",
          "Total/Petróleo, Gás e Biocombustíveis/Programas e Serviços",
          "Total/Saúde/Programas e Serviços",
          "Total/Tecnologia da Informação/Programas e Serviços",
          "Total/Utilidade Pública/Programas e Serviços",
          "Total/Bens Industriais/Publicidade e Propaganda",
          "Total/Comunicações/Publicidade e Propaganda",
          "Total/Consumo Cíclico/Publicidade e Propaganda",
          "Total/Consumo não Cíclico/Publicidade e Propaganda",
          "Total/Financeiro/Publicidade e Propaganda",
          "Total/Materiais Básicos/Publicidade e Propaganda",
          "Total/Outros/Publicidade e Propaganda",
          "Total/Petróleo, Gás e Biocombustíveis/Publicidade e Propaganda",
          "Total/Saúde/Publicidade e Propaganda",
          "Total/Tecnologia da Informação/Publicidade e Propaganda",
          "Total/Utilidade Pública/Publicidade e Propaganda",
          "Total/Bens Industriais/Químicos Diversos",
          "Total/Comunicações/Químicos Diversos",
          "Total/Consumo Cíclico/Químicos Diversos",
          "Total/Consumo não Cíclico/Químicos Diversos",
          "Total/Financeiro/Químicos Diversos",
          "Total/Materiais Básicos/Químicos Diversos",
          "Total/Outros/Químicos Diversos",
          "Total/Petróleo, Gás e Biocombustíveis/Químicos Diversos",
          "Total/Saúde/Químicos Diversos",
          "Total/Tecnologia da Informação/Químicos Diversos",
          "Total/Utilidade Pública/Químicos Diversos",
          "Total/Bens Industriais/Resseguradoras",
          "Total/Comunicações/Resseguradoras",
          "Total/Consumo Cíclico/Resseguradoras",
          "Total/Consumo não Cíclico/Resseguradoras",
          "Total/Financeiro/Resseguradoras",
          "Total/Materiais Básicos/Resseguradoras",
          "Total/Outros/Resseguradoras",
          "Total/Petróleo, Gás e Biocombustíveis/Resseguradoras",
          "Total/Saúde/Resseguradoras",
          "Total/Tecnologia da Informação/Resseguradoras",
          "Total/Utilidade Pública/Resseguradoras",
          "Total/Bens Industriais/Restaurante e Similares",
          "Total/Comunicações/Restaurante e Similares",
          "Total/Consumo Cíclico/Restaurante e Similares",
          "Total/Consumo não Cíclico/Restaurante e Similares",
          "Total/Financeiro/Restaurante e Similares",
          "Total/Materiais Básicos/Restaurante e Similares",
          "Total/Outros/Restaurante e Similares",
          "Total/Petróleo, Gás e Biocombustíveis/Restaurante e Similares",
          "Total/Saúde/Restaurante e Similares",
          "Total/Tecnologia da Informação/Restaurante e Similares",
          "Total/Utilidade Pública/Restaurante e Similares",
          "Total/Bens Industriais/Securitizadoras de Recebíveis",
          "Total/Comunicações/Securitizadoras de Recebíveis",
          "Total/Consumo Cíclico/Securitizadoras de Recebíveis",
          "Total/Consumo não Cíclico/Securitizadoras de Recebíveis",
          "Total/Financeiro/Securitizadoras de Recebíveis",
          "Total/Materiais Básicos/Securitizadoras de Recebíveis",
          "Total/Outros/Securitizadoras de Recebíveis",
          "Total/Petróleo, Gás e Biocombustíveis/Securitizadoras de Recebíveis",
          "Total/Saúde/Securitizadoras de Recebíveis",
          "Total/Tecnologia da Informação/Securitizadoras de Recebíveis",
          "Total/Utilidade Pública/Securitizadoras de Recebíveis",
          "Total/Bens Industriais/Seguradoras",
          "Total/Comunicações/Seguradoras",
          "Total/Consumo Cíclico/Seguradoras",
          "Total/Consumo não Cíclico/Seguradoras",
          "Total/Financeiro/Seguradoras",
          "Total/Materiais Básicos/Seguradoras",
          "Total/Outros/Seguradoras",
          "Total/Petróleo, Gás e Biocombustíveis/Seguradoras",
          "Total/Saúde/Seguradoras",
          "Total/Tecnologia da Informação/Seguradoras",
          "Total/Utilidade Pública/Seguradoras",
          "Total/Bens Industriais/Serviços Diversos",
          "Total/Comunicações/Serviços Diversos",
          "Total/Consumo Cíclico/Serviços Diversos",
          "Total/Consumo não Cíclico/Serviços Diversos",
          "Total/Financeiro/Serviços Diversos",
          "Total/Materiais Básicos/Serviços Diversos",
          "Total/Outros/Serviços Diversos",
          "Total/Petróleo, Gás e Biocombustíveis/Serviços Diversos",
          "Total/Saúde/Serviços Diversos",
          "Total/Tecnologia da Informação/Serviços Diversos",
          "Total/Utilidade Pública/Serviços Diversos",
          "Total/Bens Industriais/Serviços Educacionais",
          "Total/Comunicações/Serviços Educacionais",
          "Total/Consumo Cíclico/Serviços Educacionais",
          "Total/Consumo não Cíclico/Serviços Educacionais",
          "Total/Financeiro/Serviços Educacionais",
          "Total/Materiais Básicos/Serviços Educacionais",
          "Total/Outros/Serviços Educacionais",
          "Total/Petróleo, Gás e Biocombustíveis/Serviços Educacionais",
          "Total/Saúde/Serviços Educacionais",
          "Total/Tecnologia da Informação/Serviços Educacionais",
          "Total/Utilidade Pública/Serviços Educacionais",
          "Total/Bens Industriais/Serviços Financeiros Diversos",
          "Total/Comunicações/Serviços Financeiros Diversos",
          "Total/Consumo Cíclico/Serviços Financeiros Diversos",
          "Total/Consumo não Cíclico/Serviços Financeiros Diversos",
          "Total/Financeiro/Serviços Financeiros Diversos",
          "Total/Materiais Básicos/Serviços Financeiros Diversos",
          "Total/Outros/Serviços Financeiros Diversos",
          "Total/Petróleo, Gás e Biocombustíveis/Serviços Financeiros Diversos",
          "Total/Saúde/Serviços Financeiros Diversos",
          "Total/Tecnologia da Informação/Serviços Financeiros Diversos",
          "Total/Utilidade Pública/Serviços Financeiros Diversos",
          "Total/Bens Industriais/Serviços Médico - Hospitalares, Análises e Diagnósticos",
          "Total/Comunicações/Serviços Médico - Hospitalares, Análises e Diagnósticos",
          "Total/Consumo Cíclico/Serviços Médico - Hospitalares, Análises e Diagnósticos",
          "Total/Consumo não Cíclico/Serviços Médico - Hospitalares, Análises e Diagnósticos",
          "Total/Financeiro/Serviços Médico - Hospitalares, Análises e Diagnósticos",
          "Total/Materiais Básicos/Serviços Médico - Hospitalares, Análises e Diagnósticos",
          "Total/Outros/Serviços Médico - Hospitalares, Análises e Diagnósticos",
          "Total/Petróleo, Gás e Biocombustíveis/Serviços Médico - Hospitalares, Análises e Diagnósticos",
          "Total/Saúde/Serviços Médico - Hospitalares, Análises e Diagnósticos",
          "Total/Tecnologia da Informação/Serviços Médico - Hospitalares, Análises e Diagnósticos",
          "Total/Utilidade Pública/Serviços Médico - Hospitalares, Análises e Diagnósticos",
          "Total/Bens Industriais/Serviços de Apoio e Armazenagem",
          "Total/Comunicações/Serviços de Apoio e Armazenagem",
          "Total/Consumo Cíclico/Serviços de Apoio e Armazenagem",
          "Total/Consumo não Cíclico/Serviços de Apoio e Armazenagem",
          "Total/Financeiro/Serviços de Apoio e Armazenagem",
          "Total/Materiais Básicos/Serviços de Apoio e Armazenagem",
          "Total/Outros/Serviços de Apoio e Armazenagem",
          "Total/Petróleo, Gás e Biocombustíveis/Serviços de Apoio e Armazenagem",
          "Total/Saúde/Serviços de Apoio e Armazenagem",
          "Total/Tecnologia da Informação/Serviços de Apoio e Armazenagem",
          "Total/Utilidade Pública/Serviços de Apoio e Armazenagem",
          "Total/Bens Industriais/Siderurgia",
          "Total/Comunicações/Siderurgia",
          "Total/Consumo Cíclico/Siderurgia",
          "Total/Consumo não Cíclico/Siderurgia",
          "Total/Financeiro/Siderurgia",
          "Total/Materiais Básicos/Siderurgia",
          "Total/Outros/Siderurgia",
          "Total/Petróleo, Gás e Biocombustíveis/Siderurgia",
          "Total/Saúde/Siderurgia",
          "Total/Tecnologia da Informação/Siderurgia",
          "Total/Utilidade Pública/Siderurgia",
          "Total/Bens Industriais/Soc. Arrendamento Mercantil",
          "Total/Comunicações/Soc. Arrendamento Mercantil",
          "Total/Consumo Cíclico/Soc. Arrendamento Mercantil",
          "Total/Consumo não Cíclico/Soc. Arrendamento Mercantil",
          "Total/Financeiro/Soc. Arrendamento Mercantil",
          "Total/Materiais Básicos/Soc. Arrendamento Mercantil",
          "Total/Outros/Soc. Arrendamento Mercantil",
          "Total/Petróleo, Gás e Biocombustíveis/Soc. Arrendamento Mercantil",
          "Total/Saúde/Soc. Arrendamento Mercantil",
          "Total/Tecnologia da Informação/Soc. Arrendamento Mercantil",
          "Total/Utilidade Pública/Soc. Arrendamento Mercantil",
          "Total/Bens Industriais/Soc. Crédito e Financiamento",
          "Total/Comunicações/Soc. Crédito e Financiamento",
          "Total/Consumo Cíclico/Soc. Crédito e Financiamento",
          "Total/Consumo não Cíclico/Soc. Crédito e Financiamento",
          "Total/Financeiro/Soc. Crédito e Financiamento",
          "Total/Materiais Básicos/Soc. Crédito e Financiamento",
          "Total/Outros/Soc. Crédito e Financiamento",
          "Total/Petróleo, Gás e Biocombustíveis/Soc. Crédito e Financiamento",
          "Total/Saúde/Soc. Crédito e Financiamento",
          "Total/Tecnologia da Informação/Soc. Crédito e Financiamento",
          "Total/Utilidade Pública/Soc. Crédito e Financiamento",
          "Total/Bens Industriais/Tecidos, Vestuário e Calçados",
          "Total/Comunicações/Tecidos, Vestuário e Calçados",
          "Total/Consumo Cíclico/Tecidos, Vestuário e Calçados",
          "Total/Consumo não Cíclico/Tecidos, Vestuário e Calçados",
          "Total/Financeiro/Tecidos, Vestuário e Calçados",
          "Total/Materiais Básicos/Tecidos, Vestuário e Calçados",
          "Total/Outros/Tecidos, Vestuário e Calçados",
          "Total/Petróleo, Gás e Biocombustíveis/Tecidos, Vestuário e Calçados",
          "Total/Saúde/Tecidos, Vestuário e Calçados",
          "Total/Tecnologia da Informação/Tecidos, Vestuário e Calçados",
          "Total/Utilidade Pública/Tecidos, Vestuário e Calçados",
          "Total/Bens Industriais/Telecomunicações",
          "Total/Comunicações/Telecomunicações",
          "Total/Consumo Cíclico/Telecomunicações",
          "Total/Consumo não Cíclico/Telecomunicações",
          "Total/Financeiro/Telecomunicações",
          "Total/Materiais Básicos/Telecomunicações",
          "Total/Outros/Telecomunicações",
          "Total/Petróleo, Gás e Biocombustíveis/Telecomunicações",
          "Total/Saúde/Telecomunicações",
          "Total/Tecnologia da Informação/Telecomunicações",
          "Total/Utilidade Pública/Telecomunicações",
          "Total/Bens Industriais/Transporte Ferroviário",
          "Total/Comunicações/Transporte Ferroviário",
          "Total/Consumo Cíclico/Transporte Ferroviário",
          "Total/Consumo não Cíclico/Transporte Ferroviário",
          "Total/Financeiro/Transporte Ferroviário",
          "Total/Materiais Básicos/Transporte Ferroviário",
          "Total/Outros/Transporte Ferroviário",
          "Total/Petróleo, Gás e Biocombustíveis/Transporte Ferroviário",
          "Total/Saúde/Transporte Ferroviário",
          "Total/Tecnologia da Informação/Transporte Ferroviário",
          "Total/Utilidade Pública/Transporte Ferroviário",
          "Total/Bens Industriais/Transporte Hidroviário",
          "Total/Comunicações/Transporte Hidroviário",
          "Total/Consumo Cíclico/Transporte Hidroviário",
          "Total/Consumo não Cíclico/Transporte Hidroviário",
          "Total/Financeiro/Transporte Hidroviário",
          "Total/Materiais Básicos/Transporte Hidroviário",
          "Total/Outros/Transporte Hidroviário",
          "Total/Petróleo, Gás e Biocombustíveis/Transporte Hidroviário",
          "Total/Saúde/Transporte Hidroviário",
          "Total/Tecnologia da Informação/Transporte Hidroviário",
          "Total/Utilidade Pública/Transporte Hidroviário",
          "Total/Bens Industriais/Transporte Rodoviário",
          "Total/Comunicações/Transporte Rodoviário",
          "Total/Consumo Cíclico/Transporte Rodoviário",
          "Total/Consumo não Cíclico/Transporte Rodoviário",
          "Total/Financeiro/Transporte Rodoviário",
          "Total/Materiais Básicos/Transporte Rodoviário",
          "Total/Outros/Transporte Rodoviário",
          "Total/Petróleo, Gás e Biocombustíveis/Transporte Rodoviário",
          "Total/Saúde/Transporte Rodoviário",
          "Total/Tecnologia da Informação/Transporte Rodoviário",
          "Total/Utilidade Pública/Transporte Rodoviário",
          "Total/Bens Industriais/Utensílios Domésticos",
          "Total/Comunicações/Utensílios Domésticos",
          "Total/Consumo Cíclico/Utensílios Domésticos",
          "Total/Consumo não Cíclico/Utensílios Domésticos",
          "Total/Financeiro/Utensílios Domésticos",
          "Total/Materiais Básicos/Utensílios Domésticos",
          "Total/Outros/Utensílios Domésticos",
          "Total/Petróleo, Gás e Biocombustíveis/Utensílios Domésticos",
          "Total/Saúde/Utensílios Domésticos",
          "Total/Tecnologia da Informação/Utensílios Domésticos",
          "Total/Utilidade Pública/Utensílios Domésticos",
          "Total/Bens Industriais/Vestuário",
          "Total/Comunicações/Vestuário",
          "Total/Consumo Cíclico/Vestuário",
          "Total/Consumo não Cíclico/Vestuário",
          "Total/Financeiro/Vestuário",
          "Total/Materiais Básicos/Vestuário",
          "Total/Outros/Vestuário",
          "Total/Petróleo, Gás e Biocombustíveis/Vestuário",
          "Total/Saúde/Vestuário",
          "Total/Tecnologia da Informação/Vestuário",
          "Total/Utilidade Pública/Vestuário",
          "Total/Bens Industriais/Viagens e Turismo",
          "Total/Comunicações/Viagens e Turismo",
          "Total/Consumo Cíclico/Viagens e Turismo",
          "Total/Consumo não Cíclico/Viagens e Turismo",
          "Total/Financeiro/Viagens e Turismo",
          "Total/Materiais Básicos/Viagens e Turismo",
          "Total/Outros/Viagens e Turismo",
          "Total/Petróleo, Gás e Biocombustíveis/Viagens e Turismo",
          "Total/Saúde/Viagens e Turismo",
          "Total/Tecnologia da Informação/Viagens e Turismo",
          "Total/Utilidade Pública/Viagens e Turismo",
          "Total/Bens Industriais/Água e Saneamento",
          "Total/Comunicações/Água e Saneamento",
          "Total/Consumo Cíclico/Água e Saneamento",
          "Total/Consumo não Cíclico/Água e Saneamento",
          "Total/Financeiro/Água e Saneamento",
          "Total/Materiais Básicos/Água e Saneamento",
          "Total/Outros/Água e Saneamento",
          "Total/Petróleo, Gás e Biocombustíveis/Água e Saneamento",
          "Total/Saúde/Água e Saneamento",
          "Total/Tecnologia da Informação/Água e Saneamento",
          "Total/Utilidade Pública/Água e Saneamento",
          "Total/Bens Industriais",
          "Total/Comunicações",
          "Total/Consumo Cíclico",
          "Total/Consumo não Cíclico",
          "Total/Financeiro",
          "Total/Materiais Básicos",
          "Total/Outros",
          "Total/Petróleo, Gás e Biocombustíveis",
          "Total/Saúde",
          "Total/Tecnologia da Informação",
          "Total/Utilidade Pública",
          "Total"
         ],
         "labels": [
          "Bicicletas",
          "Bancos",
          "Bicicletas",
          "Armas e Munições",
          "Bancos",
          "Armas e Munições",
          "Armas e Munições",
          "Armas e Munições",
          "Alimentos",
          "Alimentos",
          "Alimentos",
          "Bancos",
          "Alimentos Diversos",
          "Armas e Munições",
          "Bancos",
          "Armas e Munições",
          "Bancos",
          "Alimentos Diversos",
          "Agricultura",
          "Automóveis e Motocicletas",
          "Aluguel de carros",
          "Brinquedos e Jogos",
          "Brinquedos e Jogos",
          "Armas e Munições",
          "Brinquedos e Jogos",
          "Artefatos de Ferro e Aço",
          "Atividades Esportivas",
          "Acessórios",
          "Artefatos de Ferro e Aço",
          "Automóveis e Motocicletas",
          "Artefatos de Ferro e Aço",
          "Agricultura",
          "Bicicletas",
          "Agricultura",
          "Artefatos de Ferro e Aço",
          "Alimentos Diversos",
          "Açucar e Alcool",
          "Açucar e Alcool",
          "Aluguel de carros",
          "Calçados",
          "Armas e Munições",
          "Açucar e Alcool",
          "Açucar e Alcool",
          "Automóveis e Motocicletas",
          "Atividades Esportivas",
          "Atividades Esportivas",
          "Atividades Esportivas",
          "Atividades Esportivas",
          "Armas e Munições",
          "Açucar e Alcool",
          "Açucar e Alcool",
          "Açucar e Alcool",
          "Acessórios",
          "Brinquedos e Jogos",
          "Brinquedos e Jogos",
          "Brinquedos e Jogos",
          "Acessórios",
          "Acessórios",
          "Bicicletas",
          "Agricultura",
          "Agricultura",
          "Açucar e Alcool",
          "Bicicletas",
          "Atividades Esportivas",
          "Alimentos",
          "Açucar e Alcool",
          "Atividades Esportivas",
          "Bancos",
          "Bancos",
          "Alimentos Diversos",
          "Alimentos Diversos",
          "Alimentos Diversos",
          "Agricultura",
          "Atividades Esportivas",
          "Alimentos",
          "Artefatos de Cobre",
          "Artefatos de Cobre",
          "Artefatos de Cobre",
          "Armas e Munições",
          "Brinquedos e Jogos",
          "Automóveis e Motocicletas",
          "Artefatos de Cobre",
          "Artefatos de Ferro e Aço",
          "Alimentos",
          "Automóveis e Motocicletas",
          "Açucar e Alcool",
          "Bicicletas",
          "Automóveis e Motocicletas",
          "Bancos",
          "Automóveis e Motocicletas",
          "Bicicletas",
          "Automóveis e Motocicletas",
          "Automóveis e Motocicletas",
          "Bicicletas",
          "Artefatos de Ferro e Aço",
          "Alimentos Diversos",
          "Aluguel de carros",
          "Aluguel de carros",
          "Alimentos Diversos",
          "Atividades Esportivas",
          "Alimentos",
          "Artefatos de Cobre",
          "Alimentos",
          "Aluguel de carros",
          "Artefatos de Cobre",
          "Agricultura",
          "Agricultura",
          "Artefatos de Ferro e Aço",
          "Agricultura",
          "Artefatos de Ferro e Aço",
          "Acessórios",
          "Aluguel de carros",
          "Alimentos",
          "Bicicletas",
          "Bicicletas",
          "Bancos",
          "Brinquedos e Jogos",
          "Aluguel de carros",
          "Bicicletas",
          "Atividades Esportivas",
          "Automóveis e Motocicletas",
          "Aluguel de carros",
          "Artefatos de Cobre",
          "Artefatos de Ferro e Aço",
          "Artefatos de Ferro e Aço",
          "Artefatos de Cobre",
          "Artefatos de Cobre",
          "Automóveis e Motocicletas",
          "Calçados",
          "Atividades Esportivas",
          "Aluguel de carros",
          "Artefatos de Ferro e Aço",
          "Acessórios",
          "Bancos",
          "Alimentos",
          "Artefatos de Cobre",
          "Agricultura",
          "Brinquedos e Jogos",
          "Acessórios",
          "Acessórios",
          "Aluguel de carros",
          "Açucar e Alcool",
          "Alimentos Diversos",
          "Aluguel de carros",
          "Acessórios",
          "Artefatos de Cobre",
          "Agricultura",
          "Bancos",
          "Brinquedos e Jogos",
          "Alimentos Diversos",
          "Armas e Munições",
          "Acessórios",
          "Alimentos Diversos",
          "Brinquedos e Jogos",
          "Alimentos",
          "Acessórios",
          "Calçados",
          "Calçados",
          "Calçados",
          "Calçados",
          "Calçados",
          "Calçados",
          "Calçados",
          "Calçados",
          "Calçados",
          "Carnes e Derivados",
          "Carnes e Derivados",
          "Carnes e Derivados",
          "Carnes e Derivados",
          "Carnes e Derivados",
          "Carnes e Derivados",
          "Carnes e Derivados",
          "Carnes e Derivados",
          "Carnes e Derivados",
          "Carnes e Derivados",
          "Carnes e Derivados",
          "Cervejas e Refrigerantes",
          "Cervejas e Refrigerantes",
          "Cervejas e Refrigerantes",
          "Cervejas e Refrigerantes",
          "Cervejas e Refrigerantes",
          "Cervejas e Refrigerantes",
          "Cervejas e Refrigerantes",
          "Cervejas e Refrigerantes",
          "Cervejas e Refrigerantes",
          "Cervejas e Refrigerantes",
          "Cervejas e Refrigerantes",
          "Computadores e Equipamentos",
          "Computadores e Equipamentos",
          "Computadores e Equipamentos",
          "Computadores e Equipamentos",
          "Computadores e Equipamentos",
          "Computadores e Equipamentos",
          "Computadores e Equipamentos",
          "Computadores e Equipamentos",
          "Computadores e Equipamentos",
          "Computadores e Equipamentos",
          "Computadores e Equipamentos",
          "Construção Pesada",
          "Construção Pesada",
          "Construção Pesada",
          "Construção Pesada",
          "Construção Pesada",
          "Construção Pesada",
          "Construção Pesada",
          "Construção Pesada",
          "Construção Pesada",
          "Construção Pesada",
          "Construção Pesada",
          "Corretoras de Seguros e Resseguros",
          "Corretoras de Seguros e Resseguros",
          "Corretoras de Seguros e Resseguros",
          "Corretoras de Seguros e Resseguros",
          "Corretoras de Seguros e Resseguros",
          "Corretoras de Seguros e Resseguros",
          "Corretoras de Seguros e Resseguros",
          "Corretoras de Seguros e Resseguros",
          "Corretoras de Seguros e Resseguros",
          "Corretoras de Seguros e Resseguros",
          "Corretoras de Seguros e Resseguros",
          "Eletrodomésticos",
          "Eletrodomésticos",
          "Eletrodomésticos",
          "Eletrodomésticos",
          "Eletrodomésticos",
          "Eletrodomésticos",
          "Eletrodomésticos",
          "Eletrodomésticos",
          "Eletrodomésticos",
          "Eletrodomésticos",
          "Eletrodomésticos",
          "Embalagens",
          "Embalagens",
          "Embalagens",
          "Embalagens",
          "Embalagens",
          "Embalagens",
          "Embalagens",
          "Embalagens",
          "Embalagens",
          "Embalagens",
          "Embalagens",
          "Energia Elétrica",
          "Energia Elétrica",
          "Energia Elétrica",
          "Energia Elétrica",
          "Energia Elétrica",
          "Energia Elétrica",
          "Energia Elétrica",
          "Energia Elétrica",
          "Energia Elétrica",
          "Energia Elétrica",
          "Energia Elétrica",
          "Engenharia Consultiva",
          "Engenharia Consultiva",
          "Engenharia Consultiva",
          "Engenharia Consultiva",
          "Engenharia Consultiva",
          "Engenharia Consultiva",
          "Engenharia Consultiva",
          "Engenharia Consultiva",
          "Engenharia Consultiva",
          "Engenharia Consultiva",
          "Engenharia Consultiva",
          "Equipamentos",
          "Equipamentos",
          "Equipamentos",
          "Equipamentos",
          "Equipamentos",
          "Equipamentos",
          "Equipamentos",
          "Equipamentos",
          "Equipamentos",
          "Equipamentos",
          "Equipamentos",
          "Equipamentos e Serviços",
          "Equipamentos e Serviços",
          "Equipamentos e Serviços",
          "Equipamentos e Serviços",
          "Equipamentos e Serviços",
          "Equipamentos e Serviços",
          "Equipamentos e Serviços",
          "Equipamentos e Serviços",
          "Equipamentos e Serviços",
          "Equipamentos e Serviços",
          "Equipamentos e Serviços",
          "Exploração de Imóveis",
          "Exploração de Imóveis",
          "Exploração de Imóveis",
          "Exploração de Imóveis",
          "Exploração de Imóveis",
          "Exploração de Imóveis",
          "Exploração de Imóveis",
          "Exploração de Imóveis",
          "Exploração de Imóveis",
          "Exploração de Imóveis",
          "Exploração de Imóveis",
          "Exploração de Rodovias",
          "Exploração de Rodovias",
          "Exploração de Rodovias",
          "Exploração de Rodovias",
          "Exploração de Rodovias",
          "Exploração de Rodovias",
          "Exploração de Rodovias",
          "Exploração de Rodovias",
          "Exploração de Rodovias",
          "Exploração de Rodovias",
          "Exploração de Rodovias",
          "Exploração, Refino e Distribuição",
          "Exploração, Refino e Distribuição",
          "Exploração, Refino e Distribuição",
          "Exploração, Refino e Distribuição",
          "Exploração, Refino e Distribuição",
          "Exploração, Refino e Distribuição",
          "Exploração, Refino e Distribuição",
          "Exploração, Refino e Distribuição",
          "Exploração, Refino e Distribuição",
          "Exploração, Refino e Distribuição",
          "Exploração, Refino e Distribuição",
          "Fertilizantes e Defensivos",
          "Fertilizantes e Defensivos",
          "Fertilizantes e Defensivos",
          "Fertilizantes e Defensivos",
          "Fertilizantes e Defensivos",
          "Fertilizantes e Defensivos",
          "Fertilizantes e Defensivos",
          "Fertilizantes e Defensivos",
          "Fertilizantes e Defensivos",
          "Fertilizantes e Defensivos",
          "Fertilizantes e Defensivos",
          "Fios e Tecidos",
          "Fios e Tecidos",
          "Fios e Tecidos",
          "Fios e Tecidos",
          "Fios e Tecidos",
          "Fios e Tecidos",
          "Fios e Tecidos",
          "Fios e Tecidos",
          "Fios e Tecidos",
          "Fios e Tecidos",
          "Fios e Tecidos",
          "Gestão de Recursos e Investimentos",
          "Gestão de Recursos e Investimentos",
          "Gestão de Recursos e Investimentos",
          "Gestão de Recursos e Investimentos",
          "Gestão de Recursos e Investimentos",
          "Gestão de Recursos e Investimentos",
          "Gestão de Recursos e Investimentos",
          "Gestão de Recursos e Investimentos",
          "Gestão de Recursos e Investimentos",
          "Gestão de Recursos e Investimentos",
          "Gestão de Recursos e Investimentos",
          "Gás",
          "Gás",
          "Gás",
          "Gás",
          "Gás",
          "Gás",
          "Gás",
          "Gás",
          "Gás",
          "Gás",
          "Gás",
          "Holdings Diversificadas",
          "Holdings Diversificadas",
          "Holdings Diversificadas",
          "Holdings Diversificadas",
          "Holdings Diversificadas",
          "Holdings Diversificadas",
          "Holdings Diversificadas",
          "Holdings Diversificadas",
          "Holdings Diversificadas",
          "Holdings Diversificadas",
          "Holdings Diversificadas",
          "Hotelaria",
          "Hotelaria",
          "Hotelaria",
          "Hotelaria",
          "Hotelaria",
          "Hotelaria",
          "Hotelaria",
          "Hotelaria",
          "Hotelaria",
          "Hotelaria",
          "Hotelaria",
          "Incorporações",
          "Incorporações",
          "Incorporações",
          "Incorporações",
          "Incorporações",
          "Incorporações",
          "Incorporações",
          "Incorporações",
          "Incorporações",
          "Incorporações",
          "Incorporações",
          "Intermediação Imobiliária",
          "Intermediação Imobiliária",
          "Intermediação Imobiliária",
          "Intermediação Imobiliária",
          "Intermediação Imobiliária",
          "Intermediação Imobiliária",
          "Intermediação Imobiliária",
          "Intermediação Imobiliária",
          "Intermediação Imobiliária",
          "Intermediação Imobiliária",
          "Intermediação Imobiliária",
          "Linhas Aéreas de Passageiros",
          "Linhas Aéreas de Passageiros",
          "Linhas Aéreas de Passageiros",
          "Linhas Aéreas de Passageiros",
          "Linhas Aéreas de Passageiros",
          "Linhas Aéreas de Passageiros",
          "Linhas Aéreas de Passageiros",
          "Linhas Aéreas de Passageiros",
          "Linhas Aéreas de Passageiros",
          "Linhas Aéreas de Passageiros",
          "Linhas Aéreas de Passageiros",
          "Madeira",
          "Madeira",
          "Madeira",
          "Madeira",
          "Madeira",
          "Madeira",
          "Madeira",
          "Madeira",
          "Madeira",
          "Madeira",
          "Madeira",
          "Materiais Diversos",
          "Materiais Diversos",
          "Materiais Diversos",
          "Materiais Diversos",
          "Materiais Diversos",
          "Materiais Diversos",
          "Materiais Diversos",
          "Materiais Diversos",
          "Materiais Diversos",
          "Materiais Diversos",
          "Materiais Diversos",
          "Material Aeronáutico e de Defesa",
          "Material Aeronáutico e de Defesa",
          "Material Aeronáutico e de Defesa",
          "Material Aeronáutico e de Defesa",
          "Material Aeronáutico e de Defesa",
          "Material Aeronáutico e de Defesa",
          "Material Aeronáutico e de Defesa",
          "Material Aeronáutico e de Defesa",
          "Material Aeronáutico e de Defesa",
          "Material Aeronáutico e de Defesa",
          "Material Aeronáutico e de Defesa",
          "Material Rodoviário",
          "Material Rodoviário",
          "Material Rodoviário",
          "Material Rodoviário",
          "Material Rodoviário",
          "Material Rodoviário",
          "Material Rodoviário",
          "Material Rodoviário",
          "Material Rodoviário",
          "Material Rodoviário",
          "Material Rodoviário",
          "Material de Transporte",
          "Material de Transporte",
          "Material de Transporte",
          "Material de Transporte",
          "Material de Transporte",
          "Material de Transporte",
          "Material de Transporte",
          "Material de Transporte",
          "Material de Transporte",
          "Material de Transporte",
          "Material de Transporte",
          "Medicamentos e Outros Produtos",
          "Medicamentos e Outros Produtos",
          "Medicamentos e Outros Produtos",
          "Medicamentos e Outros Produtos",
          "Medicamentos e Outros Produtos",
          "Medicamentos e Outros Produtos",
          "Medicamentos e Outros Produtos",
          "Medicamentos e Outros Produtos",
          "Medicamentos e Outros Produtos",
          "Medicamentos e Outros Produtos",
          "Medicamentos e Outros Produtos",
          "Minerais Metálicos",
          "Minerais Metálicos",
          "Minerais Metálicos",
          "Minerais Metálicos",
          "Minerais Metálicos",
          "Minerais Metálicos",
          "Minerais Metálicos",
          "Minerais Metálicos",
          "Minerais Metálicos",
          "Minerais Metálicos",
          "Minerais Metálicos",
          "Motores, Compressores e Outros",
          "Motores, Compressores e Outros",
          "Motores, Compressores e Outros",
          "Motores, Compressores e Outros",
          "Motores, Compressores e Outros",
          "Motores, Compressores e Outros",
          "Motores, Compressores e Outros",
          "Motores, Compressores e Outros",
          "Motores, Compressores e Outros",
          "Motores, Compressores e Outros",
          "Motores, Compressores e Outros",
          "Máq. e Equip. Construção e Agrícolas",
          "Máq. e Equip. Construção e Agrícolas",
          "Máq. e Equip. Construção e Agrícolas",
          "Máq. e Equip. Construção e Agrícolas",
          "Máq. e Equip. Construção e Agrícolas",
          "Máq. e Equip. Construção e Agrícolas",
          "Máq. e Equip. Construção e Agrícolas",
          "Máq. e Equip. Construção e Agrícolas",
          "Máq. e Equip. Construção e Agrícolas",
          "Máq. e Equip. Construção e Agrícolas",
          "Máq. e Equip. Construção e Agrícolas",
          "Máq. e Equip. Industriais",
          "Máq. e Equip. Industriais",
          "Máq. e Equip. Industriais",
          "Máq. e Equip. Industriais",
          "Máq. e Equip. Industriais",
          "Máq. e Equip. Industriais",
          "Máq. e Equip. Industriais",
          "Máq. e Equip. Industriais",
          "Máq. e Equip. Industriais",
          "Máq. e Equip. Industriais",
          "Máq. e Equip. Industriais",
          "Móveis",
          "Móveis",
          "Móveis",
          "Móveis",
          "Móveis",
          "Móveis",
          "Móveis",
          "Móveis",
          "Móveis",
          "Móveis",
          "Móveis",
          "Outros",
          "Outros",
          "Outros",
          "Outros",
          "Outros",
          "Outros",
          "Outros",
          "Outros",
          "Outros",
          "Outros",
          "Outros",
          "Outros Títulos",
          "Outros Títulos",
          "Outros Títulos",
          "Outros Títulos",
          "Outros Títulos",
          "Outros Títulos",
          "Outros Títulos",
          "Outros Títulos",
          "Outros Títulos",
          "Outros Títulos",
          "Outros Títulos",
          "Papel e Celulose",
          "Papel e Celulose",
          "Papel e Celulose",
          "Papel e Celulose",
          "Papel e Celulose",
          "Papel e Celulose",
          "Papel e Celulose",
          "Papel e Celulose",
          "Papel e Celulose",
          "Papel e Celulose",
          "Papel e Celulose",
          "Petroquímicos",
          "Petroquímicos",
          "Petroquímicos",
          "Petroquímicos",
          "Petroquímicos",
          "Petroquímicos",
          "Petroquímicos",
          "Petroquímicos",
          "Petroquímicos",
          "Petroquímicos",
          "Petroquímicos",
          "Produtos Diversos",
          "Produtos Diversos",
          "Produtos Diversos",
          "Produtos Diversos",
          "Produtos Diversos",
          "Produtos Diversos",
          "Produtos Diversos",
          "Produtos Diversos",
          "Produtos Diversos",
          "Produtos Diversos",
          "Produtos Diversos",
          "Produtos de Cuidado Pessoal",
          "Produtos de Cuidado Pessoal",
          "Produtos de Cuidado Pessoal",
          "Produtos de Cuidado Pessoal",
          "Produtos de Cuidado Pessoal",
          "Produtos de Cuidado Pessoal",
          "Produtos de Cuidado Pessoal",
          "Produtos de Cuidado Pessoal",
          "Produtos de Cuidado Pessoal",
          "Produtos de Cuidado Pessoal",
          "Produtos de Cuidado Pessoal",
          "Produtos de Limpeza",
          "Produtos de Limpeza",
          "Produtos de Limpeza",
          "Produtos de Limpeza",
          "Produtos de Limpeza",
          "Produtos de Limpeza",
          "Produtos de Limpeza",
          "Produtos de Limpeza",
          "Produtos de Limpeza",
          "Produtos de Limpeza",
          "Produtos de Limpeza",
          "Produtos para Construção",
          "Produtos para Construção",
          "Produtos para Construção",
          "Produtos para Construção",
          "Produtos para Construção",
          "Produtos para Construção",
          "Produtos para Construção",
          "Produtos para Construção",
          "Produtos para Construção",
          "Produtos para Construção",
          "Produtos para Construção",
          "Produção de Eventos e Shows",
          "Produção de Eventos e Shows",
          "Produção de Eventos e Shows",
          "Produção de Eventos e Shows",
          "Produção de Eventos e Shows",
          "Produção de Eventos e Shows",
          "Produção de Eventos e Shows",
          "Produção de Eventos e Shows",
          "Produção de Eventos e Shows",
          "Produção de Eventos e Shows",
          "Produção de Eventos e Shows",
          "Programas de Fidelização",
          "Programas de Fidelização",
          "Programas de Fidelização",
          "Programas de Fidelização",
          "Programas de Fidelização",
          "Programas de Fidelização",
          "Programas de Fidelização",
          "Programas de Fidelização",
          "Programas de Fidelização",
          "Programas de Fidelização",
          "Programas de Fidelização",
          "Programas e Serviços",
          "Programas e Serviços",
          "Programas e Serviços",
          "Programas e Serviços",
          "Programas e Serviços",
          "Programas e Serviços",
          "Programas e Serviços",
          "Programas e Serviços",
          "Programas e Serviços",
          "Programas e Serviços",
          "Programas e Serviços",
          "Publicidade e Propaganda",
          "Publicidade e Propaganda",
          "Publicidade e Propaganda",
          "Publicidade e Propaganda",
          "Publicidade e Propaganda",
          "Publicidade e Propaganda",
          "Publicidade e Propaganda",
          "Publicidade e Propaganda",
          "Publicidade e Propaganda",
          "Publicidade e Propaganda",
          "Publicidade e Propaganda",
          "Químicos Diversos",
          "Químicos Diversos",
          "Químicos Diversos",
          "Químicos Diversos",
          "Químicos Diversos",
          "Químicos Diversos",
          "Químicos Diversos",
          "Químicos Diversos",
          "Químicos Diversos",
          "Químicos Diversos",
          "Químicos Diversos",
          "Resseguradoras",
          "Resseguradoras",
          "Resseguradoras",
          "Resseguradoras",
          "Resseguradoras",
          "Resseguradoras",
          "Resseguradoras",
          "Resseguradoras",
          "Resseguradoras",
          "Resseguradoras",
          "Resseguradoras",
          "Restaurante e Similares",
          "Restaurante e Similares",
          "Restaurante e Similares",
          "Restaurante e Similares",
          "Restaurante e Similares",
          "Restaurante e Similares",
          "Restaurante e Similares",
          "Restaurante e Similares",
          "Restaurante e Similares",
          "Restaurante e Similares",
          "Restaurante e Similares",
          "Securitizadoras de Recebíveis",
          "Securitizadoras de Recebíveis",
          "Securitizadoras de Recebíveis",
          "Securitizadoras de Recebíveis",
          "Securitizadoras de Recebíveis",
          "Securitizadoras de Recebíveis",
          "Securitizadoras de Recebíveis",
          "Securitizadoras de Recebíveis",
          "Securitizadoras de Recebíveis",
          "Securitizadoras de Recebíveis",
          "Securitizadoras de Recebíveis",
          "Seguradoras",
          "Seguradoras",
          "Seguradoras",
          "Seguradoras",
          "Seguradoras",
          "Seguradoras",
          "Seguradoras",
          "Seguradoras",
          "Seguradoras",
          "Seguradoras",
          "Seguradoras",
          "Serviços Diversos",
          "Serviços Diversos",
          "Serviços Diversos",
          "Serviços Diversos",
          "Serviços Diversos",
          "Serviços Diversos",
          "Serviços Diversos",
          "Serviços Diversos",
          "Serviços Diversos",
          "Serviços Diversos",
          "Serviços Diversos",
          "Serviços Educacionais",
          "Serviços Educacionais",
          "Serviços Educacionais",
          "Serviços Educacionais",
          "Serviços Educacionais",
          "Serviços Educacionais",
          "Serviços Educacionais",
          "Serviços Educacionais",
          "Serviços Educacionais",
          "Serviços Educacionais",
          "Serviços Educacionais",
          "Serviços Financeiros Diversos",
          "Serviços Financeiros Diversos",
          "Serviços Financeiros Diversos",
          "Serviços Financeiros Diversos",
          "Serviços Financeiros Diversos",
          "Serviços Financeiros Diversos",
          "Serviços Financeiros Diversos",
          "Serviços Financeiros Diversos",
          "Serviços Financeiros Diversos",
          "Serviços Financeiros Diversos",
          "Serviços Financeiros Diversos",
          "Serviços Médico - Hospitalares, Análises e Diagnósticos",
          "Serviços Médico - Hospitalares, Análises e Diagnósticos",
          "Serviços Médico - Hospitalares, Análises e Diagnósticos",
          "Serviços Médico - Hospitalares, Análises e Diagnósticos",
          "Serviços Médico - Hospitalares, Análises e Diagnósticos",
          "Serviços Médico - Hospitalares, Análises e Diagnósticos",
          "Serviços Médico - Hospitalares, Análises e Diagnósticos",
          "Serviços Médico - Hospitalares, Análises e Diagnósticos",
          "Serviços Médico - Hospitalares, Análises e Diagnósticos",
          "Serviços Médico - Hospitalares, Análises e Diagnósticos",
          "Serviços Médico - Hospitalares, Análises e Diagnósticos",
          "Serviços de Apoio e Armazenagem",
          "Serviços de Apoio e Armazenagem",
          "Serviços de Apoio e Armazenagem",
          "Serviços de Apoio e Armazenagem",
          "Serviços de Apoio e Armazenagem",
          "Serviços de Apoio e Armazenagem",
          "Serviços de Apoio e Armazenagem",
          "Serviços de Apoio e Armazenagem",
          "Serviços de Apoio e Armazenagem",
          "Serviços de Apoio e Armazenagem",
          "Serviços de Apoio e Armazenagem",
          "Siderurgia",
          "Siderurgia",
          "Siderurgia",
          "Siderurgia",
          "Siderurgia",
          "Siderurgia",
          "Siderurgia",
          "Siderurgia",
          "Siderurgia",
          "Siderurgia",
          "Siderurgia",
          "Soc. Arrendamento Mercantil",
          "Soc. Arrendamento Mercantil",
          "Soc. Arrendamento Mercantil",
          "Soc. Arrendamento Mercantil",
          "Soc. Arrendamento Mercantil",
          "Soc. Arrendamento Mercantil",
          "Soc. Arrendamento Mercantil",
          "Soc. Arrendamento Mercantil",
          "Soc. Arrendamento Mercantil",
          "Soc. Arrendamento Mercantil",
          "Soc. Arrendamento Mercantil",
          "Soc. Crédito e Financiamento",
          "Soc. Crédito e Financiamento",
          "Soc. Crédito e Financiamento",
          "Soc. Crédito e Financiamento",
          "Soc. Crédito e Financiamento",
          "Soc. Crédito e Financiamento",
          "Soc. Crédito e Financiamento",
          "Soc. Crédito e Financiamento",
          "Soc. Crédito e Financiamento",
          "Soc. Crédito e Financiamento",
          "Soc. Crédito e Financiamento",
          "Tecidos, Vestuário e Calçados",
          "Tecidos, Vestuário e Calçados",
          "Tecidos, Vestuário e Calçados",
          "Tecidos, Vestuário e Calçados",
          "Tecidos, Vestuário e Calçados",
          "Tecidos, Vestuário e Calçados",
          "Tecidos, Vestuário e Calçados",
          "Tecidos, Vestuário e Calçados",
          "Tecidos, Vestuário e Calçados",
          "Tecidos, Vestuário e Calçados",
          "Tecidos, Vestuário e Calçados",
          "Telecomunicações",
          "Telecomunicações",
          "Telecomunicações",
          "Telecomunicações",
          "Telecomunicações",
          "Telecomunicações",
          "Telecomunicações",
          "Telecomunicações",
          "Telecomunicações",
          "Telecomunicações",
          "Telecomunicações",
          "Transporte Ferroviário",
          "Transporte Ferroviário",
          "Transporte Ferroviário",
          "Transporte Ferroviário",
          "Transporte Ferroviário",
          "Transporte Ferroviário",
          "Transporte Ferroviário",
          "Transporte Ferroviário",
          "Transporte Ferroviário",
          "Transporte Ferroviário",
          "Transporte Ferroviário",
          "Transporte Hidroviário",
          "Transporte Hidroviário",
          "Transporte Hidroviário",
          "Transporte Hidroviário",
          "Transporte Hidroviário",
          "Transporte Hidroviário",
          "Transporte Hidroviário",
          "Transporte Hidroviário",
          "Transporte Hidroviário",
          "Transporte Hidroviário",
          "Transporte Hidroviário",
          "Transporte Rodoviário",
          "Transporte Rodoviário",
          "Transporte Rodoviário",
          "Transporte Rodoviário",
          "Transporte Rodoviário",
          "Transporte Rodoviário",
          "Transporte Rodoviário",
          "Transporte Rodoviário",
          "Transporte Rodoviário",
          "Transporte Rodoviário",
          "Transporte Rodoviário",
          "Utensílios Domésticos",
          "Utensílios Domésticos",
          "Utensílios Domésticos",
          "Utensílios Domésticos",
          "Utensílios Domésticos",
          "Utensílios Domésticos",
          "Utensílios Domésticos",
          "Utensílios Domésticos",
          "Utensílios Domésticos",
          "Utensílios Domésticos",
          "Utensílios Domésticos",
          "Vestuário",
          "Vestuário",
          "Vestuário",
          "Vestuário",
          "Vestuário",
          "Vestuário",
          "Vestuário",
          "Vestuário",
          "Vestuário",
          "Vestuário",
          "Vestuário",
          "Viagens e Turismo",
          "Viagens e Turismo",
          "Viagens e Turismo",
          "Viagens e Turismo",
          "Viagens e Turismo",
          "Viagens e Turismo",
          "Viagens e Turismo",
          "Viagens e Turismo",
          "Viagens e Turismo",
          "Viagens e Turismo",
          "Viagens e Turismo",
          "Água e Saneamento",
          "Água e Saneamento",
          "Água e Saneamento",
          "Água e Saneamento",
          "Água e Saneamento",
          "Água e Saneamento",
          "Água e Saneamento",
          "Água e Saneamento",
          "Água e Saneamento",
          "Água e Saneamento",
          "Água e Saneamento",
          "Bens Industriais",
          "Comunicações",
          "Consumo Cíclico",
          "Consumo não Cíclico",
          "Financeiro",
          "Materiais Básicos",
          "Outros",
          "Petróleo, Gás e Biocombustíveis",
          "Saúde",
          "Tecnologia da Informação",
          "Utilidade Pública",
          "Total"
         ],
         "marker": {
          "colors": [
           "#636efa",
           "#636efa",
           "#636efa",
           "#636efa",
           "#636efa",
           "#636efa",
           "#636efa",
           "#636efa",
           "#636efa",
           "#636efa",
           "#636efa",
           "#636efa",
           "#636efa",
           "#636efa",
           "#636efa",
           "#636efa",
           "#EF553B",
           "#636efa",
           "#636efa",
           "#00cc96",
           "#636efa",
           "#636efa",
           "#636efa",
           "#ab63fa",
           "#636efa",
           "#636efa",
           "#636efa",
           "#636efa",
           "#636efa",
           "#636efa",
           "#636efa",
           "#636efa",
           "#636efa",
           "#636efa",
           "#636efa",
           "#636efa",
           "#636efa",
           "#FFA15A",
           "#636efa",
           "#636efa",
           "#636efa",
           "#636efa",
           "#636efa",
           "#636efa",
           "#636efa",
           "#636efa",
           "#636efa",
           "#00cc96",
           "#636efa",
           "#636efa",
           "#636efa",
           "#636efa",
           "#636efa",
           "#636efa",
           "#636efa",
           "#636efa",
           "#636efa",
           "#636efa",
           "#636efa",
           "#636efa",
           "#636efa",
           "#636efa",
           "#00cc96",
           "#636efa",
           "#636efa",
           "#636efa",
           "#636efa",
           "#636efa",
           "#636efa",
           "#636efa",
           "#636efa",
           "#FFA15A",
           "#636efa",
           "#636efa",
           "#636efa",
           "#636efa",
           "#636efa",
           "#636efa",
           "#636efa",
           "#636efa",
           "#636efa",
           "#636efa",
           "#636efa",
           "#636efa",
           "#636efa",
           "#636efa",
           "#636efa",
           "#636efa",
           "#636efa",
           "#636efa",
           "#636efa",
           "#636efa",
           "#636efa",
           "#636efa",
           "#636efa",
           "#636efa",
           "#00cc96",
           "#636efa",
           "#636efa",
           "#636efa",
           "#636efa",
           "#636efa",
           "#636efa",
           "#636efa",
           "#636efa",
           "#636efa",
           "#636efa",
           "#19d3f3",
           "#FFA15A",
           "#636efa",
           "#636efa",
           "#636efa",
           "#636efa",
           "#636efa",
           "#636efa",
           "#636efa",
           "#636efa",
           "#636efa",
           "#636efa",
           "#636efa",
           "#636efa",
           "#636efa",
           "#636efa",
           "#636efa",
           "#636efa",
           "#636efa",
           "#636efa",
           "#636efa",
           "#636efa",
           "#636efa",
           "#636efa",
           "#636efa",
           "#00cc96",
           "#636efa",
           "#636efa",
           "#636efa",
           "#636efa",
           "#636efa",
           "#636efa",
           "#636efa",
           "#636efa",
           "#636efa",
           "#636efa",
           "#636efa",
           "#636efa",
           "#19d3f3",
           "#636efa",
           "#636efa",
           "#00cc96",
           "#636efa",
           "#636efa",
           "#636efa",
           "#636efa",
           "#636efa",
           "#FFA15A",
           "#636efa",
           "#00cc96",
           "#636efa",
           "#636efa",
           "#636efa",
           "#636efa",
           "#636efa",
           "#636efa",
           "#636efa",
           "#636efa",
           "#636efa",
           "#636efa",
           "#636efa",
           "#FFA15A",
           "#636efa",
           "#636efa",
           "#636efa",
           "#636efa",
           "#636efa",
           "#636efa",
           "#636efa",
           "#636efa",
           "#636efa",
           "#636efa",
           "#FFA15A",
           "#636efa",
           "#636efa",
           "#636efa",
           "#636efa",
           "#636efa",
           "#636efa",
           "#636efa",
           "#636efa",
           "#636efa",
           "#636efa",
           "#636efa",
           "#636efa",
           "#636efa",
           "#636efa",
           "#636efa",
           "#636efa",
           "#FF6692",
           "#636efa",
           "#ab63fa",
           "#636efa",
           "#636efa",
           "#636efa",
           "#636efa",
           "#636efa",
           "#636efa",
           "#636efa",
           "#636efa",
           "#636efa",
           "#636efa",
           "#636efa",
           "#636efa",
           "#636efa",
           "#636efa",
           "#EF553B",
           "#636efa",
           "#636efa",
           "#636efa",
           "#636efa",
           "#636efa",
           "#636efa",
           "#636efa",
           "#636efa",
           "#00cc96",
           "#636efa",
           "#636efa",
           "#636efa",
           "#636efa",
           "#636efa",
           "#636efa",
           "#636efa",
           "#636efa",
           "#636efa",
           "#636efa",
           "#636efa",
           "#636efa",
           "#636efa",
           "#19d3f3",
           "#636efa",
           "#636efa",
           "#636efa",
           "#636efa",
           "#636efa",
           "#636efa",
           "#636efa",
           "#636efa",
           "#636efa",
           "#636efa",
           "#636efa",
           "#636efa",
           "#636efa",
           "#636efa",
           "#636efa",
           "#B6E880",
           "#ab63fa",
           "#636efa",
           "#636efa",
           "#636efa",
           "#636efa",
           "#636efa",
           "#636efa",
           "#636efa",
           "#636efa",
           "#636efa",
           "#636efa",
           "#636efa",
           "#636efa",
           "#636efa",
           "#636efa",
           "#636efa",
           "#636efa",
           "#636efa",
           "#636efa",
           "#FF97FF",
           "#636efa",
           "#636efa",
           "#636efa",
           "#636efa",
           "#636efa",
           "#636efa",
           "#636efa",
           "#636efa",
           "#636efa",
           "#FECB52",
           "#636efa",
           "#636efa",
           "#636efa",
           "#636efa",
           "#636efa",
           "#636efa",
           "#636efa",
           "#EF553B",
           "#636efa",
           "#636efa",
           "#636efa",
           "#636efa",
           "#636efa",
           "#636efa",
           "#ab63fa",
           "#636efa",
           "#636efa",
           "#636efa",
           "#636efa",
           "#636efa",
           "#636efa",
           "#636efa",
           "#636efa",
           "#636efa",
           "#636efa",
           "#636efa",
           "#636efa",
           "#636efa",
           "#636efa",
           "#636efa",
           "#636efa",
           "#636efa",
           "#FECB52",
           "#636efa",
           "#636efa",
           "#636efa",
           "#636efa",
           "#636efa",
           "#636efa",
           "#636efa",
           "#636efa",
           "#19d3f3",
           "#636efa",
           "#636efa",
           "#636efa",
           "#636efa",
           "#636efa",
           "#636efa",
           "#636efa",
           "#00cc96",
           "#636efa",
           "#636efa",
           "#636efa",
           "#636efa",
           "#636efa",
           "#636efa",
           "#636efa",
           "#636efa",
           "#636efa",
           "#636efa",
           "#636efa",
           "#636efa",
           "#EF553B",
           "#636efa",
           "#636efa",
           "#636efa",
           "#636efa",
           "#636efa",
           "#636efa",
           "#636efa",
           "#636efa",
           "#636efa",
           "#636efa",
           "#636efa",
           "#636efa",
           "#636efa",
           "#636efa",
           "#636efa",
           "#636efa",
           "#B6E880",
           "#636efa",
           "#636efa",
           "#636efa",
           "#636efa",
           "#EF553B",
           "#636efa",
           "#636efa",
           "#636efa",
           "#636efa",
           "#636efa",
           "#636efa",
           "#636efa",
           "#636efa",
           "#00cc96",
           "#636efa",
           "#636efa",
           "#636efa",
           "#636efa",
           "#636efa",
           "#636efa",
           "#636efa",
           "#636efa",
           "#636efa",
           "#636efa",
           "#00cc96",
           "#636efa",
           "#636efa",
           "#636efa",
           "#636efa",
           "#636efa",
           "#636efa",
           "#636efa",
           "#636efa",
           "#636efa",
           "#636efa",
           "#636efa",
           "#636efa",
           "#EF553B",
           "#636efa",
           "#636efa",
           "#636efa",
           "#636efa",
           "#636efa",
           "#636efa",
           "#ab63fa",
           "#636efa",
           "#636efa",
           "#636efa",
           "#636efa",
           "#636efa",
           "#636efa",
           "#636efa",
           "#636efa",
           "#636efa",
           "#636efa",
           "#636efa",
           "#636efa",
           "#636efa",
           "#636efa",
           "#636efa",
           "#19d3f3",
           "#636efa",
           "#636efa",
           "#636efa",
           "#636efa",
           "#636efa",
           "#636efa",
           "#636efa",
           "#636efa",
           "#636efa",
           "#636efa",
           "#19d3f3",
           "#636efa",
           "#636efa",
           "#636efa",
           "#636efa",
           "#636efa",
           "#ab63fa",
           "#636efa",
           "#636efa",
           "#636efa",
           "#636efa",
           "#636efa",
           "#636efa",
           "#636efa",
           "#636efa",
           "#636efa",
           "#636efa",
           "#ab63fa",
           "#636efa",
           "#636efa",
           "#636efa",
           "#636efa",
           "#636efa",
           "#636efa",
           "#636efa",
           "#636efa",
           "#636efa",
           "#636efa",
           "#ab63fa",
           "#636efa",
           "#636efa",
           "#636efa",
           "#636efa",
           "#636efa",
           "#636efa",
           "#636efa",
           "#636efa",
           "#636efa",
           "#636efa",
           "#636efa",
           "#636efa",
           "#636efa",
           "#636efa",
           "#636efa",
           "#636efa",
           "#636efa",
           "#636efa",
           "#FF97FF",
           "#636efa",
           "#636efa",
           "#636efa",
           "#636efa",
           "#636efa",
           "#636efa",
           "#636efa",
           "#19d3f3",
           "#636efa",
           "#636efa",
           "#636efa",
           "#636efa",
           "#636efa",
           "#ab63fa",
           "#636efa",
           "#636efa",
           "#636efa",
           "#636efa",
           "#636efa",
           "#636efa",
           "#636efa",
           "#636efa",
           "#636efa",
           "#636efa",
           "#ab63fa",
           "#636efa",
           "#636efa",
           "#636efa",
           "#636efa",
           "#636efa",
           "#636efa",
           "#636efa",
           "#636efa",
           "#636efa",
           "#636efa",
           "#ab63fa",
           "#636efa",
           "#636efa",
           "#636efa",
           "#636efa",
           "#636efa",
           "#636efa",
           "#636efa",
           "#636efa",
           "#636efa",
           "#636efa",
           "#636efa",
           "#636efa",
           "#00cc96",
           "#636efa",
           "#636efa",
           "#636efa",
           "#636efa",
           "#636efa",
           "#636efa",
           "#636efa",
           "#636efa",
           "#636efa",
           "#636efa",
           "#636efa",
           "#636efa",
           "#636efa",
           "#636efa",
           "#636efa",
           "#636efa",
           "#636efa",
           "#636efa",
           "#636efa",
           "#636efa",
           "#636efa",
           "#636efa",
           "#636efa",
           "#EF553B",
           "#636efa",
           "#636efa",
           "#636efa",
           "#636efa",
           "#636efa",
           "#636efa",
           "#636efa",
           "#636efa",
           "#636efa",
           "#636efa",
           "#636efa",
           "#19d3f3",
           "#636efa",
           "#636efa",
           "#636efa",
           "#636efa",
           "#636efa",
           "#636efa",
           "#636efa",
           "#636efa",
           "#636efa",
           "#636efa",
           "#19d3f3",
           "#636efa",
           "#636efa",
           "#636efa",
           "#636efa",
           "#636efa",
           "#636efa",
           "#636efa",
           "#00cc96",
           "#636efa",
           "#636efa",
           "#636efa",
           "#636efa",
           "#636efa",
           "#636efa",
           "#636efa",
           "#636efa",
           "#636efa",
           "#636efa",
           "#636efa",
           "#FFA15A",
           "#636efa",
           "#636efa",
           "#636efa",
           "#636efa",
           "#636efa",
           "#636efa",
           "#636efa",
           "#636efa",
           "#636efa",
           "#636efa",
           "#FFA15A",
           "#636efa",
           "#636efa",
           "#636efa",
           "#636efa",
           "#636efa",
           "#636efa",
           "#636efa",
           "#ab63fa",
           "#636efa",
           "#636efa",
           "#636efa",
           "#636efa",
           "#636efa",
           "#636efa",
           "#636efa",
           "#636efa",
           "#636efa",
           "#636efa",
           "#636efa",
           "#636efa",
           "#00cc96",
           "#636efa",
           "#636efa",
           "#636efa",
           "#636efa",
           "#636efa",
           "#636efa",
           "#636efa",
           "#636efa",
           "#636efa",
           "#636efa",
           "#00cc96",
           "#636efa",
           "#636efa",
           "#636efa",
           "#636efa",
           "#636efa",
           "#636efa",
           "#636efa",
           "#636efa",
           "#636efa",
           "#636efa",
           "#636efa",
           "#636efa",
           "#636efa",
           "#636efa",
           "#636efa",
           "#636efa",
           "#636efa",
           "#FF6692",
           "#636efa",
           "#636efa",
           "#EF553B",
           "#636efa",
           "#636efa",
           "#636efa",
           "#636efa",
           "#636efa",
           "#636efa",
           "#636efa",
           "#636efa",
           "#636efa",
           "#636efa",
           "#636efa",
           "#636efa",
           "#636efa",
           "#636efa",
           "#19d3f3",
           "#636efa",
           "#636efa",
           "#636efa",
           "#636efa",
           "#636efa",
           "#636efa",
           "#636efa",
           "#636efa",
           "#636efa",
           "#EF553B",
           "#636efa",
           "#636efa",
           "#636efa",
           "#636efa",
           "#636efa",
           "#636efa",
           "#636efa",
           "#636efa",
           "#00cc96",
           "#636efa",
           "#636efa",
           "#636efa",
           "#636efa",
           "#636efa",
           "#636efa",
           "#636efa",
           "#636efa",
           "#636efa",
           "#636efa",
           "#636efa",
           "#636efa",
           "#EF553B",
           "#636efa",
           "#636efa",
           "#636efa",
           "#636efa",
           "#636efa",
           "#636efa",
           "#636efa",
           "#636efa",
           "#636efa",
           "#636efa",
           "#EF553B",
           "#636efa",
           "#636efa",
           "#636efa",
           "#636efa",
           "#636efa",
           "#636efa",
           "#ab63fa",
           "#636efa",
           "#636efa",
           "#636efa",
           "#636efa",
           "#636efa",
           "#636efa",
           "#636efa",
           "#636efa",
           "#636efa",
           "#636efa",
           "#636efa",
           "#636efa",
           "#00cc96",
           "#636efa",
           "#636efa",
           "#636efa",
           "#636efa",
           "#636efa",
           "#636efa",
           "#636efa",
           "#636efa",
           "#636efa",
           "#636efa",
           "#636efa",
           "#636efa",
           "#EF553B",
           "#636efa",
           "#636efa",
           "#636efa",
           "#636efa",
           "#636efa",
           "#636efa",
           "#636efa",
           "#636efa",
           "#636efa",
           "#636efa",
           "#636efa",
           "#636efa",
           "#636efa",
           "#636efa",
           "#FF97FF",
           "#636efa",
           "#636efa",
           "#ab63fa",
           "#636efa",
           "#636efa",
           "#636efa",
           "#636efa",
           "#636efa",
           "#636efa",
           "#636efa",
           "#636efa",
           "#636efa",
           "#636efa",
           "#636efa",
           "#636efa",
           "#636efa",
           "#636efa",
           "#636efa",
           "#19d3f3",
           "#636efa",
           "#636efa",
           "#636efa",
           "#636efa",
           "#636efa",
           "#636efa",
           "#636efa",
           "#636efa",
           "#636efa",
           "#EF553B",
           "#636efa",
           "#636efa",
           "#636efa",
           "#636efa",
           "#636efa",
           "#636efa",
           "#636efa",
           "#636efa",
           "#636efa",
           "#636efa",
           "#EF553B",
           "#636efa",
           "#636efa",
           "#636efa",
           "#636efa",
           "#636efa",
           "#636efa",
           "#636efa",
           "#636efa",
           "#00cc96",
           "#636efa",
           "#636efa",
           "#636efa",
           "#636efa",
           "#636efa",
           "#636efa",
           "#636efa",
           "#636efa",
           "#636efa",
           "#EF553B",
           "#636efa",
           "#636efa",
           "#636efa",
           "#636efa",
           "#636efa",
           "#636efa",
           "#636efa",
           "#636efa",
           "#636efa",
           "#ab63fa",
           "#636efa",
           "#636efa",
           "#636efa",
           "#636efa",
           "#636efa",
           "#636efa",
           "#636efa",
           "#636efa",
           "#636efa",
           "#636efa",
           "#ab63fa",
           "#636efa",
           "#636efa",
           "#636efa",
           "#636efa",
           "#636efa",
           "#636efa",
           "#636efa",
           "#636efa",
           "#636efa",
           "#636efa",
           "#ab63fa",
           "#636efa",
           "#636efa",
           "#636efa",
           "#636efa",
           "#636efa",
           "#636efa",
           "#636efa",
           "#636efa",
           "#636efa",
           "#636efa",
           "#636efa",
           "#636efa",
           "#00cc96",
           "#636efa",
           "#636efa",
           "#636efa",
           "#636efa",
           "#636efa",
           "#636efa",
           "#636efa",
           "#636efa",
           "#636efa",
           "#636efa",
           "#00cc96",
           "#636efa",
           "#636efa",
           "#636efa",
           "#636efa",
           "#636efa",
           "#636efa",
           "#636efa",
           "#636efa",
           "#636efa",
           "#636efa",
           "#00cc96",
           "#636efa",
           "#636efa",
           "#636efa",
           "#636efa",
           "#636efa",
           "#636efa",
           "#636efa",
           "#636efa",
           "#636efa",
           "#636efa",
           "#636efa",
           "#636efa",
           "#636efa",
           "#636efa",
           "#636efa",
           "#636efa",
           "#636efa",
           "#636efa",
           "#B6E880",
           "#ab63fa",
           "#EF553B",
           "#00cc96",
           "#FFA15A",
           "#EF553B",
           "#19d3f3",
           "#636efa",
           "#FECB52",
           "#FF97FF",
           "#FF6692",
           "#B6E880",
           "#00cc96"
          ]
         },
         "name": "",
         "parents": [
          "Total/Consumo não Cíclico",
          "Total/Consumo Cíclico",
          "Total/Financeiro",
          "Total/Utilidade Pública",
          "Total/Consumo não Cíclico",
          "Total/Tecnologia da Informação",
          "Total/Saúde",
          "Total/Petróleo, Gás e Biocombustíveis",
          "Total/Outros",
          "Total/Petróleo, Gás e Biocombustíveis",
          "Total/Tecnologia da Informação",
          "Total/Tecnologia da Informação",
          "Total/Bens Industriais",
          "Total/Materiais Básicos",
          "Total/Materiais Básicos",
          "Total/Financeiro",
          "Total/Financeiro",
          "Total/Utilidade Pública",
          "Total/Saúde",
          "Total/Consumo Cíclico",
          "Total/Saúde",
          "Total/Utilidade Pública",
          "Total/Saúde",
          "Total/Bens Industriais",
          "Total/Comunicações",
          "Total/Comunicações",
          "Total/Utilidade Pública",
          "Total/Saúde",
          "Total/Outros",
          "Total/Comunicações",
          "Total/Financeiro",
          "Total/Financeiro",
          "Total/Utilidade Pública",
          "Total/Utilidade Pública",
          "Total/Saúde",
          "Total/Outros",
          "Total/Consumo Cíclico",
          "Total/Consumo não Cíclico",
          "Total/Tecnologia da Informação",
          "Total/Comunicações",
          "Total/Outros",
          "Total/Financeiro",
          "Total/Comunicações",
          "Total/Consumo não Cíclico",
          "Total/Saúde",
          "Total/Bens Industriais",
          "Total/Outros",
          "Total/Consumo Cíclico",
          "Total/Consumo não Cíclico",
          "Total/Outros",
          "Total/Utilidade Pública",
          "Total/Saúde",
          "Total/Comunicações",
          "Total/Petróleo, Gás e Biocombustíveis",
          "Total/Outros",
          "Total/Materiais Básicos",
          "Total/Tecnologia da Informação",
          "Total/Utilidade Pública",
          "Total/Tecnologia da Informação",
          "Total/Outros",
          "Total/Petróleo, Gás e Biocombustíveis",
          "Total/Petróleo, Gás e Biocombustíveis",
          "Total/Consumo Cíclico",
          "Total/Materiais Básicos",
          "Total/Materiais Básicos",
          "Total/Tecnologia da Informação",
          "Total/Financeiro",
          "Total/Bens Industriais",
          "Total/Comunicações",
          "Total/Petróleo, Gás e Biocombustíveis",
          "Total/Materiais Básicos",
          "Total/Consumo não Cíclico",
          "Total/Comunicações",
          "Total/Consumo não Cíclico",
          "Total/Comunicações",
          "Total/Bens Industriais",
          "Total/Consumo Cíclico",
          "Total/Consumo não Cíclico",
          "Total/Consumo Cíclico",
          "Total/Bens Industriais",
          "Total/Utilidade Pública",
          "Total/Outros",
          "Total/Consumo Cíclico",
          "Total/Financeiro",
          "Total/Tecnologia da Informação",
          "Total/Bens Industriais",
          "Total/Saúde",
          "Total/Bens Industriais",
          "Total/Petróleo, Gás e Biocombustíveis",
          "Total/Outros",
          "Total/Petróleo, Gás e Biocombustíveis",
          "Total/Petróleo, Gás e Biocombustíveis",
          "Total/Saúde",
          "Total/Comunicações",
          "Total/Bens Industriais",
          "Total/Financeiro",
          "Total/Consumo Cíclico",
          "Total/Bens Industriais",
          "Total/Saúde",
          "Total/Comunicações",
          "Total/Saúde",
          "Total/Petróleo, Gás e Biocombustíveis",
          "Total/Consumo Cíclico",
          "Total/Consumo não Cíclico",
          "Total/Tecnologia da Informação",
          "Total/Tecnologia da Informação",
          "Total/Materiais Básicos",
          "Total/Materiais Básicos",
          "Total/Consumo não Cíclico",
          "Total/Tecnologia da Informação",
          "Total/Materiais Básicos",
          "Total/Financeiro",
          "Total/Bens Industriais",
          "Total/Outros",
          "Total/Bens Industriais",
          "Total/Utilidade Pública",
          "Total/Financeiro",
          "Total/Comunicações",
          "Total/Materiais Básicos",
          "Total/Petróleo, Gás e Biocombustíveis",
          "Total/Materiais Básicos",
          "Total/Materiais Básicos",
          "Total/Utilidade Pública",
          "Total/Consumo não Cíclico",
          "Total/Petróleo, Gás e Biocombustíveis",
          "Total/Financeiro",
          "Total/Comunicações",
          "Total/Financeiro",
          "Total/Bens Industriais",
          "Total/Tecnologia da Informação",
          "Total/Utilidade Pública",
          "Total/Utilidade Pública",
          "Total/Consumo Cíclico",
          "Total/Outros",
          "Total/Utilidade Pública",
          "Total/Saúde",
          "Total/Bens Industriais",
          "Total/Consumo não Cíclico",
          "Total/Financeiro",
          "Total/Petróleo, Gás e Biocombustíveis",
          "Total/Outros",
          "Total/Materiais Básicos",
          "Total/Comunicações",
          "Total/Petróleo, Gás e Biocombustíveis",
          "Total/Consumo não Cíclico",
          "Total/Materiais Básicos",
          "Total/Consumo Cíclico",
          "Total/Saúde",
          "Total/Consumo Cíclico",
          "Total/Consumo Cíclico",
          "Total/Comunicações",
          "Total/Outros",
          "Total/Tecnologia da Informação",
          "Total/Tecnologia da Informação",
          "Total/Consumo não Cíclico",
          "Total/Bens Industriais",
          "Total/Consumo Cíclico",
          "Total/Consumo não Cíclico",
          "Total/Financeiro",
          "Total/Materiais Básicos",
          "Total/Outros",
          "Total/Petróleo, Gás e Biocombustíveis",
          "Total/Saúde",
          "Total/Tecnologia da Informação",
          "Total/Utilidade Pública",
          "Total/Bens Industriais",
          "Total/Comunicações",
          "Total/Consumo Cíclico",
          "Total/Consumo não Cíclico",
          "Total/Financeiro",
          "Total/Materiais Básicos",
          "Total/Outros",
          "Total/Petróleo, Gás e Biocombustíveis",
          "Total/Saúde",
          "Total/Tecnologia da Informação",
          "Total/Utilidade Pública",
          "Total/Bens Industriais",
          "Total/Comunicações",
          "Total/Consumo Cíclico",
          "Total/Consumo não Cíclico",
          "Total/Financeiro",
          "Total/Materiais Básicos",
          "Total/Outros",
          "Total/Petróleo, Gás e Biocombustíveis",
          "Total/Saúde",
          "Total/Tecnologia da Informação",
          "Total/Utilidade Pública",
          "Total/Bens Industriais",
          "Total/Comunicações",
          "Total/Consumo Cíclico",
          "Total/Consumo não Cíclico",
          "Total/Financeiro",
          "Total/Materiais Básicos",
          "Total/Outros",
          "Total/Petróleo, Gás e Biocombustíveis",
          "Total/Saúde",
          "Total/Tecnologia da Informação",
          "Total/Utilidade Pública",
          "Total/Bens Industriais",
          "Total/Comunicações",
          "Total/Consumo Cíclico",
          "Total/Consumo não Cíclico",
          "Total/Financeiro",
          "Total/Materiais Básicos",
          "Total/Outros",
          "Total/Petróleo, Gás e Biocombustíveis",
          "Total/Saúde",
          "Total/Tecnologia da Informação",
          "Total/Utilidade Pública",
          "Total/Bens Industriais",
          "Total/Comunicações",
          "Total/Consumo Cíclico",
          "Total/Consumo não Cíclico",
          "Total/Financeiro",
          "Total/Materiais Básicos",
          "Total/Outros",
          "Total/Petróleo, Gás e Biocombustíveis",
          "Total/Saúde",
          "Total/Tecnologia da Informação",
          "Total/Utilidade Pública",
          "Total/Bens Industriais",
          "Total/Comunicações",
          "Total/Consumo Cíclico",
          "Total/Consumo não Cíclico",
          "Total/Financeiro",
          "Total/Materiais Básicos",
          "Total/Outros",
          "Total/Petróleo, Gás e Biocombustíveis",
          "Total/Saúde",
          "Total/Tecnologia da Informação",
          "Total/Utilidade Pública",
          "Total/Bens Industriais",
          "Total/Comunicações",
          "Total/Consumo Cíclico",
          "Total/Consumo não Cíclico",
          "Total/Financeiro",
          "Total/Materiais Básicos",
          "Total/Outros",
          "Total/Petróleo, Gás e Biocombustíveis",
          "Total/Saúde",
          "Total/Tecnologia da Informação",
          "Total/Utilidade Pública",
          "Total/Bens Industriais",
          "Total/Comunicações",
          "Total/Consumo Cíclico",
          "Total/Consumo não Cíclico",
          "Total/Financeiro",
          "Total/Materiais Básicos",
          "Total/Outros",
          "Total/Petróleo, Gás e Biocombustíveis",
          "Total/Saúde",
          "Total/Tecnologia da Informação",
          "Total/Utilidade Pública",
          "Total/Bens Industriais",
          "Total/Comunicações",
          "Total/Consumo Cíclico",
          "Total/Consumo não Cíclico",
          "Total/Financeiro",
          "Total/Materiais Básicos",
          "Total/Outros",
          "Total/Petróleo, Gás e Biocombustíveis",
          "Total/Saúde",
          "Total/Tecnologia da Informação",
          "Total/Utilidade Pública",
          "Total/Bens Industriais",
          "Total/Comunicações",
          "Total/Consumo Cíclico",
          "Total/Consumo não Cíclico",
          "Total/Financeiro",
          "Total/Materiais Básicos",
          "Total/Outros",
          "Total/Petróleo, Gás e Biocombustíveis",
          "Total/Saúde",
          "Total/Tecnologia da Informação",
          "Total/Utilidade Pública",
          "Total/Bens Industriais",
          "Total/Comunicações",
          "Total/Consumo Cíclico",
          "Total/Consumo não Cíclico",
          "Total/Financeiro",
          "Total/Materiais Básicos",
          "Total/Outros",
          "Total/Petróleo, Gás e Biocombustíveis",
          "Total/Saúde",
          "Total/Tecnologia da Informação",
          "Total/Utilidade Pública",
          "Total/Bens Industriais",
          "Total/Comunicações",
          "Total/Consumo Cíclico",
          "Total/Consumo não Cíclico",
          "Total/Financeiro",
          "Total/Materiais Básicos",
          "Total/Outros",
          "Total/Petróleo, Gás e Biocombustíveis",
          "Total/Saúde",
          "Total/Tecnologia da Informação",
          "Total/Utilidade Pública",
          "Total/Bens Industriais",
          "Total/Comunicações",
          "Total/Consumo Cíclico",
          "Total/Consumo não Cíclico",
          "Total/Financeiro",
          "Total/Materiais Básicos",
          "Total/Outros",
          "Total/Petróleo, Gás e Biocombustíveis",
          "Total/Saúde",
          "Total/Tecnologia da Informação",
          "Total/Utilidade Pública",
          "Total/Bens Industriais",
          "Total/Comunicações",
          "Total/Consumo Cíclico",
          "Total/Consumo não Cíclico",
          "Total/Financeiro",
          "Total/Materiais Básicos",
          "Total/Outros",
          "Total/Petróleo, Gás e Biocombustíveis",
          "Total/Saúde",
          "Total/Tecnologia da Informação",
          "Total/Utilidade Pública",
          "Total/Bens Industriais",
          "Total/Comunicações",
          "Total/Consumo Cíclico",
          "Total/Consumo não Cíclico",
          "Total/Financeiro",
          "Total/Materiais Básicos",
          "Total/Outros",
          "Total/Petróleo, Gás e Biocombustíveis",
          "Total/Saúde",
          "Total/Tecnologia da Informação",
          "Total/Utilidade Pública",
          "Total/Bens Industriais",
          "Total/Comunicações",
          "Total/Consumo Cíclico",
          "Total/Consumo não Cíclico",
          "Total/Financeiro",
          "Total/Materiais Básicos",
          "Total/Outros",
          "Total/Petróleo, Gás e Biocombustíveis",
          "Total/Saúde",
          "Total/Tecnologia da Informação",
          "Total/Utilidade Pública",
          "Total/Bens Industriais",
          "Total/Comunicações",
          "Total/Consumo Cíclico",
          "Total/Consumo não Cíclico",
          "Total/Financeiro",
          "Total/Materiais Básicos",
          "Total/Outros",
          "Total/Petróleo, Gás e Biocombustíveis",
          "Total/Saúde",
          "Total/Tecnologia da Informação",
          "Total/Utilidade Pública",
          "Total/Bens Industriais",
          "Total/Comunicações",
          "Total/Consumo Cíclico",
          "Total/Consumo não Cíclico",
          "Total/Financeiro",
          "Total/Materiais Básicos",
          "Total/Outros",
          "Total/Petróleo, Gás e Biocombustíveis",
          "Total/Saúde",
          "Total/Tecnologia da Informação",
          "Total/Utilidade Pública",
          "Total/Bens Industriais",
          "Total/Comunicações",
          "Total/Consumo Cíclico",
          "Total/Consumo não Cíclico",
          "Total/Financeiro",
          "Total/Materiais Básicos",
          "Total/Outros",
          "Total/Petróleo, Gás e Biocombustíveis",
          "Total/Saúde",
          "Total/Tecnologia da Informação",
          "Total/Utilidade Pública",
          "Total/Bens Industriais",
          "Total/Comunicações",
          "Total/Consumo Cíclico",
          "Total/Consumo não Cíclico",
          "Total/Financeiro",
          "Total/Materiais Básicos",
          "Total/Outros",
          "Total/Petróleo, Gás e Biocombustíveis",
          "Total/Saúde",
          "Total/Tecnologia da Informação",
          "Total/Utilidade Pública",
          "Total/Bens Industriais",
          "Total/Comunicações",
          "Total/Consumo Cíclico",
          "Total/Consumo não Cíclico",
          "Total/Financeiro",
          "Total/Materiais Básicos",
          "Total/Outros",
          "Total/Petróleo, Gás e Biocombustíveis",
          "Total/Saúde",
          "Total/Tecnologia da Informação",
          "Total/Utilidade Pública",
          "Total/Bens Industriais",
          "Total/Comunicações",
          "Total/Consumo Cíclico",
          "Total/Consumo não Cíclico",
          "Total/Financeiro",
          "Total/Materiais Básicos",
          "Total/Outros",
          "Total/Petróleo, Gás e Biocombustíveis",
          "Total/Saúde",
          "Total/Tecnologia da Informação",
          "Total/Utilidade Pública",
          "Total/Bens Industriais",
          "Total/Comunicações",
          "Total/Consumo Cíclico",
          "Total/Consumo não Cíclico",
          "Total/Financeiro",
          "Total/Materiais Básicos",
          "Total/Outros",
          "Total/Petróleo, Gás e Biocombustíveis",
          "Total/Saúde",
          "Total/Tecnologia da Informação",
          "Total/Utilidade Pública",
          "Total/Bens Industriais",
          "Total/Comunicações",
          "Total/Consumo Cíclico",
          "Total/Consumo não Cíclico",
          "Total/Financeiro",
          "Total/Materiais Básicos",
          "Total/Outros",
          "Total/Petróleo, Gás e Biocombustíveis",
          "Total/Saúde",
          "Total/Tecnologia da Informação",
          "Total/Utilidade Pública",
          "Total/Bens Industriais",
          "Total/Comunicações",
          "Total/Consumo Cíclico",
          "Total/Consumo não Cíclico",
          "Total/Financeiro",
          "Total/Materiais Básicos",
          "Total/Outros",
          "Total/Petróleo, Gás e Biocombustíveis",
          "Total/Saúde",
          "Total/Tecnologia da Informação",
          "Total/Utilidade Pública",
          "Total/Bens Industriais",
          "Total/Comunicações",
          "Total/Consumo Cíclico",
          "Total/Consumo não Cíclico",
          "Total/Financeiro",
          "Total/Materiais Básicos",
          "Total/Outros",
          "Total/Petróleo, Gás e Biocombustíveis",
          "Total/Saúde",
          "Total/Tecnologia da Informação",
          "Total/Utilidade Pública",
          "Total/Bens Industriais",
          "Total/Comunicações",
          "Total/Consumo Cíclico",
          "Total/Consumo não Cíclico",
          "Total/Financeiro",
          "Total/Materiais Básicos",
          "Total/Outros",
          "Total/Petróleo, Gás e Biocombustíveis",
          "Total/Saúde",
          "Total/Tecnologia da Informação",
          "Total/Utilidade Pública",
          "Total/Bens Industriais",
          "Total/Comunicações",
          "Total/Consumo Cíclico",
          "Total/Consumo não Cíclico",
          "Total/Financeiro",
          "Total/Materiais Básicos",
          "Total/Outros",
          "Total/Petróleo, Gás e Biocombustíveis",
          "Total/Saúde",
          "Total/Tecnologia da Informação",
          "Total/Utilidade Pública",
          "Total/Bens Industriais",
          "Total/Comunicações",
          "Total/Consumo Cíclico",
          "Total/Consumo não Cíclico",
          "Total/Financeiro",
          "Total/Materiais Básicos",
          "Total/Outros",
          "Total/Petróleo, Gás e Biocombustíveis",
          "Total/Saúde",
          "Total/Tecnologia da Informação",
          "Total/Utilidade Pública",
          "Total/Bens Industriais",
          "Total/Comunicações",
          "Total/Consumo Cíclico",
          "Total/Consumo não Cíclico",
          "Total/Financeiro",
          "Total/Materiais Básicos",
          "Total/Outros",
          "Total/Petróleo, Gás e Biocombustíveis",
          "Total/Saúde",
          "Total/Tecnologia da Informação",
          "Total/Utilidade Pública",
          "Total/Bens Industriais",
          "Total/Comunicações",
          "Total/Consumo Cíclico",
          "Total/Consumo não Cíclico",
          "Total/Financeiro",
          "Total/Materiais Básicos",
          "Total/Outros",
          "Total/Petróleo, Gás e Biocombustíveis",
          "Total/Saúde",
          "Total/Tecnologia da Informação",
          "Total/Utilidade Pública",
          "Total/Bens Industriais",
          "Total/Comunicações",
          "Total/Consumo Cíclico",
          "Total/Consumo não Cíclico",
          "Total/Financeiro",
          "Total/Materiais Básicos",
          "Total/Outros",
          "Total/Petróleo, Gás e Biocombustíveis",
          "Total/Saúde",
          "Total/Tecnologia da Informação",
          "Total/Utilidade Pública",
          "Total/Bens Industriais",
          "Total/Comunicações",
          "Total/Consumo Cíclico",
          "Total/Consumo não Cíclico",
          "Total/Financeiro",
          "Total/Materiais Básicos",
          "Total/Outros",
          "Total/Petróleo, Gás e Biocombustíveis",
          "Total/Saúde",
          "Total/Tecnologia da Informação",
          "Total/Utilidade Pública",
          "Total/Bens Industriais",
          "Total/Comunicações",
          "Total/Consumo Cíclico",
          "Total/Consumo não Cíclico",
          "Total/Financeiro",
          "Total/Materiais Básicos",
          "Total/Outros",
          "Total/Petróleo, Gás e Biocombustíveis",
          "Total/Saúde",
          "Total/Tecnologia da Informação",
          "Total/Utilidade Pública",
          "Total/Bens Industriais",
          "Total/Comunicações",
          "Total/Consumo Cíclico",
          "Total/Consumo não Cíclico",
          "Total/Financeiro",
          "Total/Materiais Básicos",
          "Total/Outros",
          "Total/Petróleo, Gás e Biocombustíveis",
          "Total/Saúde",
          "Total/Tecnologia da Informação",
          "Total/Utilidade Pública",
          "Total/Bens Industriais",
          "Total/Comunicações",
          "Total/Consumo Cíclico",
          "Total/Consumo não Cíclico",
          "Total/Financeiro",
          "Total/Materiais Básicos",
          "Total/Outros",
          "Total/Petróleo, Gás e Biocombustíveis",
          "Total/Saúde",
          "Total/Tecnologia da Informação",
          "Total/Utilidade Pública",
          "Total/Bens Industriais",
          "Total/Comunicações",
          "Total/Consumo Cíclico",
          "Total/Consumo não Cíclico",
          "Total/Financeiro",
          "Total/Materiais Básicos",
          "Total/Outros",
          "Total/Petróleo, Gás e Biocombustíveis",
          "Total/Saúde",
          "Total/Tecnologia da Informação",
          "Total/Utilidade Pública",
          "Total/Bens Industriais",
          "Total/Comunicações",
          "Total/Consumo Cíclico",
          "Total/Consumo não Cíclico",
          "Total/Financeiro",
          "Total/Materiais Básicos",
          "Total/Outros",
          "Total/Petróleo, Gás e Biocombustíveis",
          "Total/Saúde",
          "Total/Tecnologia da Informação",
          "Total/Utilidade Pública",
          "Total/Bens Industriais",
          "Total/Comunicações",
          "Total/Consumo Cíclico",
          "Total/Consumo não Cíclico",
          "Total/Financeiro",
          "Total/Materiais Básicos",
          "Total/Outros",
          "Total/Petróleo, Gás e Biocombustíveis",
          "Total/Saúde",
          "Total/Tecnologia da Informação",
          "Total/Utilidade Pública",
          "Total/Bens Industriais",
          "Total/Comunicações",
          "Total/Consumo Cíclico",
          "Total/Consumo não Cíclico",
          "Total/Financeiro",
          "Total/Materiais Básicos",
          "Total/Outros",
          "Total/Petróleo, Gás e Biocombustíveis",
          "Total/Saúde",
          "Total/Tecnologia da Informação",
          "Total/Utilidade Pública",
          "Total/Bens Industriais",
          "Total/Comunicações",
          "Total/Consumo Cíclico",
          "Total/Consumo não Cíclico",
          "Total/Financeiro",
          "Total/Materiais Básicos",
          "Total/Outros",
          "Total/Petróleo, Gás e Biocombustíveis",
          "Total/Saúde",
          "Total/Tecnologia da Informação",
          "Total/Utilidade Pública",
          "Total/Bens Industriais",
          "Total/Comunicações",
          "Total/Consumo Cíclico",
          "Total/Consumo não Cíclico",
          "Total/Financeiro",
          "Total/Materiais Básicos",
          "Total/Outros",
          "Total/Petróleo, Gás e Biocombustíveis",
          "Total/Saúde",
          "Total/Tecnologia da Informação",
          "Total/Utilidade Pública",
          "Total/Bens Industriais",
          "Total/Comunicações",
          "Total/Consumo Cíclico",
          "Total/Consumo não Cíclico",
          "Total/Financeiro",
          "Total/Materiais Básicos",
          "Total/Outros",
          "Total/Petróleo, Gás e Biocombustíveis",
          "Total/Saúde",
          "Total/Tecnologia da Informação",
          "Total/Utilidade Pública",
          "Total/Bens Industriais",
          "Total/Comunicações",
          "Total/Consumo Cíclico",
          "Total/Consumo não Cíclico",
          "Total/Financeiro",
          "Total/Materiais Básicos",
          "Total/Outros",
          "Total/Petróleo, Gás e Biocombustíveis",
          "Total/Saúde",
          "Total/Tecnologia da Informação",
          "Total/Utilidade Pública",
          "Total/Bens Industriais",
          "Total/Comunicações",
          "Total/Consumo Cíclico",
          "Total/Consumo não Cíclico",
          "Total/Financeiro",
          "Total/Materiais Básicos",
          "Total/Outros",
          "Total/Petróleo, Gás e Biocombustíveis",
          "Total/Saúde",
          "Total/Tecnologia da Informação",
          "Total/Utilidade Pública",
          "Total/Bens Industriais",
          "Total/Comunicações",
          "Total/Consumo Cíclico",
          "Total/Consumo não Cíclico",
          "Total/Financeiro",
          "Total/Materiais Básicos",
          "Total/Outros",
          "Total/Petróleo, Gás e Biocombustíveis",
          "Total/Saúde",
          "Total/Tecnologia da Informação",
          "Total/Utilidade Pública",
          "Total/Bens Industriais",
          "Total/Comunicações",
          "Total/Consumo Cíclico",
          "Total/Consumo não Cíclico",
          "Total/Financeiro",
          "Total/Materiais Básicos",
          "Total/Outros",
          "Total/Petróleo, Gás e Biocombustíveis",
          "Total/Saúde",
          "Total/Tecnologia da Informação",
          "Total/Utilidade Pública",
          "Total/Bens Industriais",
          "Total/Comunicações",
          "Total/Consumo Cíclico",
          "Total/Consumo não Cíclico",
          "Total/Financeiro",
          "Total/Materiais Básicos",
          "Total/Outros",
          "Total/Petróleo, Gás e Biocombustíveis",
          "Total/Saúde",
          "Total/Tecnologia da Informação",
          "Total/Utilidade Pública",
          "Total/Bens Industriais",
          "Total/Comunicações",
          "Total/Consumo Cíclico",
          "Total/Consumo não Cíclico",
          "Total/Financeiro",
          "Total/Materiais Básicos",
          "Total/Outros",
          "Total/Petróleo, Gás e Biocombustíveis",
          "Total/Saúde",
          "Total/Tecnologia da Informação",
          "Total/Utilidade Pública",
          "Total/Bens Industriais",
          "Total/Comunicações",
          "Total/Consumo Cíclico",
          "Total/Consumo não Cíclico",
          "Total/Financeiro",
          "Total/Materiais Básicos",
          "Total/Outros",
          "Total/Petróleo, Gás e Biocombustíveis",
          "Total/Saúde",
          "Total/Tecnologia da Informação",
          "Total/Utilidade Pública",
          "Total/Bens Industriais",
          "Total/Comunicações",
          "Total/Consumo Cíclico",
          "Total/Consumo não Cíclico",
          "Total/Financeiro",
          "Total/Materiais Básicos",
          "Total/Outros",
          "Total/Petróleo, Gás e Biocombustíveis",
          "Total/Saúde",
          "Total/Tecnologia da Informação",
          "Total/Utilidade Pública",
          "Total/Bens Industriais",
          "Total/Comunicações",
          "Total/Consumo Cíclico",
          "Total/Consumo não Cíclico",
          "Total/Financeiro",
          "Total/Materiais Básicos",
          "Total/Outros",
          "Total/Petróleo, Gás e Biocombustíveis",
          "Total/Saúde",
          "Total/Tecnologia da Informação",
          "Total/Utilidade Pública",
          "Total/Bens Industriais",
          "Total/Comunicações",
          "Total/Consumo Cíclico",
          "Total/Consumo não Cíclico",
          "Total/Financeiro",
          "Total/Materiais Básicos",
          "Total/Outros",
          "Total/Petróleo, Gás e Biocombustíveis",
          "Total/Saúde",
          "Total/Tecnologia da Informação",
          "Total/Utilidade Pública",
          "Total/Bens Industriais",
          "Total/Comunicações",
          "Total/Consumo Cíclico",
          "Total/Consumo não Cíclico",
          "Total/Financeiro",
          "Total/Materiais Básicos",
          "Total/Outros",
          "Total/Petróleo, Gás e Biocombustíveis",
          "Total/Saúde",
          "Total/Tecnologia da Informação",
          "Total/Utilidade Pública",
          "Total/Bens Industriais",
          "Total/Comunicações",
          "Total/Consumo Cíclico",
          "Total/Consumo não Cíclico",
          "Total/Financeiro",
          "Total/Materiais Básicos",
          "Total/Outros",
          "Total/Petróleo, Gás e Biocombustíveis",
          "Total/Saúde",
          "Total/Tecnologia da Informação",
          "Total/Utilidade Pública",
          "Total/Bens Industriais",
          "Total/Comunicações",
          "Total/Consumo Cíclico",
          "Total/Consumo não Cíclico",
          "Total/Financeiro",
          "Total/Materiais Básicos",
          "Total/Outros",
          "Total/Petróleo, Gás e Biocombustíveis",
          "Total/Saúde",
          "Total/Tecnologia da Informação",
          "Total/Utilidade Pública",
          "Total/Bens Industriais",
          "Total/Comunicações",
          "Total/Consumo Cíclico",
          "Total/Consumo não Cíclico",
          "Total/Financeiro",
          "Total/Materiais Básicos",
          "Total/Outros",
          "Total/Petróleo, Gás e Biocombustíveis",
          "Total/Saúde",
          "Total/Tecnologia da Informação",
          "Total/Utilidade Pública",
          "Total/Bens Industriais",
          "Total/Comunicações",
          "Total/Consumo Cíclico",
          "Total/Consumo não Cíclico",
          "Total/Financeiro",
          "Total/Materiais Básicos",
          "Total/Outros",
          "Total/Petróleo, Gás e Biocombustíveis",
          "Total/Saúde",
          "Total/Tecnologia da Informação",
          "Total/Utilidade Pública",
          "Total/Bens Industriais",
          "Total/Comunicações",
          "Total/Consumo Cíclico",
          "Total/Consumo não Cíclico",
          "Total/Financeiro",
          "Total/Materiais Básicos",
          "Total/Outros",
          "Total/Petróleo, Gás e Biocombustíveis",
          "Total/Saúde",
          "Total/Tecnologia da Informação",
          "Total/Utilidade Pública",
          "Total/Bens Industriais",
          "Total/Comunicações",
          "Total/Consumo Cíclico",
          "Total/Consumo não Cíclico",
          "Total/Financeiro",
          "Total/Materiais Básicos",
          "Total/Outros",
          "Total/Petróleo, Gás e Biocombustíveis",
          "Total/Saúde",
          "Total/Tecnologia da Informação",
          "Total/Utilidade Pública",
          "Total/Bens Industriais",
          "Total/Comunicações",
          "Total/Consumo Cíclico",
          "Total/Consumo não Cíclico",
          "Total/Financeiro",
          "Total/Materiais Básicos",
          "Total/Outros",
          "Total/Petróleo, Gás e Biocombustíveis",
          "Total/Saúde",
          "Total/Tecnologia da Informação",
          "Total/Utilidade Pública",
          "Total/Bens Industriais",
          "Total/Comunicações",
          "Total/Consumo Cíclico",
          "Total/Consumo não Cíclico",
          "Total/Financeiro",
          "Total/Materiais Básicos",
          "Total/Outros",
          "Total/Petróleo, Gás e Biocombustíveis",
          "Total/Saúde",
          "Total/Tecnologia da Informação",
          "Total/Utilidade Pública",
          "Total/Bens Industriais",
          "Total/Comunicações",
          "Total/Consumo Cíclico",
          "Total/Consumo não Cíclico",
          "Total/Financeiro",
          "Total/Materiais Básicos",
          "Total/Outros",
          "Total/Petróleo, Gás e Biocombustíveis",
          "Total/Saúde",
          "Total/Tecnologia da Informação",
          "Total/Utilidade Pública",
          "Total/Bens Industriais",
          "Total/Comunicações",
          "Total/Consumo Cíclico",
          "Total/Consumo não Cíclico",
          "Total/Financeiro",
          "Total/Materiais Básicos",
          "Total/Outros",
          "Total/Petróleo, Gás e Biocombustíveis",
          "Total/Saúde",
          "Total/Tecnologia da Informação",
          "Total/Utilidade Pública",
          "Total/Bens Industriais",
          "Total/Comunicações",
          "Total/Consumo Cíclico",
          "Total/Consumo não Cíclico",
          "Total/Financeiro",
          "Total/Materiais Básicos",
          "Total/Outros",
          "Total/Petróleo, Gás e Biocombustíveis",
          "Total/Saúde",
          "Total/Tecnologia da Informação",
          "Total/Utilidade Pública",
          "Total/Bens Industriais",
          "Total/Comunicações",
          "Total/Consumo Cíclico",
          "Total/Consumo não Cíclico",
          "Total/Financeiro",
          "Total/Materiais Básicos",
          "Total/Outros",
          "Total/Petróleo, Gás e Biocombustíveis",
          "Total/Saúde",
          "Total/Tecnologia da Informação",
          "Total/Utilidade Pública",
          "Total/Bens Industriais",
          "Total/Comunicações",
          "Total/Consumo Cíclico",
          "Total/Consumo não Cíclico",
          "Total/Financeiro",
          "Total/Materiais Básicos",
          "Total/Outros",
          "Total/Petróleo, Gás e Biocombustíveis",
          "Total/Saúde",
          "Total/Tecnologia da Informação",
          "Total/Utilidade Pública",
          "Total/Bens Industriais",
          "Total/Comunicações",
          "Total/Consumo Cíclico",
          "Total/Consumo não Cíclico",
          "Total/Financeiro",
          "Total/Materiais Básicos",
          "Total/Outros",
          "Total/Petróleo, Gás e Biocombustíveis",
          "Total/Saúde",
          "Total/Tecnologia da Informação",
          "Total/Utilidade Pública",
          "Total",
          "Total",
          "Total",
          "Total",
          "Total",
          "Total",
          "Total",
          "Total",
          "Total",
          "Total",
          "Total",
          ""
         ],
         "textinfo": "label+value+percent entry",
         "type": "treemap",
         "values": [
          0,
          0,
          0,
          0,
          0,
          0,
          0,
          0,
          0,
          0,
          0,
          0,
          0,
          0,
          0,
          0,
          22,
          0,
          0,
          3,
          0,
          0,
          0,
          1,
          0,
          0,
          0,
          0,
          0,
          0,
          0,
          0,
          0,
          0,
          0,
          0,
          0,
          3,
          0,
          0,
          0,
          0,
          0,
          0,
          0,
          0,
          0,
          1,
          0,
          0,
          0,
          0,
          0,
          0,
          0,
          0,
          0,
          0,
          0,
          0,
          0,
          0,
          1,
          0,
          0,
          0,
          0,
          0,
          0,
          0,
          0,
          4,
          0,
          0,
          0,
          0,
          0,
          0,
          0,
          0,
          0,
          0,
          0,
          0,
          0,
          0,
          0,
          0,
          0,
          0,
          0,
          0,
          0,
          0,
          0,
          0,
          4,
          0,
          0,
          0,
          0,
          0,
          0,
          0,
          0,
          0,
          0,
          3,
          11,
          0,
          0,
          0,
          0,
          0,
          0,
          0,
          0,
          0,
          0,
          0,
          0,
          0,
          0,
          0,
          0,
          0,
          0,
          0,
          0,
          0,
          0,
          0,
          3,
          0,
          0,
          0,
          0,
          0,
          0,
          0,
          0,
          0,
          0,
          0,
          0,
          1,
          0,
          0,
          1,
          0,
          0,
          0,
          0,
          0,
          5,
          0,
          4,
          0,
          0,
          0,
          0,
          0,
          0,
          0,
          0,
          0,
          0,
          0,
          6,
          0,
          0,
          0,
          0,
          0,
          0,
          0,
          0,
          0,
          0,
          1,
          0,
          0,
          0,
          0,
          0,
          0,
          0,
          0,
          0,
          0,
          0,
          0,
          0,
          0,
          0,
          0,
          3,
          0,
          1,
          0,
          0,
          0,
          0,
          0,
          0,
          0,
          0,
          0,
          0,
          0,
          0,
          0,
          0,
          2,
          0,
          0,
          0,
          0,
          0,
          0,
          0,
          0,
          4,
          0,
          0,
          0,
          0,
          0,
          0,
          0,
          0,
          0,
          0,
          0,
          0,
          0,
          1,
          0,
          0,
          0,
          0,
          0,
          0,
          0,
          0,
          0,
          0,
          0,
          0,
          0,
          0,
          0,
          54,
          1,
          0,
          0,
          0,
          0,
          0,
          0,
          0,
          0,
          0,
          0,
          0,
          0,
          0,
          0,
          0,
          0,
          0,
          0,
          2,
          0,
          0,
          0,
          0,
          0,
          0,
          0,
          0,
          0,
          3,
          0,
          0,
          0,
          0,
          0,
          0,
          0,
          12,
          0,
          0,
          0,
          0,
          0,
          0,
          11,
          0,
          0,
          0,
          0,
          0,
          0,
          0,
          0,
          0,
          0,
          0,
          0,
          0,
          0,
          0,
          0,
          0,
          10,
          0,
          0,
          0,
          0,
          0,
          0,
          0,
          0,
          3,
          0,
          0,
          0,
          0,
          0,
          0,
          0,
          10,
          0,
          0,
          0,
          0,
          0,
          0,
          0,
          0,
          0,
          0,
          0,
          0,
          5,
          0,
          0,
          0,
          0,
          0,
          0,
          0,
          0,
          0,
          0,
          0,
          0,
          0,
          0,
          0,
          0,
          3,
          0,
          0,
          0,
          0,
          3,
          0,
          0,
          0,
          0,
          0,
          0,
          0,
          0,
          1,
          0,
          0,
          0,
          0,
          0,
          0,
          0,
          0,
          0,
          0,
          28,
          0,
          0,
          0,
          0,
          0,
          0,
          0,
          0,
          0,
          0,
          0,
          0,
          2,
          0,
          0,
          0,
          0,
          0,
          0,
          2,
          0,
          0,
          0,
          0,
          0,
          0,
          0,
          0,
          0,
          0,
          0,
          0,
          0,
          0,
          0,
          2,
          0,
          0,
          0,
          0,
          0,
          0,
          0,
          0,
          0,
          0,
          1,
          0,
          0,
          0,
          0,
          0,
          1,
          0,
          0,
          0,
          0,
          0,
          0,
          0,
          0,
          0,
          0,
          7,
          0,
          0,
          0,
          0,
          0,
          0,
          0,
          0,
          0,
          0,
          4,
          0,
          0,
          0,
          0,
          0,
          0,
          0,
          0,
          0,
          0,
          0,
          0,
          0,
          0,
          0,
          0,
          0,
          0,
          11,
          0,
          0,
          0,
          0,
          0,
          0,
          0,
          7,
          0,
          0,
          0,
          0,
          0,
          2,
          0,
          0,
          0,
          0,
          0,
          0,
          0,
          0,
          0,
          0,
          1,
          0,
          0,
          0,
          0,
          0,
          0,
          0,
          0,
          0,
          0,
          11,
          0,
          0,
          0,
          0,
          0,
          0,
          0,
          0,
          0,
          0,
          0,
          0,
          3,
          0,
          0,
          0,
          0,
          0,
          0,
          0,
          0,
          0,
          0,
          0,
          0,
          0,
          0,
          13,
          0,
          0,
          0,
          0,
          0,
          0,
          0,
          0,
          3,
          0,
          0,
          0,
          0,
          0,
          0,
          0,
          0,
          0,
          0,
          0,
          4,
          0,
          0,
          0,
          0,
          0,
          0,
          0,
          0,
          0,
          0,
          2,
          0,
          0,
          0,
          0,
          0,
          0,
          0,
          6,
          0,
          0,
          0,
          0,
          0,
          0,
          0,
          0,
          0,
          0,
          0,
          1,
          0,
          0,
          0,
          0,
          0,
          0,
          0,
          0,
          0,
          0,
          1,
          0,
          0,
          0,
          0,
          0,
          0,
          0,
          3,
          0,
          0,
          0,
          0,
          0,
          0,
          0,
          0,
          0,
          0,
          0,
          0,
          2,
          0,
          0,
          0,
          0,
          0,
          0,
          0,
          0,
          0,
          0,
          1,
          0,
          0,
          0,
          0,
          0,
          0,
          0,
          0,
          0,
          0,
          0,
          0,
          0,
          0,
          0,
          0,
          0,
          13,
          0,
          0,
          1,
          0,
          0,
          0,
          0,
          0,
          0,
          0,
          0,
          0,
          0,
          0,
          0,
          0,
          0,
          2,
          0,
          0,
          0,
          0,
          0,
          0,
          0,
          0,
          0,
          1,
          0,
          0,
          0,
          0,
          0,
          0,
          0,
          0,
          2,
          0,
          0,
          0,
          0,
          0,
          0,
          0,
          0,
          0,
          0,
          0,
          0,
          3,
          0,
          0,
          0,
          0,
          0,
          0,
          0,
          0,
          0,
          0,
          4,
          0,
          0,
          0,
          0,
          0,
          0,
          8,
          0,
          0,
          0,
          0,
          0,
          0,
          0,
          0,
          0,
          0,
          0,
          0,
          6,
          0,
          0,
          0,
          0,
          0,
          0,
          0,
          0,
          0,
          0,
          0,
          0,
          7,
          0,
          0,
          0,
          0,
          0,
          0,
          0,
          0,
          0,
          0,
          0,
          0,
          0,
          0,
          10,
          0,
          0,
          7,
          0,
          0,
          0,
          0,
          0,
          0,
          0,
          0,
          0,
          0,
          0,
          0,
          0,
          0,
          0,
          5,
          0,
          0,
          0,
          0,
          0,
          0,
          0,
          0,
          0,
          2,
          0,
          0,
          0,
          0,
          0,
          0,
          0,
          0,
          0,
          0,
          3,
          0,
          0,
          0,
          0,
          0,
          0,
          0,
          0,
          8,
          0,
          0,
          0,
          0,
          0,
          0,
          0,
          0,
          0,
          8,
          0,
          0,
          0,
          0,
          0,
          0,
          0,
          0,
          0,
          5,
          0,
          0,
          0,
          0,
          0,
          0,
          0,
          0,
          0,
          0,
          3,
          0,
          0,
          0,
          0,
          0,
          0,
          0,
          0,
          0,
          0,
          2,
          0,
          0,
          0,
          0,
          0,
          0,
          0,
          0,
          0,
          0,
          0,
          0,
          1,
          0,
          0,
          0,
          0,
          0,
          0,
          0,
          0,
          0,
          0,
          1,
          0,
          0,
          0,
          0,
          0,
          0,
          0,
          0,
          0,
          0,
          1,
          0,
          0,
          0,
          0,
          0,
          0,
          0,
          0,
          0,
          0,
          0,
          0,
          0,
          0,
          0,
          0,
          0,
          0,
          8,
          70,
          9,
          91,
          32,
          69,
          31,
          13,
          13,
          23,
          16,
          65,
          432
         ]
        }
       ],
       "layout": {
        "legend": {
         "tracegroupgap": 0
        },
        "template": {
         "data": {
          "bar": [
           {
            "error_x": {
             "color": "#f2f5fa"
            },
            "error_y": {
             "color": "#f2f5fa"
            },
            "marker": {
             "line": {
              "color": "rgb(17,17,17)",
              "width": 0.5
             },
             "pattern": {
              "fillmode": "overlay",
              "size": 10,
              "solidity": 0.2
             }
            },
            "type": "bar"
           }
          ],
          "barpolar": [
           {
            "marker": {
             "line": {
              "color": "rgb(17,17,17)",
              "width": 0.5
             },
             "pattern": {
              "fillmode": "overlay",
              "size": 10,
              "solidity": 0.2
             }
            },
            "type": "barpolar"
           }
          ],
          "carpet": [
           {
            "aaxis": {
             "endlinecolor": "#A2B1C6",
             "gridcolor": "#506784",
             "linecolor": "#506784",
             "minorgridcolor": "#506784",
             "startlinecolor": "#A2B1C6"
            },
            "baxis": {
             "endlinecolor": "#A2B1C6",
             "gridcolor": "#506784",
             "linecolor": "#506784",
             "minorgridcolor": "#506784",
             "startlinecolor": "#A2B1C6"
            },
            "type": "carpet"
           }
          ],
          "choropleth": [
           {
            "colorbar": {
             "outlinewidth": 0,
             "ticks": ""
            },
            "type": "choropleth"
           }
          ],
          "contour": [
           {
            "colorbar": {
             "outlinewidth": 0,
             "ticks": ""
            },
            "colorscale": [
             [
              0,
              "#0d0887"
             ],
             [
              0.1111111111111111,
              "#46039f"
             ],
             [
              0.2222222222222222,
              "#7201a8"
             ],
             [
              0.3333333333333333,
              "#9c179e"
             ],
             [
              0.4444444444444444,
              "#bd3786"
             ],
             [
              0.5555555555555556,
              "#d8576b"
             ],
             [
              0.6666666666666666,
              "#ed7953"
             ],
             [
              0.7777777777777778,
              "#fb9f3a"
             ],
             [
              0.8888888888888888,
              "#fdca26"
             ],
             [
              1,
              "#f0f921"
             ]
            ],
            "type": "contour"
           }
          ],
          "contourcarpet": [
           {
            "colorbar": {
             "outlinewidth": 0,
             "ticks": ""
            },
            "type": "contourcarpet"
           }
          ],
          "heatmap": [
           {
            "colorbar": {
             "outlinewidth": 0,
             "ticks": ""
            },
            "colorscale": [
             [
              0,
              "#0d0887"
             ],
             [
              0.1111111111111111,
              "#46039f"
             ],
             [
              0.2222222222222222,
              "#7201a8"
             ],
             [
              0.3333333333333333,
              "#9c179e"
             ],
             [
              0.4444444444444444,
              "#bd3786"
             ],
             [
              0.5555555555555556,
              "#d8576b"
             ],
             [
              0.6666666666666666,
              "#ed7953"
             ],
             [
              0.7777777777777778,
              "#fb9f3a"
             ],
             [
              0.8888888888888888,
              "#fdca26"
             ],
             [
              1,
              "#f0f921"
             ]
            ],
            "type": "heatmap"
           }
          ],
          "heatmapgl": [
           {
            "colorbar": {
             "outlinewidth": 0,
             "ticks": ""
            },
            "colorscale": [
             [
              0,
              "#0d0887"
             ],
             [
              0.1111111111111111,
              "#46039f"
             ],
             [
              0.2222222222222222,
              "#7201a8"
             ],
             [
              0.3333333333333333,
              "#9c179e"
             ],
             [
              0.4444444444444444,
              "#bd3786"
             ],
             [
              0.5555555555555556,
              "#d8576b"
             ],
             [
              0.6666666666666666,
              "#ed7953"
             ],
             [
              0.7777777777777778,
              "#fb9f3a"
             ],
             [
              0.8888888888888888,
              "#fdca26"
             ],
             [
              1,
              "#f0f921"
             ]
            ],
            "type": "heatmapgl"
           }
          ],
          "histogram": [
           {
            "marker": {
             "pattern": {
              "fillmode": "overlay",
              "size": 10,
              "solidity": 0.2
             }
            },
            "type": "histogram"
           }
          ],
          "histogram2d": [
           {
            "colorbar": {
             "outlinewidth": 0,
             "ticks": ""
            },
            "colorscale": [
             [
              0,
              "#0d0887"
             ],
             [
              0.1111111111111111,
              "#46039f"
             ],
             [
              0.2222222222222222,
              "#7201a8"
             ],
             [
              0.3333333333333333,
              "#9c179e"
             ],
             [
              0.4444444444444444,
              "#bd3786"
             ],
             [
              0.5555555555555556,
              "#d8576b"
             ],
             [
              0.6666666666666666,
              "#ed7953"
             ],
             [
              0.7777777777777778,
              "#fb9f3a"
             ],
             [
              0.8888888888888888,
              "#fdca26"
             ],
             [
              1,
              "#f0f921"
             ]
            ],
            "type": "histogram2d"
           }
          ],
          "histogram2dcontour": [
           {
            "colorbar": {
             "outlinewidth": 0,
             "ticks": ""
            },
            "colorscale": [
             [
              0,
              "#0d0887"
             ],
             [
              0.1111111111111111,
              "#46039f"
             ],
             [
              0.2222222222222222,
              "#7201a8"
             ],
             [
              0.3333333333333333,
              "#9c179e"
             ],
             [
              0.4444444444444444,
              "#bd3786"
             ],
             [
              0.5555555555555556,
              "#d8576b"
             ],
             [
              0.6666666666666666,
              "#ed7953"
             ],
             [
              0.7777777777777778,
              "#fb9f3a"
             ],
             [
              0.8888888888888888,
              "#fdca26"
             ],
             [
              1,
              "#f0f921"
             ]
            ],
            "type": "histogram2dcontour"
           }
          ],
          "mesh3d": [
           {
            "colorbar": {
             "outlinewidth": 0,
             "ticks": ""
            },
            "type": "mesh3d"
           }
          ],
          "parcoords": [
           {
            "line": {
             "colorbar": {
              "outlinewidth": 0,
              "ticks": ""
             }
            },
            "type": "parcoords"
           }
          ],
          "pie": [
           {
            "automargin": true,
            "type": "pie"
           }
          ],
          "scatter": [
           {
            "marker": {
             "line": {
              "color": "#283442"
             }
            },
            "type": "scatter"
           }
          ],
          "scatter3d": [
           {
            "line": {
             "colorbar": {
              "outlinewidth": 0,
              "ticks": ""
             }
            },
            "marker": {
             "colorbar": {
              "outlinewidth": 0,
              "ticks": ""
             }
            },
            "type": "scatter3d"
           }
          ],
          "scattercarpet": [
           {
            "marker": {
             "colorbar": {
              "outlinewidth": 0,
              "ticks": ""
             }
            },
            "type": "scattercarpet"
           }
          ],
          "scattergeo": [
           {
            "marker": {
             "colorbar": {
              "outlinewidth": 0,
              "ticks": ""
             }
            },
            "type": "scattergeo"
           }
          ],
          "scattergl": [
           {
            "marker": {
             "line": {
              "color": "#283442"
             }
            },
            "type": "scattergl"
           }
          ],
          "scattermapbox": [
           {
            "marker": {
             "colorbar": {
              "outlinewidth": 0,
              "ticks": ""
             }
            },
            "type": "scattermapbox"
           }
          ],
          "scatterpolar": [
           {
            "marker": {
             "colorbar": {
              "outlinewidth": 0,
              "ticks": ""
             }
            },
            "type": "scatterpolar"
           }
          ],
          "scatterpolargl": [
           {
            "marker": {
             "colorbar": {
              "outlinewidth": 0,
              "ticks": ""
             }
            },
            "type": "scatterpolargl"
           }
          ],
          "scatterternary": [
           {
            "marker": {
             "colorbar": {
              "outlinewidth": 0,
              "ticks": ""
             }
            },
            "type": "scatterternary"
           }
          ],
          "surface": [
           {
            "colorbar": {
             "outlinewidth": 0,
             "ticks": ""
            },
            "colorscale": [
             [
              0,
              "#0d0887"
             ],
             [
              0.1111111111111111,
              "#46039f"
             ],
             [
              0.2222222222222222,
              "#7201a8"
             ],
             [
              0.3333333333333333,
              "#9c179e"
             ],
             [
              0.4444444444444444,
              "#bd3786"
             ],
             [
              0.5555555555555556,
              "#d8576b"
             ],
             [
              0.6666666666666666,
              "#ed7953"
             ],
             [
              0.7777777777777778,
              "#fb9f3a"
             ],
             [
              0.8888888888888888,
              "#fdca26"
             ],
             [
              1,
              "#f0f921"
             ]
            ],
            "type": "surface"
           }
          ],
          "table": [
           {
            "cells": {
             "fill": {
              "color": "#506784"
             },
             "line": {
              "color": "rgb(17,17,17)"
             }
            },
            "header": {
             "fill": {
              "color": "#2a3f5f"
             },
             "line": {
              "color": "rgb(17,17,17)"
             }
            },
            "type": "table"
           }
          ]
         },
         "layout": {
          "annotationdefaults": {
           "arrowcolor": "#f2f5fa",
           "arrowhead": 0,
           "arrowwidth": 1
          },
          "autotypenumbers": "strict",
          "coloraxis": {
           "colorbar": {
            "outlinewidth": 0,
            "ticks": ""
           }
          },
          "colorscale": {
           "diverging": [
            [
             0,
             "#8e0152"
            ],
            [
             0.1,
             "#c51b7d"
            ],
            [
             0.2,
             "#de77ae"
            ],
            [
             0.3,
             "#f1b6da"
            ],
            [
             0.4,
             "#fde0ef"
            ],
            [
             0.5,
             "#f7f7f7"
            ],
            [
             0.6,
             "#e6f5d0"
            ],
            [
             0.7,
             "#b8e186"
            ],
            [
             0.8,
             "#7fbc41"
            ],
            [
             0.9,
             "#4d9221"
            ],
            [
             1,
             "#276419"
            ]
           ],
           "sequential": [
            [
             0,
             "#0d0887"
            ],
            [
             0.1111111111111111,
             "#46039f"
            ],
            [
             0.2222222222222222,
             "#7201a8"
            ],
            [
             0.3333333333333333,
             "#9c179e"
            ],
            [
             0.4444444444444444,
             "#bd3786"
            ],
            [
             0.5555555555555556,
             "#d8576b"
            ],
            [
             0.6666666666666666,
             "#ed7953"
            ],
            [
             0.7777777777777778,
             "#fb9f3a"
            ],
            [
             0.8888888888888888,
             "#fdca26"
            ],
            [
             1,
             "#f0f921"
            ]
           ],
           "sequentialminus": [
            [
             0,
             "#0d0887"
            ],
            [
             0.1111111111111111,
             "#46039f"
            ],
            [
             0.2222222222222222,
             "#7201a8"
            ],
            [
             0.3333333333333333,
             "#9c179e"
            ],
            [
             0.4444444444444444,
             "#bd3786"
            ],
            [
             0.5555555555555556,
             "#d8576b"
            ],
            [
             0.6666666666666666,
             "#ed7953"
            ],
            [
             0.7777777777777778,
             "#fb9f3a"
            ],
            [
             0.8888888888888888,
             "#fdca26"
            ],
            [
             1,
             "#f0f921"
            ]
           ]
          },
          "colorway": [
           "#636efa",
           "#EF553B",
           "#00cc96",
           "#ab63fa",
           "#FFA15A",
           "#19d3f3",
           "#FF6692",
           "#B6E880",
           "#FF97FF",
           "#FECB52"
          ],
          "font": {
           "color": "#f2f5fa"
          },
          "geo": {
           "bgcolor": "rgb(17,17,17)",
           "lakecolor": "rgb(17,17,17)",
           "landcolor": "rgb(17,17,17)",
           "showlakes": true,
           "showland": true,
           "subunitcolor": "#506784"
          },
          "hoverlabel": {
           "align": "left"
          },
          "hovermode": "closest",
          "mapbox": {
           "style": "dark"
          },
          "paper_bgcolor": "rgb(17,17,17)",
          "plot_bgcolor": "rgb(17,17,17)",
          "polar": {
           "angularaxis": {
            "gridcolor": "#506784",
            "linecolor": "#506784",
            "ticks": ""
           },
           "bgcolor": "rgb(17,17,17)",
           "radialaxis": {
            "gridcolor": "#506784",
            "linecolor": "#506784",
            "ticks": ""
           }
          },
          "scene": {
           "xaxis": {
            "backgroundcolor": "rgb(17,17,17)",
            "gridcolor": "#506784",
            "gridwidth": 2,
            "linecolor": "#506784",
            "showbackground": true,
            "ticks": "",
            "zerolinecolor": "#C8D4E3"
           },
           "yaxis": {
            "backgroundcolor": "rgb(17,17,17)",
            "gridcolor": "#506784",
            "gridwidth": 2,
            "linecolor": "#506784",
            "showbackground": true,
            "ticks": "",
            "zerolinecolor": "#C8D4E3"
           },
           "zaxis": {
            "backgroundcolor": "rgb(17,17,17)",
            "gridcolor": "#506784",
            "gridwidth": 2,
            "linecolor": "#506784",
            "showbackground": true,
            "ticks": "",
            "zerolinecolor": "#C8D4E3"
           }
          },
          "shapedefaults": {
           "line": {
            "color": "#f2f5fa"
           }
          },
          "sliderdefaults": {
           "bgcolor": "#C8D4E3",
           "bordercolor": "rgb(17,17,17)",
           "borderwidth": 1,
           "tickwidth": 0
          },
          "ternary": {
           "aaxis": {
            "gridcolor": "#506784",
            "linecolor": "#506784",
            "ticks": ""
           },
           "baxis": {
            "gridcolor": "#506784",
            "linecolor": "#506784",
            "ticks": ""
           },
           "bgcolor": "rgb(17,17,17)",
           "caxis": {
            "gridcolor": "#506784",
            "linecolor": "#506784",
            "ticks": ""
           }
          },
          "title": {
           "x": 0.05
          },
          "updatemenudefaults": {
           "bgcolor": "#506784",
           "borderwidth": 0
          },
          "xaxis": {
           "automargin": true,
           "gridcolor": "#283442",
           "linecolor": "#506784",
           "ticks": "",
           "title": {
            "standoff": 15
           },
           "zerolinecolor": "#283442",
           "zerolinewidth": 2
          },
          "yaxis": {
           "automargin": true,
           "gridcolor": "#283442",
           "linecolor": "#506784",
           "ticks": "",
           "title": {
            "standoff": 15
           },
           "zerolinecolor": "#283442",
           "zerolinewidth": 2
          }
         }
        },
        "title": {
         "text": "Quantidade relativa de empresas por setor e segmento"
        }
       }
      }
     },
     "metadata": {},
     "output_type": "display_data"
    }
   ],
   "source": [
    "# Plot gráfico da frequência absoluta/relativa das variáveis\n",
    "fig = px.treemap(data_frame=f,\n",
    "                 title='Quantidade relativa de empresas por setor e segmento',\n",
    "                 path=[px.Constant('Total'), 'SETOR', 'SEGMENTO'], \n",
    "                 values='QTD', \n",
    "                 template='plotly_dark',\n",
    "                 color='SETOR')\n",
    "fig.update_traces(hovertemplate=None, hoverinfo='label+value+percent entry', textinfo='label+value+percent entry')\n",
    "fig.show()"
   ]
  },
  {
   "cell_type": "code",
   "execution_count": 35,
   "metadata": {},
   "outputs": [
    {
     "name": "stderr",
     "output_type": "stream",
     "text": [
      "c:\\Users\\adria\\anaconda3\\Lib\\site-packages\\plotly\\express\\_core.py:1958: FutureWarning:\n",
      "\n",
      "The default of observed=False is deprecated and will be changed to True in a future version of pandas. Pass observed=False to retain current behavior or observed=True to adopt the future default and silence this warning.\n",
      "\n"
     ]
    },
    {
     "data": {
      "application/vnd.plotly.v1+json": {
       "config": {
        "plotlyServerURL": "https://plot.ly"
       },
       "data": [
        {
         "alignmentgroup": "True",
         "legendgroup": "Consumo Cíclico",
         "marker": {
          "color": "#636efa",
          "pattern": {
           "shape": ""
          }
         },
         "name": "Consumo Cíclico",
         "offsetgroup": "Consumo Cíclico",
         "orientation": "h",
         "showlegend": true,
         "textposition": "auto",
         "texttemplate": "%{x}",
         "type": "bar",
         "x": [
          21
         ],
         "xaxis": "x",
         "y": [
          "Consumo Cíclico"
         ],
         "yaxis": "y"
        },
        {
         "alignmentgroup": "True",
         "legendgroup": "Bens Industriais",
         "marker": {
          "color": "#EF553B",
          "pattern": {
           "shape": ""
          }
         },
         "name": "Bens Industriais",
         "offsetgroup": "Bens Industriais",
         "orientation": "h",
         "showlegend": true,
         "textposition": "auto",
         "texttemplate": "%{x}",
         "type": "bar",
         "x": [
          17
         ],
         "xaxis": "x",
         "y": [
          "Bens Industriais"
         ],
         "yaxis": "y"
        },
        {
         "alignmentgroup": "True",
         "legendgroup": "Financeiro",
         "marker": {
          "color": "#00cc96",
          "pattern": {
           "shape": ""
          }
         },
         "name": "Financeiro",
         "offsetgroup": "Financeiro",
         "orientation": "h",
         "showlegend": true,
         "textposition": "auto",
         "texttemplate": "%{x}",
         "type": "bar",
         "x": [
          13
         ],
         "xaxis": "x",
         "y": [
          "Financeiro"
         ],
         "yaxis": "y"
        },
        {
         "alignmentgroup": "True",
         "legendgroup": "Materiais Básicos",
         "marker": {
          "color": "#ab63fa",
          "pattern": {
           "shape": ""
          }
         },
         "name": "Materiais Básicos",
         "offsetgroup": "Materiais Básicos",
         "orientation": "h",
         "showlegend": true,
         "textposition": "auto",
         "texttemplate": "%{x}",
         "type": "bar",
         "x": [
          11
         ],
         "xaxis": "x",
         "y": [
          "Materiais Básicos"
         ],
         "yaxis": "y"
        },
        {
         "alignmentgroup": "True",
         "legendgroup": "Consumo não Cíclico",
         "marker": {
          "color": "#FFA15A",
          "pattern": {
           "shape": ""
          }
         },
         "name": "Consumo não Cíclico",
         "offsetgroup": "Consumo não Cíclico",
         "orientation": "h",
         "showlegend": true,
         "textposition": "auto",
         "texttemplate": "%{x}",
         "type": "bar",
         "x": [
          8
         ],
         "xaxis": "x",
         "y": [
          "Consumo não Cíclico"
         ],
         "yaxis": "y"
        },
        {
         "alignmentgroup": "True",
         "legendgroup": "Saúde",
         "marker": {
          "color": "#19d3f3",
          "pattern": {
           "shape": ""
          }
         },
         "name": "Saúde",
         "offsetgroup": "Saúde",
         "orientation": "h",
         "showlegend": true,
         "textposition": "auto",
         "texttemplate": "%{x}",
         "type": "bar",
         "x": [
          3
         ],
         "xaxis": "x",
         "y": [
          "Saúde"
         ],
         "yaxis": "y"
        },
        {
         "alignmentgroup": "True",
         "legendgroup": "Utilidade Pública",
         "marker": {
          "color": "#FF6692",
          "pattern": {
           "shape": ""
          }
         },
         "name": "Utilidade Pública",
         "offsetgroup": "Utilidade Pública",
         "orientation": "h",
         "showlegend": true,
         "textposition": "auto",
         "texttemplate": "%{x}",
         "type": "bar",
         "x": [
          3
         ],
         "xaxis": "x",
         "y": [
          "Utilidade Pública"
         ],
         "yaxis": "y"
        },
        {
         "alignmentgroup": "True",
         "legendgroup": "Comunicações",
         "marker": {
          "color": "#B6E880",
          "pattern": {
           "shape": ""
          }
         },
         "name": "Comunicações",
         "offsetgroup": "Comunicações",
         "orientation": "h",
         "showlegend": true,
         "textposition": "auto",
         "texttemplate": "%{x}",
         "type": "bar",
         "x": [
          2
         ],
         "xaxis": "x",
         "y": [
          "Comunicações"
         ],
         "yaxis": "y"
        },
        {
         "alignmentgroup": "True",
         "legendgroup": "Petróleo, Gás e Biocombustíveis",
         "marker": {
          "color": "#FF97FF",
          "pattern": {
           "shape": ""
          }
         },
         "name": "Petróleo, Gás e Biocombustíveis",
         "offsetgroup": "Petróleo, Gás e Biocombustíveis",
         "orientation": "h",
         "showlegend": true,
         "textposition": "auto",
         "texttemplate": "%{x}",
         "type": "bar",
         "x": [
          2
         ],
         "xaxis": "x",
         "y": [
          "Petróleo, Gás e Biocombustíveis"
         ],
         "yaxis": "y"
        },
        {
         "alignmentgroup": "True",
         "legendgroup": "Tecnologia da Informação",
         "marker": {
          "color": "#FECB52",
          "pattern": {
           "shape": ""
          }
         },
         "name": "Tecnologia da Informação",
         "offsetgroup": "Tecnologia da Informação",
         "orientation": "h",
         "showlegend": true,
         "textposition": "auto",
         "texttemplate": "%{x}",
         "type": "bar",
         "x": [
          2
         ],
         "xaxis": "x",
         "y": [
          "Tecnologia da Informação"
         ],
         "yaxis": "y"
        },
        {
         "alignmentgroup": "True",
         "legendgroup": "Outros",
         "marker": {
          "color": "#636efa",
          "pattern": {
           "shape": ""
          }
         },
         "name": "Outros",
         "offsetgroup": "Outros",
         "orientation": "h",
         "showlegend": true,
         "textposition": "auto",
         "texttemplate": "%{x}",
         "type": "bar",
         "x": [
          1
         ],
         "xaxis": "x",
         "y": [
          "Outros"
         ],
         "yaxis": "y"
        }
       ],
       "layout": {
        "barmode": "relative",
        "hovermode": "y",
        "legend": {
         "title": {
          "text": "SETOR"
         },
         "tracegroupgap": 0
        },
        "showlegend": false,
        "template": {
         "data": {
          "bar": [
           {
            "error_x": {
             "color": "#f2f5fa"
            },
            "error_y": {
             "color": "#f2f5fa"
            },
            "marker": {
             "line": {
              "color": "rgb(17,17,17)",
              "width": 0.5
             },
             "pattern": {
              "fillmode": "overlay",
              "size": 10,
              "solidity": 0.2
             }
            },
            "type": "bar"
           }
          ],
          "barpolar": [
           {
            "marker": {
             "line": {
              "color": "rgb(17,17,17)",
              "width": 0.5
             },
             "pattern": {
              "fillmode": "overlay",
              "size": 10,
              "solidity": 0.2
             }
            },
            "type": "barpolar"
           }
          ],
          "carpet": [
           {
            "aaxis": {
             "endlinecolor": "#A2B1C6",
             "gridcolor": "#506784",
             "linecolor": "#506784",
             "minorgridcolor": "#506784",
             "startlinecolor": "#A2B1C6"
            },
            "baxis": {
             "endlinecolor": "#A2B1C6",
             "gridcolor": "#506784",
             "linecolor": "#506784",
             "minorgridcolor": "#506784",
             "startlinecolor": "#A2B1C6"
            },
            "type": "carpet"
           }
          ],
          "choropleth": [
           {
            "colorbar": {
             "outlinewidth": 0,
             "ticks": ""
            },
            "type": "choropleth"
           }
          ],
          "contour": [
           {
            "colorbar": {
             "outlinewidth": 0,
             "ticks": ""
            },
            "colorscale": [
             [
              0,
              "#0d0887"
             ],
             [
              0.1111111111111111,
              "#46039f"
             ],
             [
              0.2222222222222222,
              "#7201a8"
             ],
             [
              0.3333333333333333,
              "#9c179e"
             ],
             [
              0.4444444444444444,
              "#bd3786"
             ],
             [
              0.5555555555555556,
              "#d8576b"
             ],
             [
              0.6666666666666666,
              "#ed7953"
             ],
             [
              0.7777777777777778,
              "#fb9f3a"
             ],
             [
              0.8888888888888888,
              "#fdca26"
             ],
             [
              1,
              "#f0f921"
             ]
            ],
            "type": "contour"
           }
          ],
          "contourcarpet": [
           {
            "colorbar": {
             "outlinewidth": 0,
             "ticks": ""
            },
            "type": "contourcarpet"
           }
          ],
          "heatmap": [
           {
            "colorbar": {
             "outlinewidth": 0,
             "ticks": ""
            },
            "colorscale": [
             [
              0,
              "#0d0887"
             ],
             [
              0.1111111111111111,
              "#46039f"
             ],
             [
              0.2222222222222222,
              "#7201a8"
             ],
             [
              0.3333333333333333,
              "#9c179e"
             ],
             [
              0.4444444444444444,
              "#bd3786"
             ],
             [
              0.5555555555555556,
              "#d8576b"
             ],
             [
              0.6666666666666666,
              "#ed7953"
             ],
             [
              0.7777777777777778,
              "#fb9f3a"
             ],
             [
              0.8888888888888888,
              "#fdca26"
             ],
             [
              1,
              "#f0f921"
             ]
            ],
            "type": "heatmap"
           }
          ],
          "heatmapgl": [
           {
            "colorbar": {
             "outlinewidth": 0,
             "ticks": ""
            },
            "colorscale": [
             [
              0,
              "#0d0887"
             ],
             [
              0.1111111111111111,
              "#46039f"
             ],
             [
              0.2222222222222222,
              "#7201a8"
             ],
             [
              0.3333333333333333,
              "#9c179e"
             ],
             [
              0.4444444444444444,
              "#bd3786"
             ],
             [
              0.5555555555555556,
              "#d8576b"
             ],
             [
              0.6666666666666666,
              "#ed7953"
             ],
             [
              0.7777777777777778,
              "#fb9f3a"
             ],
             [
              0.8888888888888888,
              "#fdca26"
             ],
             [
              1,
              "#f0f921"
             ]
            ],
            "type": "heatmapgl"
           }
          ],
          "histogram": [
           {
            "marker": {
             "pattern": {
              "fillmode": "overlay",
              "size": 10,
              "solidity": 0.2
             }
            },
            "type": "histogram"
           }
          ],
          "histogram2d": [
           {
            "colorbar": {
             "outlinewidth": 0,
             "ticks": ""
            },
            "colorscale": [
             [
              0,
              "#0d0887"
             ],
             [
              0.1111111111111111,
              "#46039f"
             ],
             [
              0.2222222222222222,
              "#7201a8"
             ],
             [
              0.3333333333333333,
              "#9c179e"
             ],
             [
              0.4444444444444444,
              "#bd3786"
             ],
             [
              0.5555555555555556,
              "#d8576b"
             ],
             [
              0.6666666666666666,
              "#ed7953"
             ],
             [
              0.7777777777777778,
              "#fb9f3a"
             ],
             [
              0.8888888888888888,
              "#fdca26"
             ],
             [
              1,
              "#f0f921"
             ]
            ],
            "type": "histogram2d"
           }
          ],
          "histogram2dcontour": [
           {
            "colorbar": {
             "outlinewidth": 0,
             "ticks": ""
            },
            "colorscale": [
             [
              0,
              "#0d0887"
             ],
             [
              0.1111111111111111,
              "#46039f"
             ],
             [
              0.2222222222222222,
              "#7201a8"
             ],
             [
              0.3333333333333333,
              "#9c179e"
             ],
             [
              0.4444444444444444,
              "#bd3786"
             ],
             [
              0.5555555555555556,
              "#d8576b"
             ],
             [
              0.6666666666666666,
              "#ed7953"
             ],
             [
              0.7777777777777778,
              "#fb9f3a"
             ],
             [
              0.8888888888888888,
              "#fdca26"
             ],
             [
              1,
              "#f0f921"
             ]
            ],
            "type": "histogram2dcontour"
           }
          ],
          "mesh3d": [
           {
            "colorbar": {
             "outlinewidth": 0,
             "ticks": ""
            },
            "type": "mesh3d"
           }
          ],
          "parcoords": [
           {
            "line": {
             "colorbar": {
              "outlinewidth": 0,
              "ticks": ""
             }
            },
            "type": "parcoords"
           }
          ],
          "pie": [
           {
            "automargin": true,
            "type": "pie"
           }
          ],
          "scatter": [
           {
            "marker": {
             "line": {
              "color": "#283442"
             }
            },
            "type": "scatter"
           }
          ],
          "scatter3d": [
           {
            "line": {
             "colorbar": {
              "outlinewidth": 0,
              "ticks": ""
             }
            },
            "marker": {
             "colorbar": {
              "outlinewidth": 0,
              "ticks": ""
             }
            },
            "type": "scatter3d"
           }
          ],
          "scattercarpet": [
           {
            "marker": {
             "colorbar": {
              "outlinewidth": 0,
              "ticks": ""
             }
            },
            "type": "scattercarpet"
           }
          ],
          "scattergeo": [
           {
            "marker": {
             "colorbar": {
              "outlinewidth": 0,
              "ticks": ""
             }
            },
            "type": "scattergeo"
           }
          ],
          "scattergl": [
           {
            "marker": {
             "line": {
              "color": "#283442"
             }
            },
            "type": "scattergl"
           }
          ],
          "scattermapbox": [
           {
            "marker": {
             "colorbar": {
              "outlinewidth": 0,
              "ticks": ""
             }
            },
            "type": "scattermapbox"
           }
          ],
          "scatterpolar": [
           {
            "marker": {
             "colorbar": {
              "outlinewidth": 0,
              "ticks": ""
             }
            },
            "type": "scatterpolar"
           }
          ],
          "scatterpolargl": [
           {
            "marker": {
             "colorbar": {
              "outlinewidth": 0,
              "ticks": ""
             }
            },
            "type": "scatterpolargl"
           }
          ],
          "scatterternary": [
           {
            "marker": {
             "colorbar": {
              "outlinewidth": 0,
              "ticks": ""
             }
            },
            "type": "scatterternary"
           }
          ],
          "surface": [
           {
            "colorbar": {
             "outlinewidth": 0,
             "ticks": ""
            },
            "colorscale": [
             [
              0,
              "#0d0887"
             ],
             [
              0.1111111111111111,
              "#46039f"
             ],
             [
              0.2222222222222222,
              "#7201a8"
             ],
             [
              0.3333333333333333,
              "#9c179e"
             ],
             [
              0.4444444444444444,
              "#bd3786"
             ],
             [
              0.5555555555555556,
              "#d8576b"
             ],
             [
              0.6666666666666666,
              "#ed7953"
             ],
             [
              0.7777777777777778,
              "#fb9f3a"
             ],
             [
              0.8888888888888888,
              "#fdca26"
             ],
             [
              1,
              "#f0f921"
             ]
            ],
            "type": "surface"
           }
          ],
          "table": [
           {
            "cells": {
             "fill": {
              "color": "#506784"
             },
             "line": {
              "color": "rgb(17,17,17)"
             }
            },
            "header": {
             "fill": {
              "color": "#2a3f5f"
             },
             "line": {
              "color": "rgb(17,17,17)"
             }
            },
            "type": "table"
           }
          ]
         },
         "layout": {
          "annotationdefaults": {
           "arrowcolor": "#f2f5fa",
           "arrowhead": 0,
           "arrowwidth": 1
          },
          "autotypenumbers": "strict",
          "coloraxis": {
           "colorbar": {
            "outlinewidth": 0,
            "ticks": ""
           }
          },
          "colorscale": {
           "diverging": [
            [
             0,
             "#8e0152"
            ],
            [
             0.1,
             "#c51b7d"
            ],
            [
             0.2,
             "#de77ae"
            ],
            [
             0.3,
             "#f1b6da"
            ],
            [
             0.4,
             "#fde0ef"
            ],
            [
             0.5,
             "#f7f7f7"
            ],
            [
             0.6,
             "#e6f5d0"
            ],
            [
             0.7,
             "#b8e186"
            ],
            [
             0.8,
             "#7fbc41"
            ],
            [
             0.9,
             "#4d9221"
            ],
            [
             1,
             "#276419"
            ]
           ],
           "sequential": [
            [
             0,
             "#0d0887"
            ],
            [
             0.1111111111111111,
             "#46039f"
            ],
            [
             0.2222222222222222,
             "#7201a8"
            ],
            [
             0.3333333333333333,
             "#9c179e"
            ],
            [
             0.4444444444444444,
             "#bd3786"
            ],
            [
             0.5555555555555556,
             "#d8576b"
            ],
            [
             0.6666666666666666,
             "#ed7953"
            ],
            [
             0.7777777777777778,
             "#fb9f3a"
            ],
            [
             0.8888888888888888,
             "#fdca26"
            ],
            [
             1,
             "#f0f921"
            ]
           ],
           "sequentialminus": [
            [
             0,
             "#0d0887"
            ],
            [
             0.1111111111111111,
             "#46039f"
            ],
            [
             0.2222222222222222,
             "#7201a8"
            ],
            [
             0.3333333333333333,
             "#9c179e"
            ],
            [
             0.4444444444444444,
             "#bd3786"
            ],
            [
             0.5555555555555556,
             "#d8576b"
            ],
            [
             0.6666666666666666,
             "#ed7953"
            ],
            [
             0.7777777777777778,
             "#fb9f3a"
            ],
            [
             0.8888888888888888,
             "#fdca26"
            ],
            [
             1,
             "#f0f921"
            ]
           ]
          },
          "colorway": [
           "#636efa",
           "#EF553B",
           "#00cc96",
           "#ab63fa",
           "#FFA15A",
           "#19d3f3",
           "#FF6692",
           "#B6E880",
           "#FF97FF",
           "#FECB52"
          ],
          "font": {
           "color": "#f2f5fa"
          },
          "geo": {
           "bgcolor": "rgb(17,17,17)",
           "lakecolor": "rgb(17,17,17)",
           "landcolor": "rgb(17,17,17)",
           "showlakes": true,
           "showland": true,
           "subunitcolor": "#506784"
          },
          "hoverlabel": {
           "align": "left"
          },
          "hovermode": "closest",
          "mapbox": {
           "style": "dark"
          },
          "paper_bgcolor": "rgb(17,17,17)",
          "plot_bgcolor": "rgb(17,17,17)",
          "polar": {
           "angularaxis": {
            "gridcolor": "#506784",
            "linecolor": "#506784",
            "ticks": ""
           },
           "bgcolor": "rgb(17,17,17)",
           "radialaxis": {
            "gridcolor": "#506784",
            "linecolor": "#506784",
            "ticks": ""
           }
          },
          "scene": {
           "xaxis": {
            "backgroundcolor": "rgb(17,17,17)",
            "gridcolor": "#506784",
            "gridwidth": 2,
            "linecolor": "#506784",
            "showbackground": true,
            "ticks": "",
            "zerolinecolor": "#C8D4E3"
           },
           "yaxis": {
            "backgroundcolor": "rgb(17,17,17)",
            "gridcolor": "#506784",
            "gridwidth": 2,
            "linecolor": "#506784",
            "showbackground": true,
            "ticks": "",
            "zerolinecolor": "#C8D4E3"
           },
           "zaxis": {
            "backgroundcolor": "rgb(17,17,17)",
            "gridcolor": "#506784",
            "gridwidth": 2,
            "linecolor": "#506784",
            "showbackground": true,
            "ticks": "",
            "zerolinecolor": "#C8D4E3"
           }
          },
          "shapedefaults": {
           "line": {
            "color": "#f2f5fa"
           }
          },
          "sliderdefaults": {
           "bgcolor": "#C8D4E3",
           "bordercolor": "rgb(17,17,17)",
           "borderwidth": 1,
           "tickwidth": 0
          },
          "ternary": {
           "aaxis": {
            "gridcolor": "#506784",
            "linecolor": "#506784",
            "ticks": ""
           },
           "baxis": {
            "gridcolor": "#506784",
            "linecolor": "#506784",
            "ticks": ""
           },
           "bgcolor": "rgb(17,17,17)",
           "caxis": {
            "gridcolor": "#506784",
            "linecolor": "#506784",
            "ticks": ""
           }
          },
          "title": {
           "x": 0.05
          },
          "updatemenudefaults": {
           "bgcolor": "#506784",
           "borderwidth": 0
          },
          "xaxis": {
           "automargin": true,
           "gridcolor": "#283442",
           "linecolor": "#506784",
           "ticks": "",
           "title": {
            "standoff": 15
           },
           "zerolinecolor": "#283442",
           "zerolinewidth": 2
          },
          "yaxis": {
           "automargin": true,
           "gridcolor": "#283442",
           "linecolor": "#506784",
           "ticks": "",
           "title": {
            "standoff": 15
           },
           "zerolinecolor": "#283442",
           "zerolinewidth": 2
          }
         }
        },
        "title": {
         "text": "Quantidade de segmentos por setor"
        },
        "xaxis": {
         "anchor": "y",
         "domain": [
          0,
          1
         ],
         "title": {
          "text": "Quantidade"
         }
        },
        "yaxis": {
         "anchor": "x",
         "categoryarray": [
          "Outros",
          "Tecnologia da Informação",
          "Petróleo, Gás e Biocombustíveis",
          "Comunicações",
          "Utilidade Pública",
          "Saúde",
          "Consumo não Cíclico",
          "Materiais Básicos",
          "Financeiro",
          "Bens Industriais",
          "Consumo Cíclico"
         ],
         "categoryorder": "array",
         "domain": [
          0,
          1
         ],
         "title": {
          "text": "SETOR"
         }
        }
       }
      }
     },
     "metadata": {},
     "output_type": "display_data"
    }
   ],
   "source": [
    "# Plot gráfico da frequência absoluta da variável\n",
    "fig = px.bar(template=\"plotly_dark\",\n",
    "             title= 'Quantidade de segmentos por setor', \n",
    "             data_frame=t, \n",
    "             x='QTD', \n",
    "             y='SETOR', \n",
    "             orientation='h',\n",
    "             color='SETOR',\n",
    "             text_auto=True)\n",
    "fig.update_traces(hovertemplate=None)\n",
    "fig.update_layout(hovermode='y')\n",
    "fig.update(layout_showlegend=False)\n",
    "fig.update_xaxes(title_text='Quantidade')\n",
    "fig.show()"
   ]
  },
  {
   "cell_type": "code",
   "execution_count": 36,
   "metadata": {},
   "outputs": [
    {
     "name": "stderr",
     "output_type": "stream",
     "text": [
      "c:\\Users\\adria\\anaconda3\\Lib\\site-packages\\plotly\\express\\_core.py:1619: FutureWarning:\n",
      "\n",
      "The default of observed=False is deprecated and will be changed to True in a future version of pandas. Pass observed=False to retain current behavior or observed=True to adopt the future default and silence this warning.\n",
      "\n"
     ]
    },
    {
     "data": {
      "application/vnd.plotly.v1+json": {
       "config": {
        "plotlyServerURL": "https://plot.ly"
       },
       "data": [
        {
         "branchvalues": "total",
         "domain": {
          "x": [
           0,
           1
          ],
          "y": [
           0,
           1
          ]
         },
         "hoverinfo": "label+value+percent entry",
         "ids": [
          "Total/Bens Industriais",
          "Total/Comunicações",
          "Total/Consumo Cíclico",
          "Total/Consumo não Cíclico",
          "Total/Financeiro",
          "Total/Materiais Básicos",
          "Total/Outros",
          "Total/Petróleo, Gás e Biocombustíveis",
          "Total/Saúde",
          "Total/Tecnologia da Informação",
          "Total/Utilidade Pública",
          "Total"
         ],
         "labels": [
          "Bens Industriais",
          "Comunicações",
          "Consumo Cíclico",
          "Consumo não Cíclico",
          "Financeiro",
          "Materiais Básicos",
          "Outros",
          "Petróleo, Gás e Biocombustíveis",
          "Saúde",
          "Tecnologia da Informação",
          "Utilidade Pública",
          "Total"
         ],
         "name": "",
         "parents": [
          "Total",
          "Total",
          "Total",
          "Total",
          "Total",
          "Total",
          "Total",
          "Total",
          "Total",
          "Total",
          "Total",
          ""
         ],
         "textinfo": "label+value+percent entry",
         "type": "treemap",
         "values": [
          17,
          2,
          21,
          8,
          13,
          11,
          1,
          2,
          3,
          2,
          3,
          83
         ]
        }
       ],
       "layout": {
        "legend": {
         "tracegroupgap": 0
        },
        "template": {
         "data": {
          "bar": [
           {
            "error_x": {
             "color": "#f2f5fa"
            },
            "error_y": {
             "color": "#f2f5fa"
            },
            "marker": {
             "line": {
              "color": "rgb(17,17,17)",
              "width": 0.5
             },
             "pattern": {
              "fillmode": "overlay",
              "size": 10,
              "solidity": 0.2
             }
            },
            "type": "bar"
           }
          ],
          "barpolar": [
           {
            "marker": {
             "line": {
              "color": "rgb(17,17,17)",
              "width": 0.5
             },
             "pattern": {
              "fillmode": "overlay",
              "size": 10,
              "solidity": 0.2
             }
            },
            "type": "barpolar"
           }
          ],
          "carpet": [
           {
            "aaxis": {
             "endlinecolor": "#A2B1C6",
             "gridcolor": "#506784",
             "linecolor": "#506784",
             "minorgridcolor": "#506784",
             "startlinecolor": "#A2B1C6"
            },
            "baxis": {
             "endlinecolor": "#A2B1C6",
             "gridcolor": "#506784",
             "linecolor": "#506784",
             "minorgridcolor": "#506784",
             "startlinecolor": "#A2B1C6"
            },
            "type": "carpet"
           }
          ],
          "choropleth": [
           {
            "colorbar": {
             "outlinewidth": 0,
             "ticks": ""
            },
            "type": "choropleth"
           }
          ],
          "contour": [
           {
            "colorbar": {
             "outlinewidth": 0,
             "ticks": ""
            },
            "colorscale": [
             [
              0,
              "#0d0887"
             ],
             [
              0.1111111111111111,
              "#46039f"
             ],
             [
              0.2222222222222222,
              "#7201a8"
             ],
             [
              0.3333333333333333,
              "#9c179e"
             ],
             [
              0.4444444444444444,
              "#bd3786"
             ],
             [
              0.5555555555555556,
              "#d8576b"
             ],
             [
              0.6666666666666666,
              "#ed7953"
             ],
             [
              0.7777777777777778,
              "#fb9f3a"
             ],
             [
              0.8888888888888888,
              "#fdca26"
             ],
             [
              1,
              "#f0f921"
             ]
            ],
            "type": "contour"
           }
          ],
          "contourcarpet": [
           {
            "colorbar": {
             "outlinewidth": 0,
             "ticks": ""
            },
            "type": "contourcarpet"
           }
          ],
          "heatmap": [
           {
            "colorbar": {
             "outlinewidth": 0,
             "ticks": ""
            },
            "colorscale": [
             [
              0,
              "#0d0887"
             ],
             [
              0.1111111111111111,
              "#46039f"
             ],
             [
              0.2222222222222222,
              "#7201a8"
             ],
             [
              0.3333333333333333,
              "#9c179e"
             ],
             [
              0.4444444444444444,
              "#bd3786"
             ],
             [
              0.5555555555555556,
              "#d8576b"
             ],
             [
              0.6666666666666666,
              "#ed7953"
             ],
             [
              0.7777777777777778,
              "#fb9f3a"
             ],
             [
              0.8888888888888888,
              "#fdca26"
             ],
             [
              1,
              "#f0f921"
             ]
            ],
            "type": "heatmap"
           }
          ],
          "heatmapgl": [
           {
            "colorbar": {
             "outlinewidth": 0,
             "ticks": ""
            },
            "colorscale": [
             [
              0,
              "#0d0887"
             ],
             [
              0.1111111111111111,
              "#46039f"
             ],
             [
              0.2222222222222222,
              "#7201a8"
             ],
             [
              0.3333333333333333,
              "#9c179e"
             ],
             [
              0.4444444444444444,
              "#bd3786"
             ],
             [
              0.5555555555555556,
              "#d8576b"
             ],
             [
              0.6666666666666666,
              "#ed7953"
             ],
             [
              0.7777777777777778,
              "#fb9f3a"
             ],
             [
              0.8888888888888888,
              "#fdca26"
             ],
             [
              1,
              "#f0f921"
             ]
            ],
            "type": "heatmapgl"
           }
          ],
          "histogram": [
           {
            "marker": {
             "pattern": {
              "fillmode": "overlay",
              "size": 10,
              "solidity": 0.2
             }
            },
            "type": "histogram"
           }
          ],
          "histogram2d": [
           {
            "colorbar": {
             "outlinewidth": 0,
             "ticks": ""
            },
            "colorscale": [
             [
              0,
              "#0d0887"
             ],
             [
              0.1111111111111111,
              "#46039f"
             ],
             [
              0.2222222222222222,
              "#7201a8"
             ],
             [
              0.3333333333333333,
              "#9c179e"
             ],
             [
              0.4444444444444444,
              "#bd3786"
             ],
             [
              0.5555555555555556,
              "#d8576b"
             ],
             [
              0.6666666666666666,
              "#ed7953"
             ],
             [
              0.7777777777777778,
              "#fb9f3a"
             ],
             [
              0.8888888888888888,
              "#fdca26"
             ],
             [
              1,
              "#f0f921"
             ]
            ],
            "type": "histogram2d"
           }
          ],
          "histogram2dcontour": [
           {
            "colorbar": {
             "outlinewidth": 0,
             "ticks": ""
            },
            "colorscale": [
             [
              0,
              "#0d0887"
             ],
             [
              0.1111111111111111,
              "#46039f"
             ],
             [
              0.2222222222222222,
              "#7201a8"
             ],
             [
              0.3333333333333333,
              "#9c179e"
             ],
             [
              0.4444444444444444,
              "#bd3786"
             ],
             [
              0.5555555555555556,
              "#d8576b"
             ],
             [
              0.6666666666666666,
              "#ed7953"
             ],
             [
              0.7777777777777778,
              "#fb9f3a"
             ],
             [
              0.8888888888888888,
              "#fdca26"
             ],
             [
              1,
              "#f0f921"
             ]
            ],
            "type": "histogram2dcontour"
           }
          ],
          "mesh3d": [
           {
            "colorbar": {
             "outlinewidth": 0,
             "ticks": ""
            },
            "type": "mesh3d"
           }
          ],
          "parcoords": [
           {
            "line": {
             "colorbar": {
              "outlinewidth": 0,
              "ticks": ""
             }
            },
            "type": "parcoords"
           }
          ],
          "pie": [
           {
            "automargin": true,
            "type": "pie"
           }
          ],
          "scatter": [
           {
            "marker": {
             "line": {
              "color": "#283442"
             }
            },
            "type": "scatter"
           }
          ],
          "scatter3d": [
           {
            "line": {
             "colorbar": {
              "outlinewidth": 0,
              "ticks": ""
             }
            },
            "marker": {
             "colorbar": {
              "outlinewidth": 0,
              "ticks": ""
             }
            },
            "type": "scatter3d"
           }
          ],
          "scattercarpet": [
           {
            "marker": {
             "colorbar": {
              "outlinewidth": 0,
              "ticks": ""
             }
            },
            "type": "scattercarpet"
           }
          ],
          "scattergeo": [
           {
            "marker": {
             "colorbar": {
              "outlinewidth": 0,
              "ticks": ""
             }
            },
            "type": "scattergeo"
           }
          ],
          "scattergl": [
           {
            "marker": {
             "line": {
              "color": "#283442"
             }
            },
            "type": "scattergl"
           }
          ],
          "scattermapbox": [
           {
            "marker": {
             "colorbar": {
              "outlinewidth": 0,
              "ticks": ""
             }
            },
            "type": "scattermapbox"
           }
          ],
          "scatterpolar": [
           {
            "marker": {
             "colorbar": {
              "outlinewidth": 0,
              "ticks": ""
             }
            },
            "type": "scatterpolar"
           }
          ],
          "scatterpolargl": [
           {
            "marker": {
             "colorbar": {
              "outlinewidth": 0,
              "ticks": ""
             }
            },
            "type": "scatterpolargl"
           }
          ],
          "scatterternary": [
           {
            "marker": {
             "colorbar": {
              "outlinewidth": 0,
              "ticks": ""
             }
            },
            "type": "scatterternary"
           }
          ],
          "surface": [
           {
            "colorbar": {
             "outlinewidth": 0,
             "ticks": ""
            },
            "colorscale": [
             [
              0,
              "#0d0887"
             ],
             [
              0.1111111111111111,
              "#46039f"
             ],
             [
              0.2222222222222222,
              "#7201a8"
             ],
             [
              0.3333333333333333,
              "#9c179e"
             ],
             [
              0.4444444444444444,
              "#bd3786"
             ],
             [
              0.5555555555555556,
              "#d8576b"
             ],
             [
              0.6666666666666666,
              "#ed7953"
             ],
             [
              0.7777777777777778,
              "#fb9f3a"
             ],
             [
              0.8888888888888888,
              "#fdca26"
             ],
             [
              1,
              "#f0f921"
             ]
            ],
            "type": "surface"
           }
          ],
          "table": [
           {
            "cells": {
             "fill": {
              "color": "#506784"
             },
             "line": {
              "color": "rgb(17,17,17)"
             }
            },
            "header": {
             "fill": {
              "color": "#2a3f5f"
             },
             "line": {
              "color": "rgb(17,17,17)"
             }
            },
            "type": "table"
           }
          ]
         },
         "layout": {
          "annotationdefaults": {
           "arrowcolor": "#f2f5fa",
           "arrowhead": 0,
           "arrowwidth": 1
          },
          "autotypenumbers": "strict",
          "coloraxis": {
           "colorbar": {
            "outlinewidth": 0,
            "ticks": ""
           }
          },
          "colorscale": {
           "diverging": [
            [
             0,
             "#8e0152"
            ],
            [
             0.1,
             "#c51b7d"
            ],
            [
             0.2,
             "#de77ae"
            ],
            [
             0.3,
             "#f1b6da"
            ],
            [
             0.4,
             "#fde0ef"
            ],
            [
             0.5,
             "#f7f7f7"
            ],
            [
             0.6,
             "#e6f5d0"
            ],
            [
             0.7,
             "#b8e186"
            ],
            [
             0.8,
             "#7fbc41"
            ],
            [
             0.9,
             "#4d9221"
            ],
            [
             1,
             "#276419"
            ]
           ],
           "sequential": [
            [
             0,
             "#0d0887"
            ],
            [
             0.1111111111111111,
             "#46039f"
            ],
            [
             0.2222222222222222,
             "#7201a8"
            ],
            [
             0.3333333333333333,
             "#9c179e"
            ],
            [
             0.4444444444444444,
             "#bd3786"
            ],
            [
             0.5555555555555556,
             "#d8576b"
            ],
            [
             0.6666666666666666,
             "#ed7953"
            ],
            [
             0.7777777777777778,
             "#fb9f3a"
            ],
            [
             0.8888888888888888,
             "#fdca26"
            ],
            [
             1,
             "#f0f921"
            ]
           ],
           "sequentialminus": [
            [
             0,
             "#0d0887"
            ],
            [
             0.1111111111111111,
             "#46039f"
            ],
            [
             0.2222222222222222,
             "#7201a8"
            ],
            [
             0.3333333333333333,
             "#9c179e"
            ],
            [
             0.4444444444444444,
             "#bd3786"
            ],
            [
             0.5555555555555556,
             "#d8576b"
            ],
            [
             0.6666666666666666,
             "#ed7953"
            ],
            [
             0.7777777777777778,
             "#fb9f3a"
            ],
            [
             0.8888888888888888,
             "#fdca26"
            ],
            [
             1,
             "#f0f921"
            ]
           ]
          },
          "colorway": [
           "#636efa",
           "#EF553B",
           "#00cc96",
           "#ab63fa",
           "#FFA15A",
           "#19d3f3",
           "#FF6692",
           "#B6E880",
           "#FF97FF",
           "#FECB52"
          ],
          "font": {
           "color": "#f2f5fa"
          },
          "geo": {
           "bgcolor": "rgb(17,17,17)",
           "lakecolor": "rgb(17,17,17)",
           "landcolor": "rgb(17,17,17)",
           "showlakes": true,
           "showland": true,
           "subunitcolor": "#506784"
          },
          "hoverlabel": {
           "align": "left"
          },
          "hovermode": "closest",
          "mapbox": {
           "style": "dark"
          },
          "paper_bgcolor": "rgb(17,17,17)",
          "plot_bgcolor": "rgb(17,17,17)",
          "polar": {
           "angularaxis": {
            "gridcolor": "#506784",
            "linecolor": "#506784",
            "ticks": ""
           },
           "bgcolor": "rgb(17,17,17)",
           "radialaxis": {
            "gridcolor": "#506784",
            "linecolor": "#506784",
            "ticks": ""
           }
          },
          "scene": {
           "xaxis": {
            "backgroundcolor": "rgb(17,17,17)",
            "gridcolor": "#506784",
            "gridwidth": 2,
            "linecolor": "#506784",
            "showbackground": true,
            "ticks": "",
            "zerolinecolor": "#C8D4E3"
           },
           "yaxis": {
            "backgroundcolor": "rgb(17,17,17)",
            "gridcolor": "#506784",
            "gridwidth": 2,
            "linecolor": "#506784",
            "showbackground": true,
            "ticks": "",
            "zerolinecolor": "#C8D4E3"
           },
           "zaxis": {
            "backgroundcolor": "rgb(17,17,17)",
            "gridcolor": "#506784",
            "gridwidth": 2,
            "linecolor": "#506784",
            "showbackground": true,
            "ticks": "",
            "zerolinecolor": "#C8D4E3"
           }
          },
          "shapedefaults": {
           "line": {
            "color": "#f2f5fa"
           }
          },
          "sliderdefaults": {
           "bgcolor": "#C8D4E3",
           "bordercolor": "rgb(17,17,17)",
           "borderwidth": 1,
           "tickwidth": 0
          },
          "ternary": {
           "aaxis": {
            "gridcolor": "#506784",
            "linecolor": "#506784",
            "ticks": ""
           },
           "baxis": {
            "gridcolor": "#506784",
            "linecolor": "#506784",
            "ticks": ""
           },
           "bgcolor": "rgb(17,17,17)",
           "caxis": {
            "gridcolor": "#506784",
            "linecolor": "#506784",
            "ticks": ""
           }
          },
          "title": {
           "x": 0.05
          },
          "updatemenudefaults": {
           "bgcolor": "#506784",
           "borderwidth": 0
          },
          "xaxis": {
           "automargin": true,
           "gridcolor": "#283442",
           "linecolor": "#506784",
           "ticks": "",
           "title": {
            "standoff": 15
           },
           "zerolinecolor": "#283442",
           "zerolinewidth": 2
          },
          "yaxis": {
           "automargin": true,
           "gridcolor": "#283442",
           "linecolor": "#506784",
           "ticks": "",
           "title": {
            "standoff": 15
           },
           "zerolinecolor": "#283442",
           "zerolinewidth": 2
          }
         }
        },
        "title": {
         "text": "Quantidade relativa de segmentos por setor"
        }
       }
      }
     },
     "metadata": {},
     "output_type": "display_data"
    }
   ],
   "source": [
    "# Plot gráfico da frequência absoluta/relativa das variáveis\n",
    "fig = px.treemap(data_frame=t, \n",
    "                 path=[px.Constant('Total'), 'SETOR'], \n",
    "                 values='QTD', \n",
    "                 template='plotly_dark',\n",
    "                 title='Quantidade relativa de segmentos por setor')\n",
    "fig.update_traces(hovertemplate=None, hoverinfo='label+value+percent entry', textinfo='label+value+percent entry')\n",
    "fig.show()"
   ]
  },
  {
   "cell_type": "markdown",
   "metadata": {},
   "source": [
    "#### Distribuição"
   ]
  },
  {
   "cell_type": "code",
   "execution_count": 37,
   "metadata": {},
   "outputs": [
    {
     "data": {
      "application/vnd.plotly.v1+json": {
       "config": {
        "plotlyServerURL": "https://plot.ly"
       },
       "data": [
        {
         "alignmentgroup": "True",
         "boxpoints": "all",
         "hovertemplate": "QTD=%{x}<extra></extra>",
         "legendgroup": "",
         "marker": {
          "color": "#636efa"
         },
         "name": "",
         "notched": false,
         "offsetgroup": "",
         "orientation": "h",
         "showlegend": false,
         "type": "box",
         "x": [
          21,
          17,
          13,
          11,
          8,
          3,
          3,
          2,
          2,
          2,
          1
         ],
         "x0": " ",
         "xaxis": "x",
         "y0": " ",
         "yaxis": "y"
        }
       ],
       "layout": {
        "boxmode": "group",
        "legend": {
         "tracegroupgap": 0
        },
        "template": {
         "data": {
          "bar": [
           {
            "error_x": {
             "color": "#f2f5fa"
            },
            "error_y": {
             "color": "#f2f5fa"
            },
            "marker": {
             "line": {
              "color": "rgb(17,17,17)",
              "width": 0.5
             },
             "pattern": {
              "fillmode": "overlay",
              "size": 10,
              "solidity": 0.2
             }
            },
            "type": "bar"
           }
          ],
          "barpolar": [
           {
            "marker": {
             "line": {
              "color": "rgb(17,17,17)",
              "width": 0.5
             },
             "pattern": {
              "fillmode": "overlay",
              "size": 10,
              "solidity": 0.2
             }
            },
            "type": "barpolar"
           }
          ],
          "carpet": [
           {
            "aaxis": {
             "endlinecolor": "#A2B1C6",
             "gridcolor": "#506784",
             "linecolor": "#506784",
             "minorgridcolor": "#506784",
             "startlinecolor": "#A2B1C6"
            },
            "baxis": {
             "endlinecolor": "#A2B1C6",
             "gridcolor": "#506784",
             "linecolor": "#506784",
             "minorgridcolor": "#506784",
             "startlinecolor": "#A2B1C6"
            },
            "type": "carpet"
           }
          ],
          "choropleth": [
           {
            "colorbar": {
             "outlinewidth": 0,
             "ticks": ""
            },
            "type": "choropleth"
           }
          ],
          "contour": [
           {
            "colorbar": {
             "outlinewidth": 0,
             "ticks": ""
            },
            "colorscale": [
             [
              0,
              "#0d0887"
             ],
             [
              0.1111111111111111,
              "#46039f"
             ],
             [
              0.2222222222222222,
              "#7201a8"
             ],
             [
              0.3333333333333333,
              "#9c179e"
             ],
             [
              0.4444444444444444,
              "#bd3786"
             ],
             [
              0.5555555555555556,
              "#d8576b"
             ],
             [
              0.6666666666666666,
              "#ed7953"
             ],
             [
              0.7777777777777778,
              "#fb9f3a"
             ],
             [
              0.8888888888888888,
              "#fdca26"
             ],
             [
              1,
              "#f0f921"
             ]
            ],
            "type": "contour"
           }
          ],
          "contourcarpet": [
           {
            "colorbar": {
             "outlinewidth": 0,
             "ticks": ""
            },
            "type": "contourcarpet"
           }
          ],
          "heatmap": [
           {
            "colorbar": {
             "outlinewidth": 0,
             "ticks": ""
            },
            "colorscale": [
             [
              0,
              "#0d0887"
             ],
             [
              0.1111111111111111,
              "#46039f"
             ],
             [
              0.2222222222222222,
              "#7201a8"
             ],
             [
              0.3333333333333333,
              "#9c179e"
             ],
             [
              0.4444444444444444,
              "#bd3786"
             ],
             [
              0.5555555555555556,
              "#d8576b"
             ],
             [
              0.6666666666666666,
              "#ed7953"
             ],
             [
              0.7777777777777778,
              "#fb9f3a"
             ],
             [
              0.8888888888888888,
              "#fdca26"
             ],
             [
              1,
              "#f0f921"
             ]
            ],
            "type": "heatmap"
           }
          ],
          "heatmapgl": [
           {
            "colorbar": {
             "outlinewidth": 0,
             "ticks": ""
            },
            "colorscale": [
             [
              0,
              "#0d0887"
             ],
             [
              0.1111111111111111,
              "#46039f"
             ],
             [
              0.2222222222222222,
              "#7201a8"
             ],
             [
              0.3333333333333333,
              "#9c179e"
             ],
             [
              0.4444444444444444,
              "#bd3786"
             ],
             [
              0.5555555555555556,
              "#d8576b"
             ],
             [
              0.6666666666666666,
              "#ed7953"
             ],
             [
              0.7777777777777778,
              "#fb9f3a"
             ],
             [
              0.8888888888888888,
              "#fdca26"
             ],
             [
              1,
              "#f0f921"
             ]
            ],
            "type": "heatmapgl"
           }
          ],
          "histogram": [
           {
            "marker": {
             "pattern": {
              "fillmode": "overlay",
              "size": 10,
              "solidity": 0.2
             }
            },
            "type": "histogram"
           }
          ],
          "histogram2d": [
           {
            "colorbar": {
             "outlinewidth": 0,
             "ticks": ""
            },
            "colorscale": [
             [
              0,
              "#0d0887"
             ],
             [
              0.1111111111111111,
              "#46039f"
             ],
             [
              0.2222222222222222,
              "#7201a8"
             ],
             [
              0.3333333333333333,
              "#9c179e"
             ],
             [
              0.4444444444444444,
              "#bd3786"
             ],
             [
              0.5555555555555556,
              "#d8576b"
             ],
             [
              0.6666666666666666,
              "#ed7953"
             ],
             [
              0.7777777777777778,
              "#fb9f3a"
             ],
             [
              0.8888888888888888,
              "#fdca26"
             ],
             [
              1,
              "#f0f921"
             ]
            ],
            "type": "histogram2d"
           }
          ],
          "histogram2dcontour": [
           {
            "colorbar": {
             "outlinewidth": 0,
             "ticks": ""
            },
            "colorscale": [
             [
              0,
              "#0d0887"
             ],
             [
              0.1111111111111111,
              "#46039f"
             ],
             [
              0.2222222222222222,
              "#7201a8"
             ],
             [
              0.3333333333333333,
              "#9c179e"
             ],
             [
              0.4444444444444444,
              "#bd3786"
             ],
             [
              0.5555555555555556,
              "#d8576b"
             ],
             [
              0.6666666666666666,
              "#ed7953"
             ],
             [
              0.7777777777777778,
              "#fb9f3a"
             ],
             [
              0.8888888888888888,
              "#fdca26"
             ],
             [
              1,
              "#f0f921"
             ]
            ],
            "type": "histogram2dcontour"
           }
          ],
          "mesh3d": [
           {
            "colorbar": {
             "outlinewidth": 0,
             "ticks": ""
            },
            "type": "mesh3d"
           }
          ],
          "parcoords": [
           {
            "line": {
             "colorbar": {
              "outlinewidth": 0,
              "ticks": ""
             }
            },
            "type": "parcoords"
           }
          ],
          "pie": [
           {
            "automargin": true,
            "type": "pie"
           }
          ],
          "scatter": [
           {
            "marker": {
             "line": {
              "color": "#283442"
             }
            },
            "type": "scatter"
           }
          ],
          "scatter3d": [
           {
            "line": {
             "colorbar": {
              "outlinewidth": 0,
              "ticks": ""
             }
            },
            "marker": {
             "colorbar": {
              "outlinewidth": 0,
              "ticks": ""
             }
            },
            "type": "scatter3d"
           }
          ],
          "scattercarpet": [
           {
            "marker": {
             "colorbar": {
              "outlinewidth": 0,
              "ticks": ""
             }
            },
            "type": "scattercarpet"
           }
          ],
          "scattergeo": [
           {
            "marker": {
             "colorbar": {
              "outlinewidth": 0,
              "ticks": ""
             }
            },
            "type": "scattergeo"
           }
          ],
          "scattergl": [
           {
            "marker": {
             "line": {
              "color": "#283442"
             }
            },
            "type": "scattergl"
           }
          ],
          "scattermapbox": [
           {
            "marker": {
             "colorbar": {
              "outlinewidth": 0,
              "ticks": ""
             }
            },
            "type": "scattermapbox"
           }
          ],
          "scatterpolar": [
           {
            "marker": {
             "colorbar": {
              "outlinewidth": 0,
              "ticks": ""
             }
            },
            "type": "scatterpolar"
           }
          ],
          "scatterpolargl": [
           {
            "marker": {
             "colorbar": {
              "outlinewidth": 0,
              "ticks": ""
             }
            },
            "type": "scatterpolargl"
           }
          ],
          "scatterternary": [
           {
            "marker": {
             "colorbar": {
              "outlinewidth": 0,
              "ticks": ""
             }
            },
            "type": "scatterternary"
           }
          ],
          "surface": [
           {
            "colorbar": {
             "outlinewidth": 0,
             "ticks": ""
            },
            "colorscale": [
             [
              0,
              "#0d0887"
             ],
             [
              0.1111111111111111,
              "#46039f"
             ],
             [
              0.2222222222222222,
              "#7201a8"
             ],
             [
              0.3333333333333333,
              "#9c179e"
             ],
             [
              0.4444444444444444,
              "#bd3786"
             ],
             [
              0.5555555555555556,
              "#d8576b"
             ],
             [
              0.6666666666666666,
              "#ed7953"
             ],
             [
              0.7777777777777778,
              "#fb9f3a"
             ],
             [
              0.8888888888888888,
              "#fdca26"
             ],
             [
              1,
              "#f0f921"
             ]
            ],
            "type": "surface"
           }
          ],
          "table": [
           {
            "cells": {
             "fill": {
              "color": "#506784"
             },
             "line": {
              "color": "rgb(17,17,17)"
             }
            },
            "header": {
             "fill": {
              "color": "#2a3f5f"
             },
             "line": {
              "color": "rgb(17,17,17)"
             }
            },
            "type": "table"
           }
          ]
         },
         "layout": {
          "annotationdefaults": {
           "arrowcolor": "#f2f5fa",
           "arrowhead": 0,
           "arrowwidth": 1
          },
          "autotypenumbers": "strict",
          "coloraxis": {
           "colorbar": {
            "outlinewidth": 0,
            "ticks": ""
           }
          },
          "colorscale": {
           "diverging": [
            [
             0,
             "#8e0152"
            ],
            [
             0.1,
             "#c51b7d"
            ],
            [
             0.2,
             "#de77ae"
            ],
            [
             0.3,
             "#f1b6da"
            ],
            [
             0.4,
             "#fde0ef"
            ],
            [
             0.5,
             "#f7f7f7"
            ],
            [
             0.6,
             "#e6f5d0"
            ],
            [
             0.7,
             "#b8e186"
            ],
            [
             0.8,
             "#7fbc41"
            ],
            [
             0.9,
             "#4d9221"
            ],
            [
             1,
             "#276419"
            ]
           ],
           "sequential": [
            [
             0,
             "#0d0887"
            ],
            [
             0.1111111111111111,
             "#46039f"
            ],
            [
             0.2222222222222222,
             "#7201a8"
            ],
            [
             0.3333333333333333,
             "#9c179e"
            ],
            [
             0.4444444444444444,
             "#bd3786"
            ],
            [
             0.5555555555555556,
             "#d8576b"
            ],
            [
             0.6666666666666666,
             "#ed7953"
            ],
            [
             0.7777777777777778,
             "#fb9f3a"
            ],
            [
             0.8888888888888888,
             "#fdca26"
            ],
            [
             1,
             "#f0f921"
            ]
           ],
           "sequentialminus": [
            [
             0,
             "#0d0887"
            ],
            [
             0.1111111111111111,
             "#46039f"
            ],
            [
             0.2222222222222222,
             "#7201a8"
            ],
            [
             0.3333333333333333,
             "#9c179e"
            ],
            [
             0.4444444444444444,
             "#bd3786"
            ],
            [
             0.5555555555555556,
             "#d8576b"
            ],
            [
             0.6666666666666666,
             "#ed7953"
            ],
            [
             0.7777777777777778,
             "#fb9f3a"
            ],
            [
             0.8888888888888888,
             "#fdca26"
            ],
            [
             1,
             "#f0f921"
            ]
           ]
          },
          "colorway": [
           "#636efa",
           "#EF553B",
           "#00cc96",
           "#ab63fa",
           "#FFA15A",
           "#19d3f3",
           "#FF6692",
           "#B6E880",
           "#FF97FF",
           "#FECB52"
          ],
          "font": {
           "color": "#f2f5fa"
          },
          "geo": {
           "bgcolor": "rgb(17,17,17)",
           "lakecolor": "rgb(17,17,17)",
           "landcolor": "rgb(17,17,17)",
           "showlakes": true,
           "showland": true,
           "subunitcolor": "#506784"
          },
          "hoverlabel": {
           "align": "left"
          },
          "hovermode": "closest",
          "mapbox": {
           "style": "dark"
          },
          "paper_bgcolor": "rgb(17,17,17)",
          "plot_bgcolor": "rgb(17,17,17)",
          "polar": {
           "angularaxis": {
            "gridcolor": "#506784",
            "linecolor": "#506784",
            "ticks": ""
           },
           "bgcolor": "rgb(17,17,17)",
           "radialaxis": {
            "gridcolor": "#506784",
            "linecolor": "#506784",
            "ticks": ""
           }
          },
          "scene": {
           "xaxis": {
            "backgroundcolor": "rgb(17,17,17)",
            "gridcolor": "#506784",
            "gridwidth": 2,
            "linecolor": "#506784",
            "showbackground": true,
            "ticks": "",
            "zerolinecolor": "#C8D4E3"
           },
           "yaxis": {
            "backgroundcolor": "rgb(17,17,17)",
            "gridcolor": "#506784",
            "gridwidth": 2,
            "linecolor": "#506784",
            "showbackground": true,
            "ticks": "",
            "zerolinecolor": "#C8D4E3"
           },
           "zaxis": {
            "backgroundcolor": "rgb(17,17,17)",
            "gridcolor": "#506784",
            "gridwidth": 2,
            "linecolor": "#506784",
            "showbackground": true,
            "ticks": "",
            "zerolinecolor": "#C8D4E3"
           }
          },
          "shapedefaults": {
           "line": {
            "color": "#f2f5fa"
           }
          },
          "sliderdefaults": {
           "bgcolor": "#C8D4E3",
           "bordercolor": "rgb(17,17,17)",
           "borderwidth": 1,
           "tickwidth": 0
          },
          "ternary": {
           "aaxis": {
            "gridcolor": "#506784",
            "linecolor": "#506784",
            "ticks": ""
           },
           "baxis": {
            "gridcolor": "#506784",
            "linecolor": "#506784",
            "ticks": ""
           },
           "bgcolor": "rgb(17,17,17)",
           "caxis": {
            "gridcolor": "#506784",
            "linecolor": "#506784",
            "ticks": ""
           }
          },
          "title": {
           "x": 0.05
          },
          "updatemenudefaults": {
           "bgcolor": "#506784",
           "borderwidth": 0
          },
          "xaxis": {
           "automargin": true,
           "gridcolor": "#283442",
           "linecolor": "#506784",
           "ticks": "",
           "title": {
            "standoff": 15
           },
           "zerolinecolor": "#283442",
           "zerolinewidth": 2
          },
          "yaxis": {
           "automargin": true,
           "gridcolor": "#283442",
           "linecolor": "#506784",
           "ticks": "",
           "title": {
            "standoff": 15
           },
           "zerolinecolor": "#283442",
           "zerolinewidth": 2
          }
         }
        },
        "title": {
         "text": "Distribuição de frequência de setor por quantidade de segmentos"
        },
        "xaxis": {
         "anchor": "y",
         "domain": [
          0,
          1
         ],
         "title": {
          "text": "QTD"
         }
        },
        "yaxis": {
         "anchor": "x",
         "domain": [
          0,
          1
         ]
        }
       }
      }
     },
     "metadata": {},
     "output_type": "display_data"
    }
   ],
   "source": [
    "# Plot gráfico da dispersão dos dados\n",
    "fig = px.box(data_frame=t, \n",
    "             template='plotly_dark', \n",
    "             x='QTD', \n",
    "             points='all', \n",
    "             title='Distribuição de frequência de setor por quantidade de segmentos')\n",
    "fig.show()"
   ]
  },
  {
   "cell_type": "markdown",
   "metadata": {},
   "source": [
    "#### Medidas"
   ]
  },
  {
   "cell_type": "code",
   "execution_count": 97,
   "metadata": {},
   "outputs": [
    {
     "name": "stdout",
     "output_type": "stream",
     "text": [
      "Mínimo: 1\n",
      "Q1: 2.0\n",
      "Q2: 3.0\n",
      "Q3: 12.0\n",
      "Máximo: 21\n",
      "Média da quantidade de segmentos por setor: 8\n",
      "Mediana da quantidade de segmentos por setor: 3.0\n",
      "Moda: 21 - Consumo Cíclico\n",
      "Amplitude: 20\n",
      "Desvio padrão: 6.99\n",
      "Coeficiente de variação: 93.0 %\n"
     ]
    }
   ],
   "source": [
    "# Medidas de distribuição\n",
    "print('Mínimo:', t.QTD.min())\n",
    "print('Q1:', t.QTD.quantile(.25))\n",
    "print('Q2:', t.QTD.quantile(.50))\n",
    "print('Q3:', t.QTD.quantile(.75))\n",
    "print('Máximo:', t.QTD.max())\n",
    "\n",
    "# Medidas centrais\n",
    "print('Média da quantidade de segmentos por setor:', round(t.QTD.mean()))\n",
    "print('Mediana da quantidade de segmentos por setor:', t.QTD.median())\n",
    "print('Moda:', t.QTD[0], '-', t.SETOR[0])\n",
    "\n",
    "# Medidas de dispersão\n",
    "print('Amplitude:', t.QTD.max()-t.QTD.min())\n",
    "print('Desvio padrão:', round(t.QTD.std(), 2))\n",
    "print('Coeficiente de variação:', round(t.QTD.std()/t.QTD.mean(), 2)*100, '%')"
   ]
  },
  {
   "cell_type": "markdown",
   "metadata": {},
   "source": [
    "#### Considerações\n",
    "\n",
    "Podemos ver a variável \"setor\" por outra vertente, segundo a quantidade \"segmento\", um total de 9 categorias que comportam 83 segmentos. O setor com o maior número de segmentos é o \"Consumo cíclico\", com 21 registros, equivalente à 25% do total, e o menor (\"Outros\") comportando apenas 1 único registro, equivalente à 1% do total. \n",
    "\n",
    "Dessa forma, temos como medidas o valor máximo de 21, o valor mínimo de 1, a média de segmento para cada setor de 8, a mediana de 3 e um desvio padrão de aproximadamente 7 registros, resultando num coeficiente de variação de 93% dentro de um conjunto de dados com uma amplitude de 83 registros.\n",
    "\n",
    "De forma aparente, percebe-se um acumulo da maioria das segmentos entre os 4 maiores setores (Consumo cíclico, Bens industriais e Financeiro, consecutivamente), que comportam 51 registros de 83, ou em termos relativos, cerca de 61% do total."
   ]
  },
  {
   "cell_type": "markdown",
   "metadata": {},
   "source": [
    "### SETOR vs LISTAGEM"
   ]
  },
  {
   "cell_type": "code",
   "execution_count": 44,
   "metadata": {},
   "outputs": [
    {
     "name": "stderr",
     "output_type": "stream",
     "text": [
      "c:\\Users\\adria\\anaconda3\\Lib\\site-packages\\plotly\\express\\_core.py:1619: FutureWarning:\n",
      "\n",
      "The default of observed=False is deprecated and will be changed to True in a future version of pandas. Pass observed=False to retain current behavior or observed=True to adopt the future default and silence this warning.\n",
      "\n",
      "c:\\Users\\adria\\anaconda3\\Lib\\site-packages\\plotly\\express\\_core.py:1619: FutureWarning:\n",
      "\n",
      "The default of observed=False is deprecated and will be changed to True in a future version of pandas. Pass observed=False to retain current behavior or observed=True to adopt the future default and silence this warning.\n",
      "\n"
     ]
    },
    {
     "data": {
      "application/vnd.plotly.v1+json": {
       "config": {
        "plotlyServerURL": "https://plot.ly"
       },
       "data": [
        {
         "branchvalues": "total",
         "customdata": [
          [
           "AUSENTE"
          ],
          [
           "M2"
          ],
          [
           null
          ],
          [
           null
          ],
          [
           "MA"
          ],
          [
           null
          ],
          [
           "MA"
          ],
          [
           null
          ],
          [
           "MA"
          ],
          [
           "(?)"
          ],
          [
           "MB"
          ],
          [
           null
          ],
          [
           "N1"
          ],
          [
           "N1"
          ],
          [
           "N1"
          ],
          [
           null
          ],
          [
           null
          ],
          [
           "N2"
          ],
          [
           "(?)"
          ],
          [
           "(?)"
          ],
          [
           "(?)"
          ],
          [
           "(?)"
          ],
          [
           "AUSENTE"
          ],
          [
           "(?)"
          ],
          [
           "(?)"
          ],
          [
           "(?)"
          ],
          [
           null
          ],
          [
           null
          ],
          [
           "(?)"
          ],
          [
           "DR3"
          ],
          [
           "AUSENTE"
          ],
          [
           "AUSENTE"
          ],
          [
           "AUSENTE"
          ],
          [
           null
          ],
          [
           null
          ],
          [
           null
          ],
          [
           null
          ],
          [
           null
          ],
          [
           null
          ],
          [
           null
          ],
          [
           null
          ],
          [
           null
          ],
          [
           "MA"
          ],
          [
           "MB"
          ],
          [
           null
          ],
          [
           null
          ],
          [
           null
          ],
          [
           null
          ],
          [
           null
          ],
          [
           null
          ],
          [
           null
          ],
          [
           "MA"
          ],
          [
           null
          ],
          [
           null
          ],
          [
           "AUSENTE"
          ],
          [
           null
          ],
          [
           "N2"
          ],
          [
           null
          ],
          [
           null
          ],
          [
           "N2"
          ],
          [
           "NM"
          ],
          [
           "NM"
          ],
          [
           "NM"
          ],
          [
           "AUSENTE"
          ],
          [
           "NM"
          ],
          [
           null
          ],
          [
           "NM"
          ],
          [
           "NM"
          ],
          [
           "AUSENTE"
          ],
          [
           "N2"
          ],
          [
           "NM"
          ],
          [
           "NM"
          ],
          [
           "NM"
          ],
          [
           "NM"
          ],
          [
           "AUSENTE"
          ],
          [
           "(?)"
          ],
          [
           null
          ],
          [
           "(?)"
          ],
          [
           "AUSENTE"
          ],
          [
           "DR3"
          ],
          [
           null
          ],
          [
           "N2"
          ],
          [
           "DR3"
          ],
          [
           null
          ],
          [
           "MA"
          ],
          [
           null
          ],
          [
           null
          ],
          [
           null
          ],
          [
           null
          ],
          [
           "MA"
          ],
          [
           null
          ],
          [
           null
          ],
          [
           null
          ],
          [
           null
          ],
          [
           "MB"
          ],
          [
           "N2"
          ],
          [
           null
          ],
          [
           "DR1"
          ],
          [
           null
          ],
          [
           "MB"
          ],
          [
           "N1"
          ],
          [
           "N1"
          ],
          [
           null
          ],
          [
           null
          ],
          [
           "AUSENTE"
          ],
          [
           null
          ],
          [
           "N1"
          ],
          [
           "M2"
          ],
          [
           null
          ],
          [
           null
          ],
          [
           null
          ]
         ],
         "domain": {
          "x": [
           0,
           1
          ],
          "y": [
           0,
           1
          ]
         },
         "hoverinfo": "label+value+percent entry",
         "ids": [
          "Total/Bens Industriais/AUSENTE",
          "Total/Bens Industriais/M2",
          "Total/Outros/M2",
          "Total/Tecnologia da Informação/M2",
          "Total/Bens Industriais/MA",
          "Total/Comunicações/MA",
          "Total/Consumo não Cíclico/MA",
          "Total/Financeiro/MA",
          "Total/Utilidade Pública/MA",
          "Total/Utilidade Pública",
          "Total/Materiais Básicos/MB",
          "Total/Petróleo, Gás e Biocombustíveis/MB",
          "Total/Bens Industriais/N1",
          "Total/Comunicações/N1",
          "Total/Materiais Básicos/N1",
          "Total/Outros/N1",
          "Total/Petróleo, Gás e Biocombustíveis/N1",
          "Total/Consumo Cíclico/N2",
          "Total/Comunicações",
          "Total/Consumo não Cíclico",
          "Total/Financeiro",
          "Total/Materiais Básicos",
          "Total/Outros",
          "Total/Petróleo, Gás e Biocombustíveis",
          "Total/Saúde",
          "Total/Tecnologia da Informação",
          "Total/Tecnologia da Informação/DR3",
          "Total/Petróleo, Gás e Biocombustíveis/DR3",
          "Total",
          "Total/Materiais Básicos/DR3",
          "Total/Consumo Cíclico/AUSENTE",
          "Total/Materiais Básicos/AUSENTE",
          "Total/Saúde/AUSENTE",
          "Total/Tecnologia da Informação/AUSENTE",
          "Total/Outros/DR3",
          "Total/Materiais Básicos/DR1",
          "Total/Saúde/M2",
          "Total/Tecnologia da Informação/N1",
          "Total/Consumo Cíclico/MB",
          "Total/Petróleo, Gás e Biocombustíveis/MA",
          "Total/Outros/MA",
          "Total/Comunicações/MB",
          "Total/Materiais Básicos/MA",
          "Total/Bens Industriais/MB",
          "Total/Financeiro/M2",
          "Total/Bens Industriais/DR3",
          "Total/Consumo Cíclico/M2",
          "Total/Consumo não Cíclico/DR1",
          "Total/Saúde/MB",
          "Total/Consumo não Cíclico/N2",
          "Total/Consumo Cíclico/DR3",
          "Total/Saúde/MA",
          "Total/Saúde/N1",
          "Total/Consumo Cíclico/DR1",
          "Total/Outros/AUSENTE",
          "Total/Outros/N2",
          "Total/Petróleo, Gás e Biocombustíveis/N2",
          "Total/Saúde/N2",
          "Total/Tecnologia da Informação/N2",
          "Total/Utilidade Pública/N2",
          "Total/Bens Industriais/NM",
          "Total/Comunicações/NM",
          "Total/Consumo Cíclico/NM",
          "Total/Comunicações/AUSENTE",
          "Total/Consumo não Cíclico/NM",
          "Total/Saúde/DR3",
          "Total/Financeiro/NM",
          "Total/Materiais Básicos/NM",
          "Total/Consumo não Cíclico/AUSENTE",
          "Total/Materiais Básicos/N2",
          "Total/Petróleo, Gás e Biocombustíveis/NM",
          "Total/Saúde/NM",
          "Total/Tecnologia da Informação/NM",
          "Total/Utilidade Pública/NM",
          "Total/Financeiro/AUSENTE",
          "Total/Bens Industriais",
          "Total/Utilidade Pública/DR3",
          "Total/Consumo Cíclico",
          "Total/Petróleo, Gás e Biocombustíveis/AUSENTE",
          "Total/Financeiro/DR3",
          "Total/Outros/NM",
          "Total/Bens Industriais/N2",
          "Total/Consumo não Cíclico/DR3",
          "Total/Utilidade Pública/DR1",
          "Total/Consumo Cíclico/MA",
          "Total/Tecnologia da Informação/DR1",
          "Total/Saúde/DR1",
          "Total/Comunicações/DR3",
          "Total/Petróleo, Gás e Biocombustíveis/M2",
          "Total/Tecnologia da Informação/MA",
          "Total/Petróleo, Gás e Biocombustíveis/DR1",
          "Total/Outros/DR1",
          "Total/Materiais Básicos/M2",
          "Total/Consumo não Cíclico/MB",
          "Total/Financeiro/MB",
          "Total/Financeiro/N2",
          "Total/Consumo não Cíclico/M2",
          "Total/Financeiro/DR1",
          "Total/Tecnologia da Informação/MB",
          "Total/Utilidade Pública/MB",
          "Total/Consumo Cíclico/N1",
          "Total/Financeiro/N1",
          "Total/Comunicações/DR1",
          "Total/Bens Industriais/DR1",
          "Total/Utilidade Pública/AUSENTE",
          "Total/Comunicações/M2",
          "Total/Utilidade Pública/N1",
          "Total/Utilidade Pública/M2",
          "Total/Comunicações/N2",
          "Total/Outros/MB",
          "Total/Consumo não Cíclico/N1"
         ],
         "labels": [
          "AUSENTE",
          "M2",
          "M2",
          "M2",
          "MA",
          "MA",
          "MA",
          "MA",
          "MA",
          "Utilidade Pública",
          "MB",
          "MB",
          "N1",
          "N1",
          "N1",
          "N1",
          "N1",
          "N2",
          "Comunicações",
          "Consumo não Cíclico",
          "Financeiro",
          "Materiais Básicos",
          "Outros",
          "Petróleo, Gás e Biocombustíveis",
          "Saúde",
          "Tecnologia da Informação",
          "DR3",
          "DR3",
          "Total",
          "DR3",
          "AUSENTE",
          "AUSENTE",
          "AUSENTE",
          "AUSENTE",
          "DR3",
          "DR1",
          "M2",
          "N1",
          "MB",
          "MA",
          "MA",
          "MB",
          "MA",
          "MB",
          "M2",
          "DR3",
          "M2",
          "DR1",
          "MB",
          "N2",
          "DR3",
          "MA",
          "N1",
          "DR1",
          "AUSENTE",
          "N2",
          "N2",
          "N2",
          "N2",
          "N2",
          "NM",
          "NM",
          "NM",
          "AUSENTE",
          "NM",
          "DR3",
          "NM",
          "NM",
          "AUSENTE",
          "N2",
          "NM",
          "NM",
          "NM",
          "NM",
          "AUSENTE",
          "Bens Industriais",
          "DR3",
          "Consumo Cíclico",
          "AUSENTE",
          "DR3",
          "NM",
          "N2",
          "DR3",
          "DR1",
          "MA",
          "DR1",
          "DR1",
          "DR3",
          "M2",
          "MA",
          "DR1",
          "DR1",
          "M2",
          "MB",
          "MB",
          "N2",
          "M2",
          "DR1",
          "MB",
          "MB",
          "N1",
          "N1",
          "DR1",
          "DR1",
          "AUSENTE",
          "M2",
          "N1",
          "M2",
          "N2",
          "MB",
          "N1"
         ],
         "marker": {
          "colors": [
           "#636efa",
           "#EF553B",
           "#00cc96",
           "#00cc96",
           "#ab63fa",
           "#00cc96",
           "#ab63fa",
           "#00cc96",
           "#ab63fa",
           "#FFA15A",
           "#19d3f3",
           "#00cc96",
           "#FF6692",
           "#FF6692",
           "#FF6692",
           "#00cc96",
           "#00cc96",
           "#B6E880",
           "#FFA15A",
           "#FFA15A",
           "#FFA15A",
           "#FFA15A",
           "#636efa",
           "#FFA15A",
           "#FFA15A",
           "#FFA15A",
           "#00cc96",
           "#00cc96",
           "#FFA15A",
           "#FF97FF",
           "#636efa",
           "#636efa",
           "#636efa",
           "#00cc96",
           "#00cc96",
           "#00cc96",
           "#00cc96",
           "#00cc96",
           "#00cc96",
           "#00cc96",
           "#00cc96",
           "#00cc96",
           "#ab63fa",
           "#19d3f3",
           "#00cc96",
           "#00cc96",
           "#00cc96",
           "#00cc96",
           "#00cc96",
           "#00cc96",
           "#00cc96",
           "#ab63fa",
           "#00cc96",
           "#00cc96",
           "#636efa",
           "#00cc96",
           "#B6E880",
           "#00cc96",
           "#00cc96",
           "#B6E880",
           "#FECB52",
           "#FECB52",
           "#FECB52",
           "#636efa",
           "#FECB52",
           "#00cc96",
           "#FECB52",
           "#FECB52",
           "#636efa",
           "#B6E880",
           "#FECB52",
           "#FECB52",
           "#FECB52",
           "#FECB52",
           "#636efa",
           "#FFA15A",
           "#00cc96",
           "#FFA15A",
           "#636efa",
           "#FF97FF",
           "#00cc96",
           "#B6E880",
           "#FF97FF",
           "#00cc96",
           "#ab63fa",
           "#00cc96",
           "#00cc96",
           "#00cc96",
           "#00cc96",
           "#ab63fa",
           "#00cc96",
           "#00cc96",
           "#00cc96",
           "#00cc96",
           "#19d3f3",
           "#B6E880",
           "#00cc96",
           "#636efa",
           "#00cc96",
           "#19d3f3",
           "#FF6692",
           "#FF6692",
           "#00cc96",
           "#00cc96",
           "#636efa",
           "#00cc96",
           "#FF6692",
           "#EF553B",
           "#00cc96",
           "#00cc96",
           "#00cc96"
          ]
         },
         "name": "",
         "parents": [
          "Total/Bens Industriais",
          "Total/Bens Industriais",
          "Total/Outros",
          "Total/Tecnologia da Informação",
          "Total/Bens Industriais",
          "Total/Comunicações",
          "Total/Consumo não Cíclico",
          "Total/Financeiro",
          "Total/Utilidade Pública",
          "Total",
          "Total/Materiais Básicos",
          "Total/Petróleo, Gás e Biocombustíveis",
          "Total/Bens Industriais",
          "Total/Comunicações",
          "Total/Materiais Básicos",
          "Total/Outros",
          "Total/Petróleo, Gás e Biocombustíveis",
          "Total/Consumo Cíclico",
          "Total",
          "Total",
          "Total",
          "Total",
          "Total",
          "Total",
          "Total",
          "Total",
          "Total/Tecnologia da Informação",
          "Total/Petróleo, Gás e Biocombustíveis",
          "",
          "Total/Materiais Básicos",
          "Total/Consumo Cíclico",
          "Total/Materiais Básicos",
          "Total/Saúde",
          "Total/Tecnologia da Informação",
          "Total/Outros",
          "Total/Materiais Básicos",
          "Total/Saúde",
          "Total/Tecnologia da Informação",
          "Total/Consumo Cíclico",
          "Total/Petróleo, Gás e Biocombustíveis",
          "Total/Outros",
          "Total/Comunicações",
          "Total/Materiais Básicos",
          "Total/Bens Industriais",
          "Total/Financeiro",
          "Total/Bens Industriais",
          "Total/Consumo Cíclico",
          "Total/Consumo não Cíclico",
          "Total/Saúde",
          "Total/Consumo não Cíclico",
          "Total/Consumo Cíclico",
          "Total/Saúde",
          "Total/Saúde",
          "Total/Consumo Cíclico",
          "Total/Outros",
          "Total/Outros",
          "Total/Petróleo, Gás e Biocombustíveis",
          "Total/Saúde",
          "Total/Tecnologia da Informação",
          "Total/Utilidade Pública",
          "Total/Bens Industriais",
          "Total/Comunicações",
          "Total/Consumo Cíclico",
          "Total/Comunicações",
          "Total/Consumo não Cíclico",
          "Total/Saúde",
          "Total/Financeiro",
          "Total/Materiais Básicos",
          "Total/Consumo não Cíclico",
          "Total/Materiais Básicos",
          "Total/Petróleo, Gás e Biocombustíveis",
          "Total/Saúde",
          "Total/Tecnologia da Informação",
          "Total/Utilidade Pública",
          "Total/Financeiro",
          "Total",
          "Total/Utilidade Pública",
          "Total",
          "Total/Petróleo, Gás e Biocombustíveis",
          "Total/Financeiro",
          "Total/Outros",
          "Total/Bens Industriais",
          "Total/Consumo não Cíclico",
          "Total/Utilidade Pública",
          "Total/Consumo Cíclico",
          "Total/Tecnologia da Informação",
          "Total/Saúde",
          "Total/Comunicações",
          "Total/Petróleo, Gás e Biocombustíveis",
          "Total/Tecnologia da Informação",
          "Total/Petróleo, Gás e Biocombustíveis",
          "Total/Outros",
          "Total/Materiais Básicos",
          "Total/Consumo não Cíclico",
          "Total/Financeiro",
          "Total/Financeiro",
          "Total/Consumo não Cíclico",
          "Total/Financeiro",
          "Total/Tecnologia da Informação",
          "Total/Utilidade Pública",
          "Total/Consumo Cíclico",
          "Total/Financeiro",
          "Total/Comunicações",
          "Total/Bens Industriais",
          "Total/Utilidade Pública",
          "Total/Comunicações",
          "Total/Utilidade Pública",
          "Total/Utilidade Pública",
          "Total/Comunicações",
          "Total/Outros",
          "Total/Consumo não Cíclico"
         ],
         "textinfo": "label+value+percent entry",
         "type": "treemap",
         "values": [
          33,
          1,
          0,
          0,
          1,
          0,
          2,
          0,
          1,
          65,
          2,
          0,
          2,
          1,
          8,
          0,
          0,
          1,
          9,
          32,
          69,
          31,
          13,
          13,
          23,
          16,
          0,
          0,
          432,
          1,
          24,
          9,
          1,
          0,
          0,
          0,
          0,
          0,
          0,
          0,
          0,
          0,
          1,
          3,
          0,
          0,
          0,
          0,
          0,
          0,
          0,
          3,
          0,
          0,
          13,
          0,
          2,
          0,
          0,
          7,
          26,
          5,
          61,
          3,
          20,
          0,
          18,
          8,
          9,
          2,
          10,
          19,
          14,
          13,
          29,
          70,
          0,
          91,
          1,
          2,
          0,
          4,
          1,
          0,
          3,
          0,
          0,
          0,
          0,
          2,
          0,
          0,
          0,
          0,
          3,
          5,
          0,
          4,
          0,
          2,
          2,
          8,
          0,
          0,
          38,
          0,
          3,
          1,
          0,
          0,
          0
         ]
        }
       ],
       "layout": {
        "legend": {
         "tracegroupgap": 0
        },
        "margin": {
         "t": 60
        },
        "template": {
         "data": {
          "bar": [
           {
            "error_x": {
             "color": "#f2f5fa"
            },
            "error_y": {
             "color": "#f2f5fa"
            },
            "marker": {
             "line": {
              "color": "rgb(17,17,17)",
              "width": 0.5
             },
             "pattern": {
              "fillmode": "overlay",
              "size": 10,
              "solidity": 0.2
             }
            },
            "type": "bar"
           }
          ],
          "barpolar": [
           {
            "marker": {
             "line": {
              "color": "rgb(17,17,17)",
              "width": 0.5
             },
             "pattern": {
              "fillmode": "overlay",
              "size": 10,
              "solidity": 0.2
             }
            },
            "type": "barpolar"
           }
          ],
          "carpet": [
           {
            "aaxis": {
             "endlinecolor": "#A2B1C6",
             "gridcolor": "#506784",
             "linecolor": "#506784",
             "minorgridcolor": "#506784",
             "startlinecolor": "#A2B1C6"
            },
            "baxis": {
             "endlinecolor": "#A2B1C6",
             "gridcolor": "#506784",
             "linecolor": "#506784",
             "minorgridcolor": "#506784",
             "startlinecolor": "#A2B1C6"
            },
            "type": "carpet"
           }
          ],
          "choropleth": [
           {
            "colorbar": {
             "outlinewidth": 0,
             "ticks": ""
            },
            "type": "choropleth"
           }
          ],
          "contour": [
           {
            "colorbar": {
             "outlinewidth": 0,
             "ticks": ""
            },
            "colorscale": [
             [
              0,
              "#0d0887"
             ],
             [
              0.1111111111111111,
              "#46039f"
             ],
             [
              0.2222222222222222,
              "#7201a8"
             ],
             [
              0.3333333333333333,
              "#9c179e"
             ],
             [
              0.4444444444444444,
              "#bd3786"
             ],
             [
              0.5555555555555556,
              "#d8576b"
             ],
             [
              0.6666666666666666,
              "#ed7953"
             ],
             [
              0.7777777777777778,
              "#fb9f3a"
             ],
             [
              0.8888888888888888,
              "#fdca26"
             ],
             [
              1,
              "#f0f921"
             ]
            ],
            "type": "contour"
           }
          ],
          "contourcarpet": [
           {
            "colorbar": {
             "outlinewidth": 0,
             "ticks": ""
            },
            "type": "contourcarpet"
           }
          ],
          "heatmap": [
           {
            "colorbar": {
             "outlinewidth": 0,
             "ticks": ""
            },
            "colorscale": [
             [
              0,
              "#0d0887"
             ],
             [
              0.1111111111111111,
              "#46039f"
             ],
             [
              0.2222222222222222,
              "#7201a8"
             ],
             [
              0.3333333333333333,
              "#9c179e"
             ],
             [
              0.4444444444444444,
              "#bd3786"
             ],
             [
              0.5555555555555556,
              "#d8576b"
             ],
             [
              0.6666666666666666,
              "#ed7953"
             ],
             [
              0.7777777777777778,
              "#fb9f3a"
             ],
             [
              0.8888888888888888,
              "#fdca26"
             ],
             [
              1,
              "#f0f921"
             ]
            ],
            "type": "heatmap"
           }
          ],
          "heatmapgl": [
           {
            "colorbar": {
             "outlinewidth": 0,
             "ticks": ""
            },
            "colorscale": [
             [
              0,
              "#0d0887"
             ],
             [
              0.1111111111111111,
              "#46039f"
             ],
             [
              0.2222222222222222,
              "#7201a8"
             ],
             [
              0.3333333333333333,
              "#9c179e"
             ],
             [
              0.4444444444444444,
              "#bd3786"
             ],
             [
              0.5555555555555556,
              "#d8576b"
             ],
             [
              0.6666666666666666,
              "#ed7953"
             ],
             [
              0.7777777777777778,
              "#fb9f3a"
             ],
             [
              0.8888888888888888,
              "#fdca26"
             ],
             [
              1,
              "#f0f921"
             ]
            ],
            "type": "heatmapgl"
           }
          ],
          "histogram": [
           {
            "marker": {
             "pattern": {
              "fillmode": "overlay",
              "size": 10,
              "solidity": 0.2
             }
            },
            "type": "histogram"
           }
          ],
          "histogram2d": [
           {
            "colorbar": {
             "outlinewidth": 0,
             "ticks": ""
            },
            "colorscale": [
             [
              0,
              "#0d0887"
             ],
             [
              0.1111111111111111,
              "#46039f"
             ],
             [
              0.2222222222222222,
              "#7201a8"
             ],
             [
              0.3333333333333333,
              "#9c179e"
             ],
             [
              0.4444444444444444,
              "#bd3786"
             ],
             [
              0.5555555555555556,
              "#d8576b"
             ],
             [
              0.6666666666666666,
              "#ed7953"
             ],
             [
              0.7777777777777778,
              "#fb9f3a"
             ],
             [
              0.8888888888888888,
              "#fdca26"
             ],
             [
              1,
              "#f0f921"
             ]
            ],
            "type": "histogram2d"
           }
          ],
          "histogram2dcontour": [
           {
            "colorbar": {
             "outlinewidth": 0,
             "ticks": ""
            },
            "colorscale": [
             [
              0,
              "#0d0887"
             ],
             [
              0.1111111111111111,
              "#46039f"
             ],
             [
              0.2222222222222222,
              "#7201a8"
             ],
             [
              0.3333333333333333,
              "#9c179e"
             ],
             [
              0.4444444444444444,
              "#bd3786"
             ],
             [
              0.5555555555555556,
              "#d8576b"
             ],
             [
              0.6666666666666666,
              "#ed7953"
             ],
             [
              0.7777777777777778,
              "#fb9f3a"
             ],
             [
              0.8888888888888888,
              "#fdca26"
             ],
             [
              1,
              "#f0f921"
             ]
            ],
            "type": "histogram2dcontour"
           }
          ],
          "mesh3d": [
           {
            "colorbar": {
             "outlinewidth": 0,
             "ticks": ""
            },
            "type": "mesh3d"
           }
          ],
          "parcoords": [
           {
            "line": {
             "colorbar": {
              "outlinewidth": 0,
              "ticks": ""
             }
            },
            "type": "parcoords"
           }
          ],
          "pie": [
           {
            "automargin": true,
            "type": "pie"
           }
          ],
          "scatter": [
           {
            "marker": {
             "line": {
              "color": "#283442"
             }
            },
            "type": "scatter"
           }
          ],
          "scatter3d": [
           {
            "line": {
             "colorbar": {
              "outlinewidth": 0,
              "ticks": ""
             }
            },
            "marker": {
             "colorbar": {
              "outlinewidth": 0,
              "ticks": ""
             }
            },
            "type": "scatter3d"
           }
          ],
          "scattercarpet": [
           {
            "marker": {
             "colorbar": {
              "outlinewidth": 0,
              "ticks": ""
             }
            },
            "type": "scattercarpet"
           }
          ],
          "scattergeo": [
           {
            "marker": {
             "colorbar": {
              "outlinewidth": 0,
              "ticks": ""
             }
            },
            "type": "scattergeo"
           }
          ],
          "scattergl": [
           {
            "marker": {
             "line": {
              "color": "#283442"
             }
            },
            "type": "scattergl"
           }
          ],
          "scattermapbox": [
           {
            "marker": {
             "colorbar": {
              "outlinewidth": 0,
              "ticks": ""
             }
            },
            "type": "scattermapbox"
           }
          ],
          "scatterpolar": [
           {
            "marker": {
             "colorbar": {
              "outlinewidth": 0,
              "ticks": ""
             }
            },
            "type": "scatterpolar"
           }
          ],
          "scatterpolargl": [
           {
            "marker": {
             "colorbar": {
              "outlinewidth": 0,
              "ticks": ""
             }
            },
            "type": "scatterpolargl"
           }
          ],
          "scatterternary": [
           {
            "marker": {
             "colorbar": {
              "outlinewidth": 0,
              "ticks": ""
             }
            },
            "type": "scatterternary"
           }
          ],
          "surface": [
           {
            "colorbar": {
             "outlinewidth": 0,
             "ticks": ""
            },
            "colorscale": [
             [
              0,
              "#0d0887"
             ],
             [
              0.1111111111111111,
              "#46039f"
             ],
             [
              0.2222222222222222,
              "#7201a8"
             ],
             [
              0.3333333333333333,
              "#9c179e"
             ],
             [
              0.4444444444444444,
              "#bd3786"
             ],
             [
              0.5555555555555556,
              "#d8576b"
             ],
             [
              0.6666666666666666,
              "#ed7953"
             ],
             [
              0.7777777777777778,
              "#fb9f3a"
             ],
             [
              0.8888888888888888,
              "#fdca26"
             ],
             [
              1,
              "#f0f921"
             ]
            ],
            "type": "surface"
           }
          ],
          "table": [
           {
            "cells": {
             "fill": {
              "color": "#506784"
             },
             "line": {
              "color": "rgb(17,17,17)"
             }
            },
            "header": {
             "fill": {
              "color": "#2a3f5f"
             },
             "line": {
              "color": "rgb(17,17,17)"
             }
            },
            "type": "table"
           }
          ]
         },
         "layout": {
          "annotationdefaults": {
           "arrowcolor": "#f2f5fa",
           "arrowhead": 0,
           "arrowwidth": 1
          },
          "autotypenumbers": "strict",
          "coloraxis": {
           "colorbar": {
            "outlinewidth": 0,
            "ticks": ""
           }
          },
          "colorscale": {
           "diverging": [
            [
             0,
             "#8e0152"
            ],
            [
             0.1,
             "#c51b7d"
            ],
            [
             0.2,
             "#de77ae"
            ],
            [
             0.3,
             "#f1b6da"
            ],
            [
             0.4,
             "#fde0ef"
            ],
            [
             0.5,
             "#f7f7f7"
            ],
            [
             0.6,
             "#e6f5d0"
            ],
            [
             0.7,
             "#b8e186"
            ],
            [
             0.8,
             "#7fbc41"
            ],
            [
             0.9,
             "#4d9221"
            ],
            [
             1,
             "#276419"
            ]
           ],
           "sequential": [
            [
             0,
             "#0d0887"
            ],
            [
             0.1111111111111111,
             "#46039f"
            ],
            [
             0.2222222222222222,
             "#7201a8"
            ],
            [
             0.3333333333333333,
             "#9c179e"
            ],
            [
             0.4444444444444444,
             "#bd3786"
            ],
            [
             0.5555555555555556,
             "#d8576b"
            ],
            [
             0.6666666666666666,
             "#ed7953"
            ],
            [
             0.7777777777777778,
             "#fb9f3a"
            ],
            [
             0.8888888888888888,
             "#fdca26"
            ],
            [
             1,
             "#f0f921"
            ]
           ],
           "sequentialminus": [
            [
             0,
             "#0d0887"
            ],
            [
             0.1111111111111111,
             "#46039f"
            ],
            [
             0.2222222222222222,
             "#7201a8"
            ],
            [
             0.3333333333333333,
             "#9c179e"
            ],
            [
             0.4444444444444444,
             "#bd3786"
            ],
            [
             0.5555555555555556,
             "#d8576b"
            ],
            [
             0.6666666666666666,
             "#ed7953"
            ],
            [
             0.7777777777777778,
             "#fb9f3a"
            ],
            [
             0.8888888888888888,
             "#fdca26"
            ],
            [
             1,
             "#f0f921"
            ]
           ]
          },
          "colorway": [
           "#636efa",
           "#EF553B",
           "#00cc96",
           "#ab63fa",
           "#FFA15A",
           "#19d3f3",
           "#FF6692",
           "#B6E880",
           "#FF97FF",
           "#FECB52"
          ],
          "font": {
           "color": "#f2f5fa"
          },
          "geo": {
           "bgcolor": "rgb(17,17,17)",
           "lakecolor": "rgb(17,17,17)",
           "landcolor": "rgb(17,17,17)",
           "showlakes": true,
           "showland": true,
           "subunitcolor": "#506784"
          },
          "hoverlabel": {
           "align": "left"
          },
          "hovermode": "closest",
          "mapbox": {
           "style": "dark"
          },
          "paper_bgcolor": "rgb(17,17,17)",
          "plot_bgcolor": "rgb(17,17,17)",
          "polar": {
           "angularaxis": {
            "gridcolor": "#506784",
            "linecolor": "#506784",
            "ticks": ""
           },
           "bgcolor": "rgb(17,17,17)",
           "radialaxis": {
            "gridcolor": "#506784",
            "linecolor": "#506784",
            "ticks": ""
           }
          },
          "scene": {
           "xaxis": {
            "backgroundcolor": "rgb(17,17,17)",
            "gridcolor": "#506784",
            "gridwidth": 2,
            "linecolor": "#506784",
            "showbackground": true,
            "ticks": "",
            "zerolinecolor": "#C8D4E3"
           },
           "yaxis": {
            "backgroundcolor": "rgb(17,17,17)",
            "gridcolor": "#506784",
            "gridwidth": 2,
            "linecolor": "#506784",
            "showbackground": true,
            "ticks": "",
            "zerolinecolor": "#C8D4E3"
           },
           "zaxis": {
            "backgroundcolor": "rgb(17,17,17)",
            "gridcolor": "#506784",
            "gridwidth": 2,
            "linecolor": "#506784",
            "showbackground": true,
            "ticks": "",
            "zerolinecolor": "#C8D4E3"
           }
          },
          "shapedefaults": {
           "line": {
            "color": "#f2f5fa"
           }
          },
          "sliderdefaults": {
           "bgcolor": "#C8D4E3",
           "bordercolor": "rgb(17,17,17)",
           "borderwidth": 1,
           "tickwidth": 0
          },
          "ternary": {
           "aaxis": {
            "gridcolor": "#506784",
            "linecolor": "#506784",
            "ticks": ""
           },
           "baxis": {
            "gridcolor": "#506784",
            "linecolor": "#506784",
            "ticks": ""
           },
           "bgcolor": "rgb(17,17,17)",
           "caxis": {
            "gridcolor": "#506784",
            "linecolor": "#506784",
            "ticks": ""
           }
          },
          "title": {
           "x": 0.05
          },
          "updatemenudefaults": {
           "bgcolor": "#506784",
           "borderwidth": 0
          },
          "xaxis": {
           "automargin": true,
           "gridcolor": "#283442",
           "linecolor": "#506784",
           "ticks": "",
           "title": {
            "standoff": 15
           },
           "zerolinecolor": "#283442",
           "zerolinewidth": 2
          },
          "yaxis": {
           "automargin": true,
           "gridcolor": "#283442",
           "linecolor": "#506784",
           "ticks": "",
           "title": {
            "standoff": 15
           },
           "zerolinecolor": "#283442",
           "zerolinewidth": 2
          }
         }
        }
       }
      }
     },
     "metadata": {},
     "output_type": "display_data"
    }
   ],
   "source": [
    "# Plot gráfico da frequência absoluta/relativa das variáveis\n",
    "fig = px.treemap(data_frame=f, \n",
    "                 path=[px.Constant('Total'), 'SETOR', 'LISTAGEM'], \n",
    "                 values='QTD', \n",
    "                 template='plotly_dark',\n",
    "                 color='LISTAGEM')\n",
    "fig.update_traces(hovertemplate=None, hoverinfo='label+value+percent entry', textinfo='label+value+percent entry')\n",
    "fig.show()"
   ]
  },
  {
   "cell_type": "markdown",
   "metadata": {},
   "source": [
    "#### Considerações\n",
    "\n",
    "Podemos ver, através do gráfico de caixa acima, a distribuição quantitativa setorial da b3, que nos demonstra, também, que 4 dos 11 setores possuem uma maior concentração numérica de empresas se comparados aos demais."
   ]
  },
  {
   "cell_type": "markdown",
   "metadata": {},
   "source": [
    "## RESUMO\n",
    "\n"
   ]
  }
 ],
 "metadata": {
  "kernelspec": {
   "display_name": "base",
   "language": "python",
   "name": "python3"
  },
  "language_info": {
   "codemirror_mode": {
    "name": "ipython",
    "version": 3
   },
   "file_extension": ".py",
   "mimetype": "text/x-python",
   "name": "python",
   "nbconvert_exporter": "python",
   "pygments_lexer": "ipython3",
   "version": "3.11.5"
  }
 },
 "nbformat": 4,
 "nbformat_minor": 2
}
