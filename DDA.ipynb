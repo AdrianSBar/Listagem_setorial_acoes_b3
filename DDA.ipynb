{
 "cells": [
  {
   "cell_type": "markdown",
   "metadata": {},
   "source": [
    "# Imports e configurações"
   ]
  },
  {
   "cell_type": "code",
   "execution_count": 1,
   "metadata": {},
   "outputs": [],
   "source": [
    "# Imports\n",
    "import numpy as np\n",
    "import pandas as pd\n",
    "import plotly.express as px\n",
    "\n",
    "\n",
    "\n",
    "# Configurações\n",
    "pd.options.display.max_columns = None\n",
    "pd.options.display.max_rows = None\n",
    "pd.options.display.max_colwidth = None"
   ]
  },
  {
   "cell_type": "markdown",
   "metadata": {},
   "source": [
    "# Leitura"
   ]
  },
  {
   "cell_type": "code",
   "execution_count": 2,
   "metadata": {},
   "outputs": [
    {
     "data": {
      "text/html": [
       "<div>\n",
       "<style scoped>\n",
       "    .dataframe tbody tr th:only-of-type {\n",
       "        vertical-align: middle;\n",
       "    }\n",
       "\n",
       "    .dataframe tbody tr th {\n",
       "        vertical-align: top;\n",
       "    }\n",
       "\n",
       "    .dataframe thead th {\n",
       "        text-align: right;\n",
       "    }\n",
       "</style>\n",
       "<table border=\"1\" class=\"dataframe\">\n",
       "  <thead>\n",
       "    <tr style=\"text-align: right;\">\n",
       "      <th></th>\n",
       "      <th>CÓDIGO</th>\n",
       "      <th>NOME</th>\n",
       "      <th>SETOR ECONÔMICO</th>\n",
       "      <th>SUBSETOR</th>\n",
       "      <th>SEGMENTO</th>\n",
       "      <th>LISTAGEM</th>\n",
       "    </tr>\n",
       "  </thead>\n",
       "  <tbody>\n",
       "    <tr>\n",
       "      <th>0</th>\n",
       "      <td>RRRP</td>\n",
       "      <td>3R PETROLEUM</td>\n",
       "      <td>Petróleo, Gás e Biocombustíveis</td>\n",
       "      <td>Petróleo, Gás e Biocombustíveis</td>\n",
       "      <td>Exploração, Refino e Distribuição</td>\n",
       "      <td>NM</td>\n",
       "    </tr>\n",
       "    <tr>\n",
       "      <th>1</th>\n",
       "      <td>CSAN</td>\n",
       "      <td>COSAN</td>\n",
       "      <td>Petróleo, Gás e Biocombustíveis</td>\n",
       "      <td>Petróleo, Gás e Biocombustíveis</td>\n",
       "      <td>Exploração, Refino e Distribuição</td>\n",
       "      <td>NM</td>\n",
       "    </tr>\n",
       "    <tr>\n",
       "      <th>2</th>\n",
       "      <td>ENAT</td>\n",
       "      <td>ENAUTA PART</td>\n",
       "      <td>Petróleo, Gás e Biocombustíveis</td>\n",
       "      <td>Petróleo, Gás e Biocombustíveis</td>\n",
       "      <td>Exploração, Refino e Distribuição</td>\n",
       "      <td>NM</td>\n",
       "    </tr>\n",
       "    <tr>\n",
       "      <th>3</th>\n",
       "      <td>RPMG</td>\n",
       "      <td>PET MANGUINH</td>\n",
       "      <td>Petróleo, Gás e Biocombustíveis</td>\n",
       "      <td>Petróleo, Gás e Biocombustíveis</td>\n",
       "      <td>Exploração, Refino e Distribuição</td>\n",
       "      <td>Sem classificação</td>\n",
       "    </tr>\n",
       "    <tr>\n",
       "      <th>4</th>\n",
       "      <td>PETR</td>\n",
       "      <td>PETROBRAS</td>\n",
       "      <td>Petróleo, Gás e Biocombustíveis</td>\n",
       "      <td>Petróleo, Gás e Biocombustíveis</td>\n",
       "      <td>Exploração, Refino e Distribuição</td>\n",
       "      <td>N2</td>\n",
       "    </tr>\n",
       "  </tbody>\n",
       "</table>\n",
       "</div>"
      ],
      "text/plain": [
       "  CÓDIGO          NOME                  SETOR ECONÔMICO  \\\n",
       "0   RRRP  3R PETROLEUM  Petróleo, Gás e Biocombustíveis   \n",
       "1   CSAN  COSAN         Petróleo, Gás e Biocombustíveis   \n",
       "2   ENAT   ENAUTA PART  Petróleo, Gás e Biocombustíveis   \n",
       "3   RPMG  PET MANGUINH  Petróleo, Gás e Biocombustíveis   \n",
       "4   PETR  PETROBRAS     Petróleo, Gás e Biocombustíveis   \n",
       "\n",
       "                          SUBSETOR                           SEGMENTO  \\\n",
       "0  Petróleo, Gás e Biocombustíveis  Exploração, Refino e Distribuição   \n",
       "1  Petróleo, Gás e Biocombustíveis  Exploração, Refino e Distribuição   \n",
       "2  Petróleo, Gás e Biocombustíveis  Exploração, Refino e Distribuição   \n",
       "3  Petróleo, Gás e Biocombustíveis  Exploração, Refino e Distribuição   \n",
       "4  Petróleo, Gás e Biocombustíveis  Exploração, Refino e Distribuição   \n",
       "\n",
       "            LISTAGEM  \n",
       "0    NM               \n",
       "1    NM               \n",
       "2    NM               \n",
       "3  Sem classificação  \n",
       "4                 N2  "
      ]
     },
     "execution_count": 2,
     "metadata": {},
     "output_type": "execute_result"
    }
   ],
   "source": [
    "df = pd.read_parquet(path='./tickers_por_setor.parquet')\n",
    "df.head()"
   ]
  },
  {
   "cell_type": "code",
   "execution_count": 3,
   "metadata": {},
   "outputs": [
    {
     "name": "stdout",
     "output_type": "stream",
     "text": [
      "<class 'pandas.core.frame.DataFrame'>\n",
      "RangeIndex: 432 entries, 0 to 431\n",
      "Data columns (total 6 columns):\n",
      " #   Column           Non-Null Count  Dtype   \n",
      "---  ------           --------------  -----   \n",
      " 0   CÓDIGO           432 non-null    object  \n",
      " 1   NOME             432 non-null    object  \n",
      " 2   SETOR ECONÔMICO  432 non-null    category\n",
      " 3   SUBSETOR         432 non-null    category\n",
      " 4   SEGMENTO         432 non-null    category\n",
      " 5   LISTAGEM         432 non-null    category\n",
      "dtypes: category(4), object(2)\n",
      "memory usage: 14.6+ KB\n"
     ]
    }
   ],
   "source": [
    "df.info()"
   ]
  },
  {
   "cell_type": "markdown",
   "metadata": {},
   "source": [
    "# Análise descritiva de cada variável"
   ]
  },
  {
   "cell_type": "code",
   "execution_count": null,
   "metadata": {},
   "outputs": [],
   "source": []
  }
 ],
 "metadata": {
  "kernelspec": {
   "display_name": "base",
   "language": "python",
   "name": "python3"
  },
  "language_info": {
   "codemirror_mode": {
    "name": "ipython",
    "version": 3
   },
   "file_extension": ".py",
   "mimetype": "text/x-python",
   "name": "python",
   "nbconvert_exporter": "python",
   "pygments_lexer": "ipython3",
   "version": "3.11.5"
  }
 },
 "nbformat": 4,
 "nbformat_minor": 2
}
